{
 "cells": [
  {
   "cell_type": "markdown",
   "metadata": {
    "slideshow": {
     "slide_type": "slide"
    }
   },
   "source": [
    "# Лекция 3\n",
    "## Часть 1. Умножение матрицы на вектор и умножение матриц, иерархия памяти и алгоритм Штрассена"
   ]
  },
  {
   "cell_type": "markdown",
   "metadata": {
    "slideshow": {
     "slide_type": "slide"
    }
   },
   "source": [
    "## На прошлой лекции\n",
    "\n",
    "- Ранг матрицы\n",
    "- Малоранговая аппроксимация\n",
    "- SVD и теорема Eckart'a-Young'a\n",
    "- Линейные системы\n",
    "- Ряд Неймана и число обусловленности\n",
    "- Линейная задача наименьших квадратов"
   ]
  },
  {
   "cell_type": "markdown",
   "metadata": {
    "slideshow": {
     "slide_type": "slide"
    }
   },
   "source": [
    "## Примеры пиковой производительности\n",
    "\n",
    "**Flops** –– число операций над числами с плавающей точкой в секунду (floating point operations per second).\n",
    "\n",
    "Гига = $2^{30} \\approx 10^9$,  \n",
    "Тера = $2^{40} \\approx 10^{12}$,      \n",
    "Пета = $2^{50} \\approx 10^{15}$,       \n",
    "Экза = $2^{60} \\approx 10^{18}$ \n",
    "\n",
    "Какова **пиковая производительность**:\n",
    "\n",
    "1. Cовременных CPU?\n",
    "2. Cовремененных GPU?\n",
    "3. Cамого большого суперкомпьютера? "
   ]
  },
  {
   "cell_type": "markdown",
   "metadata": {
    "slideshow": {
     "slide_type": "slide"
    }
   },
   "source": [
    "### Тактовая частота CPU vs. производительность в flops\n",
    "\n",
    "FLOPS = sockets * (cores per socket) * (number of clock cycles per second) * (number of floating point operations per cycle).\n",
    "\n",
    "- Обычно sockets = 1\n",
    "- Число ядер обычно 2 или 4\n",
    "- Число тактов в секунду - это привычная частота\n",
    "- Число операций за один такт зависит от конкретного процессора"
   ]
  },
  {
   "cell_type": "markdown",
   "metadata": {
    "slideshow": {
     "slide_type": "slide"
    }
   },
   "source": [
    "1. Современных CPU (Intel Core i7)   –– 400 Gflops\n",
    "2. Современных GPU (NVidia Titan X) –– 12 Tflops single precision \n",
    "3. [Самый большой суперкомпьютер](https://www.top500.org/lists/2019/06/) –– 200.79 Pflops "
   ]
  },
  {
   "cell_type": "markdown",
   "metadata": {
    "slideshow": {
     "slide_type": "slide"
    }
   },
   "source": [
    "## Умножение матрицы на вектор (matvec)\n",
    "\n",
    "Умножение матрицы $A$ размера $n\\times n$ на вектор $x$ размера $n\\times 1$ ($y=Ax$):\n",
    "\n",
    "$$\n",
    "y_{i} = \\sum_{i=1}^n a_{ij} x_j\n",
    "$$\n",
    "\n",
    "требует $n^2$ умножений и $n(n-1)$ сложений. Таким образом, общая сложность равна $2n^2 - n =$ <font color='red'> $\\mathcal{O}(n^2)$ </font>"
   ]
  },
  {
   "cell_type": "markdown",
   "metadata": {
    "slideshow": {
     "slide_type": "slide"
    }
   },
   "source": [
    "## Насколько плоха сложность $\\mathcal{O}(n^2)$?\n",
    "\n",
    "- Пусть $A$ – матрица попарных гравитационных взаимодействий между планетами в галактике.\n",
    "\n",
    "- Число планет в средней галактике $10^{11}$, поэтому размер этой матрицы $10^{11} \\times 10^{11}$.\n",
    "\n",
    "- Для моделирования эволюции во времени нам нужно умножать эту матрицу на вектор для получения состояния в каждый момент времени.\n",
    "\n",
    "- Лучшие суперкомпьютеры делают примерно $10^{16}$ операций в секунду (flops), поэтому для умножения матрицы на вектор нам потребуется примерно\n",
    "\n",
    "$$\n",
    "\\frac{(10^{11})^2 \\text{ операций}}{10^{16} \\text{ flops}} = 10^6 \\text{ сек.} \\approx 11.5 \\text{ дней} \n",
    "$$\n",
    "\n",
    "для одного шага по времени. Если бы мы могли умножать матрицу на вектор за $\\mathcal{O}(n)$ операций, мы бы получили\n",
    "\n",
    "$$\n",
    "\\frac{10^{11} \\text{ операций}}{10^{16} \\text{ flops}} = 10^{-5} \\text{ сек}.\n",
    "$$\n",
    "\n",
    "Далее посмотрим видео, моделирующее столкновение двух галактик, которое было получено с использованием алгоритма умножения матрицы на вектор со сложностью $\\mathcal{O}(n \\log n)$:"
   ]
  },
  {
   "cell_type": "code",
   "execution_count": null,
   "metadata": {
    "slideshow": {
     "slide_type": "slide"
    }
   },
   "outputs": [],
   "source": [
    "from IPython.display import YouTubeVideo\n",
    "YouTubeVideo(\"7HF5Oy8IMoM\")"
   ]
  },
  {
   "cell_type": "markdown",
   "metadata": {
    "slideshow": {
     "slide_type": "slide"
    }
   },
   "source": [
    "## Можно ли умножить матрицу на вектор быстрее $\\mathcal{O}(n^2)$?\n",
    "\n",
    "- Вообще говоря **НЕТ**. \n",
    "- Это связано с тем, что мы имеем $\\mathcal{O}(n^2)$ входных данных, поэтому для произвольной матрицы быстрее выполнить умножение нельзя.\n",
    "- К счастью, мы можем  умножать матрицу на вектор быстрее <font color='red'>для определённого класса матриц</font>.\n",
    "Например:\n",
    "\n",
    "    * <font color='red'>Малоранговые</font> матрицы (или матрицы с малоранговыми блоками)\n",
    "\n",
    "    * <font color='red'>Разреженные</font> матрицы с $\\mathcal{O}(n)$ ненулевыми элементами\n",
    "\n",
    "    * <font color='red'>Структурированные</font> матрицы:\n",
    "      * Фурье\n",
    "      * Циркулянтные\n",
    "      * Тёплицевы \n",
    "      * Ганкелевы"
   ]
  },
  {
   "cell_type": "markdown",
   "metadata": {
    "slideshow": {
     "slide_type": "slide"
    }
   },
   "source": [
    "## Произведение матриц\n",
    "\n",
    "Рассмотрим композицию линейных операторов:\n",
    "\n",
    "1. $y = Bx$\n",
    "2. $z = Ay$\n",
    "\n",
    "Тогда, $z = Ay =  A B x = C x$, где $C$ – **произведение двух матриц**."
   ]
  },
  {
   "cell_type": "markdown",
   "metadata": {
    "slideshow": {
     "slide_type": "slide"
    }
   },
   "source": [
    "## Классическое определение\n",
    "\n",
    "**Определение**. Произведение матрицы $A$ размера $n \\times k$ и матрицы $B$ размера $k \\times m$ – это матрица $C$ размера $n \\times m$ такая что её элементы записываются как \n",
    "$$\n",
    "   c_{ij} = \\sum_{s=1}^k a_{is} b_{sj}, \\quad i = 1, \\ldots, n, \\quad j = 1, \\ldots, m \n",
    "$$\n",
    "\n",
    "Для $m=k=n$ сложность наивного алгоритма составляет $2n^3 - n^2 =$ <font color='red'>$\\mathcal{O}(n^3)$</font>. "
   ]
  },
  {
   "cell_type": "markdown",
   "metadata": {
    "slideshow": {
     "slide_type": "slide"
    }
   },
   "source": [
    "## Обсуждение\n",
    "\n",
    "- Умножение матриц – это основная операция, необходимая для почти всех эффективных алгоритмов в вычислительной линейной алгебре.\n",
    "\n",
    "- Говоря нестрого, все алгоритмы для решения задач вычислительной линейной алгебры с плотными матрицами сводятся к последовательности умножений матриц.\n",
    "\n",
    "- Повышение эффективности умножения матриц, пропорционально увеличивает эффективность алгоритмов, которые используют эту операцию (то есть почти всех).\n",
    "\n",
    "- Однако реализация быстрых методов для умножения матриц – непростая задача!"
   ]
  },
  {
   "cell_type": "markdown",
   "metadata": {
    "slideshow": {
     "slide_type": "slide"
    }
   },
   "source": [
    "## Эффективная реализация алгоритмов вычисления произведения матриц\n",
    "\n",
    "**Вопрос**: Легко ли вычислить произведение матриц наиболее эфективным образом?"
   ]
  },
  {
   "cell_type": "markdown",
   "metadata": {
    "slideshow": {
     "slide_type": "slide"
    }
   },
   "source": [
    "## Ответ: нет, это не легко!\n",
    "\n",
    "Если вы хотите вычислить произведение как можно быстрее, используя обычный компьютер."
   ]
  },
  {
   "cell_type": "markdown",
   "metadata": {
    "slideshow": {
     "slide_type": "slide"
    }
   },
   "source": [
    "## Демо\n",
    "\n",
    "Сравним время вычисления произведения матриц для следующих реализаций\n",
    "\n",
    "- стандартная функция `np.dot()`\n",
    "- рукописная реализация алгоритма \n",
    "- Numba версия рукописной реализации"
   ]
  },
  {
   "cell_type": "code",
   "execution_count": 2,
   "metadata": {
    "slideshow": {
     "slide_type": "slide"
    }
   },
   "outputs": [],
   "source": [
    "import numpy as np\n",
    "def matmul(a, b):\n",
    "    n = a.shape[0]\n",
    "    k = a.shape[1]\n",
    "    m = b.shape[1]  \n",
    "    c = np.zeros((n, m))\n",
    "    for i in range(n):\n",
    "        for j in range(m):\n",
    "            for s in range(k):\n",
    "                c[i, j] += a[i, s] * b[s, j]\n",
    "                \n",
    "    return c"
   ]
  },
  {
   "cell_type": "code",
   "execution_count": 3,
   "metadata": {
    "slideshow": {
     "slide_type": "slide"
    }
   },
   "outputs": [],
   "source": [
    "import numpy as np\n",
    "from numba import jit # Just-in-time compiler for Python, see http://numba.pydata.org \n",
    "\n",
    "@jit(nopython=True)\n",
    "def numba_matmul(a, b):\n",
    "    n = a.shape[0]\n",
    "    k = a.shape[1]\n",
    "    m = b.shape[1]\n",
    "    c = np.zeros((n, m))\n",
    "    for i in range(n):\n",
    "        for j in range(m):\n",
    "            for s in range(k):\n",
    "                c[i, j] += a[i, s] * b[s, j]\n",
    "    return c"
   ]
  },
  {
   "cell_type": "markdown",
   "metadata": {
    "slideshow": {
     "slide_type": "slide"
    }
   },
   "source": [
    "Теперь давайте сравним время вычислений.\n",
    "\n",
    "Попробуйте угадать ответ :)"
   ]
  },
  {
   "cell_type": "code",
   "execution_count": 4,
   "metadata": {
    "slideshow": {
     "slide_type": "slide"
    }
   },
   "outputs": [
    {
     "name": "stdout",
     "output_type": "stream",
     "text": [
      "536 ms ± 16 ms per loop (mean ± std. dev. of 7 runs, 1 loop each)\n",
      "1.02 ms ± 12.7 µs per loop (mean ± std. dev. of 7 runs, 1 loop each)\n",
      "18.4 µs ± 852 ns per loop (mean ± std. dev. of 7 runs, 100000 loops each)\n"
     ]
    }
   ],
   "source": [
    "n = 100\n",
    "a = np.random.randn(n, n)\n",
    "b = np.random.randn(n, n)\n",
    "\n",
    "%timeit matmul(a, b)\n",
    "%timeit numba_matmul(a, b)\n",
    "%timeit np.dot(a, b)"
   ]
  },
  {
   "cell_type": "markdown",
   "metadata": {
    "slideshow": {
     "slide_type": "slide"
    }
   },
   "source": [
    "Для всех ли размерностей выполнены такие соотношения?"
   ]
  },
  {
   "cell_type": "code",
   "execution_count": 10,
   "metadata": {
    "slideshow": {
     "slide_type": "slide"
    }
   },
   "outputs": [
    {
     "name": "stdout",
     "output_type": "stream",
     "text": [
      "Dimension = 10\n",
      "Dimension = 20\n",
      "Dimension = 30\n",
      "Dimension = 40\n",
      "Dimension = 50\n",
      "Dimension = 60\n",
      "Dimension = 70\n",
      "Dimension = 80\n",
      "Dimension = 90\n",
      "Dimension = 100\n"
     ]
    }
   ],
   "source": [
    "import matplotlib.pyplot as plt\n",
    "%matplotlib inline\n",
    "\n",
    "dim_range = [10*i for i in range(1, 11)]\n",
    "time_range_matmul = []\n",
    "time_range_numba_matmul = []\n",
    "time_range_np = []\n",
    "for n in dim_range:\n",
    "    print(\"Dimension = {}\".format(n))\n",
    "    a = np.random.randn(n, n)\n",
    "    b = np.random.randn(n, n)\n",
    "\n",
    "    t = %timeit -o -q matmul(a, b)\n",
    "    time_range_matmul.append(t.average)\n",
    "    t = %timeit -o -q numba_matmul(a, b)\n",
    "    time_range_numba_matmul.append(t.average)\n",
    "    t = %timeit -o -q np.dot(a, b)\n",
    "    time_range_np.append(t.average)"
   ]
  },
  {
   "cell_type": "code",
   "execution_count": 11,
   "metadata": {
    "slideshow": {
     "slide_type": "slide"
    }
   },
   "outputs": [
    {
     "data": {
      "image/png": "[encoded data removed]",
      "text/plain": [
       "<Figure size 432x288 with 1 Axes>"
      ]
     },
     "metadata": {
      "needs_background": "light"
     },
     "output_type": "display_data"
    }
   ],
   "source": [
    "plt.plot(dim_range, time_range_matmul, label=\"Matmul\")\n",
    "plt.plot(dim_range, time_range_numba_matmul, label=\"Matmul Numba\")\n",
    "plt.plot(dim_range, time_range_np, label=\"Numpy\")\n",
    "plt.legend(fontsize=18)\n",
    "plt.xlabel(\"Dimension\", fontsize=18)\n",
    "plt.ylabel(\"Time\", fontsize=18)\n",
    "plt.yscale(\"log\")"
   ]
  },
  {
   "cell_type": "markdown",
   "metadata": {
    "slideshow": {
     "slide_type": "slide"
    }
   },
   "source": [
    "## Почему наивная реализация такая медленная?\n",
    "\n",
    "Это так по двум причинам:\n",
    "\n",
    "- Она не использует преимуществ быстрой памяти (кэшей) и в целом архитектуру памяти\n",
    "- Она не использует параллелизм (особенно важно для GPU)"
   ]
  },
  {
   "cell_type": "markdown",
   "metadata": {
    "slideshow": {
     "slide_type": "slide"
    }
   },
   "source": [
    "## Архитектура памяти  \n",
    "<img width=80% src=\"./Memory-Hierarchy.jpg\">\n",
    "\n",
    "- \"Быстрой\" памяти мало\n",
    "- \"Медленной\" памяти много"
   ]
  },
  {
   "cell_type": "markdown",
   "metadata": {
    "slideshow": {
     "slide_type": "slide"
    }
   },
   "source": [
    "## Реализация алгоритмов наиболее вычислительно интенсивным образом\n",
    "\n",
    "<font color='red'>**Эффективные реализации для задач NLA**</font> используют блочные версии алгоритмов. <br>\n",
    "\n",
    "Эта идея лежит в основе **[BLAS (Basic Linear Algebra Subroutines)](http://www.netlib.org/blas/)**, написанной на Фортране много лет назад, однако до сих пор не потерявшей актуальность. "
   ]
  },
  {
   "cell_type": "markdown",
   "metadata": {
    "slideshow": {
     "slide_type": "slide"
    }
   },
   "source": [
    "Разделим матрицу на блоки! Для примера рассмотрим разбиение на блочную матрицу размера $2 \\times 2$:\n",
    "\n",
    "$$\n",
    "   A = \\begin{bmatrix}\n",
    "         A_{11} & A_{12} \\\\\n",
    "         A_{21} & A_{22}\n",
    "        \\end{bmatrix}, \\quad B = \\begin{bmatrix}\n",
    "         B_{11} & B_{12} \\\\\n",
    "         B_{21} & B_{22}\n",
    "        \\end{bmatrix}$$\n",
    "\n",
    "Тогда  \n",
    "\n",
    "$$AB = \\begin{bmatrix}A_{11} B_{11} + A_{12} B_{21} & A_{11} B_{12} + A_{12} B_{22} \\\\\n",
    "            A_{21} B_{11} + A_{22} B_{21} & A_{21} B_{12} + A_{22} B_{22}\\end{bmatrix}.$$  "
   ]
  },
  {
   "cell_type": "markdown",
   "metadata": {
    "slideshow": {
     "slide_type": "slide"
    }
   },
   "source": [
    "Если $A_{11}, B_{11}$ и их произведение помещается в кэш-память (которая достигает 12 Мб (L3) в [последнем CPU от Intel](https://en.wikipedia.org/wiki/List_of_Intel_microprocessors#Desktop)), тогда мы только один раз загружаем их в память.  "
   ]
  },
  {
   "cell_type": "markdown",
   "metadata": {
    "slideshow": {
     "slide_type": "slide"
    }
   },
   "source": [
    "## BLAS\n",
    "\n",
    "BLAS имеет три уровня:\n",
    "1. BLAS-1,  операции типа $c = a + b$\n",
    "2. BLAS-2, операции типа умножения матрицы на вектор\n",
    "3. BLAS-3, произведение матриц\n",
    "\n",
    "**Q:** Какова принципиальная разница между ними?"
   ]
  },
  {
   "cell_type": "markdown",
   "metadata": {
    "slideshow": {
     "slide_type": "slide"
    }
   },
   "source": [
    "**A:** основная разница в соотношении между количеством операций и количеством данным!\n",
    "\n",
    "1. BLAS-1: $\\mathcal{O}(n)$ данных, $\\mathcal{O}(n)$ операций\n",
    "2. BLAS-2: $\\mathcal{O}(n^2)$ данных, $\\mathcal{O}(n^2)$ операций\n",
    "3. BLAS-3: $\\mathcal{O}(n^2)$ данных, $\\mathcal{O}(n^3)$ операций"
   ]
  },
  {
   "cell_type": "markdown",
   "metadata": {
    "slideshow": {
     "slide_type": "slide"
    }
   },
   "source": [
    "## Почему BLAS так важна и актуальна?\n",
    "\n",
    "1. Стандартные реализации базовых операций линейной алгебры\n",
    "2. Сохраняются стандартные имена для всех операций, сохраняющиеся в каждой новой реализации (например [ATLAS](https://www.netlib.org/atlas/), [OpenBLAS](https://www.openblas.net/), [MKL](https://software.intel.com/en-us/mkl)). Вы можете вызвать функцию умножения матриц (GEMM) в вашем коде, слинковать его с любой реализацией BLAS, и всё будет корректнро работать\n",
    "3. Позволяет формулировать новые алгоритмы в терминах BLAS операций – гарантии скорости\n",
    "4. Есть обёртки для большинства популярных языков"
   ]
  },
  {
   "cell_type": "markdown",
   "metadata": {
    "slideshow": {
     "slide_type": "slide"
    }
   },
   "source": [
    "## Реализации BLAS и их использование\n",
    "\n",
    "1. [ATLAS](http://math-atlas.sourceforge.net) - Automatic Tuned Linear Algebra Software. Она автоматически адаптируется под архитектуру конкретного компьютера.\n",
    "2. [LAPACK](http://www.netlib.org/lapack/) - Linear Algebra Package. Она выполняет высокоуровневые операции (например матричные разложения), которые опираются на вызовы функций из BLAS.\n",
    "3. [Intel MKL](https://software.intel.com/en-us/intel-mkl) - Math Kernel Library. Эта реализация является оптимизированной версией BLAS и LAPACK для процессоров Intel. Доступна в Anaconda: \n",
    "```\n",
    "conda install mkl\n",
    "```\n",
    "MATLAB использует Intel MKL по умолчанию.\n",
    "\n",
    "4. OpenBLAS – это оптимизированная версия BLAS, основанная на [GotoBLAS](https://en.wikipedia.org/wiki/GotoBLAS). \n",
    "\n",
    "5. PyTorch [поддерживает](https://pytorch.org/docs/stable/torch.html#blas-and-lapack-operations) некоторые вызовы из BLAS и LAPACK\n",
    "\n",
    "6. Для GPU реализован [cuBLAS](https://docs.nvidia.com/cuda/cublas/index.html).\n",
    "\n",
    "Для сравнения производительности OpenBLAS и Intel MKL, см [этот обзор](https://software.intel.com/en-us/articles/performance-comparison-of-openblas-and-intel-math-kernel-library-in-r)\n"
   ]
  },
  {
   "cell_type": "markdown",
   "metadata": {
    "slideshow": {
     "slide_type": "slide"
    }
   },
   "source": [
    "## Более быстрые алгоритмы для умножения матриц\n",
    "\n",
    "Напомним, что сложность алгоритма матричного умножения $\\mathcal{O}(n^3)$ операций.\n",
    "Однако, данных требуется только $\\mathcal{O}(n^2)$.\n",
    "\n",
    "**Q:** возможно ли уменьшить число операций необходимое для умножения матриц до $\\mathcal{O}(n^2)$?"
   ]
  },
  {
   "cell_type": "markdown",
   "metadata": {
    "slideshow": {
     "slide_type": "fragment"
    }
   },
   "source": [
    "**A**: алгоритм умножения матриц со сложностью $\\mathcal{O}(n^2)$ до сих пор не найден."
   ]
  },
  {
   "cell_type": "markdown",
   "metadata": {
    "slideshow": {
     "slide_type": "slide"
    }
   },
   "source": [
    "* Метод Штрассена – $\\mathcal{O}(n^{2.807\\dots})$, иногда используется на практике\n",
    "\n",
    "* [Текущий мировой рекорд](http://arxiv.org/pdf/1401.7714v1.pdf) $\\mathcal{O}(n^{2.37\\dots})$ – большая константа, не практичный, основан на [алгоритме Coppersmith-Winograd'a](https://en.wikipedia.org/wiki/Coppersmith%E2%80%93Winograd_algorithm).\n",
    "\n",
    "Рассмотрим метод Штрассена более детально."
   ]
  },
  {
   "cell_type": "markdown",
   "metadata": {
    "slideshow": {
     "slide_type": "slide"
    }
   },
   "source": [
    "## Наивный алгоритм\n",
    "\n",
    "Пусть $A$ и $B$ две матрицы $2\\times 2$. Наивное умножение $C = AB$\n",
    "\n",
    "$$\n",
    "\\begin{bmatrix} c_{11} & c_{12} \\\\ c_{21} & c_{22}  \\end{bmatrix}  =\n",
    "\\begin{bmatrix} a_{11} & a_{12} \\\\ a_{21} & a_{22}  \\end{bmatrix}\n",
    "\\begin{bmatrix} b_{11} & b_{12} \\\\ b_{21} & b_{22}  \\end{bmatrix} =\n",
    "\\begin{bmatrix} \n",
    "a_{11}b_{11} + a_{12}b_{21} & a_{11}b_{21} + a_{12}b_{22} \\\\ \n",
    "a_{21}b_{11} + a_{22}b_{21} & a_{21}b_{21} + a_{22}b_{22} \n",
    "\\end{bmatrix}\n",
    "$$\n",
    "\n",
    "состоит из $8$ умножений и $4$ сложений."
   ]
  },
  {
   "cell_type": "markdown",
   "metadata": {
    "slideshow": {
     "slide_type": "slide"
    }
   },
   "source": [
    "## Алгоритм Штрассена\n",
    "\n",
    "В работе [Gaussian elimination is not optimal](http://link.springer.com/article/10.1007%2FBF02165411?LI=true) (1969 г.) Штрассен обнаружил, что можно вычислить матрицу $C$, используя 18 сложений и только 7 умножений:\n",
    "\n",
    "$$\n",
    "\\begin{split}\n",
    "c_{11} &= f_1 + f_4 - f_5 + f_7, \\\\\n",
    "c_{12} &= f_3 + f_5, \\\\\n",
    "c_{21} &= f_2 + f_4, \\\\\n",
    "c_{22} &= f_1 - f_2 + f_3 + f_6,\n",
    "\\end{split}\n",
    "$$\n",
    "где\n",
    "\n",
    "$$\n",
    "\\begin{split}\n",
    "f_1 &= (a_{11} + a_{22}) (b_{11} + b_{22}), \\\\\n",
    "f_2 &= (a_{21} + a_{22}) b_{11}, \\\\\n",
    "f_3 &= a_{11} (b_{12} - b_{22}), \\\\\n",
    "f_4 &= a_{22} (b_{21} - b_{11}), \\\\\n",
    "f_5 &= (a_{11} + a_{12}) b_{22}, \\\\\n",
    "f_6 &= (a_{21} - a_{11}) (b_{11} + b_{12}), \\\\\n",
    "f_7 &= (a_{12} - a_{22}) (b_{21} + b_{22}).\n",
    "\\end{split}\n",
    "$$\n",
    "\n",
    "К счастью, эти формулы работают даже если $a_{ij}$ и $b_{ij}$, $i,j=1,2$ – блочные матрицы.\n",
    "\n",
    "Таким образом, схема алгоритма Штрассена такова \n",
    "- Сначала мы  <font color='red'>разбиваем</font> матрицы $A$ и $B$ размера $n\\times n$, $n=2^d$ <font color='red'> на 4 блока</font> размера $\\frac{n}{2}\\times \\frac{n}{2}$\n",
    "- После чего <font color='red'>вычисляем произведения</font> по указанным выше формулам <font color='red'>рекурсивно</font>\n",
    "\n",
    "Это приводит нас к идее **разделяй и властвуй**."
   ]
  },
  {
   "cell_type": "markdown",
   "metadata": {
    "slideshow": {
     "slide_type": "slide"
    }
   },
   "source": [
    "## Сложность метода Штрассена\n",
    "\n",
    "#### Число умножений\n",
    "\n",
    "Обозначим $M(n)$ число умножений необходимых для вычисления произведения двух матриц $n\\times n$ с помощью стратегии \"разделяй и властвуй\".\n",
    "Тогда для наивного алгоритма получаем следующее число умножений\n",
    "\n",
    "$$\n",
    "M_\\text{naive}(n) = 8 M_\\text{naive}\\left(\\frac{n}{2} \\right) = 8^2 M_\\text{naive}\\left(\\frac{n}{4} \\right)\n",
    "= \\dots = 8^{d-1} M(1) = 8^{d} = 8^{\\log_2 n} = n^{\\log_2 8} = n^3\n",
    "$$\n",
    "\n",
    "Итак, даже используя стратегию \"разделяй и властвуй\" мы не улучшаем сложность в $\\mathcal{O}(n^3)$ операций.\n",
    "\n",
    "Вычислим число умножений в методе Штрассена:\n",
    "\n",
    "$$\n",
    "M_\\text{strassen}(n) = 7 M_\\text{strassen}\\left(\\frac{n}{2} \\right) = 7^2 M_\\text{strassen}\\left(\\frac{n}{4} \\right)\n",
    "= \\dots = 7^{d-1} M(1) = 7^{d} = 7^{\\log_2 n} = n^{\\log_2 7}\n",
    "$$"
   ]
  },
  {
   "cell_type": "markdown",
   "metadata": {
    "slideshow": {
     "slide_type": "slide"
    }
   },
   "source": [
    "#### Число сложений\n",
    "\n",
    "Для алгоритма Штрассена:\n",
    "\n",
    "$$\n",
    "A_\\text{strassen}(n) = 7 A_\\text{strassen}\\left( \\frac{n}{2} \\right) + 18 \\left( \\frac{n}{2} \\right)^2\n",
    "$$\n",
    "поскольку на первом уровне нам нужно сложить матрицы размера $\\frac{n}{2}\\times \\frac{n}{2}$ 18 раз, а потом идти на следующий уровень рекурсии для каждого из 7 умножений. \n",
    "Таким образом,\n",
    "\n",
    "<font size=2.0>\n",
    "$$\n",
    "\\begin{split}\n",
    "A_\\text{strassen}(n) =& 7 A_\\text{strassen}\\left( \\frac{n}{2} \\right) + 18 \\left( \\frac{n}{2} \\right)^2 = 7 \\left(7 A_\\text{strassen}\\left( \\frac{n}{4} \\right) + 18 \\left( \\frac{n}{4} \\right)^2 \\right) + 18 \\left( \\frac{n}{2} \\right)^2 =\n",
    "7^2 A_\\text{strassen}\\left( \\frac{n}{4} \\right) + 7\\cdot 18 \\left( \\frac{n}{4} \\right)^2 +  18 \\left( \\frac{n}{2} \\right)^2 = \\\\\n",
    "=& \\dots = 18 \\sum_{k=1}^d 7^{k-1} \\left( \\frac{n}{2^k} \\right)^2 = \\frac{18}{4} n^2 \\sum_{k=1}^d \\left(\\frac{7}{4} \\right)^{k-1} = \\frac{18}{4} n^2 \\frac{\\left(\\frac{7}{4} \\right)^d - 1}{\\frac{7}{4} - 1} = 6 n^2 \\left( \\left(\\frac{7}{4} \\right)^d - 1\\right) \\leqslant 6 n^2 \\left(\\frac{7}{4} \\right)^d = 6 n^{\\log_2 7}\n",
    "\\end{split}\n",
    "$$\n",
    "</font>\n",
    "\n",
    "(так как $4^d = n^2$ и $7^d = n^{\\log_2 7}$).\n",
    "\n",
    "\n",
    "Асимптотику для $A(n)$ также можно найти с помощью следующей [теоремы](https://en.wikipedia.org/wiki/Master_theorem)."
   ]
  },
  {
   "cell_type": "markdown",
   "metadata": {
    "slideshow": {
     "slide_type": "slide"
    }
   },
   "source": [
    "### Итоговая сложность метода Штрассена\n",
    "\n",
    "Итоговая сложность –  $M_\\text{strassen}(n) + A_\\text{strassen}(n)=$ <font color='red'>$7 n^{\\log_2 7}$</font>. \n",
    "Метод Штрассена становится быстрее наивного алгоритма, если\n",
    "\n",
    "$$\n",
    "\\begin{split}\n",
    "2n^3 &> 7 n^{\\log_2 7}, \\\\\n",
    "n &> 667,\n",
    "\\end{split}\n",
    "$$\n",
    "\n",
    "поэтому не самая хорошая идея спускаться на самый низкий уровень рекурсии."
   ]
  },
  {
   "cell_type": "markdown",
   "metadata": {
    "slideshow": {
     "slide_type": "slide"
    }
   },
   "source": [
    "## Является ли метод Штрассена практически важным?\n",
    "\n",
    "- Долгое время считалось, что метод Штрассена имеет только теоретический интерес и плохо применим на практике\n",
    "- Статья [Strassen algorithm reloaded](http://jianyuhuang.com/papers/sc16.pdf)\n",
    "опровергает утверждение, что метод Штрассена не практичен, и предлагает реализацию, которая работает не только на больших матрицах."
   ]
  },
  {
   "cell_type": "markdown",
   "metadata": {
    "slideshow": {
     "slide_type": "slide"
    }
   },
   "source": [
    "## Алгоритм Штрассена и тензорный ранг\n",
    "\n",
    "- Не очень понятно, как Штрасен вывел формулы для вычисления произведения матриц. \n",
    "- Однако сейчас мы увидим, что они не такие искусственные как может показаться.\n",
    "- Чтобы это показать воспользуемся общим подходом под названием **тензорные разложения**.\n",
    "- Под тензором мы понимаем многомерный массив – обобщение матрицы на большие размерности.\n",
    "\n",
    "Давайте пронумеруем элементы в матрице $2\\times 2$ следующим образом \n",
    "\n",
    "$$\n",
    "\\begin{bmatrix} c_{1} & c_{3} \\\\ c_{2} & c_{4}  \\end{bmatrix} =\n",
    "\\begin{bmatrix} a_{1} & a_{3} \\\\ a_{2} & a_{4}  \\end{bmatrix}\n",
    "\\begin{bmatrix} b_{1} & b_{3} \\\\ b_{2} & b_{4}  \\end{bmatrix}=\n",
    "\\begin{bmatrix} \n",
    "a_{1}b_{1} + a_{3}b_{2} & a_{1}b_{3} + a_{3}b_{4} \\\\ \n",
    "a_{2}b_{1} + a_{4}b_{2} & a_{2}b_{3} + a_{4}b_{4} \n",
    "\\end{bmatrix}\n",
    "$$\n",
    "\n",
    "Это можно записать как\n",
    "\n",
    "$$\n",
    "c_k = \\sum_{i=1}^4 \\sum_{j=1}^4 x_{ijk} a_i b_j, \\quad k=1,2,3,4\n",
    "$$"
   ]
  },
  {
   "cell_type": "markdown",
   "metadata": {
    "slideshow": {
     "slide_type": "slide"
    }
   },
   "source": [
    "$x_{ijk}$ – трёхмерный массив, состоящий из нулей и единиц:\n",
    "\n",
    "$$\n",
    "\\begin{split}\n",
    "x_{\\ :,\\ :,\\ 1} = \n",
    "\\begin{pmatrix}\n",
    "1 & 0 & 0 & 0 \\\\\n",
    "0 & 0 & 0 & 0 \\\\\n",
    "0 & 1 & 0 & 0 \\\\\n",
    "0 & 0 & 0 & 0 \\\\\n",
    "\\end{pmatrix}\n",
    "\\quad\n",
    "x_{\\ :,\\ :,\\ 2} = \n",
    "\\begin{pmatrix}\n",
    "0 & 0 & 0 & 0 \\\\\n",
    "1 & 0 & 0 & 0 \\\\\n",
    "0 & 0 & 0 & 0 \\\\\n",
    "0 & 1 & 0 & 0 \\\\\n",
    "\\end{pmatrix} \\\\\n",
    "x_{\\ :,\\ :,\\ 3} = \n",
    "\\begin{pmatrix}\n",
    "0 & 0 & 1 & 0 \\\\\n",
    "0 & 0 & 0 & 0 \\\\\n",
    "0 & 0 & 0 & 1 \\\\\n",
    "0 & 0 & 0 & 0 \\\\\n",
    "\\end{pmatrix}\n",
    "\\quad\n",
    "x_{\\ :,\\ :,\\ 4} = \n",
    "\\begin{pmatrix}\n",
    "0 & 0 & 1 & 0 \\\\\n",
    "0 & 0 & 0 & 0 \\\\\n",
    "0 & 0 & 0 & 0 \\\\\n",
    "0 & 0 & 0 & 1 \\\\\n",
    "\\end{pmatrix}\n",
    "\\end{split}\n",
    "$$"
   ]
  },
  {
   "cell_type": "markdown",
   "metadata": {
    "slideshow": {
     "slide_type": "slide"
    }
   },
   "source": [
    "#### Трилинейное разложение\n",
    "\n",
    "Для получения метода Штрассена сделаем следующий трюк – разложим $x_{ijk}$\n",
    "\n",
    "$$\n",
    "x_{ijk} = \\sum_{\\alpha=1}^r u_{i\\alpha} v_{j\\alpha} w_{k\\alpha}.\n",
    "$$\n",
    "\n",
    "Это разложение называется **трилинейным тензорным разложением** и означает разделение переменных: у нас есть $r$ слагаемых с разделёнными индексами $i$, $j$ и $k$. Число $r$ называется **тензорным рангом**. "
   ]
  },
  {
   "cell_type": "markdown",
   "metadata": {
    "slideshow": {
     "slide_type": "slide"
    }
   },
   "source": [
    "#### Метод Штрассена как трилинейное разложение\n",
    "\n",
    "Теперь у нас есть\n",
    "\n",
    "$$\n",
    "c_k = \\sum_{\\alpha=1}^r w_{k\\alpha} \\left(\\sum_{i=1}^4  u_{i\\alpha} a_i \\right) \\left( \\sum_{j=1}^4 v_{j\\alpha} b_j\\right), \\quad k=1,2,3,4.\n",
    "$$\n",
    "\n",
    "Умножение на $u_{i\\alpha}$ или $v_{j\\alpha}$ или $w_{k\\alpha}$ не требует рекурсии, поскольку $u, v$ и $w$ известные предвычисленные матрицы. \n",
    "Поэтому у нас есть только $r$ умножений $\\left(\\sum_{i=1}^4  u_{i\\alpha} a_i \\right)$ $\\left( \\sum_{j=1}^4 v_{j\\alpha} b_j\\right)$, где оба множителя зависят от входных данных.\n",
    " \n",
    "Как вы можете догадаться ранг тензора $x_{ijk}$ равен 7, что приводит нас к методу Штрассена с 7 умножениями!"
   ]
  },
  {
   "cell_type": "markdown",
   "metadata": {
    "slideshow": {
     "slide_type": "slide"
    }
   },
   "source": [
    "## Резюме первой части лекции\n",
    "\n",
    "- Умножение матриц – одна из основных операций в вычислительной линейной алгебре. Если необходима высокая эффективность, необходимо использовать блочные алгоритмы\n",
    "- Это связано с оптимальным использованием иерархии памяти\n",
    "- Концепция блочных алгоритмов\n",
    "- Алгоритм Штрассена и трилинейные формы"
   ]
  },
  {
   "cell_type": "markdown",
   "metadata": {
    "slideshow": {
     "slide_type": "slide"
    }
   },
   "source": [
    "## Часть 2. Матричные разложения и методы их вычисления"
   ]
  },
  {
   "cell_type": "markdown",
   "metadata": {
    "slideshow": {
     "slide_type": "slide"
    }
   },
   "source": [
    "## О каких разложениях пойдёт речь далее\n",
    "\n",
    "- LU разложение (краткое напоминание)\n",
    "- QR разложение\n",
    "- Разложение Шура\n",
    "- Несколько слов про вычисление SVD – содержательно на следующей лекции"
   ]
  },
  {
   "cell_type": "markdown",
   "metadata": {
    "slideshow": {
     "slide_type": "slide"
    }
   },
   "source": [
    "## Общая концепция матричных разложений\n",
    "\n",
    "Вычислительная линейная алгебра занимается решением следующих задач:\n",
    "\n",
    "- Решение линейных систем $Ax = f$\n",
    "- Вычисление собственных значений и векторов\n",
    "- Вычисление сингулярных значений и векторов \n",
    "- Вычисление обратных матриц и иногда детерминантов\n",
    "- Вычисление **матричных функций** таких как $\\exp(A), \\cos(A)$ (это не поэлементные функции!)\n",
    "\n",
    "Для решения таких задач мы представляемм матрицу в виде суммы и/или произведения матриц **более простой структуры**, таких что мы можем решить эти задачи быстрее и/или более устойчивым образом.\n",
    "\n",
    "Что такое **более простая структура**?"
   ]
  },
  {
   "cell_type": "markdown",
   "metadata": {
    "slideshow": {
     "slide_type": "slide"
    }
   },
   "source": [
    "## Матрицы простой структуры\n",
    "\n",
    "Мы уже упоминали некоторые классы структурированных матриц. \n",
    "\n",
    "Для плотных матриц это следующие матрицы\n",
    "\n",
    "- **унитарные матрицы**\n",
    "- **нижне- верхнетреугольные матрицы** \n",
    "- **диагональные матрицы**"
   ]
  },
  {
   "cell_type": "markdown",
   "metadata": {
    "slideshow": {
     "slide_type": "slide"
    }
   },
   "source": [
    "## PLU разложение\n",
    "\n",
    "Любая невырожденная матрица моджет быть разложена как\n",
    "\n",
    "$$\n",
    "A = P L U,\n",
    "$$\n",
    "\n",
    "где $P$ – матрица перестановки, $L$ – **нижнетреугольная матрица**, $U$ – **верхнетреугольная матрица**.\n",
    "\n",
    "**Основная цель** вычисления LU разложения – это решение систем линейных уравнений, потому что\n",
    "\n",
    "$$\n",
    "    A^{-1} f = (L U)^{-1} f = U^{-1} L^{-1} f, \n",
    "$$\n",
    "\n",
    "что сводится к решению двух линейных систем \n",
    "\n",
    "$$\n",
    "     L y = f,  \\quad U x = y\n",
    "$$\n",
    "\n",
    "с нижне- и верхнетреугольной матрицей, соответственно. "
   ]
  },
  {
   "cell_type": "markdown",
   "metadata": {
    "slideshow": {
     "slide_type": "slide"
    }
   },
   "source": [
    "## Положительно определённые матрицы и разложение Холецкого\n",
    "\n",
    "Если матрица эрмитова и положительно определена, то есть\n",
    "\n",
    "$$\n",
    "A = A^*, \\quad (Ax, x) > 0, \\quad x \\ne 0,\n",
    "$$\n",
    "\n",
    "тогда она может быть представлена в виде\n",
    "\n",
    "$$\n",
    "A = RR^*,\n",
    "$$\n",
    "\n",
    "где $R$ – нижнетреугольная матрица.\n",
    "\n",
    "Это нам понадобится для QR разложения."
   ]
  },
  {
   "cell_type": "markdown",
   "metadata": {
    "slideshow": {
     "slide_type": "slide"
    }
   },
   "source": [
    "## QR разложение\n",
    "\n",
    "Как следует из названия, это представление матрицы в виде произведения\n",
    "\n",
    "$$\n",
    "    A = Q R, \n",
    "$$\n",
    "\n",
    "где $Q$ – матрица с **ортогональными столбцами** и $R$ – **верхнетреугольная**.  \n",
    "\n",
    "Размеры матриц: $Q$ – $n \\times m$, $R$ – $m \\times m$, если $n\\geq m$.\n",
    "\n",
    "QR разложение определено для любой **прямоугольной матрицы**."
   ]
  },
  {
   "cell_type": "markdown",
   "metadata": {
    "slideshow": {
     "slide_type": "slide"
    }
   },
   "source": [
    "## Приложения QR разложения\n",
    "\n",
    "Это разложение играет ключевую роль при решении многих задач, например:\n",
    "- Получение ортогонального базиса в линейном пространстве\n",
    "- Используется для препроцессинга при вычислении SVD\n",
    "- QR алгоритм для вычисления собственных векторов и собственных значений ([один из 10 самых важных алгоритмов ХХ века](https://archive.siam.org/pdf/news/637.pdf)) основан на вычислении QR разложения\n",
    "- Решение переопределённых систем линейных уравнений"
   ]
  },
  {
   "cell_type": "markdown",
   "metadata": {
    "slideshow": {
     "slide_type": "slide"
    }
   },
   "source": [
    "## QR разложение и линейная задача наименьших квадратов: напоминание\n",
    "\n",
    "Пусть нам надо решить переопределённую систему $Ax = f$ в смысле наименьших квадратов невязок  \n",
    "\n",
    "$$\n",
    "\\Vert A x - f \\Vert_2 \\rightarrow \\min_x,\n",
    "$$\n",
    "\n",
    "где $A$ – $n \\times m$ и $n \\geq m$.\n",
    "\n",
    "Тогда мы разложим её \n",
    "\n",
    "$$\n",
    "A = Q R,\n",
    "$$\n",
    "\n",
    "и используем выражение для псевдообратной матрицы в случае матрицы полного ранга:\n",
    "\n",
    "$$\n",
    "x = A^{\\dagger}b = (A^*A)^{-1}A^*b = ((QR)^*(QR))^{-1}(QR)^*b = (R^*Q^*QR)^{-1}R^*Q^*b = R^{-1}Q^*b. \n",
    "$$\n",
    "\n",
    "тогда $x$ может быть найдён из решения следующей системы\n",
    "\n",
    "$$R x = Q^*b$$\n",
    "\n",
    "Заметим, что это квадратная система линейных уравнений с верхнетреугольной матрицей. Какова сложность решения такой системы?"
   ]
  },
  {
   "cell_type": "markdown",
   "metadata": {
    "slideshow": {
     "slide_type": "slide"
    }
   },
   "source": [
    "## Существование QR разложения\n",
    "\n",
    "**Теорема.**\n",
    "\n",
    "Каждая матрица $n \\times m$ может быть представлена в виде QR разложения. \n",
    "\n",
    "\n",
    "Существует несколько способов доказательства и вычисления:\n",
    "\n",
    "- Теоретический: используя матрицу Грама и разложение Холецкого\n",
    "- Геометрический: используя ортогонализацию Грама-Шмидта\n",
    "- Практический: используя преобразования Гивенса/Хаусхолдера"
   ]
  },
  {
   "cell_type": "markdown",
   "metadata": {
    "slideshow": {
     "slide_type": "slide"
    }
   },
   "source": [
    "### Доказательство с использованием разложения Холецкого\n",
    "\n",
    "Если у нас есть разложение\n",
    "\n",
    "$$A = QR,$$\n",
    "\n",
    "тогда $A^* A = ( Q R)^* (QR)  = R^* (Q^* Q) R = R^* R$, матрица $A^* A$ называется **матрицей Грама**, и её элементы – скалярные произведения столбцов матрицы $A$.  "
   ]
  },
  {
   "cell_type": "markdown",
   "metadata": {
    "slideshow": {
     "slide_type": "slide"
    }
   },
   "source": [
    "### Случай матрицы полного ранга\n",
    "\n",
    "Пусть $A$ имеет **полный столбцовый ранг**. Тогда легко показать, что $A^* A$ положительно определена:\n",
    "\n",
    "$$\n",
    "   (A^* A y, y) = (Ay, Ay) = \\Vert Ay \\Vert^2  > 0, \\quad y\\not = 0.\n",
    "$$\n",
    "\n",
    "Поэтому, $A^* A = R^* R$ всегда существует.\n",
    "\n",
    "Тогда матрица $A R^{-1}$ унитарна:  \n",
    "\n",
    "$$\n",
    "   (A R^{-1})^* (AR^{-1})= R^{-*} A^* A R^{-1} = R^{-*} R^* R R^{-1} = I.\n",
    "$$\n"
   ]
  },
  {
   "cell_type": "markdown",
   "metadata": {
    "slideshow": {
     "slide_type": "slide"
    }
   },
   "source": [
    "### Случай матрицы неполного ранга\n",
    "\n",
    "- QR разложение по-прежнему существует.\n",
    "\n",
    "- Для любой матрицы неполного ранга существует последовательность матриц полного ранга $A_k$ такая что $A_k \\rightarrow A$ (почему?).\n",
    "\n",
    "- Каждая $A_k$ может быть разложена $A_k = Q_k R_k$. \n",
    "\n",
    "- Множество унитарных матриц образует компакт, таким образом найдётся сходящаяся подпоследовательность $Q_{n_k} \\rightarrow Q$ (почему?), и $Q^* A_k \\rightarrow Q^* A = R$, которая верхнетреугольная."
   ]
  },
  {
   "cell_type": "markdown",
   "metadata": {
    "slideshow": {
     "slide_type": "slide"
    }
   },
   "source": [
    "## Устойчивость вычисления QR разложения с помощью разложения Холецкого \n",
    "\n",
    "Итак, простейший способ вычисления QR разложения следующий\n",
    "\n",
    "$$A^* A = R^* R,$$\n",
    "\n",
    "и\n",
    "\n",
    "$$Q = A R^{-1}.$$\n",
    "\n",
    "Это **плохая идея** с точки зрения устойчивости. Покажем, почему это так."
   ]
  },
  {
   "cell_type": "code",
   "execution_count": 8,
   "metadata": {
    "slideshow": {
     "slide_type": "slide"
    }
   },
   "outputs": [
    {
     "name": "stdout",
     "output_type": "stream",
     "text": [
      "Built-in QR orth 5.061169633223855e-16\n",
      "Via Cholesky: 3.2416882870748012e-12\n"
     ]
    }
   ],
   "source": [
    "import numpy as np\n",
    "n = 50\n",
    "r = 4\n",
    "a = [[1.0 / (i + j + 0.5) for i in range(r)] for j in range(n)]\n",
    "a = np.array(a)\n",
    "q, Rmat = np.linalg.qr(a)\n",
    "e = np.eye(r)\n",
    "print('Built-in QR orth', np.linalg.norm(np.dot(q.T, q) - e))\n",
    "gram_matrix = a.T.dot(a)\n",
    "Rmat1 = np.linalg.cholesky(gram_matrix)\n",
    "q1 = np.dot(a, np.linalg.inv(Rmat1.T))\n",
    "print('Via Cholesky:', np.linalg.norm(np.dot(q1.T, q1) - e))"
   ]
  },
  {
   "cell_type": "markdown",
   "metadata": {
    "slideshow": {
     "slide_type": "slide"
    }
   },
   "source": [
    "## Второй способ: ортогонализация Грама-Шмидта\n",
    "\n",
    "- QR разложение – это способ записи процесса ортогонализации Грама-Шмидта\n",
    "- Для данного набора векторов $a_1, \\ldots, a_m$ мы хотим найти ортонормированный базис $q_1, \\ldots, q_m$ такой чтобы каждый вектор $a_i$ представлялся как линейная комбинация векторов из базиса.  \n",
    "\n",
    "**Метод Грама-Шмидта:**\n",
    "1. $q_1 := a_1/\\Vert a_1 \\Vert$\n",
    "2. $q_2 := a_2 - (a_2, q_1) q_1, \\quad q_2 := q_2/\\Vert q_2 \\Vert$\n",
    "3. $q_3 := a_3 - (a_3, q_1) q_1 - (a_3, q_2) q_2, \\quad q_3 := q_3/\\Vert q_3 \\Vert$\n",
    "4. И так далее  \n",
    "\n",
    "Заметим, что преобразование из $A$ в $Q$ имеет треугольную структуру, поскольку мы вычитаем из $k$-го вектора только предыдущие. Это следует из того, что произведение треугольных матриц – это треугольная матрица."
   ]
  },
  {
   "cell_type": "markdown",
   "metadata": {
    "slideshow": {
     "slide_type": "slide"
    }
   },
   "source": [
    "## Модифицированный метод Грама-Шмидта\n",
    "\n",
    "- Метод Грама-Шмидта может быть очень неустойчивым (то есть генерировать векторы, которая не являются ортогональными, особенно если $q_k$ малой нормы).  \n",
    "Это называется **потеря ортогональности**.  \n",
    "\n",
    "- Этот недостаток метода Грама-Шмидта исправляется с помощью **модифицированного метода Грама-Шмидта**. Вместо вычисления\n",
    "\n",
    "$$q_k := a_k - (a_k, q_1) q_1 - \\ldots - (a_k, q_{k-1}) q_{k-1}$$\n",
    "\n",
    "мы будем вычислять это выражение шаг за шагом. Сначала присвоим $q_k := a_k$, затем последовательно ортогонализуем:\n",
    "\n",
    "$$\n",
    "   q_k := q_k - (q_k, q_1)q_1, \\quad q_k := q_{k} - (q_k,q_2)q_2, \\ldots\n",
    "$$\n",
    "\n",
    "- В точной арифметике, это одинаковые алгоритмы. В неточной арифметике они абсолютно разные!\n",
    "\n",
    "- Заметим, что сложность по-прежнему $\\mathcal{O}(nm^2)$ операций"
   ]
  },
  {
   "cell_type": "markdown",
   "metadata": {
    "slideshow": {
     "slide_type": "slide"
    }
   },
   "source": [
    "## QR разложение: почти практический способ\n",
    "\n",
    "Если $A = QR$, тогда  \n",
    "\n",
    "$$\n",
    "R = Q^* A,\n",
    "$$\n",
    "\n",
    "и нам нужно найти такую ортогональную матрицу $Q$, которая преобразует данную матрицу $A$ в верхнетреугольную.  \n",
    "Для простоты мы будем смотреть на матрицы $n \\times n$ такие что\n",
    "\n",
    "$$ Q^* A = \\begin{bmatrix} * & * & *  \\\\ 0 & * & * \\\\ 0 & 0 & * \\\\ & 0_{(n-m) \\times m} \\end{bmatrix} $$"
   ]
  },
  {
   "cell_type": "markdown",
   "metadata": {
    "slideshow": {
     "slide_type": "slide"
    }
   },
   "source": [
    "Будем приводить матрицу к такому виду столбец за столбцом.\n",
    "\n",
    "Сначала найдём такую матрицу Хаусхолдера $H_1 = (I - 2 uu^{\\top})$ что \n",
    "\n",
    "$$ H_1 A = \\begin{bmatrix} * & * & * \\\\ 0 & * & * \\\\ 0 & * & * \\\\ 0 & * & * \\end{bmatrix} $$"
   ]
  },
  {
   "cell_type": "markdown",
   "metadata": {
    "slideshow": {
     "slide_type": "slide"
    }
   },
   "source": [
    "Затем\n",
    "\n",
    "$$ H_2 H_1 A = \\begin{bmatrix} * & * & * \\\\ 0 & * & * \\\\ 0 & 0 & * \\\\ 0 & 0 & * \\end{bmatrix}, $$\n",
    "\n",
    "где\n",
    "\n",
    "$$ H_2 = \\begin{bmatrix} 1 & 0 \\\\ 0 & H'_2, \\end{bmatrix} $$\n",
    "\n",
    "и $H'_2$ матрица Хаусхолдера $3 \\times 3$."
   ]
  },
  {
   "cell_type": "markdown",
   "metadata": {
    "slideshow": {
     "slide_type": "slide"
    }
   },
   "source": [
    "И наконец, \n",
    "\n",
    "$$ H_3 H_2 H_1 A = \\begin{bmatrix} * & * & * \\\\ 0 & * & * \\\\ 0 & 0 & * \\\\ 0 & 0 & 0 \\end{bmatrix}, $$\n",
    "\n",
    "где $H_3=\\begin{bmatrix}I_2 & \\\\ & {\\widetilde H}_3 \\end{bmatrix}$ такая что\n",
    "\n",
    "$$ \n",
    "{\\widetilde H}_3 \\begin{bmatrix} \\boldsymbol{\\times}\\\\ \\boldsymbol{\\times} \\\\ \\boldsymbol{\\times}  \\end{bmatrix} = \n",
    "\\begin{bmatrix} \\times \\\\ 0 \\\\ 0  \\end{bmatrix}.\n",
    "$$\n",
    "\n",
    "Попробуйте самостоятельно реализовать такой алгоритм, это просто!"
   ]
  },
  {
   "cell_type": "markdown",
   "metadata": {
    "slideshow": {
     "slide_type": "slide"
    }
   },
   "source": [
    "### Получение QR разложения\n",
    "\n",
    "Так как \n",
    "\n",
    "$$ H_3H_2H_1A = HA = R,$$\n",
    "\n",
    "где $H$ – унитарная матрица, то\n",
    "\n",
    "$$ A = H^*R. $$\n",
    "\n",
    "Таким образом $Q = H^*$."
   ]
  },
  {
   "cell_type": "markdown",
   "metadata": {
    "slideshow": {
     "slide_type": "slide"
    }
   },
   "source": [
    "## QR разложение: практический способ\n",
    "\n",
    "- Поскольку мы работаем с плотной матрицей, то на практике нам нужен алгоритм, оперирующий блоками (почему?).  \n",
    "\n",
    "- Вместо использования преобразования Хаусхолдера, мы будем использовать **блочное преобразование Хаусхолдера** вида \n",
    "\n",
    "$$H = (I - 2UU^*), $$\n",
    "\n",
    "где $U^* U = I$.\n",
    "\n",
    "- Это позволяет использовать BLAS-3 операции."
   ]
  },
  {
   "cell_type": "markdown",
   "metadata": {
    "slideshow": {
     "slide_type": "slide"
    }
   },
   "source": [
    "## QR разложение: практический способ - 2\n",
    "\n",
    "Аналогично преобразованию Хаусхолдера для вычисления QR разложения можно использовать преобразования Гивенса\n",
    "\n",
    "$$\\begin{bmatrix} \\times & \\times & \\times \\\\ \\bf{*} & \\times & \\times \\\\ \\bf{*} & \\times & \\times \\end{bmatrix} \\to \\begin{bmatrix} * & \\times & \\times \\\\ * & \\times & \\times \\\\ 0 & \\times & \\times \\end{bmatrix} \\to \\begin{bmatrix} \\times & \\times & \\times \\\\ 0 & * & \\times \\\\ 0 & * & \\times \\end{bmatrix} \\to \\begin{bmatrix} \\times & \\times & \\times \\\\ 0 & \\times & \\times \\\\ 0 & 0 & \\times \\end{bmatrix} $$"
   ]
  },
  {
   "cell_type": "markdown",
   "metadata": {
    "slideshow": {
     "slide_type": "slide"
    }
   },
   "source": [
    "## Преобразование Гивенса vs. преобразование Хаусхолдера\n",
    "\n",
    "- Матрицы Хаусхолдера полезны для плотных матриц (сложность примерно в два раза меньше), в которых необходимо занулить большое число элементов.\n",
    "- Вращения Гивенса больше подходят для работы с разреженными матрицами или параллельными вычислениями, поскольку они зануляют только один элемент каждым действием."
   ]
  },
  {
   "cell_type": "markdown",
   "metadata": {
    "slideshow": {
     "slide_type": "slide"
    }
   },
   "source": [
    "## Анонс следующей лекции (14 октября)\n",
    "\n",
    "- Собственные векторы и собственные значения\n",
    "- Какие задачи сводятся к их вычислению\n",
    "- Степенной метод\n",
    "- Теорема Гершгорина\n",
    "- Разложение Шура и алгоритм его вычисления"
   ]
  },
  {
   "cell_type": "markdown",
   "metadata": {
    "slideshow": {
     "slide_type": "slide"
    }
   },
   "source": [
    "## На следующей неделе будет два семинара!"
   ]
  },
  {
   "cell_type": "code",
   "execution_count": null,
   "metadata": {
    "slideshow": {
     "slide_type": "skip"
    }
   },
   "outputs": [],
   "source": [
    "from IPython.core.display import HTML\n",
    "def css_styling():\n",
    "    styles = open(\"../styles/custom.css\", \"r\").read()\n",
    "    return HTML(styles)\n",
    "css_styling()"
   ]
  }
 ],
 "metadata": {
  "celltoolbar": "Slideshow",
  "kernelspec": {
   "display_name": "Python 3",
   "language": "python",
   "name": "python3"
  },
  "language_info": {
   "codemirror_mode": {
    "name": "ipython",
    "version": 3
   },
   "file_extension": ".py",
   "mimetype": "text/x-python",
   "name": "python",
   "nbconvert_exporter": "python",
   "pygments_lexer": "ipython3",
   "version": "3.7.3"
  }
 },
 "nbformat": 4,
 "nbformat_minor": 2
}
