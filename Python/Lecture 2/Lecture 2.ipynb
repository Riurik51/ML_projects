{
 "cells": [
  {
   "cell_type": "markdown",
   "metadata": {},
   "source": [
    "# Добрый вечерочек!"
   ]
  },
  {
   "cell_type": "markdown",
   "metadata": {
    "toc": true
   },
   "source": [
    "<h1>План лекции<span class=\"tocSkip\"></span></h1>\n",
    "<div class=\"toc\"><ul class=\"toc-item\"><li><span><a href=\"#Структуры-данных-в-Python\" data-toc-modified-id=\"Структуры-данных-в-Python-1\"><span class=\"toc-item-num\">1&nbsp;&nbsp;</span>Структуры данных в Python</a></span><ul class=\"toc-item\"><li><span><a href=\"#List-(список)\" data-toc-modified-id=\"List-(список)-1.1\"><span class=\"toc-item-num\">1.1&nbsp;&nbsp;</span>List (список)</a></span><ul class=\"toc-item\"><li><span><a href=\"#Сравнение-списков\" data-toc-modified-id=\"Сравнение-списков-1.1.1\"><span class=\"toc-item-num\">1.1.1&nbsp;&nbsp;</span>Сравнение списков</a></span></li><li><span><a href=\"#Индексация-списков\" data-toc-modified-id=\"Индексация-списков-1.1.2\"><span class=\"toc-item-num\">1.1.2&nbsp;&nbsp;</span>Индексация списков</a></span></li><li><span><a href=\"#Срезы\" data-toc-modified-id=\"Срезы-1.1.3\"><span class=\"toc-item-num\">1.1.3&nbsp;&nbsp;</span>Срезы</a></span></li><li><span><a href=\"#Изменение-списков\" data-toc-modified-id=\"Изменение-списков-1.1.4\"><span class=\"toc-item-num\">1.1.4&nbsp;&nbsp;</span>Изменение списков</a></span></li><li><span><a href=\"#Операции-над-списками\" data-toc-modified-id=\"Операции-над-списками-1.1.5\"><span class=\"toc-item-num\">1.1.5&nbsp;&nbsp;</span>Операции над списками</a></span><ul class=\"toc-item\"><li><span><a href=\"#in/not-in\" data-toc-modified-id=\"in/not-in-1.1.5.1\"><span class=\"toc-item-num\">1.1.5.1&nbsp;&nbsp;</span>in/not in</a></span></li><li><span><a href=\"#len/min/max\" data-toc-modified-id=\"len/min/max-1.1.5.2\"><span class=\"toc-item-num\">1.1.5.2&nbsp;&nbsp;</span>len/min/max</a></span></li><li><span><a href=\"#index/count\" data-toc-modified-id=\"index/count-1.1.5.3\"><span class=\"toc-item-num\">1.1.5.3&nbsp;&nbsp;</span>index/count</a></span></li><li><span><a href=\"#*/+\" data-toc-modified-id=\"*/+-1.1.5.4\"><span class=\"toc-item-num\">1.1.5.4&nbsp;&nbsp;</span>*/+</a></span></li><li><span><a href=\"#append\" data-toc-modified-id=\"append-1.1.5.5\"><span class=\"toc-item-num\">1.1.5.5&nbsp;&nbsp;</span>append</a></span></li><li><span><a href=\"#insert\" data-toc-modified-id=\"insert-1.1.5.6\"><span class=\"toc-item-num\">1.1.5.6&nbsp;&nbsp;</span>insert</a></span></li><li><span><a href=\"#remove\" data-toc-modified-id=\"remove-1.1.5.7\"><span class=\"toc-item-num\">1.1.5.7&nbsp;&nbsp;</span>remove</a></span></li><li><span><a href=\"#pop\" data-toc-modified-id=\"pop-1.1.5.8\"><span class=\"toc-item-num\">1.1.5.8&nbsp;&nbsp;</span>pop</a></span></li></ul></li></ul></li><li><span><a href=\"#Tuple-(кортеж)\" data-toc-modified-id=\"Tuple-(кортеж)-1.2\"><span class=\"toc-item-num\">1.2&nbsp;&nbsp;</span>Tuple (кортеж)</a></span><ul class=\"toc-item\"><li><span><a href=\"#Запаковка-и-распаковка-(packing-and-unpacking)\" data-toc-modified-id=\"Запаковка-и-распаковка-(packing-and-unpacking)-1.2.1\"><span class=\"toc-item-num\">1.2.1&nbsp;&nbsp;</span>Запаковка и распаковка (packing and unpacking)</a></span><ul class=\"toc-item\"><li><span><a href=\"#Запаковка-(packing)\" data-toc-modified-id=\"Запаковка-(packing)-1.2.1.1\"><span class=\"toc-item-num\">1.2.1.1&nbsp;&nbsp;</span>Запаковка (packing)</a></span></li><li><span><a href=\"#Распаковка-(unpacking)\" data-toc-modified-id=\"Распаковка-(unpacking)-1.2.1.2\"><span class=\"toc-item-num\">1.2.1.2&nbsp;&nbsp;</span>Распаковка (unpacking)</a></span></li></ul></li></ul></li><li><span><a href=\"#Dictionary-(словарь)\" data-toc-modified-id=\"Dictionary-(словарь)-1.3\"><span class=\"toc-item-num\">1.3&nbsp;&nbsp;</span>Dictionary (словарь)</a></span><ul class=\"toc-item\"><li><span><a href=\"#Доступ-к-элементам\" data-toc-modified-id=\"Доступ-к-элементам-1.3.1\"><span class=\"toc-item-num\">1.3.1&nbsp;&nbsp;</span>Доступ к элементам</a></span></li><li><span><a href=\"#Добавление-нового-элемента\" data-toc-modified-id=\"Добавление-нового-элемента-1.3.2\"><span class=\"toc-item-num\">1.3.2&nbsp;&nbsp;</span>Добавление нового элемента</a></span></li><li><span><a href=\"#Удаление-элемента\" data-toc-modified-id=\"Удаление-элемента-1.3.3\"><span class=\"toc-item-num\">1.3.3&nbsp;&nbsp;</span>Удаление элемента</a></span></li><li><span><a href=\"#Ограничения-на-ключи\" data-toc-modified-id=\"Ограничения-на-ключи-1.3.4\"><span class=\"toc-item-num\">1.3.4&nbsp;&nbsp;</span>Ограничения на ключи</a></span></li><li><span><a href=\"#Операции-над-словарями\" data-toc-modified-id=\"Операции-над-словарями-1.3.5\"><span class=\"toc-item-num\">1.3.5&nbsp;&nbsp;</span>Операции над словарями</a></span><ul class=\"toc-item\"><li><span><a href=\"#clear\" data-toc-modified-id=\"clear-1.3.5.1\"><span class=\"toc-item-num\">1.3.5.1&nbsp;&nbsp;</span>clear</a></span></li><li><span><a href=\"#get\" data-toc-modified-id=\"get-1.3.5.2\"><span class=\"toc-item-num\">1.3.5.2&nbsp;&nbsp;</span>get</a></span></li><li><span><a href=\"#items\" data-toc-modified-id=\"items-1.3.5.3\"><span class=\"toc-item-num\">1.3.5.3&nbsp;&nbsp;</span>items</a></span></li><li><span><a href=\"#keys\" data-toc-modified-id=\"keys-1.3.5.4\"><span class=\"toc-item-num\">1.3.5.4&nbsp;&nbsp;</span>keys</a></span></li><li><span><a href=\"#values\" data-toc-modified-id=\"values-1.3.5.5\"><span class=\"toc-item-num\">1.3.5.5&nbsp;&nbsp;</span>values</a></span></li><li><span><a href=\"#pop\" data-toc-modified-id=\"pop-1.3.5.6\"><span class=\"toc-item-num\">1.3.5.6&nbsp;&nbsp;</span>pop</a></span></li><li><span><a href=\"#popitem\" data-toc-modified-id=\"popitem-1.3.5.7\"><span class=\"toc-item-num\">1.3.5.7&nbsp;&nbsp;</span>popitem</a></span></li><li><span><a href=\"#update\" data-toc-modified-id=\"update-1.3.5.8\"><span class=\"toc-item-num\">1.3.5.8&nbsp;&nbsp;</span>update</a></span></li></ul></li></ul></li><li><span><a href=\"#Sets-(Множества)\" data-toc-modified-id=\"Sets-(Множества)-1.4\"><span class=\"toc-item-num\">1.4&nbsp;&nbsp;</span>Sets (Множества)</a></span><ul class=\"toc-item\"><li><span><a href=\"#Принадлежность-к-множеству\" data-toc-modified-id=\"Принадлежность-к-множеству-1.4.1\"><span class=\"toc-item-num\">1.4.1&nbsp;&nbsp;</span>Принадлежность к множеству</a></span></li><li><span><a href=\"#Операции-над-множествами\" data-toc-modified-id=\"Операции-над-множествами-1.4.2\"><span class=\"toc-item-num\">1.4.2&nbsp;&nbsp;</span>Операции над множествами</a></span><ul class=\"toc-item\"><li><span><a href=\"#Объединение\" data-toc-modified-id=\"Объединение-1.4.2.1\"><span class=\"toc-item-num\">1.4.2.1&nbsp;&nbsp;</span>Объединение</a></span></li><li><span><a href=\"#Пересечение\" data-toc-modified-id=\"Пересечение-1.4.2.2\"><span class=\"toc-item-num\">1.4.2.2&nbsp;&nbsp;</span>Пересечение</a></span></li><li><span><a href=\"#Разность\" data-toc-modified-id=\"Разность-1.4.2.3\"><span class=\"toc-item-num\">1.4.2.3&nbsp;&nbsp;</span>Разность</a></span></li><li><span><a href=\"#Симметрическая-разность\" data-toc-modified-id=\"Симметрическая-разность-1.4.2.4\"><span class=\"toc-item-num\">1.4.2.4&nbsp;&nbsp;</span>Симметрическая разность</a></span></li><li><span><a href=\"#Пустое-пересечение\" data-toc-modified-id=\"Пустое-пересечение-1.4.2.5\"><span class=\"toc-item-num\">1.4.2.5&nbsp;&nbsp;</span>Пустое пересечение</a></span></li></ul></li></ul></li><li><span><a href=\"#Frozenset-(Неизменяемые-множества)\" data-toc-modified-id=\"Frozenset-(Неизменяемые-множества)-1.5\"><span class=\"toc-item-num\">1.5&nbsp;&nbsp;</span>Frozenset (Неизменяемые множества)</a></span></li></ul></li><li><span><a href=\"#Цикл-for\" data-toc-modified-id=\"Цикл-for-2\"><span class=\"toc-item-num\">2&nbsp;&nbsp;</span>Цикл for</a></span></li><li><span><a href=\"#Полезные-библиотеки\" data-toc-modified-id=\"Полезные-библиотеки-3\"><span class=\"toc-item-num\">3&nbsp;&nbsp;</span>Полезные библиотеки</a></span><ul class=\"toc-item\"><li><span><a href=\"#math\" data-toc-modified-id=\"math-3.1\"><span class=\"toc-item-num\">3.1&nbsp;&nbsp;</span>math</a></span></li><li><span><a href=\"#collections\" data-toc-modified-id=\"collections-3.2\"><span class=\"toc-item-num\">3.2&nbsp;&nbsp;</span>collections</a></span><ul class=\"toc-item\"><li><span><a href=\"#Counter\" data-toc-modified-id=\"Counter-3.2.1\"><span class=\"toc-item-num\">3.2.1&nbsp;&nbsp;</span>Counter</a></span></li><li><span><a href=\"#defaultdict\" data-toc-modified-id=\"defaultdict-3.2.2\"><span class=\"toc-item-num\">3.2.2&nbsp;&nbsp;</span>defaultdict</a></span></li></ul></li></ul></li><li><span><a href=\"#Приложение:-как-определить-точность\" data-toc-modified-id=\"Приложение:-как-определить-точность-4\"><span class=\"toc-item-num\">4&nbsp;&nbsp;</span>Приложение: как определить точность</a></span></li></ul></div>"
   ]
  },
  {
   "cell_type": "markdown",
   "metadata": {},
   "source": [
    "## Структуры данных в Python"
   ]
  },
  {
   "cell_type": "markdown",
   "metadata": {
    "ExecuteTime": {
     "end_time": "2019-09-17T11:27:56.225699Z",
     "start_time": "2019-09-17T11:27:56.214080Z"
    }
   },
   "source": [
    "https://docs.python.org/3/reference/datamodel.html"
   ]
  },
  {
   "cell_type": "markdown",
   "metadata": {},
   "source": [
    "### List (список)"
   ]
  },
  {
   "cell_type": "markdown",
   "metadata": {},
   "source": [
    "https://realpython.com/python-lists-tuples/"
   ]
  },
  {
   "cell_type": "markdown",
   "metadata": {},
   "source": [
    "Cписки в Python 3 (массивы) - последовательность элементов, пронумерованных от 0."
   ]
  },
  {
   "cell_type": "code",
   "execution_count": 51,
   "metadata": {
    "ExecuteTime": {
     "end_time": "2019-09-18T15:10:27.012861Z",
     "start_time": "2019-09-18T15:10:26.985270Z"
    }
   },
   "outputs": [
    {
     "name": "stdout",
     "output_type": "stream",
     "text": [
      "[1, 2, 3] 3\n"
     ]
    }
   ],
   "source": [
    "# инициализация списка\n",
    "x = [1, 2, 3]\n",
    "\n",
    "\n",
    "# вывод длины списка\n",
    "\n",
    "print (x, len(x))"
   ]
  },
  {
   "cell_type": "markdown",
   "metadata": {},
   "source": [
    "Пустой список: "
   ]
  },
  {
   "cell_type": "code",
   "execution_count": 52,
   "metadata": {
    "ExecuteTime": {
     "end_time": "2019-09-18T15:10:47.009338Z",
     "start_time": "2019-09-18T15:10:47.002676Z"
    }
   },
   "outputs": [
    {
     "name": "stdout",
     "output_type": "stream",
     "text": [
      "[] 0\n"
     ]
    }
   ],
   "source": [
    "# инициализация списка\n",
    "x = []\n",
    "\n",
    "# вывод длины списка\n",
    "\n",
    "print (x, len(x))"
   ]
  },
  {
   "cell_type": "markdown",
   "metadata": {},
   "source": [
    "Пустой список интерпретируется как False:"
   ]
  },
  {
   "cell_type": "code",
   "execution_count": 54,
   "metadata": {
    "ExecuteTime": {
     "end_time": "2019-09-18T15:11:16.438741Z",
     "start_time": "2019-09-18T15:11:16.417723Z"
    },
    "code_folding": []
   },
   "outputs": [
    {
     "name": "stdout",
     "output_type": "stream",
     "text": [
      "Empty!\n"
     ]
    }
   ],
   "source": [
    "# проверяем, что это так\n",
    "\n",
    "x = []\n",
    "\n",
    "if not x:\n",
    "    print (\"Empty!\")\n",
    "else:\n",
    "    print (\"Non empty!\")"
   ]
  },
  {
   "cell_type": "markdown",
   "metadata": {},
   "source": [
    "Списки могут содержать любые питоновские объекты (даже вложенные списки и т.д.):"
   ]
  },
  {
   "cell_type": "code",
   "execution_count": 55,
   "metadata": {
    "ExecuteTime": {
     "end_time": "2019-09-18T15:12:08.114781Z",
     "start_time": "2019-09-18T15:12:08.108400Z"
    }
   },
   "outputs": [
    {
     "name": "stdout",
     "output_type": "stream",
     "text": [
      "[1, [1, 2, 3], 2.0] 3\n"
     ]
    }
   ],
   "source": [
    "# инициализация списка\n",
    "x = [1, [1, 2, 3], 2.0]\n",
    "\n",
    "# вывод длины списка\n",
    "print (x, len(x))"
   ]
  },
  {
   "cell_type": "markdown",
   "metadata": {},
   "source": [
    "#### Сравнение списков"
   ]
  },
  {
   "cell_type": "markdown",
   "metadata": {},
   "source": [
    "Одно из важных свойств списков - упорядоченность: "
   ]
  },
  {
   "cell_type": "code",
   "execution_count": 56,
   "metadata": {
    "ExecuteTime": {
     "end_time": "2019-09-18T15:12:42.650426Z",
     "start_time": "2019-09-18T15:12:42.632342Z"
    }
   },
   "outputs": [
    {
     "data": {
      "text/plain": [
       "True"
      ]
     },
     "execution_count": 56,
     "metadata": {},
     "output_type": "execute_result"
    }
   ],
   "source": [
    "#сравниваем два одинаковых списка\n",
    "[1, 2, 3] == [1, 2, 3]"
   ]
  },
  {
   "cell_type": "code",
   "execution_count": 57,
   "metadata": {
    "ExecuteTime": {
     "end_time": "2019-09-18T15:12:54.662108Z",
     "start_time": "2019-09-18T15:12:54.655245Z"
    }
   },
   "outputs": [
    {
     "data": {
      "text/plain": [
       "False"
      ]
     },
     "execution_count": 57,
     "metadata": {},
     "output_type": "execute_result"
    }
   ],
   "source": [
    "#сравниваем два списка с переупорядоченными элементами\n",
    "[1, 2, 3] == [2, 1, 3]"
   ]
  },
  {
   "cell_type": "markdown",
   "metadata": {},
   "source": [
    "Два списка сравниваются лексикографически (и вложенные тоже):"
   ]
  },
  {
   "cell_type": "markdown",
   "metadata": {
    "ExecuteTime": {
     "end_time": "2019-09-12T14:59:02.021509Z",
     "start_time": "2019-09-12T14:59:02.013256Z"
    }
   },
   "source": [
    "*Как вы думаете, какой будет результат?*"
   ]
  },
  {
   "cell_type": "code",
   "execution_count": 58,
   "metadata": {
    "ExecuteTime": {
     "end_time": "2019-09-18T15:13:27.323728Z",
     "start_time": "2019-09-18T15:13:27.313896Z"
    }
   },
   "outputs": [
    {
     "data": {
      "text/plain": [
       "True"
      ]
     },
     "execution_count": 58,
     "metadata": {},
     "output_type": "execute_result"
    }
   ],
   "source": [
    "[1, 2, 3, 4] > [1, 2, 3]"
   ]
  },
  {
   "cell_type": "code",
   "execution_count": 59,
   "metadata": {
    "ExecuteTime": {
     "end_time": "2019-09-18T15:14:08.846279Z",
     "start_time": "2019-09-18T15:14:08.830060Z"
    }
   },
   "outputs": [
    {
     "data": {
      "text/plain": [
       "True"
      ]
     },
     "execution_count": 59,
     "metadata": {},
     "output_type": "execute_result"
    }
   ],
   "source": [
    "[1, [2, 3], 3, 4] == [1, [2, 3], 3, 4]"
   ]
  },
  {
   "cell_type": "code",
   "execution_count": 60,
   "metadata": {
    "ExecuteTime": {
     "end_time": "2019-09-18T15:14:25.930542Z",
     "start_time": "2019-09-18T15:14:25.920871Z"
    }
   },
   "outputs": [
    {
     "data": {
      "text/plain": [
       "False"
      ]
     },
     "execution_count": 60,
     "metadata": {},
     "output_type": "execute_result"
    }
   ],
   "source": [
    "[1, [2, 3], 3, 4] >= [1, [2, 3, 4], 3, 4]"
   ]
  },
  {
   "cell_type": "markdown",
   "metadata": {},
   "source": [
    "#### Индексация списков"
   ]
  },
  {
   "cell_type": "markdown",
   "metadata": {},
   "source": [
    "\"Положительная\" индексация"
   ]
  },
  {
   "cell_type": "markdown",
   "metadata": {},
   "source": [
    "Начинается с 0 - что соответствует первому элементу"
   ]
  },
  {
   "cell_type": "code",
   "execution_count": 61,
   "metadata": {
    "ExecuteTime": {
     "end_time": "2019-09-18T15:14:47.518284Z",
     "start_time": "2019-09-18T15:14:47.513435Z"
    }
   },
   "outputs": [],
   "source": [
    "x = [1, 3.14, 'hello', [1, 2, 3], True]"
   ]
  },
  {
   "cell_type": "code",
   "execution_count": 63,
   "metadata": {
    "ExecuteTime": {
     "end_time": "2019-09-18T15:15:11.403225Z",
     "start_time": "2019-09-18T15:15:11.390080Z"
    }
   },
   "outputs": [
    {
     "data": {
      "text/plain": [
       "'hello'"
      ]
     },
     "execution_count": 63,
     "metadata": {},
     "output_type": "execute_result"
    }
   ],
   "source": [
    "# вывод первого элемента\n",
    "\n",
    "x[2]"
   ]
  },
  {
   "cell_type": "markdown",
   "metadata": {},
   "source": [
    "\"Отрицательная\" индексация"
   ]
  },
  {
   "cell_type": "markdown",
   "metadata": {},
   "source": [
    "-1 соответствует последнему элементу, -2 - предпоследнему и так далее"
   ]
  },
  {
   "cell_type": "code",
   "execution_count": 64,
   "metadata": {
    "ExecuteTime": {
     "end_time": "2019-09-18T15:16:20.470646Z",
     "start_time": "2019-09-18T15:16:20.462577Z"
    }
   },
   "outputs": [],
   "source": [
    "x = [1, 3.14, 'hello', [1, 2, 3], True]"
   ]
  },
  {
   "cell_type": "code",
   "execution_count": 66,
   "metadata": {
    "ExecuteTime": {
     "end_time": "2019-09-18T15:16:32.545620Z",
     "start_time": "2019-09-18T15:16:32.526142Z"
    }
   },
   "outputs": [
    {
     "data": {
      "text/plain": [
       "[1, 2, 3]"
      ]
     },
     "execution_count": 66,
     "metadata": {},
     "output_type": "execute_result"
    }
   ],
   "source": [
    "# вывод последнего элемента\n",
    "\n",
    "x[-2]"
   ]
  },
  {
   "cell_type": "markdown",
   "metadata": {},
   "source": [
    "#### Срезы"
   ]
  },
  {
   "cell_type": "markdown",
   "metadata": {},
   "source": [
    "A[i:j]  срез из j-i элементов A[i], A[i+1], ..., A[j-1].\n",
    "\n",
    "A[i:j:-1]  срез из i-j элементов A[i], A[i-1], ..., A[j+1] (то есть меняется порядок элементов).\n",
    "\n",
    "A[i:j:k]  срез с шагом k: A[i], A[i+k], A[i+2*k],... . Если значение k<0, то элементы идут в противоположном порядке."
   ]
  },
  {
   "cell_type": "code",
   "execution_count": 67,
   "metadata": {
    "ExecuteTime": {
     "end_time": "2019-09-18T15:19:48.577249Z",
     "start_time": "2019-09-18T15:19:48.570353Z"
    }
   },
   "outputs": [],
   "source": [
    "x = [0, 1, 2, 3, 4, 5, 6]"
   ]
  },
  {
   "cell_type": "markdown",
   "metadata": {},
   "source": [
    "Внимательно! Правый \"конец\" не включается:"
   ]
  },
  {
   "cell_type": "code",
   "execution_count": 68,
   "metadata": {
    "ExecuteTime": {
     "end_time": "2019-09-18T15:20:05.314640Z",
     "start_time": "2019-09-18T15:20:05.306492Z"
    }
   },
   "outputs": [
    {
     "data": {
      "text/plain": [
       "[0, 1, 2, 3]"
      ]
     },
     "execution_count": 68,
     "metadata": {},
     "output_type": "execute_result"
    }
   ],
   "source": [
    "# положительная индексация\n",
    "\n",
    "x[:4]"
   ]
  },
  {
   "cell_type": "code",
   "execution_count": 70,
   "metadata": {
    "ExecuteTime": {
     "end_time": "2019-09-18T15:20:35.854585Z",
     "start_time": "2019-09-18T15:20:35.847671Z"
    }
   },
   "outputs": [
    {
     "data": {
      "text/plain": [
       "[4]"
      ]
     },
     "execution_count": 70,
     "metadata": {},
     "output_type": "execute_result"
    }
   ],
   "source": [
    "# отрицательная индексация\n",
    "x[-3:-1:2]"
   ]
  },
  {
   "cell_type": "markdown",
   "metadata": {},
   "source": [
    "Положительная индексация удобна, когда нужно вывести N первых элементов"
   ]
  },
  {
   "cell_type": "code",
   "execution_count": 71,
   "metadata": {
    "ExecuteTime": {
     "end_time": "2019-09-18T15:21:20.006216Z",
     "start_time": "2019-09-18T15:21:19.997304Z"
    }
   },
   "outputs": [
    {
     "data": {
      "text/plain": [
       "[0, 1, 2]"
      ]
     },
     "execution_count": 71,
     "metadata": {},
     "output_type": "execute_result"
    }
   ],
   "source": [
    "x[:3]"
   ]
  },
  {
   "cell_type": "markdown",
   "metadata": {},
   "source": [
    "или когда нужно \"убрать\" N первых элементов"
   ]
  },
  {
   "cell_type": "code",
   "execution_count": 72,
   "metadata": {
    "ExecuteTime": {
     "end_time": "2019-09-18T15:21:33.839925Z",
     "start_time": "2019-09-18T15:21:33.831048Z"
    }
   },
   "outputs": [
    {
     "data": {
      "text/plain": [
       "[3, 4, 5, 6]"
      ]
     },
     "execution_count": 72,
     "metadata": {},
     "output_type": "execute_result"
    }
   ],
   "source": [
    "x[3:]"
   ]
  },
  {
   "cell_type": "markdown",
   "metadata": {},
   "source": [
    "Отрицательная индексация удобна, когда надо вывести N последних:"
   ]
  },
  {
   "cell_type": "code",
   "execution_count": 73,
   "metadata": {
    "ExecuteTime": {
     "end_time": "2019-09-18T15:21:43.916472Z",
     "start_time": "2019-09-18T15:21:43.907925Z"
    }
   },
   "outputs": [
    {
     "data": {
      "text/plain": [
       "[4, 5, 6]"
      ]
     },
     "execution_count": 73,
     "metadata": {},
     "output_type": "execute_result"
    }
   ],
   "source": [
    "x[-3:]"
   ]
  },
  {
   "cell_type": "markdown",
   "metadata": {},
   "source": [
    "или когда нужно \"убрать\" N последних элементов"
   ]
  },
  {
   "cell_type": "code",
   "execution_count": 74,
   "metadata": {
    "ExecuteTime": {
     "end_time": "2019-09-18T15:21:52.861694Z",
     "start_time": "2019-09-18T15:21:52.853004Z"
    }
   },
   "outputs": [
    {
     "data": {
      "text/plain": [
       "[0, 1, 2, 3]"
      ]
     },
     "execution_count": 74,
     "metadata": {},
     "output_type": "execute_result"
    }
   ],
   "source": [
    "x[:-3]"
   ]
  },
  {
   "cell_type": "markdown",
   "metadata": {},
   "source": [
    "#### Изменение списков"
   ]
  },
  {
   "cell_type": "markdown",
   "metadata": {},
   "source": [
    "Списки являются изменяемыми (mutable) !"
   ]
  },
  {
   "cell_type": "markdown",
   "metadata": {},
   "source": [
    "Элемент списка можно изменить"
   ]
  },
  {
   "cell_type": "code",
   "execution_count": 77,
   "metadata": {
    "ExecuteTime": {
     "end_time": "2019-09-18T15:24:52.696042Z",
     "start_time": "2019-09-18T15:24:52.686823Z"
    }
   },
   "outputs": [
    {
     "name": "stdout",
     "output_type": "stream",
     "text": [
      "500 140454771649776\n",
      "502 500 140454771649200\n"
     ]
    }
   ],
   "source": [
    "x = 500\n",
    "\n",
    "print (x, id(x))\n",
    "\n",
    "y = x\n",
    "x += 2\n",
    "\n",
    "print (x, y, id(x))"
   ]
  },
  {
   "cell_type": "code",
   "execution_count": 78,
   "metadata": {
    "ExecuteTime": {
     "end_time": "2019-09-18T15:24:59.023789Z",
     "start_time": "2019-09-18T15:24:59.016572Z"
    }
   },
   "outputs": [
    {
     "name": "stdout",
     "output_type": "stream",
     "text": [
      "[1, 2, 3, 4] 140454770395080\n"
     ]
    }
   ],
   "source": [
    "x = [1, 2, 3, 4]\n",
    "\n",
    "print (x, id(x))"
   ]
  },
  {
   "cell_type": "code",
   "execution_count": 79,
   "metadata": {
    "ExecuteTime": {
     "end_time": "2019-09-18T15:25:13.705482Z",
     "start_time": "2019-09-18T15:25:13.697323Z"
    }
   },
   "outputs": [
    {
     "name": "stdout",
     "output_type": "stream",
     "text": [
      "[1, 2, 100, 4] 140454770395080\n"
     ]
    }
   ],
   "source": [
    "# меняем второй элемент списка и смотрим на id переменной\n",
    "\n",
    "x[2] = 100\n",
    "\n",
    "print (x, id(x))"
   ]
  },
  {
   "cell_type": "markdown",
   "metadata": {},
   "source": [
    "Если две переменные ссылаются на один и тот же объект списка, то изменение одного повлечет за собой изменение другого: "
   ]
  },
  {
   "cell_type": "code",
   "execution_count": 81,
   "metadata": {
    "ExecuteTime": {
     "end_time": "2019-09-18T15:27:49.406282Z",
     "start_time": "2019-09-18T15:27:49.392326Z"
    }
   },
   "outputs": [
    {
     "name": "stdout",
     "output_type": "stream",
     "text": [
      "[1, 2, 3, 4] [1, 2, 3, 4]\n",
      "140454770395400 140454770395400\n",
      "\n",
      "[1, 2, 100, 4] [1, 2, 100, 4]\n",
      "140454770395400 140454770395400\n"
     ]
    }
   ],
   "source": [
    "x = [1, 2, 3, 4]\n",
    "\n",
    "y = x\n",
    "\n",
    "print (x, y)\n",
    "print (id(x), id(y))\n",
    "print ()\n",
    "\n",
    "x[2] = 100\n",
    "\n",
    "print (x, y)\n",
    "print (id(x), id(y))"
   ]
  },
  {
   "cell_type": "markdown",
   "metadata": {},
   "source": [
    "Элемент из списка можно удалить с помощью команды del"
   ]
  },
  {
   "cell_type": "code",
   "execution_count": 82,
   "metadata": {
    "ExecuteTime": {
     "end_time": "2019-09-18T15:29:33.350042Z",
     "start_time": "2019-09-18T15:29:33.340664Z"
    }
   },
   "outputs": [
    {
     "name": "stdout",
     "output_type": "stream",
     "text": [
      "[1, 3, 4]\n"
     ]
    }
   ],
   "source": [
    "x = [1, 2, 3, 4]\n",
    "\n",
    "del x[1]\n",
    "\n",
    "print (x)"
   ]
  },
  {
   "cell_type": "markdown",
   "metadata": {},
   "source": [
    "Можно изменять группу элементов используя slicing, причем необязательно присваивать список такой же длины:"
   ]
  },
  {
   "cell_type": "code",
   "execution_count": 83,
   "metadata": {
    "ExecuteTime": {
     "end_time": "2019-09-18T15:30:11.085273Z",
     "start_time": "2019-09-18T15:30:11.076078Z"
    }
   },
   "outputs": [
    {
     "name": "stdout",
     "output_type": "stream",
     "text": [
      "[1, 7, 7, 7, 3, 4]\n"
     ]
    }
   ],
   "source": [
    "x = [1, 2, 3, 4]\n",
    "\n",
    "# изменим 1-2 элементы списка\n",
    "\n",
    "x[1:2] = [7, 7, 7]\n",
    "\n",
    "print (x)"
   ]
  },
  {
   "cell_type": "markdown",
   "metadata": {},
   "source": [
    "Можно делать \"вставки\" в список на позицию N, используя x[N:N]"
   ]
  },
  {
   "cell_type": "code",
   "execution_count": 84,
   "metadata": {
    "ExecuteTime": {
     "end_time": "2019-09-18T15:30:54.458807Z",
     "start_time": "2019-09-18T15:30:54.450142Z"
    }
   },
   "outputs": [
    {
     "name": "stdout",
     "output_type": "stream",
     "text": [
      "[0, 1, 8, 8, 8, 5, 6, 7]\n"
     ]
    }
   ],
   "source": [
    "x = [0, 1, 5, 6, 7]\n",
    "\n",
    "x[2:2] = [8, 8, 8]\n",
    "\n",
    "print (x)"
   ]
  },
  {
   "cell_type": "markdown",
   "metadata": {},
   "source": [
    "Можно удалять часть списка, присвоив пустой список:"
   ]
  },
  {
   "cell_type": "code",
   "execution_count": 86,
   "metadata": {
    "ExecuteTime": {
     "end_time": "2019-09-18T15:31:15.630883Z",
     "start_time": "2019-09-18T15:31:15.622211Z"
    }
   },
   "outputs": [
    {
     "name": "stdout",
     "output_type": "stream",
     "text": [
      "[0, 5, 6, 7]\n"
     ]
    }
   ],
   "source": [
    "x = [0, 1, 5, 6, 7]\n",
    "\n",
    "x[1:2] = []\n",
    "\n",
    "print (x)"
   ]
  },
  {
   "cell_type": "markdown",
   "metadata": {},
   "source": [
    "#### Операции над списками"
   ]
  },
  {
   "cell_type": "markdown",
   "metadata": {},
   "source": [
    "##### in/not in"
   ]
  },
  {
   "cell_type": "markdown",
   "metadata": {},
   "source": [
    "Проверяет нахождение элемента в списке"
   ]
  },
  {
   "cell_type": "code",
   "execution_count": 87,
   "metadata": {
    "ExecuteTime": {
     "end_time": "2019-09-18T15:31:45.762515Z",
     "start_time": "2019-09-18T15:31:45.756506Z"
    }
   },
   "outputs": [],
   "source": [
    "x = [1, 2, 3, [1, 2]]"
   ]
  },
  {
   "cell_type": "code",
   "execution_count": 90,
   "metadata": {
    "ExecuteTime": {
     "end_time": "2019-09-18T15:32:07.943522Z",
     "start_time": "2019-09-18T15:32:07.937986Z"
    }
   },
   "outputs": [
    {
     "data": {
      "text/plain": [
       "False"
      ]
     },
     "execution_count": 90,
     "metadata": {},
     "output_type": "execute_result"
    }
   ],
   "source": [
    "[] in x"
   ]
  },
  {
   "cell_type": "code",
   "execution_count": 89,
   "metadata": {
    "ExecuteTime": {
     "end_time": "2019-09-18T15:32:01.648940Z",
     "start_time": "2019-09-18T15:32:01.639873Z"
    }
   },
   "outputs": [
    {
     "data": {
      "text/plain": [
       "True"
      ]
     },
     "execution_count": 89,
     "metadata": {},
     "output_type": "execute_result"
    }
   ],
   "source": [
    "[1, 2] in x"
   ]
  },
  {
   "cell_type": "markdown",
   "metadata": {},
   "source": [
    "##### len/min/max"
   ]
  },
  {
   "cell_type": "code",
   "execution_count": 91,
   "metadata": {
    "ExecuteTime": {
     "end_time": "2019-09-18T15:32:21.396141Z",
     "start_time": "2019-09-18T15:32:21.391739Z"
    }
   },
   "outputs": [],
   "source": [
    "x = [1, 2, 3, 4]"
   ]
  },
  {
   "cell_type": "code",
   "execution_count": 92,
   "metadata": {
    "ExecuteTime": {
     "end_time": "2019-09-18T15:32:23.471784Z",
     "start_time": "2019-09-18T15:32:23.465956Z"
    }
   },
   "outputs": [
    {
     "data": {
      "text/plain": [
       "4"
      ]
     },
     "execution_count": 92,
     "metadata": {},
     "output_type": "execute_result"
    }
   ],
   "source": [
    "len(x)"
   ]
  },
  {
   "cell_type": "code",
   "execution_count": 93,
   "metadata": {
    "ExecuteTime": {
     "end_time": "2019-09-18T15:32:30.721179Z",
     "start_time": "2019-09-18T15:32:30.715127Z"
    }
   },
   "outputs": [
    {
     "data": {
      "text/plain": [
       "1"
      ]
     },
     "execution_count": 93,
     "metadata": {},
     "output_type": "execute_result"
    }
   ],
   "source": [
    "min(x)"
   ]
  },
  {
   "cell_type": "code",
   "execution_count": 94,
   "metadata": {
    "ExecuteTime": {
     "end_time": "2019-09-18T15:32:35.470072Z",
     "start_time": "2019-09-18T15:32:35.463222Z"
    }
   },
   "outputs": [
    {
     "data": {
      "text/plain": [
       "4"
      ]
     },
     "execution_count": 94,
     "metadata": {},
     "output_type": "execute_result"
    }
   ],
   "source": [
    "max(x)"
   ]
  },
  {
   "cell_type": "markdown",
   "metadata": {},
   "source": [
    "##### index/count"
   ]
  },
  {
   "cell_type": "markdown",
   "metadata": {},
   "source": [
    "index - выводит индекс первой встречи элемента в списке"
   ]
  },
  {
   "cell_type": "code",
   "execution_count": 95,
   "metadata": {
    "ExecuteTime": {
     "end_time": "2019-09-18T15:33:07.953169Z",
     "start_time": "2019-09-18T15:33:07.949639Z"
    }
   },
   "outputs": [],
   "source": [
    "x = [1, 1, 2, 2, 3]"
   ]
  },
  {
   "cell_type": "code",
   "execution_count": 98,
   "metadata": {
    "ExecuteTime": {
     "end_time": "2019-09-18T15:33:37.574685Z",
     "start_time": "2019-09-18T15:33:37.569052Z"
    }
   },
   "outputs": [
    {
     "data": {
      "text/plain": [
       "0"
      ]
     },
     "execution_count": 98,
     "metadata": {},
     "output_type": "execute_result"
    }
   ],
   "source": [
    "x.index(1)"
   ]
  },
  {
   "cell_type": "markdown",
   "metadata": {},
   "source": [
    "count - считает количество встречаний элемента в списке"
   ]
  },
  {
   "cell_type": "code",
   "execution_count": 101,
   "metadata": {
    "ExecuteTime": {
     "end_time": "2019-09-18T15:33:58.567553Z",
     "start_time": "2019-09-18T15:33:58.560716Z"
    }
   },
   "outputs": [
    {
     "data": {
      "text/plain": [
       "0"
      ]
     },
     "execution_count": 101,
     "metadata": {},
     "output_type": "execute_result"
    }
   ],
   "source": [
    "x.count(4)"
   ]
  },
  {
   "cell_type": "markdown",
   "metadata": {},
   "source": [
    "##### */+"
   ]
  },
  {
   "cell_type": "code",
   "execution_count": 102,
   "metadata": {
    "ExecuteTime": {
     "end_time": "2019-09-18T15:35:26.072973Z",
     "start_time": "2019-09-18T15:35:26.067805Z"
    }
   },
   "outputs": [],
   "source": [
    "x = [1, 2, 3]"
   ]
  },
  {
   "cell_type": "markdown",
   "metadata": {},
   "source": [
    "\\* - дублирование списка "
   ]
  },
  {
   "cell_type": "code",
   "execution_count": 103,
   "metadata": {
    "ExecuteTime": {
     "end_time": "2019-09-18T15:35:32.015199Z",
     "start_time": "2019-09-18T15:35:32.004822Z"
    }
   },
   "outputs": [
    {
     "data": {
      "text/plain": [
       "[1, 2, 3, 1, 2, 3, 1, 2, 3]"
      ]
     },
     "execution_count": 103,
     "metadata": {},
     "output_type": "execute_result"
    }
   ],
   "source": [
    "x * 3"
   ]
  },
  {
   "cell_type": "markdown",
   "metadata": {},
   "source": [
    "\\+ - конкатенация cписков"
   ]
  },
  {
   "cell_type": "code",
   "execution_count": 104,
   "metadata": {
    "ExecuteTime": {
     "end_time": "2019-09-18T15:35:55.562135Z",
     "start_time": "2019-09-18T15:35:55.552195Z"
    }
   },
   "outputs": [
    {
     "data": {
      "text/plain": [
       "[1, 2, 3, 4, 5, 6]"
      ]
     },
     "execution_count": 104,
     "metadata": {},
     "output_type": "execute_result"
    }
   ],
   "source": [
    "x = [1, 2, 3]\n",
    "\n",
    "y = [4, 5, 6]\n",
    "\n",
    "# вывести сумму списков: \n",
    "\n",
    "x + y"
   ]
  },
  {
   "cell_type": "markdown",
   "metadata": {},
   "source": [
    "+= также работает "
   ]
  },
  {
   "cell_type": "code",
   "execution_count": 105,
   "metadata": {
    "ExecuteTime": {
     "end_time": "2019-09-18T15:36:25.985395Z",
     "start_time": "2019-09-18T15:36:25.978520Z"
    }
   },
   "outputs": [
    {
     "name": "stdout",
     "output_type": "stream",
     "text": [
      "[1, 2, 3, 2, 3]\n"
     ]
    }
   ],
   "source": [
    "x = [1, 2, 3]\n",
    "\n",
    "x += [2, 3]\n",
    "\n",
    "print (x)"
   ]
  },
  {
   "cell_type": "markdown",
   "metadata": {},
   "source": [
    "##### append"
   ]
  },
  {
   "cell_type": "markdown",
   "metadata": {},
   "source": [
    "Добавляет элемент на последнюю позицию"
   ]
  },
  {
   "cell_type": "code",
   "execution_count": 106,
   "metadata": {
    "ExecuteTime": {
     "end_time": "2019-09-18T15:36:44.078056Z",
     "start_time": "2019-09-18T15:36:44.072873Z"
    }
   },
   "outputs": [],
   "source": [
    "x = [1, 2, 3]"
   ]
  },
  {
   "cell_type": "code",
   "execution_count": 107,
   "metadata": {
    "ExecuteTime": {
     "end_time": "2019-09-18T15:36:52.143846Z",
     "start_time": "2019-09-18T15:36:52.137645Z"
    }
   },
   "outputs": [
    {
     "name": "stdout",
     "output_type": "stream",
     "text": [
      "[1, 2, 3, 4]\n"
     ]
    }
   ],
   "source": [
    "x.append(4)\n",
    "\n",
    "print (x)"
   ]
  },
  {
   "cell_type": "markdown",
   "metadata": {},
   "source": [
    "##### insert"
   ]
  },
  {
   "cell_type": "markdown",
   "metadata": {},
   "source": [
    "Вставка элемента на позицию"
   ]
  },
  {
   "cell_type": "code",
   "execution_count": 108,
   "metadata": {
    "ExecuteTime": {
     "end_time": "2019-09-18T15:36:59.017156Z",
     "start_time": "2019-09-18T15:36:59.011719Z"
    }
   },
   "outputs": [],
   "source": [
    "x = [1, 2, 3]"
   ]
  },
  {
   "cell_type": "code",
   "execution_count": 109,
   "metadata": {
    "ExecuteTime": {
     "end_time": "2019-09-18T15:37:32.437363Z",
     "start_time": "2019-09-18T15:37:32.431381Z"
    }
   },
   "outputs": [
    {
     "name": "stdout",
     "output_type": "stream",
     "text": [
      "[1, 300, 2, 3]\n"
     ]
    }
   ],
   "source": [
    "x.insert(1, 300)\n",
    "\n",
    "print (x)"
   ]
  },
  {
   "cell_type": "code",
   "execution_count": 110,
   "metadata": {
    "ExecuteTime": {
     "end_time": "2019-09-18T15:37:50.291087Z",
     "start_time": "2019-09-18T15:37:50.274685Z"
    }
   },
   "outputs": [],
   "source": [
    "?x.insert"
   ]
  },
  {
   "cell_type": "markdown",
   "metadata": {},
   "source": [
    "##### remove"
   ]
  },
  {
   "cell_type": "markdown",
   "metadata": {
    "ExecuteTime": {
     "end_time": "2019-09-16T08:29:08.668055Z",
     "start_time": "2019-09-16T08:29:08.658324Z"
    }
   },
   "source": [
    "Удаление первого встречания элемента"
   ]
  },
  {
   "cell_type": "code",
   "execution_count": 111,
   "metadata": {
    "ExecuteTime": {
     "end_time": "2019-09-18T15:38:11.405757Z",
     "start_time": "2019-09-18T15:38:11.400205Z"
    }
   },
   "outputs": [],
   "source": [
    "x = [1, 1, 2, 3]"
   ]
  },
  {
   "cell_type": "code",
   "execution_count": 114,
   "metadata": {
    "ExecuteTime": {
     "end_time": "2019-09-18T15:38:41.342936Z",
     "start_time": "2019-09-18T15:38:41.337794Z"
    }
   },
   "outputs": [
    {
     "name": "stdout",
     "output_type": "stream",
     "text": [
      "[1, 3]\n"
     ]
    }
   ],
   "source": [
    "x.remove(2)\n",
    "\n",
    "print (x)"
   ]
  },
  {
   "cell_type": "markdown",
   "metadata": {},
   "source": [
    "##### pop"
   ]
  },
  {
   "cell_type": "markdown",
   "metadata": {
    "ExecuteTime": {
     "end_time": "2019-09-16T08:29:53.870289Z",
     "start_time": "2019-09-16T08:29:53.861928Z"
    }
   },
   "source": [
    "Извлекает последний элемент из списка и удаляет его оттуда"
   ]
  },
  {
   "cell_type": "code",
   "execution_count": 120,
   "metadata": {
    "ExecuteTime": {
     "end_time": "2019-09-18T15:40:07.592575Z",
     "start_time": "2019-09-18T15:40:07.586905Z"
    }
   },
   "outputs": [],
   "source": [
    "x = [1, 2, 3]"
   ]
  },
  {
   "cell_type": "code",
   "execution_count": 121,
   "metadata": {
    "ExecuteTime": {
     "end_time": "2019-09-18T15:40:12.214341Z",
     "start_time": "2019-09-18T15:40:12.208030Z"
    }
   },
   "outputs": [
    {
     "name": "stdout",
     "output_type": "stream",
     "text": [
      "1 [2, 3]\n"
     ]
    }
   ],
   "source": [
    "print (x.pop(0), x)"
   ]
  },
  {
   "cell_type": "code",
   "execution_count": 122,
   "metadata": {
    "ExecuteTime": {
     "end_time": "2019-09-18T15:40:18.642810Z",
     "start_time": "2019-09-18T15:40:18.636054Z"
    }
   },
   "outputs": [
    {
     "name": "stdout",
     "output_type": "stream",
     "text": [
      "2 [3]\n"
     ]
    }
   ],
   "source": [
    "print (x.pop(0), x)"
   ]
  },
  {
   "cell_type": "code",
   "execution_count": 123,
   "metadata": {
    "ExecuteTime": {
     "end_time": "2019-09-18T15:40:21.619111Z",
     "start_time": "2019-09-18T15:40:21.612084Z"
    }
   },
   "outputs": [
    {
     "name": "stdout",
     "output_type": "stream",
     "text": [
      "3 []\n"
     ]
    }
   ],
   "source": [
    "print (x.pop(0), x)"
   ]
  },
  {
   "cell_type": "code",
   "execution_count": 124,
   "metadata": {
    "ExecuteTime": {
     "end_time": "2019-09-18T15:40:25.014061Z",
     "start_time": "2019-09-18T15:40:24.996622Z"
    }
   },
   "outputs": [
    {
     "ename": "IndexError",
     "evalue": "pop from empty list",
     "output_type": "error",
     "traceback": [
      "\u001b[0;31m---------------------------------------------------------------------------\u001b[0m",
      "\u001b[0;31mIndexError\u001b[0m                                Traceback (most recent call last)",
      "\u001b[0;32m<ipython-input-124-69fab2c4862c>\u001b[0m in \u001b[0;36m<module>\u001b[0;34m\u001b[0m\n\u001b[0;32m----> 1\u001b[0;31m \u001b[0mprint\u001b[0m \u001b[0;34m(\u001b[0m\u001b[0mx\u001b[0m\u001b[0;34m.\u001b[0m\u001b[0mpop\u001b[0m\u001b[0;34m(\u001b[0m\u001b[0;36m0\u001b[0m\u001b[0;34m)\u001b[0m\u001b[0;34m,\u001b[0m \u001b[0mx\u001b[0m\u001b[0;34m)\u001b[0m\u001b[0;34m\u001b[0m\u001b[0;34m\u001b[0m\u001b[0m\n\u001b[0m",
      "\u001b[0;31mIndexError\u001b[0m: pop from empty list"
     ]
    }
   ],
   "source": [
    "print (x.pop(0), x)"
   ]
  },
  {
   "cell_type": "markdown",
   "metadata": {},
   "source": [
    "### Tuple (кортеж)"
   ]
  },
  {
   "cell_type": "markdown",
   "metadata": {},
   "source": [
    "Тип данных, который также представляет собой упорядоченную последовательность элементов, но, в отличии от списка, являются неизменяемыми (immutable).\n",
    "\n",
    "Индексация и срезы - такие же как и в списке.\n",
    "\n",
    "Задается с помощью круглых скобок: (1, 2, 3) - tuple."
   ]
  },
  {
   "cell_type": "code",
   "execution_count": 125,
   "metadata": {
    "ExecuteTime": {
     "end_time": "2019-09-18T15:41:38.565066Z",
     "start_time": "2019-09-18T15:41:38.556754Z"
    },
    "code_folding": []
   },
   "outputs": [
    {
     "data": {
      "text/plain": [
       "tuple"
      ]
     },
     "execution_count": 125,
     "metadata": {},
     "output_type": "execute_result"
    }
   ],
   "source": [
    "# первый вариант определения\n",
    "\n",
    "x = (1, 2, 3)\n",
    "\n",
    "type(x)"
   ]
  },
  {
   "cell_type": "code",
   "execution_count": 126,
   "metadata": {
    "ExecuteTime": {
     "end_time": "2019-09-18T15:41:51.348099Z",
     "start_time": "2019-09-18T15:41:51.340601Z"
    },
    "code_folding": []
   },
   "outputs": [
    {
     "name": "stdout",
     "output_type": "stream",
     "text": [
      "(1, 2, 3) <class 'tuple'>\n"
     ]
    }
   ],
   "source": [
    "# второй вариант - без скобок\n",
    "\n",
    "x = 1, 2, 3\n",
    "\n",
    "print (x, type(x))"
   ]
  },
  {
   "cell_type": "markdown",
   "metadata": {},
   "source": [
    "Давайте попытаемся изменить значение:"
   ]
  },
  {
   "cell_type": "code",
   "execution_count": 127,
   "metadata": {
    "ExecuteTime": {
     "end_time": "2019-09-18T15:42:15.761912Z",
     "start_time": "2019-09-18T15:42:15.745014Z"
    },
    "code_folding": []
   },
   "outputs": [
    {
     "ename": "TypeError",
     "evalue": "'tuple' object does not support item assignment",
     "output_type": "error",
     "traceback": [
      "\u001b[0;31m---------------------------------------------------------------------------\u001b[0m",
      "\u001b[0;31mTypeError\u001b[0m                                 Traceback (most recent call last)",
      "\u001b[0;32m<ipython-input-127-c9f904460256>\u001b[0m in \u001b[0;36m<module>\u001b[0;34m\u001b[0m\n\u001b[1;32m      3\u001b[0m \u001b[0mx\u001b[0m \u001b[0;34m=\u001b[0m \u001b[0;34m(\u001b[0m\u001b[0;36m1.0\u001b[0m\u001b[0;34m,\u001b[0m \u001b[0;36m3\u001b[0m\u001b[0;34m,\u001b[0m \u001b[0;36m4\u001b[0m\u001b[0;34m)\u001b[0m\u001b[0;34m\u001b[0m\u001b[0;34m\u001b[0m\u001b[0m\n\u001b[1;32m      4\u001b[0m \u001b[0;34m\u001b[0m\u001b[0m\n\u001b[0;32m----> 5\u001b[0;31m \u001b[0mx\u001b[0m\u001b[0;34m[\u001b[0m\u001b[0;36m1\u001b[0m\u001b[0;34m]\u001b[0m \u001b[0;34m=\u001b[0m \u001b[0;36m10\u001b[0m\u001b[0;34m\u001b[0m\u001b[0;34m\u001b[0m\u001b[0m\n\u001b[0m",
      "\u001b[0;31mTypeError\u001b[0m: 'tuple' object does not support item assignment"
     ]
    }
   ],
   "source": [
    "# определим tuple и попробуем изменить значение\n",
    "\n",
    "x = (1.0, 3, 4)\n",
    "\n",
    "x[1] = 10"
   ]
  },
  {
   "cell_type": "markdown",
   "metadata": {},
   "source": [
    "Хоть и immutable, но может поменять значение, если содержит mutable объекты"
   ]
  },
  {
   "cell_type": "code",
   "execution_count": 128,
   "metadata": {
    "ExecuteTime": {
     "end_time": "2019-09-18T15:43:05.091653Z",
     "start_time": "2019-09-18T15:43:05.081908Z"
    },
    "code_folding": []
   },
   "outputs": [
    {
     "name": "stdout",
     "output_type": "stream",
     "text": [
      "(1, [2, 3, 4], 5, 6) 140454767823912\n",
      "(1, [2, 500, 4], 5, 6) 140454767823912\n"
     ]
    }
   ],
   "source": [
    "# давайте инициализируем tuple со списком \n",
    "# и попробуем изменить значение списка: \n",
    "\n",
    "x = (1, [2, 3, 4], 5, 6)\n",
    "\n",
    "print (x, id(x))\n",
    "\n",
    "x[1][1] = 500\n",
    "\n",
    "print (x, id(x))"
   ]
  },
  {
   "cell_type": "markdown",
   "metadata": {},
   "source": [
    "Пустой tuple"
   ]
  },
  {
   "cell_type": "code",
   "execution_count": 129,
   "metadata": {
    "ExecuteTime": {
     "end_time": "2019-09-18T15:44:30.939047Z",
     "start_time": "2019-09-18T15:44:30.933057Z"
    },
    "code_folding": []
   },
   "outputs": [
    {
     "name": "stdout",
     "output_type": "stream",
     "text": [
      "()\n"
     ]
    }
   ],
   "source": [
    "# пустой tuple\n",
    "\n",
    "x = ()\n",
    "\n",
    "print (x)"
   ]
  },
  {
   "cell_type": "markdown",
   "metadata": {},
   "source": [
    "\"Одномерный\" tuple"
   ]
  },
  {
   "cell_type": "code",
   "execution_count": 130,
   "metadata": {
    "ExecuteTime": {
     "end_time": "2019-09-18T15:44:46.332047Z",
     "start_time": "2019-09-18T15:44:46.326170Z"
    },
    "code_folding": []
   },
   "outputs": [
    {
     "data": {
      "text/plain": [
       "int"
      ]
     },
     "execution_count": 130,
     "metadata": {},
     "output_type": "execute_result"
    }
   ],
   "source": [
    "# \"наивная\" попытка\n",
    "\n",
    "x = (1)\n",
    "\n",
    "type(x)"
   ]
  },
  {
   "cell_type": "markdown",
   "metadata": {},
   "source": [
    "Здесь Питон интерпретировал скобки как обычные скобки в выражениях. \n",
    "\n",
    "Чтобы Питон интерпретировал тип как tuple надо использовать запятую: "
   ]
  },
  {
   "cell_type": "code",
   "execution_count": 131,
   "metadata": {
    "ExecuteTime": {
     "end_time": "2019-09-18T15:45:15.343824Z",
     "start_time": "2019-09-18T15:45:15.338196Z"
    },
    "code_folding": []
   },
   "outputs": [
    {
     "data": {
      "text/plain": [
       "tuple"
      ]
     },
     "execution_count": 131,
     "metadata": {},
     "output_type": "execute_result"
    }
   ],
   "source": [
    "# правильный \"одномерный\" tuple\n",
    "\n",
    "x = (1, )\n",
    "\n",
    "type(x)"
   ]
  },
  {
   "cell_type": "markdown",
   "metadata": {},
   "source": [
    "#### Запаковка и распаковка (packing and unpacking)"
   ]
  },
  {
   "cell_type": "markdown",
   "metadata": {},
   "source": [
    "##### Запаковка (packing) "
   ]
  },
  {
   "cell_type": "markdown",
   "metadata": {},
   "source": [
    "Присваивание некой переменной кортеж их нескольких объектов может рассматриваться как \"запаковка\" этих объектов в один объект - tuple."
   ]
  },
  {
   "cell_type": "code",
   "execution_count": 132,
   "metadata": {
    "ExecuteTime": {
     "end_time": "2019-09-18T15:45:50.418005Z",
     "start_time": "2019-09-18T15:45:50.412303Z"
    },
    "code_folding": []
   },
   "outputs": [
    {
     "name": "stdout",
     "output_type": "stream",
     "text": [
      "(1, 2, 3, 4)\n"
     ]
    }
   ],
   "source": [
    "# packing\n",
    "\n",
    "x = 1, 2, 3, 4\n",
    "\n",
    "print (x)"
   ]
  },
  {
   "cell_type": "markdown",
   "metadata": {},
   "source": [
    "##### Распаковка (unpacking) "
   ]
  },
  {
   "cell_type": "markdown",
   "metadata": {},
   "source": [
    "Когда \"запакованный\" кортеж присваивается некоторому другому кортежу, то этот процесс называется распаковкой:"
   ]
  },
  {
   "cell_type": "code",
   "execution_count": 138,
   "metadata": {
    "ExecuteTime": {
     "end_time": "2019-09-18T15:48:22.233838Z",
     "start_time": "2019-09-18T15:48:22.227458Z"
    },
    "code_folding": []
   },
   "outputs": [
    {
     "name": "stdout",
     "output_type": "stream",
     "text": [
      "1 <class 'int'>\n",
      "2 <class 'int'>\n",
      "3 <class 'int'>\n"
     ]
    }
   ],
   "source": [
    "# unpacking\n",
    "\n",
    "x, y, z = (1, 2, 3)\n",
    "\n",
    "print (x, type(x))\n",
    "print (y, type(x))\n",
    "print (z, type(x))"
   ]
  },
  {
   "cell_type": "markdown",
   "metadata": {},
   "source": [
    "Длина должна совпадать: "
   ]
  },
  {
   "cell_type": "code",
   "execution_count": 134,
   "metadata": {
    "ExecuteTime": {
     "end_time": "2019-09-18T15:46:31.522298Z",
     "start_time": "2019-09-18T15:46:31.511257Z"
    },
    "code_folding": []
   },
   "outputs": [
    {
     "ename": "ValueError",
     "evalue": "too many values to unpack (expected 2)",
     "output_type": "error",
     "traceback": [
      "\u001b[0;31m---------------------------------------------------------------------------\u001b[0m",
      "\u001b[0;31mValueError\u001b[0m                                Traceback (most recent call last)",
      "\u001b[0;32m<ipython-input-134-a20557fc1382>\u001b[0m in \u001b[0;36m<module>\u001b[0;34m\u001b[0m\n\u001b[1;32m      1\u001b[0m \u001b[0;31m# unpacking with error\u001b[0m\u001b[0;34m\u001b[0m\u001b[0;34m\u001b[0m\u001b[0;34m\u001b[0m\u001b[0m\n\u001b[1;32m      2\u001b[0m \u001b[0;34m\u001b[0m\u001b[0m\n\u001b[0;32m----> 3\u001b[0;31m \u001b[0mx\u001b[0m\u001b[0;34m,\u001b[0m \u001b[0my\u001b[0m \u001b[0;34m=\u001b[0m \u001b[0;34m(\u001b[0m\u001b[0;36m1\u001b[0m\u001b[0;34m,\u001b[0m \u001b[0;36m2\u001b[0m\u001b[0;34m,\u001b[0m \u001b[0;36m3\u001b[0m\u001b[0;34m)\u001b[0m\u001b[0;34m\u001b[0m\u001b[0;34m\u001b[0m\u001b[0m\n\u001b[0m",
      "\u001b[0;31mValueError\u001b[0m: too many values to unpack (expected 2)"
     ]
    }
   ],
   "source": [
    "# unpacking with error\n",
    "\n",
    "x, y = (1, 2, 3)"
   ]
  },
  {
   "cell_type": "markdown",
   "metadata": {},
   "source": [
    "С помощью этого операцию свопа можно довольно красиво написать!"
   ]
  },
  {
   "cell_type": "code",
   "execution_count": 137,
   "metadata": {
    "ExecuteTime": {
     "end_time": "2019-09-18T15:47:19.890201Z",
     "start_time": "2019-09-18T15:47:19.884307Z"
    },
    "code_folding": []
   },
   "outputs": [
    {
     "name": "stdout",
     "output_type": "stream",
     "text": [
      "1 2\n",
      "2 1\n"
     ]
    }
   ],
   "source": [
    "#beautiful swap\n",
    "\n",
    "x, y = 1, 2\n",
    "\n",
    "print (x, y)\n",
    "\n",
    "y, x = x, y\n",
    "\n",
    "print (x, y)"
   ]
  },
  {
   "cell_type": "markdown",
   "metadata": {},
   "source": [
    "### Dictionary (словарь)"
   ]
  },
  {
   "cell_type": "markdown",
   "metadata": {},
   "source": [
    "Словарь - неупорядоченная коллекция произвольных объектов с доступом по ключу. Их иногда ещё называют ассоциативными массивами или хеш-таблицами.\n",
    "\n",
    "Является изменяемым (mutable).\n",
    "\n",
    "Задается следующим образом:"
   ]
  },
  {
   "cell_type": "code",
   "execution_count": 140,
   "metadata": {
    "ExecuteTime": {
     "end_time": "2019-09-18T15:49:28.804772Z",
     "start_time": "2019-09-18T15:49:28.796955Z"
    },
    "code_folding": []
   },
   "outputs": [
    {
     "name": "stdout",
     "output_type": "stream",
     "text": [
      "{1: 2, 3: 4}\n"
     ]
    }
   ],
   "source": [
    "# словарь задается с помощью {}\n",
    "\n",
    "x = {1: 2, 3: 4}\n",
    "\n",
    "print (x)"
   ]
  },
  {
   "cell_type": "markdown",
   "metadata": {},
   "source": [
    "Или с помощью dict:"
   ]
  },
  {
   "cell_type": "code",
   "execution_count": 141,
   "metadata": {
    "ExecuteTime": {
     "end_time": "2019-09-18T15:49:52.883319Z",
     "start_time": "2019-09-18T15:49:52.876212Z"
    },
    "code_folding": []
   },
   "outputs": [
    {
     "name": "stdout",
     "output_type": "stream",
     "text": [
      "{1: 2, 3: 4}\n"
     ]
    }
   ],
   "source": [
    "# или с помощью dict()\n",
    "\n",
    "x = dict([(1, 2), (3, 4)])\n",
    "\n",
    "print (x)"
   ]
  },
  {
   "cell_type": "markdown",
   "metadata": {},
   "source": [
    "То, что стоит до двоеточия - ключ, после двоеточия - значение."
   ]
  },
  {
   "cell_type": "markdown",
   "metadata": {},
   "source": [
    "Ключи и значения могут быть разных типов:"
   ]
  },
  {
   "cell_type": "code",
   "execution_count": 142,
   "metadata": {
    "ExecuteTime": {
     "end_time": "2019-09-18T15:50:09.398005Z",
     "start_time": "2019-09-18T15:50:09.389704Z"
    },
    "code_folding": []
   },
   "outputs": [
    {
     "name": "stdout",
     "output_type": "stream",
     "text": [
      "{1: 'one', 'two': 2, 'many': [3, 4, 5]}\n"
     ]
    }
   ],
   "source": [
    "# пример с разными типами\n",
    "\n",
    "y = {1: 'one', 'two': 2, 'many': [3, 4, 5]}\n",
    "\n",
    "print(y)"
   ]
  },
  {
   "cell_type": "markdown",
   "metadata": {},
   "source": [
    "#### Доступ к элементам"
   ]
  },
  {
   "cell_type": "markdown",
   "metadata": {},
   "source": [
    "Доступ к элементу происходит по ключу:"
   ]
  },
  {
   "cell_type": "code",
   "execution_count": 143,
   "metadata": {
    "ExecuteTime": {
     "end_time": "2019-09-18T15:50:36.161824Z",
     "start_time": "2019-09-18T15:50:36.152387Z"
    }
   },
   "outputs": [
    {
     "data": {
      "text/plain": [
       "2"
      ]
     },
     "execution_count": 143,
     "metadata": {},
     "output_type": "execute_result"
    }
   ],
   "source": [
    "y = {1: 'one', 'two': 2, 'many': [3, 4, 5]}\n",
    "\n",
    "y['two']"
   ]
  },
  {
   "cell_type": "code",
   "execution_count": 145,
   "metadata": {
    "ExecuteTime": {
     "end_time": "2019-09-18T15:51:04.271192Z",
     "start_time": "2019-09-18T15:51:04.262685Z"
    }
   },
   "outputs": [
    {
     "data": {
      "text/plain": [
       "'one'"
      ]
     },
     "execution_count": 145,
     "metadata": {},
     "output_type": "execute_result"
    }
   ],
   "source": [
    "y[1]"
   ]
  },
  {
   "cell_type": "markdown",
   "metadata": {},
   "source": [
    "#### Добавление нового элемента"
   ]
  },
  {
   "cell_type": "code",
   "execution_count": 146,
   "metadata": {
    "ExecuteTime": {
     "end_time": "2019-09-18T15:51:20.016452Z",
     "start_time": "2019-09-18T15:51:20.008211Z"
    }
   },
   "outputs": [
    {
     "name": "stdout",
     "output_type": "stream",
     "text": [
      "{1: 'one', 'two': 2, 'many': [3, 4, 5]}\n"
     ]
    }
   ],
   "source": [
    "y = {1: 'one', 'two': 2, 'many': [3, 4, 5]}\n",
    "\n",
    "print (y)"
   ]
  },
  {
   "cell_type": "code",
   "execution_count": 147,
   "metadata": {
    "ExecuteTime": {
     "end_time": "2019-09-18T15:51:38.378091Z",
     "start_time": "2019-09-18T15:51:38.370576Z"
    }
   },
   "outputs": [
    {
     "name": "stdout",
     "output_type": "stream",
     "text": [
      "{1: 'one', 'two': 2, 'many': [3, 4, 5], 'six': 6}\n"
     ]
    }
   ],
   "source": [
    "y['six'] = 6\n",
    "\n",
    "print (y)"
   ]
  },
  {
   "cell_type": "markdown",
   "metadata": {},
   "source": [
    "#### Удаление элемента"
   ]
  },
  {
   "cell_type": "markdown",
   "metadata": {},
   "source": [
    "Удаление элемента с помощью del:"
   ]
  },
  {
   "cell_type": "code",
   "execution_count": 148,
   "metadata": {
    "ExecuteTime": {
     "end_time": "2019-09-18T15:52:30.209922Z",
     "start_time": "2019-09-18T15:52:30.202783Z"
    }
   },
   "outputs": [
    {
     "name": "stdout",
     "output_type": "stream",
     "text": [
      "{1: 'one', 'two': 2, 'many': [3, 4, 5]}\n"
     ]
    }
   ],
   "source": [
    "del y['six']\n",
    "\n",
    "print (y)"
   ]
  },
  {
   "cell_type": "markdown",
   "metadata": {},
   "source": [
    "#### Ограничения на ключи"
   ]
  },
  {
   "cell_type": "markdown",
   "metadata": {},
   "source": [
    " - Не должно быть дубликатов (а если будут - то возьмется последнее значение)"
   ]
  },
  {
   "cell_type": "markdown",
   "metadata": {},
   "source": [
    " - Ключ должен быть hashable! "
   ]
  },
  {
   "cell_type": "markdown",
   "metadata": {},
   "source": [
    "Ключ должен быть hashable (то есть, его можно передать в функцию hash)\n",
    "\n",
    "Можно понимать это так, что списки/словари/множества передвавать сюда нельзя:"
   ]
  },
  {
   "cell_type": "code",
   "execution_count": 150,
   "metadata": {
    "ExecuteTime": {
     "end_time": "2019-09-18T15:53:12.210489Z",
     "start_time": "2019-09-18T15:53:12.202494Z"
    }
   },
   "outputs": [
    {
     "name": "stdout",
     "output_type": "stream",
     "text": [
      "{1: 4, 3: 4}\n"
     ]
    }
   ],
   "source": [
    "x = {1:2, 3:4, 1:4}\n",
    "\n",
    "print(x)"
   ]
  },
  {
   "cell_type": "code",
   "execution_count": 151,
   "metadata": {
    "ExecuteTime": {
     "end_time": "2019-09-18T15:53:49.782599Z",
     "start_time": "2019-09-18T15:53:49.765569Z"
    }
   },
   "outputs": [
    {
     "ename": "TypeError",
     "evalue": "unhashable type: 'list'",
     "output_type": "error",
     "traceback": [
      "\u001b[0;31m---------------------------------------------------------------------------\u001b[0m",
      "\u001b[0;31mTypeError\u001b[0m                                 Traceback (most recent call last)",
      "\u001b[0;32m<ipython-input-151-7b07165b8b9c>\u001b[0m in \u001b[0;36m<module>\u001b[0;34m\u001b[0m\n\u001b[0;32m----> 1\u001b[0;31m \u001b[0mx\u001b[0m \u001b[0;34m=\u001b[0m \u001b[0;34m{\u001b[0m\u001b[0;34m[\u001b[0m\u001b[0;36m1\u001b[0m\u001b[0;34m,\u001b[0m \u001b[0;36m2\u001b[0m\u001b[0;34m,\u001b[0m \u001b[0;36m3\u001b[0m\u001b[0;34m]\u001b[0m\u001b[0;34m:\u001b[0m \u001b[0;36m4\u001b[0m\u001b[0;34m}\u001b[0m\u001b[0;34m\u001b[0m\u001b[0;34m\u001b[0m\u001b[0m\n\u001b[0m",
      "\u001b[0;31mTypeError\u001b[0m: unhashable type: 'list'"
     ]
    }
   ],
   "source": [
    "x = {[1, 2, 3]: 4}"
   ]
  },
  {
   "cell_type": "markdown",
   "metadata": {},
   "source": [
    "А tuple можно:"
   ]
  },
  {
   "cell_type": "code",
   "execution_count": 153,
   "metadata": {
    "ExecuteTime": {
     "end_time": "2019-09-18T15:54:05.573555Z",
     "start_time": "2019-09-18T15:54:05.564259Z"
    }
   },
   "outputs": [
    {
     "data": {
      "text/plain": [
       "{(1, 2, 3): 4}"
      ]
     },
     "execution_count": 153,
     "metadata": {},
     "output_type": "execute_result"
    }
   ],
   "source": [
    "x = {(1, 2, 3): 4}\n",
    "\n",
    "x"
   ]
  },
  {
   "cell_type": "markdown",
   "metadata": {},
   "source": [
    "#### Операции над словарями "
   ]
  },
  {
   "cell_type": "markdown",
   "metadata": {},
   "source": [
    "##### clear"
   ]
  },
  {
   "cell_type": "markdown",
   "metadata": {},
   "source": [
    "очищает словарь"
   ]
  },
  {
   "cell_type": "code",
   "execution_count": 154,
   "metadata": {
    "ExecuteTime": {
     "end_time": "2019-09-18T15:54:19.116071Z",
     "start_time": "2019-09-18T15:54:19.106538Z"
    }
   },
   "outputs": [
    {
     "data": {
      "text/plain": [
       "{'one': 1, 'two': 2, 'three': 3}"
      ]
     },
     "execution_count": 154,
     "metadata": {},
     "output_type": "execute_result"
    }
   ],
   "source": [
    "x = {'one': 1, 'two': 2, 'three': 3}\n",
    "\n",
    "x"
   ]
  },
  {
   "cell_type": "code",
   "execution_count": 155,
   "metadata": {
    "ExecuteTime": {
     "end_time": "2019-09-18T15:54:26.291373Z",
     "start_time": "2019-09-18T15:54:26.284203Z"
    }
   },
   "outputs": [
    {
     "name": "stdout",
     "output_type": "stream",
     "text": [
      "{}\n"
     ]
    }
   ],
   "source": [
    "x.clear()\n",
    "\n",
    "print (x)"
   ]
  },
  {
   "cell_type": "markdown",
   "metadata": {},
   "source": [
    "##### get"
   ]
  },
  {
   "cell_type": "markdown",
   "metadata": {},
   "source": [
    "отдает значение из списка по ключу, если есть\n",
    "\n",
    "если нет - отдает None, если передано значение по умолчанию - то его"
   ]
  },
  {
   "cell_type": "code",
   "execution_count": 156,
   "metadata": {
    "ExecuteTime": {
     "end_time": "2019-09-18T15:54:43.404798Z",
     "start_time": "2019-09-18T15:54:43.395842Z"
    }
   },
   "outputs": [
    {
     "data": {
      "text/plain": [
       "{'one': 1, 'two': 2, 'three': 3}"
      ]
     },
     "execution_count": 156,
     "metadata": {},
     "output_type": "execute_result"
    }
   ],
   "source": [
    "x = {'one': 1, 'two': 2, 'three': 3}\n",
    "\n",
    "x"
   ]
  },
  {
   "cell_type": "code",
   "execution_count": 157,
   "metadata": {
    "ExecuteTime": {
     "end_time": "2019-09-18T15:54:52.447503Z",
     "start_time": "2019-09-18T15:54:52.433424Z"
    },
    "code_folding": []
   },
   "outputs": [
    {
     "ename": "KeyError",
     "evalue": "'four'",
     "output_type": "error",
     "traceback": [
      "\u001b[0;31m---------------------------------------------------------------------------\u001b[0m",
      "\u001b[0;31mKeyError\u001b[0m                                  Traceback (most recent call last)",
      "\u001b[0;32m<ipython-input-157-3cd6c25a1043>\u001b[0m in \u001b[0;36m<module>\u001b[0;34m\u001b[0m\n\u001b[1;32m      1\u001b[0m \u001b[0;31m# попытаемся извлечь с помощью []\u001b[0m\u001b[0;34m\u001b[0m\u001b[0;34m\u001b[0m\u001b[0;34m\u001b[0m\u001b[0m\n\u001b[1;32m      2\u001b[0m \u001b[0;34m\u001b[0m\u001b[0m\n\u001b[0;32m----> 3\u001b[0;31m \u001b[0mx\u001b[0m\u001b[0;34m[\u001b[0m\u001b[0;34m'four'\u001b[0m\u001b[0;34m]\u001b[0m\u001b[0;34m\u001b[0m\u001b[0;34m\u001b[0m\u001b[0m\n\u001b[0m",
      "\u001b[0;31mKeyError\u001b[0m: 'four'"
     ]
    }
   ],
   "source": [
    "# попытаемся извлечь с помощью []\n",
    "\n",
    "x['four']"
   ]
  },
  {
   "cell_type": "code",
   "execution_count": 160,
   "metadata": {
    "ExecuteTime": {
     "end_time": "2019-09-18T15:55:27.972677Z",
     "start_time": "2019-09-18T15:55:27.966190Z"
    }
   },
   "outputs": [
    {
     "name": "stdout",
     "output_type": "stream",
     "text": [
      "-1\n"
     ]
    }
   ],
   "source": [
    "print (x.get('four', -1))"
   ]
  },
  {
   "cell_type": "markdown",
   "metadata": {},
   "source": [
    "##### items"
   ]
  },
  {
   "cell_type": "markdown",
   "metadata": {},
   "source": [
    "отдает список пар ключ-значение в произвольном,но неслучайном порядке"
   ]
  },
  {
   "cell_type": "code",
   "execution_count": 161,
   "metadata": {
    "ExecuteTime": {
     "end_time": "2019-09-18T15:56:16.635671Z",
     "start_time": "2019-09-18T15:56:16.627163Z"
    }
   },
   "outputs": [
    {
     "data": {
      "text/plain": [
       "{'one': 1, 'two': 2, 'three': 3}"
      ]
     },
     "execution_count": 161,
     "metadata": {},
     "output_type": "execute_result"
    }
   ],
   "source": [
    "x = {'one': 1, 'two': 2, 'three': 3}\n",
    "\n",
    "x"
   ]
  },
  {
   "cell_type": "code",
   "execution_count": 162,
   "metadata": {
    "ExecuteTime": {
     "end_time": "2019-09-18T15:56:23.199669Z",
     "start_time": "2019-09-18T15:56:23.191036Z"
    }
   },
   "outputs": [
    {
     "data": {
      "text/plain": [
       "dict_items([('one', 1), ('two', 2), ('three', 3)])"
      ]
     },
     "execution_count": 162,
     "metadata": {},
     "output_type": "execute_result"
    }
   ],
   "source": [
    "x.items()"
   ]
  },
  {
   "cell_type": "markdown",
   "metadata": {},
   "source": [
    "##### keys"
   ]
  },
  {
   "cell_type": "markdown",
   "metadata": {},
   "source": [
    "отдает список ключей"
   ]
  },
  {
   "cell_type": "code",
   "execution_count": 163,
   "metadata": {
    "ExecuteTime": {
     "end_time": "2019-09-18T15:56:32.934575Z",
     "start_time": "2019-09-18T15:56:32.926379Z"
    }
   },
   "outputs": [
    {
     "data": {
      "text/plain": [
       "{'one': 1, 'two': 2, 'three': 3}"
      ]
     },
     "execution_count": 163,
     "metadata": {},
     "output_type": "execute_result"
    }
   ],
   "source": [
    "x = {'one': 1, 'two': 2, 'three': 3}\n",
    "\n",
    "x"
   ]
  },
  {
   "cell_type": "code",
   "execution_count": 166,
   "metadata": {
    "ExecuteTime": {
     "end_time": "2019-09-18T15:57:06.516077Z",
     "start_time": "2019-09-18T15:57:06.507973Z"
    }
   },
   "outputs": [
    {
     "data": {
      "text/plain": [
       "['one', 'two', 'three']"
      ]
     },
     "execution_count": 166,
     "metadata": {},
     "output_type": "execute_result"
    }
   ],
   "source": [
    "list(x.keys())"
   ]
  },
  {
   "cell_type": "markdown",
   "metadata": {},
   "source": [
    "##### values"
   ]
  },
  {
   "cell_type": "markdown",
   "metadata": {},
   "source": [
    "отдает список значений"
   ]
  },
  {
   "cell_type": "code",
   "execution_count": null,
   "metadata": {
    "ExecuteTime": {
     "end_time": "2019-09-17T11:27:56.665088Z",
     "start_time": "2019-09-17T11:27:56.659467Z"
    }
   },
   "outputs": [],
   "source": [
    "x = {'one': 1, 'two': 2, 'three': 3}\n",
    "\n",
    "x"
   ]
  },
  {
   "cell_type": "code",
   "execution_count": 165,
   "metadata": {
    "ExecuteTime": {
     "end_time": "2019-09-18T15:56:47.379088Z",
     "start_time": "2019-09-18T15:56:47.370595Z"
    }
   },
   "outputs": [
    {
     "data": {
      "text/plain": [
       "dict_values([1, 2, 3])"
      ]
     },
     "execution_count": 165,
     "metadata": {},
     "output_type": "execute_result"
    }
   ],
   "source": [
    "x.values()"
   ]
  },
  {
   "cell_type": "markdown",
   "metadata": {},
   "source": [
    "##### pop"
   ]
  },
  {
   "cell_type": "markdown",
   "metadata": {},
   "source": [
    "удаляет ключ из словаря и возвращает его значение"
   ]
  },
  {
   "cell_type": "code",
   "execution_count": 167,
   "metadata": {
    "ExecuteTime": {
     "end_time": "2019-09-18T15:57:35.839553Z",
     "start_time": "2019-09-18T15:57:35.830071Z"
    }
   },
   "outputs": [
    {
     "data": {
      "text/plain": [
       "{'one': 1, 'two': 2, 'three': 3}"
      ]
     },
     "execution_count": 167,
     "metadata": {},
     "output_type": "execute_result"
    }
   ],
   "source": [
    "x = {'one': 1, 'two': 2, 'three': 3}\n",
    "\n",
    "x"
   ]
  },
  {
   "cell_type": "code",
   "execution_count": 169,
   "metadata": {
    "ExecuteTime": {
     "end_time": "2019-09-18T15:58:17.449358Z",
     "start_time": "2019-09-18T15:58:17.441766Z"
    }
   },
   "outputs": [
    {
     "name": "stdout",
     "output_type": "stream",
     "text": [
      "2 {'one': 1, 'three': 3}\n"
     ]
    }
   ],
   "source": [
    "print(x.pop('two'), x)"
   ]
  },
  {
   "cell_type": "markdown",
   "metadata": {},
   "source": [
    "##### popitem"
   ]
  },
  {
   "cell_type": "markdown",
   "metadata": {},
   "source": [
    "удаляет случайную пару ключ-значение и возвращает их в виде tuple"
   ]
  },
  {
   "cell_type": "code",
   "execution_count": 172,
   "metadata": {
    "ExecuteTime": {
     "end_time": "2019-09-18T15:58:44.278086Z",
     "start_time": "2019-09-18T15:58:44.268987Z"
    }
   },
   "outputs": [
    {
     "data": {
      "text/plain": [
       "{'one': 1, 'two': 2, 'three': 3}"
      ]
     },
     "execution_count": 172,
     "metadata": {},
     "output_type": "execute_result"
    }
   ],
   "source": [
    "x = {'one': 1, 'two': 2, 'three': 3}\n",
    "\n",
    "x"
   ]
  },
  {
   "cell_type": "code",
   "execution_count": 176,
   "metadata": {
    "ExecuteTime": {
     "end_time": "2019-09-18T15:58:52.739400Z",
     "start_time": "2019-09-18T15:58:52.723835Z"
    }
   },
   "outputs": [
    {
     "ename": "KeyError",
     "evalue": "'popitem(): dictionary is empty'",
     "output_type": "error",
     "traceback": [
      "\u001b[0;31m---------------------------------------------------------------------------\u001b[0m",
      "\u001b[0;31mKeyError\u001b[0m                                  Traceback (most recent call last)",
      "\u001b[0;32m<ipython-input-176-4436ca9c409a>\u001b[0m in \u001b[0;36m<module>\u001b[0;34m\u001b[0m\n\u001b[0;32m----> 1\u001b[0;31m \u001b[0mprint\u001b[0m\u001b[0;34m(\u001b[0m\u001b[0mx\u001b[0m\u001b[0;34m.\u001b[0m\u001b[0mpopitem\u001b[0m\u001b[0;34m(\u001b[0m\u001b[0;34m)\u001b[0m\u001b[0;34m,\u001b[0m \u001b[0mx\u001b[0m\u001b[0;34m)\u001b[0m\u001b[0;34m\u001b[0m\u001b[0;34m\u001b[0m\u001b[0m\n\u001b[0m",
      "\u001b[0;31mKeyError\u001b[0m: 'popitem(): dictionary is empty'"
     ]
    }
   ],
   "source": [
    "print(x.popitem(), x)"
   ]
  },
  {
   "cell_type": "markdown",
   "metadata": {},
   "source": [
    "##### update"
   ]
  },
  {
   "cell_type": "markdown",
   "metadata": {},
   "source": [
    "обновление значений в словаре или добавление"
   ]
  },
  {
   "cell_type": "code",
   "execution_count": 177,
   "metadata": {
    "ExecuteTime": {
     "end_time": "2019-09-18T15:59:02.321037Z",
     "start_time": "2019-09-18T15:59:02.311530Z"
    }
   },
   "outputs": [
    {
     "data": {
      "text/plain": [
       "{'one': 1, 'two': 2, 'three': 3}"
      ]
     },
     "execution_count": 177,
     "metadata": {},
     "output_type": "execute_result"
    }
   ],
   "source": [
    "x = {'one': 1, 'two': 2, 'three': 3}\n",
    "\n",
    "x"
   ]
  },
  {
   "cell_type": "code",
   "execution_count": 178,
   "metadata": {
    "ExecuteTime": {
     "end_time": "2019-09-18T15:59:38.700714Z",
     "start_time": "2019-09-18T15:59:38.693864Z"
    }
   },
   "outputs": [
    {
     "name": "stdout",
     "output_type": "stream",
     "text": [
      "{'one': 1.0, 'two': 2, 'three': 3, 'four': 4}\n"
     ]
    }
   ],
   "source": [
    "x.update({'one': 1.0, 'four':4})\n",
    "\n",
    "print (x)"
   ]
  },
  {
   "cell_type": "markdown",
   "metadata": {},
   "source": [
    "### Sets (Множества)"
   ]
  },
  {
   "cell_type": "markdown",
   "metadata": {},
   "source": [
    "Set - неупорядоченное множество уникальных immutable объектов. \n",
    "\n",
    "Является изменяемым (mutable).\n",
    "\n",
    "Задается с помощью фигурных скобок:"
   ]
  },
  {
   "cell_type": "code",
   "execution_count": 181,
   "metadata": {
    "ExecuteTime": {
     "end_time": "2019-09-18T16:01:06.151613Z",
     "start_time": "2019-09-18T16:01:06.145725Z"
    }
   },
   "outputs": [
    {
     "name": "stdout",
     "output_type": "stream",
     "text": [
      "{1, 2}\n"
     ]
    }
   ],
   "source": [
    "x = {1, 1, 2, 2}\n",
    "\n",
    "print (x)"
   ]
  },
  {
   "cell_type": "markdown",
   "metadata": {},
   "source": [
    "Или с помощью set:"
   ]
  },
  {
   "cell_type": "code",
   "execution_count": 182,
   "metadata": {
    "ExecuteTime": {
     "end_time": "2019-09-18T16:01:26.902957Z",
     "start_time": "2019-09-18T16:01:26.894414Z"
    }
   },
   "outputs": [
    {
     "name": "stdout",
     "output_type": "stream",
     "text": [
      "{1, 2}\n"
     ]
    }
   ],
   "source": [
    "x = set([1, 1, 2])\n",
    "\n",
    "print (x)"
   ]
  },
  {
   "cell_type": "markdown",
   "metadata": {},
   "source": [
    "Пустое множество:"
   ]
  },
  {
   "cell_type": "code",
   "execution_count": 183,
   "metadata": {
    "ExecuteTime": {
     "end_time": "2019-09-18T16:01:32.482540Z",
     "start_time": "2019-09-18T16:01:32.475477Z"
    }
   },
   "outputs": [
    {
     "name": "stdout",
     "output_type": "stream",
     "text": [
      "{}\n"
     ]
    }
   ],
   "source": [
    "x = {}\n",
    "\n",
    "print(x)"
   ]
  },
  {
   "cell_type": "markdown",
   "metadata": {},
   "source": [
    "#### Принадлежность к множеству"
   ]
  },
  {
   "cell_type": "markdown",
   "metadata": {},
   "source": [
    "Принадлежность к множеству проверяется с помощью оператора in:"
   ]
  },
  {
   "cell_type": "code",
   "execution_count": 185,
   "metadata": {
    "ExecuteTime": {
     "end_time": "2019-09-18T16:01:58.985919Z",
     "start_time": "2019-09-18T16:01:58.978219Z"
    }
   },
   "outputs": [
    {
     "name": "stdout",
     "output_type": "stream",
     "text": [
      "False\n"
     ]
    }
   ],
   "source": [
    "x = {1, 2, 3}\n",
    "\n",
    "print (4 in x)"
   ]
  },
  {
   "cell_type": "markdown",
   "metadata": {},
   "source": [
    "#### Операции над множествами"
   ]
  },
  {
   "cell_type": "markdown",
   "metadata": {},
   "source": [
    "##### Объединение"
   ]
  },
  {
   "cell_type": "markdown",
   "metadata": {
    "ExecuteTime": {
     "end_time": "2019-09-16T15:29:25.783572Z",
     "start_time": "2019-09-16T15:29:25.776069Z"
    }
   },
   "source": [
    "c помощью union или |"
   ]
  },
  {
   "cell_type": "code",
   "execution_count": 201,
   "metadata": {
    "ExecuteTime": {
     "end_time": "2019-09-18T16:05:53.852418Z",
     "start_time": "2019-09-18T16:05:53.846252Z"
    }
   },
   "outputs": [],
   "source": [
    "s1 = {1, 2, 3}\n",
    "s2 = {2, 3, 4}\n",
    "s3 = {3, 4, 5}"
   ]
  },
  {
   "cell_type": "code",
   "execution_count": 202,
   "metadata": {
    "ExecuteTime": {
     "end_time": "2019-09-18T16:06:15.235190Z",
     "start_time": "2019-09-18T16:06:15.224047Z"
    }
   },
   "outputs": [
    {
     "name": "stdout",
     "output_type": "stream",
     "text": [
      "{1, 2, 3} {2, 3, 4}\n",
      "140454767108168 140454767109736\n",
      "\n",
      "{1, 2, 3} {2, 3, 4}\n",
      "140454767108168 140454767109736\n"
     ]
    }
   ],
   "source": [
    "print (s1, s2)\n",
    "print (id(s1), id(s2))\n",
    "print()\n",
    "\n",
    "s1.union(s2)\n",
    "print (s1, s2)\n",
    "print (id(s1), id(s2))"
   ]
  },
  {
   "cell_type": "code",
   "execution_count": 188,
   "metadata": {
    "ExecuteTime": {
     "end_time": "2019-09-18T16:02:40.368327Z",
     "start_time": "2019-09-18T16:02:40.361397Z"
    }
   },
   "outputs": [
    {
     "data": {
      "text/plain": [
       "{1, 2, 3, 4}"
      ]
     },
     "execution_count": 188,
     "metadata": {},
     "output_type": "execute_result"
    }
   ],
   "source": [
    "s1 | s2"
   ]
  },
  {
   "cell_type": "markdown",
   "metadata": {},
   "source": [
    "##### Пересечение"
   ]
  },
  {
   "cell_type": "markdown",
   "metadata": {},
   "source": [
    "c помощью intersection или &"
   ]
  },
  {
   "cell_type": "code",
   "execution_count": 189,
   "metadata": {
    "ExecuteTime": {
     "end_time": "2019-09-18T16:02:52.734422Z",
     "start_time": "2019-09-18T16:02:52.726191Z"
    }
   },
   "outputs": [
    {
     "data": {
      "text/plain": [
       "{2, 3}"
      ]
     },
     "execution_count": 189,
     "metadata": {},
     "output_type": "execute_result"
    }
   ],
   "source": [
    "s1.intersection(s2)"
   ]
  },
  {
   "cell_type": "code",
   "execution_count": 190,
   "metadata": {
    "ExecuteTime": {
     "end_time": "2019-09-18T16:03:04.481648Z",
     "start_time": "2019-09-18T16:03:04.473308Z"
    }
   },
   "outputs": [
    {
     "data": {
      "text/plain": [
       "{2, 3}"
      ]
     },
     "execution_count": 190,
     "metadata": {},
     "output_type": "execute_result"
    }
   ],
   "source": [
    "s1 & s2"
   ]
  },
  {
   "cell_type": "markdown",
   "metadata": {},
   "source": [
    "##### Разность"
   ]
  },
  {
   "cell_type": "markdown",
   "metadata": {},
   "source": [
    "с помощью difference или -"
   ]
  },
  {
   "cell_type": "code",
   "execution_count": 191,
   "metadata": {
    "ExecuteTime": {
     "end_time": "2019-09-18T16:03:06.747580Z",
     "start_time": "2019-09-18T16:03:06.741870Z"
    }
   },
   "outputs": [],
   "source": [
    "s1 = {1, 2, 3}\n",
    "s2 = {2, 3, 4}"
   ]
  },
  {
   "cell_type": "code",
   "execution_count": 192,
   "metadata": {
    "ExecuteTime": {
     "end_time": "2019-09-18T16:03:11.505444Z",
     "start_time": "2019-09-18T16:03:11.497071Z"
    }
   },
   "outputs": [
    {
     "data": {
      "text/plain": [
       "{1}"
      ]
     },
     "execution_count": 192,
     "metadata": {},
     "output_type": "execute_result"
    }
   ],
   "source": [
    "s1 - s2"
   ]
  },
  {
   "cell_type": "markdown",
   "metadata": {},
   "source": [
    "##### Симметрическая разность"
   ]
  },
  {
   "cell_type": "markdown",
   "metadata": {
    "ExecuteTime": {
     "end_time": "2019-09-16T15:31:03.485536Z",
     "start_time": "2019-09-16T15:31:03.477787Z"
    }
   },
   "source": [
    "с помощью symmetric_difference или ^"
   ]
  },
  {
   "cell_type": "code",
   "execution_count": null,
   "metadata": {
    "ExecuteTime": {
     "end_time": "2019-09-17T11:27:56.709533Z",
     "start_time": "2019-09-17T11:27:56.705704Z"
    }
   },
   "outputs": [],
   "source": [
    "s1 = {1, 2, 3}\n",
    "s2 = {2, 3, 4}"
   ]
  },
  {
   "cell_type": "code",
   "execution_count": 193,
   "metadata": {
    "ExecuteTime": {
     "end_time": "2019-09-18T16:03:47.717122Z",
     "start_time": "2019-09-18T16:03:47.708829Z"
    }
   },
   "outputs": [
    {
     "data": {
      "text/plain": [
       "{1, 4}"
      ]
     },
     "execution_count": 193,
     "metadata": {},
     "output_type": "execute_result"
    }
   ],
   "source": [
    "s1 ^ s2"
   ]
  },
  {
   "cell_type": "markdown",
   "metadata": {
    "collapsed": true
   },
   "source": [
    "##### Пустое пересечение"
   ]
  },
  {
   "cell_type": "markdown",
   "metadata": {},
   "source": [
    "с помощью isdisjoint"
   ]
  },
  {
   "cell_type": "code",
   "execution_count": 205,
   "metadata": {
    "ExecuteTime": {
     "end_time": "2019-09-18T16:07:05.302638Z",
     "start_time": "2019-09-18T16:07:05.297028Z"
    }
   },
   "outputs": [],
   "source": [
    "s1 = {1, 2, 3}\n",
    "s2 = {3, 4}"
   ]
  },
  {
   "cell_type": "code",
   "execution_count": 206,
   "metadata": {
    "ExecuteTime": {
     "end_time": "2019-09-18T16:07:05.844574Z",
     "start_time": "2019-09-18T16:07:05.834981Z"
    }
   },
   "outputs": [
    {
     "data": {
      "text/plain": [
       "False"
      ]
     },
     "execution_count": 206,
     "metadata": {},
     "output_type": "execute_result"
    }
   ],
   "source": [
    "s1.isdisjoint(s2)"
   ]
  },
  {
   "cell_type": "markdown",
   "metadata": {},
   "source": [
    "######  Подмножество"
   ]
  },
  {
   "cell_type": "markdown",
   "metadata": {},
   "source": [
    "с помощью issubset или <, <=\n",
    "\n",
    "с помощью issuperset или >, >="
   ]
  },
  {
   "cell_type": "code",
   "execution_count": 196,
   "metadata": {
    "ExecuteTime": {
     "end_time": "2019-09-18T16:04:23.475662Z",
     "start_time": "2019-09-18T16:04:23.469275Z"
    }
   },
   "outputs": [],
   "source": [
    "s1 = {1, 2, 3}\n",
    "s2 = {2, 3}"
   ]
  },
  {
   "cell_type": "code",
   "execution_count": 198,
   "metadata": {
    "ExecuteTime": {
     "end_time": "2019-09-18T16:04:55.581174Z",
     "start_time": "2019-09-18T16:04:55.571967Z"
    }
   },
   "outputs": [
    {
     "data": {
      "text/plain": [
       "True"
      ]
     },
     "execution_count": 198,
     "metadata": {},
     "output_type": "execute_result"
    }
   ],
   "source": [
    "s2 <= s1 "
   ]
  },
  {
   "cell_type": "code",
   "execution_count": 200,
   "metadata": {
    "ExecuteTime": {
     "end_time": "2019-09-18T16:05:16.182303Z",
     "start_time": "2019-09-18T16:05:16.173397Z"
    }
   },
   "outputs": [
    {
     "data": {
      "text/plain": [
       "False"
      ]
     },
     "execution_count": 200,
     "metadata": {},
     "output_type": "execute_result"
    }
   ],
   "source": [
    "s1 < s2"
   ]
  },
  {
   "cell_type": "markdown",
   "metadata": {
    "ExecuteTime": {
     "end_time": "2019-09-17T12:10:19.375096Z",
     "start_time": "2019-09-17T12:10:16.793149Z"
    }
   },
   "source": [
    "### Frozenset (Неизменяемые множества)"
   ]
  },
  {
   "cell_type": "markdown",
   "metadata": {},
   "source": [
    "И так все понятно: frozenset - immutable"
   ]
  },
  {
   "cell_type": "code",
   "execution_count": 207,
   "metadata": {
    "ExecuteTime": {
     "end_time": "2019-09-18T16:07:45.035245Z",
     "start_time": "2019-09-18T16:07:45.026919Z"
    },
    "code_folding": []
   },
   "outputs": [
    {
     "name": "stdout",
     "output_type": "stream",
     "text": [
      "{1, 2, 3} frozenset({1, 2, 3})\n"
     ]
    }
   ],
   "source": [
    "# определим set и frozenset\n",
    "\n",
    "x = set([1, 2, 3])\n",
    "y = frozenset([1, 2, 3])\n",
    "\n",
    "print (x, y)"
   ]
  },
  {
   "cell_type": "code",
   "execution_count": 208,
   "metadata": {
    "ExecuteTime": {
     "end_time": "2019-09-18T16:07:57.957872Z",
     "start_time": "2019-09-18T16:07:57.952844Z"
    },
    "code_folding": []
   },
   "outputs": [
    {
     "name": "stdout",
     "output_type": "stream",
     "text": [
      "{1, 2, 3, 4}\n"
     ]
    }
   ],
   "source": [
    "# попробуем добавить 4 в set\n",
    "\n",
    "x.add(4)\n",
    "\n",
    "print (x)"
   ]
  },
  {
   "cell_type": "code",
   "execution_count": 209,
   "metadata": {
    "ExecuteTime": {
     "end_time": "2019-09-18T16:08:05.247729Z",
     "start_time": "2019-09-18T16:08:05.235469Z"
    },
    "code_folding": []
   },
   "outputs": [
    {
     "ename": "AttributeError",
     "evalue": "'frozenset' object has no attribute 'add'",
     "output_type": "error",
     "traceback": [
      "\u001b[0;31m---------------------------------------------------------------------------\u001b[0m",
      "\u001b[0;31mAttributeError\u001b[0m                            Traceback (most recent call last)",
      "\u001b[0;32m<ipython-input-209-2379683612d7>\u001b[0m in \u001b[0;36m<module>\u001b[0;34m\u001b[0m\n\u001b[1;32m      1\u001b[0m \u001b[0;31m# попробуем добавить 4 в frozenset\u001b[0m\u001b[0;34m\u001b[0m\u001b[0;34m\u001b[0m\u001b[0;34m\u001b[0m\u001b[0m\n\u001b[1;32m      2\u001b[0m \u001b[0;34m\u001b[0m\u001b[0m\n\u001b[0;32m----> 3\u001b[0;31m \u001b[0my\u001b[0m\u001b[0;34m.\u001b[0m\u001b[0madd\u001b[0m\u001b[0;34m(\u001b[0m\u001b[0;36m4\u001b[0m\u001b[0;34m)\u001b[0m\u001b[0;34m\u001b[0m\u001b[0;34m\u001b[0m\u001b[0m\n\u001b[0m\u001b[1;32m      4\u001b[0m \u001b[0;34m\u001b[0m\u001b[0m\n\u001b[1;32m      5\u001b[0m \u001b[0mprint\u001b[0m \u001b[0;34m(\u001b[0m\u001b[0my\u001b[0m\u001b[0;34m)\u001b[0m\u001b[0;34m\u001b[0m\u001b[0;34m\u001b[0m\u001b[0m\n",
      "\u001b[0;31mAttributeError\u001b[0m: 'frozenset' object has no attribute 'add'"
     ]
    }
   ],
   "source": [
    "# попробуем добавить 4 в frozenset\n",
    "\n",
    "y.add(4)\n",
    "\n",
    "print (y)"
   ]
  },
  {
   "cell_type": "markdown",
   "metadata": {},
   "source": [
    "## Цикл for"
   ]
  },
  {
   "cell_type": "markdown",
   "metadata": {},
   "source": [
    "Мы уже изучили цикл while.\n",
    "\n",
    "Перейдем к изучению более полезного и часто используемого цикла for.\n",
    "\n",
    "Выглядит он как-то так:"
   ]
  },
  {
   "cell_type": "code",
   "execution_count": 210,
   "metadata": {
    "ExecuteTime": {
     "end_time": "2019-09-18T16:09:18.832425Z",
     "start_time": "2019-09-18T16:09:18.823872Z"
    }
   },
   "outputs": [
    {
     "name": "stdout",
     "output_type": "stream",
     "text": [
      "1\n",
      "2\n",
      "3\n"
     ]
    }
   ],
   "source": [
    "for i in [1, 2, 3]:\n",
    "    print (i)"
   ]
  },
  {
   "cell_type": "markdown",
   "metadata": {},
   "source": [
    "После in может быть любой iterable объект (сейчас можно думать о них как о списках/кортежах/словарях/множествах)"
   ]
  },
  {
   "cell_type": "markdown",
   "metadata": {},
   "source": [
    "Если после in передать словарь, то цикл будет идти по ключам словаря:"
   ]
  },
  {
   "cell_type": "code",
   "execution_count": 211,
   "metadata": {
    "ExecuteTime": {
     "end_time": "2019-09-18T16:10:29.503562Z",
     "start_time": "2019-09-18T16:10:29.492809Z"
    }
   },
   "outputs": [
    {
     "name": "stdout",
     "output_type": "stream",
     "text": [
      "1\n",
      "3\n"
     ]
    }
   ],
   "source": [
    "for i in {1:2, 3:4}:\n",
    "    print (i)"
   ]
  },
  {
   "cell_type": "markdown",
   "metadata": {},
   "source": [
    "По словарю можно по-разному итерироваться (c помощью  keys/values/items).\n",
    "\n",
    "если итерироваться по items, то можно использовать \"распаковку\":"
   ]
  },
  {
   "cell_type": "code",
   "execution_count": 213,
   "metadata": {
    "ExecuteTime": {
     "end_time": "2019-09-18T16:10:48.746988Z",
     "start_time": "2019-09-18T16:10:48.741020Z"
    }
   },
   "outputs": [],
   "source": [
    "x = {'one':1, 'two': 2, 'five': 5}"
   ]
  },
  {
   "cell_type": "code",
   "execution_count": 217,
   "metadata": {
    "ExecuteTime": {
     "end_time": "2019-09-18T16:11:30.786267Z",
     "start_time": "2019-09-18T16:11:30.777892Z"
    }
   },
   "outputs": [
    {
     "data": {
      "text/plain": [
       "dict_items([('one', 1), ('two', 2), ('five', 5)])"
      ]
     },
     "execution_count": 217,
     "metadata": {},
     "output_type": "execute_result"
    }
   ],
   "source": [
    "x.items()"
   ]
  },
  {
   "cell_type": "code",
   "execution_count": 221,
   "metadata": {
    "ExecuteTime": {
     "end_time": "2019-09-18T16:12:31.596278Z",
     "start_time": "2019-09-18T16:12:31.585831Z"
    }
   },
   "outputs": [
    {
     "name": "stdout",
     "output_type": "stream",
     "text": [
      "one 1\n",
      "two 2\n",
      "five 5\n"
     ]
    }
   ],
   "source": [
    "for key, value in x.items():\n",
    "    print (key, value)"
   ]
  },
  {
   "cell_type": "markdown",
   "metadata": {},
   "source": [
    "Аналогично, тут работают break, continue и else!"
   ]
  },
  {
   "cell_type": "markdown",
   "metadata": {},
   "source": [
    "Часто приходится итерироваться по интовым переменным, это можно делать с помощью функции range"
   ]
  },
  {
   "cell_type": "code",
   "execution_count": 226,
   "metadata": {
    "ExecuteTime": {
     "end_time": "2019-09-18T16:14:33.606024Z",
     "start_time": "2019-09-18T16:14:33.597721Z"
    }
   },
   "outputs": [
    {
     "data": {
      "text/plain": [
       "range(3, 10, 2)"
      ]
     },
     "execution_count": 226,
     "metadata": {},
     "output_type": "execute_result"
    }
   ],
   "source": [
    "range(3, 10, 2)"
   ]
  },
  {
   "cell_type": "code",
   "execution_count": 225,
   "metadata": {
    "ExecuteTime": {
     "end_time": "2019-09-18T16:13:50.916169Z",
     "start_time": "2019-09-18T16:13:50.906772Z"
    }
   },
   "outputs": [
    {
     "name": "stdout",
     "output_type": "stream",
     "text": [
      "3\n",
      "5\n",
      "7\n",
      "9\n"
     ]
    }
   ],
   "source": [
    "for i in range(3, 10, 2):\n",
    "    print (i)"
   ]
  },
  {
   "cell_type": "markdown",
   "metadata": {},
   "source": [
    "## Полезные библиотеки "
   ]
  },
  {
   "cell_type": "markdown",
   "metadata": {},
   "source": [
    "Как уже упоминалось, для питона реализовано очень много полезных библиотек. Сегодня рассмотрим примеры полезных библиотек: collections и math."
   ]
  },
  {
   "cell_type": "markdown",
   "metadata": {},
   "source": [
    "### math"
   ]
  },
  {
   "cell_type": "markdown",
   "metadata": {
    "ExecuteTime": {
     "end_time": "2019-09-04T06:34:25.137262Z",
     "start_time": "2019-09-04T06:34:25.128802Z"
    }
   },
   "source": [
    "В этой библиотеке реализованы полезные математические функции. "
   ]
  },
  {
   "cell_type": "markdown",
   "metadata": {},
   "source": [
    "Чтобы начать пользоваться библиотекой нужно воспользоваться командой import"
   ]
  },
  {
   "cell_type": "code",
   "execution_count": 227,
   "metadata": {
    "ExecuteTime": {
     "end_time": "2019-09-18T16:15:17.200314Z",
     "start_time": "2019-09-18T16:15:17.193003Z"
    }
   },
   "outputs": [],
   "source": [
    "import math"
   ]
  },
  {
   "cell_type": "markdown",
   "metadata": {},
   "source": [
    "Все реализованные в модуле функции"
   ]
  },
  {
   "cell_type": "code",
   "execution_count": 228,
   "metadata": {
    "ExecuteTime": {
     "end_time": "2019-09-18T16:15:26.530203Z",
     "start_time": "2019-09-18T16:15:26.519723Z"
    },
    "scrolled": true
   },
   "outputs": [
    {
     "data": {
      "text/plain": [
       "['__doc__',\n",
       " '__file__',\n",
       " '__loader__',\n",
       " '__name__',\n",
       " '__package__',\n",
       " '__spec__',\n",
       " 'acos',\n",
       " 'acosh',\n",
       " 'asin',\n",
       " 'asinh',\n",
       " 'atan',\n",
       " 'atan2',\n",
       " 'atanh',\n",
       " 'ceil',\n",
       " 'copysign',\n",
       " 'cos',\n",
       " 'cosh',\n",
       " 'degrees',\n",
       " 'e',\n",
       " 'erf',\n",
       " 'erfc',\n",
       " 'exp',\n",
       " 'expm1',\n",
       " 'fabs',\n",
       " 'factorial',\n",
       " 'floor',\n",
       " 'fmod',\n",
       " 'frexp',\n",
       " 'fsum',\n",
       " 'gamma',\n",
       " 'gcd',\n",
       " 'hypot',\n",
       " 'inf',\n",
       " 'isclose',\n",
       " 'isfinite',\n",
       " 'isinf',\n",
       " 'isnan',\n",
       " 'ldexp',\n",
       " 'lgamma',\n",
       " 'log',\n",
       " 'log10',\n",
       " 'log1p',\n",
       " 'log2',\n",
       " 'modf',\n",
       " 'nan',\n",
       " 'pi',\n",
       " 'pow',\n",
       " 'radians',\n",
       " 'remainder',\n",
       " 'sin',\n",
       " 'sinh',\n",
       " 'sqrt',\n",
       " 'tan',\n",
       " 'tanh',\n",
       " 'tau',\n",
       " 'trunc']"
      ]
     },
     "execution_count": 228,
     "metadata": {},
     "output_type": "execute_result"
    }
   ],
   "source": [
    "dir(math)"
   ]
  },
  {
   "cell_type": "markdown",
   "metadata": {},
   "source": [
    "Информация о функции:"
   ]
  },
  {
   "cell_type": "code",
   "execution_count": 229,
   "metadata": {
    "ExecuteTime": {
     "end_time": "2019-09-18T16:15:46.775983Z",
     "start_time": "2019-09-18T16:15:46.765697Z"
    }
   },
   "outputs": [
    {
     "name": "stdout",
     "output_type": "stream",
     "text": [
      "Help on built-in function acos in module math:\n",
      "\n",
      "acos(x, /)\n",
      "    Return the arc cosine (measured in radians) of x.\n",
      "\n"
     ]
    }
   ],
   "source": [
    "help(math.acos)"
   ]
  },
  {
   "cell_type": "code",
   "execution_count": 230,
   "metadata": {
    "ExecuteTime": {
     "end_time": "2019-09-18T16:15:57.098085Z",
     "start_time": "2019-09-18T16:15:57.088972Z"
    }
   },
   "outputs": [],
   "source": [
    "?math.acos"
   ]
  },
  {
   "cell_type": "code",
   "execution_count": 231,
   "metadata": {
    "ExecuteTime": {
     "end_time": "2019-09-18T16:16:11.964966Z",
     "start_time": "2019-09-18T16:16:11.953186Z"
    }
   },
   "outputs": [
    {
     "data": {
      "text/plain": [
       "3.141592653589793"
      ]
     },
     "execution_count": 231,
     "metadata": {},
     "output_type": "execute_result"
    }
   ],
   "source": [
    "math.pi"
   ]
  },
  {
   "cell_type": "markdown",
   "metadata": {},
   "source": [
    "### collections"
   ]
  },
  {
   "cell_type": "markdown",
   "metadata": {},
   "source": [
    "В этой библиотеке реализованы полезные структуры данных. \n",
    "Документацию об этом можно почитать тут: https://docs.python.org/3.7/library/collections.html"
   ]
  },
  {
   "cell_type": "markdown",
   "metadata": {},
   "source": [
    "#### Counter"
   ]
  },
  {
   "cell_type": "markdown",
   "metadata": {},
   "source": [
    "В качестве примера рассмотрим тип данных Counter из библиотеки. Используется для подсчета hashable объектов.\n",
    "\n",
    "Чтобы начать им пользоваться, нужно импортировать его:"
   ]
  },
  {
   "cell_type": "code",
   "execution_count": 232,
   "metadata": {
    "ExecuteTime": {
     "end_time": "2019-09-18T16:16:57.848923Z",
     "start_time": "2019-09-18T16:16:57.843302Z"
    }
   },
   "outputs": [],
   "source": [
    "from collections import Counter"
   ]
  },
  {
   "cell_type": "code",
   "execution_count": 233,
   "metadata": {
    "ExecuteTime": {
     "end_time": "2019-09-18T16:17:02.006176Z",
     "start_time": "2019-09-18T16:17:01.998976Z"
    }
   },
   "outputs": [],
   "source": [
    "some_text = [\n",
    "    'олух',\n",
    "    'пузырь',\n",
    "    'остаток',\n",
    "    'уловка',\n",
    "    'остаток'\n",
    "]"
   ]
  },
  {
   "cell_type": "markdown",
   "metadata": {},
   "source": [
    "Инициализация класса Counter:"
   ]
  },
  {
   "cell_type": "code",
   "execution_count": 234,
   "metadata": {
    "ExecuteTime": {
     "end_time": "2019-09-18T16:17:17.957086Z",
     "start_time": "2019-09-18T16:17:17.949918Z"
    }
   },
   "outputs": [],
   "source": [
    "counter = Counter(some_text)"
   ]
  },
  {
   "cell_type": "code",
   "execution_count": null,
   "metadata": {
    "ExecuteTime": {
     "end_time": "2019-09-17T11:27:56.786596Z",
     "start_time": "2019-09-17T11:27:56.783097Z"
    },
    "code_folding": []
   },
   "outputs": [],
   "source": [
    "# ??Counter"
   ]
  },
  {
   "cell_type": "markdown",
   "metadata": {},
   "source": [
    "Список элементов в лексикографическом порядке c помощью elements:"
   ]
  },
  {
   "cell_type": "code",
   "execution_count": 236,
   "metadata": {
    "ExecuteTime": {
     "end_time": "2019-09-18T16:17:35.244023Z",
     "start_time": "2019-09-18T16:17:35.233984Z"
    }
   },
   "outputs": [
    {
     "data": {
      "text/plain": [
       "['олух', 'пузырь', 'остаток', 'остаток', 'уловка']"
      ]
     },
     "execution_count": 236,
     "metadata": {},
     "output_type": "execute_result"
    }
   ],
   "source": [
    "list(counter.elements())"
   ]
  },
  {
   "cell_type": "markdown",
   "metadata": {},
   "source": [
    "N наиболее часто встречаемых элементов с помощью most_common:"
   ]
  },
  {
   "cell_type": "code",
   "execution_count": 238,
   "metadata": {
    "ExecuteTime": {
     "end_time": "2019-09-18T16:18:30.327940Z",
     "start_time": "2019-09-18T16:18:30.317977Z"
    },
    "scrolled": true
   },
   "outputs": [
    {
     "data": {
      "text/plain": [
       "[('остаток', 2), ('олух', 1), ('пузырь', 1)]"
      ]
     },
     "execution_count": 238,
     "metadata": {},
     "output_type": "execute_result"
    }
   ],
   "source": [
    "list(counter.most_common(3))"
   ]
  },
  {
   "cell_type": "markdown",
   "metadata": {},
   "source": [
    "Можно преобразовывать в другие типы:"
   ]
  },
  {
   "cell_type": "code",
   "execution_count": null,
   "metadata": {
    "ExecuteTime": {
     "end_time": "2019-09-17T11:27:56.792691Z",
     "start_time": "2019-09-17T11:27:56.789217Z"
    }
   },
   "outputs": [],
   "source": [
    "# список\n"
   ]
  },
  {
   "cell_type": "code",
   "execution_count": 239,
   "metadata": {
    "ExecuteTime": {
     "end_time": "2019-09-18T16:18:57.100133Z",
     "start_time": "2019-09-18T16:18:57.093556Z"
    }
   },
   "outputs": [
    {
     "data": {
      "text/plain": [
       "{'олух': 1, 'пузырь': 1, 'остаток': 2, 'уловка': 1}"
      ]
     },
     "execution_count": 239,
     "metadata": {},
     "output_type": "execute_result"
    }
   ],
   "source": [
    "# словарь\n",
    "\n",
    "dict(counter)"
   ]
  },
  {
   "cell_type": "markdown",
   "metadata": {},
   "source": [
    "Counter также поддерживает сложение, вычитание, пересечение и объединение."
   ]
  },
  {
   "cell_type": "code",
   "execution_count": null,
   "metadata": {
    "ExecuteTime": {
     "end_time": "2019-09-17T11:27:56.805391Z",
     "start_time": "2019-09-17T11:27:56.801549Z"
    }
   },
   "outputs": [],
   "source": [
    "с1= Counter(a=3, b=1)\n",
    "с2 = Counter(a=1, b=2)"
   ]
  },
  {
   "cell_type": "code",
   "execution_count": null,
   "metadata": {
    "ExecuteTime": {
     "end_time": "2019-09-17T11:27:56.813434Z",
     "start_time": "2019-09-17T11:27:56.807902Z"
    }
   },
   "outputs": [],
   "source": [
    "с1 + с2"
   ]
  },
  {
   "cell_type": "code",
   "execution_count": null,
   "metadata": {
    "ExecuteTime": {
     "end_time": "2019-09-17T11:27:56.821425Z",
     "start_time": "2019-09-17T11:27:56.816084Z"
    }
   },
   "outputs": [],
   "source": [
    "с1 - с2"
   ]
  },
  {
   "cell_type": "code",
   "execution_count": null,
   "metadata": {
    "ExecuteTime": {
     "end_time": "2019-09-17T11:27:56.829503Z",
     "start_time": "2019-09-17T11:27:56.823952Z"
    }
   },
   "outputs": [],
   "source": [
    "с1 & с2"
   ]
  },
  {
   "cell_type": "code",
   "execution_count": null,
   "metadata": {
    "ExecuteTime": {
     "end_time": "2019-09-17T11:27:56.837934Z",
     "start_time": "2019-09-17T11:27:56.831725Z"
    }
   },
   "outputs": [],
   "source": [
    "с1 | с2"
   ]
  },
  {
   "cell_type": "markdown",
   "metadata": {},
   "source": [
    "#### defaultdict"
   ]
  },
  {
   "cell_type": "markdown",
   "metadata": {},
   "source": [
    "Словарь, в котором можно установить значения по-умолчанию. Рассмотрим на примере."
   ]
  },
  {
   "cell_type": "markdown",
   "metadata": {
    "ExecuteTime": {
     "end_time": "2019-09-16T15:47:26.238390Z",
     "start_time": "2019-09-16T15:47:26.230017Z"
    }
   },
   "source": [
    "Мы хотим сделать groupby для списка:"
   ]
  },
  {
   "cell_type": "code",
   "execution_count": 240,
   "metadata": {
    "ExecuteTime": {
     "end_time": "2019-09-18T16:19:46.966393Z",
     "start_time": "2019-09-18T16:19:46.937483Z"
    }
   },
   "outputs": [],
   "source": [
    "lst = [(1, 2), (2, 2), (1, 3), (2, 4)]"
   ]
  },
  {
   "cell_type": "code",
   "execution_count": 244,
   "metadata": {
    "ExecuteTime": {
     "end_time": "2019-09-18T16:22:00.348008Z",
     "start_time": "2019-09-18T16:22:00.339559Z"
    }
   },
   "outputs": [
    {
     "name": "stdout",
     "output_type": "stream",
     "text": [
      "{1: [2, 3], 2: [2, 4]}\n"
     ]
    }
   ],
   "source": [
    "# code here\n",
    "new_dict = {}\n",
    "\n",
    "for key, value in lst:\n",
    "    if key not in new_dict:\n",
    "        new_dict[key] = []\n",
    "        \n",
    "    new_dict[key] += [value]\n",
    "    \n",
    "print (new_dict)"
   ]
  },
  {
   "cell_type": "code",
   "execution_count": 246,
   "metadata": {
    "ExecuteTime": {
     "end_time": "2019-09-18T16:22:16.288245Z",
     "start_time": "2019-09-18T16:22:16.282810Z"
    }
   },
   "outputs": [],
   "source": [
    "from collections import defaultdict"
   ]
  },
  {
   "cell_type": "code",
   "execution_count": 253,
   "metadata": {
    "ExecuteTime": {
     "end_time": "2019-09-18T16:23:58.364086Z",
     "start_time": "2019-09-18T16:23:58.358120Z"
    }
   },
   "outputs": [],
   "source": [
    "# code here\n",
    "new_dict = defaultdict(list, {})"
   ]
  },
  {
   "cell_type": "code",
   "execution_count": 254,
   "metadata": {
    "ExecuteTime": {
     "end_time": "2019-09-18T16:23:58.641139Z",
     "start_time": "2019-09-18T16:23:58.632708Z"
    }
   },
   "outputs": [
    {
     "name": "stdout",
     "output_type": "stream",
     "text": [
      "defaultdict(<class 'list'>, {1: [2, 3], 2: [2, 4]})\n"
     ]
    }
   ],
   "source": [
    "for key, value in lst:\n",
    "    new_dict[key] += [value]\n",
    "    \n",
    "print (new_dict)"
   ]
  },
  {
   "cell_type": "markdown",
   "metadata": {},
   "source": [
    "## Приложение: как определить точность"
   ]
  },
  {
   "cell_type": "code",
   "execution_count": null,
   "metadata": {
    "ExecuteTime": {
     "end_time": "2019-09-17T15:29:25.116624Z",
     "start_time": "2019-09-17T15:29:25.106024Z"
    },
    "code_folding": [
     0
    ]
   },
   "outputs": [],
   "source": [
    "#code here\n",
    "\n",
    "eps = 1.\n",
    "iteration = 0\n",
    "\n",
    "diff = abs(0.1 + 0.1 + 0.1 - 0.3)\n",
    "\n",
    "while (diff < eps):\n",
    "    iteration += 1\n",
    "    eps = 1./10**iteration\n",
    "    \n",
    "    print (f\"Iteration: {iteration}, eps: {eps}, expr: {diff < eps}\")\n",
    "    \n",
    "print()\n",
    "print (f\"Result value: {eps}\")"
   ]
  },
  {
   "cell_type": "markdown",
   "metadata": {},
   "source": [
    "https://en.wikipedia.org/wiki/Machine_epsilon#Values_for_standard_hardware_floating_point_arithmetics"
   ]
  },
  {
   "cell_type": "code",
   "execution_count": null,
   "metadata": {},
   "outputs": [],
   "source": []
  }
 ],
 "metadata": {
  "kernelspec": {
   "display_name": "Python 3",
   "language": "python",
   "name": "python3"
  },
  "language_info": {
   "codemirror_mode": {
    "name": "ipython",
    "version": 3
   },
   "file_extension": ".py",
   "mimetype": "text/x-python",
   "name": "python",
   "nbconvert_exporter": "python",
   "pygments_lexer": "ipython3",
   "version": "3.7.3"
  },
  "toc": {
   "base_numbering": 1,
   "nav_menu": {},
   "number_sections": true,
   "sideBar": true,
   "skip_h1_title": true,
   "title_cell": "План лекции",
   "title_sidebar": "Contents",
   "toc_cell": true,
   "toc_position": {
    "height": "785px",
    "left": "10px",
    "top": "106px",
    "width": "165px"
   },
   "toc_section_display": true,
   "toc_window_display": false
  }
 },
 "nbformat": 4,
 "nbformat_minor": 2
}
