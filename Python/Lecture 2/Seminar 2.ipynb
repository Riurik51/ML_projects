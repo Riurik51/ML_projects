{
 "cells": [
  {
   "cell_type": "markdown",
   "metadata": {},
   "source": [
    "# Nbextensions"
   ]
  },
  {
   "cell_type": "markdown",
   "metadata": {},
   "source": [
    "Ссылка с инструкцией: https://jupyter-contrib-nbextensions.readthedocs.io/en/latest/install.html\n",
    "\n",
    "Коротко:\n",
    "\n",
    "1) ```conda install -c conda-forge jupyter_contrib_nbextensions```\n",
    "\n",
    "2) ```jupyter contrib nbextension install --user```\n",
    "\n",
    "3) Перезапускаем jupyter\n",
    "\n",
    "4) Появляется 4 вкладка nbextensions где можно настроить много разных полезных штук"
   ]
  },
  {
   "cell_type": "markdown",
   "metadata": {},
   "source": [
    "# Перенос строки\n",
    "\n",
    "Согласно pep8 (https://www.python.org/dev/peps/pep-0008/) длина строки в питоне не должна превышать 79 символов (это сделано для удобства читаемости, например так можно открыть сразу несколько файлов в одном окне).\n",
    "\n",
    "Иногда не получается сделать строку короткой, тут нам на помощь приходит перенос строки. Для этого есть два основных способа."
   ]
  },
  {
   "cell_type": "code",
   "execution_count": 1,
   "metadata": {
    "ExecuteTime": {
     "end_time": "2019-09-18T16:43:12.803611Z",
     "start_time": "2019-09-18T16:43:12.537924Z"
    },
    "code_folding": []
   },
   "outputs": [
    {
     "ename": "NameError",
     "evalue": "name 'gross_wages' is not defined",
     "output_type": "error",
     "traceback": [
      "\u001b[0;31m---------------------------------------------------------------------------\u001b[0m",
      "\u001b[0;31mNameError\u001b[0m                                 Traceback (most recent call last)",
      "\u001b[0;32m<ipython-input-1-be4ca9a671a6>\u001b[0m in \u001b[0;36m<module>\u001b[0;34m\u001b[0m\n\u001b[1;32m      4\u001b[0m         \u001b[0;34m+\u001b[0m \u001b[0;34m(\u001b[0m\u001b[0mdividends\u001b[0m \u001b[0;34m-\u001b[0m \u001b[0mqualified_dividends\u001b[0m\u001b[0;34m)\u001b[0m\u001b[0;31m\\\u001b[0m\u001b[0;34m\u001b[0m\u001b[0;34m\u001b[0m\u001b[0m\n\u001b[1;32m      5\u001b[0m         \u001b[0;34m-\u001b[0m \u001b[0mira_deduction\u001b[0m\u001b[0;31m \u001b[0m\u001b[0;31m\\\u001b[0m\u001b[0;34m\u001b[0m\u001b[0;34m\u001b[0m\u001b[0m\n\u001b[0;32m----> 6\u001b[0;31m         \u001b[0;34m-\u001b[0m \u001b[0mstudent_loan_interest\u001b[0m\u001b[0;34m\u001b[0m\u001b[0;34m\u001b[0m\u001b[0m\n\u001b[0m",
      "\u001b[0;31mNameError\u001b[0m: name 'gross_wages' is not defined"
     ]
    }
   ],
   "source": [
    "# Использование скобок\n",
    "income = gross_wages \\\n",
    "        + taxable_interest \\\n",
    "        + (dividends - qualified_dividends)\\\n",
    "        - ira_deduction \\\n",
    "        - student_loan_interest"
   ]
  },
  {
   "cell_type": "code",
   "execution_count": null,
   "metadata": {
    "code_folding": []
   },
   "outputs": [],
   "source": [
    "# Использование скобок\n",
    "income = (\n",
    "    gross_wages\n",
    "    + taxable_interess\n",
    "    + (dividends - qualified_dividends)\n",
    "  - ira_deduction\n",
    "  - student_loan_interest)"
   ]
  },
  {
   "cell_type": "markdown",
   "metadata": {},
   "source": [
    "# Коротко о функциях"
   ]
  },
  {
   "cell_type": "code",
   "execution_count": 6,
   "metadata": {
    "ExecuteTime": {
     "end_time": "2019-09-18T16:47:21.215223Z",
     "start_time": "2019-09-18T16:47:21.209060Z"
    },
    "code_folding": []
   },
   "outputs": [],
   "source": [
    "# Определение функции\n",
    "def my_func():\n",
    "    print(f'Function arguments are nothing')\n",
    "#     c = a + b\n",
    "#     return c"
   ]
  },
  {
   "cell_type": "code",
   "execution_count": 8,
   "metadata": {
    "ExecuteTime": {
     "end_time": "2019-09-18T16:47:31.979843Z",
     "start_time": "2019-09-18T16:47:31.962118Z"
    }
   },
   "outputs": [
    {
     "ename": "TypeError",
     "evalue": "my_func() takes 0 positional arguments but 1 was given",
     "output_type": "error",
     "traceback": [
      "\u001b[0;31m---------------------------------------------------------------------------\u001b[0m",
      "\u001b[0;31mTypeError\u001b[0m                                 Traceback (most recent call last)",
      "\u001b[0;32m<ipython-input-8-2534ed7bbc33>\u001b[0m in \u001b[0;36m<module>\u001b[0;34m\u001b[0m\n\u001b[0;32m----> 1\u001b[0;31m \u001b[0mmy_func\u001b[0m\u001b[0;34m(\u001b[0m\u001b[0;36m10\u001b[0m\u001b[0;34m)\u001b[0m\u001b[0;34m\u001b[0m\u001b[0;34m\u001b[0m\u001b[0m\n\u001b[0m",
      "\u001b[0;31mTypeError\u001b[0m: my_func() takes 0 positional arguments but 1 was given"
     ]
    }
   ],
   "source": [
    "my_func(10)"
   ]
  },
  {
   "cell_type": "markdown",
   "metadata": {},
   "source": [
    "# List comprehension\n",
    "\n",
    "В питоне есть множество конструкций, которые в принципе не добавляют функциональности, но способствуют написанию элегантного кода. Одна из них - list comprehension.\n",
    "\n",
    "Допустим нам надо построить новый список, используя каким-то образом уже имеющийся."
   ]
  },
  {
   "cell_type": "code",
   "execution_count": 9,
   "metadata": {
    "ExecuteTime": {
     "end_time": "2019-09-18T16:49:17.993180Z",
     "start_time": "2019-09-18T16:49:17.983405Z"
    },
    "code_folding": []
   },
   "outputs": [
    {
     "name": "stdout",
     "output_type": "stream",
     "text": [
      "[1, 4, 9, 16, 25, 36, 49, 64, 81, 100]\n"
     ]
    }
   ],
   "source": [
    "# Squares with loop\n",
    "numbers = [1, 2, 3, 4, 5, 6, 7, 8, 9, 10]\n",
    "\n",
    "squares = []\n",
    "for number in numbers:\n",
    "    squares.append(number ** 2)\n",
    "\n",
    "print(squares)"
   ]
  },
  {
   "cell_type": "code",
   "execution_count": 10,
   "metadata": {
    "ExecuteTime": {
     "end_time": "2019-09-18T16:50:32.786975Z",
     "start_time": "2019-09-18T16:50:32.778519Z"
    },
    "code_folding": []
   },
   "outputs": [
    {
     "name": "stdout",
     "output_type": "stream",
     "text": [
      "[1, 4, 9, 16, 25, 36, 49, 64, 81, 100]\n"
     ]
    }
   ],
   "source": [
    "# Squares with comprehension\n",
    "numbers = [1, 2, 3, 4, 5, 6, 7, 8, 9, 10]\n",
    "\n",
    "squares = [i**2 for i in numbers]\n",
    "\n",
    "print(squares)"
   ]
  },
  {
   "cell_type": "code",
   "execution_count": 11,
   "metadata": {
    "ExecuteTime": {
     "end_time": "2019-09-18T16:51:21.659569Z",
     "start_time": "2019-09-18T16:51:21.650212Z"
    },
    "code_folding": []
   },
   "outputs": [
    {
     "name": "stdout",
     "output_type": "stream",
     "text": [
      "[4, 16, 36, 64, 100]\n"
     ]
    }
   ],
   "source": [
    "# Even squares with loop\n",
    "numbers = [1, 2, 3, 4, 5, 6, 7, 8, 9, 10]\n",
    "\n",
    "squares = []\n",
    "for number in numbers:\n",
    "    if number % 2 == 0:\n",
    "        squares.append(number ** 2)\n",
    "\n",
    "print(squares)"
   ]
  },
  {
   "cell_type": "code",
   "execution_count": 12,
   "metadata": {
    "ExecuteTime": {
     "end_time": "2019-09-18T16:52:29.184514Z",
     "start_time": "2019-09-18T16:52:29.174841Z"
    },
    "code_folding": []
   },
   "outputs": [
    {
     "name": "stdout",
     "output_type": "stream",
     "text": [
      "[4, 16, 36, 64, 100]\n"
     ]
    }
   ],
   "source": [
    "# Even squares with comprehension\n",
    "numbers = [1, 2, 3, 4, 5, 6, 7, 8, 9, 10]\n",
    "\n",
    "squares = [number**2 for number in numbers if number % 2 == 0]\n",
    "\n",
    "print(squares)"
   ]
  },
  {
   "cell_type": "code",
   "execution_count": null,
   "metadata": {
    "code_folding": []
   },
   "outputs": [],
   "source": [
    "# Squares and cubes with loop\n",
    "numbers = [1, 2, 3, 4, 5, 6, 7, 8, 9, 10]\n",
    "\n",
    "big_numbers = []\n",
    "for number in numbers:\n",
    "    if number % 2 == 0:\n",
    "        big_numbers.append(number ** 2)\n",
    "    else:\n",
    "        big_numbers.append(number ** 3)\n",
    "\n",
    "print(big_numbers)"
   ]
  },
  {
   "cell_type": "code",
   "execution_count": 13,
   "metadata": {
    "ExecuteTime": {
     "end_time": "2019-09-18T16:54:08.139075Z",
     "start_time": "2019-09-18T16:54:08.119442Z"
    },
    "code_folding": []
   },
   "outputs": [
    {
     "ename": "NameError",
     "evalue": "name 'cond' is not defined",
     "output_type": "error",
     "traceback": [
      "\u001b[0;31m---------------------------------------------------------------------------\u001b[0m",
      "\u001b[0;31mNameError\u001b[0m                                 Traceback (most recent call last)",
      "\u001b[0;32m<ipython-input-13-11f876f32bf8>\u001b[0m in \u001b[0;36m<module>\u001b[0;34m\u001b[0m\n\u001b[1;32m      4\u001b[0m big_numbers = [number**2 if number%2 == 0 else number**3\n\u001b[1;32m      5\u001b[0m                for number in numbers]\n\u001b[0;32m----> 6\u001b[0;31m \u001b[0ma\u001b[0m \u001b[0;32mif\u001b[0m \u001b[0mcond\u001b[0m \u001b[0;32melse\u001b[0m \u001b[0mb\u001b[0m\u001b[0;34m\u001b[0m\u001b[0;34m\u001b[0m\u001b[0m\n\u001b[0m\u001b[1;32m      7\u001b[0m \u001b[0mprint\u001b[0m\u001b[0;34m(\u001b[0m\u001b[0mbig_numbers\u001b[0m\u001b[0;34m)\u001b[0m\u001b[0;34m\u001b[0m\u001b[0;34m\u001b[0m\u001b[0m\n",
      "\u001b[0;31mNameError\u001b[0m: name 'cond' is not defined"
     ]
    }
   ],
   "source": [
    "# Squares and cubes with comprehension\n",
    "numbers = [1, 2, 3, 4, 5, 6, 7, 8, 9, 10]\n",
    "\n",
    "big_numbers = [number**2 if number%2 == 0 else number**3\n",
    "               for number in numbers]\n",
    "# a if cond else b\n",
    "print(big_numbers)"
   ]
  },
  {
   "cell_type": "code",
   "execution_count": 17,
   "metadata": {
    "ExecuteTime": {
     "end_time": "2019-09-18T16:55:47.218887Z",
     "start_time": "2019-09-18T16:55:47.209012Z"
    },
    "code_folding": []
   },
   "outputs": [
    {
     "name": "stdout",
     "output_type": "stream",
     "text": [
      "['cat-dog', 'cat-sheep', 'cat-frog', 'dog-cat', 'dog-sheep', 'dog-frog', 'sheep-cat', 'sheep-dog', 'sheep-frog', 'frog-cat', 'frog-dog', 'frog-sheep']\n"
     ]
    }
   ],
   "source": [
    "# Sum of two lists with loop\n",
    "animals = ['cat', 'dog', 'sheep', 'frog']\n",
    "\n",
    "hybrids = []\n",
    "for x in animals:\n",
    "    for y in animals:\n",
    "        if x != y:\n",
    "            hybrids.append(x + '-' + y)\n",
    "\n",
    "print(hybrids)"
   ]
  },
  {
   "cell_type": "code",
   "execution_count": 18,
   "metadata": {
    "ExecuteTime": {
     "end_time": "2019-09-18T16:56:34.858504Z",
     "start_time": "2019-09-18T16:56:34.850600Z"
    },
    "code_folding": []
   },
   "outputs": [
    {
     "name": "stdout",
     "output_type": "stream",
     "text": [
      "['cat-dog', 'cat-sheep', 'cat-frog', 'dog-cat', 'dog-sheep', 'dog-frog', 'sheep-cat', 'sheep-dog', 'sheep-frog', 'frog-cat', 'frog-dog', 'frog-sheep']\n"
     ]
    }
   ],
   "source": [
    "# Sum of two lists with comprehension\n",
    "animals = ['cat', 'dog', 'sheep', 'frog']\n",
    "\n",
    "hybrids = [x + '-' + y for x in animals for y in animals if x != y]\n",
    "\n",
    "print(hybrids)"
   ]
  },
  {
   "cell_type": "markdown",
   "metadata": {},
   "source": [
    "Хорошее правило - не делать слишком сложных list comprehension, обычно не делают больше одного вложения."
   ]
  },
  {
   "cell_type": "markdown",
   "metadata": {},
   "source": [
    "Все то же самое работает со словарями и множествами!"
   ]
  },
  {
   "cell_type": "code",
   "execution_count": 19,
   "metadata": {
    "ExecuteTime": {
     "end_time": "2019-09-18T16:57:49.238026Z",
     "start_time": "2019-09-18T16:57:49.231048Z"
    },
    "code_folding": []
   },
   "outputs": [
    {
     "name": "stdout",
     "output_type": "stream",
     "text": [
      "{64, 1, 0, 36, 4, 9, 16, 81, 49, 25}\n"
     ]
    }
   ],
   "source": [
    "# set comprehension\n",
    "print({x * x for x in range(-9, 10)})"
   ]
  },
  {
   "cell_type": "code",
   "execution_count": 21,
   "metadata": {
    "ExecuteTime": {
     "end_time": "2019-09-18T16:58:06.547662Z",
     "start_time": "2019-09-18T16:58:06.542709Z"
    },
    "code_folding": []
   },
   "outputs": [],
   "source": [
    "# dict comprehension\n",
    "d = {x: x * x for x in range(5)}"
   ]
  },
  {
   "cell_type": "code",
   "execution_count": 22,
   "metadata": {
    "ExecuteTime": {
     "end_time": "2019-09-18T16:58:35.213922Z",
     "start_time": "2019-09-18T16:58:35.203825Z"
    }
   },
   "outputs": [
    {
     "data": {
      "text/plain": [
       "[1, 4, 9]"
      ]
     },
     "execution_count": 22,
     "metadata": {},
     "output_type": "execute_result"
    }
   ],
   "source": [
    "[d[key] for key in [1, 2, 3]]"
   ]
  },
  {
   "cell_type": "markdown",
   "metadata": {},
   "source": [
    "# Задача 1\n",
    "Напишите функцию, принимающую на вход список, возвращающую его в обратном порядке."
   ]
  },
  {
   "cell_type": "code",
   "execution_count": 59,
   "metadata": {
    "ExecuteTime": {
     "end_time": "2019-09-18T17:49:28.581984Z",
     "start_time": "2019-09-18T17:49:28.575205Z"
    }
   },
   "outputs": [],
   "source": [
    "a = [1, 2, 3, 4, 5]\n",
    "def func(lst):\n",
    "    return lst[::-1]"
   ]
  },
  {
   "cell_type": "code",
   "execution_count": 24,
   "metadata": {
    "ExecuteTime": {
     "end_time": "2019-09-18T17:03:09.677156Z",
     "start_time": "2019-09-18T17:03:09.668966Z"
    }
   },
   "outputs": [
    {
     "data": {
      "text/plain": [
       "[5, 4, 3, 2, 1]"
      ]
     },
     "execution_count": 24,
     "metadata": {},
     "output_type": "execute_result"
    }
   ],
   "source": [
    "func(a)"
   ]
  },
  {
   "cell_type": "code",
   "execution_count": 60,
   "metadata": {
    "ExecuteTime": {
     "end_time": "2019-09-18T17:49:33.588031Z",
     "start_time": "2019-09-18T17:49:33.581977Z"
    }
   },
   "outputs": [],
   "source": [
    "a = func"
   ]
  },
  {
   "cell_type": "code",
   "execution_count": 62,
   "metadata": {
    "ExecuteTime": {
     "end_time": "2019-09-18T17:49:44.708326Z",
     "start_time": "2019-09-18T17:49:44.690129Z"
    }
   },
   "outputs": [
    {
     "name": "stdout",
     "output_type": "stream",
     "text": [
      "<function func at 0x7f1fdfbe26a8>\n"
     ]
    },
    {
     "data": {
      "text/plain": [
       "[3, 2, 1]"
      ]
     },
     "execution_count": 62,
     "metadata": {},
     "output_type": "execute_result"
    }
   ],
   "source": [
    "print(a)\n",
    "a([1, 2, 3])"
   ]
  },
  {
   "cell_type": "markdown",
   "metadata": {},
   "source": [
    "# Задача 2"
   ]
  },
  {
   "cell_type": "markdown",
   "metadata": {},
   "source": [
    "Напишите функцию, принимающую на вход два списка, возвращающую список из общих элементов двух списков."
   ]
  },
  {
   "cell_type": "code",
   "execution_count": 34,
   "metadata": {
    "ExecuteTime": {
     "end_time": "2019-09-18T17:14:13.804591Z",
     "start_time": "2019-09-18T17:14:13.797944Z"
    }
   },
   "outputs": [],
   "source": [
    "a = [5, 6, 7, 8]\n",
    "b = [6, 10, 1, 7]\n",
    "\n",
    "def func1(a, b):\n",
    "#     a = set(a)\n",
    "#     b = set(b)\n",
    "    return set(a).intersection(set(b))\n",
    "\n",
    "def func2(a, b):\n",
    "    return [el1 for el1 in a if el1 in b]"
   ]
  },
  {
   "cell_type": "code",
   "execution_count": 37,
   "metadata": {
    "ExecuteTime": {
     "end_time": "2019-09-18T17:14:40.885100Z",
     "start_time": "2019-09-18T17:14:35.648636Z"
    }
   },
   "outputs": [
    {
     "name": "stdout",
     "output_type": "stream",
     "text": [
      "635 ns ± 11.4 ns per loop (mean ± std. dev. of 7 runs, 1000000 loops each)\n"
     ]
    }
   ],
   "source": [
    "%%timeit\n",
    "func1(a, b)"
   ]
  },
  {
   "cell_type": "code",
   "execution_count": 31,
   "metadata": {
    "ExecuteTime": {
     "end_time": "2019-09-18T17:12:33.220645Z",
     "start_time": "2019-09-18T17:12:28.249479Z"
    }
   },
   "outputs": [
    {
     "name": "stdout",
     "output_type": "stream",
     "text": [
      "611 ns ± 27.3 ns per loop (mean ± std. dev. of 7 runs, 1000000 loops each)\n"
     ]
    }
   ],
   "source": [
    "%%timeit\n",
    "func2(a, b)"
   ]
  },
  {
   "cell_type": "markdown",
   "metadata": {},
   "source": [
    "# Задача 3"
   ]
  },
  {
   "cell_type": "markdown",
   "metadata": {},
   "source": [
    "Вывести словарь. Ключ = любое из возможных значений суммы, выпавшей на игральных костях, значение = список из всех комбинаций игральных костей, которые дают эту сумму."
   ]
  },
  {
   "cell_type": "code",
   "execution_count": 40,
   "metadata": {
    "ExecuteTime": {
     "end_time": "2019-09-18T17:32:23.910642Z",
     "start_time": "2019-09-18T17:32:23.903894Z"
    }
   },
   "outputs": [],
   "source": [
    "d1 = [1, 2, 3, 4, 5, 6]\n",
    "d2 = [1, 2, 3, 4, 5, 6]"
   ]
  },
  {
   "cell_type": "code",
   "execution_count": 49,
   "metadata": {
    "ExecuteTime": {
     "end_time": "2019-09-18T17:39:41.865371Z",
     "start_time": "2019-09-18T17:39:39.928376Z"
    }
   },
   "outputs": [
    {
     "name": "stdout",
     "output_type": "stream",
     "text": [
      "23.2 µs ± 892 ns per loop (mean ± std. dev. of 7 runs, 10000 loops each)\n"
     ]
    }
   ],
   "source": [
    "%%timeit\n",
    "d = {x: [] for x in range(2, 13)}\n",
    "for key in d:\n",
    "    for elem1 in d1:\n",
    "        for elem2 in d2:\n",
    "            if elem1 + elem2 == key and elem1 >= elem2:\n",
    "                d[key].append((elem1, elem2))"
   ]
  },
  {
   "cell_type": "code",
   "execution_count": 50,
   "metadata": {
    "ExecuteTime": {
     "end_time": "2019-09-18T17:41:21.220431Z",
     "start_time": "2019-09-18T17:41:21.215130Z"
    }
   },
   "outputs": [],
   "source": [
    "from collections import defaultdict"
   ]
  },
  {
   "cell_type": "code",
   "execution_count": 54,
   "metadata": {
    "ExecuteTime": {
     "end_time": "2019-09-18T17:43:04.100725Z",
     "start_time": "2019-09-18T17:42:58.973386Z"
    }
   },
   "outputs": [
    {
     "name": "stdout",
     "output_type": "stream",
     "text": [
      "6.24 µs ± 97.7 ns per loop (mean ± std. dev. of 7 runs, 100000 loops each)\n"
     ]
    }
   ],
   "source": [
    "%%timeit\n",
    "d = defaultdict(list, {})\n",
    "for a in d1:\n",
    "    for b in d2:\n",
    "        d[a+b].append((a, b))"
   ]
  },
  {
   "cell_type": "code",
   "execution_count": null,
   "metadata": {},
   "outputs": [],
   "source": [
    "d = defaultdict(list, {})"
   ]
  },
  {
   "cell_type": "markdown",
   "metadata": {},
   "source": [
    "# Задача 4"
   ]
  },
  {
   "cell_type": "markdown",
   "metadata": {},
   "source": [
    "Напишите двоичный поиск числа в отсортированном числовом массиве (необходимо вывести индекс искомого элемента, если он там есть)."
   ]
  },
  {
   "cell_type": "code",
   "execution_count": 81,
   "metadata": {
    "ExecuteTime": {
     "end_time": "2019-09-18T18:19:14.690570Z",
     "start_time": "2019-09-18T18:19:14.682722Z"
    }
   },
   "outputs": [],
   "source": [
    "import random\n",
    "lst = [0]\n",
    "for k in range(14):\n",
    "    lst.append(random.randint(lst[-1] + 1, lst[-1] + 10))"
   ]
  },
  {
   "cell_type": "code",
   "execution_count": 88,
   "metadata": {
    "ExecuteTime": {
     "end_time": "2019-09-18T18:19:57.377736Z",
     "start_time": "2019-09-18T18:19:57.365070Z"
    }
   },
   "outputs": [
    {
     "name": "stdout",
     "output_type": "stream",
     "text": [
      "5\n"
     ]
    }
   ],
   "source": [
    "to_find = 35\n",
    "l_end = 0\n",
    "r_end = len(lst)\n",
    "found = False\n",
    "\n",
    "while found == False:\n",
    "    med = (r_end + l_end) // 2\n",
    "    if lst[med] == to_find:\n",
    "        found = True\n",
    "        continue\n",
    "    elif lst[med] > to_find:\n",
    "        r_end = med\n",
    "    else:\n",
    "        l_end = med\n",
    "    if r_end - l_end == 1:\n",
    "        print ('not found')\n",
    "        break\n",
    "print(med)"
   ]
  }
 ],
 "metadata": {
  "kernelspec": {
   "display_name": "Python 3",
   "language": "python",
   "name": "python3"
  },
  "language_info": {
   "codemirror_mode": {
    "name": "ipython",
    "version": 3
   },
   "file_extension": ".py",
   "mimetype": "text/x-python",
   "name": "python",
   "nbconvert_exporter": "python",
   "pygments_lexer": "ipython3",
   "version": "3.7.3"
  },
  "toc": {
   "base_numbering": 1,
   "nav_menu": {},
   "number_sections": false,
   "sideBar": false,
   "skip_h1_title": false,
   "title_cell": "Table of Contents",
   "title_sidebar": "Contents",
   "toc_cell": false,
   "toc_position": {},
   "toc_section_display": false,
   "toc_window_display": false
  }
 },
 "nbformat": 4,
 "nbformat_minor": 2
}
