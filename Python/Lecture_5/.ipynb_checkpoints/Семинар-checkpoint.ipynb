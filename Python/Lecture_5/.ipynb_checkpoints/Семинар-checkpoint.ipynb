{
 "cells": [
  {
   "cell_type": "code",
   "execution_count": 7,
   "metadata": {},
   "outputs": [],
   "source": [
    "def reverse_sentence(string):\n",
    "    return ' '.join(string.split(' ')[::-1])"
   ]
  },
  {
   "cell_type": "code",
   "execution_count": 8,
   "metadata": {},
   "outputs": [
    {
     "name": "stdout",
     "output_type": "stream",
     "text": [
      "GV F E D CP B AZ\n"
     ]
    }
   ],
   "source": [
    "print(reverse_sentence('AZ B CP D E F GV'))"
   ]
  },
  {
   "cell_type": "code",
   "execution_count": 9,
   "metadata": {},
   "outputs": [],
   "source": [
    "import re"
   ]
  },
  {
   "cell_type": "code",
   "execution_count": null,
   "metadata": {},
   "outputs": [],
   "source": [
    "def number_to_word(number):\n",
    "    dict_of_numb = {\n",
    "        '1': 'one ',\n",
    "        '2': 'two ',\n",
    "        '3': 'three '\n",
    "    }\n",
    "    num\n"
   ]
  },
  {
   "cell_type": "code",
   "execution_count": 20,
   "metadata": {},
   "outputs": [],
   "source": [
    "def count_all(string):\n",
    "    number_pattern = r'\\d'\n",
    "    letter_pattern = r'\\w'\n",
    "    count_of_numbers = len(re.findall(number_pattern, string))\n",
    "    count_of_letters = len(re.findall(letter_pattern, string))\n",
    "    print('Count of Numbers', count_of_numbers)\n",
    "    print('Count of Letters', count_of_letters - count_of_numbers)\n",
    "    print('Count of else',len(string) - count_of_letters)"
   ]
  },
  {
   "cell_type": "code",
   "execution_count": 21,
   "metadata": {},
   "outputs": [
    {
     "name": "stdout",
     "output_type": "stream",
     "text": [
      "Count of Numbers 4\n",
      "Count of Letters 5\n",
      "Count of else 4\n"
     ]
    }
   ],
   "source": [
    "count_all('abc12de34&^% ')"
   ]
  },
  {
   "cell_type": "code",
   "execution_count": 28,
   "metadata": {},
   "outputs": [],
   "source": [
    "def magic(string):\n",
    "    uppers = []\n",
    "    lowers = []\n",
    "    spec = []\n",
    "    for letter in string:\n",
    "        if letter.isupper():\n",
    "            uppers.append(letter)\n",
    "        elif letter.islower:\n",
    "            lowers.append(letter)\n",
    "        else:\n",
    "            spec.append(letter)\n",
    "    return ''.join(uppers + lowers + spec)\n",
    "            "
   ]
  },
  {
   "cell_type": "code",
   "execution_count": 30,
   "metadata": {
    "scrolled": true
   },
   "outputs": [
    {
     "name": "stdout",
     "output_type": "stream",
     "text": [
      "HWello orld!\n"
     ]
    }
   ],
   "source": [
    "print(magic('Hello World!'))"
   ]
  },
  {
   "cell_type": "code",
   "execution_count": 31,
   "metadata": {},
   "outputs": [],
   "source": [
    "def cat_and_dog(string):\n",
    "    return (string.count('cat') == string.count('dog'))"
   ]
  },
  {
   "cell_type": "code",
   "execution_count": 34,
   "metadata": {
    "scrolled": false
   },
   "outputs": [
    {
     "name": "stdout",
     "output_type": "stream",
     "text": [
      "True\n"
     ]
    }
   ],
   "source": [
    "print(cat_and_dog('dogcatdogcat'))"
   ]
  },
  {
   "cell_type": "code",
   "execution_count": null,
   "metadata": {},
   "outputs": [],
   "source": []
  },
  {
   "cell_type": "code",
   "execution_count": null,
   "metadata": {},
   "outputs": [],
   "source": [
    "def Upper(string):\n",
    "    for x in "
   ]
  }
 ],
 "metadata": {
  "kernelspec": {
   "display_name": "Python 3",
   "language": "python",
   "name": "python3"
  },
  "language_info": {
   "codemirror_mode": {
    "name": "ipython",
    "version": 3
   },
   "file_extension": ".py",
   "mimetype": "text/x-python",
   "name": "python",
   "nbconvert_exporter": "python",
   "pygments_lexer": "ipython3",
   "version": "3.7.3"
  }
 },
 "nbformat": 4,
 "nbformat_minor": 2
}
