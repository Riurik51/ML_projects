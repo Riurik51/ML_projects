{
 "cells": [
  {
   "cell_type": "code",
   "execution_count": 7,
   "metadata": {},
   "outputs": [],
   "source": [
    "def reverse_sentence(string):\n",
    "    return ' '.join(string.split(' ')[::-1])"
   ]
  },
  {
   "cell_type": "code",
   "execution_count": 8,
   "metadata": {},
   "outputs": [
    {
     "name": "stdout",
     "output_type": "stream",
     "text": [
      "GV F E D CP B AZ\n"
     ]
    }
   ],
   "source": [
    "print(reverse_sentence('AZ B CP D E F GV'))"
   ]
  },
  {
   "cell_type": "code",
   "execution_count": 9,
   "metadata": {},
   "outputs": [],
   "source": [
    "import re"
   ]
  },
  {
   "cell_type": "code",
   "execution_count": null,
   "metadata": {},
   "outputs": [],
   "source": [
    "def number_to_word(number):\n",
    "    dict_of_numb = {\n",
    "        '1': 'one ',\n",
    "        '2': 'two ',\n",
    "        '3': 'three '\n",
    "    }\n",
    "    num\n"
   ]
  },
  {
   "cell_type": "code",
   "execution_count": 20,
   "metadata": {},
   "outputs": [],
   "source": [
    "def count_all(string):\n",
    "    number_pattern = r'\\d'\n",
    "    letter_pattern = r'\\w'\n",
    "    count_of_numbers = len(re.findall(number_pattern, string))\n",
    "    count_of_letters = len(re.findall(letter_pattern, string))\n",
    "    print('Count of Numbers', count_of_numbers)\n",
    "    print('Count of Letters', count_of_letters - count_of_numbers)\n",
    "    print('Count of else',len(string) - count_of_letters)"
   ]
  },
  {
   "cell_type": "code",
   "execution_count": 21,
   "metadata": {},
   "outputs": [
    {
     "name": "stdout",
     "output_type": "stream",
     "text": [
      "Count of Numbers 4\n",
      "Count of Letters 5\n",
      "Count of else 4\n"
     ]
    }
   ],
   "source": [
    "count_all('abc12de34&^% ')"
   ]
  },
  {
   "cell_type": "code",
   "execution_count": 28,
   "metadata": {},
   "outputs": [],
   "source": [
    "def magic(string):\n",
    "    uppers = []\n",
    "    lowers = []\n",
    "    spec = []\n",
    "    for letter in string:\n",
    "        if letter.isupper():\n",
    "            uppers.append(letter)\n",
    "        elif letter.islower:\n",
    "            lowers.append(letter)\n",
    "        else:\n",
    "            spec.append(letter)\n",
    "    return ''.join(uppers + lowers + spec)\n",
    "            "
   ]
  },
  {
   "cell_type": "code",
   "execution_count": 30,
   "metadata": {
    "scrolled": true
   },
   "outputs": [
    {
     "name": "stdout",
     "output_type": "stream",
     "text": [
      "HWello orld!\n"
     ]
    }
   ],
   "source": [
    "print(magic('Hello World!'))"
   ]
  },
  {
   "cell_type": "code",
   "execution_count": 31,
   "metadata": {},
   "outputs": [],
   "source": [
    "def cat_and_dog(string):\n",
    "    return (string.count('cat') == string.count('dog'))"
   ]
  },
  {
   "cell_type": "code",
   "execution_count": 34,
   "metadata": {
    "scrolled": false
   },
   "outputs": [
    {
     "name": "stdout",
     "output_type": "stream",
     "text": [
      "True\n"
     ]
    }
   ],
   "source": [
    "print(cat_and_dog('dogcatdogcat'))"
   ]
  },
  {
   "cell_type": "code",
   "execution_count": 52,
   "metadata": {},
   "outputs": [],
   "source": [
    "import string \n",
    "import pandas as pd\n",
    "from collections import Counter"
   ]
  },
  {
   "cell_type": "code",
   "execution_count": 55,
   "metadata": {},
   "outputs": [],
   "source": [
    "def Upper(strin):\n",
    "    count_list = []\n",
    "    for x in string.ascii_lowercase:\n",
    "        count_list.append(strin.count(x))\n",
    "    Replaced = string.ascii_lowercase[pd.Series(count_list).idxmax()]\n",
    "    return strin.replace(Replaced , Replaced.upper())    \n",
    "\n",
    "def Upeer_2(s):\n",
    "    c = dict(Counter(s))\n",
    "    top_char = max(c, key=c.get)\n",
    "    print(top_char)\n",
    "    return s.replace(top_char, top_char.upper())"
   ]
  },
  {
   "cell_type": "code",
   "execution_count": 56,
   "metadata": {},
   "outputs": [
    {
     "name": "stdout",
     "output_type": "stream",
     "text": [
      "a\n",
      "AbcAA\n"
     ]
    }
   ],
   "source": [
    "print(Upeer_2('abcaa'))"
   ]
  },
  {
   "cell_type": "code",
   "execution_count": 93,
   "metadata": {},
   "outputs": [],
   "source": [
    "import os"
   ]
  },
  {
   "cell_type": "code",
   "execution_count": 94,
   "metadata": {},
   "outputs": [
    {
     "ename": "FileNotFoundError",
     "evalue": "[Errno 2] No such file or directory: 'path'",
     "output_type": "error",
     "traceback": [
      "\u001b[0;31m---------------------------------------------------------------------------\u001b[0m",
      "\u001b[0;31mFileNotFoundError\u001b[0m                         Traceback (most recent call last)",
      "\u001b[0;32m<ipython-input-94-81af9ffc7650>\u001b[0m in \u001b[0;36m<module>\u001b[0;34m\u001b[0m\n\u001b[0;32m----> 1\u001b[0;31m \u001b[0mos\u001b[0m\u001b[0;34m.\u001b[0m\u001b[0mlistdir\u001b[0m\u001b[0;34m(\u001b[0m\u001b[0;34m'path'\u001b[0m\u001b[0;34m)\u001b[0m\u001b[0;34m\u001b[0m\u001b[0;34m\u001b[0m\u001b[0m\n\u001b[0m",
      "\u001b[0;31mFileNotFoundError\u001b[0m: [Errno 2] No such file or directory: 'path'"
     ]
    }
   ],
   "source": [
    "os.listdir('path')"
   ]
  },
  {
   "cell_type": "code",
   "execution_count": null,
   "metadata": {},
   "outputs": [],
   "source": [
    "\"\"\"\n",
    "Модуль содержит фукнцию, проверяющую является ли \n",
    "строка полиндромом\n",
    "\"\"\"\n",
    "\n",
    "\n",
    "def palindrome(string):\n",
    "    \"\"\"\n",
    "    Функция проверяет является ли строка полиндромом\n",
    "    Вход: string - строка\n",
    "    Выход: True - является False - нет\n",
    "    \"\"\"\n",
    "    if len(string) < 2:\n",
    "        return True\n",
    "    if string[0] != string[-1]:\n",
    "        return False\n",
    "    return palindrome(string[1:-1])"
   ]
  }
 ],
 "metadata": {
  "kernelspec": {
   "display_name": "Python 3",
   "language": "python",
   "name": "python3"
  },
  "language_info": {
   "codemirror_mode": {
    "name": "ipython",
    "version": 3
   },
   "file_extension": ".py",
   "mimetype": "text/x-python",
   "name": "python",
   "nbconvert_exporter": "python",
   "pygments_lexer": "ipython3",
   "version": "3.7.3"
  }
 },
 "nbformat": 4,
 "nbformat_minor": 2
}
