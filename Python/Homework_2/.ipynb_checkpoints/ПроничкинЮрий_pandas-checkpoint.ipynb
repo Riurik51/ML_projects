{
 "cells": [
  {
   "cell_type": "markdown",
   "metadata": {},
   "source": [
    "Проничкин Юрий - pandas\n",
    "Импорт библиотек:"
   ]
  },
  {
   "cell_type": "markdown",
   "metadata": {},
   "source": [
    "## Исправленное отмечено жирным"
   ]
  },
  {
   "cell_type": "markdown",
   "metadata": {},
   "source": [
    "# (Ошибки были в сравнении с константами)"
   ]
  },
  {
   "cell_type": "code",
   "execution_count": 16,
   "metadata": {},
   "outputs": [],
   "source": [
    "import pandas as pd\n",
    "\n",
    "import matplotlib.pyplot as plt\n",
    "\n",
    "import math\n",
    "\n",
    "%matplotlib inline"
   ]
  },
  {
   "cell_type": "markdown",
   "metadata": {},
   "source": [
    "Читаем данные:"
   ]
  },
  {
   "cell_type": "code",
   "execution_count": 17,
   "metadata": {},
   "outputs": [],
   "source": [
    "apps = pd.read_csv('googleplaystore.csv')\n",
    "reviews = pd.read_csv('googleplaystore_user_reviews.csv')"
   ]
  },
  {
   "cell_type": "code",
   "execution_count": 18,
   "metadata": {},
   "outputs": [],
   "source": [
    "def to_number(string):\n",
    "    return int(string)"
   ]
  },
  {
   "cell_type": "markdown",
   "metadata": {},
   "source": [
    "Убираем лишнее"
   ]
  },
  {
   "cell_type": "code",
   "execution_count": 19,
   "metadata": {},
   "outputs": [],
   "source": [
    "apps = apps[apps['Reviews'] != '3.0M']"
   ]
  },
  {
   "cell_type": "markdown",
   "metadata": {},
   "source": [
    "Переводим в int количество отзывов"
   ]
  },
  {
   "cell_type": "code",
   "execution_count": 20,
   "metadata": {
    "scrolled": false
   },
   "outputs": [],
   "source": [
    "apps.loc[:,'Reviews_number'] = apps.loc[:,'Reviews'].apply(to_number)"
   ]
  },
  {
   "cell_type": "markdown",
   "metadata": {},
   "source": [
    "Смотрим сумму отзывов по категориям и находим наибольшую - 'GAME'"
   ]
  },
  {
   "cell_type": "code",
   "execution_count": 21,
   "metadata": {
    "scrolled": true
   },
   "outputs": [],
   "source": [
    "category = apps[['Category','Reviews_number']].groupby(['Category'])[['Reviews_number']].sum()"
   ]
  },
  {
   "cell_type": "code",
   "execution_count": 22,
   "metadata": {
    "scrolled": true
   },
   "outputs": [
    {
     "data": {
      "text/plain": [
       "'GAME'"
      ]
     },
     "execution_count": 22,
     "metadata": {},
     "output_type": "execute_result"
    }
   ],
   "source": [
    "category['Reviews_number'].idxmax()"
   ]
  },
  {
   "cell_type": "markdown",
   "metadata": {},
   "source": [
    "Сортируем и с помощью info считаем сколько будет 5% "
   ]
  },
  {
   "cell_type": "code",
   "execution_count": 23,
   "metadata": {
    "scrolled": true
   },
   "outputs": [
    {
     "name": "stdout",
     "output_type": "stream",
     "text": [
      "<class 'pandas.core.frame.DataFrame'>\n",
      "Int64Index: 10840 entries, 0 to 10840\n",
      "Data columns (total 14 columns):\n",
      "App               10840 non-null object\n",
      "Category          10840 non-null object\n",
      "Rating            9366 non-null float64\n",
      "Reviews           10840 non-null object\n",
      "Size              10840 non-null object\n",
      "Installs          10840 non-null object\n",
      "Type              10839 non-null object\n",
      "Price             10840 non-null object\n",
      "Content Rating    10840 non-null object\n",
      "Genres            10840 non-null object\n",
      "Last Updated      10840 non-null object\n",
      "Current Ver       10832 non-null object\n",
      "Android Ver       10838 non-null object\n",
      "Reviews_number    10840 non-null int64\n",
      "dtypes: float64(1), int64(1), object(12)\n",
      "memory usage: 1.2+ MB\n"
     ]
    }
   ],
   "source": [
    "apps.info()"
   ]
  },
  {
   "cell_type": "code",
   "execution_count": 24,
   "metadata": {
    "scrolled": true
   },
   "outputs": [],
   "source": [
    "most_reviews = apps.sort_values(by=['Reviews_number'])"
   ]
  },
  {
   "cell_type": "markdown",
   "metadata": {},
   "source": [
    "# Исправил Тут"
   ]
  },
  {
   "cell_type": "code",
   "execution_count": 25,
   "metadata": {},
   "outputs": [],
   "source": [
    "n = int(most_reviews.shape[0] * 0.95)"
   ]
  },
  {
   "cell_type": "markdown",
   "metadata": {},
   "source": [
    "Среди них находим максимальное по рейтингу - PewDiePie's Tuber Simulator"
   ]
  },
  {
   "cell_type": "code",
   "execution_count": 26,
   "metadata": {
    "scrolled": true
   },
   "outputs": [
    {
     "data": {
      "text/plain": [
       "4799"
      ]
     },
     "execution_count": 26,
     "metadata": {},
     "output_type": "execute_result"
    }
   ],
   "source": [
    "most_reviews.iloc[n:,:]['Rating'].idxmax()"
   ]
  },
  {
   "cell_type": "code",
   "execution_count": 27,
   "metadata": {
    "scrolled": true
   },
   "outputs": [
    {
     "data": {
      "text/plain": [
       "App               PewDiePie's Tuber Simulator\n",
       "Category                               FAMILY\n",
       "Rating                                    4.8\n",
       "Reviews                               1499466\n",
       "Size                                      96M\n",
       "Installs                          10,000,000+\n",
       "Type                                     Free\n",
       "Price                                       0\n",
       "Content Rating                           Teen\n",
       "Genres                                 Casual\n",
       "Last Updated                    July 24, 2018\n",
       "Current Ver                            1.25.0\n",
       "Android Ver                        4.1 and up\n",
       "Reviews_number                        1499466\n",
       "Name: 4799, dtype: object"
      ]
     },
     "execution_count": 27,
     "metadata": {},
     "output_type": "execute_result"
    }
   ],
   "source": [
    "apps.iloc[4799]"
   ]
  },
  {
   "cell_type": "markdown",
   "metadata": {},
   "source": [
    "Убираем лишнее и переводим в int количество установок"
   ]
  },
  {
   "cell_type": "code",
   "execution_count": 28,
   "metadata": {},
   "outputs": [],
   "source": [
    "apps_filter = apps[apps['Installs'] != 'Free']"
   ]
  },
  {
   "cell_type": "code",
   "execution_count": 29,
   "metadata": {},
   "outputs": [],
   "source": [
    "def to_number_2(string):\n",
    "    string = int(string.replace('+','').replace(',',''))\n",
    "    return string"
   ]
  },
  {
   "cell_type": "code",
   "execution_count": 30,
   "metadata": {},
   "outputs": [],
   "source": [
    "apps_filter.loc[:,'Installs_number'] = apps_filter.loc[:,'Installs'].apply(to_number_2)"
   ]
  },
  {
   "cell_type": "code",
   "execution_count": 31,
   "metadata": {},
   "outputs": [],
   "source": [
    "apps_filter_dropped = apps_filter.loc[:,['Rating','Installs_number']].dropna()"
   ]
  },
  {
   "cell_type": "markdown",
   "metadata": {},
   "source": [
    "log - шкала"
   ]
  },
  {
   "cell_type": "code",
   "execution_count": 32,
   "metadata": {},
   "outputs": [],
   "source": [
    "apps_filter_dropped['log_installs'] = (\n",
    "    apps_filter_dropped['Installs_number']\n",
    "    .apply(lambda x: math.log10(x) if x>0 else None)\n",
    ")"
   ]
  },
  {
   "cell_type": "markdown",
   "metadata": {},
   "source": [
    "Гравик зависимости:"
   ]
  },
  {
   "cell_type": "code",
   "execution_count": 33,
   "metadata": {
    "scrolled": true
   },
   "outputs": [
    {
     "data": {
      "text/plain": [
       "<matplotlib.axes._subplots.AxesSubplot at 0x7fd780aa2b38>"
      ]
     },
     "execution_count": 33,
     "metadata": {},
     "output_type": "execute_result"
    },
    {
     "data": {
      "image/png": "[encoded data removed]",
      "text/plain": [
       "<Figure size 432x288 with 1 Axes>"
      ]
     },
     "metadata": {
      "needs_background": "light"
     },
     "output_type": "display_data"
    }
   ],
   "source": [
    "apps_filter_dropped.plot(x='log_installs', y='Rating',style='.')"
   ]
  },
  {
   "cell_type": "markdown",
   "metadata": {},
   "source": [
    "Гистограмма рейтингов:"
   ]
  },
  {
   "cell_type": "code",
   "execution_count": 34,
   "metadata": {
    "scrolled": true
   },
   "outputs": [
    {
     "data": {
      "image/png": "[encoded data removed]",
      "text/plain": [
       "<Figure size 432x288 with 1 Axes>"
      ]
     },
     "metadata": {
      "needs_background": "light"
     },
     "output_type": "display_data"
    }
   ],
   "source": [
    "apps_filter_dropped.hist(column='Rating', bins=100)\n",
    "\n",
    "plt.show()"
   ]
  },
  {
   "cell_type": "markdown",
   "metadata": {},
   "source": [
    "Убираем пропуски:"
   ]
  },
  {
   "cell_type": "code",
   "execution_count": 35,
   "metadata": {},
   "outputs": [],
   "source": [
    "dropped_reviews = reviews.dropna()"
   ]
  },
  {
   "cell_type": "markdown",
   "metadata": {},
   "source": [
    "Выбираем позитивные:"
   ]
  },
  {
   "cell_type": "code",
   "execution_count": 43,
   "metadata": {
    "scrolled": true
   },
   "outputs": [],
   "source": [
    "pos_reviews = dropped_reviews.iloc[(dropped_reviews['Sentiment'] == 'Positive').values,:]"
   ]
  },
  {
   "cell_type": "markdown",
   "metadata": {},
   "source": [
    "## ИСПРАВЛЕНО"
   ]
  },
  {
   "cell_type": "markdown",
   "metadata": {},
   "source": [
    "Выбираем самые топ 5 'Sentiment_Polarity' (с Sentiment_Polarity больше или равном чем у 5го самого большого) затем сортируем по 'Sentiment_Subjectivity'"
   ]
  },
  {
   "cell_type": "code",
   "execution_count": 61,
   "metadata": {
    "scrolled": true
   },
   "outputs": [
    {
     "data": {
      "text/html": [
       "<div>\n",
       "<style scoped>\n",
       "    .dataframe tbody tr th:only-of-type {\n",
       "        vertical-align: middle;\n",
       "    }\n",
       "\n",
       "    .dataframe tbody tr th {\n",
       "        vertical-align: top;\n",
       "    }\n",
       "\n",
       "    .dataframe thead th {\n",
       "        text-align: right;\n",
       "    }\n",
       "</style>\n",
       "<table border=\"1\" class=\"dataframe\">\n",
       "  <thead>\n",
       "    <tr style=\"text-align: right;\">\n",
       "      <th></th>\n",
       "      <th>App</th>\n",
       "      <th>Translated_Review</th>\n",
       "      <th>Sentiment</th>\n",
       "      <th>Sentiment_Polarity</th>\n",
       "      <th>Sentiment_Subjectivity</th>\n",
       "    </tr>\n",
       "  </thead>\n",
       "  <tbody>\n",
       "    <tr>\n",
       "      <th>64117</th>\n",
       "      <td>Hotstar</td>\n",
       "      <td>Best</td>\n",
       "      <td>Positive</td>\n",
       "      <td>1.0</td>\n",
       "      <td>0.3</td>\n",
       "    </tr>\n",
       "    <tr>\n",
       "      <th>11432</th>\n",
       "      <td>Baby Panda Care</td>\n",
       "      <td>So best ☺#ILOVEIT</td>\n",
       "      <td>Positive</td>\n",
       "      <td>1.0</td>\n",
       "      <td>0.3</td>\n",
       "    </tr>\n",
       "    <tr>\n",
       "      <th>34986</th>\n",
       "      <td>Divar</td>\n",
       "      <td>think best.</td>\n",
       "      <td>Positive</td>\n",
       "      <td>1.0</td>\n",
       "      <td>0.3</td>\n",
       "    </tr>\n",
       "    <tr>\n",
       "      <th>11392</th>\n",
       "      <td>Baby Panda Care</td>\n",
       "      <td>So best ☺#ILOVEIT</td>\n",
       "      <td>Positive</td>\n",
       "      <td>1.0</td>\n",
       "      <td>0.3</td>\n",
       "    </tr>\n",
       "    <tr>\n",
       "      <th>35055</th>\n",
       "      <td>Do It Later: Tasks &amp; To-Dos</td>\n",
       "      <td>Best ever</td>\n",
       "      <td>Positive</td>\n",
       "      <td>1.0</td>\n",
       "      <td>0.3</td>\n",
       "    </tr>\n",
       "  </tbody>\n",
       "</table>\n",
       "</div>"
      ],
      "text/plain": [
       "                               App  Translated_Review Sentiment  \\\n",
       "64117                      Hotstar               Best  Positive   \n",
       "11432              Baby Panda Care  So best ☺#ILOVEIT  Positive   \n",
       "34986                        Divar        think best.  Positive   \n",
       "11392              Baby Panda Care  So best ☺#ILOVEIT  Positive   \n",
       "35055  Do It Later: Tasks & To-Dos          Best ever  Positive   \n",
       "\n",
       "       Sentiment_Polarity  Sentiment_Subjectivity  \n",
       "64117                 1.0                     0.3  \n",
       "11432                 1.0                     0.3  \n",
       "34986                 1.0                     0.3  \n",
       "11392                 1.0                     0.3  \n",
       "35055                 1.0                     0.3  "
      ]
     },
     "execution_count": 61,
     "metadata": {},
     "output_type": "execute_result"
    }
   ],
   "source": [
    "pos_reviews.iloc[\n",
    "    (pos_reviews['Sentiment_Polarity'] >=\n",
    "     pos_reviews['Sentiment_Polarity'].\\\n",
    "     sort_values().iloc[-5]).values, :].\\\n",
    "     sort_values(by=['Sentiment_Subjectivity']).head()"
   ]
  },
  {
   "cell_type": "markdown",
   "metadata": {},
   "source": [
    "Аналогично негативные, только тут выбираем самые маленькие 'Sentiment_Polarity' (с Sentiment_Polarity меньше или равном чем у 5го самого маленького)"
   ]
  },
  {
   "cell_type": "code",
   "execution_count": 45,
   "metadata": {},
   "outputs": [],
   "source": [
    "neg_reviews = dropped_reviews.iloc[(dropped_reviews['Sentiment'] == 'Negative').values,:]"
   ]
  },
  {
   "cell_type": "code",
   "execution_count": 63,
   "metadata": {
    "scrolled": true
   },
   "outputs": [
    {
     "data": {
      "text/html": [
       "<div>\n",
       "<style scoped>\n",
       "    .dataframe tbody tr th:only-of-type {\n",
       "        vertical-align: middle;\n",
       "    }\n",
       "\n",
       "    .dataframe tbody tr th {\n",
       "        vertical-align: top;\n",
       "    }\n",
       "\n",
       "    .dataframe thead th {\n",
       "        text-align: right;\n",
       "    }\n",
       "</style>\n",
       "<table border=\"1\" class=\"dataframe\">\n",
       "  <thead>\n",
       "    <tr style=\"text-align: right;\">\n",
       "      <th></th>\n",
       "      <th>App</th>\n",
       "      <th>Translated_Review</th>\n",
       "      <th>Sentiment</th>\n",
       "      <th>Sentiment_Polarity</th>\n",
       "      <th>Sentiment_Subjectivity</th>\n",
       "    </tr>\n",
       "  </thead>\n",
       "  <tbody>\n",
       "    <tr>\n",
       "      <th>35719</th>\n",
       "      <td>Doodle Jump</td>\n",
       "      <td>I playing game 6years Speechless!!!!!!!!</td>\n",
       "      <td>Negative</td>\n",
       "      <td>-1.0</td>\n",
       "      <td>0.40</td>\n",
       "    </tr>\n",
       "    <tr>\n",
       "      <th>54548</th>\n",
       "      <td>GolfLogix GPS + Putt Breaks</td>\n",
       "      <td>Expensive app, cant buy outright. NOT INTUITIV...</td>\n",
       "      <td>Negative</td>\n",
       "      <td>-1.0</td>\n",
       "      <td>0.70</td>\n",
       "    </tr>\n",
       "    <tr>\n",
       "      <th>1867</th>\n",
       "      <td>A Call From Santa Claus!</td>\n",
       "      <td>DISAPPOINTED!!!! We tried send message &amp; kept ...</td>\n",
       "      <td>Negative</td>\n",
       "      <td>-1.0</td>\n",
       "      <td>0.75</td>\n",
       "    </tr>\n",
       "    <tr>\n",
       "      <th>16408</th>\n",
       "      <td>Bloomberg Professional</td>\n",
       "      <td>Very poor performance Android devices!!!</td>\n",
       "      <td>Negative</td>\n",
       "      <td>-1.0</td>\n",
       "      <td>0.78</td>\n",
       "    </tr>\n",
       "    <tr>\n",
       "      <th>19033</th>\n",
       "      <td>BÁO MỚI - Đọc Báo, Tin Tức 24h</td>\n",
       "      <td>Leaf editors use the word ignorant, content crap!</td>\n",
       "      <td>Negative</td>\n",
       "      <td>-1.0</td>\n",
       "      <td>0.80</td>\n",
       "    </tr>\n",
       "  </tbody>\n",
       "</table>\n",
       "</div>"
      ],
      "text/plain": [
       "                                  App  \\\n",
       "35719                     Doodle Jump   \n",
       "54548     GolfLogix GPS + Putt Breaks   \n",
       "1867         A Call From Santa Claus!   \n",
       "16408          Bloomberg Professional   \n",
       "19033  BÁO MỚI - Đọc Báo, Tin Tức 24h   \n",
       "\n",
       "                                       Translated_Review Sentiment  \\\n",
       "35719           I playing game 6years Speechless!!!!!!!!  Negative   \n",
       "54548  Expensive app, cant buy outright. NOT INTUITIV...  Negative   \n",
       "1867   DISAPPOINTED!!!! We tried send message & kept ...  Negative   \n",
       "16408           Very poor performance Android devices!!!  Negative   \n",
       "19033  Leaf editors use the word ignorant, content crap!  Negative   \n",
       "\n",
       "       Sentiment_Polarity  Sentiment_Subjectivity  \n",
       "35719                -1.0                    0.40  \n",
       "54548                -1.0                    0.70  \n",
       "1867                 -1.0                    0.75  \n",
       "16408                -1.0                    0.78  \n",
       "19033                -1.0                    0.80  "
      ]
     },
     "execution_count": 63,
     "metadata": {},
     "output_type": "execute_result"
    }
   ],
   "source": [
    "neg_reviews.iloc[\n",
    "    (neg_reviews['Sentiment_Polarity'] <=\n",
    "     neg_reviews['Sentiment_Polarity'].\\\n",
    "     sort_values().iloc[4]).values, :].\\\n",
    "     sort_values(by=['Sentiment_Subjectivity']).head()"
   ]
  },
  {
   "cell_type": "markdown",
   "metadata": {},
   "source": [
    "Делаем лефт джоин таблиц"
   ]
  },
  {
   "cell_type": "code",
   "execution_count": 25,
   "metadata": {},
   "outputs": [],
   "source": [
    "merged = (\n",
    "    apps_filter.\n",
    "    merge(\n",
    "        dropped_reviews,\n",
    "        left_on='App',\n",
    "        right_on='App',\n",
    "        how='left'\n",
    "    )\n",
    ")"
   ]
  },
  {
   "cell_type": "markdown",
   "metadata": {},
   "source": [
    "Группируем по категориям и выбираем наибольший средний 'Sentiment_Subjectivity' - COMICS"
   ]
  },
  {
   "cell_type": "code",
   "execution_count": 27,
   "metadata": {},
   "outputs": [],
   "source": [
    "category = merged[['Category','Sentiment_Subjectivity']].groupby(['Category'])[['Sentiment_Subjectivity']].mean()"
   ]
  },
  {
   "cell_type": "code",
   "execution_count": 28,
   "metadata": {},
   "outputs": [
    {
     "data": {
      "text/plain": [
       "Sentiment_Subjectivity    COMICS\n",
       "dtype: object"
      ]
     },
     "execution_count": 28,
     "metadata": {},
     "output_type": "execute_result"
    }
   ],
   "source": [
    "category.idxmax()"
   ]
  }
 ],
 "metadata": {
  "kernelspec": {
   "display_name": "Python 3",
   "language": "python",
   "name": "python3"
  },
  "language_info": {
   "codemirror_mode": {
    "name": "ipython",
    "version": 3
   },
   "file_extension": ".py",
   "mimetype": "text/x-python",
   "name": "python",
   "nbconvert_exporter": "python",
   "pygments_lexer": "ipython3",
   "version": "3.7.3"
  }
 },
 "nbformat": 4,
 "nbformat_minor": 2
}
