{
 "cells": [
  {
   "cell_type": "markdown",
   "metadata": {},
   "source": [
    "# Добрый вечерочек!"
   ]
  },
  {
   "cell_type": "markdown",
   "metadata": {
    "toc": true
   },
   "source": [
    "<h1>План лекции<span class=\"tocSkip\"></span></h1>\n",
    "<div class=\"toc\"><ul class=\"toc-item\"><li><span><a href=\"#Структуры-данных-в-Пандасе\" data-toc-modified-id=\"Структуры-данных-в-Пандасе-1\"><span class=\"toc-item-num\">1&nbsp;&nbsp;</span>Структуры данных в Пандасе</a></span><ul class=\"toc-item\"><li><span><a href=\"#Series\" data-toc-modified-id=\"Series-1.1\"><span class=\"toc-item-num\">1.1&nbsp;&nbsp;</span>Series</a></span><ul class=\"toc-item\"><li><span><a href=\"#Создание-объекта-Series\" data-toc-modified-id=\"Создание-объекта-Series-1.1.1\"><span class=\"toc-item-num\">1.1.1&nbsp;&nbsp;</span>Создание объекта Series</a></span></li><li><span><a href=\"#Операции\" data-toc-modified-id=\"Операции-1.1.2\"><span class=\"toc-item-num\">1.1.2&nbsp;&nbsp;</span>Операции</a></span></li><li><span><a href=\"#Индексация-/-slicing\" data-toc-modified-id=\"Индексация-/-slicing-1.1.3\"><span class=\"toc-item-num\">1.1.3&nbsp;&nbsp;</span>Индексация / slicing</a></span></li></ul></li><li><span><a href=\"#DataFrame\" data-toc-modified-id=\"DataFrame-1.2\"><span class=\"toc-item-num\">1.2&nbsp;&nbsp;</span>DataFrame</a></span><ul class=\"toc-item\"><li><span><a href=\"#Создание-объекта\" data-toc-modified-id=\"Создание-объекта-1.2.1\"><span class=\"toc-item-num\">1.2.1&nbsp;&nbsp;</span>Создание объекта</a></span></li><li><span><a href=\"#Индексация\" data-toc-modified-id=\"Индексация-1.2.2\"><span class=\"toc-item-num\">1.2.2&nbsp;&nbsp;</span>Индексация</a></span><ul class=\"toc-item\"><li><span><a href=\"#[]\" data-toc-modified-id=\"[]-1.2.2.1\"><span class=\"toc-item-num\">1.2.2.1&nbsp;&nbsp;</span>[]</a></span></li><li><span><a href=\"#.loc\" data-toc-modified-id=\".loc-1.2.2.2\"><span class=\"toc-item-num\">1.2.2.2&nbsp;&nbsp;</span>.loc</a></span></li><li><span><a href=\"#.iloc\" data-toc-modified-id=\".iloc-1.2.2.3\"><span class=\"toc-item-num\">1.2.2.3&nbsp;&nbsp;</span>.iloc</a></span></li></ul></li></ul></li></ul></li><li><span><a href=\"#Изучаем-Pandas-на-примере\" data-toc-modified-id=\"Изучаем-Pandas-на-примере-2\"><span class=\"toc-item-num\">2&nbsp;&nbsp;</span>Изучаем Pandas на примере</a></span><ul class=\"toc-item\"><li><span><a href=\"#Загрузка-данных\" data-toc-modified-id=\"Загрузка-данных-2.1\"><span class=\"toc-item-num\">2.1&nbsp;&nbsp;</span>Загрузка данных</a></span></li><li><span><a href=\"#Удаление-столбцов\" data-toc-modified-id=\"Удаление-столбцов-2.2\"><span class=\"toc-item-num\">2.2&nbsp;&nbsp;</span>Удаление столбцов</a></span></li><li><span><a href=\"#Изменение-значений-в-столбце\" data-toc-modified-id=\"Изменение-значений-в-столбце-2.3\"><span class=\"toc-item-num\">2.3&nbsp;&nbsp;</span>Изменение значений в столбце</a></span></li><li><span><a href=\"#Обработка-отсутствующих-значений\" data-toc-modified-id=\"Обработка-отсутствующих-значений-2.4\"><span class=\"toc-item-num\">2.4&nbsp;&nbsp;</span>Обработка отсутствующих значений</a></span><ul class=\"toc-item\"><li><span><a href=\"#Удаление-пропущенных-значений\" data-toc-modified-id=\"Удаление-пропущенных-значений-2.4.1\"><span class=\"toc-item-num\">2.4.1&nbsp;&nbsp;</span>Удаление пропущенных значений</a></span></li><li><span><a href=\"#Заполнение-пропущенных-значений\" data-toc-modified-id=\"Заполнение-пропущенных-значений-2.4.2\"><span class=\"toc-item-num\">2.4.2&nbsp;&nbsp;</span>Заполнение пропущенных значений</a></span><ul class=\"toc-item\"><li><span><a href=\"#Заполнение-константой\" data-toc-modified-id=\"Заполнение-константой-2.4.2.1\"><span class=\"toc-item-num\">2.4.2.1&nbsp;&nbsp;</span>Заполнение константой</a></span></li><li><span><a href=\"#Заполнение-сложной-статистикой\" data-toc-modified-id=\"Заполнение-сложной-статистикой-2.4.2.2\"><span class=\"toc-item-num\">2.4.2.2&nbsp;&nbsp;</span>Заполнение сложной статистикой</a></span></li></ul></li></ul></li><li><span><a href=\"#Порисуем!\" data-toc-modified-id=\"Порисуем!-2.5\"><span class=\"toc-item-num\">2.5&nbsp;&nbsp;</span>Порисуем!</a></span><ul class=\"toc-item\"><li><span><a href=\"#apply\" data-toc-modified-id=\"apply-2.5.1\"><span class=\"toc-item-num\">2.5.1&nbsp;&nbsp;</span>apply</a></span></li><li><span><a href=\"#seaborn\" data-toc-modified-id=\"seaborn-2.5.2\"><span class=\"toc-item-num\">2.5.2&nbsp;&nbsp;</span>seaborn</a></span></li></ul></li><li><span><a href=\"#Джоин\" data-toc-modified-id=\"Джоин-2.6\"><span class=\"toc-item-num\">2.6&nbsp;&nbsp;</span>Джоин</a></span></li></ul></li></ul></div>"
   ]
  },
  {
   "cell_type": "markdown",
   "metadata": {},
   "source": [
    "Сегодня внепланово изучим возможности одной из наиболее часто используемой дата-саентистами библиотеки pandas."
   ]
  },
  {
   "cell_type": "markdown",
   "metadata": {},
   "source": [
    "Есть классная шпаргалка http://pandas.pydata.org/Pandas_Cheat_Sheet.pdf"
   ]
  },
  {
   "cell_type": "code",
   "execution_count": 1,
   "metadata": {
    "ExecuteTime": {
     "end_time": "2019-09-25T15:05:46.837637Z",
     "start_time": "2019-09-25T15:05:45.762434Z"
    }
   },
   "outputs": [],
   "source": [
    "import pandas as pd"
   ]
  },
  {
   "cell_type": "markdown",
   "metadata": {},
   "source": [
    "## Структуры данных в Пандасе"
   ]
  },
  {
   "cell_type": "markdown",
   "metadata": {},
   "source": [
    "Для работы с даннами в pandas есть две основные структуры данных: Series и DataFrame."
   ]
  },
  {
   "cell_type": "markdown",
   "metadata": {},
   "source": [
    "### Series"
   ]
  },
  {
   "cell_type": "markdown",
   "metadata": {},
   "source": [
    "Series - это одномерная маркированная структура данных, состоит из индекса и элементов."
   ]
  },
  {
   "cell_type": "markdown",
   "metadata": {},
   "source": [
    "https://pandas.pydata.org/pandas-docs/stable/reference/series.html"
   ]
  },
  {
   "cell_type": "markdown",
   "metadata": {},
   "source": [
    "#### Создание объекта Series"
   ]
  },
  {
   "cell_type": "code",
   "execution_count": 2,
   "metadata": {
    "ExecuteTime": {
     "end_time": "2019-09-25T15:07:07.231474Z",
     "start_time": "2019-09-25T15:07:07.220379Z"
    },
    "code_folding": []
   },
   "outputs": [
    {
     "name": "stdout",
     "output_type": "stream",
     "text": [
      "0    1\n",
      "1    2\n",
      "2    3\n",
      "dtype: int64\n"
     ]
    }
   ],
   "source": [
    "# создаем объект Series\n",
    "\n",
    "first_series = pd.Series([1, 2, 3])\n",
    "\n",
    "print (first_series)"
   ]
  },
  {
   "cell_type": "code",
   "execution_count": 3,
   "metadata": {
    "ExecuteTime": {
     "end_time": "2019-09-25T15:07:21.081798Z",
     "start_time": "2019-09-25T15:07:21.070687Z"
    },
    "code_folding": []
   },
   "outputs": [
    {
     "name": "stdout",
     "output_type": "stream",
     "text": [
      "Размер Series: (3,)\n",
      "Индекс Series: RangeIndex(start=0, stop=3, step=1)\n",
      "Значения Series: [1 2 3]\n"
     ]
    }
   ],
   "source": [
    "# печатаем информацию про Series\n",
    "\n",
    "print (\"Размер Series:\", first_series.shape)\n",
    "print (\"Индекс Series:\", first_series.index)\n",
    "print (\"Значения Series:\", first_series.values)"
   ]
  },
  {
   "cell_type": "markdown",
   "metadata": {},
   "source": [
    "В примере выше мы не задали явно индекс, поэтому автоматически был создан индекс от 0 до 2."
   ]
  },
  {
   "cell_type": "code",
   "execution_count": 4,
   "metadata": {
    "ExecuteTime": {
     "end_time": "2019-09-25T15:08:07.164033Z",
     "start_time": "2019-09-25T15:08:07.153849Z"
    },
    "code_folding": []
   },
   "outputs": [
    {
     "name": "stdout",
     "output_type": "stream",
     "text": [
      "a    1\n",
      "b    2\n",
      "c    3\n",
      "dtype: int64\n"
     ]
    }
   ],
   "source": [
    "# non-numeric index\n",
    "\n",
    "second_series = pd.Series([1, 2, 3], index=['a', 'b', 'c'])\n",
    "\n",
    "print (second_series)"
   ]
  },
  {
   "cell_type": "code",
   "execution_count": 5,
   "metadata": {
    "ExecuteTime": {
     "end_time": "2019-09-25T15:08:19.869777Z",
     "start_time": "2019-09-25T15:08:19.858463Z"
    },
    "code_folding": []
   },
   "outputs": [
    {
     "name": "stdout",
     "output_type": "stream",
     "text": [
      "Размер Series: (3,)\n",
      "Индекс Series: Index(['a', 'b', 'c'], dtype='object')\n",
      "Значения Series: [1 2 3]\n"
     ]
    }
   ],
   "source": [
    "# печатаем информацию про Series\n",
    "\n",
    "print (\"Размер Series:\", second_series.shape)\n",
    "print (\"Индекс Series:\", second_series.index)\n",
    "print (\"Значения Series:\", second_series.values)"
   ]
  },
  {
   "cell_type": "markdown",
   "metadata": {},
   "source": [
    "Аналогично, можно создать с помощью словаря:"
   ]
  },
  {
   "cell_type": "code",
   "execution_count": 6,
   "metadata": {
    "ExecuteTime": {
     "end_time": "2019-09-25T15:08:43.832785Z",
     "start_time": "2019-09-25T15:08:43.822284Z"
    },
    "code_folding": []
   },
   "outputs": [
    {
     "name": "stdout",
     "output_type": "stream",
     "text": [
      "a    1\n",
      "b    2\n",
      "c    3\n",
      "dtype: int64\n"
     ]
    }
   ],
   "source": [
    "# Series from dict\n",
    "\n",
    "third_series = pd.Series({'a': 1, 'b': 2, 'c': 3})\n",
    "\n",
    "print (third_series)"
   ]
  },
  {
   "cell_type": "markdown",
   "metadata": {},
   "source": [
    "Доступ к элементам Series возможен по их индексу (по аналогии со словарем)"
   ]
  },
  {
   "cell_type": "code",
   "execution_count": 7,
   "metadata": {
    "ExecuteTime": {
     "end_time": "2019-09-25T15:09:05.592556Z",
     "start_time": "2019-09-25T15:09:05.582803Z"
    },
    "code_folding": []
   },
   "outputs": [
    {
     "name": "stdout",
     "output_type": "stream",
     "text": [
      "2\n"
     ]
    }
   ],
   "source": [
    "# со стандартным индексом\n",
    "\n",
    "first_series = pd.Series([1, 2, 3])\n",
    "\n",
    "print (first_series[1])"
   ]
  },
  {
   "cell_type": "code",
   "execution_count": 8,
   "metadata": {
    "ExecuteTime": {
     "end_time": "2019-09-25T15:09:40.585737Z",
     "start_time": "2019-09-25T15:09:40.574864Z"
    },
    "code_folding": []
   },
   "outputs": [
    {
     "name": "stdout",
     "output_type": "stream",
     "text": [
      "2\n",
      "2\n"
     ]
    }
   ],
   "source": [
    "# c кастомным индексом\n",
    "\n",
    "second_series = pd.Series([1, 2, 3], index=['a', 'b', 'c'])\n",
    "\n",
    "#так \n",
    "print (second_series['b'])\n",
    "\n",
    "#или вот так\n",
    "\n",
    "print (second_series[1])"
   ]
  },
  {
   "cell_type": "markdown",
   "metadata": {},
   "source": [
    "Здесь нужно усвоить 3 вещи: \n",
    "\n",
    "1. Как создаются Series\n",
    "2. Series состоят из индекса и значений\n",
    "3. Доступ к элементу осуществляется либо по кастомному индексу, либо по номеру позиции"
   ]
  },
  {
   "cell_type": "markdown",
   "metadata": {},
   "source": [
    "#### Операции"
   ]
  },
  {
   "cell_type": "markdown",
   "metadata": {
    "ExecuteTime": {
     "end_time": "2019-09-20T08:52:51.509150Z",
     "start_time": "2019-09-20T08:52:51.499579Z"
    }
   },
   "source": [
    "Доступны арифметические операции и операции сравнения"
   ]
  },
  {
   "cell_type": "code",
   "execution_count": 9,
   "metadata": {
    "ExecuteTime": {
     "end_time": "2019-09-25T15:10:58.063483Z",
     "start_time": "2019-09-25T15:10:58.052481Z"
    },
    "code_folding": []
   },
   "outputs": [
    {
     "name": "stdout",
     "output_type": "stream",
     "text": [
      "0    0.1\n",
      "1    0.1\n",
      "2    0.1\n",
      "3    0.1\n",
      "4    0.1\n",
      "dtype: float64\n",
      "0    10\n",
      "1    11\n",
      "2    12\n",
      "3    13\n",
      "4    14\n",
      "dtype: int64\n"
     ]
    }
   ],
   "source": [
    "# зададим 2 объекта Series\n",
    "\n",
    "s1 = pd.Series(0.1, index=range(5))\n",
    "s2 = pd.Series(range(10, 15))\n",
    "\n",
    "print (s1)\n",
    "print (s2)"
   ]
  },
  {
   "cell_type": "code",
   "execution_count": 10,
   "metadata": {
    "ExecuteTime": {
     "end_time": "2019-09-25T15:11:29.531689Z",
     "start_time": "2019-09-25T15:11:29.490379Z"
    },
    "code_folding": []
   },
   "outputs": [
    {
     "name": "stdout",
     "output_type": "stream",
     "text": [
      "0    0.010000\n",
      "1    0.009091\n",
      "2    0.008333\n",
      "3    0.007692\n",
      "4    0.007143\n",
      "dtype: float64\n"
     ]
    }
   ],
   "source": [
    "# например, деление\n",
    "\n",
    "print (s1 / s2)"
   ]
  },
  {
   "cell_type": "code",
   "execution_count": 11,
   "metadata": {
    "ExecuteTime": {
     "end_time": "2019-09-25T15:11:45.594815Z",
     "start_time": "2019-09-25T15:11:45.585374Z"
    },
    "code_folding": []
   },
   "outputs": [
    {
     "name": "stdout",
     "output_type": "stream",
     "text": [
      "0    False\n",
      "1    False\n",
      "2    False\n",
      "3    False\n",
      "4    False\n",
      "dtype: bool\n"
     ]
    }
   ],
   "source": [
    "# например, больше\n",
    "\n",
    "print (s1 > s2)"
   ]
  },
  {
   "cell_type": "markdown",
   "metadata": {},
   "source": [
    "Аналогичные операции можно выполнять и с парой Series - \"скаляр\":"
   ]
  },
  {
   "cell_type": "code",
   "execution_count": 12,
   "metadata": {
    "ExecuteTime": {
     "end_time": "2019-09-25T15:12:14.920890Z",
     "start_time": "2019-09-25T15:12:14.912249Z"
    },
    "code_folding": []
   },
   "outputs": [
    {
     "name": "stdout",
     "output_type": "stream",
     "text": [
      "0    False\n",
      "1    False\n",
      "2    False\n",
      "3     True\n",
      "4     True\n",
      "dtype: bool\n"
     ]
    }
   ],
   "source": [
    "# сравнение со скаляром\n",
    "\n",
    "print (s2 > 12)"
   ]
  },
  {
   "cell_type": "code",
   "execution_count": 14,
   "metadata": {
    "ExecuteTime": {
     "end_time": "2019-09-25T15:13:15.779022Z",
     "start_time": "2019-09-25T15:13:15.617317Z"
    }
   },
   "outputs": [
    {
     "ename": "ValueError",
     "evalue": "Can only compare identically-labeled Series objects",
     "output_type": "error",
     "traceback": [
      "\u001b[0;31m---------------------------------------------------------------------------\u001b[0m",
      "\u001b[0;31mValueError\u001b[0m                                Traceback (most recent call last)",
      "\u001b[0;32m<ipython-input-14-08e6cefc57f0>\u001b[0m in \u001b[0;36m<module>\u001b[0;34m\u001b[0m\n\u001b[0;32m----> 1\u001b[0;31m \u001b[0ms1\u001b[0m \u001b[0;34m>\u001b[0m \u001b[0ms2\u001b[0m\u001b[0;34m[\u001b[0m\u001b[0;34m:\u001b[0m\u001b[0;34m-\u001b[0m\u001b[0;36m1\u001b[0m\u001b[0;34m]\u001b[0m\u001b[0;34m\u001b[0m\u001b[0;34m\u001b[0m\u001b[0m\n\u001b[0m",
      "\u001b[0;32m~/anaconda3/lib/python3.7/site-packages/pandas/core/ops.py\u001b[0m in \u001b[0;36mwrapper\u001b[0;34m(self, other, axis)\u001b[0m\n\u001b[1;32m   1674\u001b[0m \u001b[0;34m\u001b[0m\u001b[0m\n\u001b[1;32m   1675\u001b[0m         \u001b[0;32melif\u001b[0m \u001b[0misinstance\u001b[0m\u001b[0;34m(\u001b[0m\u001b[0mother\u001b[0m\u001b[0;34m,\u001b[0m \u001b[0mABCSeries\u001b[0m\u001b[0;34m)\u001b[0m \u001b[0;32mand\u001b[0m \u001b[0;32mnot\u001b[0m \u001b[0mself\u001b[0m\u001b[0;34m.\u001b[0m\u001b[0m_indexed_same\u001b[0m\u001b[0;34m(\u001b[0m\u001b[0mother\u001b[0m\u001b[0;34m)\u001b[0m\u001b[0;34m:\u001b[0m\u001b[0;34m\u001b[0m\u001b[0;34m\u001b[0m\u001b[0m\n\u001b[0;32m-> 1676\u001b[0;31m             raise ValueError(\"Can only compare identically-labeled \"\n\u001b[0m\u001b[1;32m   1677\u001b[0m                              \"Series objects\")\n\u001b[1;32m   1678\u001b[0m \u001b[0;34m\u001b[0m\u001b[0m\n",
      "\u001b[0;31mValueError\u001b[0m: Can only compare identically-labeled Series objects"
     ]
    }
   ],
   "source": [
    "s1 > s2[:-1]"
   ]
  },
  {
   "cell_type": "code",
   "execution_count": 13,
   "metadata": {
    "ExecuteTime": {
     "end_time": "2019-09-25T15:12:28.525490Z",
     "start_time": "2019-09-25T15:12:28.516847Z"
    },
    "code_folding": []
   },
   "outputs": [
    {
     "name": "stdout",
     "output_type": "stream",
     "text": [
      "0    100\n",
      "1    110\n",
      "2    120\n",
      "3    130\n",
      "4    140\n",
      "dtype: int64\n"
     ]
    }
   ],
   "source": [
    "# арифметические операции со скаляром\n",
    "\n",
    "print (s2 * 10)"
   ]
  },
  {
   "cell_type": "markdown",
   "metadata": {},
   "source": [
    "Нужно усвоить 2 вещи:\n",
    "\n",
    "1) Два объекта Series можно сравнивать между собой, складывать, умножать и т.д.\n",
    "\n",
    "2) Аналогичные операции можно делать с Series и скаляром. Тогда одна и та же операция будет выполняться поэлементно."
   ]
  },
  {
   "cell_type": "markdown",
   "metadata": {},
   "source": [
    "#### Индексация / slicing"
   ]
  },
  {
   "cell_type": "code",
   "execution_count": 16,
   "metadata": {
    "ExecuteTime": {
     "end_time": "2019-09-25T15:14:26.622939Z",
     "start_time": "2019-09-25T15:14:26.614083Z"
    }
   },
   "outputs": [],
   "source": [
    "series = pd.Series([0, 1, 2, 3, 4, 5], ['a', 'b', 'c', 'd', 'e', 'f'])"
   ]
  },
  {
   "cell_type": "code",
   "execution_count": 17,
   "metadata": {
    "ExecuteTime": {
     "end_time": "2019-09-25T15:14:29.778992Z",
     "start_time": "2019-09-25T15:14:29.752111Z"
    }
   },
   "outputs": [
    {
     "data": {
      "text/plain": [
       "a    0\n",
       "b    1\n",
       "c    2\n",
       "d    3\n",
       "e    4\n",
       "f    5\n",
       "dtype: int64"
      ]
     },
     "execution_count": 17,
     "metadata": {},
     "output_type": "execute_result"
    }
   ],
   "source": [
    "series"
   ]
  },
  {
   "cell_type": "markdown",
   "metadata": {},
   "source": [
    "Slicing как со списком с помощью индексов позиции:"
   ]
  },
  {
   "cell_type": "code",
   "execution_count": 18,
   "metadata": {
    "ExecuteTime": {
     "end_time": "2019-09-25T15:14:40.737972Z",
     "start_time": "2019-09-25T15:14:40.725956Z"
    },
    "code_folding": [],
    "scrolled": true
   },
   "outputs": [
    {
     "data": {
      "text/plain": [
       "f    5\n",
       "e    4\n",
       "d    3\n",
       "dtype: int64"
      ]
     },
     "execution_count": 18,
     "metadata": {},
     "output_type": "execute_result"
    }
   ],
   "source": [
    "# слайсинг по позиции. Какой будет результат?\n",
    "\n",
    "series[-1:-4:-1]"
   ]
  },
  {
   "cell_type": "markdown",
   "metadata": {},
   "source": [
    "Или по индексу series:"
   ]
  },
  {
   "cell_type": "code",
   "execution_count": 19,
   "metadata": {
    "ExecuteTime": {
     "end_time": "2019-09-25T15:15:25.698791Z",
     "start_time": "2019-09-25T15:15:25.687521Z"
    },
    "code_folding": []
   },
   "outputs": [
    {
     "data": {
      "text/plain": [
       "d    3\n",
       "c    2\n",
       "b    1\n",
       "a    0\n",
       "dtype: int64"
      ]
     },
     "execution_count": 19,
     "metadata": {},
     "output_type": "execute_result"
    }
   ],
   "source": [
    "# слайсинг по индексу Series\n",
    "\n",
    "series['d':'a':-1]"
   ]
  },
  {
   "cell_type": "markdown",
   "metadata": {
    "ExecuteTime": {
     "end_time": "2019-09-25T08:47:11.227518Z",
     "start_time": "2019-09-25T08:47:11.217838Z"
    }
   },
   "source": [
    "Заметьте, что \"правый конец\" включен только в слайсинге по кастомному индексу."
   ]
  },
  {
   "cell_type": "markdown",
   "metadata": {},
   "source": [
    "Также, можно \"фильтровать\" Series по булевскому выражению:"
   ]
  },
  {
   "cell_type": "code",
   "execution_count": 20,
   "metadata": {
    "ExecuteTime": {
     "end_time": "2019-09-25T15:16:00.660921Z",
     "start_time": "2019-09-25T15:16:00.652086Z"
    }
   },
   "outputs": [],
   "source": [
    "series = pd.Series([0, 1, 2, 3, 4, 5], ['a', 'b', 'c', 'd', 'e', 'f'])"
   ]
  },
  {
   "cell_type": "code",
   "execution_count": 22,
   "metadata": {
    "ExecuteTime": {
     "end_time": "2019-09-25T15:16:26.847352Z",
     "start_time": "2019-09-25T15:16:26.837077Z"
    }
   },
   "outputs": [
    {
     "data": {
      "text/plain": [
       "a    False\n",
       "b    False\n",
       "c    False\n",
       "d    False\n",
       "e     True\n",
       "f     True\n",
       "dtype: bool"
      ]
     },
     "execution_count": 22,
     "metadata": {},
     "output_type": "execute_result"
    }
   ],
   "source": [
    "series > 3"
   ]
  },
  {
   "cell_type": "code",
   "execution_count": 23,
   "metadata": {
    "ExecuteTime": {
     "end_time": "2019-09-25T15:16:37.261159Z",
     "start_time": "2019-09-25T15:16:37.250879Z"
    },
    "code_folding": []
   },
   "outputs": [
    {
     "data": {
      "text/plain": [
       "e    4\n",
       "f    5\n",
       "dtype: int64"
      ]
     },
     "execution_count": 23,
     "metadata": {},
     "output_type": "execute_result"
    }
   ],
   "source": [
    "# слайсинг по булевскому выражению\n",
    "\n",
    "series[series > 3]"
   ]
  },
  {
   "cell_type": "markdown",
   "metadata": {},
   "source": [
    "Здесь нужно усвоить 3 вещи: \n",
    "\n",
    "1. Выбор элементов может осуществляться с помощью слайсинга по номеру позиции\n",
    "2. Выбор элементов может осуществляться с помощью слайсинга по кастомному индексу\n",
    "3. Выбор элементов может осуществляться с помощью слайсинга по булевскому выражению"
   ]
  },
  {
   "cell_type": "markdown",
   "metadata": {},
   "source": [
    "### DataFrame"
   ]
  },
  {
   "cell_type": "markdown",
   "metadata": {},
   "source": [
    "DataFrame - это двумерная структура данных, табличка с множеством строк и столбцов.\n",
    "\n",
    "Столбцы - это Series."
   ]
  },
  {
   "cell_type": "markdown",
   "metadata": {},
   "source": [
    "#### Создание объекта"
   ]
  },
  {
   "cell_type": "code",
   "execution_count": 24,
   "metadata": {
    "ExecuteTime": {
     "end_time": "2019-09-25T15:17:53.909801Z",
     "start_time": "2019-09-25T15:17:53.880789Z"
    },
    "code_folding": []
   },
   "outputs": [
    {
     "data": {
      "text/html": [
       "<div>\n",
       "<style scoped>\n",
       "    .dataframe tbody tr th:only-of-type {\n",
       "        vertical-align: middle;\n",
       "    }\n",
       "\n",
       "    .dataframe tbody tr th {\n",
       "        vertical-align: top;\n",
       "    }\n",
       "\n",
       "    .dataframe thead th {\n",
       "        text-align: right;\n",
       "    }\n",
       "</style>\n",
       "<table border=\"1\" class=\"dataframe\">\n",
       "  <thead>\n",
       "    <tr style=\"text-align: right;\">\n",
       "      <th></th>\n",
       "      <th>person</th>\n",
       "      <th>age</th>\n",
       "      <th>sex</th>\n",
       "    </tr>\n",
       "  </thead>\n",
       "  <tbody>\n",
       "    <tr>\n",
       "      <th>a</th>\n",
       "      <td>Lady</td>\n",
       "      <td>18</td>\n",
       "      <td>F</td>\n",
       "    </tr>\n",
       "    <tr>\n",
       "      <th>b</th>\n",
       "      <td>Gopnik</td>\n",
       "      <td>21</td>\n",
       "      <td>M</td>\n",
       "    </tr>\n",
       "    <tr>\n",
       "      <th>c</th>\n",
       "      <td>Cat</td>\n",
       "      <td>3</td>\n",
       "      <td>M</td>\n",
       "    </tr>\n",
       "  </tbody>\n",
       "</table>\n",
       "</div>"
      ],
      "text/plain": [
       "   person  age sex\n",
       "a    Lady   18   F\n",
       "b  Gopnik   21   M\n",
       "c     Cat    3   M"
      ]
     },
     "execution_count": 24,
     "metadata": {},
     "output_type": "execute_result"
    }
   ],
   "source": [
    "# создаем DataFrame со столбцами [person, age, sex]\n",
    "# с индексом [a, b, c]\n",
    "\n",
    "df = pd.DataFrame({\n",
    "    'person': ['Lady', 'Gopnik', 'Cat'],\n",
    "    'age': [18, 21, 3],\n",
    "    'sex': ['F', 'M', 'M']\n",
    "}, index=['a', 'b', 'c']\n",
    ")\n",
    "\n",
    "df"
   ]
  },
  {
   "cell_type": "markdown",
   "metadata": {},
   "source": [
    "Каждый столбец DataFrame - это объект Series"
   ]
  },
  {
   "cell_type": "code",
   "execution_count": 25,
   "metadata": {
    "ExecuteTime": {
     "end_time": "2019-09-25T15:18:10.034198Z",
     "start_time": "2019-09-25T15:18:10.026474Z"
    },
    "code_folding": []
   },
   "outputs": [
    {
     "name": "stdout",
     "output_type": "stream",
     "text": [
      "<class 'pandas.core.frame.DataFrame'> <class 'pandas.core.series.Series'>\n"
     ]
    }
   ],
   "source": [
    "# напечатаем тип столбца\n",
    "\n",
    "print (type(df), type(df['person']))"
   ]
  },
  {
   "cell_type": "code",
   "execution_count": 26,
   "metadata": {
    "ExecuteTime": {
     "end_time": "2019-09-25T15:19:00.008432Z",
     "start_time": "2019-09-25T15:18:59.998889Z"
    },
    "code_folding": []
   },
   "outputs": [
    {
     "name": "stdout",
     "output_type": "stream",
     "text": [
      "a      Lady\n",
      "b    Gopnik\n",
      "c       Cat\n",
      "Name: person, dtype: object\n"
     ]
    }
   ],
   "source": [
    "# напечатаем столбец\n",
    "\n",
    "print (df['person'])"
   ]
  },
  {
   "cell_type": "code",
   "execution_count": 27,
   "metadata": {
    "ExecuteTime": {
     "end_time": "2019-09-25T15:19:24.444184Z",
     "start_time": "2019-09-25T15:19:24.429065Z"
    },
    "code_folding": []
   },
   "outputs": [
    {
     "name": "stdout",
     "output_type": "stream",
     "text": [
      "Размер DataFrame: (3, 3)\n",
      "Индекс DataFrame: Index(['a', 'b', 'c'], dtype='object')\n",
      "Столбцы DataFrame: Index(['person', 'age', 'sex'], dtype='object')\n",
      "Значения DataFrame:\n",
      "[['Lady' 18 'F']\n",
      " ['Gopnik' 21 'M']\n",
      " ['Cat' 3 'M']]\n"
     ]
    }
   ],
   "source": [
    "# печатаем информацию про DataFrame\n",
    "\n",
    "print (\"Размер DataFrame:\", df.shape)\n",
    "print (\"Индекс DataFrame:\", df.index)\n",
    "print (\"Столбцы DataFrame:\", df.columns)\n",
    "print (\"Значения DataFrame:\")\n",
    "print (df.values)"
   ]
  },
  {
   "cell_type": "markdown",
   "metadata": {},
   "source": [
    "Ключевое здесь:\n",
    "\n",
    "1) Как создается DataFrame\n",
    "\n",
    "2) Столбцы DataFrame - Series\n",
    "\n",
    "3) Базовая информация про DataFrame"
   ]
  },
  {
   "cell_type": "markdown",
   "metadata": {},
   "source": [
    "#### Индексация"
   ]
  },
  {
   "cell_type": "markdown",
   "metadata": {},
   "source": [
    "##### []"
   ]
  },
  {
   "cell_type": "code",
   "execution_count": 28,
   "metadata": {
    "ExecuteTime": {
     "end_time": "2019-09-25T15:19:55.556259Z",
     "start_time": "2019-09-25T15:19:55.536733Z"
    },
    "code_folding": []
   },
   "outputs": [
    {
     "data": {
      "text/html": [
       "<div>\n",
       "<style scoped>\n",
       "    .dataframe tbody tr th:only-of-type {\n",
       "        vertical-align: middle;\n",
       "    }\n",
       "\n",
       "    .dataframe tbody tr th {\n",
       "        vertical-align: top;\n",
       "    }\n",
       "\n",
       "    .dataframe thead th {\n",
       "        text-align: right;\n",
       "    }\n",
       "</style>\n",
       "<table border=\"1\" class=\"dataframe\">\n",
       "  <thead>\n",
       "    <tr style=\"text-align: right;\">\n",
       "      <th></th>\n",
       "      <th>person</th>\n",
       "      <th>age</th>\n",
       "      <th>sex</th>\n",
       "    </tr>\n",
       "  </thead>\n",
       "  <tbody>\n",
       "    <tr>\n",
       "      <th>a</th>\n",
       "      <td>Lady</td>\n",
       "      <td>18</td>\n",
       "      <td>F</td>\n",
       "    </tr>\n",
       "    <tr>\n",
       "      <th>b</th>\n",
       "      <td>Gopnik</td>\n",
       "      <td>21</td>\n",
       "      <td>M</td>\n",
       "    </tr>\n",
       "    <tr>\n",
       "      <th>c</th>\n",
       "      <td>Cat</td>\n",
       "      <td>3</td>\n",
       "      <td>M</td>\n",
       "    </tr>\n",
       "  </tbody>\n",
       "</table>\n",
       "</div>"
      ],
      "text/plain": [
       "   person  age sex\n",
       "a    Lady   18   F\n",
       "b  Gopnik   21   M\n",
       "c     Cat    3   M"
      ]
     },
     "execution_count": 28,
     "metadata": {},
     "output_type": "execute_result"
    }
   ],
   "source": [
    "# создаем DataFrame со столбцами [person, age, sex]\n",
    "# с индексом [a, b, c]\n",
    "\n",
    "df = pd.DataFrame({\n",
    "    'person': ['Lady', 'Gopnik', 'Cat'],\n",
    "    'age': [18, 21, 3],\n",
    "    'sex': ['F', 'M', 'M']\n",
    "}, index=['a', 'b', 'c']\n",
    ")\n",
    "\n",
    "df"
   ]
  },
  {
   "cell_type": "code",
   "execution_count": 47,
   "metadata": {
    "ExecuteTime": {
     "end_time": "2019-09-25T15:28:36.180669Z",
     "start_time": "2019-09-25T15:28:36.154852Z"
    },
    "code_folding": []
   },
   "outputs": [
    {
     "name": "stdout",
     "output_type": "stream",
     "text": [
      "   person sex\n",
      "b  Gopnik   M\n",
      "\n",
      "   person sex\n",
      "a    Lady   F\n",
      "b  Gopnik   M\n",
      "\n",
      "   person  age\n",
      "a    Lady   18\n",
      "b  Gopnik   21\n"
     ]
    }
   ],
   "source": [
    "# разные виды слайсинга\n",
    "\n",
    "print (df[1:2][['person', 'sex']])\n",
    "print ()\n",
    "print (df['a':'b'][['person', 'sex']])\n",
    "print ()\n",
    "print (df['a':'b'][df.columns[:2]])"
   ]
  },
  {
   "cell_type": "markdown",
   "metadata": {},
   "source": [
    "Заметьте, что \"правый конец\" включен только в слайсинге по кастомному индексу."
   ]
  },
  {
   "cell_type": "markdown",
   "metadata": {},
   "source": [
    "Это была \"одномерная\" индексация. Перейдем к двумерным."
   ]
  },
  {
   "cell_type": "markdown",
   "metadata": {},
   "source": [
    "##### .loc"
   ]
  },
  {
   "cell_type": "markdown",
   "metadata": {},
   "source": [
    "Индексация по метке"
   ]
  },
  {
   "cell_type": "code",
   "execution_count": 30,
   "metadata": {
    "ExecuteTime": {
     "end_time": "2019-09-25T15:21:56.195862Z",
     "start_time": "2019-09-25T15:21:56.176893Z"
    }
   },
   "outputs": [
    {
     "data": {
      "text/html": [
       "<div>\n",
       "<style scoped>\n",
       "    .dataframe tbody tr th:only-of-type {\n",
       "        vertical-align: middle;\n",
       "    }\n",
       "\n",
       "    .dataframe tbody tr th {\n",
       "        vertical-align: top;\n",
       "    }\n",
       "\n",
       "    .dataframe thead th {\n",
       "        text-align: right;\n",
       "    }\n",
       "</style>\n",
       "<table border=\"1\" class=\"dataframe\">\n",
       "  <thead>\n",
       "    <tr style=\"text-align: right;\">\n",
       "      <th></th>\n",
       "      <th>person</th>\n",
       "      <th>age</th>\n",
       "      <th>sex</th>\n",
       "    </tr>\n",
       "  </thead>\n",
       "  <tbody>\n",
       "    <tr>\n",
       "      <th>a</th>\n",
       "      <td>Lady</td>\n",
       "      <td>18</td>\n",
       "      <td>F</td>\n",
       "    </tr>\n",
       "    <tr>\n",
       "      <th>b</th>\n",
       "      <td>Gopnik</td>\n",
       "      <td>21</td>\n",
       "      <td>M</td>\n",
       "    </tr>\n",
       "    <tr>\n",
       "      <th>c</th>\n",
       "      <td>Cat</td>\n",
       "      <td>3</td>\n",
       "      <td>M</td>\n",
       "    </tr>\n",
       "  </tbody>\n",
       "</table>\n",
       "</div>"
      ],
      "text/plain": [
       "   person  age sex\n",
       "a    Lady   18   F\n",
       "b  Gopnik   21   M\n",
       "c     Cat    3   M"
      ]
     },
     "execution_count": 30,
     "metadata": {},
     "output_type": "execute_result"
    }
   ],
   "source": [
    "df = pd.DataFrame({\n",
    "    'person': ['Lady', 'Gopnik', 'Cat'],\n",
    "    'age': [18, 21, 3],\n",
    "    'sex': ['F', 'M', 'M']\n",
    "}, index=['a', 'b', 'c']\n",
    ")\n",
    "\n",
    "df"
   ]
  },
  {
   "cell_type": "code",
   "execution_count": 31,
   "metadata": {
    "ExecuteTime": {
     "end_time": "2019-09-25T15:22:23.538296Z",
     "start_time": "2019-09-25T15:22:23.387438Z"
    },
    "scrolled": true
   },
   "outputs": [
    {
     "ename": "TypeError",
     "evalue": "cannot do label indexing on <class 'pandas.core.indexes.base.Index'> with these indexers [0] of <class 'int'>",
     "output_type": "error",
     "traceback": [
      "\u001b[0;31m---------------------------------------------------------------------------\u001b[0m",
      "\u001b[0;31mTypeError\u001b[0m                                 Traceback (most recent call last)",
      "\u001b[0;32m<ipython-input-31-dbe769d16fea>\u001b[0m in \u001b[0;36m<module>\u001b[0;34m\u001b[0m\n\u001b[1;32m      1\u001b[0m \u001b[0;31m# так нельзя\u001b[0m\u001b[0;34m\u001b[0m\u001b[0;34m\u001b[0m\u001b[0;34m\u001b[0m\u001b[0m\n\u001b[1;32m      2\u001b[0m \u001b[0;34m\u001b[0m\u001b[0m\n\u001b[0;32m----> 3\u001b[0;31m \u001b[0mdf\u001b[0m\u001b[0;34m.\u001b[0m\u001b[0mloc\u001b[0m\u001b[0;34m[\u001b[0m\u001b[0;36m1\u001b[0m\u001b[0;34m:\u001b[0m\u001b[0;36m2\u001b[0m\u001b[0;34m,\u001b[0m \u001b[0;36m0\u001b[0m\u001b[0;34m]\u001b[0m\u001b[0;34m\u001b[0m\u001b[0;34m\u001b[0m\u001b[0m\n\u001b[0m",
      "\u001b[0;32m~/anaconda3/lib/python3.7/site-packages/pandas/core/indexing.py\u001b[0m in \u001b[0;36m__getitem__\u001b[0;34m(self, key)\u001b[0m\n\u001b[1;32m   1492\u001b[0m             \u001b[0;32mexcept\u001b[0m \u001b[0;34m(\u001b[0m\u001b[0mKeyError\u001b[0m\u001b[0;34m,\u001b[0m \u001b[0mIndexError\u001b[0m\u001b[0;34m,\u001b[0m \u001b[0mAttributeError\u001b[0m\u001b[0;34m)\u001b[0m\u001b[0;34m:\u001b[0m\u001b[0;34m\u001b[0m\u001b[0;34m\u001b[0m\u001b[0m\n\u001b[1;32m   1493\u001b[0m                 \u001b[0;32mpass\u001b[0m\u001b[0;34m\u001b[0m\u001b[0;34m\u001b[0m\u001b[0m\n\u001b[0;32m-> 1494\u001b[0;31m             \u001b[0;32mreturn\u001b[0m \u001b[0mself\u001b[0m\u001b[0;34m.\u001b[0m\u001b[0m_getitem_tuple\u001b[0m\u001b[0;34m(\u001b[0m\u001b[0mkey\u001b[0m\u001b[0;34m)\u001b[0m\u001b[0;34m\u001b[0m\u001b[0;34m\u001b[0m\u001b[0m\n\u001b[0m\u001b[1;32m   1495\u001b[0m         \u001b[0;32melse\u001b[0m\u001b[0;34m:\u001b[0m\u001b[0;34m\u001b[0m\u001b[0;34m\u001b[0m\u001b[0m\n\u001b[1;32m   1496\u001b[0m             \u001b[0;31m# we by definition only have the 0th axis\u001b[0m\u001b[0;34m\u001b[0m\u001b[0;34m\u001b[0m\u001b[0;34m\u001b[0m\u001b[0m\n",
      "\u001b[0;32m~/anaconda3/lib/python3.7/site-packages/pandas/core/indexing.py\u001b[0m in \u001b[0;36m_getitem_tuple\u001b[0;34m(self, tup)\u001b[0m\n\u001b[1;32m    866\u001b[0m     \u001b[0;32mdef\u001b[0m \u001b[0m_getitem_tuple\u001b[0m\u001b[0;34m(\u001b[0m\u001b[0mself\u001b[0m\u001b[0;34m,\u001b[0m \u001b[0mtup\u001b[0m\u001b[0;34m)\u001b[0m\u001b[0;34m:\u001b[0m\u001b[0;34m\u001b[0m\u001b[0;34m\u001b[0m\u001b[0m\n\u001b[1;32m    867\u001b[0m         \u001b[0;32mtry\u001b[0m\u001b[0;34m:\u001b[0m\u001b[0;34m\u001b[0m\u001b[0;34m\u001b[0m\u001b[0m\n\u001b[0;32m--> 868\u001b[0;31m             \u001b[0;32mreturn\u001b[0m \u001b[0mself\u001b[0m\u001b[0;34m.\u001b[0m\u001b[0m_getitem_lowerdim\u001b[0m\u001b[0;34m(\u001b[0m\u001b[0mtup\u001b[0m\u001b[0;34m)\u001b[0m\u001b[0;34m\u001b[0m\u001b[0;34m\u001b[0m\u001b[0m\n\u001b[0m\u001b[1;32m    869\u001b[0m         \u001b[0;32mexcept\u001b[0m \u001b[0mIndexingError\u001b[0m\u001b[0;34m:\u001b[0m\u001b[0;34m\u001b[0m\u001b[0;34m\u001b[0m\u001b[0m\n\u001b[1;32m    870\u001b[0m             \u001b[0;32mpass\u001b[0m\u001b[0;34m\u001b[0m\u001b[0;34m\u001b[0m\u001b[0m\n",
      "\u001b[0;32m~/anaconda3/lib/python3.7/site-packages/pandas/core/indexing.py\u001b[0m in \u001b[0;36m_getitem_lowerdim\u001b[0;34m(self, tup)\u001b[0m\n\u001b[1;32m    986\u001b[0m         \u001b[0;32mfor\u001b[0m \u001b[0mi\u001b[0m\u001b[0;34m,\u001b[0m \u001b[0mkey\u001b[0m \u001b[0;32min\u001b[0m \u001b[0menumerate\u001b[0m\u001b[0;34m(\u001b[0m\u001b[0mtup\u001b[0m\u001b[0;34m)\u001b[0m\u001b[0;34m:\u001b[0m\u001b[0;34m\u001b[0m\u001b[0;34m\u001b[0m\u001b[0m\n\u001b[1;32m    987\u001b[0m             \u001b[0;32mif\u001b[0m \u001b[0mis_label_like\u001b[0m\u001b[0;34m(\u001b[0m\u001b[0mkey\u001b[0m\u001b[0;34m)\u001b[0m \u001b[0;32mor\u001b[0m \u001b[0misinstance\u001b[0m\u001b[0;34m(\u001b[0m\u001b[0mkey\u001b[0m\u001b[0;34m,\u001b[0m \u001b[0mtuple\u001b[0m\u001b[0;34m)\u001b[0m\u001b[0;34m:\u001b[0m\u001b[0;34m\u001b[0m\u001b[0;34m\u001b[0m\u001b[0m\n\u001b[0;32m--> 988\u001b[0;31m                 \u001b[0msection\u001b[0m \u001b[0;34m=\u001b[0m \u001b[0mself\u001b[0m\u001b[0;34m.\u001b[0m\u001b[0m_getitem_axis\u001b[0m\u001b[0;34m(\u001b[0m\u001b[0mkey\u001b[0m\u001b[0;34m,\u001b[0m \u001b[0maxis\u001b[0m\u001b[0;34m=\u001b[0m\u001b[0mi\u001b[0m\u001b[0;34m)\u001b[0m\u001b[0;34m\u001b[0m\u001b[0;34m\u001b[0m\u001b[0m\n\u001b[0m\u001b[1;32m    989\u001b[0m \u001b[0;34m\u001b[0m\u001b[0m\n\u001b[1;32m    990\u001b[0m                 \u001b[0;31m# we have yielded a scalar ?\u001b[0m\u001b[0;34m\u001b[0m\u001b[0;34m\u001b[0m\u001b[0;34m\u001b[0m\u001b[0m\n",
      "\u001b[0;32m~/anaconda3/lib/python3.7/site-packages/pandas/core/indexing.py\u001b[0m in \u001b[0;36m_getitem_axis\u001b[0;34m(self, key, axis)\u001b[0m\n\u001b[1;32m   1910\u001b[0m \u001b[0;34m\u001b[0m\u001b[0m\n\u001b[1;32m   1911\u001b[0m         \u001b[0;31m# fall thru to straight lookup\u001b[0m\u001b[0;34m\u001b[0m\u001b[0;34m\u001b[0m\u001b[0;34m\u001b[0m\u001b[0m\n\u001b[0;32m-> 1912\u001b[0;31m         \u001b[0mself\u001b[0m\u001b[0;34m.\u001b[0m\u001b[0m_validate_key\u001b[0m\u001b[0;34m(\u001b[0m\u001b[0mkey\u001b[0m\u001b[0;34m,\u001b[0m \u001b[0maxis\u001b[0m\u001b[0;34m)\u001b[0m\u001b[0;34m\u001b[0m\u001b[0;34m\u001b[0m\u001b[0m\n\u001b[0m\u001b[1;32m   1913\u001b[0m         \u001b[0;32mreturn\u001b[0m \u001b[0mself\u001b[0m\u001b[0;34m.\u001b[0m\u001b[0m_get_label\u001b[0m\u001b[0;34m(\u001b[0m\u001b[0mkey\u001b[0m\u001b[0;34m,\u001b[0m \u001b[0maxis\u001b[0m\u001b[0;34m=\u001b[0m\u001b[0maxis\u001b[0m\u001b[0;34m)\u001b[0m\u001b[0;34m\u001b[0m\u001b[0;34m\u001b[0m\u001b[0m\n\u001b[1;32m   1914\u001b[0m \u001b[0;34m\u001b[0m\u001b[0m\n",
      "\u001b[0;32m~/anaconda3/lib/python3.7/site-packages/pandas/core/indexing.py\u001b[0m in \u001b[0;36m_validate_key\u001b[0;34m(self, key, axis)\u001b[0m\n\u001b[1;32m   1797\u001b[0m \u001b[0;34m\u001b[0m\u001b[0m\n\u001b[1;32m   1798\u001b[0m         \u001b[0;32mif\u001b[0m \u001b[0;32mnot\u001b[0m \u001b[0mis_list_like_indexer\u001b[0m\u001b[0;34m(\u001b[0m\u001b[0mkey\u001b[0m\u001b[0;34m)\u001b[0m\u001b[0;34m:\u001b[0m\u001b[0;34m\u001b[0m\u001b[0;34m\u001b[0m\u001b[0m\n\u001b[0;32m-> 1799\u001b[0;31m             \u001b[0mself\u001b[0m\u001b[0;34m.\u001b[0m\u001b[0m_convert_scalar_indexer\u001b[0m\u001b[0;34m(\u001b[0m\u001b[0mkey\u001b[0m\u001b[0;34m,\u001b[0m \u001b[0maxis\u001b[0m\u001b[0;34m)\u001b[0m\u001b[0;34m\u001b[0m\u001b[0;34m\u001b[0m\u001b[0m\n\u001b[0m\u001b[1;32m   1800\u001b[0m \u001b[0;34m\u001b[0m\u001b[0m\n\u001b[1;32m   1801\u001b[0m     \u001b[0;32mdef\u001b[0m \u001b[0m_is_scalar_access\u001b[0m\u001b[0;34m(\u001b[0m\u001b[0mself\u001b[0m\u001b[0;34m,\u001b[0m \u001b[0mkey\u001b[0m\u001b[0;34m)\u001b[0m\u001b[0;34m:\u001b[0m\u001b[0;34m\u001b[0m\u001b[0;34m\u001b[0m\u001b[0m\n",
      "\u001b[0;32m~/anaconda3/lib/python3.7/site-packages/pandas/core/indexing.py\u001b[0m in \u001b[0;36m_convert_scalar_indexer\u001b[0;34m(self, key, axis)\u001b[0m\n\u001b[1;32m    260\u001b[0m         \u001b[0max\u001b[0m \u001b[0;34m=\u001b[0m \u001b[0mself\u001b[0m\u001b[0;34m.\u001b[0m\u001b[0mobj\u001b[0m\u001b[0;34m.\u001b[0m\u001b[0m_get_axis\u001b[0m\u001b[0;34m(\u001b[0m\u001b[0mmin\u001b[0m\u001b[0;34m(\u001b[0m\u001b[0maxis\u001b[0m\u001b[0;34m,\u001b[0m \u001b[0mself\u001b[0m\u001b[0;34m.\u001b[0m\u001b[0mndim\u001b[0m \u001b[0;34m-\u001b[0m \u001b[0;36m1\u001b[0m\u001b[0;34m)\u001b[0m\u001b[0;34m)\u001b[0m\u001b[0;34m\u001b[0m\u001b[0;34m\u001b[0m\u001b[0m\n\u001b[1;32m    261\u001b[0m         \u001b[0;31m# a scalar\u001b[0m\u001b[0;34m\u001b[0m\u001b[0;34m\u001b[0m\u001b[0;34m\u001b[0m\u001b[0m\n\u001b[0;32m--> 262\u001b[0;31m         \u001b[0;32mreturn\u001b[0m \u001b[0max\u001b[0m\u001b[0;34m.\u001b[0m\u001b[0m_convert_scalar_indexer\u001b[0m\u001b[0;34m(\u001b[0m\u001b[0mkey\u001b[0m\u001b[0;34m,\u001b[0m \u001b[0mkind\u001b[0m\u001b[0;34m=\u001b[0m\u001b[0mself\u001b[0m\u001b[0;34m.\u001b[0m\u001b[0mname\u001b[0m\u001b[0;34m)\u001b[0m\u001b[0;34m\u001b[0m\u001b[0;34m\u001b[0m\u001b[0m\n\u001b[0m\u001b[1;32m    263\u001b[0m \u001b[0;34m\u001b[0m\u001b[0m\n\u001b[1;32m    264\u001b[0m     \u001b[0;32mdef\u001b[0m \u001b[0m_convert_slice_indexer\u001b[0m\u001b[0;34m(\u001b[0m\u001b[0mself\u001b[0m\u001b[0;34m,\u001b[0m \u001b[0mkey\u001b[0m\u001b[0;34m,\u001b[0m \u001b[0maxis\u001b[0m\u001b[0;34m)\u001b[0m\u001b[0;34m:\u001b[0m\u001b[0;34m\u001b[0m\u001b[0;34m\u001b[0m\u001b[0m\n",
      "\u001b[0;32m~/anaconda3/lib/python3.7/site-packages/pandas/core/indexes/base.py\u001b[0m in \u001b[0;36m_convert_scalar_indexer\u001b[0;34m(self, key, kind)\u001b[0m\n\u001b[1;32m   2879\u001b[0m             \u001b[0;32melif\u001b[0m \u001b[0mkind\u001b[0m \u001b[0;32min\u001b[0m \u001b[0;34m[\u001b[0m\u001b[0;34m'loc'\u001b[0m\u001b[0;34m]\u001b[0m \u001b[0;32mand\u001b[0m \u001b[0mis_integer\u001b[0m\u001b[0;34m(\u001b[0m\u001b[0mkey\u001b[0m\u001b[0;34m)\u001b[0m\u001b[0;34m:\u001b[0m\u001b[0;34m\u001b[0m\u001b[0;34m\u001b[0m\u001b[0m\n\u001b[1;32m   2880\u001b[0m                 \u001b[0;32mif\u001b[0m \u001b[0;32mnot\u001b[0m \u001b[0mself\u001b[0m\u001b[0;34m.\u001b[0m\u001b[0mholds_integer\u001b[0m\u001b[0;34m(\u001b[0m\u001b[0;34m)\u001b[0m\u001b[0;34m:\u001b[0m\u001b[0;34m\u001b[0m\u001b[0;34m\u001b[0m\u001b[0m\n\u001b[0;32m-> 2881\u001b[0;31m                     \u001b[0;32mreturn\u001b[0m \u001b[0mself\u001b[0m\u001b[0;34m.\u001b[0m\u001b[0m_invalid_indexer\u001b[0m\u001b[0;34m(\u001b[0m\u001b[0;34m'label'\u001b[0m\u001b[0;34m,\u001b[0m \u001b[0mkey\u001b[0m\u001b[0;34m)\u001b[0m\u001b[0;34m\u001b[0m\u001b[0;34m\u001b[0m\u001b[0m\n\u001b[0m\u001b[1;32m   2882\u001b[0m \u001b[0;34m\u001b[0m\u001b[0m\n\u001b[1;32m   2883\u001b[0m         \u001b[0;32mreturn\u001b[0m \u001b[0mkey\u001b[0m\u001b[0;34m\u001b[0m\u001b[0;34m\u001b[0m\u001b[0m\n",
      "\u001b[0;32m~/anaconda3/lib/python3.7/site-packages/pandas/core/indexes/base.py\u001b[0m in \u001b[0;36m_invalid_indexer\u001b[0;34m(self, form, key)\u001b[0m\n\u001b[1;32m   3065\u001b[0m                         \"indexers [{key}] of {kind}\".format(\n\u001b[1;32m   3066\u001b[0m                             \u001b[0mform\u001b[0m\u001b[0;34m=\u001b[0m\u001b[0mform\u001b[0m\u001b[0;34m,\u001b[0m \u001b[0mklass\u001b[0m\u001b[0;34m=\u001b[0m\u001b[0mtype\u001b[0m\u001b[0;34m(\u001b[0m\u001b[0mself\u001b[0m\u001b[0;34m)\u001b[0m\u001b[0;34m,\u001b[0m \u001b[0mkey\u001b[0m\u001b[0;34m=\u001b[0m\u001b[0mkey\u001b[0m\u001b[0;34m,\u001b[0m\u001b[0;34m\u001b[0m\u001b[0;34m\u001b[0m\u001b[0m\n\u001b[0;32m-> 3067\u001b[0;31m                             kind=type(key)))\n\u001b[0m\u001b[1;32m   3068\u001b[0m \u001b[0;34m\u001b[0m\u001b[0m\n\u001b[1;32m   3069\u001b[0m     \u001b[0;31m# --------------------------------------------------------------------\u001b[0m\u001b[0;34m\u001b[0m\u001b[0;34m\u001b[0m\u001b[0;34m\u001b[0m\u001b[0m\n",
      "\u001b[0;31mTypeError\u001b[0m: cannot do label indexing on <class 'pandas.core.indexes.base.Index'> with these indexers [0] of <class 'int'>"
     ]
    }
   ],
   "source": [
    "# так нельзя\n",
    "\n",
    "df.loc[1:2, 0]"
   ]
  },
  {
   "cell_type": "code",
   "execution_count": 32,
   "metadata": {
    "ExecuteTime": {
     "end_time": "2019-09-25T15:22:32.729869Z",
     "start_time": "2019-09-25T15:22:32.716915Z"
    }
   },
   "outputs": [
    {
     "data": {
      "text/html": [
       "<div>\n",
       "<style scoped>\n",
       "    .dataframe tbody tr th:only-of-type {\n",
       "        vertical-align: middle;\n",
       "    }\n",
       "\n",
       "    .dataframe tbody tr th {\n",
       "        vertical-align: top;\n",
       "    }\n",
       "\n",
       "    .dataframe thead th {\n",
       "        text-align: right;\n",
       "    }\n",
       "</style>\n",
       "<table border=\"1\" class=\"dataframe\">\n",
       "  <thead>\n",
       "    <tr style=\"text-align: right;\">\n",
       "      <th></th>\n",
       "      <th>person</th>\n",
       "      <th>age</th>\n",
       "      <th>sex</th>\n",
       "    </tr>\n",
       "  </thead>\n",
       "  <tbody>\n",
       "    <tr>\n",
       "      <th>a</th>\n",
       "      <td>Lady</td>\n",
       "      <td>18</td>\n",
       "      <td>F</td>\n",
       "    </tr>\n",
       "    <tr>\n",
       "      <th>b</th>\n",
       "      <td>Gopnik</td>\n",
       "      <td>21</td>\n",
       "      <td>M</td>\n",
       "    </tr>\n",
       "    <tr>\n",
       "      <th>c</th>\n",
       "      <td>Cat</td>\n",
       "      <td>3</td>\n",
       "      <td>M</td>\n",
       "    </tr>\n",
       "  </tbody>\n",
       "</table>\n",
       "</div>"
      ],
      "text/plain": [
       "   person  age sex\n",
       "a    Lady   18   F\n",
       "b  Gopnik   21   M\n",
       "c     Cat    3   M"
      ]
     },
     "execution_count": 32,
     "metadata": {},
     "output_type": "execute_result"
    }
   ],
   "source": [
    "df"
   ]
  },
  {
   "cell_type": "code",
   "execution_count": 33,
   "metadata": {
    "ExecuteTime": {
     "end_time": "2019-09-25T15:22:53.562291Z",
     "start_time": "2019-09-25T15:22:53.541659Z"
    }
   },
   "outputs": [
    {
     "data": {
      "text/html": [
       "<div>\n",
       "<style scoped>\n",
       "    .dataframe tbody tr th:only-of-type {\n",
       "        vertical-align: middle;\n",
       "    }\n",
       "\n",
       "    .dataframe tbody tr th {\n",
       "        vertical-align: top;\n",
       "    }\n",
       "\n",
       "    .dataframe thead th {\n",
       "        text-align: right;\n",
       "    }\n",
       "</style>\n",
       "<table border=\"1\" class=\"dataframe\">\n",
       "  <thead>\n",
       "    <tr style=\"text-align: right;\">\n",
       "      <th></th>\n",
       "      <th>person</th>\n",
       "      <th>sex</th>\n",
       "    </tr>\n",
       "  </thead>\n",
       "  <tbody>\n",
       "    <tr>\n",
       "      <th>a</th>\n",
       "      <td>Lady</td>\n",
       "      <td>F</td>\n",
       "    </tr>\n",
       "    <tr>\n",
       "      <th>b</th>\n",
       "      <td>Gopnik</td>\n",
       "      <td>M</td>\n",
       "    </tr>\n",
       "  </tbody>\n",
       "</table>\n",
       "</div>"
      ],
      "text/plain": [
       "   person sex\n",
       "a    Lady   F\n",
       "b  Gopnik   M"
      ]
     },
     "execution_count": 33,
     "metadata": {},
     "output_type": "execute_result"
    }
   ],
   "source": [
    "#обратите внимание, что правый конец включен\n",
    "\n",
    "df.loc['a':'b', ['person', 'sex']]"
   ]
  },
  {
   "cell_type": "markdown",
   "metadata": {},
   "source": [
    "Передавать можно:\n",
    "\n",
    "- метку\n",
    "- список меток\n",
    "- slice (правый конец включен)\n",
    "- булевский массив"
   ]
  },
  {
   "cell_type": "code",
   "execution_count": 34,
   "metadata": {
    "ExecuteTime": {
     "end_time": "2019-09-25T15:23:31.324192Z",
     "start_time": "2019-09-25T15:23:31.307249Z"
    }
   },
   "outputs": [
    {
     "data": {
      "text/html": [
       "<div>\n",
       "<style scoped>\n",
       "    .dataframe tbody tr th:only-of-type {\n",
       "        vertical-align: middle;\n",
       "    }\n",
       "\n",
       "    .dataframe tbody tr th {\n",
       "        vertical-align: top;\n",
       "    }\n",
       "\n",
       "    .dataframe thead th {\n",
       "        text-align: right;\n",
       "    }\n",
       "</style>\n",
       "<table border=\"1\" class=\"dataframe\">\n",
       "  <thead>\n",
       "    <tr style=\"text-align: right;\">\n",
       "      <th></th>\n",
       "      <th>person</th>\n",
       "      <th>age</th>\n",
       "      <th>sex</th>\n",
       "    </tr>\n",
       "  </thead>\n",
       "  <tbody>\n",
       "    <tr>\n",
       "      <th>a</th>\n",
       "      <td>Lady</td>\n",
       "      <td>18</td>\n",
       "      <td>F</td>\n",
       "    </tr>\n",
       "    <tr>\n",
       "      <th>b</th>\n",
       "      <td>Gopnik</td>\n",
       "      <td>21</td>\n",
       "      <td>M</td>\n",
       "    </tr>\n",
       "    <tr>\n",
       "      <th>c</th>\n",
       "      <td>Cat</td>\n",
       "      <td>3</td>\n",
       "      <td>M</td>\n",
       "    </tr>\n",
       "  </tbody>\n",
       "</table>\n",
       "</div>"
      ],
      "text/plain": [
       "   person  age sex\n",
       "a    Lady   18   F\n",
       "b  Gopnik   21   M\n",
       "c     Cat    3   M"
      ]
     },
     "execution_count": 34,
     "metadata": {},
     "output_type": "execute_result"
    }
   ],
   "source": [
    "df"
   ]
  },
  {
   "cell_type": "code",
   "execution_count": 48,
   "metadata": {
    "ExecuteTime": {
     "end_time": "2019-09-25T15:29:37.775583Z",
     "start_time": "2019-09-25T15:29:37.762442Z"
    }
   },
   "outputs": [
    {
     "data": {
      "text/plain": [
       "a    False\n",
       "b     True\n",
       "c    False\n",
       "Name: age, dtype: bool"
      ]
     },
     "execution_count": 48,
     "metadata": {},
     "output_type": "execute_result"
    }
   ],
   "source": [
    "df['age'] > 18"
   ]
  },
  {
   "cell_type": "code",
   "execution_count": 49,
   "metadata": {
    "ExecuteTime": {
     "end_time": "2019-09-25T15:30:13.466873Z",
     "start_time": "2019-09-25T15:30:13.453130Z"
    },
    "code_folding": []
   },
   "outputs": [
    {
     "name": "stdout",
     "output_type": "stream",
     "text": [
      "b    Gopnik\n",
      "Name: person, dtype: object\n",
      "\n",
      "<class 'pandas.core.series.Series'>\n"
     ]
    }
   ],
   "source": [
    "# например, вот такое вполне легально:\n",
    "\n",
    "print (df.loc[[False, True, False], 'person'])\n",
    "print()\n",
    "print (type(df.loc[df['age'] > 18, 'person']))"
   ]
  },
  {
   "cell_type": "code",
   "execution_count": 36,
   "metadata": {
    "ExecuteTime": {
     "end_time": "2019-09-25T15:24:28.491685Z",
     "start_time": "2019-09-25T15:24:28.472640Z"
    },
    "code_folding": []
   },
   "outputs": [
    {
     "name": "stdout",
     "output_type": "stream",
     "text": [
      "   person\n",
      "b  Gopnik\n",
      "\n",
      "<class 'pandas.core.frame.DataFrame'>\n"
     ]
    }
   ],
   "source": [
    "# и вот такое вполне легально:\n",
    "\n",
    "print (df.loc[df['age'] > 18, ['person']])\n",
    "print()\n",
    "print (type(df.loc[df['age'] > 18, ['person']]))"
   ]
  },
  {
   "cell_type": "markdown",
   "metadata": {},
   "source": [
    "##### .iloc"
   ]
  },
  {
   "cell_type": "markdown",
   "metadata": {},
   "source": [
    "Индексация по позиции от нуля до length-1 в каждой размерности"
   ]
  },
  {
   "cell_type": "code",
   "execution_count": 50,
   "metadata": {
    "ExecuteTime": {
     "end_time": "2019-09-25T15:30:34.754182Z",
     "start_time": "2019-09-25T15:30:34.736886Z"
    }
   },
   "outputs": [
    {
     "data": {
      "text/html": [
       "<div>\n",
       "<style scoped>\n",
       "    .dataframe tbody tr th:only-of-type {\n",
       "        vertical-align: middle;\n",
       "    }\n",
       "\n",
       "    .dataframe tbody tr th {\n",
       "        vertical-align: top;\n",
       "    }\n",
       "\n",
       "    .dataframe thead th {\n",
       "        text-align: right;\n",
       "    }\n",
       "</style>\n",
       "<table border=\"1\" class=\"dataframe\">\n",
       "  <thead>\n",
       "    <tr style=\"text-align: right;\">\n",
       "      <th></th>\n",
       "      <th>person</th>\n",
       "      <th>age</th>\n",
       "      <th>sex</th>\n",
       "    </tr>\n",
       "  </thead>\n",
       "  <tbody>\n",
       "    <tr>\n",
       "      <th>a</th>\n",
       "      <td>Lady</td>\n",
       "      <td>18</td>\n",
       "      <td>F</td>\n",
       "    </tr>\n",
       "    <tr>\n",
       "      <th>b</th>\n",
       "      <td>Gopnik</td>\n",
       "      <td>21</td>\n",
       "      <td>M</td>\n",
       "    </tr>\n",
       "    <tr>\n",
       "      <th>c</th>\n",
       "      <td>Cat</td>\n",
       "      <td>3</td>\n",
       "      <td>M</td>\n",
       "    </tr>\n",
       "  </tbody>\n",
       "</table>\n",
       "</div>"
      ],
      "text/plain": [
       "   person  age sex\n",
       "a    Lady   18   F\n",
       "b  Gopnik   21   M\n",
       "c     Cat    3   M"
      ]
     },
     "execution_count": 50,
     "metadata": {},
     "output_type": "execute_result"
    }
   ],
   "source": [
    "df = pd.DataFrame({\n",
    "    'person': ['Lady', 'Gopnik', 'Cat'],\n",
    "    'age': [18, 21, 3],\n",
    "    'sex': ['F', 'M', 'M']\n",
    "}, index=['a', 'b', 'c']\n",
    ")\n",
    "\n",
    "df"
   ]
  },
  {
   "cell_type": "code",
   "execution_count": 55,
   "metadata": {
    "ExecuteTime": {
     "end_time": "2019-09-25T15:31:27.322232Z",
     "start_time": "2019-09-25T15:31:27.302939Z"
    },
    "code_folding": []
   },
   "outputs": [
    {
     "data": {
      "text/plain": [
       "person    Lady\n",
       "age         18\n",
       "Name: a, dtype: object"
      ]
     },
     "execution_count": 55,
     "metadata": {},
     "output_type": "execute_result"
    }
   ],
   "source": [
    "#обратите внимание, что правый конец не включен!\n",
    "\n",
    "df.iloc[0, :2]"
   ]
  },
  {
   "cell_type": "markdown",
   "metadata": {
    "ExecuteTime": {
     "end_time": "2019-09-07T10:52:06.144691Z",
     "start_time": "2019-09-07T10:52:06.135315Z"
    }
   },
   "source": [
    "Передавать можно:\n",
    "\n",
    "- integer\n",
    "- список integer\n",
    "- slice с integer (правый конец не включен)\n",
    "- булевский массив"
   ]
  },
  {
   "cell_type": "code",
   "execution_count": 59,
   "metadata": {
    "ExecuteTime": {
     "end_time": "2019-09-25T15:32:17.577866Z",
     "start_time": "2019-09-25T15:32:17.561506Z"
    },
    "code_folding": []
   },
   "outputs": [
    {
     "data": {
      "text/html": [
       "<div>\n",
       "<style scoped>\n",
       "    .dataframe tbody tr th:only-of-type {\n",
       "        vertical-align: middle;\n",
       "    }\n",
       "\n",
       "    .dataframe tbody tr th {\n",
       "        vertical-align: top;\n",
       "    }\n",
       "\n",
       "    .dataframe thead th {\n",
       "        text-align: right;\n",
       "    }\n",
       "</style>\n",
       "<table border=\"1\" class=\"dataframe\">\n",
       "  <thead>\n",
       "    <tr style=\"text-align: right;\">\n",
       "      <th></th>\n",
       "      <th>person</th>\n",
       "    </tr>\n",
       "  </thead>\n",
       "  <tbody>\n",
       "    <tr>\n",
       "      <th>b</th>\n",
       "      <td>Gopnik</td>\n",
       "    </tr>\n",
       "  </tbody>\n",
       "</table>\n",
       "</div>"
      ],
      "text/plain": [
       "   person\n",
       "b  Gopnik"
      ]
     },
     "execution_count": 59,
     "metadata": {},
     "output_type": "execute_result"
    }
   ],
   "source": [
    "# по булевскому массиву:\n",
    "\n",
    "df.iloc[(df['age'] > 18).values, :1]"
   ]
  },
  {
   "cell_type": "markdown",
   "metadata": {},
   "source": [
    "Основное.Есть 3 типа индексации:\n",
    "\n",
    "1) [] - одномерный\n",
    "\n",
    "2) .loc - индексация по кастомному индексу\n",
    "\n",
    "3)  .iloc - индексация по позиции\n",
    "\n",
    "Все 3 вида индексации поддерживают слайсы/булевские операции."
   ]
  },
  {
   "cell_type": "markdown",
   "metadata": {},
   "source": [
    "## Изучаем Pandas на примере"
   ]
  },
  {
   "cell_type": "code",
   "execution_count": 60,
   "metadata": {
    "ExecuteTime": {
     "end_time": "2019-09-25T15:33:22.957800Z",
     "start_time": "2019-09-25T15:33:22.538004Z"
    }
   },
   "outputs": [],
   "source": [
    "import pandas as pd\n",
    "\n",
    "# библиотечка для визуализации\n",
    "import matplotlib.pyplot as plt\n",
    "\n",
    "# команда, чтоб графички прям в ноутбуке выводились\n",
    "%matplotlib inline"
   ]
  },
  {
   "cell_type": "markdown",
   "metadata": {},
   "source": [
    "### Загрузка данных"
   ]
  },
  {
   "cell_type": "markdown",
   "metadata": {},
   "source": [
    "Pandas предоставляет встроенные методы для считывания из разных форматов.\n",
    "\n",
    "Так, есть .read_excel, .read_json, .read_picke и т.д."
   ]
  },
  {
   "cell_type": "code",
   "execution_count": 63,
   "metadata": {
    "ExecuteTime": {
     "end_time": "2019-09-25T15:35:23.391533Z",
     "start_time": "2019-09-25T15:35:23.124208Z"
    },
    "code_folding": []
   },
   "outputs": [],
   "source": [
    "# загрузка данных\n",
    "\n",
    "museums = pd.read_csv('museums.csv', low_memory=False)\n",
    "\n",
    "states_info = pd.read_csv('states_info.csv', sep=';')"
   ]
  },
  {
   "cell_type": "markdown",
   "metadata": {
    "ExecuteTime": {
     "end_time": "2019-09-23T14:46:00.541880Z",
     "start_time": "2019-09-23T14:46:00.532772Z"
    }
   },
   "source": [
    "Посмотрим на данные. \n",
    "\n",
    "Для этого есть 2 основные функции:\n",
    "\n",
    "    .head(N) \n",
    "    .tail(N)\n",
    "\n",
    "N - кол-во строк, которые хочется вывести."
   ]
  },
  {
   "cell_type": "code",
   "execution_count": 65,
   "metadata": {
    "ExecuteTime": {
     "end_time": "2019-09-25T15:35:37.469948Z",
     "start_time": "2019-09-25T15:35:37.431019Z"
    }
   },
   "outputs": [
    {
     "data": {
      "text/html": [
       "<div>\n",
       "<style scoped>\n",
       "    .dataframe tbody tr th:only-of-type {\n",
       "        vertical-align: middle;\n",
       "    }\n",
       "\n",
       "    .dataframe tbody tr th {\n",
       "        vertical-align: top;\n",
       "    }\n",
       "\n",
       "    .dataframe thead th {\n",
       "        text-align: right;\n",
       "    }\n",
       "</style>\n",
       "<table border=\"1\" class=\"dataframe\">\n",
       "  <thead>\n",
       "    <tr style=\"text-align: right;\">\n",
       "      <th></th>\n",
       "      <th>Museum ID</th>\n",
       "      <th>Museum Name</th>\n",
       "      <th>Legal Name</th>\n",
       "      <th>Alternate Name</th>\n",
       "      <th>Museum Type</th>\n",
       "      <th>Institution Name</th>\n",
       "      <th>Street Address (Administrative Location)</th>\n",
       "      <th>City (Administrative Location)</th>\n",
       "      <th>State (Administrative Location)</th>\n",
       "      <th>Zip Code (Administrative Location)</th>\n",
       "      <th>...</th>\n",
       "      <th>Latitude</th>\n",
       "      <th>Longitude</th>\n",
       "      <th>Locale Code (NCES)</th>\n",
       "      <th>County Code (FIPS)</th>\n",
       "      <th>State Code (FIPS)</th>\n",
       "      <th>Region Code (AAM)</th>\n",
       "      <th>Employer ID Number</th>\n",
       "      <th>Tax Period</th>\n",
       "      <th>Income</th>\n",
       "      <th>Revenue</th>\n",
       "    </tr>\n",
       "  </thead>\n",
       "  <tbody>\n",
       "    <tr>\n",
       "      <th>0</th>\n",
       "      <td>8400200098</td>\n",
       "      <td>ALASKA AVIATION HERITAGE MUSEUM</td>\n",
       "      <td>ALASKA AVIATION HERITAGE MUSEUM</td>\n",
       "      <td>NaN</td>\n",
       "      <td>HISTORY MUSEUM</td>\n",
       "      <td>NaN</td>\n",
       "      <td>4721 AIRCRAFT DR</td>\n",
       "      <td>ANCHORAGE</td>\n",
       "      <td>AK</td>\n",
       "      <td>99502</td>\n",
       "      <td>...</td>\n",
       "      <td>61.17925</td>\n",
       "      <td>-149.97254</td>\n",
       "      <td>1.0</td>\n",
       "      <td>20.0</td>\n",
       "      <td>2.0</td>\n",
       "      <td>6</td>\n",
       "      <td>920071852</td>\n",
       "      <td>201312.0</td>\n",
       "      <td>602912.0</td>\n",
       "      <td>550236.0</td>\n",
       "    </tr>\n",
       "    <tr>\n",
       "      <th>1</th>\n",
       "      <td>8400200117</td>\n",
       "      <td>ALASKA BOTANICAL GARDEN</td>\n",
       "      <td>ALASKA BOTANICAL GARDEN INC</td>\n",
       "      <td>NaN</td>\n",
       "      <td>ARBORETUM, BOTANICAL GARDEN, OR NATURE CENTER</td>\n",
       "      <td>NaN</td>\n",
       "      <td>4601 CAMPBELL AIRSTRIP RD</td>\n",
       "      <td>ANCHORAGE</td>\n",
       "      <td>AK</td>\n",
       "      <td>99507</td>\n",
       "      <td>...</td>\n",
       "      <td>61.16890</td>\n",
       "      <td>-149.76708</td>\n",
       "      <td>4.0</td>\n",
       "      <td>20.0</td>\n",
       "      <td>2.0</td>\n",
       "      <td>6</td>\n",
       "      <td>920115504</td>\n",
       "      <td>201312.0</td>\n",
       "      <td>1379576.0</td>\n",
       "      <td>1323742.0</td>\n",
       "    </tr>\n",
       "  </tbody>\n",
       "</table>\n",
       "<p>2 rows × 25 columns</p>\n",
       "</div>"
      ],
      "text/plain": [
       "    Museum ID                      Museum Name  \\\n",
       "0  8400200098  ALASKA AVIATION HERITAGE MUSEUM   \n",
       "1  8400200117          ALASKA BOTANICAL GARDEN   \n",
       "\n",
       "                        Legal Name Alternate Name  \\\n",
       "0  ALASKA AVIATION HERITAGE MUSEUM            NaN   \n",
       "1      ALASKA BOTANICAL GARDEN INC            NaN   \n",
       "\n",
       "                                     Museum Type Institution Name  \\\n",
       "0                                 HISTORY MUSEUM              NaN   \n",
       "1  ARBORETUM, BOTANICAL GARDEN, OR NATURE CENTER              NaN   \n",
       "\n",
       "  Street Address (Administrative Location) City (Administrative Location)  \\\n",
       "0                         4721 AIRCRAFT DR                      ANCHORAGE   \n",
       "1                4601 CAMPBELL AIRSTRIP RD                      ANCHORAGE   \n",
       "\n",
       "  State (Administrative Location) Zip Code (Administrative Location)  ...  \\\n",
       "0                              AK                              99502  ...   \n",
       "1                              AK                              99507  ...   \n",
       "\n",
       "   Latitude  Longitude Locale Code (NCES)  County Code (FIPS)  \\\n",
       "0  61.17925 -149.97254                1.0                20.0   \n",
       "1  61.16890 -149.76708                4.0                20.0   \n",
       "\n",
       "  State Code (FIPS)  Region Code (AAM)  Employer ID Number  Tax Period  \\\n",
       "0               2.0                  6           920071852    201312.0   \n",
       "1               2.0                  6           920115504    201312.0   \n",
       "\n",
       "      Income    Revenue  \n",
       "0   602912.0   550236.0  \n",
       "1  1379576.0  1323742.0  \n",
       "\n",
       "[2 rows x 25 columns]"
      ]
     },
     "execution_count": 65,
     "metadata": {},
     "output_type": "execute_result"
    }
   ],
   "source": [
    "museums.head(2)"
   ]
  },
  {
   "cell_type": "code",
   "execution_count": 66,
   "metadata": {
    "ExecuteTime": {
     "end_time": "2019-09-25T15:35:45.794033Z",
     "start_time": "2019-09-25T15:35:45.777435Z"
    }
   },
   "outputs": [
    {
     "data": {
      "text/html": [
       "<div>\n",
       "<style scoped>\n",
       "    .dataframe tbody tr th:only-of-type {\n",
       "        vertical-align: middle;\n",
       "    }\n",
       "\n",
       "    .dataframe tbody tr th {\n",
       "        vertical-align: top;\n",
       "    }\n",
       "\n",
       "    .dataframe thead th {\n",
       "        text-align: right;\n",
       "    }\n",
       "</style>\n",
       "<table border=\"1\" class=\"dataframe\">\n",
       "  <thead>\n",
       "    <tr style=\"text-align: right;\">\n",
       "      <th></th>\n",
       "      <th>State</th>\n",
       "      <th>ShortName</th>\n",
       "      <th>Capital</th>\n",
       "    </tr>\n",
       "  </thead>\n",
       "  <tbody>\n",
       "    <tr>\n",
       "      <th>47</th>\n",
       "      <td>West Virginia (Западная Вирджиния)</td>\n",
       "      <td>WV</td>\n",
       "      <td>Charleston</td>\n",
       "    </tr>\n",
       "    <tr>\n",
       "      <th>48</th>\n",
       "      <td>Wisconsin (Висконсин)</td>\n",
       "      <td>WI</td>\n",
       "      <td>Madison</td>\n",
       "    </tr>\n",
       "    <tr>\n",
       "      <th>49</th>\n",
       "      <td>Wyoming (Вайоминг)</td>\n",
       "      <td>WY</td>\n",
       "      <td>Cheyenne</td>\n",
       "    </tr>\n",
       "  </tbody>\n",
       "</table>\n",
       "</div>"
      ],
      "text/plain": [
       "                                 State ShortName     Capital\n",
       "47  West Virginia (Западная Вирджиния)        WV  Charleston\n",
       "48               Wisconsin (Висконсин)        WI     Madison\n",
       "49                  Wyoming (Вайоминг)        WY    Cheyenne"
      ]
     },
     "execution_count": 66,
     "metadata": {},
     "output_type": "execute_result"
    }
   ],
   "source": [
    "states_info.tail(3)"
   ]
  },
  {
   "cell_type": "markdown",
   "metadata": {},
   "source": [
    "### Удаление столбцов"
   ]
  },
  {
   "cell_type": "markdown",
   "metadata": {},
   "source": [
    "Удалим часть столбцов (чтобы было нагляднее):"
   ]
  },
  {
   "cell_type": "code",
   "execution_count": 67,
   "metadata": {
    "ExecuteTime": {
     "end_time": "2019-09-25T15:38:24.308879Z",
     "start_time": "2019-09-25T15:38:24.281520Z"
    },
    "code_folding": []
   },
   "outputs": [
    {
     "data": {
      "text/html": [
       "<div>\n",
       "<style scoped>\n",
       "    .dataframe tbody tr th:only-of-type {\n",
       "        vertical-align: middle;\n",
       "    }\n",
       "\n",
       "    .dataframe tbody tr th {\n",
       "        vertical-align: top;\n",
       "    }\n",
       "\n",
       "    .dataframe thead th {\n",
       "        text-align: right;\n",
       "    }\n",
       "</style>\n",
       "<table border=\"1\" class=\"dataframe\">\n",
       "  <thead>\n",
       "    <tr style=\"text-align: right;\">\n",
       "      <th></th>\n",
       "      <th>Museum ID</th>\n",
       "      <th>Museum Name</th>\n",
       "      <th>Museum Type</th>\n",
       "      <th>City (Administrative Location)</th>\n",
       "      <th>State (Administrative Location)</th>\n",
       "      <th>Tax Period</th>\n",
       "      <th>Income</th>\n",
       "      <th>Revenue</th>\n",
       "    </tr>\n",
       "  </thead>\n",
       "  <tbody>\n",
       "    <tr>\n",
       "      <th>0</th>\n",
       "      <td>8400200098</td>\n",
       "      <td>ALASKA AVIATION HERITAGE MUSEUM</td>\n",
       "      <td>HISTORY MUSEUM</td>\n",
       "      <td>ANCHORAGE</td>\n",
       "      <td>AK</td>\n",
       "      <td>201312.0</td>\n",
       "      <td>602912.0</td>\n",
       "      <td>550236.0</td>\n",
       "    </tr>\n",
       "    <tr>\n",
       "      <th>1</th>\n",
       "      <td>8400200117</td>\n",
       "      <td>ALASKA BOTANICAL GARDEN</td>\n",
       "      <td>ARBORETUM, BOTANICAL GARDEN, OR NATURE CENTER</td>\n",
       "      <td>ANCHORAGE</td>\n",
       "      <td>AK</td>\n",
       "      <td>201312.0</td>\n",
       "      <td>1379576.0</td>\n",
       "      <td>1323742.0</td>\n",
       "    </tr>\n",
       "  </tbody>\n",
       "</table>\n",
       "</div>"
      ],
      "text/plain": [
       "    Museum ID                      Museum Name  \\\n",
       "0  8400200098  ALASKA AVIATION HERITAGE MUSEUM   \n",
       "1  8400200117          ALASKA BOTANICAL GARDEN   \n",
       "\n",
       "                                     Museum Type  \\\n",
       "0                                 HISTORY MUSEUM   \n",
       "1  ARBORETUM, BOTANICAL GARDEN, OR NATURE CENTER   \n",
       "\n",
       "  City (Administrative Location) State (Administrative Location)  Tax Period  \\\n",
       "0                      ANCHORAGE                              AK    201312.0   \n",
       "1                      ANCHORAGE                              AK    201312.0   \n",
       "\n",
       "      Income    Revenue  \n",
       "0   602912.0   550236.0  \n",
       "1  1379576.0  1323742.0  "
      ]
     },
     "execution_count": 67,
     "metadata": {},
     "output_type": "execute_result"
    }
   ],
   "source": [
    "# удаление столбцов\n",
    "\n",
    "columns_to_drop = [\n",
    "    'Legal Name', 'Alternate Name', 'Street Address (Physical Location)', \n",
    "    'City (Physical Location)', 'State (Physical Location)', 'Zip Code (Physical Location)',\n",
    "    'Phone Number', 'Locale Code (NCES)', 'County Code (FIPS)', \n",
    "    'State Code (FIPS)', 'Region Code (AAM)',\n",
    "    'Employer ID Number', 'Zip Code (Administrative Location)', \n",
    "    'Institution Name', 'Street Address (Administrative Location)',\n",
    "    'Latitude', 'Longitude'\n",
    "]\n",
    "\n",
    "museums.drop(columns_to_drop, axis=1, inplace=True)\n",
    "\n",
    "museums.head(2)"
   ]
  },
  {
   "cell_type": "markdown",
   "metadata": {},
   "source": [
    "axis = 0 -  удаление по 0-й размерности (удаление строк)\n",
    "\n",
    "axis = 1 - удаление по 1-й размерности (удаление столбцов)\n",
    "\n",
    "inplace = True - выполняет операцию прямо в том же датафрейме\n",
    "\n",
    "inplace = False - оставит датафрейм без изменений, вернет новый датафрейм с удаленными строками/столбцами"
   ]
  },
  {
   "cell_type": "markdown",
   "metadata": {
    "ExecuteTime": {
     "end_time": "2019-09-23T14:48:13.399712Z",
     "start_time": "2019-09-23T14:48:13.392320Z"
    }
   },
   "source": [
    "Гораздо лучше!"
   ]
  },
  {
   "cell_type": "markdown",
   "metadata": {},
   "source": [
    "### Изменение значений в столбце"
   ]
  },
  {
   "cell_type": "markdown",
   "metadata": {},
   "source": [
    "В стобце Tax Period содержится дата, которая записана как float. Исправим ситуацию!"
   ]
  },
  {
   "cell_type": "code",
   "execution_count": 68,
   "metadata": {
    "ExecuteTime": {
     "end_time": "2019-09-25T15:39:40.795882Z",
     "start_time": "2019-09-25T15:39:40.694434Z"
    },
    "code_folding": []
   },
   "outputs": [
    {
     "data": {
      "text/html": [
       "<div>\n",
       "<style scoped>\n",
       "    .dataframe tbody tr th:only-of-type {\n",
       "        vertical-align: middle;\n",
       "    }\n",
       "\n",
       "    .dataframe tbody tr th {\n",
       "        vertical-align: top;\n",
       "    }\n",
       "\n",
       "    .dataframe thead th {\n",
       "        text-align: right;\n",
       "    }\n",
       "</style>\n",
       "<table border=\"1\" class=\"dataframe\">\n",
       "  <thead>\n",
       "    <tr style=\"text-align: right;\">\n",
       "      <th></th>\n",
       "      <th>Museum ID</th>\n",
       "      <th>Museum Name</th>\n",
       "      <th>Museum Type</th>\n",
       "      <th>City (Administrative Location)</th>\n",
       "      <th>State (Administrative Location)</th>\n",
       "      <th>Tax Period</th>\n",
       "      <th>Income</th>\n",
       "      <th>Revenue</th>\n",
       "    </tr>\n",
       "  </thead>\n",
       "  <tbody>\n",
       "    <tr>\n",
       "      <th>0</th>\n",
       "      <td>8400200098</td>\n",
       "      <td>ALASKA AVIATION HERITAGE MUSEUM</td>\n",
       "      <td>HISTORY MUSEUM</td>\n",
       "      <td>ANCHORAGE</td>\n",
       "      <td>AK</td>\n",
       "      <td>2013-12-01</td>\n",
       "      <td>602912.0</td>\n",
       "      <td>550236.0</td>\n",
       "    </tr>\n",
       "    <tr>\n",
       "      <th>1</th>\n",
       "      <td>8400200117</td>\n",
       "      <td>ALASKA BOTANICAL GARDEN</td>\n",
       "      <td>ARBORETUM, BOTANICAL GARDEN, OR NATURE CENTER</td>\n",
       "      <td>ANCHORAGE</td>\n",
       "      <td>AK</td>\n",
       "      <td>2013-12-01</td>\n",
       "      <td>1379576.0</td>\n",
       "      <td>1323742.0</td>\n",
       "    </tr>\n",
       "  </tbody>\n",
       "</table>\n",
       "</div>"
      ],
      "text/plain": [
       "    Museum ID                      Museum Name  \\\n",
       "0  8400200098  ALASKA AVIATION HERITAGE MUSEUM   \n",
       "1  8400200117          ALASKA BOTANICAL GARDEN   \n",
       "\n",
       "                                     Museum Type  \\\n",
       "0                                 HISTORY MUSEUM   \n",
       "1  ARBORETUM, BOTANICAL GARDEN, OR NATURE CENTER   \n",
       "\n",
       "  City (Administrative Location) State (Administrative Location) Tax Period  \\\n",
       "0                      ANCHORAGE                              AK 2013-12-01   \n",
       "1                      ANCHORAGE                              AK 2013-12-01   \n",
       "\n",
       "      Income    Revenue  \n",
       "0   602912.0   550236.0  \n",
       "1  1379576.0  1323742.0  "
      ]
     },
     "execution_count": 68,
     "metadata": {},
     "output_type": "execute_result"
    }
   ],
   "source": [
    "# поправим тип данных в столбце Tax Period\n",
    "\n",
    "museums['Tax Period'] =  pd.to_datetime(museums['Tax Period'], format='%Y%m')\n",
    "\n",
    "museums.head(2)"
   ]
  },
  {
   "cell_type": "code",
   "execution_count": 69,
   "metadata": {
    "ExecuteTime": {
     "end_time": "2019-09-25T15:39:53.612675Z",
     "start_time": "2019-09-25T15:39:53.599653Z"
    },
    "code_folding": []
   },
   "outputs": [
    {
     "data": {
      "text/plain": [
       "Timestamp('2013-12-01 00:00:00')"
      ]
     },
     "execution_count": 69,
     "metadata": {},
     "output_type": "execute_result"
    }
   ],
   "source": [
    "# А вот какой тип там содержится теперь\n",
    "\n",
    "museums.loc[0, 'Tax Period']"
   ]
  },
  {
   "cell_type": "markdown",
   "metadata": {},
   "source": [
    "### Обработка отсутствующих значений"
   ]
  },
  {
   "cell_type": "markdown",
   "metadata": {},
   "source": [
    "Быстро смотрим на типы и отсутствующие значения:"
   ]
  },
  {
   "cell_type": "code",
   "execution_count": 70,
   "metadata": {
    "ExecuteTime": {
     "end_time": "2019-09-25T15:40:03.033036Z",
     "start_time": "2019-09-25T15:40:03.004125Z"
    },
    "code_folding": []
   },
   "outputs": [
    {
     "name": "stdout",
     "output_type": "stream",
     "text": [
      "<class 'pandas.core.frame.DataFrame'>\n",
      "RangeIndex: 33072 entries, 0 to 33071\n",
      "Data columns (total 8 columns):\n",
      "Museum ID                          33072 non-null int64\n",
      "Museum Name                        33072 non-null object\n",
      "Museum Type                        33072 non-null object\n",
      "City (Administrative Location)     33072 non-null object\n",
      "State (Administrative Location)    33072 non-null object\n",
      "Tax Period                         23280 non-null datetime64[ns]\n",
      "Income                             22961 non-null float64\n",
      "Revenue                            22290 non-null float64\n",
      "dtypes: datetime64[ns](1), float64(2), int64(1), object(4)\n",
      "memory usage: 2.0+ MB\n"
     ]
    }
   ],
   "source": [
    "#посмотрим базовую информацию по датафрейму\n",
    "\n",
    "museums.info()"
   ]
  },
  {
   "cell_type": "markdown",
   "metadata": {},
   "source": [
    "Видно, что в Income/Revenue/Tax Period есть пропущенные значения."
   ]
  },
  {
   "cell_type": "markdown",
   "metadata": {
    "ExecuteTime": {
     "end_time": "2019-09-23T14:55:00.640697Z",
     "start_time": "2019-09-23T14:55:00.631461Z"
    }
   },
   "source": [
    "Есть 2 стратегии поведения: удалять такие строки или пытаться заполнить пропущенные данные."
   ]
  },
  {
   "cell_type": "markdown",
   "metadata": {},
   "source": [
    "#### Удаление пропущенных значений"
   ]
  },
  {
   "cell_type": "code",
   "execution_count": 71,
   "metadata": {
    "ExecuteTime": {
     "end_time": "2019-09-25T15:41:08.393225Z",
     "start_time": "2019-09-25T15:41:08.357489Z"
    },
    "code_folding": []
   },
   "outputs": [],
   "source": [
    "# удаление всех строк с пропущенными значениями\n",
    "\n",
    "museums_all_dropped = museums.dropna()"
   ]
  },
  {
   "cell_type": "markdown",
   "metadata": {},
   "source": [
    "Но таким образом мы теряем данные с пропусками:"
   ]
  },
  {
   "cell_type": "code",
   "execution_count": 72,
   "metadata": {
    "ExecuteTime": {
     "end_time": "2019-09-25T15:41:17.276929Z",
     "start_time": "2019-09-25T15:41:17.267541Z"
    },
    "code_folding": []
   },
   "outputs": [
    {
     "name": "stdout",
     "output_type": "stream",
     "text": [
      "Old shape: (33072, 8)\n",
      "New shape: (22290, 8)\n"
     ]
    }
   ],
   "source": [
    "# напечатаем размеры\n",
    "\n",
    "print (\"Old shape:\", museums.shape)\n",
    "print (\"New shape:\", museums_all_dropped.shape)"
   ]
  },
  {
   "cell_type": "markdown",
   "metadata": {},
   "source": [
    "Давайте попробуем заполнить пропущенные данные для Revenue!"
   ]
  },
  {
   "cell_type": "markdown",
   "metadata": {},
   "source": [
    "#### Заполнение пропущенных значений"
   ]
  },
  {
   "cell_type": "markdown",
   "metadata": {},
   "source": [
    "Вот так мы можем заселектить все строки, в которых есть пропущенное значение в Revenue:"
   ]
  },
  {
   "cell_type": "code",
   "execution_count": 73,
   "metadata": {
    "ExecuteTime": {
     "end_time": "2019-09-25T15:42:40.670468Z",
     "start_time": "2019-09-25T15:42:40.635121Z"
    },
    "code_folding": []
   },
   "outputs": [
    {
     "name": "stdout",
     "output_type": "stream",
     "text": [
      "Кол-во пропущенных в Revenue: 10782\n"
     ]
    },
    {
     "data": {
      "text/html": [
       "<div>\n",
       "<style scoped>\n",
       "    .dataframe tbody tr th:only-of-type {\n",
       "        vertical-align: middle;\n",
       "    }\n",
       "\n",
       "    .dataframe tbody tr th {\n",
       "        vertical-align: top;\n",
       "    }\n",
       "\n",
       "    .dataframe thead th {\n",
       "        text-align: right;\n",
       "    }\n",
       "</style>\n",
       "<table border=\"1\" class=\"dataframe\">\n",
       "  <thead>\n",
       "    <tr style=\"text-align: right;\">\n",
       "      <th></th>\n",
       "      <th>Museum ID</th>\n",
       "      <th>Museum Name</th>\n",
       "      <th>Museum Type</th>\n",
       "      <th>City (Administrative Location)</th>\n",
       "      <th>State (Administrative Location)</th>\n",
       "      <th>Tax Period</th>\n",
       "      <th>Income</th>\n",
       "      <th>Revenue</th>\n",
       "    </tr>\n",
       "  </thead>\n",
       "  <tbody>\n",
       "    <tr>\n",
       "      <th>5</th>\n",
       "      <td>8400200096</td>\n",
       "      <td>ALASKA HISTORICAL MUSEUM</td>\n",
       "      <td>HISTORIC PRESERVATION</td>\n",
       "      <td>ANCHORAGE</td>\n",
       "      <td>AK</td>\n",
       "      <td>NaT</td>\n",
       "      <td>NaN</td>\n",
       "      <td>NaN</td>\n",
       "    </tr>\n",
       "    <tr>\n",
       "      <th>10</th>\n",
       "      <td>8400200131</td>\n",
       "      <td>ALASKA NATIONAL GUARD HISTORICAL HOLDING-MUSEUM</td>\n",
       "      <td>HISTORIC PRESERVATION</td>\n",
       "      <td>FORT RICHARDSON</td>\n",
       "      <td>AK</td>\n",
       "      <td>NaT</td>\n",
       "      <td>NaN</td>\n",
       "      <td>NaN</td>\n",
       "    </tr>\n",
       "    <tr>\n",
       "      <th>12</th>\n",
       "      <td>8409500006</td>\n",
       "      <td>ALASKA SEALIFE CENTER</td>\n",
       "      <td>ZOO, AQUARIUM, OR WILDLIFE CONSERVATION</td>\n",
       "      <td>SEWARD</td>\n",
       "      <td>AK</td>\n",
       "      <td>NaT</td>\n",
       "      <td>NaN</td>\n",
       "      <td>NaN</td>\n",
       "    </tr>\n",
       "    <tr>\n",
       "      <th>20</th>\n",
       "      <td>8400200025</td>\n",
       "      <td>ALASKALAND PIONEER AIR MUSEUM</td>\n",
       "      <td>GENERAL MUSEUM</td>\n",
       "      <td>FAIRBANKS</td>\n",
       "      <td>AK</td>\n",
       "      <td>NaT</td>\n",
       "      <td>NaN</td>\n",
       "      <td>NaN</td>\n",
       "    </tr>\n",
       "    <tr>\n",
       "      <th>24</th>\n",
       "      <td>8400200024</td>\n",
       "      <td>AMERICAN TROPHY TAXIDERMY</td>\n",
       "      <td>GENERAL MUSEUM</td>\n",
       "      <td>SOLDOTNA</td>\n",
       "      <td>AK</td>\n",
       "      <td>NaT</td>\n",
       "      <td>NaN</td>\n",
       "      <td>NaN</td>\n",
       "    </tr>\n",
       "  </tbody>\n",
       "</table>\n",
       "</div>"
      ],
      "text/plain": [
       "     Museum ID                                      Museum Name  \\\n",
       "5   8400200096                         ALASKA HISTORICAL MUSEUM   \n",
       "10  8400200131  ALASKA NATIONAL GUARD HISTORICAL HOLDING-MUSEUM   \n",
       "12  8409500006                            ALASKA SEALIFE CENTER   \n",
       "20  8400200025                    ALASKALAND PIONEER AIR MUSEUM   \n",
       "24  8400200024                        AMERICAN TROPHY TAXIDERMY   \n",
       "\n",
       "                                Museum Type City (Administrative Location)  \\\n",
       "5                     HISTORIC PRESERVATION                      ANCHORAGE   \n",
       "10                    HISTORIC PRESERVATION                FORT RICHARDSON   \n",
       "12  ZOO, AQUARIUM, OR WILDLIFE CONSERVATION                         SEWARD   \n",
       "20                           GENERAL MUSEUM                      FAIRBANKS   \n",
       "24                           GENERAL MUSEUM                       SOLDOTNA   \n",
       "\n",
       "   State (Administrative Location) Tax Period  Income  Revenue  \n",
       "5                               AK        NaT     NaN      NaN  \n",
       "10                              AK        NaT     NaN      NaN  \n",
       "12                              AK        NaT     NaN      NaN  \n",
       "20                              AK        NaT     NaN      NaN  \n",
       "24                              AK        NaT     NaN      NaN  "
      ]
     },
     "execution_count": 73,
     "metadata": {},
     "output_type": "execute_result"
    }
   ],
   "source": [
    "# найдем кол-во пропущенных значений в Revenue\n",
    "\n",
    "print ('Кол-во пропущенных в Revenue:', \n",
    "       sum(museums['Revenue'].isnull()))\n",
    "\n",
    "museums[museums['Revenue'].isnull()].head(5)"
   ]
  },
  {
   "cell_type": "markdown",
   "metadata": {},
   "source": [
    "##### Заполнение константой"
   ]
  },
  {
   "cell_type": "code",
   "execution_count": 74,
   "metadata": {
    "ExecuteTime": {
     "end_time": "2019-09-25T15:43:24.958817Z",
     "start_time": "2019-09-25T15:43:24.946238Z"
    },
    "code_folding": []
   },
   "outputs": [
    {
     "data": {
      "text/plain": [
       "0      550236.0\n",
       "1     1323742.0\n",
       "2      729080.0\n",
       "3           0.0\n",
       "4      550236.0\n",
       "5          -1.0\n",
       "6       34374.0\n",
       "7       16500.0\n",
       "8           0.0\n",
       "9       31393.0\n",
       "10         -1.0\n",
       "Name: Revenue, dtype: float64"
      ]
     },
     "execution_count": 74,
     "metadata": {},
     "output_type": "execute_result"
    }
   ],
   "source": [
    "# заполним пропуски -1\n",
    "\n",
    "museums['Revenue'].fillna(-1, )[:11]"
   ]
  },
  {
   "cell_type": "markdown",
   "metadata": {},
   "source": [
    "Заполним средним значением по столбцу:"
   ]
  },
  {
   "cell_type": "code",
   "execution_count": 81,
   "metadata": {
    "ExecuteTime": {
     "end_time": "2019-09-25T15:45:57.516041Z",
     "start_time": "2019-09-25T15:45:57.501790Z"
    },
    "code_folding": []
   },
   "outputs": [
    {
     "data": {
      "text/plain": [
       "0     5.502360e+05\n",
       "1     1.323742e+06\n",
       "2     7.290800e+05\n",
       "3     0.000000e+00\n",
       "4     5.502360e+05\n",
       "5     2.097605e+07\n",
       "6     3.437400e+04\n",
       "7     1.650000e+04\n",
       "8     0.000000e+00\n",
       "9     3.139300e+04\n",
       "10    2.097605e+07\n",
       "Name: Revenue, dtype: float64"
      ]
     },
     "execution_count": 81,
     "metadata": {},
     "output_type": "execute_result"
    }
   ],
   "source": [
    "# заполним средним значением по столбцу\n",
    "\n",
    "museums['Revenue'].fillna(museums['Revenue'].mean(), )[:11]"
   ]
  },
  {
   "cell_type": "markdown",
   "metadata": {},
   "source": [
    "Можно заполнить и другими статистиками:"
   ]
  },
  {
   "cell_type": "code",
   "execution_count": 76,
   "metadata": {
    "ExecuteTime": {
     "end_time": "2019-09-25T15:44:33.752699Z",
     "start_time": "2019-09-25T15:44:33.743463Z"
    }
   },
   "outputs": [
    {
     "data": {
      "text/plain": [
       "-2127393.0"
      ]
     },
     "execution_count": 76,
     "metadata": {},
     "output_type": "execute_result"
    }
   ],
   "source": [
    "museums['Revenue'].min()"
   ]
  },
  {
   "cell_type": "code",
   "execution_count": 77,
   "metadata": {
    "ExecuteTime": {
     "end_time": "2019-09-25T15:44:37.109660Z",
     "start_time": "2019-09-25T15:44:37.100140Z"
    }
   },
   "outputs": [
    {
     "data": {
      "text/plain": [
       "5840349457.0"
      ]
     },
     "execution_count": 77,
     "metadata": {},
     "output_type": "execute_result"
    }
   ],
   "source": [
    "museums['Revenue'].max()"
   ]
  },
  {
   "cell_type": "code",
   "execution_count": 78,
   "metadata": {
    "ExecuteTime": {
     "end_time": "2019-09-25T15:44:39.256139Z",
     "start_time": "2019-09-25T15:44:39.246347Z"
    }
   },
   "outputs": [
    {
     "data": {
      "text/plain": [
       "20976047.056931358"
      ]
     },
     "execution_count": 78,
     "metadata": {},
     "output_type": "execute_result"
    }
   ],
   "source": [
    "museums['Revenue'].mean()"
   ]
  },
  {
   "cell_type": "code",
   "execution_count": 79,
   "metadata": {
    "ExecuteTime": {
     "end_time": "2019-09-25T15:44:41.987173Z",
     "start_time": "2019-09-25T15:44:41.976984Z"
    }
   },
   "outputs": [
    {
     "data": {
      "text/plain": [
       "248519659.16372567"
      ]
     },
     "execution_count": 79,
     "metadata": {},
     "output_type": "execute_result"
    }
   ],
   "source": [
    "museums['Revenue'].std()"
   ]
  },
  {
   "cell_type": "markdown",
   "metadata": {},
   "source": [
    "##### Заполнение сложной статистикой"
   ]
  },
  {
   "cell_type": "markdown",
   "metadata": {
    "ExecuteTime": {
     "end_time": "2019-09-23T15:03:37.564033Z",
     "start_time": "2019-09-23T15:03:37.555938Z"
    }
   },
   "source": [
    "Но давайте попробуем заменить пропущенные значения Revenue средним по каждому штату"
   ]
  },
  {
   "cell_type": "markdown",
   "metadata": {},
   "source": [
    "###### groupby"
   ]
  },
  {
   "cell_type": "markdown",
   "metadata": {},
   "source": [
    "Допустим, мы хотим посчитать среднее Revenue музеев по каждому штату.\n",
    "\n",
    "Чтобы это сделать, на помощь приходит groupby:"
   ]
  },
  {
   "cell_type": "code",
   "execution_count": 86,
   "metadata": {
    "ExecuteTime": {
     "end_time": "2019-09-25T15:53:33.308166Z",
     "start_time": "2019-09-25T15:53:33.282380Z"
    }
   },
   "outputs": [
    {
     "name": "stdout",
     "output_type": "stream",
     "text": [
      "(33072, 8)\n",
      "(51, 1)\n"
     ]
    },
    {
     "data": {
      "text/html": [
       "<div>\n",
       "<style scoped>\n",
       "    .dataframe tbody tr th:only-of-type {\n",
       "        vertical-align: middle;\n",
       "    }\n",
       "\n",
       "    .dataframe tbody tr th {\n",
       "        vertical-align: top;\n",
       "    }\n",
       "\n",
       "    .dataframe thead th {\n",
       "        text-align: right;\n",
       "    }\n",
       "</style>\n",
       "<table border=\"1\" class=\"dataframe\">\n",
       "  <thead>\n",
       "    <tr style=\"text-align: right;\">\n",
       "      <th></th>\n",
       "      <th>Revenue</th>\n",
       "    </tr>\n",
       "    <tr>\n",
       "      <th>State (Administrative Location)</th>\n",
       "      <th></th>\n",
       "    </tr>\n",
       "  </thead>\n",
       "  <tbody>\n",
       "    <tr>\n",
       "      <th>AK</th>\n",
       "      <td>1.004114e+06</td>\n",
       "    </tr>\n",
       "    <tr>\n",
       "      <th>AL</th>\n",
       "      <td>2.023465e+06</td>\n",
       "    </tr>\n",
       "    <tr>\n",
       "      <th>AR</th>\n",
       "      <td>3.234783e+06</td>\n",
       "    </tr>\n",
       "  </tbody>\n",
       "</table>\n",
       "</div>"
      ],
      "text/plain": [
       "                                      Revenue\n",
       "State (Administrative Location)              \n",
       "AK                               1.004114e+06\n",
       "AL                               2.023465e+06\n",
       "AR                               3.234783e+06"
      ]
     },
     "execution_count": 86,
     "metadata": {},
     "output_type": "execute_result"
    }
   ],
   "source": [
    "# найдем среднее Revenue по штату\n",
    "\n",
    "mean_revenue = (\n",
    "    museums[['State (Administrative Location)', 'Revenue']]\n",
    "    .groupby('State (Administrative Location)')\n",
    "    .mean()\n",
    ")\n",
    "\n",
    "print (museums.shape)\n",
    "print (mean_revenue.shape)\n",
    "\n",
    "mean_revenue.head(3)"
   ]
  },
  {
   "cell_type": "markdown",
   "metadata": {},
   "source": [
    "Можно делать группировки по нескольким столбцам:"
   ]
  },
  {
   "cell_type": "code",
   "execution_count": 87,
   "metadata": {
    "ExecuteTime": {
     "end_time": "2019-09-25T15:54:05.732033Z",
     "start_time": "2019-09-25T15:54:05.698764Z"
    },
    "code_folding": []
   },
   "outputs": [
    {
     "name": "stdout",
     "output_type": "stream",
     "text": [
      "(457, 1)\n"
     ]
    },
    {
     "data": {
      "text/html": [
       "<div>\n",
       "<style scoped>\n",
       "    .dataframe tbody tr th:only-of-type {\n",
       "        vertical-align: middle;\n",
       "    }\n",
       "\n",
       "    .dataframe tbody tr th {\n",
       "        vertical-align: top;\n",
       "    }\n",
       "\n",
       "    .dataframe thead th {\n",
       "        text-align: right;\n",
       "    }\n",
       "</style>\n",
       "<table border=\"1\" class=\"dataframe\">\n",
       "  <thead>\n",
       "    <tr style=\"text-align: right;\">\n",
       "      <th></th>\n",
       "      <th></th>\n",
       "      <th>Revenue</th>\n",
       "    </tr>\n",
       "    <tr>\n",
       "      <th>State (Administrative Location)</th>\n",
       "      <th>Museum Type</th>\n",
       "      <th></th>\n",
       "    </tr>\n",
       "  </thead>\n",
       "  <tbody>\n",
       "    <tr>\n",
       "      <th rowspan=\"3\" valign=\"top\">AK</th>\n",
       "      <th>ARBORETUM, BOTANICAL GARDEN, OR NATURE CENTER</th>\n",
       "      <td>938262.875</td>\n",
       "    </tr>\n",
       "    <tr>\n",
       "      <th>ART MUSEUM</th>\n",
       "      <td>9173939.000</td>\n",
       "    </tr>\n",
       "    <tr>\n",
       "      <th>CHILDREN'S MUSEUM</th>\n",
       "      <td>156377.000</td>\n",
       "    </tr>\n",
       "  </tbody>\n",
       "</table>\n",
       "</div>"
      ],
      "text/plain": [
       "                                                                                   Revenue\n",
       "State (Administrative Location) Museum Type                                               \n",
       "AK                              ARBORETUM, BOTANICAL GARDEN, OR NATURE CENTER   938262.875\n",
       "                                ART MUSEUM                                     9173939.000\n",
       "                                CHILDREN'S MUSEUM                               156377.000"
      ]
     },
     "execution_count": 87,
     "metadata": {},
     "output_type": "execute_result"
    }
   ],
   "source": [
    "# найдем среднее Revenue по штату и типу музея\n",
    "\n",
    "mean_revenue_complicated = (\n",
    "    museums\n",
    "    .groupby([\n",
    "        'State (Administrative Location)', \n",
    "        'Museum Type'\n",
    "    ]) [['Revenue']]\n",
    "    .mean()\n",
    ")\n",
    "\n",
    "print (mean_revenue_complicated.shape)\n",
    "\n",
    "mean_revenue_complicated.head(3)"
   ]
  },
  {
   "cell_type": "markdown",
   "metadata": {
    "ExecuteTime": {
     "end_time": "2019-09-23T15:07:35.303798Z",
     "start_time": "2019-09-23T15:07:35.293869Z"
    }
   },
   "source": [
    "Вот тут появляется мультииндекс!"
   ]
  },
  {
   "cell_type": "code",
   "execution_count": 88,
   "metadata": {
    "ExecuteTime": {
     "end_time": "2019-09-25T15:54:56.749557Z",
     "start_time": "2019-09-25T15:54:56.740552Z"
    }
   },
   "outputs": [
    {
     "data": {
      "text/plain": [
       "FrozenList(['State (Administrative Location)'])"
      ]
     },
     "execution_count": 88,
     "metadata": {},
     "output_type": "execute_result"
    }
   ],
   "source": [
    "mean_revenue.index.names"
   ]
  },
  {
   "cell_type": "code",
   "execution_count": 89,
   "metadata": {
    "ExecuteTime": {
     "end_time": "2019-09-25T15:55:04.228921Z",
     "start_time": "2019-09-25T15:55:04.219449Z"
    }
   },
   "outputs": [
    {
     "data": {
      "text/plain": [
       "FrozenList(['State (Administrative Location)', 'Museum Type'])"
      ]
     },
     "execution_count": 89,
     "metadata": {},
     "output_type": "execute_result"
    }
   ],
   "source": [
    "mean_revenue_complicated.index.names"
   ]
  },
  {
   "cell_type": "markdown",
   "metadata": {},
   "source": [
    "Чтобы от него избавиться, нужно сделать reset_index():"
   ]
  },
  {
   "cell_type": "code",
   "execution_count": 90,
   "metadata": {
    "ExecuteTime": {
     "end_time": "2019-09-25T15:55:33.833059Z",
     "start_time": "2019-09-25T15:55:33.810580Z"
    },
    "code_folding": []
   },
   "outputs": [
    {
     "data": {
      "text/html": [
       "<div>\n",
       "<style scoped>\n",
       "    .dataframe tbody tr th:only-of-type {\n",
       "        vertical-align: middle;\n",
       "    }\n",
       "\n",
       "    .dataframe tbody tr th {\n",
       "        vertical-align: top;\n",
       "    }\n",
       "\n",
       "    .dataframe thead th {\n",
       "        text-align: right;\n",
       "    }\n",
       "</style>\n",
       "<table border=\"1\" class=\"dataframe\">\n",
       "  <thead>\n",
       "    <tr style=\"text-align: right;\">\n",
       "      <th></th>\n",
       "      <th>State (Administrative Location)</th>\n",
       "      <th>Museum Type</th>\n",
       "      <th>Revenue</th>\n",
       "    </tr>\n",
       "  </thead>\n",
       "  <tbody>\n",
       "    <tr>\n",
       "      <th>0</th>\n",
       "      <td>AK</td>\n",
       "      <td>ARBORETUM, BOTANICAL GARDEN, OR NATURE CENTER</td>\n",
       "      <td>938262.875</td>\n",
       "    </tr>\n",
       "    <tr>\n",
       "      <th>1</th>\n",
       "      <td>AK</td>\n",
       "      <td>ART MUSEUM</td>\n",
       "      <td>9173939.000</td>\n",
       "    </tr>\n",
       "    <tr>\n",
       "      <th>2</th>\n",
       "      <td>AK</td>\n",
       "      <td>CHILDREN'S MUSEUM</td>\n",
       "      <td>156377.000</td>\n",
       "    </tr>\n",
       "  </tbody>\n",
       "</table>\n",
       "</div>"
      ],
      "text/plain": [
       "  State (Administrative Location)  \\\n",
       "0                              AK   \n",
       "1                              AK   \n",
       "2                              AK   \n",
       "\n",
       "                                     Museum Type      Revenue  \n",
       "0  ARBORETUM, BOTANICAL GARDEN, OR NATURE CENTER   938262.875  \n",
       "1                                     ART MUSEUM  9173939.000  \n",
       "2                              CHILDREN'S MUSEUM   156377.000  "
      ]
     },
     "execution_count": 90,
     "metadata": {},
     "output_type": "execute_result"
    }
   ],
   "source": [
    "# избавляемся от мультииндекса\n",
    "\n",
    "(\n",
    "    mean_revenue_complicated\n",
    "    .reset_index(inplace=True) #заменяет индекс на стандартный от 0 до N_lines - 1\n",
    ")\n",
    "\n",
    "mean_revenue_complicated.head(3)"
   ]
  },
  {
   "cell_type": "markdown",
   "metadata": {},
   "source": [
    "###### transform"
   ]
  },
  {
   "cell_type": "markdown",
   "metadata": {},
   "source": [
    "Как вы видите, в результате мы получаем датафреймы меньшего размера (т.к. считаются статистики по группам).\n",
    "\n",
    "Чтобы \"присобачить\" эту статистику в исходный датафрейм, нужно будет делать джоин.\n",
    "\n",
    "Хорошо, что можно сделать проще!"
   ]
  },
  {
   "cell_type": "markdown",
   "metadata": {},
   "source": [
    "Без transform:"
   ]
  },
  {
   "cell_type": "code",
   "execution_count": 91,
   "metadata": {
    "ExecuteTime": {
     "end_time": "2019-09-25T15:56:43.582112Z",
     "start_time": "2019-09-25T15:56:43.558352Z"
    }
   },
   "outputs": [
    {
     "name": "stdout",
     "output_type": "stream",
     "text": [
      "(51, 1)\n"
     ]
    },
    {
     "data": {
      "text/html": [
       "<div>\n",
       "<style scoped>\n",
       "    .dataframe tbody tr th:only-of-type {\n",
       "        vertical-align: middle;\n",
       "    }\n",
       "\n",
       "    .dataframe tbody tr th {\n",
       "        vertical-align: top;\n",
       "    }\n",
       "\n",
       "    .dataframe thead th {\n",
       "        text-align: right;\n",
       "    }\n",
       "</style>\n",
       "<table border=\"1\" class=\"dataframe\">\n",
       "  <thead>\n",
       "    <tr style=\"text-align: right;\">\n",
       "      <th></th>\n",
       "      <th>Revenue</th>\n",
       "    </tr>\n",
       "    <tr>\n",
       "      <th>State (Administrative Location)</th>\n",
       "      <th></th>\n",
       "    </tr>\n",
       "  </thead>\n",
       "  <tbody>\n",
       "    <tr>\n",
       "      <th>AK</th>\n",
       "      <td>1.004114e+06</td>\n",
       "    </tr>\n",
       "    <tr>\n",
       "      <th>AL</th>\n",
       "      <td>2.023465e+06</td>\n",
       "    </tr>\n",
       "    <tr>\n",
       "      <th>AR</th>\n",
       "      <td>3.234783e+06</td>\n",
       "    </tr>\n",
       "  </tbody>\n",
       "</table>\n",
       "</div>"
      ],
      "text/plain": [
       "                                      Revenue\n",
       "State (Administrative Location)              \n",
       "AK                               1.004114e+06\n",
       "AL                               2.023465e+06\n",
       "AR                               3.234783e+06"
      ]
     },
     "execution_count": 91,
     "metadata": {},
     "output_type": "execute_result"
    }
   ],
   "source": [
    "mean_revenue = (\n",
    "    museums[['State (Administrative Location)', 'Revenue']]\n",
    "    .groupby('State (Administrative Location)')\n",
    "    .mean()\n",
    ")\n",
    "\n",
    "print (mean_revenue.shape)\n",
    "\n",
    "mean_revenue.head(3)"
   ]
  },
  {
   "cell_type": "code",
   "execution_count": 92,
   "metadata": {
    "ExecuteTime": {
     "end_time": "2019-09-25T15:57:48.319535Z",
     "start_time": "2019-09-25T15:57:48.195521Z"
    }
   },
   "outputs": [
    {
     "name": "stdout",
     "output_type": "stream",
     "text": [
      "(33072, 1)\n"
     ]
    },
    {
     "data": {
      "text/html": [
       "<div>\n",
       "<style scoped>\n",
       "    .dataframe tbody tr th:only-of-type {\n",
       "        vertical-align: middle;\n",
       "    }\n",
       "\n",
       "    .dataframe tbody tr th {\n",
       "        vertical-align: top;\n",
       "    }\n",
       "\n",
       "    .dataframe thead th {\n",
       "        text-align: right;\n",
       "    }\n",
       "</style>\n",
       "<table border=\"1\" class=\"dataframe\">\n",
       "  <thead>\n",
       "    <tr style=\"text-align: right;\">\n",
       "      <th></th>\n",
       "      <th>Revenue</th>\n",
       "    </tr>\n",
       "  </thead>\n",
       "  <tbody>\n",
       "    <tr>\n",
       "      <th>0</th>\n",
       "      <td>1.004114e+06</td>\n",
       "    </tr>\n",
       "    <tr>\n",
       "      <th>1</th>\n",
       "      <td>1.004114e+06</td>\n",
       "    </tr>\n",
       "    <tr>\n",
       "      <th>2</th>\n",
       "      <td>1.004114e+06</td>\n",
       "    </tr>\n",
       "  </tbody>\n",
       "</table>\n",
       "</div>"
      ],
      "text/plain": [
       "        Revenue\n",
       "0  1.004114e+06\n",
       "1  1.004114e+06\n",
       "2  1.004114e+06"
      ]
     },
     "execution_count": 92,
     "metadata": {},
     "output_type": "execute_result"
    }
   ],
   "source": [
    "mean_revenue_2 = (\n",
    "    museums[['State (Administrative Location)', 'Revenue']]\n",
    "    .groupby('State (Administrative Location)')\n",
    "    .transform(lambda x: x.mean())\n",
    ")\n",
    "\n",
    "print (mean_revenue_2.shape)\n",
    "\n",
    "mean_revenue_2.head(3)"
   ]
  },
  {
   "cell_type": "markdown",
   "metadata": {},
   "source": [
    "То есть, он возвращает датафрейм с посчитанными статистиками!"
   ]
  },
  {
   "cell_type": "code",
   "execution_count": 93,
   "metadata": {
    "ExecuteTime": {
     "end_time": "2019-09-25T15:58:34.949066Z",
     "start_time": "2019-09-25T15:58:34.762609Z"
    },
    "code_folding": []
   },
   "outputs": [
    {
     "name": "stdout",
     "output_type": "stream",
     "text": [
      "<class 'pandas.core.series.Series'> (162,) Revenue\n",
      "<class 'pandas.core.frame.DataFrame'> (162, 1) AK\n",
      "<class 'pandas.core.series.Series'> (463,) Revenue\n",
      "<class 'pandas.core.series.Series'> (317,) Revenue\n",
      "<class 'pandas.core.series.Series'> (449,) Revenue\n",
      "<class 'pandas.core.series.Series'> (2670,) Revenue\n",
      "<class 'pandas.core.series.Series'> (649,) Revenue\n",
      "<class 'pandas.core.series.Series'> (544,) Revenue\n",
      "<class 'pandas.core.series.Series'> (190,) Revenue\n",
      "<class 'pandas.core.series.Series'> (132,) Revenue\n",
      "<class 'pandas.core.series.Series'> (1149,) Revenue\n",
      "<class 'pandas.core.series.Series'> (668,) Revenue\n",
      "<class 'pandas.core.series.Series'> (176,) Revenue\n",
      "<class 'pandas.core.series.Series'> (661,) Revenue\n",
      "<class 'pandas.core.series.Series'> (214,) Revenue\n",
      "<class 'pandas.core.series.Series'> (1310,) Revenue\n",
      "<class 'pandas.core.series.Series'> (685,) Revenue\n",
      "<class 'pandas.core.series.Series'> (537,) Revenue\n",
      "<class 'pandas.core.series.Series'> (466,) Revenue\n",
      "<class 'pandas.core.series.Series'> (395,) Revenue\n",
      "<class 'pandas.core.series.Series'> (1028,) Revenue\n",
      "<class 'pandas.core.series.Series'> (618,) Revenue\n",
      "<class 'pandas.core.series.Series'> (521,) Revenue\n",
      "<class 'pandas.core.series.Series'> (1039,) Revenue\n",
      "<class 'pandas.core.series.Series'> (681,) Revenue\n",
      "<class 'pandas.core.series.Series'> (742,) Revenue\n",
      "<class 'pandas.core.series.Series'> (247,) Revenue\n",
      "<class 'pandas.core.series.Series'> (270,) Revenue\n",
      "<class 'pandas.core.series.Series'> (779,) Revenue\n",
      "<class 'pandas.core.series.Series'> (269,) Revenue\n",
      "<class 'pandas.core.series.Series'> (347,) Revenue\n",
      "<class 'pandas.core.series.Series'> (363,) Revenue\n",
      "<class 'pandas.core.series.Series'> (756,) Revenue\n",
      "<class 'pandas.core.series.Series'> (320,) Revenue\n",
      "<class 'pandas.core.series.Series'> (174,) Revenue\n",
      "<class 'pandas.core.series.Series'> (2239,) Revenue\n",
      "<class 'pandas.core.series.Series'> (1363,) Revenue\n",
      "<class 'pandas.core.series.Series'> (547,) Revenue\n",
      "<class 'pandas.core.series.Series'> (550,) Revenue\n",
      "<class 'pandas.core.series.Series'> (1653,) Revenue\n",
      "<class 'pandas.core.series.Series'> (181,) Revenue\n",
      "<class 'pandas.core.series.Series'> (391,) Revenue\n",
      "<class 'pandas.core.series.Series'> (234,) Revenue\n",
      "<class 'pandas.core.series.Series'> (559,) Revenue\n",
      "<class 'pandas.core.series.Series'> (1886,) Revenue\n",
      "<class 'pandas.core.series.Series'> (170,) Revenue\n",
      "<class 'pandas.core.series.Series'> (958,) Revenue\n",
      "<class 'pandas.core.series.Series'> (292,) Revenue\n",
      "<class 'pandas.core.series.Series'> (721,) Revenue\n",
      "<class 'pandas.core.series.Series'> (887,) Revenue\n",
      "<class 'pandas.core.series.Series'> (258,) Revenue\n",
      "<class 'pandas.core.series.Series'> (192,) Revenue\n"
     ]
    },
    {
     "data": {
      "text/html": [
       "<div>\n",
       "<style scoped>\n",
       "    .dataframe tbody tr th:only-of-type {\n",
       "        vertical-align: middle;\n",
       "    }\n",
       "\n",
       "    .dataframe tbody tr th {\n",
       "        vertical-align: top;\n",
       "    }\n",
       "\n",
       "    .dataframe thead th {\n",
       "        text-align: right;\n",
       "    }\n",
       "</style>\n",
       "<table border=\"1\" class=\"dataframe\">\n",
       "  <thead>\n",
       "    <tr style=\"text-align: right;\">\n",
       "      <th></th>\n",
       "      <th>Revenue</th>\n",
       "    </tr>\n",
       "  </thead>\n",
       "  <tbody>\n",
       "    <tr>\n",
       "      <th>0</th>\n",
       "      <td>None</td>\n",
       "    </tr>\n",
       "    <tr>\n",
       "      <th>1</th>\n",
       "      <td>None</td>\n",
       "    </tr>\n",
       "    <tr>\n",
       "      <th>2</th>\n",
       "      <td>None</td>\n",
       "    </tr>\n",
       "    <tr>\n",
       "      <th>3</th>\n",
       "      <td>None</td>\n",
       "    </tr>\n",
       "    <tr>\n",
       "      <th>4</th>\n",
       "      <td>None</td>\n",
       "    </tr>\n",
       "    <tr>\n",
       "      <th>5</th>\n",
       "      <td>None</td>\n",
       "    </tr>\n",
       "    <tr>\n",
       "      <th>6</th>\n",
       "      <td>None</td>\n",
       "    </tr>\n",
       "    <tr>\n",
       "      <th>7</th>\n",
       "      <td>None</td>\n",
       "    </tr>\n",
       "    <tr>\n",
       "      <th>8</th>\n",
       "      <td>None</td>\n",
       "    </tr>\n",
       "    <tr>\n",
       "      <th>9</th>\n",
       "      <td>None</td>\n",
       "    </tr>\n",
       "    <tr>\n",
       "      <th>10</th>\n",
       "      <td>None</td>\n",
       "    </tr>\n",
       "    <tr>\n",
       "      <th>11</th>\n",
       "      <td>None</td>\n",
       "    </tr>\n",
       "    <tr>\n",
       "      <th>12</th>\n",
       "      <td>None</td>\n",
       "    </tr>\n",
       "    <tr>\n",
       "      <th>13</th>\n",
       "      <td>None</td>\n",
       "    </tr>\n",
       "    <tr>\n",
       "      <th>14</th>\n",
       "      <td>None</td>\n",
       "    </tr>\n",
       "    <tr>\n",
       "      <th>15</th>\n",
       "      <td>None</td>\n",
       "    </tr>\n",
       "    <tr>\n",
       "      <th>16</th>\n",
       "      <td>None</td>\n",
       "    </tr>\n",
       "    <tr>\n",
       "      <th>17</th>\n",
       "      <td>None</td>\n",
       "    </tr>\n",
       "    <tr>\n",
       "      <th>18</th>\n",
       "      <td>None</td>\n",
       "    </tr>\n",
       "    <tr>\n",
       "      <th>19</th>\n",
       "      <td>None</td>\n",
       "    </tr>\n",
       "    <tr>\n",
       "      <th>20</th>\n",
       "      <td>None</td>\n",
       "    </tr>\n",
       "    <tr>\n",
       "      <th>21</th>\n",
       "      <td>None</td>\n",
       "    </tr>\n",
       "    <tr>\n",
       "      <th>22</th>\n",
       "      <td>None</td>\n",
       "    </tr>\n",
       "    <tr>\n",
       "      <th>23</th>\n",
       "      <td>None</td>\n",
       "    </tr>\n",
       "    <tr>\n",
       "      <th>24</th>\n",
       "      <td>None</td>\n",
       "    </tr>\n",
       "    <tr>\n",
       "      <th>25</th>\n",
       "      <td>None</td>\n",
       "    </tr>\n",
       "    <tr>\n",
       "      <th>26</th>\n",
       "      <td>None</td>\n",
       "    </tr>\n",
       "    <tr>\n",
       "      <th>27</th>\n",
       "      <td>None</td>\n",
       "    </tr>\n",
       "    <tr>\n",
       "      <th>28</th>\n",
       "      <td>None</td>\n",
       "    </tr>\n",
       "    <tr>\n",
       "      <th>29</th>\n",
       "      <td>None</td>\n",
       "    </tr>\n",
       "    <tr>\n",
       "      <th>...</th>\n",
       "      <td>...</td>\n",
       "    </tr>\n",
       "    <tr>\n",
       "      <th>33042</th>\n",
       "      <td>None</td>\n",
       "    </tr>\n",
       "    <tr>\n",
       "      <th>33043</th>\n",
       "      <td>None</td>\n",
       "    </tr>\n",
       "    <tr>\n",
       "      <th>33044</th>\n",
       "      <td>None</td>\n",
       "    </tr>\n",
       "    <tr>\n",
       "      <th>33045</th>\n",
       "      <td>None</td>\n",
       "    </tr>\n",
       "    <tr>\n",
       "      <th>33046</th>\n",
       "      <td>None</td>\n",
       "    </tr>\n",
       "    <tr>\n",
       "      <th>33047</th>\n",
       "      <td>None</td>\n",
       "    </tr>\n",
       "    <tr>\n",
       "      <th>33048</th>\n",
       "      <td>None</td>\n",
       "    </tr>\n",
       "    <tr>\n",
       "      <th>33049</th>\n",
       "      <td>None</td>\n",
       "    </tr>\n",
       "    <tr>\n",
       "      <th>33050</th>\n",
       "      <td>None</td>\n",
       "    </tr>\n",
       "    <tr>\n",
       "      <th>33051</th>\n",
       "      <td>None</td>\n",
       "    </tr>\n",
       "    <tr>\n",
       "      <th>33052</th>\n",
       "      <td>None</td>\n",
       "    </tr>\n",
       "    <tr>\n",
       "      <th>33053</th>\n",
       "      <td>None</td>\n",
       "    </tr>\n",
       "    <tr>\n",
       "      <th>33054</th>\n",
       "      <td>None</td>\n",
       "    </tr>\n",
       "    <tr>\n",
       "      <th>33055</th>\n",
       "      <td>None</td>\n",
       "    </tr>\n",
       "    <tr>\n",
       "      <th>33056</th>\n",
       "      <td>None</td>\n",
       "    </tr>\n",
       "    <tr>\n",
       "      <th>33057</th>\n",
       "      <td>None</td>\n",
       "    </tr>\n",
       "    <tr>\n",
       "      <th>33058</th>\n",
       "      <td>None</td>\n",
       "    </tr>\n",
       "    <tr>\n",
       "      <th>33059</th>\n",
       "      <td>None</td>\n",
       "    </tr>\n",
       "    <tr>\n",
       "      <th>33060</th>\n",
       "      <td>None</td>\n",
       "    </tr>\n",
       "    <tr>\n",
       "      <th>33061</th>\n",
       "      <td>None</td>\n",
       "    </tr>\n",
       "    <tr>\n",
       "      <th>33062</th>\n",
       "      <td>None</td>\n",
       "    </tr>\n",
       "    <tr>\n",
       "      <th>33063</th>\n",
       "      <td>None</td>\n",
       "    </tr>\n",
       "    <tr>\n",
       "      <th>33064</th>\n",
       "      <td>None</td>\n",
       "    </tr>\n",
       "    <tr>\n",
       "      <th>33065</th>\n",
       "      <td>None</td>\n",
       "    </tr>\n",
       "    <tr>\n",
       "      <th>33066</th>\n",
       "      <td>None</td>\n",
       "    </tr>\n",
       "    <tr>\n",
       "      <th>33067</th>\n",
       "      <td>None</td>\n",
       "    </tr>\n",
       "    <tr>\n",
       "      <th>33068</th>\n",
       "      <td>None</td>\n",
       "    </tr>\n",
       "    <tr>\n",
       "      <th>33069</th>\n",
       "      <td>None</td>\n",
       "    </tr>\n",
       "    <tr>\n",
       "      <th>33070</th>\n",
       "      <td>None</td>\n",
       "    </tr>\n",
       "    <tr>\n",
       "      <th>33071</th>\n",
       "      <td>None</td>\n",
       "    </tr>\n",
       "  </tbody>\n",
       "</table>\n",
       "<p>33072 rows × 1 columns</p>\n",
       "</div>"
      ],
      "text/plain": [
       "      Revenue\n",
       "0        None\n",
       "1        None\n",
       "2        None\n",
       "3        None\n",
       "4        None\n",
       "5        None\n",
       "6        None\n",
       "7        None\n",
       "8        None\n",
       "9        None\n",
       "10       None\n",
       "11       None\n",
       "12       None\n",
       "13       None\n",
       "14       None\n",
       "15       None\n",
       "16       None\n",
       "17       None\n",
       "18       None\n",
       "19       None\n",
       "20       None\n",
       "21       None\n",
       "22       None\n",
       "23       None\n",
       "24       None\n",
       "25       None\n",
       "26       None\n",
       "27       None\n",
       "28       None\n",
       "29       None\n",
       "...       ...\n",
       "33042    None\n",
       "33043    None\n",
       "33044    None\n",
       "33045    None\n",
       "33046    None\n",
       "33047    None\n",
       "33048    None\n",
       "33049    None\n",
       "33050    None\n",
       "33051    None\n",
       "33052    None\n",
       "33053    None\n",
       "33054    None\n",
       "33055    None\n",
       "33056    None\n",
       "33057    None\n",
       "33058    None\n",
       "33059    None\n",
       "33060    None\n",
       "33061    None\n",
       "33062    None\n",
       "33063    None\n",
       "33064    None\n",
       "33065    None\n",
       "33066    None\n",
       "33067    None\n",
       "33068    None\n",
       "33069    None\n",
       "33070    None\n",
       "33071    None\n",
       "\n",
       "[33072 rows x 1 columns]"
      ]
     },
     "execution_count": 93,
     "metadata": {},
     "output_type": "execute_result"
    }
   ],
   "source": [
    "# что приходит на вход transform:\n",
    "\n",
    "(\n",
    "    museums[['State (Administrative Location)', 'Revenue']]\n",
    "    .groupby('State (Administrative Location)')\n",
    "    .transform(lambda x: print (type(x), x.shape, x.name))\n",
    ")"
   ]
  },
  {
   "cell_type": "code",
   "execution_count": null,
   "metadata": {
    "ExecuteTime": {
     "end_time": "2019-09-25T09:29:43.343924Z",
     "start_time": "2019-09-25T09:29:43.203923Z"
    }
   },
   "outputs": [],
   "source": [
    "#можно и по нескольким столбцам\n",
    "\n",
    "mean_revenue_2 = (\n",
    "    museums[['State (Administrative Location)', 'Revenue', 'Income']]\n",
    "    .groupby('State (Administrative Location)')\n",
    "    .transform(lambda x: x.mean())\n",
    ")\n",
    "\n",
    "print (mean_revenue_2.shape)\n",
    "\n",
    "mean_revenue_2.head(3)"
   ]
  },
  {
   "cell_type": "code",
   "execution_count": null,
   "metadata": {
    "ExecuteTime": {
     "end_time": "2019-09-25T09:30:54.630728Z",
     "start_time": "2019-09-25T09:30:54.369704Z"
    }
   },
   "outputs": [],
   "source": [
    "#  сюда Series по-очереди\n",
    "\n",
    "(\n",
    "    museums[['State (Administrative Location)', 'Revenue', 'Income']]\n",
    "    .groupby('State (Administrative Location)')\n",
    "    .transform(lambda x: print (type(x), x.shape, x.name))\n",
    ")"
   ]
  },
  {
   "cell_type": "markdown",
   "metadata": {},
   "source": [
    "Теперь мы готовы заменять пропущенные значения, но нужна более сложная функция внутри:"
   ]
  },
  {
   "cell_type": "code",
   "execution_count": 94,
   "metadata": {
    "ExecuteTime": {
     "end_time": "2019-09-25T16:02:42.737494Z",
     "start_time": "2019-09-25T16:02:42.671312Z"
    },
    "code_folding": []
   },
   "outputs": [
    {
     "name": "stdout",
     "output_type": "stream",
     "text": [
      "Кол-во пропущенных в Revenue: 0\n"
     ]
    },
    {
     "data": {
      "text/html": [
       "<div>\n",
       "<style scoped>\n",
       "    .dataframe tbody tr th:only-of-type {\n",
       "        vertical-align: middle;\n",
       "    }\n",
       "\n",
       "    .dataframe tbody tr th {\n",
       "        vertical-align: top;\n",
       "    }\n",
       "\n",
       "    .dataframe thead th {\n",
       "        text-align: right;\n",
       "    }\n",
       "</style>\n",
       "<table border=\"1\" class=\"dataframe\">\n",
       "  <thead>\n",
       "    <tr style=\"text-align: right;\">\n",
       "      <th></th>\n",
       "      <th>Museum ID</th>\n",
       "      <th>Museum Name</th>\n",
       "      <th>Museum Type</th>\n",
       "      <th>City (Administrative Location)</th>\n",
       "      <th>State (Administrative Location)</th>\n",
       "      <th>Tax Period</th>\n",
       "      <th>Income</th>\n",
       "      <th>Revenue</th>\n",
       "    </tr>\n",
       "  </thead>\n",
       "  <tbody>\n",
       "  </tbody>\n",
       "</table>\n",
       "</div>"
      ],
      "text/plain": [
       "Empty DataFrame\n",
       "Columns: [Museum ID, Museum Name, Museum Type, City (Administrative Location), State (Administrative Location), Tax Period, Income, Revenue]\n",
       "Index: []"
      ]
     },
     "execution_count": 94,
     "metadata": {},
     "output_type": "execute_result"
    }
   ],
   "source": [
    "# заполняем пропуски внутри группы\n",
    "\n",
    "museums['Revenue'] = (\n",
    "    museums\n",
    "    .groupby('State (Administrative Location)') ['Revenue']\n",
    "    .transform(lambda x: x.fillna(x.mean()))\n",
    ")\n",
    "\n",
    "print ('Кол-во пропущенных в Revenue:', sum(museums['Revenue'].isnull()))\n",
    "\n",
    "museums[museums['Revenue'].isnull()].head(5)"
   ]
  },
  {
   "cell_type": "markdown",
   "metadata": {},
   "source": [
    "### Порисуем!"
   ]
  },
  {
   "cell_type": "markdown",
   "metadata": {
    "ExecuteTime": {
     "end_time": "2019-09-23T15:23:46.397659Z",
     "start_time": "2019-09-23T15:23:46.388663Z"
    }
   },
   "source": [
    "Ну, теперь можно и порисовать!"
   ]
  },
  {
   "cell_type": "code",
   "execution_count": 96,
   "metadata": {
    "ExecuteTime": {
     "end_time": "2019-09-25T16:04:49.698561Z",
     "start_time": "2019-09-25T16:04:49.207695Z"
    },
    "code_folding": []
   },
   "outputs": [
    {
     "data": {
      "image/png": "[encoded data removed]",
      "text/plain": [
       "<Figure size 432x288 with 1 Axes>"
      ]
     },
     "metadata": {
      "needs_background": "light"
     },
     "output_type": "display_data"
    }
   ],
   "source": [
    "# гистограмма Revenue\n",
    "\n",
    "museums.hist(column='Revenue', bins=100)\n",
    "\n",
    "plt.show()"
   ]
  },
  {
   "cell_type": "markdown",
   "metadata": {},
   "source": [
    "Ничего не видно :(\n",
    "\n",
    "Расчехляем логарифм. Нам надо посчитать логарифм для каждого элемента в Revenue.  Можно, конечно сделать цикл, но это плохо и долго!\n",
    "\n",
    "Для этого рассмотрим полезную фунцию apply:"
   ]
  },
  {
   "cell_type": "markdown",
   "metadata": {},
   "source": [
    "#### apply"
   ]
  },
  {
   "cell_type": "code",
   "execution_count": 97,
   "metadata": {
    "ExecuteTime": {
     "end_time": "2019-09-25T16:05:30.700231Z",
     "start_time": "2019-09-25T16:05:30.683712Z"
    }
   },
   "outputs": [
    {
     "data": {
      "text/html": [
       "<div>\n",
       "<style scoped>\n",
       "    .dataframe tbody tr th:only-of-type {\n",
       "        vertical-align: middle;\n",
       "    }\n",
       "\n",
       "    .dataframe tbody tr th {\n",
       "        vertical-align: top;\n",
       "    }\n",
       "\n",
       "    .dataframe thead th {\n",
       "        text-align: right;\n",
       "    }\n",
       "</style>\n",
       "<table border=\"1\" class=\"dataframe\">\n",
       "  <thead>\n",
       "    <tr style=\"text-align: right;\">\n",
       "      <th></th>\n",
       "      <th>x</th>\n",
       "      <th>y</th>\n",
       "    </tr>\n",
       "  </thead>\n",
       "  <tbody>\n",
       "    <tr>\n",
       "      <th>0</th>\n",
       "      <td>1</td>\n",
       "      <td>0</td>\n",
       "    </tr>\n",
       "    <tr>\n",
       "      <th>1</th>\n",
       "      <td>2</td>\n",
       "      <td>0</td>\n",
       "    </tr>\n",
       "    <tr>\n",
       "      <th>2</th>\n",
       "      <td>3</td>\n",
       "      <td>0</td>\n",
       "    </tr>\n",
       "  </tbody>\n",
       "</table>\n",
       "</div>"
      ],
      "text/plain": [
       "   x  y\n",
       "0  1  0\n",
       "1  2  0\n",
       "2  3  0"
      ]
     },
     "execution_count": 97,
     "metadata": {},
     "output_type": "execute_result"
    }
   ],
   "source": [
    "df = pd.DataFrame({'x': [1, 2, 3], 'y': [0]*3})\n",
    "\n",
    "df"
   ]
  },
  {
   "cell_type": "markdown",
   "metadata": {},
   "source": [
    "Что приходит на вход функции в apply?"
   ]
  },
  {
   "cell_type": "code",
   "execution_count": 98,
   "metadata": {
    "ExecuteTime": {
     "end_time": "2019-09-25T16:06:03.189933Z",
     "start_time": "2019-09-25T16:06:03.174901Z"
    },
    "code_folding": []
   },
   "outputs": [
    {
     "name": "stdout",
     "output_type": "stream",
     "text": [
      "Object: \n",
      "0    1\n",
      "1    2\n",
      "2    3\n",
      "Name: x, dtype: int64\n",
      "\n",
      "Object: \n",
      "0    0\n",
      "1    0\n",
      "2    0\n",
      "Name: y, dtype: int64\n",
      "\n"
     ]
    }
   ],
   "source": [
    "# столбцы \n",
    "\n",
    "def printer(x):\n",
    "    print (\"Object: \")\n",
    "    print (x)\n",
    "    print ()\n",
    "\n",
    "\n",
    "x = df.apply(printer, axis=0)"
   ]
  },
  {
   "cell_type": "code",
   "execution_count": 99,
   "metadata": {
    "ExecuteTime": {
     "end_time": "2019-09-25T16:06:29.999583Z",
     "start_time": "2019-09-25T16:06:29.982611Z"
    },
    "code_folding": []
   },
   "outputs": [
    {
     "name": "stdout",
     "output_type": "stream",
     "text": [
      "Object: \n",
      "x    1\n",
      "y    0\n",
      "Name: 0, dtype: int64\n",
      "\n",
      "Object: \n",
      "x    2\n",
      "y    0\n",
      "Name: 1, dtype: int64\n",
      "\n",
      "Object: \n",
      "x    3\n",
      "y    0\n",
      "Name: 2, dtype: int64\n",
      "\n"
     ]
    }
   ],
   "source": [
    "# строки\n",
    "\n",
    "x = df.apply(printer, axis=1)"
   ]
  },
  {
   "cell_type": "code",
   "execution_count": 100,
   "metadata": {
    "ExecuteTime": {
     "end_time": "2019-09-25T16:06:45.315472Z",
     "start_time": "2019-09-25T16:06:45.304426Z"
    },
    "code_folding": []
   },
   "outputs": [
    {
     "name": "stdout",
     "output_type": "stream",
     "text": [
      "Object: \n",
      "1\n",
      "\n",
      "Object: \n",
      "2\n",
      "\n",
      "Object: \n",
      "3\n",
      "\n"
     ]
    }
   ],
   "source": [
    "# значения\n",
    "\n",
    "x = df['x'].apply(printer)"
   ]
  },
  {
   "cell_type": "code",
   "execution_count": 101,
   "metadata": {
    "ExecuteTime": {
     "end_time": "2019-09-25T16:07:10.161543Z",
     "start_time": "2019-09-25T16:07:10.143277Z"
    },
    "code_folding": []
   },
   "outputs": [
    {
     "data": {
      "text/html": [
       "<div>\n",
       "<style scoped>\n",
       "    .dataframe tbody tr th:only-of-type {\n",
       "        vertical-align: middle;\n",
       "    }\n",
       "\n",
       "    .dataframe tbody tr th {\n",
       "        vertical-align: top;\n",
       "    }\n",
       "\n",
       "    .dataframe thead th {\n",
       "        text-align: right;\n",
       "    }\n",
       "</style>\n",
       "<table border=\"1\" class=\"dataframe\">\n",
       "  <thead>\n",
       "    <tr style=\"text-align: right;\">\n",
       "      <th></th>\n",
       "      <th>x</th>\n",
       "      <th>y</th>\n",
       "    </tr>\n",
       "  </thead>\n",
       "  <tbody>\n",
       "    <tr>\n",
       "      <th>0</th>\n",
       "      <td>1</td>\n",
       "      <td>0</td>\n",
       "    </tr>\n",
       "    <tr>\n",
       "      <th>1</th>\n",
       "      <td>4</td>\n",
       "      <td>0</td>\n",
       "    </tr>\n",
       "    <tr>\n",
       "      <th>2</th>\n",
       "      <td>9</td>\n",
       "      <td>0</td>\n",
       "    </tr>\n",
       "  </tbody>\n",
       "</table>\n",
       "</div>"
      ],
      "text/plain": [
       "   x  y\n",
       "0  1  0\n",
       "1  4  0\n",
       "2  9  0"
      ]
     },
     "execution_count": 101,
     "metadata": {},
     "output_type": "execute_result"
    }
   ],
   "source": [
    "# то есть можно делать все, что с Series\n",
    "\n",
    "df.apply(lambda x: x*pd.Series([1, 2, 3]))"
   ]
  },
  {
   "cell_type": "code",
   "execution_count": 102,
   "metadata": {
    "ExecuteTime": {
     "end_time": "2019-09-25T16:07:36.824286Z",
     "start_time": "2019-09-25T16:07:36.804225Z"
    },
    "code_folding": []
   },
   "outputs": [
    {
     "data": {
      "text/html": [
       "<div>\n",
       "<style scoped>\n",
       "    .dataframe tbody tr th:only-of-type {\n",
       "        vertical-align: middle;\n",
       "    }\n",
       "\n",
       "    .dataframe tbody tr th {\n",
       "        vertical-align: top;\n",
       "    }\n",
       "\n",
       "    .dataframe thead th {\n",
       "        text-align: right;\n",
       "    }\n",
       "</style>\n",
       "<table border=\"1\" class=\"dataframe\">\n",
       "  <thead>\n",
       "    <tr style=\"text-align: right;\">\n",
       "      <th></th>\n",
       "      <th>x</th>\n",
       "      <th>y</th>\n",
       "    </tr>\n",
       "  </thead>\n",
       "  <tbody>\n",
       "    <tr>\n",
       "      <th>0</th>\n",
       "      <td>1</td>\n",
       "      <td>0</td>\n",
       "    </tr>\n",
       "    <tr>\n",
       "      <th>1</th>\n",
       "      <td>4</td>\n",
       "      <td>0</td>\n",
       "    </tr>\n",
       "  </tbody>\n",
       "</table>\n",
       "</div>"
      ],
      "text/plain": [
       "   x  y\n",
       "0  1  0\n",
       "1  4  0"
      ]
     },
     "execution_count": 102,
     "metadata": {},
     "output_type": "execute_result"
    }
   ],
   "source": [
    "# можно и размер поменять\n",
    "\n",
    "df.apply(lambda x: x[:2]*pd.Series([1, 2]))"
   ]
  },
  {
   "cell_type": "markdown",
   "metadata": {
    "ExecuteTime": {
     "end_time": "2019-09-23T15:38:10.058415Z",
     "start_time": "2019-09-23T15:38:10.050529Z"
    }
   },
   "source": [
    "Никогда не делайте цикл for по строкам DataFrame!\n",
    "\n",
    "apply - оптимизированный и будет быстрее (гораздо)"
   ]
  },
  {
   "cell_type": "code",
   "execution_count": 104,
   "metadata": {
    "ExecuteTime": {
     "end_time": "2019-09-25T16:09:23.415452Z",
     "start_time": "2019-09-25T16:09:21.656192Z"
    }
   },
   "outputs": [
    {
     "name": "stdout",
     "output_type": "stream",
     "text": [
      "2.15 ms ± 99.5 µs per loop (mean ± std. dev. of 7 runs, 100 loops each)\n"
     ]
    }
   ],
   "source": [
    "%%timeit\n",
    "\n",
    "df = pd.DataFrame({'x': range(0, 1000), 'y': [0]*1000})\n",
    "\n",
    "df['y'] = df['x'].apply(lambda x: x**2)"
   ]
  },
  {
   "cell_type": "code",
   "execution_count": 103,
   "metadata": {
    "ExecuteTime": {
     "end_time": "2019-09-25T16:09:21.653195Z",
     "start_time": "2019-09-25T16:09:10.093725Z"
    }
   },
   "outputs": [
    {
     "name": "stdout",
     "output_type": "stream",
     "text": [
      "144 ms ± 2.6 ms per loop (mean ± std. dev. of 7 runs, 10 loops each)\n"
     ]
    }
   ],
   "source": [
    "%%timeit\n",
    "\n",
    "df = pd.DataFrame({'x': range(0, 1000), 'y': [0]*1000})\n",
    "\n",
    "for idi in enumerate(df['x']):\n",
    "    df.iloc[idx]['y'] = i**2"
   ]
  },
  {
   "cell_type": "markdown",
   "metadata": {},
   "source": [
    "Теперь мы готовы, чтобы нарисовать гистограмму:"
   ]
  },
  {
   "cell_type": "code",
   "execution_count": 109,
   "metadata": {
    "ExecuteTime": {
     "end_time": "2019-09-25T16:13:12.193928Z",
     "start_time": "2019-09-25T16:13:11.812664Z"
    },
    "code_folding": []
   },
   "outputs": [
    {
     "data": {
      "image/png": "[encoded data removed]",
      "text/plain": [
       "<Figure size 432x288 with 1 Axes>"
      ]
     },
     "metadata": {
      "needs_background": "light"
     },
     "output_type": "display_data"
    }
   ],
   "source": [
    "# рисуем гистограмму\n",
    "\n",
    "import math\n",
    "\n",
    "museums['log_Revenue'] = (\n",
    "    museums['Revenue']\n",
    "    .apply(lambda x: math.log10(x) if x>0 else None)\n",
    ")\n",
    "\n",
    "(\n",
    "    museums['log_Revenue']\n",
    "    .hist(bins=100)\n",
    ")\n",
    "\n",
    "plt.show()"
   ]
  },
  {
   "cell_type": "markdown",
   "metadata": {},
   "source": [
    "Лучше!"
   ]
  },
  {
   "cell_type": "markdown",
   "metadata": {},
   "source": [
    "#### seaborn"
   ]
  },
  {
   "cell_type": "markdown",
   "metadata": {},
   "source": [
    "Библиотека красивой визуализации. \n",
    "\n",
    "Ставить вот так: https://seaborn.pydata.org/installing.html"
   ]
  },
  {
   "cell_type": "code",
   "execution_count": 110,
   "metadata": {
    "ExecuteTime": {
     "end_time": "2019-09-25T16:14:11.109181Z",
     "start_time": "2019-09-25T16:14:10.351743Z"
    }
   },
   "outputs": [],
   "source": [
    "import seaborn as sns\n",
    "\n",
    "sns.set()"
   ]
  },
  {
   "cell_type": "code",
   "execution_count": 111,
   "metadata": {
    "ExecuteTime": {
     "end_time": "2019-09-25T16:14:40.348278Z",
     "start_time": "2019-09-25T16:14:40.032198Z"
    },
    "scrolled": true
   },
   "outputs": [
    {
     "data": {
      "image/png": "[encoded data removed]",
      "text/plain": [
       "<Figure size 432x288 with 1 Axes>"
      ]
     },
     "metadata": {},
     "output_type": "display_data"
    }
   ],
   "source": [
    "import math\n",
    "\n",
    "(\n",
    "    museums['log_Revenue']\n",
    "    .hist(bins=100)\n",
    ")\n",
    "\n",
    "plt.show()"
   ]
  },
  {
   "cell_type": "markdown",
   "metadata": {},
   "source": [
    "Еще лучше!"
   ]
  },
  {
   "cell_type": "code",
   "execution_count": 112,
   "metadata": {
    "ExecuteTime": {
     "end_time": "2019-09-25T16:16:11.522755Z",
     "start_time": "2019-09-25T16:16:10.750048Z"
    },
    "code_folding": [],
    "scrolled": true
   },
   "outputs": [
    {
     "data": {
      "image/png": "[encoded data removed]",
      "text/plain": [
       "<Figure size 360x360 with 1 Axes>"
      ]
     },
     "metadata": {},
     "output_type": "display_data"
    }
   ],
   "source": [
    "# распределение log_Revenue по штатам\n",
    "\n",
    "sns.catplot(\n",
    "    x=\"State (Administrative Location)\", \n",
    "    y=\"log_Revenue\", \n",
    "    kind=\"swarm\",\n",
    "    data=museums[\n",
    "        museums['State (Administrative Location)'].isin(['AK', 'AL'])\n",
    "    ])\n",
    "\n",
    "plt.show()"
   ]
  },
  {
   "cell_type": "code",
   "execution_count": 113,
   "metadata": {
    "ExecuteTime": {
     "end_time": "2019-09-25T16:19:38.257082Z",
     "start_time": "2019-09-25T16:19:37.215943Z"
    },
    "code_folding": []
   },
   "outputs": [
    {
     "data": {
      "image/png": "[encoded data removed]",
      "text/plain": [
       "<Figure size 710.6x360 with 1 Axes>"
      ]
     },
     "metadata": {},
     "output_type": "display_data"
    }
   ],
   "source": [
    "# распределение log_Revenue по штатам + тип музея\n",
    "\n",
    "\n",
    "sns.catplot(\n",
    "    x=\"State (Administrative Location)\", \n",
    "    y=\"log_Revenue\", \n",
    "    hue='Museum Type',\n",
    "    kind=\"swarm\",\n",
    "    data=museums[\n",
    "        museums['State (Administrative Location)'].isin(['AK', 'AL'])\n",
    "    ])\n",
    "\n",
    "plt.show()"
   ]
  },
  {
   "cell_type": "code",
   "execution_count": 114,
   "metadata": {
    "ExecuteTime": {
     "end_time": "2019-09-25T16:20:58.656819Z",
     "start_time": "2019-09-25T16:20:58.640522Z"
    },
    "scrolled": true
   },
   "outputs": [
    {
     "data": {
      "text/plain": [
       "0         True\n",
       "1        False\n",
       "2         True\n",
       "3        False\n",
       "4         True\n",
       "5        False\n",
       "6         True\n",
       "7         True\n",
       "8        False\n",
       "9         True\n",
       "10       False\n",
       "11       False\n",
       "12       False\n",
       "13        True\n",
       "14        True\n",
       "15       False\n",
       "16        True\n",
       "17       False\n",
       "18       False\n",
       "19       False\n",
       "20       False\n",
       "21        True\n",
       "22        True\n",
       "23       False\n",
       "24       False\n",
       "25       False\n",
       "26        True\n",
       "27       False\n",
       "28       False\n",
       "29       False\n",
       "         ...  \n",
       "33042     True\n",
       "33043    False\n",
       "33044     True\n",
       "33045     True\n",
       "33046     True\n",
       "33047    False\n",
       "33048     True\n",
       "33049     True\n",
       "33050     True\n",
       "33051     True\n",
       "33052     True\n",
       "33053    False\n",
       "33054     True\n",
       "33055     True\n",
       "33056     True\n",
       "33057    False\n",
       "33058     True\n",
       "33059     True\n",
       "33060    False\n",
       "33061    False\n",
       "33062     True\n",
       "33063     True\n",
       "33064     True\n",
       "33065     True\n",
       "33066     True\n",
       "33067     True\n",
       "33068    False\n",
       "33069     True\n",
       "33070    False\n",
       "33071     True\n",
       "Name: log_Revenue, Length: 33072, dtype: bool"
      ]
     },
     "execution_count": 114,
     "metadata": {},
     "output_type": "execute_result"
    }
   ],
   "source": [
    "museums['log_Revenue'] < 6"
   ]
  },
  {
   "cell_type": "code",
   "execution_count": null,
   "metadata": {},
   "outputs": [],
   "source": [
    "museums['log_Revenue'] < 6"
   ]
  },
  {
   "cell_type": "code",
   "execution_count": 115,
   "metadata": {
    "ExecuteTime": {
     "end_time": "2019-09-25T16:21:48.878688Z",
     "start_time": "2019-09-25T16:21:48.451593Z"
    }
   },
   "outputs": [
    {
     "data": {
      "image/png": "[encoded data removed]",
      "text/plain": [
       "<Figure size 710.6x360 with 1 Axes>"
      ]
     },
     "metadata": {},
     "output_type": "display_data"
    }
   ],
   "source": [
    "# распределение log_Revenue < 6 по штатам + тип музея\n",
    "\n",
    "sns.catplot(\n",
    "    x=\"State (Administrative Location)\", \n",
    "    y=\"log_Revenue\", \n",
    "    hue='Museum Type',\n",
    "    kind=\"swarm\",\n",
    "    data=(\n",
    "        museums[\n",
    "            museums['State (Administrative Location)']\n",
    "            .isin(['AK', 'AL'])]\n",
    "        .query('log_Revenue < 6')\n",
    "    )\n",
    ")\n",
    "\n",
    "plt.show()"
   ]
  },
  {
   "cell_type": "markdown",
   "metadata": {},
   "source": [
    "Возможностей красивой визуализации очень много - читайте документацию )"
   ]
  },
  {
   "cell_type": "markdown",
   "metadata": {},
   "source": [
    "### Джоин"
   ]
  },
  {
   "cell_type": "markdown",
   "metadata": {},
   "source": [
    "Мы хотим справочник поджоинить на исходный датафрейм:"
   ]
  },
  {
   "cell_type": "code",
   "execution_count": 116,
   "metadata": {
    "ExecuteTime": {
     "end_time": "2019-09-25T16:22:29.246837Z",
     "start_time": "2019-09-25T16:22:29.223718Z"
    }
   },
   "outputs": [
    {
     "data": {
      "text/html": [
       "<div>\n",
       "<style scoped>\n",
       "    .dataframe tbody tr th:only-of-type {\n",
       "        vertical-align: middle;\n",
       "    }\n",
       "\n",
       "    .dataframe tbody tr th {\n",
       "        vertical-align: top;\n",
       "    }\n",
       "\n",
       "    .dataframe thead th {\n",
       "        text-align: right;\n",
       "    }\n",
       "</style>\n",
       "<table border=\"1\" class=\"dataframe\">\n",
       "  <thead>\n",
       "    <tr style=\"text-align: right;\">\n",
       "      <th></th>\n",
       "      <th>Museum ID</th>\n",
       "      <th>Museum Name</th>\n",
       "      <th>Museum Type</th>\n",
       "      <th>City (Administrative Location)</th>\n",
       "      <th>State (Administrative Location)</th>\n",
       "      <th>Tax Period</th>\n",
       "      <th>Income</th>\n",
       "      <th>Revenue</th>\n",
       "      <th>log_Revenue</th>\n",
       "    </tr>\n",
       "  </thead>\n",
       "  <tbody>\n",
       "    <tr>\n",
       "      <th>0</th>\n",
       "      <td>8400200098</td>\n",
       "      <td>ALASKA AVIATION HERITAGE MUSEUM</td>\n",
       "      <td>HISTORY MUSEUM</td>\n",
       "      <td>ANCHORAGE</td>\n",
       "      <td>AK</td>\n",
       "      <td>2013-12-01</td>\n",
       "      <td>602912.0</td>\n",
       "      <td>550236.0</td>\n",
       "      <td>5.740549</td>\n",
       "    </tr>\n",
       "  </tbody>\n",
       "</table>\n",
       "</div>"
      ],
      "text/plain": [
       "    Museum ID                      Museum Name     Museum Type  \\\n",
       "0  8400200098  ALASKA AVIATION HERITAGE MUSEUM  HISTORY MUSEUM   \n",
       "\n",
       "  City (Administrative Location) State (Administrative Location) Tax Period  \\\n",
       "0                      ANCHORAGE                              AK 2013-12-01   \n",
       "\n",
       "     Income   Revenue  log_Revenue  \n",
       "0  602912.0  550236.0     5.740549  "
      ]
     },
     "execution_count": 116,
     "metadata": {},
     "output_type": "execute_result"
    }
   ],
   "source": [
    "museums.head(1)"
   ]
  },
  {
   "cell_type": "code",
   "execution_count": 117,
   "metadata": {
    "ExecuteTime": {
     "end_time": "2019-09-25T16:22:31.936995Z",
     "start_time": "2019-09-25T16:22:31.918282Z"
    }
   },
   "outputs": [
    {
     "data": {
      "text/html": [
       "<div>\n",
       "<style scoped>\n",
       "    .dataframe tbody tr th:only-of-type {\n",
       "        vertical-align: middle;\n",
       "    }\n",
       "\n",
       "    .dataframe tbody tr th {\n",
       "        vertical-align: top;\n",
       "    }\n",
       "\n",
       "    .dataframe thead th {\n",
       "        text-align: right;\n",
       "    }\n",
       "</style>\n",
       "<table border=\"1\" class=\"dataframe\">\n",
       "  <thead>\n",
       "    <tr style=\"text-align: right;\">\n",
       "      <th></th>\n",
       "      <th>State</th>\n",
       "      <th>ShortName</th>\n",
       "      <th>Capital</th>\n",
       "    </tr>\n",
       "  </thead>\n",
       "  <tbody>\n",
       "    <tr>\n",
       "      <th>0</th>\n",
       "      <td>Alabama (Алабама)</td>\n",
       "      <td>AL</td>\n",
       "      <td>Montgomery</td>\n",
       "    </tr>\n",
       "  </tbody>\n",
       "</table>\n",
       "</div>"
      ],
      "text/plain": [
       "               State ShortName     Capital\n",
       "0  Alabama (Алабама)        AL  Montgomery"
      ]
     },
     "execution_count": 117,
     "metadata": {},
     "output_type": "execute_result"
    }
   ],
   "source": [
    "states_info.head(1)"
   ]
  },
  {
   "cell_type": "code",
   "execution_count": 118,
   "metadata": {
    "ExecuteTime": {
     "end_time": "2019-09-25T16:23:24.426702Z",
     "start_time": "2019-09-25T16:23:24.416349Z"
    }
   },
   "outputs": [
    {
     "data": {
      "text/plain": [
       "array(['AL', 'AK', 'AZ', 'AR', 'CA', 'CO', 'CT', 'DE', 'FL', 'GA', 'HI',\n",
       "       'ID', 'IL', 'IN', 'IA', 'KS', 'KY', 'LA', 'ME', 'MD', 'MA', 'MI',\n",
       "       'MN', 'MS', 'MO', 'MT', 'NE', 'NV', 'NH', 'NJ', 'NM', 'NY', 'NC',\n",
       "       'ND', 'OH', 'OK', 'OR', 'PA', 'RI', 'SC', 'SD', 'TN', 'TX', 'UT',\n",
       "       'VT', 'VA', 'WA', 'WV', 'WI', 'WY'], dtype=object)"
      ]
     },
     "execution_count": 118,
     "metadata": {},
     "output_type": "execute_result"
    }
   ],
   "source": [
    "states_info['ShortName'].unique()"
   ]
  },
  {
   "cell_type": "code",
   "execution_count": 120,
   "metadata": {
    "ExecuteTime": {
     "end_time": "2019-09-25T16:31:46.154469Z",
     "start_time": "2019-09-25T16:31:46.128907Z"
    }
   },
   "outputs": [
    {
     "data": {
      "text/html": [
       "<div>\n",
       "<style scoped>\n",
       "    .dataframe tbody tr th:only-of-type {\n",
       "        vertical-align: middle;\n",
       "    }\n",
       "\n",
       "    .dataframe tbody tr th {\n",
       "        vertical-align: top;\n",
       "    }\n",
       "\n",
       "    .dataframe thead th {\n",
       "        text-align: right;\n",
       "    }\n",
       "</style>\n",
       "<table border=\"1\" class=\"dataframe\">\n",
       "  <thead>\n",
       "    <tr style=\"text-align: right;\">\n",
       "      <th></th>\n",
       "      <th>Museum ID</th>\n",
       "      <th>Museum Name</th>\n",
       "      <th>Museum Type</th>\n",
       "      <th>City (Administrative Location)</th>\n",
       "      <th>State (Administrative Location)</th>\n",
       "      <th>Tax Period</th>\n",
       "      <th>Income</th>\n",
       "      <th>Revenue</th>\n",
       "      <th>log_Revenue</th>\n",
       "    </tr>\n",
       "  </thead>\n",
       "  <tbody>\n",
       "    <tr>\n",
       "      <th>0</th>\n",
       "      <td>8400200098</td>\n",
       "      <td>ALASKA AVIATION HERITAGE MUSEUM</td>\n",
       "      <td>HISTORY MUSEUM</td>\n",
       "      <td>ANCHORAGE</td>\n",
       "      <td>AK</td>\n",
       "      <td>2013-12-01</td>\n",
       "      <td>602912.0</td>\n",
       "      <td>550236.0</td>\n",
       "      <td>5.740549</td>\n",
       "    </tr>\n",
       "  </tbody>\n",
       "</table>\n",
       "</div>"
      ],
      "text/plain": [
       "    Museum ID                      Museum Name     Museum Type  \\\n",
       "0  8400200098  ALASKA AVIATION HERITAGE MUSEUM  HISTORY MUSEUM   \n",
       "\n",
       "  City (Administrative Location) State (Administrative Location) Tax Period  \\\n",
       "0                      ANCHORAGE                              AK 2013-12-01   \n",
       "\n",
       "     Income   Revenue  log_Revenue  \n",
       "0  602912.0  550236.0     5.740549  "
      ]
     },
     "execution_count": 120,
     "metadata": {},
     "output_type": "execute_result"
    }
   ],
   "source": [
    "museums.head(1)"
   ]
  },
  {
   "cell_type": "code",
   "execution_count": 121,
   "metadata": {
    "ExecuteTime": {
     "end_time": "2019-09-25T16:31:57.540976Z",
     "start_time": "2019-09-25T16:31:57.523591Z"
    }
   },
   "outputs": [
    {
     "data": {
      "text/html": [
       "<div>\n",
       "<style scoped>\n",
       "    .dataframe tbody tr th:only-of-type {\n",
       "        vertical-align: middle;\n",
       "    }\n",
       "\n",
       "    .dataframe tbody tr th {\n",
       "        vertical-align: top;\n",
       "    }\n",
       "\n",
       "    .dataframe thead th {\n",
       "        text-align: right;\n",
       "    }\n",
       "</style>\n",
       "<table border=\"1\" class=\"dataframe\">\n",
       "  <thead>\n",
       "    <tr style=\"text-align: right;\">\n",
       "      <th></th>\n",
       "      <th>State</th>\n",
       "      <th>ShortName</th>\n",
       "      <th>Capital</th>\n",
       "    </tr>\n",
       "  </thead>\n",
       "  <tbody>\n",
       "    <tr>\n",
       "      <th>0</th>\n",
       "      <td>Alabama (Алабама)</td>\n",
       "      <td>AL</td>\n",
       "      <td>Montgomery</td>\n",
       "    </tr>\n",
       "  </tbody>\n",
       "</table>\n",
       "</div>"
      ],
      "text/plain": [
       "               State ShortName     Capital\n",
       "0  Alabama (Алабама)        AL  Montgomery"
      ]
     },
     "execution_count": 121,
     "metadata": {},
     "output_type": "execute_result"
    }
   ],
   "source": [
    "states_info.head(1)"
   ]
  },
  {
   "cell_type": "code",
   "execution_count": 122,
   "metadata": {
    "ExecuteTime": {
     "end_time": "2019-09-25T16:33:12.954831Z",
     "start_time": "2019-09-25T16:33:12.903722Z"
    },
    "code_folding": []
   },
   "outputs": [
    {
     "name": "stdout",
     "output_type": "stream",
     "text": [
      "(33072, 9)\n",
      "(33072, 12)\n",
      "(190, 12)\n"
     ]
    }
   ],
   "source": [
    "# left join\n",
    "\n",
    "merged = (\n",
    "    museums\n",
    "    .merge(\n",
    "        states_info, \n",
    "        left_on='State (Administrative Location)',\n",
    "        right_on='ShortName',\n",
    "        how='left'\n",
    "    )\n",
    ")\n",
    "\n",
    "print (museums.shape)\n",
    "print (merged.shape)\n",
    "print (merged[merged.ShortName.isnull()].shape)"
   ]
  },
  {
   "cell_type": "code",
   "execution_count": 123,
   "metadata": {
    "ExecuteTime": {
     "end_time": "2019-09-25T16:33:42.485734Z",
     "start_time": "2019-09-25T16:33:42.460837Z"
    }
   },
   "outputs": [
    {
     "data": {
      "text/html": [
       "<div>\n",
       "<style scoped>\n",
       "    .dataframe tbody tr th:only-of-type {\n",
       "        vertical-align: middle;\n",
       "    }\n",
       "\n",
       "    .dataframe tbody tr th {\n",
       "        vertical-align: top;\n",
       "    }\n",
       "\n",
       "    .dataframe thead th {\n",
       "        text-align: right;\n",
       "    }\n",
       "</style>\n",
       "<table border=\"1\" class=\"dataframe\">\n",
       "  <thead>\n",
       "    <tr style=\"text-align: right;\">\n",
       "      <th></th>\n",
       "      <th>Museum ID</th>\n",
       "      <th>Museum Name</th>\n",
       "      <th>Museum Type</th>\n",
       "      <th>City (Administrative Location)</th>\n",
       "      <th>State (Administrative Location)</th>\n",
       "      <th>Tax Period</th>\n",
       "      <th>Income</th>\n",
       "      <th>Revenue</th>\n",
       "      <th>log_Revenue</th>\n",
       "      <th>State</th>\n",
       "      <th>ShortName</th>\n",
       "      <th>Capital</th>\n",
       "    </tr>\n",
       "  </thead>\n",
       "  <tbody>\n",
       "    <tr>\n",
       "      <th>0</th>\n",
       "      <td>8400200098</td>\n",
       "      <td>ALASKA AVIATION HERITAGE MUSEUM</td>\n",
       "      <td>HISTORY MUSEUM</td>\n",
       "      <td>ANCHORAGE</td>\n",
       "      <td>AK</td>\n",
       "      <td>2013-12-01</td>\n",
       "      <td>602912.0</td>\n",
       "      <td>550236.0</td>\n",
       "      <td>5.740549</td>\n",
       "      <td>Alaska (Аляска)</td>\n",
       "      <td>AK</td>\n",
       "      <td>Juneau</td>\n",
       "    </tr>\n",
       "  </tbody>\n",
       "</table>\n",
       "</div>"
      ],
      "text/plain": [
       "    Museum ID                      Museum Name     Museum Type  \\\n",
       "0  8400200098  ALASKA AVIATION HERITAGE MUSEUM  HISTORY MUSEUM   \n",
       "\n",
       "  City (Administrative Location) State (Administrative Location) Tax Period  \\\n",
       "0                      ANCHORAGE                              AK 2013-12-01   \n",
       "\n",
       "     Income   Revenue  log_Revenue            State ShortName Capital  \n",
       "0  602912.0  550236.0     5.740549  Alaska (Аляска)        AK  Juneau  "
      ]
     },
     "execution_count": 123,
     "metadata": {},
     "output_type": "execute_result"
    }
   ],
   "source": [
    "merged.head(1)"
   ]
  },
  {
   "cell_type": "code",
   "execution_count": 124,
   "metadata": {
    "ExecuteTime": {
     "end_time": "2019-09-25T16:34:00.853002Z",
     "start_time": "2019-09-25T16:34:00.808231Z"
    },
    "code_folding": []
   },
   "outputs": [
    {
     "name": "stdout",
     "output_type": "stream",
     "text": [
      "(33072, 9)\n",
      "(32882, 12)\n",
      "(0, 12)\n"
     ]
    }
   ],
   "source": [
    "# inner join\n",
    "\n",
    "merged = (\n",
    "    museums\n",
    "    .merge(\n",
    "        states_info, \n",
    "        left_on='State (Administrative Location)',\n",
    "        right_on='ShortName',\n",
    "        how='inner'\n",
    "    )\n",
    ")\n",
    "\n",
    "print (museums.shape)\n",
    "print (merged.shape)\n",
    "print (merged[merged.ShortName.isnull()].shape)"
   ]
  },
  {
   "cell_type": "code",
   "execution_count": 125,
   "metadata": {
    "ExecuteTime": {
     "end_time": "2019-09-25T16:35:54.538307Z",
     "start_time": "2019-09-25T16:35:54.512074Z"
    }
   },
   "outputs": [
    {
     "data": {
      "text/html": [
       "<div>\n",
       "<style scoped>\n",
       "    .dataframe tbody tr th:only-of-type {\n",
       "        vertical-align: middle;\n",
       "    }\n",
       "\n",
       "    .dataframe tbody tr th {\n",
       "        vertical-align: top;\n",
       "    }\n",
       "\n",
       "    .dataframe thead th {\n",
       "        text-align: right;\n",
       "    }\n",
       "</style>\n",
       "<table border=\"1\" class=\"dataframe\">\n",
       "  <thead>\n",
       "    <tr style=\"text-align: right;\">\n",
       "      <th></th>\n",
       "      <th>Museum ID</th>\n",
       "      <th>Museum Name</th>\n",
       "      <th>Museum Type</th>\n",
       "      <th>City (Administrative Location)</th>\n",
       "      <th>State (Administrative Location)</th>\n",
       "      <th>Tax Period</th>\n",
       "      <th>Income</th>\n",
       "      <th>Revenue</th>\n",
       "      <th>log_Revenue</th>\n",
       "      <th>State</th>\n",
       "      <th>ShortName</th>\n",
       "      <th>Capital</th>\n",
       "    </tr>\n",
       "  </thead>\n",
       "  <tbody>\n",
       "    <tr>\n",
       "      <th>0</th>\n",
       "      <td>8400200098</td>\n",
       "      <td>ALASKA AVIATION HERITAGE MUSEUM</td>\n",
       "      <td>HISTORY MUSEUM</td>\n",
       "      <td>ANCHORAGE</td>\n",
       "      <td>AK</td>\n",
       "      <td>2013-12-01</td>\n",
       "      <td>602912.0</td>\n",
       "      <td>550236.0</td>\n",
       "      <td>5.740549</td>\n",
       "      <td>Alaska (Аляска)</td>\n",
       "      <td>AK</td>\n",
       "      <td>Juneau</td>\n",
       "    </tr>\n",
       "    <tr>\n",
       "      <th>1</th>\n",
       "      <td>8400200117</td>\n",
       "      <td>ALASKA BOTANICAL GARDEN</td>\n",
       "      <td>ARBORETUM, BOTANICAL GARDEN, OR NATURE CENTER</td>\n",
       "      <td>ANCHORAGE</td>\n",
       "      <td>AK</td>\n",
       "      <td>2013-12-01</td>\n",
       "      <td>1379576.0</td>\n",
       "      <td>1323742.0</td>\n",
       "      <td>6.121803</td>\n",
       "      <td>Alaska (Аляска)</td>\n",
       "      <td>AK</td>\n",
       "      <td>Juneau</td>\n",
       "    </tr>\n",
       "  </tbody>\n",
       "</table>\n",
       "</div>"
      ],
      "text/plain": [
       "    Museum ID                      Museum Name  \\\n",
       "0  8400200098  ALASKA AVIATION HERITAGE MUSEUM   \n",
       "1  8400200117          ALASKA BOTANICAL GARDEN   \n",
       "\n",
       "                                     Museum Type  \\\n",
       "0                                 HISTORY MUSEUM   \n",
       "1  ARBORETUM, BOTANICAL GARDEN, OR NATURE CENTER   \n",
       "\n",
       "  City (Administrative Location) State (Administrative Location) Tax Period  \\\n",
       "0                      ANCHORAGE                              AK 2013-12-01   \n",
       "1                      ANCHORAGE                              AK 2013-12-01   \n",
       "\n",
       "      Income    Revenue  log_Revenue            State ShortName Capital  \n",
       "0   602912.0   550236.0     5.740549  Alaska (Аляска)        AK  Juneau  \n",
       "1  1379576.0  1323742.0     6.121803  Alaska (Аляска)        AK  Juneau  "
      ]
     },
     "execution_count": 125,
     "metadata": {},
     "output_type": "execute_result"
    }
   ],
   "source": [
    "merged.head(2)"
   ]
  },
  {
   "cell_type": "code",
   "execution_count": 126,
   "metadata": {
    "ExecuteTime": {
     "end_time": "2019-09-25T16:38:26.505851Z",
     "start_time": "2019-09-25T16:38:26.494048Z"
    }
   },
   "outputs": [],
   "source": [
    "df1 = pd.DataFrame({\n",
    "    'x': [1, 2, 3],\n",
    "    'y': [0, 0, 0]\n",
    "})\n",
    "\n",
    "df2 = pd.DataFrame({\n",
    "    'x': [1, 2, 3]\n",
    "#     'y': [0, 0, 0]\n",
    "})"
   ]
  }
 ],
 "metadata": {
  "kernelspec": {
   "display_name": "Python 3",
   "language": "python",
   "name": "python3"
  },
  "language_info": {
   "codemirror_mode": {
    "name": "ipython",
    "version": 3
   },
   "file_extension": ".py",
   "mimetype": "text/x-python",
   "name": "python",
   "nbconvert_exporter": "python",
   "pygments_lexer": "ipython3",
   "version": "3.7.3"
  },
  "toc": {
   "base_numbering": 1,
   "nav_menu": {},
   "number_sections": true,
   "sideBar": true,
   "skip_h1_title": true,
   "title_cell": "План лекции",
   "title_sidebar": "Contents",
   "toc_cell": true,
   "toc_position": {
    "height": "calc(100% - 180px)",
    "left": "10px",
    "top": "150px",
    "width": "258.3984375px"
   },
   "toc_section_display": true,
   "toc_window_display": false
  }
 },
 "nbformat": 4,
 "nbformat_minor": 2
}
