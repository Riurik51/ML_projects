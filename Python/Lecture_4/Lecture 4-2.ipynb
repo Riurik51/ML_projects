{
 "cells": [
  {
   "cell_type": "markdown",
   "metadata": {},
   "source": [
    "\n",
    "# Добрый вечерочек!"
   ]
  },
  {
   "cell_type": "markdown",
   "metadata": {
    "toc": true
   },
   "source": [
    "<h1>План Лекции<span class=\"tocSkip\"></span></h1>\n",
    "<div class=\"toc\"><ul class=\"toc-item\"><li><span><a href=\"#Функции-в-Питоне\" data-toc-modified-id=\"Функции-в-Питоне-1\"><span class=\"toc-item-num\">1&nbsp;&nbsp;</span>Функции в Питоне</a></span><ul class=\"toc-item\"><li><span><a href=\"#Объявление-функции\" data-toc-modified-id=\"Объявление-функции-1.1\"><span class=\"toc-item-num\">1.1&nbsp;&nbsp;</span>Объявление функции</a></span></li><li><span><a href=\"#Глобальные-и-локальные-переменные\" data-toc-modified-id=\"Глобальные-и-локальные-переменные-1.2\"><span class=\"toc-item-num\">1.2&nbsp;&nbsp;</span>Глобальные и локальные переменные</a></span></li><li><span><a href=\"#Передача-аргументов\" data-toc-modified-id=\"Передача-аргументов-1.3\"><span class=\"toc-item-num\">1.3&nbsp;&nbsp;</span>Передача аргументов</a></span></li><li><span><a href=\"#Типы-аргументов\" data-toc-modified-id=\"Типы-аргументов-1.4\"><span class=\"toc-item-num\">1.4&nbsp;&nbsp;</span>Типы аргументов</a></span><ul class=\"toc-item\"><li><span><a href=\"#Обязательные\" data-toc-modified-id=\"Обязательные-1.4.1\"><span class=\"toc-item-num\">1.4.1&nbsp;&nbsp;</span>Обязательные</a></span></li><li><span><a href=\"#Аргументы-с-дефолтным-значением\" data-toc-modified-id=\"Аргументы-с-дефолтным-значением-1.4.2\"><span class=\"toc-item-num\">1.4.2&nbsp;&nbsp;</span>Аргументы с дефолтным значением</a></span></li><li><span><a href=\"#Аргументы-с-переменной-длиной\" data-toc-modified-id=\"Аргументы-с-переменной-длиной-1.4.3\"><span class=\"toc-item-num\">1.4.3&nbsp;&nbsp;</span>Аргументы с переменной длиной</a></span></li></ul></li><li><span><a href=\"#Рекурсивные-функции\" data-toc-modified-id=\"Рекурсивные-функции-1.5\"><span class=\"toc-item-num\">1.5&nbsp;&nbsp;</span>Рекурсивные функции</a></span></li></ul></li><li><span><a href=\"#Работа-с-файлами/папками\" data-toc-modified-id=\"Работа-с-файлами/папками-2\"><span class=\"toc-item-num\">2&nbsp;&nbsp;</span>Работа с файлами/папками</a></span><ul class=\"toc-item\"><li><span><a href=\"#Чтение/запись-в-файл\" data-toc-modified-id=\"Чтение/запись-в-файл-2.1\"><span class=\"toc-item-num\">2.1&nbsp;&nbsp;</span>Чтение/запись в файл</a></span><ul class=\"toc-item\"><li><span><a href=\"#Контекстный-оператор-with\" data-toc-modified-id=\"Контекстный-оператор-with-2.1.1\"><span class=\"toc-item-num\">2.1.1&nbsp;&nbsp;</span>Контекстный оператор with</a></span></li></ul></li><li><span><a href=\"#Работа-с-директориями\" data-toc-modified-id=\"Работа-с-директориями-2.2\"><span class=\"toc-item-num\">2.2&nbsp;&nbsp;</span>Работа с директориями</a></span></li></ul></li></ul></div>"
   ]
  },
  {
   "cell_type": "markdown",
   "metadata": {
    "ExecuteTime": {
     "end_time": "2019-10-07T16:07:54.767993Z",
     "start_time": "2019-10-07T16:07:54.762368Z"
    }
   },
   "source": [
    "## Функции в Питоне "
   ]
  },
  {
   "cell_type": "markdown",
   "metadata": {},
   "source": [
    "Функции нужны для того, чтобы писать многократно используемый код, что обеспечивает читабельность и модулярность кода.\n",
    "\n",
    "Вы уже сталкивались с функциями, когда, например, использовали print."
   ]
  },
  {
   "cell_type": "markdown",
   "metadata": {},
   "source": [
    "### Объявление функции"
   ]
  },
  {
   "cell_type": "markdown",
   "metadata": {},
   "source": [
    "Напишем функцию, которая печатает полученные на вход параметры."
   ]
  },
  {
   "cell_type": "code",
   "execution_count": 1,
   "metadata": {
    "ExecuteTime": {
     "end_time": "2019-10-09T15:08:42.805513Z",
     "start_time": "2019-10-09T15:08:42.783729Z"
    },
    "code_folding": []
   },
   "outputs": [],
   "source": [
    "# определяем функцию тут\n",
    "\n",
    "def print_function(x, y):\n",
    "    print (\"x is\", x)\n",
    "    print (\"y is\", y)"
   ]
  },
  {
   "cell_type": "markdown",
   "metadata": {},
   "source": [
    "Вызываем функцию!"
   ]
  },
  {
   "cell_type": "code",
   "execution_count": 2,
   "metadata": {
    "ExecuteTime": {
     "end_time": "2019-10-09T15:08:46.478645Z",
     "start_time": "2019-10-09T15:08:46.468953Z"
    },
    "code_folding": [],
    "scrolled": true
   },
   "outputs": [
    {
     "name": "stdout",
     "output_type": "stream",
     "text": [
      "x is 100\n",
      "y is 10\n"
     ]
    }
   ],
   "source": [
    "# вызываем функцию\n",
    "\n",
    "print_function(100, 10)"
   ]
  },
  {
   "cell_type": "markdown",
   "metadata": {},
   "source": [
    "Функция может возвращать некоторый результат, для этого используется **return**:"
   ]
  },
  {
   "cell_type": "code",
   "execution_count": 3,
   "metadata": {
    "ExecuteTime": {
     "end_time": "2019-10-09T15:09:48.734186Z",
     "start_time": "2019-10-09T15:09:48.727286Z"
    },
    "code_folding": []
   },
   "outputs": [],
   "source": [
    "# определяем функцию тут\n",
    "\n",
    "def print_and_sum_function(x, y):\n",
    "    print (\"x is\", x)\n",
    "    print (\"y is\", y)\n",
    "    \n",
    "    return x+y"
   ]
  },
  {
   "cell_type": "code",
   "execution_count": 4,
   "metadata": {
    "ExecuteTime": {
     "end_time": "2019-10-09T15:09:56.608856Z",
     "start_time": "2019-10-09T15:09:56.599369Z"
    },
    "code_folding": []
   },
   "outputs": [
    {
     "name": "stdout",
     "output_type": "stream",
     "text": [
      "x is 100\n",
      "y is 10\n",
      "z is 110\n"
     ]
    }
   ],
   "source": [
    "# тестируем функцию\n",
    "\n",
    "z = print_and_sum_function(100, 10)\n",
    "\n",
    "print (\"z is\", z)"
   ]
  },
  {
   "cell_type": "markdown",
   "metadata": {},
   "source": [
    "### Глобальные и локальные переменные "
   ]
  },
  {
   "cell_type": "markdown",
   "metadata": {
    "ExecuteTime": {
     "end_time": "2019-10-07T16:42:05.285023Z",
     "start_time": "2019-10-07T16:42:05.275938Z"
    }
   },
   "source": [
    "Глобальные параметры определяются вне функции, а локальные существуют только в конкретной функции."
   ]
  },
  {
   "cell_type": "markdown",
   "metadata": {},
   "source": [
    "Глобальные параметры доступны внутри функций:"
   ]
  },
  {
   "cell_type": "code",
   "execution_count": 5,
   "metadata": {
    "ExecuteTime": {
     "end_time": "2019-10-09T15:11:08.032969Z",
     "start_time": "2019-10-09T15:11:08.019612Z"
    },
    "code_folding": []
   },
   "outputs": [
    {
     "name": "stdout",
     "output_type": "stream",
     "text": [
      "Вне функции: 0 94184977523712\n",
      "\n",
      "Внутри функции: 0 94184977523712\n",
      "\n"
     ]
    }
   ],
   "source": [
    "global_variable = 0\n",
    "\n",
    "def change_variable_function():\n",
    "    print (\"Внутри функции:\", global_variable, id(global_variable))\n",
    "    \n",
    "    print()\n",
    "    \n",
    "print (\"Вне функции:\", global_variable, id(global_variable))\n",
    "print()\n",
    "\n",
    "change_variable_function()"
   ]
  },
  {
   "cell_type": "markdown",
   "metadata": {},
   "source": [
    "Все объявление переменных в функции считаются \"локальными\": "
   ]
  },
  {
   "cell_type": "code",
   "execution_count": 6,
   "metadata": {
    "ExecuteTime": {
     "end_time": "2019-10-09T15:12:13.781660Z",
     "start_time": "2019-10-09T15:12:13.497499Z"
    },
    "code_folding": [],
    "scrolled": true
   },
   "outputs": [
    {
     "name": "stdout",
     "output_type": "stream",
     "text": [
      "Вне функции: 1000 139977359881776\n",
      "\n"
     ]
    },
    {
     "ename": "UnboundLocalError",
     "evalue": "local variable 'global_variable' referenced before assignment",
     "output_type": "error",
     "traceback": [
      "\u001b[0;31m---------------------------------------------------------------------------\u001b[0m",
      "\u001b[0;31mUnboundLocalError\u001b[0m                         Traceback (most recent call last)",
      "\u001b[0;32m<ipython-input-6-716516de08cd>\u001b[0m in \u001b[0;36m<module>\u001b[0;34m\u001b[0m\n\u001b[1;32m     13\u001b[0m \u001b[0mprint\u001b[0m\u001b[0;34m(\u001b[0m\u001b[0;34m)\u001b[0m\u001b[0;34m\u001b[0m\u001b[0;34m\u001b[0m\u001b[0m\n\u001b[1;32m     14\u001b[0m \u001b[0;34m\u001b[0m\u001b[0m\n\u001b[0;32m---> 15\u001b[0;31m \u001b[0mchange_variable_function\u001b[0m\u001b[0;34m(\u001b[0m\u001b[0;34m)\u001b[0m\u001b[0;34m\u001b[0m\u001b[0;34m\u001b[0m\u001b[0m\n\u001b[0m\u001b[1;32m     16\u001b[0m \u001b[0;34m\u001b[0m\u001b[0m\n\u001b[1;32m     17\u001b[0m \u001b[0mprint\u001b[0m \u001b[0;34m(\u001b[0m\u001b[0;34m\"После функции:\"\u001b[0m\u001b[0;34m,\u001b[0m \u001b[0mglobal_variable\u001b[0m\u001b[0;34m,\u001b[0m \u001b[0mid\u001b[0m\u001b[0;34m(\u001b[0m\u001b[0mglobal_variable\u001b[0m\u001b[0;34m)\u001b[0m\u001b[0;34m)\u001b[0m\u001b[0;34m\u001b[0m\u001b[0;34m\u001b[0m\u001b[0m\n",
      "\u001b[0;32m<ipython-input-6-716516de08cd>\u001b[0m in \u001b[0;36mchange_variable_function\u001b[0;34m()\u001b[0m\n\u001b[1;32m      2\u001b[0m \u001b[0;34m\u001b[0m\u001b[0m\n\u001b[1;32m      3\u001b[0m \u001b[0;32mdef\u001b[0m \u001b[0mchange_variable_function\u001b[0m\u001b[0;34m(\u001b[0m\u001b[0;34m)\u001b[0m\u001b[0;34m:\u001b[0m\u001b[0;34m\u001b[0m\u001b[0;34m\u001b[0m\u001b[0m\n\u001b[0;32m----> 4\u001b[0;31m     \u001b[0mprint\u001b[0m \u001b[0;34m(\u001b[0m\u001b[0;34m\"Внутри функции до изменения:\"\u001b[0m\u001b[0;34m,\u001b[0m \u001b[0mglobal_variable\u001b[0m\u001b[0;34m,\u001b[0m \u001b[0mid\u001b[0m\u001b[0;34m(\u001b[0m\u001b[0mglobal_variable\u001b[0m\u001b[0;34m)\u001b[0m\u001b[0;34m)\u001b[0m\u001b[0;34m\u001b[0m\u001b[0;34m\u001b[0m\u001b[0m\n\u001b[0m\u001b[1;32m      5\u001b[0m     \u001b[0mprint\u001b[0m\u001b[0;34m(\u001b[0m\u001b[0;34m)\u001b[0m\u001b[0;34m\u001b[0m\u001b[0;34m\u001b[0m\u001b[0m\n\u001b[1;32m      6\u001b[0m \u001b[0;34m\u001b[0m\u001b[0m\n",
      "\u001b[0;31mUnboundLocalError\u001b[0m: local variable 'global_variable' referenced before assignment"
     ]
    }
   ],
   "source": [
    "global_variable = 1000\n",
    "\n",
    "def change_variable_function():\n",
    "    print (\"Внутри функции до изменения:\", global_variable, id(global_variable))\n",
    "    print()\n",
    "    \n",
    "    global_variable = 0\n",
    "    \n",
    "    print (\"Внутри функции после изменения:\",global_variable, id(global_variable))\n",
    "    print()\n",
    "    \n",
    "print (\"Вне функции:\", global_variable, id(global_variable))\n",
    "print()\n",
    "\n",
    "change_variable_function()\n",
    "\n",
    "print (\"После функции:\", global_variable, id(global_variable))"
   ]
  },
  {
   "cell_type": "markdown",
   "metadata": {
    "ExecuteTime": {
     "end_time": "2019-10-07T16:56:11.730110Z",
     "start_time": "2019-10-07T16:56:11.721786Z"
    }
   },
   "source": [
    "Чтобы сказать Python, что мы хотим менять глобальную переменную, можно использовать **global**:"
   ]
  },
  {
   "cell_type": "code",
   "execution_count": 7,
   "metadata": {
    "ExecuteTime": {
     "end_time": "2019-10-09T15:14:17.745913Z",
     "start_time": "2019-10-09T15:14:17.729624Z"
    },
    "code_folding": []
   },
   "outputs": [
    {
     "name": "stdout",
     "output_type": "stream",
     "text": [
      "Вне функции: 0 94184977523712\n",
      "\n",
      "Внутри функции до изменения: 0 94184977523712\n",
      "\n",
      "Внутри функции после изменения: 1000 139977359881360\n",
      "\n",
      "После функции: 1000 139977359881360\n"
     ]
    }
   ],
   "source": [
    "global_variable = 0\n",
    "\n",
    "def change_variable_function():\n",
    "    global global_variable\n",
    "    \n",
    "    print (\"Внутри функции до изменения:\", global_variable, id(global_variable))\n",
    "    print()\n",
    "    \n",
    "    global_variable = 1000\n",
    "    \n",
    "    print (\"Внутри функции после изменения:\",global_variable, id(global_variable))\n",
    "    print()\n",
    "    \n",
    "print (\"Вне функции:\", global_variable, id(global_variable))\n",
    "print()\n",
    "\n",
    "change_variable_function()\n",
    "\n",
    "print (\"После функции:\", global_variable, id(global_variable))"
   ]
  },
  {
   "cell_type": "markdown",
   "metadata": {},
   "source": [
    "### Передача аргументов"
   ]
  },
  {
   "cell_type": "markdown",
   "metadata": {
    "ExecuteTime": {
     "end_time": "2019-10-07T16:30:40.099130Z",
     "start_time": "2019-10-07T16:30:40.090099Z"
    }
   },
   "source": [
    "Как вам известно, аргументы в функцию могут передаваться либо по значению, либо по ссылке (т.е. ссылка на участок в памяти):\n",
    "\n",
    "В Питоне все аргументы передаются по ссылке."
   ]
  },
  {
   "cell_type": "code",
   "execution_count": 12,
   "metadata": {
    "ExecuteTime": {
     "end_time": "2019-10-09T15:22:52.212824Z",
     "start_time": "2019-10-09T15:22:52.196838Z"
    },
    "code_folding": []
   },
   "outputs": [
    {
     "name": "stdout",
     "output_type": "stream",
     "text": [
      "id вне функции до вызова:  94184977523712\n",
      "значение вне функции до вызова:  0\n",
      "\n",
      "id внутри функции до изменения:  94184977523712\n",
      "значение внутри функции до изменения:  0\n",
      "\n",
      "id внутри функции после изменения:  139977355535056\n",
      "значение внутри функции после изменения:  2000\n",
      "\n",
      "id вне функции после вызова:  94184977523712\n",
      "значение вне функции после вызова:  0\n"
     ]
    }
   ],
   "source": [
    "# определим тестовую функцию\n",
    "\n",
    "def test_immutable_change(x):\n",
    "    print (\"id внутри функции до изменения: \", id(x))\n",
    "    print (\"значение внутри функции до изменения: \", x)\n",
    "    print ()\n",
    "    \n",
    "    x = 2000\n",
    "    \n",
    "    print (\"id внутри функции после изменения: \", id(x))\n",
    "    print (\"значение внутри функции после изменения: \", x)\n",
    "    \n",
    "    return x\n",
    "\n",
    "\n",
    "# проверим ее\n",
    "\n",
    "y = 0\n",
    "\n",
    "print (\"id вне функции до вызова: \", id(y))\n",
    "print (\"значение вне функции до вызова: \", y)\n",
    "print ()\n",
    "\n",
    "test_immutable_change(y)\n",
    "\n",
    "print ()\n",
    "print (\"id вне функции после вызова: \", id(y))\n",
    "print (\"значение вне функции после вызова: \", y)"
   ]
  },
  {
   "cell_type": "markdown",
   "metadata": {},
   "source": [
    "Однако, когда вы передаете mutable типы, то могут возникать так называемые \"побочные эффекты\":"
   ]
  },
  {
   "cell_type": "code",
   "execution_count": 13,
   "metadata": {
    "ExecuteTime": {
     "end_time": "2019-10-09T15:25:06.526977Z",
     "start_time": "2019-10-09T15:25:06.510116Z"
    },
    "code_folding": []
   },
   "outputs": [
    {
     "name": "stdout",
     "output_type": "stream",
     "text": [
      "id вне функции до вызова:  139977355533128\n",
      "значение вне функции до вызова:  [1, 2, 3, 4]\n",
      "\n",
      "id внутри функции до изменения:  139977355533128\n",
      "значение внутри функции до изменения:  [1, 2, 3, 4]\n",
      "\n",
      "id внутри функции после изменения:  139977355533128\n",
      "значение внутри функции после изменения:  [2000, 2, 3, 4]\n",
      "\n",
      "id вне функции после вызова:  139977355533128\n",
      "значение вне функции после вызова:  [2000, 2, 3, 4]\n"
     ]
    }
   ],
   "source": [
    "# определим тестовую функцию\n",
    "\n",
    "def test_mutable_change(x):\n",
    "    print (\"id внутри функции до изменения: \", id(x))\n",
    "    print (\"значение внутри функции до изменения: \", x)\n",
    "    print ()\n",
    "    \n",
    "    x[0] = 2000\n",
    "    \n",
    "    print (\"id внутри функции после изменения: \", id(x))\n",
    "    print (\"значение внутри функции после изменения: \", x)\n",
    "    \n",
    "    return x\n",
    "\n",
    "\n",
    "# проверим ее\n",
    "\n",
    "y = [1, 2, 3, 4]\n",
    "\n",
    "print (\"id вне функции до вызова: \", id(y))\n",
    "print (\"значение вне функции до вызова: \", y)\n",
    "print ()\n",
    "\n",
    "test_mutable_change(y)\n",
    "\n",
    "print ()\n",
    "print (\"id вне функции после вызова: \", id(y))\n",
    "print (\"значение вне функции после вызова: \", y)"
   ]
  },
  {
   "cell_type": "markdown",
   "metadata": {},
   "source": [
    "### Типы аргументов"
   ]
  },
  {
   "cell_type": "markdown",
   "metadata": {},
   "source": [
    "#### Обязательные"
   ]
  },
  {
   "cell_type": "markdown",
   "metadata": {},
   "source": [
    "Те аргументы, котрые обязательно передаются в функцию в определенном порядке"
   ]
  },
  {
   "cell_type": "code",
   "execution_count": 14,
   "metadata": {
    "ExecuteTime": {
     "end_time": "2019-10-09T15:31:09.207041Z",
     "start_time": "2019-10-09T15:31:09.202965Z"
    },
    "code_folding": []
   },
   "outputs": [],
   "source": [
    "def print_function(x, y, z):\n",
    "    print (\"x is\", x)\n",
    "    print (\"y is\", y)\n",
    "    print (\"z is\", z)"
   ]
  },
  {
   "cell_type": "code",
   "execution_count": 15,
   "metadata": {
    "ExecuteTime": {
     "end_time": "2019-10-09T15:31:18.553213Z",
     "start_time": "2019-10-09T15:31:18.544245Z"
    }
   },
   "outputs": [
    {
     "name": "stdout",
     "output_type": "stream",
     "text": [
      "x is 1\n",
      "y is 10\n",
      "z is 100\n"
     ]
    }
   ],
   "source": [
    "print_function(1, 10, 100)"
   ]
  },
  {
   "cell_type": "markdown",
   "metadata": {},
   "source": [
    "Мы не можем передать меньше аргументов:"
   ]
  },
  {
   "cell_type": "code",
   "execution_count": 16,
   "metadata": {
    "ExecuteTime": {
     "end_time": "2019-10-09T15:31:34.880914Z",
     "start_time": "2019-10-09T15:31:34.864966Z"
    }
   },
   "outputs": [
    {
     "ename": "TypeError",
     "evalue": "print_function() missing 2 required positional arguments: 'y' and 'z'",
     "output_type": "error",
     "traceback": [
      "\u001b[0;31m---------------------------------------------------------------------------\u001b[0m",
      "\u001b[0;31mTypeError\u001b[0m                                 Traceback (most recent call last)",
      "\u001b[0;32m<ipython-input-16-a7b0489a7b11>\u001b[0m in \u001b[0;36m<module>\u001b[0;34m\u001b[0m\n\u001b[0;32m----> 1\u001b[0;31m \u001b[0mprint_function\u001b[0m\u001b[0;34m(\u001b[0m\u001b[0mx\u001b[0m\u001b[0;34m)\u001b[0m\u001b[0;34m\u001b[0m\u001b[0;34m\u001b[0m\u001b[0m\n\u001b[0m",
      "\u001b[0;31mTypeError\u001b[0m: print_function() missing 2 required positional arguments: 'y' and 'z'"
     ]
    }
   ],
   "source": [
    "print_function(x)"
   ]
  },
  {
   "cell_type": "markdown",
   "metadata": {},
   "source": [
    "Можно передавать аргументы в любом порядке:"
   ]
  },
  {
   "cell_type": "code",
   "execution_count": 19,
   "metadata": {
    "ExecuteTime": {
     "end_time": "2019-10-09T15:32:38.506989Z",
     "start_time": "2019-10-09T15:32:38.497435Z"
    }
   },
   "outputs": [
    {
     "name": "stdout",
     "output_type": "stream",
     "text": [
      "x is 1\n",
      "y is -1\n",
      "z is 10\n"
     ]
    }
   ],
   "source": [
    "print_function(1, z=10, y=-1)"
   ]
  },
  {
   "cell_type": "markdown",
   "metadata": {},
   "source": [
    "####  Аргументы с дефолтным значением"
   ]
  },
  {
   "cell_type": "markdown",
   "metadata": {},
   "source": [
    "Можно задать дефолтное значение:"
   ]
  },
  {
   "cell_type": "code",
   "execution_count": 23,
   "metadata": {
    "ExecuteTime": {
     "end_time": "2019-10-09T15:34:11.255426Z",
     "start_time": "2019-10-09T15:34:11.249182Z"
    },
    "code_folding": []
   },
   "outputs": [],
   "source": [
    "def print_function(x, y=100, z=100):\n",
    "    print (\"x is\", x)\n",
    "    print (\"y is\", y)"
   ]
  },
  {
   "cell_type": "code",
   "execution_count": 24,
   "metadata": {
    "ExecuteTime": {
     "end_time": "2019-10-09T15:34:12.516050Z",
     "start_time": "2019-10-09T15:34:12.508778Z"
    }
   },
   "outputs": [
    {
     "name": "stdout",
     "output_type": "stream",
     "text": [
      "x is 10\n",
      "y is 100\n"
     ]
    }
   ],
   "source": [
    "print_function(10)"
   ]
  },
  {
   "cell_type": "markdown",
   "metadata": {
    "ExecuteTime": {
     "end_time": "2019-10-07T17:04:26.809431Z",
     "start_time": "2019-10-07T17:04:26.796397Z"
    }
   },
   "source": [
    "#### Аргументы с переменной длиной"
   ]
  },
  {
   "cell_type": "code",
   "execution_count": 25,
   "metadata": {
    "ExecuteTime": {
     "end_time": "2019-10-09T15:34:37.395241Z",
     "start_time": "2019-10-09T15:34:37.388631Z"
    },
    "code_folding": []
   },
   "outputs": [],
   "source": [
    "def length_varying_print_functions(x, y=100, *args):\n",
    "    print (\"x is\", x)\n",
    "    print (\"y is\", y)\n",
    "    print (\"args is\", args)"
   ]
  },
  {
   "cell_type": "code",
   "execution_count": 27,
   "metadata": {
    "ExecuteTime": {
     "end_time": "2019-10-09T15:35:25.001519Z",
     "start_time": "2019-10-09T15:35:24.992303Z"
    }
   },
   "outputs": [
    {
     "name": "stdout",
     "output_type": "stream",
     "text": [
      "x is 10\n",
      "y is 11\n",
      "args is (12, 13)\n"
     ]
    }
   ],
   "source": [
    "length_varying_print_functions(10, 11, 12, 13)"
   ]
  },
  {
   "cell_type": "code",
   "execution_count": 28,
   "metadata": {
    "ExecuteTime": {
     "end_time": "2019-10-09T15:36:15.484093Z",
     "start_time": "2019-10-09T15:36:15.476822Z"
    },
    "code_folding": []
   },
   "outputs": [],
   "source": [
    "def length_varying_kwargs_print_functions(x, y=100, *args, **kwargs):\n",
    "    print (\"x is\", x)\n",
    "    print (\"y is\", y)\n",
    "    print (\"args is\", args)\n",
    "    print (\"kwargs is\", kwargs)"
   ]
  },
  {
   "cell_type": "code",
   "execution_count": 29,
   "metadata": {
    "ExecuteTime": {
     "end_time": "2019-10-09T15:36:17.786861Z",
     "start_time": "2019-10-09T15:36:17.777592Z"
    }
   },
   "outputs": [
    {
     "name": "stdout",
     "output_type": "stream",
     "text": [
      "x is 10\n",
      "y is 11\n",
      "args is (12, 13)\n",
      "kwargs is {}\n"
     ]
    }
   ],
   "source": [
    "length_varying_kwargs_print_functions(10, 11, 12, 13)"
   ]
  },
  {
   "cell_type": "code",
   "execution_count": 30,
   "metadata": {
    "ExecuteTime": {
     "end_time": "2019-10-09T15:36:54.212182Z",
     "start_time": "2019-10-09T15:36:54.202348Z"
    }
   },
   "outputs": [
    {
     "name": "stdout",
     "output_type": "stream",
     "text": [
      "x is 10\n",
      "y is 11\n",
      "args is (12,)\n",
      "kwargs is {'vvv': 13, 'z': 18}\n"
     ]
    }
   ],
   "source": [
    "length_varying_kwargs_print_functions(10, 11, 12, vvv=13, z=18)"
   ]
  },
  {
   "cell_type": "code",
   "execution_count": 31,
   "metadata": {
    "ExecuteTime": {
     "end_time": "2019-10-09T15:37:34.726990Z",
     "start_time": "2019-10-09T15:37:34.705751Z"
    },
    "code_folding": []
   },
   "outputs": [
    {
     "ename": "TypeError",
     "evalue": "length_varying_kwargs_print_functions() takes 0 positional arguments but 3 were given",
     "output_type": "error",
     "traceback": [
      "\u001b[0;31m---------------------------------------------------------------------------\u001b[0m",
      "\u001b[0;31mTypeError\u001b[0m                                 Traceback (most recent call last)",
      "\u001b[0;32m<ipython-input-31-a35f56730fa8>\u001b[0m in \u001b[0;36m<module>\u001b[0;34m\u001b[0m\n\u001b[1;32m      4\u001b[0m     \u001b[0mprint\u001b[0m \u001b[0;34m(\u001b[0m\u001b[0;34m\"kwargs is\"\u001b[0m\u001b[0;34m,\u001b[0m \u001b[0mkwargs\u001b[0m\u001b[0;34m)\u001b[0m\u001b[0;34m\u001b[0m\u001b[0;34m\u001b[0m\u001b[0m\n\u001b[1;32m      5\u001b[0m \u001b[0;34m\u001b[0m\u001b[0m\n\u001b[0;32m----> 6\u001b[0;31m \u001b[0mlength_varying_kwargs_print_functions\u001b[0m\u001b[0;34m(\u001b[0m\u001b[0;36m1\u001b[0m\u001b[0;34m,\u001b[0m \u001b[0;36m2\u001b[0m\u001b[0;34m,\u001b[0m \u001b[0;36m3\u001b[0m\u001b[0;34m)\u001b[0m\u001b[0;34m\u001b[0m\u001b[0;34m\u001b[0m\u001b[0m\n\u001b[0m",
      "\u001b[0;31mTypeError\u001b[0m: length_varying_kwargs_print_functions() takes 0 positional arguments but 3 were given"
     ]
    }
   ],
   "source": [
    "# а вот так нельзя!\n",
    "\n",
    "def length_varying_kwargs_print_functions(**kwargs):\n",
    "    print (\"kwargs is\", kwargs)\n",
    "    \n",
    "length_varying_kwargs_print_functions(1, 2, 3)"
   ]
  },
  {
   "cell_type": "code",
   "execution_count": 36,
   "metadata": {
    "ExecuteTime": {
     "end_time": "2019-10-09T15:39:14.906051Z",
     "start_time": "2019-10-09T15:39:14.899526Z"
    }
   },
   "outputs": [],
   "source": [
    "argsssss = {\n",
    "    'x': 1,\n",
    "    'y': 2\n",
    "}\n",
    "\n",
    "def f(x, y):\n",
    "    print (x, y)"
   ]
  },
  {
   "cell_type": "code",
   "execution_count": 37,
   "metadata": {
    "ExecuteTime": {
     "end_time": "2019-10-09T15:39:15.328522Z",
     "start_time": "2019-10-09T15:39:15.321916Z"
    }
   },
   "outputs": [
    {
     "name": "stdout",
     "output_type": "stream",
     "text": [
      "1 2\n"
     ]
    }
   ],
   "source": [
    "f(**argsssss)"
   ]
  },
  {
   "cell_type": "code",
   "execution_count": 38,
   "metadata": {
    "ExecuteTime": {
     "end_time": "2019-10-09T15:39:16.145123Z",
     "start_time": "2019-10-09T15:39:16.138782Z"
    }
   },
   "outputs": [
    {
     "name": "stdout",
     "output_type": "stream",
     "text": [
      "1 2\n"
     ]
    }
   ],
   "source": [
    "f(\n",
    "    x=1, \n",
    "    y=2\n",
    ")"
   ]
  },
  {
   "cell_type": "code",
   "execution_count": 39,
   "metadata": {
    "ExecuteTime": {
     "end_time": "2019-10-09T15:39:25.507044Z",
     "start_time": "2019-10-09T15:39:25.499428Z"
    }
   },
   "outputs": [
    {
     "name": "stdout",
     "output_type": "stream",
     "text": [
      "1 2\n"
     ]
    }
   ],
   "source": [
    "f(*[1, 2])"
   ]
  },
  {
   "cell_type": "code",
   "execution_count": 40,
   "metadata": {
    "ExecuteTime": {
     "end_time": "2019-10-09T15:40:19.571798Z",
     "start_time": "2019-10-09T15:40:19.564718Z"
    }
   },
   "outputs": [
    {
     "name": "stdout",
     "output_type": "stream",
     "text": [
      "1 2\n"
     ]
    }
   ],
   "source": [
    "f(1, 2)"
   ]
  },
  {
   "cell_type": "markdown",
   "metadata": {},
   "source": [
    "### Рекурсивные функции"
   ]
  },
  {
   "cell_type": "markdown",
   "metadata": {},
   "source": [
    "Функция внутри себя может вызывать другие функции. \n",
    "\n",
    "Важный частный случай - функция внутри себя вызывает **саму себя**."
   ]
  },
  {
   "cell_type": "code",
   "execution_count": 41,
   "metadata": {
    "ExecuteTime": {
     "end_time": "2019-10-09T15:43:36.057057Z",
     "start_time": "2019-10-09T15:43:36.052007Z"
    },
    "code_folding": []
   },
   "outputs": [],
   "source": [
    "# Давайте попробуем написать обычную функцию, которая вычисляет факториал числа\n",
    "\n",
    "\n",
    "def factorial(n):\n",
    "    factorial = 1\n",
    "    \n",
    "    for i in range(1, n+1):\n",
    "        factorial *= i\n",
    "        \n",
    "    return factorial"
   ]
  },
  {
   "cell_type": "code",
   "execution_count": 42,
   "metadata": {
    "ExecuteTime": {
     "end_time": "2019-10-09T15:43:43.984932Z",
     "start_time": "2019-10-09T15:43:43.962620Z"
    }
   },
   "outputs": [
    {
     "data": {
      "text/plain": [
       "24"
      ]
     },
     "execution_count": 42,
     "metadata": {},
     "output_type": "execute_result"
    }
   ],
   "source": [
    "factorial(4)"
   ]
  },
  {
   "cell_type": "markdown",
   "metadata": {
    "ExecuteTime": {
     "end_time": "2019-10-07T18:25:12.588115Z",
     "start_time": "2019-10-07T18:25:12.579529Z"
    }
   },
   "source": [
    "Математически факториал можно написать в виде рекурсивной формулы: \n",
    "\n",
    "factorial(n+1) = factorial(n) * (n+1)"
   ]
  },
  {
   "cell_type": "markdown",
   "metadata": {},
   "source": [
    "Советую начинать с того, чтобы продумывать, когда рекурсия заканчивается (т.е. что должно случиться, чтобы была \"последняя\" итерация):"
   ]
  },
  {
   "cell_type": "code",
   "execution_count": 43,
   "metadata": {
    "ExecuteTime": {
     "end_time": "2019-10-09T15:45:17.570638Z",
     "start_time": "2019-10-09T15:45:17.565586Z"
    },
    "code_folding": []
   },
   "outputs": [],
   "source": [
    "# Давайте попробуем написать рекурсивную функцию, которая вычисляет факториал числа\n",
    "\n",
    "\n",
    "def recursive_factorial(n):\n",
    "    print (\"Вызов функции с n =\", n)\n",
    "    \n",
    "    if n == 0:\n",
    "        return 1\n",
    "    \n",
    "    return n * recursive_factorial(n-1)"
   ]
  },
  {
   "cell_type": "code",
   "execution_count": 44,
   "metadata": {
    "ExecuteTime": {
     "end_time": "2019-10-09T15:45:18.786703Z",
     "start_time": "2019-10-09T15:45:18.775538Z"
    }
   },
   "outputs": [
    {
     "name": "stdout",
     "output_type": "stream",
     "text": [
      "Вызов функции с n = 4\n",
      "Вызов функции с n = 3\n",
      "Вызов функции с n = 2\n",
      "Вызов функции с n = 1\n",
      "Вызов функции с n = 0\n"
     ]
    },
    {
     "data": {
      "text/plain": [
       "24"
      ]
     },
     "execution_count": 44,
     "metadata": {},
     "output_type": "execute_result"
    }
   ],
   "source": [
    "recursive_factorial(4)"
   ]
  },
  {
   "cell_type": "markdown",
   "metadata": {},
   "source": [
    "Не забывайте про выход из рекурсии! Иначе можно получить бесконечную рекурсию."
   ]
  },
  {
   "cell_type": "markdown",
   "metadata": {},
   "source": [
    "## Работа с файлами/папками"
   ]
  },
  {
   "cell_type": "markdown",
   "metadata": {},
   "source": [
    "### Чтение/запись в файл"
   ]
  },
  {
   "cell_type": "code",
   "execution_count": 45,
   "metadata": {
    "ExecuteTime": {
     "end_time": "2019-10-09T15:47:42.125108Z",
     "start_time": "2019-10-09T15:47:42.118463Z"
    }
   },
   "outputs": [],
   "source": [
    "file_object = open('1.txt', mode='w')"
   ]
  },
  {
   "cell_type": "markdown",
   "metadata": {},
   "source": [
    "'r' - чтение\n",
    "\n",
    "'w' - запись (существующий файл будет стерт и перезаписан)\n",
    "\n",
    "'a' - дозапись (append)\n",
    "\n",
    "'r+' - и чтение, и запись"
   ]
  },
  {
   "cell_type": "code",
   "execution_count": 46,
   "metadata": {
    "ExecuteTime": {
     "end_time": "2019-10-09T15:47:44.849166Z",
     "start_time": "2019-10-09T15:47:44.840617Z"
    }
   },
   "outputs": [
    {
     "data": {
      "text/plain": [
       "<_io.TextIOWrapper name='1.txt' mode='w' encoding='UTF-8'>"
      ]
     },
     "execution_count": 46,
     "metadata": {},
     "output_type": "execute_result"
    }
   ],
   "source": [
    "file_object"
   ]
  },
  {
   "cell_type": "code",
   "execution_count": 47,
   "metadata": {
    "ExecuteTime": {
     "end_time": "2019-10-09T15:48:11.499612Z",
     "start_time": "2019-10-09T15:48:11.493621Z"
    }
   },
   "outputs": [],
   "source": [
    "file_object.writelines(['1 line\\n', '2 line\\n'])"
   ]
  },
  {
   "cell_type": "code",
   "execution_count": 48,
   "metadata": {
    "ExecuteTime": {
     "end_time": "2019-10-09T15:48:17.205926Z",
     "start_time": "2019-10-09T15:48:17.197515Z"
    }
   },
   "outputs": [
    {
     "data": {
      "text/plain": [
       "7"
      ]
     },
     "execution_count": 48,
     "metadata": {},
     "output_type": "execute_result"
    }
   ],
   "source": [
    "file_object.write('3 line\\n')"
   ]
  },
  {
   "cell_type": "code",
   "execution_count": 49,
   "metadata": {
    "ExecuteTime": {
     "end_time": "2019-10-09T15:48:28.660750Z",
     "start_time": "2019-10-09T15:48:28.654551Z"
    }
   },
   "outputs": [],
   "source": [
    "file_object.close()"
   ]
  },
  {
   "cell_type": "code",
   "execution_count": 50,
   "metadata": {
    "ExecuteTime": {
     "end_time": "2019-10-09T15:48:39.442594Z",
     "start_time": "2019-10-09T15:48:39.256101Z"
    }
   },
   "outputs": [
    {
     "name": "stdout",
     "output_type": "stream",
     "text": [
      "1 line\r\n",
      "2 line\r\n",
      "3 line\r\n"
     ]
    }
   ],
   "source": [
    "!cat 1.txt"
   ]
  },
  {
   "cell_type": "markdown",
   "metadata": {
    "ExecuteTime": {
     "end_time": "2019-10-07T18:44:26.973706Z",
     "start_time": "2019-10-07T18:44:26.967965Z"
    }
   },
   "source": [
    "Чтение из файла:"
   ]
  },
  {
   "cell_type": "code",
   "execution_count": 51,
   "metadata": {
    "ExecuteTime": {
     "end_time": "2019-10-09T15:49:01.560614Z",
     "start_time": "2019-10-09T15:49:01.550788Z"
    }
   },
   "outputs": [
    {
     "name": "stdout",
     "output_type": "stream",
     "text": [
      "1 line\n",
      "2 line\n",
      "3 line\n",
      "\n"
     ]
    }
   ],
   "source": [
    "file_object = open('1.txt', 'r')\n",
    "\n",
    "print (file_object.read())\n",
    "\n",
    "file_object.close()"
   ]
  },
  {
   "cell_type": "code",
   "execution_count": 53,
   "metadata": {
    "ExecuteTime": {
     "end_time": "2019-10-09T15:49:35.993126Z",
     "start_time": "2019-10-09T15:49:35.983446Z"
    },
    "code_folding": []
   },
   "outputs": [
    {
     "name": "stdout",
     "output_type": "stream",
     "text": [
      "1 line\n",
      "\n",
      "2 line\n",
      "\n",
      "3 line\n",
      "\n"
     ]
    }
   ],
   "source": [
    "# чтение line-by-line\n",
    "\n",
    "file_object = open('1.txt', 'r')\n",
    "\n",
    "line = file_object.readline()\n",
    "\n",
    "while line:\n",
    "    print (line)    \n",
    "    line = file_object.readline()\n",
    "    \n",
    "file_object.close()"
   ]
  },
  {
   "cell_type": "code",
   "execution_count": 54,
   "metadata": {
    "ExecuteTime": {
     "end_time": "2019-10-09T15:49:50.687966Z",
     "start_time": "2019-10-09T15:49:50.677927Z"
    },
    "code_folding": []
   },
   "outputs": [
    {
     "name": "stdout",
     "output_type": "stream",
     "text": [
      "1 line\n",
      "\n",
      "2 line\n",
      "\n",
      "3 line\n",
      "\n"
     ]
    }
   ],
   "source": [
    "# чтение сразу всех строк \n",
    "\n",
    "file_object = open('1.txt', 'r')\n",
    "\n",
    "for i in file_object.readlines():\n",
    "    print (i)\n",
    "    \n",
    "file_object.close()"
   ]
  },
  {
   "cell_type": "code",
   "execution_count": 55,
   "metadata": {
    "ExecuteTime": {
     "end_time": "2019-10-09T15:49:54.527437Z",
     "start_time": "2019-10-09T15:49:54.518087Z"
    }
   },
   "outputs": [
    {
     "name": "stdout",
     "output_type": "stream",
     "text": [
      "<class 'list'>\n"
     ]
    }
   ],
   "source": [
    "file_object = open('1.txt', 'r')\n",
    "\n",
    "print (type(file_object.readlines()))\n",
    "\n",
    "file_object.close()"
   ]
  },
  {
   "cell_type": "markdown",
   "metadata": {},
   "source": [
    "#### Контекстный оператор with"
   ]
  },
  {
   "cell_type": "code",
   "execution_count": 56,
   "metadata": {
    "ExecuteTime": {
     "end_time": "2019-10-09T15:50:54.853590Z",
     "start_time": "2019-10-09T15:50:54.846524Z"
    },
    "code_folding": []
   },
   "outputs": [],
   "source": [
    "# более изящный способ работать с файлами\n",
    "\n",
    "with open('1.txt', 'r') as context_file_object:\n",
    "    lines = context_file_object.readlines()"
   ]
  },
  {
   "cell_type": "code",
   "execution_count": 57,
   "metadata": {
    "ExecuteTime": {
     "end_time": "2019-10-09T15:51:03.861470Z",
     "start_time": "2019-10-09T15:51:03.834723Z"
    }
   },
   "outputs": [
    {
     "ename": "ValueError",
     "evalue": "I/O operation on closed file.",
     "output_type": "error",
     "traceback": [
      "\u001b[0;31m---------------------------------------------------------------------------\u001b[0m",
      "\u001b[0;31mValueError\u001b[0m                                Traceback (most recent call last)",
      "\u001b[0;32m<ipython-input-57-d98aef74ba3f>\u001b[0m in \u001b[0;36m<module>\u001b[0;34m\u001b[0m\n\u001b[0;32m----> 1\u001b[0;31m \u001b[0mcontext_file_object\u001b[0m\u001b[0;34m.\u001b[0m\u001b[0mread\u001b[0m\u001b[0;34m(\u001b[0m\u001b[0;34m)\u001b[0m\u001b[0;34m\u001b[0m\u001b[0;34m\u001b[0m\u001b[0m\n\u001b[0m",
      "\u001b[0;31mValueError\u001b[0m: I/O operation on closed file."
     ]
    }
   ],
   "source": [
    "context_file_object.read()"
   ]
  },
  {
   "cell_type": "code",
   "execution_count": 58,
   "metadata": {
    "ExecuteTime": {
     "end_time": "2019-10-09T15:51:13.392765Z",
     "start_time": "2019-10-09T15:51:13.384491Z"
    }
   },
   "outputs": [
    {
     "data": {
      "text/plain": [
       "['1 line\\n', '2 line\\n', '3 line\\n']"
      ]
     },
     "execution_count": 58,
     "metadata": {},
     "output_type": "execute_result"
    }
   ],
   "source": [
    "lines"
   ]
  },
  {
   "cell_type": "code",
   "execution_count": 59,
   "metadata": {
    "ExecuteTime": {
     "end_time": "2019-10-09T15:51:32.266795Z",
     "start_time": "2019-10-09T15:51:32.257743Z"
    }
   },
   "outputs": [
    {
     "name": "stdout",
     "output_type": "stream",
     "text": [
      "1 line\n",
      "\n",
      "2 line\n",
      "\n",
      "3 line\n",
      "\n"
     ]
    }
   ],
   "source": [
    "# line-by-line\n",
    "\n",
    "with open('1.txt', 'r') as context_file_object:\n",
    "    for line in context_file_object:\n",
    "        print (line)"
   ]
  },
  {
   "cell_type": "markdown",
   "metadata": {},
   "source": [
    "### Работа с директориями"
   ]
  },
  {
   "cell_type": "code",
   "execution_count": 60,
   "metadata": {
    "ExecuteTime": {
     "end_time": "2019-10-09T15:51:58.633263Z",
     "start_time": "2019-10-09T15:51:58.627916Z"
    }
   },
   "outputs": [],
   "source": [
    "import os"
   ]
  },
  {
   "cell_type": "markdown",
   "metadata": {},
   "source": [
    "Вывод всех папок/файлов в директории"
   ]
  },
  {
   "cell_type": "code",
   "execution_count": 61,
   "metadata": {
    "ExecuteTime": {
     "end_time": "2019-10-09T15:52:15.737502Z",
     "start_time": "2019-10-09T15:52:15.728723Z"
    }
   },
   "outputs": [
    {
     "data": {
      "text/plain": [
       "['Untitled Folder 1',\n",
       " 'Untitled.ipynb',\n",
       " 'Seminar 3.ipynb',\n",
       " 'Seminar 1.ipynb',\n",
       " 'Seminar 4.ipynb',\n",
       " 'lect_4_dir',\n",
       " 'Untitled Folder',\n",
       " 'Lecture 1.ipynb',\n",
       " 'Lecture 3.ipynb',\n",
       " 'states_info.csv',\n",
       " 'Lecture 2.ipynb',\n",
       " 'googleplaystore.csv',\n",
       " '1.txt',\n",
       " 'Seminar 2.ipynb',\n",
       " '.ipynb_checkpoints',\n",
       " 'googleplaystore_user_reviews.csv',\n",
       " 'museums.csv',\n",
       " 'Lecture 4.ipynb']"
      ]
     },
     "execution_count": 61,
     "metadata": {},
     "output_type": "execute_result"
    }
   ],
   "source": [
    "os.listdir()"
   ]
  },
  {
   "cell_type": "code",
   "execution_count": 62,
   "metadata": {
    "ExecuteTime": {
     "end_time": "2019-10-09T15:52:36.224833Z",
     "start_time": "2019-10-09T15:52:36.215602Z"
    },
    "scrolled": true
   },
   "outputs": [
    {
     "data": {
      "text/plain": [
       "['test_event_maker.ipynb',\n",
       " '[DM-4367] get_old_subs.ipynb',\n",
       " 'Untitled6.ipynb',\n",
       " 'sql_to_spark_check_version.ipynb',\n",
       " 'gkhazeeva_checker.csv',\n",
       " 'sql_to_spark_check_version-2.ipynb',\n",
       " 'DM-3441.ipynb',\n",
       " 'pekichev_subm2.csv',\n",
       " '.hivehistory',\n",
       " 'Untitled.ipynb']"
      ]
     },
     "execution_count": 62,
     "metadata": {},
     "output_type": "execute_result"
    }
   ],
   "source": [
    "os.listdir('/home/gkhazeeva@ozon')[:10]"
   ]
  },
  {
   "cell_type": "markdown",
   "metadata": {},
   "source": [
    "Выведем только папки"
   ]
  },
  {
   "cell_type": "code",
   "execution_count": 63,
   "metadata": {
    "ExecuteTime": {
     "end_time": "2019-10-09T15:53:44.050692Z",
     "start_time": "2019-10-09T15:53:43.965853Z"
    },
    "code_folding": []
   },
   "outputs": [
    {
     "name": "stdout",
     "output_type": "stream",
     "text": [
      "/home/gkhazeeva@ozon/\n",
      "test_event_maker.ipynb\n",
      "/home/gkhazeeva@ozon/test_event_maker.ipynb\n",
      "/home/gkhazeeva@ozon/\n",
      "[DM-4367] get_old_subs.ipynb\n",
      "/home/gkhazeeva@ozon/[DM-4367] get_old_subs.ipynb\n",
      "/home/gkhazeeva@ozon/\n",
      "Untitled6.ipynb\n",
      "/home/gkhazeeva@ozon/Untitled6.ipynb\n",
      "/home/gkhazeeva@ozon/\n",
      "sql_to_spark_check_version.ipynb\n",
      "/home/gkhazeeva@ozon/sql_to_spark_check_version.ipynb\n",
      "/home/gkhazeeva@ozon/\n",
      "gkhazeeva_checker.csv\n",
      "/home/gkhazeeva@ozon/gkhazeeva_checker.csv\n",
      "/home/gkhazeeva@ozon/\n",
      "sql_to_spark_check_version-2.ipynb\n",
      "/home/gkhazeeva@ozon/sql_to_spark_check_version-2.ipynb\n",
      "/home/gkhazeeva@ozon/\n",
      "DM-3441.ipynb\n",
      "/home/gkhazeeva@ozon/DM-3441.ipynb\n",
      "/home/gkhazeeva@ozon/\n",
      "pekichev_subm2.csv\n",
      "/home/gkhazeeva@ozon/pekichev_subm2.csv\n",
      "/home/gkhazeeva@ozon/\n",
      ".hivehistory\n",
      "/home/gkhazeeva@ozon/.hivehistory\n",
      "/home/gkhazeeva@ozon/\n",
      "Untitled.ipynb\n",
      "/home/gkhazeeva@ozon/Untitled.ipynb\n",
      "/home/gkhazeeva@ozon/\n",
      ".jupyter\n",
      "/home/gkhazeeva@ozon/.jupyter\n",
      ".jupyter\n",
      "/home/gkhazeeva@ozon/\n",
      "Items_Ranking\n",
      "/home/gkhazeeva@ozon/Items_Ranking\n",
      "Items_Ranking\n",
      "/home/gkhazeeva@ozon/\n",
      "conda_python3\n",
      "/home/gkhazeeva@ozon/conda_python3\n",
      "conda_python3\n",
      "/home/gkhazeeva@ozon/\n",
      "Basic notebook.ipynb\n",
      "/home/gkhazeeva@ozon/Basic notebook.ipynb\n",
      "/home/gkhazeeva@ozon/\n",
      "Pers_catalog_ab_test_checker.ipynb\n",
      "/home/gkhazeeva@ozon/Pers_catalog_ab_test_checker.ipynb\n",
      "/home/gkhazeeva@ozon/\n",
      "Untitled2.ipynb\n",
      "/home/gkhazeeva@ozon/Untitled2.ipynb\n",
      "/home/gkhazeeva@ozon/\n",
      "Accs\n",
      "/home/gkhazeeva@ozon/Accs\n",
      "Accs\n",
      "/home/gkhazeeva@ozon/\n",
      "gelana_catboost_5.csv\n",
      "/home/gkhazeeva@ozon/gelana_catboost_5.csv\n",
      "/home/gkhazeeva@ozon/\n",
      "Untitled4.ipynb\n",
      "/home/gkhazeeva@ozon/Untitled4.ipynb\n",
      "/home/gkhazeeva@ozon/\n",
      "pekichev_subm (1).csv\n",
      "/home/gkhazeeva@ozon/pekichev_subm (1).csv\n",
      "/home/gkhazeeva@ozon/\n",
      ".cache\n",
      "/home/gkhazeeva@ozon/.cache\n",
      ".cache\n",
      "/home/gkhazeeva@ozon/\n",
      "Product Service.ipynb\n",
      "/home/gkhazeeva@ozon/Product Service.ipynb\n",
      "/home/gkhazeeva@ozon/\n",
      "New Users Ranking\n",
      "/home/gkhazeeva@ozon/New Users Ranking\n",
      "New Users Ranking\n",
      "/home/gkhazeeva@ozon/\n",
      "Email ABtest\n",
      "/home/gkhazeeva@ozon/Email ABtest\n",
      "Email ABtest\n",
      "/home/gkhazeeva@ozon/\n",
      "Собеседования\n",
      "/home/gkhazeeva@ozon/Собеседования\n",
      "Собеседования\n",
      "/home/gkhazeeva@ozon/\n",
      "gelana_catboost_fin.csv\n",
      "/home/gkhazeeva@ozon/gelana_catboost_fin.csv\n",
      "/home/gkhazeeva@ozon/\n",
      ".bash_logout\n",
      "/home/gkhazeeva@ozon/.bash_logout\n",
      "/home/gkhazeeva@ozon/\n",
      "DM-3420 AB test substitutes.ipynb\n",
      "/home/gkhazeeva@ozon/DM-3420 AB test substitutes.ipynb\n",
      "/home/gkhazeeva@ozon/\n",
      "gelana_linear_regression.csv\n",
      "/home/gkhazeeva@ozon/gelana_linear_regression.csv\n",
      "/home/gkhazeeva@ozon/\n",
      "pekichev_subm_priv.csv\n",
      "/home/gkhazeeva@ozon/pekichev_subm_priv.csv\n",
      "/home/gkhazeeva@ozon/\n",
      "New Bundles\n",
      "/home/gkhazeeva@ozon/New Bundles\n",
      "New Bundles\n",
      "/home/gkhazeeva@ozon/\n",
      "Demonstration.ipynb\n",
      "/home/gkhazeeva@ozon/Demonstration.ipynb\n",
      "/home/gkhazeeva@ozon/\n",
      "Untitled3.ipynb\n",
      "/home/gkhazeeva@ozon/Untitled3.ipynb\n",
      "/home/gkhazeeva@ozon/\n",
      "sql_to_spark_to_check_v2.ipynb\n",
      "/home/gkhazeeva@ozon/sql_to_spark_to_check_v2.ipynb\n",
      "/home/gkhazeeva@ozon/\n",
      "evaluate_bundle_alg.ipynb\n",
      "/home/gkhazeeva@ozon/evaluate_bundle_alg.ipynb\n",
      "/home/gkhazeeva@ozon/\n",
      "image_similarity_clothes.ipynb\n",
      "/home/gkhazeeva@ozon/image_similarity_clothes.ipynb\n",
      "/home/gkhazeeva@ozon/\n",
      "Count coverage.ipynb\n",
      "/home/gkhazeeva@ozon/Count coverage.ipynb\n",
      "/home/gkhazeeva@ozon/\n",
      "private_dataset.csv\n",
      "/home/gkhazeeva@ozon/private_dataset.csv\n",
      "/home/gkhazeeva@ozon/\n",
      "auc_calc.ipynb\n",
      "/home/gkhazeeva@ozon/auc_calc.ipynb\n",
      "/home/gkhazeeva@ozon/\n",
      "Orders analyse.ipynb\n",
      "/home/gkhazeeva@ozon/Orders analyse.ipynb\n",
      "/home/gkhazeeva@ozon/\n",
      "Pet Project\n",
      "/home/gkhazeeva@ozon/Pet Project\n",
      "Pet Project\n",
      "/home/gkhazeeva@ozon/\n",
      "full_dataset.csv\n",
      "/home/gkhazeeva@ozon/full_dataset.csv\n",
      "/home/gkhazeeva@ozon/\n",
      "public_dataset_clients.csv\n",
      "/home/gkhazeeva@ozon/public_dataset_clients.csv\n",
      "/home/gkhazeeva@ozon/\n",
      "anaconda2\n",
      "/home/gkhazeeva@ozon/anaconda2\n",
      "anaconda2\n",
      "/home/gkhazeeva@ozon/\n",
      ".gitconfig\n",
      "/home/gkhazeeva@ozon/.gitconfig\n",
      "/home/gkhazeeva@ozon/\n",
      "[DM-4182]_evaluation.ipynb\n",
      "/home/gkhazeeva@ozon/[DM-4182]_evaluation.ipynb\n",
      "/home/gkhazeeva@ozon/\n",
      "Geo Substitutes\n",
      "/home/gkhazeeva@ozon/Geo Substitutes\n",
      "Geo Substitutes\n",
      "/home/gkhazeeva@ozon/\n",
      "Bundles.ipynb\n",
      "/home/gkhazeeva@ozon/Bundles.ipynb\n",
      "/home/gkhazeeva@ozon/\n",
      "Category Prediction\n",
      "/home/gkhazeeva@ozon/Category Prediction\n",
      "Category Prediction\n",
      "/home/gkhazeeva@ozon/\n",
      "conda_python3.tar.gz\n",
      "/home/gkhazeeva@ozon/conda_python3.tar.gz\n",
      "/home/gkhazeeva@ozon/\n",
      "Untitled1.ipynb\n",
      "/home/gkhazeeva@ozon/Untitled1.ipynb\n",
      "/home/gkhazeeva@ozon/\n",
      ".config\n",
      "/home/gkhazeeva@ozon/.config\n",
      ".config\n",
      "/home/gkhazeeva@ozon/\n",
      "anaconda3\n",
      "/home/gkhazeeva@ozon/anaconda3\n",
      "anaconda3\n",
      "/home/gkhazeeva@ozon/\n",
      "DM-3460 pers cleaner.ipynb\n",
      "/home/gkhazeeva@ozon/DM-3460 pers cleaner.ipynb\n",
      "/home/gkhazeeva@ozon/\n",
      "ды\n",
      "/home/gkhazeeva@ozon/ды\n",
      "/home/gkhazeeva@ozon/\n",
      "dataset_example.csv\n",
      "/home/gkhazeeva@ozon/dataset_example.csv\n",
      "/home/gkhazeeva@ozon/\n",
      "pers_postprocess_bug.ipynb\n",
      "/home/gkhazeeva@ozon/pers_postprocess_bug.ipynb\n",
      "/home/gkhazeeva@ozon/\n",
      "Kovalenko_finalsubmission_2.csv\n",
      "/home/gkhazeeva@ozon/Kovalenko_finalsubmission_2.csv\n",
      "/home/gkhazeeva@ozon/\n",
      "gkhazeeva_env\n",
      "/home/gkhazeeva@ozon/gkhazeeva_env\n",
      "gkhazeeva_env\n",
      "/home/gkhazeeva@ozon/\n",
      ".ivy2\n",
      "/home/gkhazeeva@ozon/.ivy2\n",
      ".ivy2\n",
      "/home/gkhazeeva@ozon/\n",
      "DM-3240 delete type filtration in sub stat.ipynb\n",
      "/home/gkhazeeva@ozon/DM-3240 delete type filtration in sub stat.ipynb\n",
      "/home/gkhazeeva@ozon/\n",
      "Python Lectures\n",
      "/home/gkhazeeva@ozon/Python Lectures\n",
      "Python Lectures\n",
      "/home/gkhazeeva@ozon/\n",
      "gelana_catboost_regression.csv\n",
      "/home/gkhazeeva@ozon/gelana_catboost_regression.csv\n",
      "/home/gkhazeeva@ozon/\n",
      "predictions.csv\n",
      "/home/gkhazeeva@ozon/predictions.csv\n",
      "/home/gkhazeeva@ozon/\n",
      ".ipynb_checkpoints\n",
      "/home/gkhazeeva@ozon/.ipynb_checkpoints\n",
      ".ipynb_checkpoints\n",
      "/home/gkhazeeva@ozon/\n",
      ".condarc\n",
      "/home/gkhazeeva@ozon/.condarc\n",
      "/home/gkhazeeva@ozon/\n",
      "Churn prediction\n",
      "/home/gkhazeeva@ozon/Churn prediction\n",
      "Churn prediction\n",
      "/home/gkhazeeva@ozon/\n",
      "newClientsContextRates\n",
      "/home/gkhazeeva@ozon/newClientsContextRates\n",
      "newClientsContextRates\n",
      "/home/gkhazeeva@ozon/\n",
      "Check stat.ipynb\n",
      "/home/gkhazeeva@ozon/Check stat.ipynb\n",
      "/home/gkhazeeva@ozon/\n",
      "make_bundles_models.ipynb\n",
      "/home/gkhazeeva@ozon/make_bundles_models.ipynb\n",
      "/home/gkhazeeva@ozon/\n",
      "PersPromoItems\n",
      "/home/gkhazeeva@ozon/PersPromoItems\n",
      "PersPromoItems\n",
      "/home/gkhazeeva@ozon/\n",
      "Check matrix mult.ipynb\n",
      "/home/gkhazeeva@ozon/Check matrix mult.ipynb\n",
      "/home/gkhazeeva@ozon/\n",
      "Bundle preview ABtest.ipynb\n",
      "/home/gkhazeeva@ozon/Bundle preview ABtest.ipynb\n",
      "/home/gkhazeeva@ozon/\n",
      "pekichev_subm.csv\n",
      "/home/gkhazeeva@ozon/pekichev_subm.csv\n",
      "/home/gkhazeeva@ozon/\n",
      "private_dataset_clients.csv\n",
      "/home/gkhazeeva@ozon/private_dataset_clients.csv\n",
      "/home/gkhazeeva@ozon/\n",
      "public_dataset.csv\n",
      "/home/gkhazeeva@ozon/public_dataset.csv\n",
      "/home/gkhazeeva@ozon/\n",
      "Conda 3\n",
      "/home/gkhazeeva@ozon/Conda 3\n",
      "Conda 3\n",
      "/home/gkhazeeva@ozon/\n",
      ".nano\n",
      "/home/gkhazeeva@ozon/.nano\n",
      ".nano\n",
      "/home/gkhazeeva@ozon/\n",
      "DM-3325 make_bundles_items.ipynb\n",
      "/home/gkhazeeva@ozon/DM-3325 make_bundles_items.ipynb\n",
      "/home/gkhazeeva@ozon/\n",
      "DM-3348 bundle three.ipynb\n",
      "/home/gkhazeeva@ozon/DM-3348 bundle three.ipynb\n",
      "/home/gkhazeeva@ozon/\n",
      "DM-3421 sex age filter sub.ipynb\n",
      "/home/gkhazeeva@ozon/DM-3421 sex age filter sub.ipynb\n",
      "/home/gkhazeeva@ozon/\n",
      "Tutor\n",
      "/home/gkhazeeva@ozon/Tutor\n",
      "Tutor\n",
      "/home/gkhazeeva@ozon/\n",
      ".profile\n",
      "/home/gkhazeeva@ozon/.profile\n",
      "/home/gkhazeeva@ozon/\n",
      "Untitled5.ipynb\n",
      "/home/gkhazeeva@ozon/Untitled5.ipynb\n",
      "/home/gkhazeeva@ozon/\n",
      "gelana_rf_regression.csv\n",
      "/home/gkhazeeva@ozon/gelana_rf_regression.csv\n",
      "/home/gkhazeeva@ozon/\n",
      "Algo launcher.ipynb\n",
      "/home/gkhazeeva@ozon/Algo launcher.ipynb\n",
      "/home/gkhazeeva@ozon/\n",
      "Algo launcher-Copy1.ipynb\n",
      "/home/gkhazeeva@ozon/Algo launcher-Copy1.ipynb\n",
      "/home/gkhazeeva@ozon/\n",
      "recom_notebooks\n",
      "/home/gkhazeeva@ozon/recom_notebooks\n",
      "recom_notebooks\n",
      "/home/gkhazeeva@ozon/\n",
      "gkhazeeva_result_baseline.csv\n",
      "/home/gkhazeeva@ozon/gkhazeeva_result_baseline.csv\n",
      "/home/gkhazeeva@ozon/\n",
      ".local\n",
      "/home/gkhazeeva@ozon/.local\n",
      ".local\n",
      "/home/gkhazeeva@ozon/\n",
      ".ipython\n",
      "/home/gkhazeeva@ozon/.ipython\n",
      ".ipython\n",
      "/home/gkhazeeva@ozon/\n",
      "Kovalenko_finalsubmission.csv\n",
      "/home/gkhazeeva@ozon/Kovalenko_finalsubmission.csv\n",
      "/home/gkhazeeva@ozon/\n",
      "acc_v2_prod.ipynb\n",
      "/home/gkhazeeva@ozon/acc_v2_prod.ipynb\n",
      "/home/gkhazeeva@ozon/\n",
      ".bash_history\n",
      "/home/gkhazeeva@ozon/.bash_history\n",
      "/home/gkhazeeva@ozon/\n",
      "Bundle preview.ipynb\n",
      "/home/gkhazeeva@ozon/Bundle preview.ipynb\n",
      "/home/gkhazeeva@ozon/\n",
      "bundles_as_it_is.ipynb\n",
      "/home/gkhazeeva@ozon/bundles_as_it_is.ipynb\n",
      "/home/gkhazeeva@ozon/\n",
      "model_item_mapping.csv\n",
      "/home/gkhazeeva@ozon/model_item_mapping.csv\n",
      "/home/gkhazeeva@ozon/\n",
      "Order_Anomaly\n",
      "/home/gkhazeeva@ozon/Order_Anomaly\n",
      "Order_Anomaly\n",
      "/home/gkhazeeva@ozon/\n",
      ".bashrc-anaconda2.bak\n",
      "/home/gkhazeeva@ozon/.bashrc-anaconda2.bak\n",
      "/home/gkhazeeva@ozon/\n",
      ".conda\n",
      "/home/gkhazeeva@ozon/.conda\n",
      ".conda\n",
      "/home/gkhazeeva@ozon/\n",
      "kostyan_private_final.csv\n",
      "/home/gkhazeeva@ozon/kostyan_private_final.csv\n"
     ]
    }
   ],
   "source": [
    "# выведем только папки\n",
    "\n",
    "basepath = '/home/gkhazeeva@ozon/'\n",
    "\n",
    "for path in os.listdir(basepath):\n",
    "    print (basepath)\n",
    "    print (path)\n",
    "\n",
    "    full_path = os.path.join(basepath, path)\n",
    "    print (full_path)\n",
    "    \n",
    "    if os.path.isdir(full_path):\n",
    "        print (path)\n",
    "        \n",
    "#     if os.path.isfile(full_path):\n",
    "#         print (path)"
   ]
  },
  {
   "cell_type": "markdown",
   "metadata": {},
   "source": [
    "Создание папок"
   ]
  },
  {
   "cell_type": "code",
   "execution_count": 65,
   "metadata": {
    "ExecuteTime": {
     "end_time": "2019-10-09T15:54:23.326013Z",
     "start_time": "2019-10-09T15:54:23.319298Z"
    }
   },
   "outputs": [],
   "source": [
    "os.mkdir('lect_5_dir')\n",
    "os.mkdir('lect_5_dir/some_dir')"
   ]
  },
  {
   "cell_type": "code",
   "execution_count": 66,
   "metadata": {
    "ExecuteTime": {
     "end_time": "2019-10-09T15:54:26.416624Z",
     "start_time": "2019-10-09T15:54:26.233222Z"
    }
   },
   "outputs": [
    {
     "name": "stdout",
     "output_type": "stream",
     "text": [
      "some_dir\r\n"
     ]
    }
   ],
   "source": [
    "!ls lect_5_dir"
   ]
  },
  {
   "cell_type": "code",
   "execution_count": null,
   "metadata": {},
   "outputs": [],
   "source": []
  }
 ],
 "metadata": {
  "kernelspec": {
   "display_name": "Python 3",
   "language": "python",
   "name": "python3"
  },
  "language_info": {
   "codemirror_mode": {
    "name": "ipython",
    "version": 3
   },
   "file_extension": ".py",
   "mimetype": "text/x-python",
   "name": "python",
   "nbconvert_exporter": "python",
   "pygments_lexer": "ipython3",
   "version": "3.7.3"
  },
  "toc": {
   "base_numbering": 1,
   "nav_menu": {},
   "number_sections": true,
   "sideBar": true,
   "skip_h1_title": true,
   "title_cell": "План Лекции",
   "title_sidebar": "Contents",
   "toc_cell": true,
   "toc_position": {
    "height": "100px",
    "left": "10px",
    "top": "150px",
    "width": "313.63970947265625px"
   },
   "toc_section_display": true,
   "toc_window_display": false
  }
 },
 "nbformat": 4,
 "nbformat_minor": 2
}
