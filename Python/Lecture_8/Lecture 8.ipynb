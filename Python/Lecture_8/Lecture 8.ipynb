{
 "cells": [
  {
   "cell_type": "markdown",
   "metadata": {
    "toc": true
   },
   "source": [
    "<h1>План лекции<span class=\"tocSkip\"></span></h1>\n",
    "<div class=\"toc\"><ul class=\"toc-item\"><li><span><a href=\"#Ошибки-в-Питоне\" data-toc-modified-id=\"Ошибки-в-Питоне-1\"><span class=\"toc-item-num\">1&nbsp;&nbsp;</span>Ошибки в Питоне</a></span><ul class=\"toc-item\"><li><span><a href=\"#raise\" data-toc-modified-id=\"raise-1.1\"><span class=\"toc-item-num\">1.1&nbsp;&nbsp;</span>raise</a></span></li><li><span><a href=\"#assert\" data-toc-modified-id=\"assert-1.2\"><span class=\"toc-item-num\">1.2&nbsp;&nbsp;</span>assert</a></span></li><li><span><a href=\"#try/except\" data-toc-modified-id=\"try/except-1.3\"><span class=\"toc-item-num\">1.3&nbsp;&nbsp;</span>try/except</a></span></li></ul></li><li><span><a href=\"#Итераторы\" data-toc-modified-id=\"Итераторы-2\"><span class=\"toc-item-num\">2&nbsp;&nbsp;</span>Итераторы</a></span><ul class=\"toc-item\"><li><span><a href=\"#Iterable-objects\" data-toc-modified-id=\"Iterable-objects-2.1\"><span class=\"toc-item-num\">2.1&nbsp;&nbsp;</span>Iterable objects</a></span></li><li><span><a href=\"#Итераторы\" data-toc-modified-id=\"Итераторы-2.2\"><span class=\"toc-item-num\">2.2&nbsp;&nbsp;</span>Итераторы</a></span></li></ul></li><li><span><a href=\"#Генераторы\" data-toc-modified-id=\"Генераторы-3\"><span class=\"toc-item-num\">3&nbsp;&nbsp;</span>Генераторы</a></span></li><li><span><a href=\"#Generator-comprehension\" data-toc-modified-id=\"Generator-comprehension-4\"><span class=\"toc-item-num\">4&nbsp;&nbsp;</span>Generator comprehension</a></span></li></ul></div>"
   ]
  },
  {
   "cell_type": "markdown",
   "metadata": {},
   "source": [
    "## Ошибки в Питоне"
   ]
  },
  {
   "cell_type": "markdown",
   "metadata": {
    "ExecuteTime": {
     "end_time": "2019-10-29T16:32:25.399975Z",
     "start_time": "2019-10-29T16:32:25.389582Z"
    }
   },
   "source": [
    "Программа, написанная на питоне может завершиться, если произошла некоторая ошибка. \n",
    "\n",
    "Ошибки в питоне могут быть двух типов: синтаксическая и исключение (exceptinon)."
   ]
  },
  {
   "cell_type": "markdown",
   "metadata": {},
   "source": [
    "Синтаксическая ошибка возникает в процессе парсинга программы, вот ее пример:"
   ]
  },
  {
   "cell_type": "code",
   "execution_count": null,
   "metadata": {
    "ExecuteTime": {
     "end_time": "2019-10-29T16:34:23.708010Z",
     "start_time": "2019-10-29T16:34:23.697793Z"
    }
   },
   "outputs": [],
   "source": [
    "print (10/0))"
   ]
  },
  {
   "cell_type": "markdown",
   "metadata": {},
   "source": [
    "Исключение (эксепшн), возникает при исполнении синтаксически корректного кода:"
   ]
  },
  {
   "cell_type": "code",
   "execution_count": null,
   "metadata": {
    "ExecuteTime": {
     "end_time": "2019-10-29T16:34:27.944767Z",
     "start_time": "2019-10-29T16:34:27.930186Z"
    }
   },
   "outputs": [],
   "source": [
    "print (10/0)"
   ]
  },
  {
   "cell_type": "markdown",
   "metadata": {},
   "source": [
    "### raise"
   ]
  },
  {
   "cell_type": "markdown",
   "metadata": {},
   "source": [
    "Чтобы бросить исключение и прервать выполнение программы, достаточно использовать оператор raise:"
   ]
  },
  {
   "cell_type": "code",
   "execution_count": null,
   "metadata": {
    "ExecuteTime": {
     "end_time": "2019-10-29T16:43:04.438910Z",
     "start_time": "2019-10-29T16:43:03.055385Z"
    }
   },
   "outputs": [],
   "source": [
    "x = input(\"Введите число от 1 до 5: \")\n",
    "\n",
    "if not x.isdigit() or int(x) > 5 or int(x) < 1:\n",
    "    raise Exception(\"Ошибка ввода: нужно ввести число от 1 до 5\")\n",
    "    \n",
    "print(\"Все правильно!\")"
   ]
  },
  {
   "cell_type": "markdown",
   "metadata": {},
   "source": [
    "### assert"
   ]
  },
  {
   "cell_type": "code",
   "execution_count": null,
   "metadata": {
    "ExecuteTime": {
     "end_time": "2019-11-13T12:15:33.295462Z",
     "start_time": "2019-11-13T12:15:33.289102Z"
    }
   },
   "outputs": [],
   "source": [
    "assert True"
   ]
  },
  {
   "cell_type": "code",
   "execution_count": null,
   "metadata": {
    "ExecuteTime": {
     "end_time": "2019-11-13T12:16:15.238905Z",
     "start_time": "2019-11-13T12:16:13.892883Z"
    }
   },
   "outputs": [],
   "source": [
    "x = input(\"Введите число от 1 до 5: \")\n",
    "\n",
    "assert (x.isdigit() and  int(x) <= 5 and int(x)>=1), \"Ошибка ввода: нужно ввести число от 1 до 5\"\n",
    "\n",
    "print(\"Все правильно!\")"
   ]
  },
  {
   "cell_type": "markdown",
   "metadata": {},
   "source": [
    "Вот здесь есть описание всех эксепшенов, которые есть в питоне: https://docs.python.org/3/library/exceptions.html"
   ]
  },
  {
   "cell_type": "markdown",
   "metadata": {},
   "source": [
    "### try/except"
   ]
  },
  {
   "cell_type": "code",
   "execution_count": null,
   "metadata": {
    "ExecuteTime": {
     "end_time": "2019-11-13T12:21:08.464785Z",
     "start_time": "2019-11-13T12:21:08.445862Z"
    }
   },
   "outputs": [],
   "source": [
    "def numbers_1_5():\n",
    "    \n",
    "    x = input(\"Введите число от 1 до 5: \")\n",
    "\n",
    "    assert (x.isdigit() and  int(x) <= 5 and int(x)>=1), \"Ошибка ввода: нужно ввести число от 1 до 5\"\n",
    "\n",
    "    print(\"Все правильно!\")"
   ]
  },
  {
   "cell_type": "code",
   "execution_count": null,
   "metadata": {
    "ExecuteTime": {
     "end_time": "2019-11-13T12:21:11.228694Z",
     "start_time": "2019-11-13T12:21:08.643046Z"
    }
   },
   "outputs": [],
   "source": [
    "try:\n",
    "    numbers_1_5()\n",
    "except:\n",
    "    print(\"Программа не может быть выполнена!\")"
   ]
  },
  {
   "cell_type": "markdown",
   "metadata": {},
   "source": [
    "Но, синтаксические ошибки не перехватываются:"
   ]
  },
  {
   "cell_type": "code",
   "execution_count": null,
   "metadata": {
    "ExecuteTime": {
     "end_time": "2019-11-13T12:21:19.469277Z",
     "start_time": "2019-11-13T12:21:19.460946Z"
    }
   },
   "outputs": [],
   "source": [
    "try:\n",
    "    numbers_1_5())\n",
    "except:\n",
    "    print(\"Программа не может быть выполнена!\")"
   ]
  },
  {
   "cell_type": "markdown",
   "metadata": {},
   "source": [
    "Добавим еще ошибку:"
   ]
  },
  {
   "cell_type": "code",
   "execution_count": null,
   "metadata": {
    "ExecuteTime": {
     "end_time": "2019-11-13T12:21:29.869035Z",
     "start_time": "2019-11-13T12:21:27.375955Z"
    }
   },
   "outputs": [],
   "source": [
    "try:\n",
    "    numbers_1_5()\n",
    "    \n",
    "    x = 1/0\n",
    "except AssertionError:\n",
    "    print(\"Программа не может быть выполнена!\")"
   ]
  },
  {
   "cell_type": "code",
   "execution_count": null,
   "metadata": {
    "ExecuteTime": {
     "end_time": "2019-11-13T12:22:09.389989Z",
     "start_time": "2019-11-13T12:22:08.165943Z"
    }
   },
   "outputs": [],
   "source": [
    "try:\n",
    "    numbers_1_5()\n",
    "    \n",
    "except AssertionError:\n",
    "    print(\"Программа не может быть выполнена!\")\n",
    "else:\n",
    "    print(\"Я всегда выполняюсь в конце, если все хорошо!\")"
   ]
  },
  {
   "cell_type": "code",
   "execution_count": null,
   "metadata": {
    "ExecuteTime": {
     "end_time": "2019-10-29T16:52:33.824109Z",
     "start_time": "2019-10-29T16:52:32.349832Z"
    }
   },
   "outputs": [],
   "source": [
    "try:\n",
    "    numbers_1_5()\n",
    "    \n",
    "except AssertionError:\n",
    "    print(\"Программа не может быть выполнена!\")\n",
    "else:\n",
    "    print(\"Я всегда выполняюсь в конце, если все хорошо!\")\n",
    "finally:\n",
    "    print(\"Я всегда выполняюсь в конце!\")"
   ]
  },
  {
   "cell_type": "markdown",
   "metadata": {},
   "source": [
    "## Итераторы"
   ]
  },
  {
   "cell_type": "markdown",
   "metadata": {},
   "source": [
    "### Iterable objects"
   ]
  },
  {
   "cell_type": "markdown",
   "metadata": {},
   "source": [
    "В питоне мы можем итерироваться по разным объектам: спискам, словарям, строкам в файле."
   ]
  },
  {
   "cell_type": "code",
   "execution_count": null,
   "metadata": {
    "ExecuteTime": {
     "end_time": "2019-10-29T15:27:11.619770Z",
     "start_time": "2019-10-29T15:27:11.610773Z"
    }
   },
   "outputs": [],
   "source": [
    "for i in [1, 2]:\n",
    "    print (i)"
   ]
  },
  {
   "cell_type": "code",
   "execution_count": null,
   "metadata": {
    "ExecuteTime": {
     "end_time": "2019-10-29T15:27:08.567330Z",
     "start_time": "2019-10-29T15:27:08.558246Z"
    }
   },
   "outputs": [],
   "source": [
    "for i in {'a':1, 'b':2}:\n",
    "    print (i)"
   ]
  },
  {
   "cell_type": "code",
   "execution_count": null,
   "metadata": {
    "ExecuteTime": {
     "end_time": "2019-10-29T15:28:07.523285Z",
     "start_time": "2019-10-29T15:28:07.513305Z"
    }
   },
   "outputs": [],
   "source": [
    "for line in open('1.txt'):\n",
    "    print (line)"
   ]
  },
  {
   "cell_type": "markdown",
   "metadata": {},
   "source": [
    "Все объекты, по которым можно итерироваться, называются iterable объектами.\n",
    "\n",
    "У них должен быть определен метод \\_\\_iter\\_\\_, который возвращает итератор.\n",
    "\n",
    "Итератор - объект, который позволяет итерироваться по контейнеру."
   ]
  },
  {
   "cell_type": "markdown",
   "metadata": {},
   "source": [
    "### Итераторы"
   ]
  },
  {
   "cell_type": "markdown",
   "metadata": {
    "ExecuteTime": {
     "end_time": "2019-10-29T16:09:16.033763Z",
     "start_time": "2019-10-29T16:09:16.025602Z"
    }
   },
   "source": [
    "https://realpython.com/python-for-loop/"
   ]
  },
  {
   "cell_type": "markdown",
   "metadata": {
    "ExecuteTime": {
     "end_time": "2019-10-29T15:34:42.677339Z",
     "start_time": "2019-10-29T15:34:42.668520Z"
    }
   },
   "source": [
    "Есть встроенная функция iter,  которая принимает на вход iterable и возвращает итератор."
   ]
  },
  {
   "cell_type": "code",
   "execution_count": null,
   "metadata": {
    "ExecuteTime": {
     "end_time": "2019-10-29T15:38:19.787844Z",
     "start_time": "2019-10-29T15:38:19.779352Z"
    }
   },
   "outputs": [],
   "source": [
    "iterator = iter([1, 2, 3, 4])\n",
    "\n",
    "print (type(iterator))"
   ]
  },
  {
   "cell_type": "code",
   "execution_count": null,
   "metadata": {
    "ExecuteTime": {
     "end_time": "2019-10-29T15:38:52.050108Z",
     "start_time": "2019-10-29T15:38:51.938455Z"
    }
   },
   "outputs": [],
   "source": [
    "next(iterator)"
   ]
  },
  {
   "cell_type": "markdown",
   "metadata": {},
   "source": [
    "Можно последовательно получить доступ к каждому элементу списка. Когда список заканчивается, выбрасывается ошибка StopIteration."
   ]
  },
  {
   "cell_type": "markdown",
   "metadata": {},
   "source": [
    "Итератор должен удовлетворять следующему протоколу. Должны поддерживать 2 метода:\n",
    "\n",
    "- \\_\\_iter\\_\\_() - возвращает самого себя\n",
    "- \\_\\_next\\_\\_() - возвращает следующий айтем в контейнере, а если его нет, бросает StopIteration"
   ]
  },
  {
   "cell_type": "markdown",
   "metadata": {
    "ExecuteTime": {
     "end_time": "2019-10-29T15:41:00.073228Z",
     "start_time": "2019-10-29T15:41:00.061771Z"
    }
   },
   "source": [
    "Давайте напишем итератор, который повторяет логику итератора range:"
   ]
  },
  {
   "cell_type": "code",
   "execution_count": null,
   "metadata": {
    "ExecuteTime": {
     "end_time": "2019-10-29T15:45:36.948115Z",
     "start_time": "2019-10-29T15:45:36.936032Z"
    }
   },
   "outputs": [],
   "source": [
    "# пишем класс для итератора\n",
    "\n",
    "class my_range:\n",
    "    def __init__(self, n):\n",
    "        self.iteration = 0\n",
    "        self.n = n\n",
    "        \n",
    "    def __iter__(self):\n",
    "        return self\n",
    "    \n",
    "    def __next__(self):\n",
    "        if self.iteration < self.n:\n",
    "            cur_iteration = self.iteration\n",
    "            self.iteration += 1\n",
    "            return cur_iteration\n",
    "        else:\n",
    "            raise StopIteration()"
   ]
  },
  {
   "cell_type": "code",
   "execution_count": null,
   "metadata": {
    "ExecuteTime": {
     "end_time": "2019-10-29T15:46:30.501995Z",
     "start_time": "2019-10-29T15:46:30.497115Z"
    }
   },
   "outputs": [],
   "source": [
    "my_iterator = my_range(2)\n",
    "\n",
    "print (type(my_iterator))"
   ]
  },
  {
   "cell_type": "code",
   "execution_count": null,
   "metadata": {
    "ExecuteTime": {
     "end_time": "2019-10-29T15:46:41.326955Z",
     "start_time": "2019-10-29T15:46:41.310737Z"
    }
   },
   "outputs": [],
   "source": [
    "next(my_iterator)"
   ]
  },
  {
   "cell_type": "markdown",
   "metadata": {},
   "source": [
    "И уже можно вот так:"
   ]
  },
  {
   "cell_type": "code",
   "execution_count": null,
   "metadata": {
    "ExecuteTime": {
     "end_time": "2019-10-29T15:47:16.880304Z",
     "start_time": "2019-10-29T15:47:16.874344Z"
    }
   },
   "outputs": [],
   "source": [
    "for i in my_range(3):\n",
    "    print (i)"
   ]
  },
  {
   "cell_type": "markdown",
   "metadata": {},
   "source": [
    "Итераторы являются \"ленивыми\", то есть, когда вы создаете итератор, он не генерирует все значения, а только по необходимости (когда вызывается next())."
   ]
  },
  {
   "cell_type": "markdown",
   "metadata": {},
   "source": [
    "## Генераторы"
   ]
  },
  {
   "cell_type": "markdown",
   "metadata": {},
   "source": [
    "Для упрощения создания итераторов, можно использовать генераторы. Генераторы - возвращают \"последовательность\" результатов."
   ]
  },
  {
   "cell_type": "code",
   "execution_count": null,
   "metadata": {
    "ExecuteTime": {
     "end_time": "2019-10-29T16:17:01.285245Z",
     "start_time": "2019-10-29T16:17:01.278195Z"
    }
   },
   "outputs": [],
   "source": [
    "def my_range(n):\n",
    "    iteration = 0\n",
    "    while iteration < n:\n",
    "        yield iteration\n",
    "        iteration += 1"
   ]
  },
  {
   "cell_type": "code",
   "execution_count": null,
   "metadata": {
    "ExecuteTime": {
     "end_time": "2019-10-29T16:18:41.076573Z",
     "start_time": "2019-10-29T16:18:41.068992Z"
    }
   },
   "outputs": [],
   "source": [
    "generator = my_range(3)\n",
    "print (type(generator))"
   ]
  },
  {
   "cell_type": "code",
   "execution_count": null,
   "metadata": {
    "ExecuteTime": {
     "end_time": "2019-10-29T16:18:45.656374Z",
     "start_time": "2019-10-29T16:18:45.645121Z"
    }
   },
   "outputs": [],
   "source": [
    "next(generator)"
   ]
  },
  {
   "cell_type": "markdown",
   "metadata": {},
   "source": [
    "То есть, генераторы реализуют протокол итераторов."
   ]
  },
  {
   "cell_type": "code",
   "execution_count": null,
   "metadata": {
    "ExecuteTime": {
     "end_time": "2019-10-29T16:17:16.509673Z",
     "start_time": "2019-10-29T16:17:16.502148Z"
    }
   },
   "outputs": [],
   "source": [
    "for i in my_range(3):\n",
    "    print (i)"
   ]
  },
  {
   "cell_type": "markdown",
   "metadata": {},
   "source": [
    "Давайте разбираться, что происходит"
   ]
  },
  {
   "cell_type": "code",
   "execution_count": null,
   "metadata": {
    "ExecuteTime": {
     "end_time": "2019-10-29T16:21:33.815598Z",
     "start_time": "2019-10-29T16:21:33.808450Z"
    }
   },
   "outputs": [],
   "source": [
    "def my_range(n):\n",
    "    print (\"Start: inside my_range\")\n",
    "    \n",
    "    iteration = 0\n",
    "    while iteration < n:\n",
    "        \n",
    "        print (\"Iteration: before yiedl\")\n",
    "        \n",
    "        yield iteration\n",
    "        iteration += 1\n",
    "        \n",
    "        print (\"Iteration: after yiedl\")\n",
    "        \n",
    "    print (\"End: after iteration\")"
   ]
  },
  {
   "cell_type": "markdown",
   "metadata": {},
   "source": [
    "\"Вызываем\"функцию:"
   ]
  },
  {
   "cell_type": "code",
   "execution_count": null,
   "metadata": {
    "ExecuteTime": {
     "end_time": "2019-10-29T16:22:14.089592Z",
     "start_time": "2019-10-29T16:22:14.085403Z"
    }
   },
   "outputs": [],
   "source": [
    "generator = my_range(2)"
   ]
  },
  {
   "cell_type": "markdown",
   "metadata": {},
   "source": [
    "Хм. Давайте в первый раз вызовем next:"
   ]
  },
  {
   "cell_type": "code",
   "execution_count": null,
   "metadata": {
    "ExecuteTime": {
     "end_time": "2019-10-29T16:22:41.711241Z",
     "start_time": "2019-10-29T16:22:41.701884Z"
    }
   },
   "outputs": [],
   "source": [
    "next(generator)"
   ]
  },
  {
   "cell_type": "markdown",
   "metadata": {},
   "source": [
    "Второй:"
   ]
  },
  {
   "cell_type": "code",
   "execution_count": null,
   "metadata": {
    "ExecuteTime": {
     "end_time": "2019-10-29T16:22:58.139052Z",
     "start_time": "2019-10-29T16:22:58.128794Z"
    }
   },
   "outputs": [],
   "source": [
    "next(generator)"
   ]
  },
  {
   "cell_type": "markdown",
   "metadata": {},
   "source": [
    "Третий:"
   ]
  },
  {
   "cell_type": "code",
   "execution_count": null,
   "metadata": {
    "ExecuteTime": {
     "end_time": "2019-10-29T16:23:21.589263Z",
     "start_time": "2019-10-29T16:23:21.574123Z"
    }
   },
   "outputs": [],
   "source": [
    "next(generator)"
   ]
  },
  {
   "cell_type": "markdown",
   "metadata": {},
   "source": [
    "##  Generator comprehension"
   ]
  },
  {
   "cell_type": "markdown",
   "metadata": {},
   "source": [
    "Давайте рассмотрим пример с list compehension:"
   ]
  },
  {
   "cell_type": "code",
   "execution_count": null,
   "metadata": {
    "ExecuteTime": {
     "end_time": "2019-10-29T16:27:32.583409Z",
     "start_time": "2019-10-29T16:27:32.574297Z"
    }
   },
   "outputs": [],
   "source": [
    "new_list = [i**2 for i in range(5)]\n",
    "\n",
    "print (new_list)\n",
    "\n",
    "for i in new_list:\n",
    "    print (i)"
   ]
  },
  {
   "cell_type": "markdown",
   "metadata": {},
   "source": [
    "А теперь пример с generator_comprehension:"
   ]
  },
  {
   "cell_type": "code",
   "execution_count": null,
   "metadata": {
    "ExecuteTime": {
     "end_time": "2019-10-29T16:28:03.464211Z",
     "start_time": "2019-10-29T16:28:03.454705Z"
    }
   },
   "outputs": [],
   "source": [
    "new_list = (i**2 for i in range(5))\n",
    "\n",
    "print (new_list)\n",
    "\n",
    "for i in new_list:\n",
    "    print (i)"
   ]
  },
  {
   "cell_type": "markdown",
   "metadata": {},
   "source": [
    "Чем лучше второй вариант?"
   ]
  },
  {
   "cell_type": "code",
   "execution_count": null,
   "metadata": {},
   "outputs": [],
   "source": []
  }
 ],
 "metadata": {
  "kernelspec": {
   "display_name": "Python 3",
   "language": "python",
   "name": "python3"
  },
  "language_info": {
   "codemirror_mode": {
    "name": "ipython",
    "version": 3
   },
   "file_extension": ".py",
   "mimetype": "text/x-python",
   "name": "python",
   "nbconvert_exporter": "python",
   "pygments_lexer": "ipython3",
   "version": "3.7.3"
  },
  "toc": {
   "base_numbering": 1,
   "nav_menu": {},
   "number_sections": true,
   "sideBar": true,
   "skip_h1_title": true,
   "title_cell": "План лекции",
   "title_sidebar": "Contents",
   "toc_cell": true,
   "toc_position": {
    "height": "380px",
    "left": "10px",
    "top": "150px",
    "width": "165px"
   },
   "toc_section_display": true,
   "toc_window_display": true
  }
 },
 "nbformat": 4,
 "nbformat_minor": 2
}
