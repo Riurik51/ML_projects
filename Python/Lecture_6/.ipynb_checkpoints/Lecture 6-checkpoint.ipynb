{
 "cells": [
  {
   "cell_type": "markdown",
   "metadata": {},
   "source": [
    "# Добрый вечерочек!"
   ]
  },
  {
   "cell_type": "markdown",
   "metadata": {
    "toc": true
   },
   "source": [
    "<h1>План лекции<span class=\"tocSkip\"></span></h1>\n",
    "<div class=\"toc\"><ul class=\"toc-item\"><li><span><a href=\"#Базовая-информация-о-классах\" data-toc-modified-id=\"Базовая-информация-о-классах-1\"><span class=\"toc-item-num\">1&nbsp;&nbsp;</span>Базовая информация о классах</a></span><ul class=\"toc-item\"><li><span><a href=\"#Объявление-класса\" data-toc-modified-id=\"Объявление-класса-1.1\"><span class=\"toc-item-num\">1.1&nbsp;&nbsp;</span>Объявление класса</a></span></li><li><span><a href=\"#Атрибуты\" data-toc-modified-id=\"Атрибуты-1.2\"><span class=\"toc-item-num\">1.2&nbsp;&nbsp;</span>Атрибуты</a></span></li><li><span><a href=\"#Методы\" data-toc-modified-id=\"Методы-1.3\"><span class=\"toc-item-num\">1.3&nbsp;&nbsp;</span>Методы</a></span></li></ul></li><li><span><a href=\"#Наследование\" data-toc-modified-id=\"Наследование-2\"><span class=\"toc-item-num\">2&nbsp;&nbsp;</span>Наследование</a></span><ul class=\"toc-item\"><li><span><a href=\"#Базовая-информация-о-наследовании\" data-toc-modified-id=\"Базовая-информация-о-наследовании-2.1\"><span class=\"toc-item-num\">2.1&nbsp;&nbsp;</span>Базовая информация о наследовании</a></span></li><li><span><a href=\"#Super\" data-toc-modified-id=\"Super-2.2\"><span class=\"toc-item-num\">2.2&nbsp;&nbsp;</span>Super</a></span></li></ul></li><li><span><a href=\"#Перегрузка-функций-и-операторов\" data-toc-modified-id=\"Перегрузка-функций-и-операторов-3\"><span class=\"toc-item-num\">3&nbsp;&nbsp;</span>Перегрузка функций и операторов</a></span><ul class=\"toc-item\"><li><span><a href=\"#Перегрузка-встроенных-функций\" data-toc-modified-id=\"Перегрузка-встроенных-функций-3.1\"><span class=\"toc-item-num\">3.1&nbsp;&nbsp;</span>Перегрузка встроенных функций</a></span><ul class=\"toc-item\"><li><span><a href=\"#str\" data-toc-modified-id=\"str-3.1.1\"><span class=\"toc-item-num\">3.1.1&nbsp;&nbsp;</span>str</a></span></li><li><span><a href=\"#len\" data-toc-modified-id=\"len-3.1.2\"><span class=\"toc-item-num\">3.1.2&nbsp;&nbsp;</span>len</a></span></li><li><span><a href=\"#bool\" data-toc-modified-id=\"bool-3.1.3\"><span class=\"toc-item-num\">3.1.3&nbsp;&nbsp;</span>bool</a></span></li></ul></li><li><span><a href=\"#Перегрузка-встроенных-операторов\" data-toc-modified-id=\"Перегрузка-встроенных-операторов-3.2\"><span class=\"toc-item-num\">3.2&nbsp;&nbsp;</span>Перегрузка встроенных операторов</a></span><ul class=\"toc-item\"><li><span><a href=\"#+-/-+=\" data-toc-modified-id=\"+-/-+=-3.2.1\"><span class=\"toc-item-num\">3.2.1&nbsp;&nbsp;</span>+ / +=</a></span></li><li><span><a href=\"#[]\" data-toc-modified-id=\"[]-3.2.2\"><span class=\"toc-item-num\">3.2.2&nbsp;&nbsp;</span>[]</a></span></li><li><span><a href=\"#==/-!=\" data-toc-modified-id=\"==/-!=-3.2.3\"><span class=\"toc-item-num\">3.2.3&nbsp;&nbsp;</span>==/ !=</a></span></li></ul></li></ul></li><li><span><a href=\"#Статические-методы\" data-toc-modified-id=\"Статические-методы-4\"><span class=\"toc-item-num\">4&nbsp;&nbsp;</span>Статические методы</a></span></li><li><span><a href=\"#Абстрактные-классы-и-методы\" data-toc-modified-id=\"Абстрактные-классы-и-методы-5\"><span class=\"toc-item-num\">5&nbsp;&nbsp;</span>Абстрактные классы и методы</a></span></li></ul></div>"
   ]
  },
  {
   "cell_type": "markdown",
   "metadata": {},
   "source": [
    "## Базовая информация о классах"
   ]
  },
  {
   "cell_type": "markdown",
   "metadata": {},
   "source": [
    "Классы необходимы для того, чтобы создавать новые пользовательские структуры данных."
   ]
  },
  {
   "cell_type": "markdown",
   "metadata": {},
   "source": [
    "Давайте создадим структуру данных, которая будет описывать фигуры на двумерной плоскости."
   ]
  },
  {
   "cell_type": "markdown",
   "metadata": {},
   "source": [
    "### Объявление класса"
   ]
  },
  {
   "cell_type": "markdown",
   "metadata": {},
   "source": [
    "Давайте создадим класс Фигура:"
   ]
  },
  {
   "cell_type": "code",
   "execution_count": 1,
   "metadata": {
    "ExecuteTime": {
     "end_time": "2019-10-21T15:37:41.469950Z",
     "start_time": "2019-10-21T15:37:41.464743Z"
    }
   },
   "outputs": [],
   "source": [
    "class Figure:\n",
    "    pass"
   ]
  },
  {
   "cell_type": "markdown",
   "metadata": {},
   "source": [
    "pass -  зарезервированное слово, используется, чтобы обозначить место, где в будущем будет код"
   ]
  },
  {
   "cell_type": "code",
   "execution_count": 2,
   "metadata": {
    "ExecuteTime": {
     "end_time": "2019-10-21T15:37:42.692473Z",
     "start_time": "2019-10-21T15:37:42.686700Z"
    }
   },
   "outputs": [],
   "source": [
    "figure = Figure()"
   ]
  },
  {
   "cell_type": "code",
   "execution_count": 3,
   "metadata": {
    "code_folding": [
     0
    ]
   },
   "outputs": [
    {
     "name": "stdout",
     "output_type": "stream",
     "text": [
      "<class '__main__.Figure'>\n"
     ]
    }
   ],
   "source": [
    "# как вы думаете, какой будет тип?\n",
    "\n",
    "print (type(figure))"
   ]
  },
  {
   "cell_type": "markdown",
   "metadata": {},
   "source": [
    "В коде выше мы создали объект класса (еще говорят инстанс). \n",
    "\n",
    "Если Figure - это некая структура (каркас) для данных, то объект класса - это сами данные."
   ]
  },
  {
   "cell_type": "markdown",
   "metadata": {},
   "source": [
    "### Атрибуты"
   ]
  },
  {
   "cell_type": "markdown",
   "metadata": {},
   "source": [
    "Классы содержат в себе некоторые характеристики, которые называются атрибутами класса. \n",
    "\n",
    "Для того, чтобы задать начальное значение атрибутов, нужно использовать \\_\\_init\\_\\_:"
   ]
  },
  {
   "cell_type": "code",
   "execution_count": 4,
   "metadata": {
    "ExecuteTime": {
     "end_time": "2019-10-21T15:29:52.676455Z",
     "start_time": "2019-10-21T15:29:52.668739Z"
    }
   },
   "outputs": [],
   "source": [
    "class Figure():\n",
    "    def __init__(self, x, y):\n",
    "        self.x = x\n",
    "        self.y = y"
   ]
  },
  {
   "cell_type": "markdown",
   "metadata": {},
   "source": [
    "Этот метод имеет как минимум один аргумент - self:\n",
    "\n",
    "self - указатель на сам объект"
   ]
  },
  {
   "cell_type": "markdown",
   "metadata": {
    "ExecuteTime": {
     "end_time": "2019-10-21T15:34:28.184035Z",
     "start_time": "2019-10-21T15:34:28.175188Z"
    }
   },
   "source": [
    "\\_\\_init\\_\\_ вызывается автоматически при создании объекта"
   ]
  },
  {
   "cell_type": "code",
   "execution_count": null,
   "metadata": {
    "ExecuteTime": {
     "end_time": "2019-10-23T13:20:04.451768Z",
     "start_time": "2019-10-23T13:20:04.437155Z"
    }
   },
   "outputs": [],
   "source": [
    "figure_1 = Figure(0, 0)\n",
    "\n",
    "figure_2 = Figure(0, 0)  \n",
    "\n",
    "figure_3 = Figure(1.4, 2)  "
   ]
  },
  {
   "cell_type": "code",
   "execution_count": null,
   "metadata": {
    "ExecuteTime": {
     "end_time": "2019-10-21T15:37:02.720668Z",
     "start_time": "2019-10-21T15:37:02.711319Z"
    }
   },
   "outputs": [],
   "source": [
    "print (figure_1 == figure_2)"
   ]
  },
  {
   "cell_type": "code",
   "execution_count": null,
   "metadata": {
    "ExecuteTime": {
     "end_time": "2019-10-21T15:37:09.237519Z",
     "start_time": "2019-10-21T15:37:09.229349Z"
    }
   },
   "outputs": [],
   "source": [
    "print (figure_1 == figure_3)"
   ]
  },
  {
   "cell_type": "code",
   "execution_count": null,
   "metadata": {
    "ExecuteTime": {
     "end_time": "2019-10-21T15:37:13.213171Z",
     "start_time": "2019-10-21T15:37:13.207174Z"
    }
   },
   "outputs": [],
   "source": [
    "print (figure_1 == figure_1)"
   ]
  },
  {
   "cell_type": "markdown",
   "metadata": {},
   "source": [
    "Если значения атрибутов одинаковые для всех экземпляров класса, то можно делать так:"
   ]
  },
  {
   "cell_type": "code",
   "execution_count": null,
   "metadata": {
    "ExecuteTime": {
     "end_time": "2019-10-23T13:27:21.341948Z",
     "start_time": "2019-10-23T13:27:21.334544Z"
    }
   },
   "outputs": [],
   "source": [
    "class Figure():\n",
    "    # атрибуты класса\n",
    "    dimension = 2\n",
    "    \n",
    "    # Инициализатор/ атрибуты инстанса\n",
    "    def __init__(self, x, y):\n",
    "        self.x = x\n",
    "        self.y = y"
   ]
  },
  {
   "cell_type": "markdown",
   "metadata": {},
   "source": [
    "В использовании нет никакой разницы между ними."
   ]
  },
  {
   "cell_type": "code",
   "execution_count": null,
   "metadata": {
    "ExecuteTime": {
     "end_time": "2019-10-22T16:18:47.585537Z",
     "start_time": "2019-10-22T16:18:47.576753Z"
    }
   },
   "outputs": [],
   "source": [
    "figure = Figure(0, 0)\n",
    "\n",
    "print (\n",
    "    f\"Размерность фигуры: {figure.dimension}, \" \n",
    "    f\"абсцисса центра: {figure.x}, \",\n",
    "    f\"ордината центра: {figure.y}\")"
   ]
  },
  {
   "cell_type": "markdown",
   "metadata": {},
   "source": [
    "Но можно делать так!"
   ]
  },
  {
   "cell_type": "code",
   "execution_count": null,
   "metadata": {
    "ExecuteTime": {
     "end_time": "2019-10-22T16:18:57.990774Z",
     "start_time": "2019-10-22T16:18:57.982168Z"
    }
   },
   "outputs": [],
   "source": [
    "Figure.dimension"
   ]
  },
  {
   "cell_type": "markdown",
   "metadata": {},
   "source": [
    "А так нельзя, тк это атрибут инстанса:"
   ]
  },
  {
   "cell_type": "code",
   "execution_count": null,
   "metadata": {
    "ExecuteTime": {
     "end_time": "2019-10-22T16:19:27.982676Z",
     "start_time": "2019-10-22T16:19:27.967171Z"
    }
   },
   "outputs": [],
   "source": [
    "Figure.x"
   ]
  },
  {
   "cell_type": "markdown",
   "metadata": {},
   "source": [
    "Как написать счетчик количества \"активных\" объектов?"
   ]
  },
  {
   "cell_type": "code",
   "execution_count": null,
   "metadata": {},
   "outputs": [],
   "source": []
  },
  {
   "cell_type": "markdown",
   "metadata": {},
   "source": [
    "### Методы"
   ]
  },
  {
   "cell_type": "markdown",
   "metadata": {},
   "source": [
    "Методы - это функции внутри класса, которые делают некоторые манипуляции с атрибутами."
   ]
  },
  {
   "cell_type": "code",
   "execution_count": null,
   "metadata": {
    "ExecuteTime": {
     "end_time": "2019-10-21T16:25:17.708297Z",
     "start_time": "2019-10-21T16:25:17.697067Z"
    },
    "code_folding": [
     0
    ]
   },
   "outputs": [],
   "source": [
    "# пример класса с методами\n",
    "\n",
    "class Figure:\n",
    "    # атрибуты класса\n",
    "    dimension = 2\n",
    "    \n",
    "    # Инициализатор/ атрибуты инстанса\n",
    "    def __init__(self, x, y):\n",
    "        self.x = x\n",
    "        self.y = y\n",
    "    \n",
    "    # Метод\n",
    "    def describe(self):\n",
    "        print (\n",
    "            f\"Размерность фигуры: {self.dimension}, \" \n",
    "            f\"абсцисса центра: {self.x}, \",\n",
    "            f\"ордината центра: {self.y}\")\n",
    "    \n",
    "    # Метод\n",
    "    def set_center(self, x, y):\n",
    "        self.x = x\n",
    "        self.y = y"
   ]
  },
  {
   "cell_type": "code",
   "execution_count": null,
   "metadata": {
    "ExecuteTime": {
     "end_time": "2019-10-21T16:25:18.175141Z",
     "start_time": "2019-10-21T16:25:18.165783Z"
    },
    "code_folding": [
     0
    ]
   },
   "outputs": [],
   "source": [
    "# создаем инстанс\n",
    "figure = Figure(0, 0)\n",
    "\n",
    "# вызов описательного метода\n",
    "figure.describe()"
   ]
  },
  {
   "cell_type": "code",
   "execution_count": null,
   "metadata": {
    "ExecuteTime": {
     "end_time": "2019-10-21T16:25:19.983824Z",
     "start_time": "2019-10-21T16:25:19.974602Z"
    },
    "code_folding": [
     0
    ]
   },
   "outputs": [],
   "source": [
    "# новые координаты центра\n",
    "figure.set_center(1, 2)\n",
    "\n",
    "# вызов описательного метода\n",
    "figure.describe()"
   ]
  },
  {
   "cell_type": "markdown",
   "metadata": {},
   "source": [
    "## Наследование"
   ]
  },
  {
   "cell_type": "markdown",
   "metadata": {
    "ExecuteTime": {
     "end_time": "2019-10-21T15:57:58.124433Z",
     "start_time": "2019-10-21T15:57:58.116519Z"
    }
   },
   "source": [
    "Класс может наследоваться от родительского класса. \n",
    "\n",
    "Это значит, что дочерний класс наследует все методы и атрибуты родительского."
   ]
  },
  {
   "cell_type": "markdown",
   "metadata": {},
   "source": [
    "### Базовая информация о наследовании"
   ]
  },
  {
   "cell_type": "code",
   "execution_count": null,
   "metadata": {
    "ExecuteTime": {
     "end_time": "2019-10-23T13:37:03.430863Z",
     "start_time": "2019-10-23T13:37:03.420150Z"
    }
   },
   "outputs": [],
   "source": [
    "class Figure:\n",
    "    # атрибуты класса\n",
    "    dimension = 2\n",
    "    \n",
    "    # Инициализатор/ атрибуты инстанса\n",
    "    def __init__(self, x, y):\n",
    "        self.x = x\n",
    "        self.y = y\n",
    "    \n",
    "    # Метод\n",
    "    def describe(self):\n",
    "        print (\n",
    "            f\"Размерность фигуры: {self.dimension}, \" \n",
    "            f\"абсцисса центра: {self.x}, \",\n",
    "            f\"ордината центра: {self.y}\")\n",
    "    \n",
    "    # Метод\n",
    "    def set_center(self, x, y):\n",
    "        self.x = x\n",
    "        self.y = y"
   ]
  },
  {
   "cell_type": "markdown",
   "metadata": {},
   "source": [
    "Допустим, мы хотим написать метод, который считает площадь фигуры. \n",
    "\n",
    "Очевидно, что для разных фигур будет разная формула площади.\n",
    "\n",
    "И, вообще говоря, разные инициализации."
   ]
  },
  {
   "cell_type": "code",
   "execution_count": null,
   "metadata": {
    "ExecuteTime": {
     "end_time": "2019-10-23T13:37:56.538120Z",
     "start_time": "2019-10-23T13:37:56.526232Z"
    }
   },
   "outputs": [],
   "source": [
    "import math\n",
    "\n",
    "\n",
    "class Circle(Figure):\n",
    "    def __init__(self, x, y, r):\n",
    "        self.x = x\n",
    "        self.y = y\n",
    "        self.r  = r\n",
    "        \n",
    "    def area(self):\n",
    "        return math.pi * self.r**2\n",
    "    \n",
    "class Square(Figure):\n",
    "    def __init__(self, x, y, a):\n",
    "        self.x = x\n",
    "        self.y = y\n",
    "        self.a  = a\n",
    "        \n",
    "    def area(self):\n",
    "        return self.a**2"
   ]
  },
  {
   "cell_type": "code",
   "execution_count": null,
   "metadata": {
    "ExecuteTime": {
     "end_time": "2019-10-23T13:37:56.651139Z",
     "start_time": "2019-10-23T13:37:56.645387Z"
    },
    "code_folding": [
     0
    ]
   },
   "outputs": [],
   "source": [
    "#инициализируем потомков\n",
    "\n",
    "circle = Circle(0, 0, 1)\n",
    "\n",
    "square = Square(0, 0, 1)"
   ]
  },
  {
   "cell_type": "code",
   "execution_count": null,
   "metadata": {
    "ExecuteTime": {
     "end_time": "2019-10-21T16:24:52.619852Z",
     "start_time": "2019-10-21T16:24:52.613380Z"
    },
    "code_folding": [
     0
    ]
   },
   "outputs": [],
   "source": [
    "# доступны все атрибуты и методы родительского класса\n",
    "\n",
    "print (circle.dimension)\n",
    "\n",
    "circle.describe()"
   ]
  },
  {
   "cell_type": "code",
   "execution_count": null,
   "metadata": {
    "ExecuteTime": {
     "end_time": "2019-10-21T16:25:08.196254Z",
     "start_time": "2019-10-21T16:25:08.190198Z"
    },
    "code_folding": [
     0
    ]
   },
   "outputs": [],
   "source": [
    "# новые тоже на месте\n",
    "\n",
    "print (f\"Площадь круга: {circle.area()}\")\n",
    "\n",
    "print (f\"Площадь квадрата: {square.area()}\")"
   ]
  },
  {
   "cell_type": "code",
   "execution_count": null,
   "metadata": {
    "ExecuteTime": {
     "end_time": "2019-10-21T16:25:08.659642Z",
     "start_time": "2019-10-21T16:25:08.652948Z"
    }
   },
   "outputs": [],
   "source": [
    "print (type(square))\n",
    "print (type(circle))"
   ]
  },
  {
   "cell_type": "code",
   "execution_count": null,
   "metadata": {
    "ExecuteTime": {
     "end_time": "2019-10-21T16:25:09.220411Z",
     "start_time": "2019-10-21T16:25:09.213675Z"
    },
    "code_folding": [
     0
    ]
   },
   "outputs": [],
   "source": [
    "# isinctance \n",
    "\n",
    "print (isinstance(circle, Figure))\n",
    "\n",
    "print (isinstance(circle, Circle))\n",
    "\n",
    "print (isinstance(circle, Square))"
   ]
  },
  {
   "cell_type": "markdown",
   "metadata": {},
   "source": [
    "###  Super"
   ]
  },
  {
   "cell_type": "code",
   "execution_count": null,
   "metadata": {
    "ExecuteTime": {
     "end_time": "2019-10-21T16:35:37.587041Z",
     "start_time": "2019-10-21T16:35:37.576926Z"
    }
   },
   "outputs": [],
   "source": [
    "class Figure:\n",
    "    # атрибуты класса\n",
    "    dimension = 2\n",
    "    \n",
    "    # Инициализатор/ атрибуты инстанса\n",
    "    def __init__(self, x, y):\n",
    "        self.x = x\n",
    "        self.y = y\n",
    "    \n",
    "    # Метод\n",
    "    def describe(self):\n",
    "        print (\n",
    "            f\"Размерность фигуры: {self.dimension}, \" \n",
    "            f\"абсцисса центра: {self.x}, \",\n",
    "            f\"ордината центра: {self.y}\")\n",
    "    \n",
    "    # Метод\n",
    "    def set_center(self, x, y):\n",
    "        self.x = x\n",
    "        self.y = y"
   ]
  },
  {
   "cell_type": "code",
   "execution_count": null,
   "metadata": {
    "ExecuteTime": {
     "end_time": "2019-10-21T16:32:16.069932Z",
     "start_time": "2019-10-21T16:32:16.060041Z"
    },
    "code_folding": [
     0
    ]
   },
   "outputs": [],
   "source": [
    "# квадрат\n",
    "\n",
    "class Square(Figure):\n",
    "    def __init__(self, x, y, a):\n",
    "        # компактно\n",
    "        super().__init__(x, y)\n",
    "        self.a  = a\n",
    "        \n",
    "    def area(self):\n",
    "        print (\"Square area function\")\n",
    "        return self.a**2"
   ]
  },
  {
   "cell_type": "code",
   "execution_count": null,
   "metadata": {
    "code_folding": [
     0
    ]
   },
   "outputs": [],
   "source": [
    "# куб\n",
    "\n",
    "class Cube(Square):\n",
    "    def surface_area(self):\n",
    "        print (\"Cube area function\")\n",
    "        square_area = super().area()\n",
    "        return 6*square_area\n",
    "    \n",
    "    def volume(self):\n",
    "        print (\"Cube volume function\")\n",
    "        square_area = super().area()\n",
    "        return square_area*self.a"
   ]
  },
  {
   "cell_type": "code",
   "execution_count": null,
   "metadata": {
    "ExecuteTime": {
     "end_time": "2019-10-21T16:31:52.335770Z",
     "start_time": "2019-10-21T16:31:52.329930Z"
    }
   },
   "outputs": [],
   "source": [
    "cube = Cube(0, 0, 1)"
   ]
  },
  {
   "cell_type": "code",
   "execution_count": null,
   "metadata": {
    "ExecuteTime": {
     "end_time": "2019-10-21T16:31:57.984115Z",
     "start_time": "2019-10-21T16:31:57.975677Z"
    }
   },
   "outputs": [],
   "source": [
    "cube.surface_area()"
   ]
  },
  {
   "cell_type": "code",
   "execution_count": null,
   "metadata": {
    "ExecuteTime": {
     "end_time": "2019-10-21T16:32:24.015352Z",
     "start_time": "2019-10-21T16:32:24.007098Z"
    }
   },
   "outputs": [],
   "source": [
    "cube.volume()"
   ]
  },
  {
   "cell_type": "markdown",
   "metadata": {},
   "source": [
    "А если мы хотим добавить описание, то нам нужен доступ к методу describe() класса Figure:"
   ]
  },
  {
   "cell_type": "code",
   "execution_count": null,
   "metadata": {
    "ExecuteTime": {
     "end_time": "2019-10-21T16:40:33.830984Z",
     "start_time": "2019-10-21T16:40:33.817491Z"
    }
   },
   "outputs": [],
   "source": [
    "# куб с описанием\n",
    "\n",
    "class Square(Figure):\n",
    "    def __init__(self, x, y, a):\n",
    "        # компактно\n",
    "        super().__init__(x, y)\n",
    "        self.a  = a\n",
    "        \n",
    "    def area(self):\n",
    "        return self.a**2\n",
    "\n",
    "class Cube(Square):\n",
    "    def surface_area(self):\n",
    "        square_area = super().area()\n",
    "        return 6*square_area\n",
    "    \n",
    "    def volume(self):\n",
    "        square_area = super().area()\n",
    "        return square_area*self.a\n",
    "    \n",
    "    def describe(self):\n",
    "        super(Square, self).describe()\n",
    "        print (\n",
    "            f\"Площадь поверхности фигуры: {self.surface_area()}, \" \n",
    "            f\"объем фигуры: {self.volume()}\")"
   ]
  },
  {
   "cell_type": "code",
   "execution_count": null,
   "metadata": {
    "ExecuteTime": {
     "end_time": "2019-10-21T16:40:35.287651Z",
     "start_time": "2019-10-21T16:40:35.279062Z"
    }
   },
   "outputs": [],
   "source": [
    "cube = Cube(0, 0, 1)\n",
    "\n",
    "cube.describe()"
   ]
  },
  {
   "cell_type": "markdown",
   "metadata": {},
   "source": [
    "Что надо сделать, чтобы добавить каунтер всех кубов как атрибут класса Figure?"
   ]
  },
  {
   "cell_type": "markdown",
   "metadata": {},
   "source": [
    "## Перегрузка функций и операторов"
   ]
  },
  {
   "cell_type": "markdown",
   "metadata": {},
   "source": [
    "Вы, наверное, уже замечали, что операторы сложения/умножения могут нести разный функционал при работе с разными типами:"
   ]
  },
  {
   "cell_type": "code",
   "execution_count": null,
   "metadata": {
    "ExecuteTime": {
     "end_time": "2019-10-21T16:49:20.680570Z",
     "start_time": "2019-10-21T16:49:20.672040Z"
    }
   },
   "outputs": [],
   "source": [
    "1 + 2"
   ]
  },
  {
   "cell_type": "code",
   "execution_count": null,
   "metadata": {
    "ExecuteTime": {
     "end_time": "2019-10-21T16:49:28.620210Z",
     "start_time": "2019-10-21T16:49:28.612898Z"
    }
   },
   "outputs": [],
   "source": [
    "'a' + 'b'"
   ]
  },
  {
   "cell_type": "code",
   "execution_count": null,
   "metadata": {
    "ExecuteTime": {
     "end_time": "2019-10-21T16:49:34.848069Z",
     "start_time": "2019-10-21T16:49:34.840650Z"
    }
   },
   "outputs": [],
   "source": [
    "3*2"
   ]
  },
  {
   "cell_type": "code",
   "execution_count": null,
   "metadata": {
    "ExecuteTime": {
     "end_time": "2019-10-21T16:49:37.982064Z",
     "start_time": "2019-10-21T16:49:37.974775Z"
    }
   },
   "outputs": [],
   "source": [
    "'a'*2"
   ]
  },
  {
   "cell_type": "markdown",
   "metadata": {},
   "source": [
    "Это достигается с помощью перегрузки этих функций.\n",
    "\n",
    "Все типы в питоне - это классы, переменные - объекты класса. "
   ]
  },
  {
   "cell_type": "markdown",
   "metadata": {},
   "source": [
    "### Перегрузка встроенных функций"
   ]
  },
  {
   "cell_type": "markdown",
   "metadata": {},
   "source": [
    "#### str"
   ]
  },
  {
   "cell_type": "markdown",
   "metadata": {},
   "source": [
    "Вы, наверное, замечали, что можно сделать такую штуку: "
   ]
  },
  {
   "cell_type": "code",
   "execution_count": null,
   "metadata": {
    "ExecuteTime": {
     "end_time": "2019-10-23T13:43:40.339248Z",
     "start_time": "2019-10-23T13:43:40.333068Z"
    }
   },
   "outputs": [],
   "source": [
    "some_list = [1, 2, 3]\n",
    "\n",
    "print (some_list)"
   ]
  },
  {
   "cell_type": "code",
   "execution_count": null,
   "metadata": {
    "ExecuteTime": {
     "end_time": "2019-10-23T13:43:54.154858Z",
     "start_time": "2019-10-23T13:43:54.147308Z"
    }
   },
   "outputs": [],
   "source": [
    "str(some_list)"
   ]
  },
  {
   "cell_type": "markdown",
   "metadata": {},
   "source": [
    "Давайте попробуем сделать то же самое с кастомным объектом класса:"
   ]
  },
  {
   "cell_type": "code",
   "execution_count": null,
   "metadata": {
    "ExecuteTime": {
     "end_time": "2019-10-23T13:44:22.264750Z",
     "start_time": "2019-10-23T13:44:22.258762Z"
    }
   },
   "outputs": [],
   "source": [
    "class Item:\n",
    "    def __init__(self, name, price):\n",
    "        self.name = name\n",
    "        self.price = price"
   ]
  },
  {
   "cell_type": "code",
   "execution_count": null,
   "metadata": {
    "ExecuteTime": {
     "end_time": "2019-10-23T13:44:22.384635Z",
     "start_time": "2019-10-23T13:44:22.378353Z"
    }
   },
   "outputs": [],
   "source": [
    "item = Item(\"Iphone\", 90000.)\n",
    "\n",
    "print (item)"
   ]
  },
  {
   "cell_type": "code",
   "execution_count": null,
   "metadata": {
    "ExecuteTime": {
     "end_time": "2019-10-23T13:44:32.625965Z",
     "start_time": "2019-10-23T13:44:32.621123Z"
    },
    "code_folding": [
     0
    ]
   },
   "outputs": [],
   "source": [
    "#  исправим это\n",
    "\n",
    "class Item:\n",
    "    def __init__(self, name, price):\n",
    "        self.name = name\n",
    "        self.price = price\n",
    "        \n",
    "    def __str__(self):\n",
    "        return (f\"Product name: '{self.name}', price: {self.price}\")"
   ]
  },
  {
   "cell_type": "code",
   "execution_count": null,
   "metadata": {
    "ExecuteTime": {
     "end_time": "2019-10-23T13:44:32.781455Z",
     "start_time": "2019-10-23T13:44:32.774721Z"
    }
   },
   "outputs": [],
   "source": [
    "item = Item(\"Iphone\", 90000.)\n",
    "\n",
    "print (item)"
   ]
  },
  {
   "cell_type": "markdown",
   "metadata": {},
   "source": [
    "#### len"
   ]
  },
  {
   "cell_type": "markdown",
   "metadata": {
    "ExecuteTime": {
     "end_time": "2019-10-23T13:45:15.529887Z",
     "start_time": "2019-10-23T13:45:15.522506Z"
    }
   },
   "source": [
    "А как сделать вот такую штуку?"
   ]
  },
  {
   "cell_type": "code",
   "execution_count": null,
   "metadata": {
    "ExecuteTime": {
     "end_time": "2019-10-23T13:45:35.627386Z",
     "start_time": "2019-10-23T13:45:35.620308Z"
    }
   },
   "outputs": [],
   "source": [
    "some_list = [1, 2, 3]\n",
    "\n",
    "print (len(some_list))"
   ]
  },
  {
   "cell_type": "code",
   "execution_count": null,
   "metadata": {
    "ExecuteTime": {
     "end_time": "2019-10-23T13:45:46.694090Z",
     "start_time": "2019-10-23T13:45:46.686276Z"
    }
   },
   "outputs": [],
   "source": [
    "class Cart():\n",
    "    def __init__(self, items):\n",
    "        self.items = items"
   ]
  },
  {
   "cell_type": "code",
   "execution_count": null,
   "metadata": {
    "ExecuteTime": {
     "end_time": "2019-10-23T13:45:47.411070Z",
     "start_time": "2019-10-23T13:45:47.396452Z"
    }
   },
   "outputs": [],
   "source": [
    "cart = Cart([])\n",
    "\n",
    "print (len(cart))"
   ]
  },
  {
   "cell_type": "code",
   "execution_count": null,
   "metadata": {
    "ExecuteTime": {
     "end_time": "2019-10-21T16:59:42.034187Z",
     "start_time": "2019-10-21T16:59:42.028360Z"
    }
   },
   "outputs": [],
   "source": [
    "class Cart():\n",
    "    def __init__(self, items):\n",
    "        self.items = items\n",
    "        \n",
    "    def __len__(self):\n",
    "        return len(self.items)"
   ]
  },
  {
   "cell_type": "code",
   "execution_count": null,
   "metadata": {
    "ExecuteTime": {
     "end_time": "2019-10-21T16:59:42.622090Z",
     "start_time": "2019-10-21T16:59:42.614635Z"
    }
   },
   "outputs": [],
   "source": [
    "cart = Cart([])\n",
    "\n",
    "print (len(cart))"
   ]
  },
  {
   "cell_type": "markdown",
   "metadata": {},
   "source": [
    "#### bool"
   ]
  },
  {
   "cell_type": "code",
   "execution_count": null,
   "metadata": {
    "ExecuteTime": {
     "end_time": "2019-10-21T17:01:13.172385Z",
     "start_time": "2019-10-21T17:01:13.163983Z"
    }
   },
   "outputs": [],
   "source": [
    "class Cart():\n",
    "    def __init__(self, items):\n",
    "        self.items = items\n",
    "        \n",
    "    def __len__(self):\n",
    "        return len(self.items)\n",
    "    \n",
    "    def __bool__(self):\n",
    "        return len(self.items) > 0"
   ]
  },
  {
   "cell_type": "code",
   "execution_count": null,
   "metadata": {
    "ExecuteTime": {
     "end_time": "2019-10-23T13:46:51.660449Z",
     "start_time": "2019-10-23T13:46:51.653366Z"
    }
   },
   "outputs": [],
   "source": [
    "cart = Cart([1])\n",
    "\n",
    "print (bool(cart))"
   ]
  },
  {
   "cell_type": "code",
   "execution_count": null,
   "metadata": {
    "ExecuteTime": {
     "end_time": "2019-10-23T13:46:52.043496Z",
     "start_time": "2019-10-23T13:46:52.035117Z"
    }
   },
   "outputs": [],
   "source": [
    "if cart:\n",
    "    print (\"Non empty!\")\n",
    "else:\n",
    "    print (\"Empty!\")"
   ]
  },
  {
   "cell_type": "markdown",
   "metadata": {},
   "source": [
    "### Перегрузка встроенных операторов"
   ]
  },
  {
   "cell_type": "markdown",
   "metadata": {},
   "source": [
    "#### + / +="
   ]
  },
  {
   "cell_type": "markdown",
   "metadata": {},
   "source": [
    "Можно ведь еще и вот так сделать!"
   ]
  },
  {
   "cell_type": "code",
   "execution_count": null,
   "metadata": {
    "ExecuteTime": {
     "end_time": "2019-10-23T13:47:57.767400Z",
     "start_time": "2019-10-23T13:47:57.760115Z"
    }
   },
   "outputs": [],
   "source": [
    "some_list = [1, 2, 3]\n",
    "\n",
    "print (some_list + [2, 3])"
   ]
  },
  {
   "cell_type": "code",
   "execution_count": null,
   "metadata": {
    "ExecuteTime": {
     "end_time": "2019-10-21T17:20:21.610769Z",
     "start_time": "2019-10-21T17:20:21.599648Z"
    }
   },
   "outputs": [],
   "source": [
    "class Item:\n",
    "    def __init__(self, name, price):\n",
    "        self.name = name\n",
    "        self.price = price\n",
    "        \n",
    "    def __str__(self):\n",
    "        return (f\"Product name: '{self.name}', price: {self.price}\")\n",
    "\n",
    "class Cart():\n",
    "    def __init__(self, items):\n",
    "        self.items = items\n",
    "        \n",
    "    def __len__(self):\n",
    "        return len(self.items)\n",
    "    \n",
    "    def __bool__(self):\n",
    "        return len(self.items) > 0"
   ]
  },
  {
   "cell_type": "code",
   "execution_count": null,
   "metadata": {
    "ExecuteTime": {
     "end_time": "2019-10-21T17:20:21.921328Z",
     "start_time": "2019-10-21T17:20:21.915513Z"
    }
   },
   "outputs": [],
   "source": [
    "item = Item(\"Iphone\", 20000)\n",
    "\n",
    "cart = Cart([])"
   ]
  },
  {
   "cell_type": "code",
   "execution_count": null,
   "metadata": {
    "ExecuteTime": {
     "end_time": "2019-10-21T17:20:22.224363Z",
     "start_time": "2019-10-21T17:20:22.208859Z"
    }
   },
   "outputs": [],
   "source": [
    "cart + item"
   ]
  },
  {
   "cell_type": "code",
   "execution_count": null,
   "metadata": {
    "ExecuteTime": {
     "end_time": "2019-10-21T17:20:26.214643Z",
     "start_time": "2019-10-21T17:20:26.205225Z"
    }
   },
   "outputs": [],
   "source": [
    "class Cart():\n",
    "    def __init__(self, items):\n",
    "        self.items = items\n",
    "        \n",
    "    def __len__(self):\n",
    "        return len(self.items)\n",
    "    \n",
    "    def __bool__(self):\n",
    "        return len(self.items) > 0\n",
    "    \n",
    "    def __str__(self):\n",
    "        return \"Cart: \\n\"+ \"\\n\".join([str(i) for i in self.items])\n",
    "    \n",
    "    def __add__(self, item):\n",
    "        new_items = self.items.copy()\n",
    "        new_items.append(item)\n",
    "        return Cart(new_items)"
   ]
  },
  {
   "cell_type": "code",
   "execution_count": null,
   "metadata": {
    "ExecuteTime": {
     "end_time": "2019-10-21T17:20:26.366450Z",
     "start_time": "2019-10-21T17:20:26.360702Z"
    }
   },
   "outputs": [],
   "source": [
    "item = Item(\"Iphone\", 20000)\n",
    "\n",
    "cart = Cart([])"
   ]
  },
  {
   "cell_type": "code",
   "execution_count": null,
   "metadata": {
    "ExecuteTime": {
     "end_time": "2019-10-21T17:20:26.526282Z",
     "start_time": "2019-10-21T17:20:26.518224Z"
    }
   },
   "outputs": [],
   "source": [
    "new_cart= cart + item\n",
    "\n",
    "print (new_cart)"
   ]
  },
  {
   "cell_type": "markdown",
   "metadata": {},
   "source": [
    "Но!"
   ]
  },
  {
   "cell_type": "code",
   "execution_count": null,
   "metadata": {
    "ExecuteTime": {
     "end_time": "2019-10-21T17:20:44.445328Z",
     "start_time": "2019-10-21T17:20:44.427775Z"
    }
   },
   "outputs": [],
   "source": [
    "item + cart"
   ]
  },
  {
   "cell_type": "markdown",
   "metadata": {
    "ExecuteTime": {
     "end_time": "2019-10-21T17:21:02.036471Z",
     "start_time": "2019-10-21T17:21:02.028497Z"
    }
   },
   "source": [
    "В данном случае нет коммутативности (она и не нужна). Но бывают случаи, когда нужна:"
   ]
  },
  {
   "cell_type": "code",
   "execution_count": null,
   "metadata": {
    "ExecuteTime": {
     "end_time": "2019-10-21T17:21:50.409140Z",
     "start_time": "2019-10-21T17:21:50.397962Z"
    }
   },
   "outputs": [],
   "source": [
    "class Cart():\n",
    "    def __init__(self, items):\n",
    "        self.items = items\n",
    "        \n",
    "    def __len__(self):\n",
    "        return len(self.items)\n",
    "    \n",
    "    def __bool__(self):\n",
    "        return len(self.items) > 0\n",
    "    \n",
    "    def __str__(self):\n",
    "        return \"Cart: \\n\"+ \"\\n\".join([str(i) for i in self.items])\n",
    "    \n",
    "    def __add__(self, item):\n",
    "        new_items = self.items.copy()\n",
    "        new_items.append(item)\n",
    "        return Cart(new_items)\n",
    "    \n",
    "    def __radd__(self, item):\n",
    "        return self.__add__(item)"
   ]
  },
  {
   "cell_type": "code",
   "execution_count": null,
   "metadata": {
    "ExecuteTime": {
     "end_time": "2019-10-21T17:22:15.237992Z",
     "start_time": "2019-10-21T17:22:15.229510Z"
    }
   },
   "outputs": [],
   "source": [
    "item = Item(\"Iphone\", 20000)\n",
    "\n",
    "cart = Cart([])\n",
    "\n",
    "print (cart + item)\n",
    "\n",
    "print (item + cart)"
   ]
  },
  {
   "cell_type": "markdown",
   "metadata": {},
   "source": [
    "А теперь поговорим о +=.\n",
    "\n",
    "Как вы думаете, в чем отличие от +?"
   ]
  },
  {
   "cell_type": "code",
   "execution_count": null,
   "metadata": {
    "ExecuteTime": {
     "end_time": "2019-10-21T17:10:36.617386Z",
     "start_time": "2019-10-21T17:10:36.607150Z"
    }
   },
   "outputs": [],
   "source": [
    "class Cart():\n",
    "    def __init__(self, items):\n",
    "        self.items = items\n",
    "        \n",
    "    def __len__(self):\n",
    "        return len(self.items)\n",
    "    \n",
    "    def __bool__(self):\n",
    "        return len(self.items) > 0\n",
    "    \n",
    "    def __str__(self):\n",
    "        return \"Cart: \\n\"+ \"\\n\".join([str(i) for i in self.items])\n",
    "    \n",
    "    # +\n",
    "    def __add__(self, other):\n",
    "        new_items = self.items.copy()\n",
    "        new_items.append(other)\n",
    "        return Cart(new_items)\n",
    "    \n",
    "    # += \n",
    "    def __iadd__(self, other):\n",
    "        self.items.append(other)\n",
    "        return self"
   ]
  },
  {
   "cell_type": "code",
   "execution_count": null,
   "metadata": {
    "ExecuteTime": {
     "end_time": "2019-10-21T17:10:51.909962Z",
     "start_time": "2019-10-21T17:10:51.901601Z"
    }
   },
   "outputs": [],
   "source": [
    "item = Item(\"Iphone\", 20000)\n",
    "\n",
    "cart = Cart([])\n",
    "\n",
    "cart += item\n",
    "\n",
    "print (cart)"
   ]
  },
  {
   "cell_type": "markdown",
   "metadata": {},
   "source": [
    "Аналогично: \\_\\_sub\\_\\_, \\_\\_mul\\_\\_, \\_\\_div\\_\\_"
   ]
  },
  {
   "cell_type": "markdown",
   "metadata": {},
   "source": [
    "#### []"
   ]
  },
  {
   "cell_type": "code",
   "execution_count": null,
   "metadata": {
    "ExecuteTime": {
     "end_time": "2019-10-21T17:13:19.270408Z",
     "start_time": "2019-10-21T17:13:19.258444Z"
    }
   },
   "outputs": [],
   "source": [
    "class Cart():\n",
    "    def __init__(self, items):\n",
    "        self.items = items\n",
    "        \n",
    "    def __len__(self):\n",
    "        return len(self.items)\n",
    "    \n",
    "    def __bool__(self):\n",
    "        return len(self.items) > 0\n",
    "    \n",
    "    def __str__(self):\n",
    "        return \"Cart: \\n\"+ \"\\n\".join([str(i) for i in self.items])\n",
    "    \n",
    "    # +\n",
    "    def __add__(self, other):\n",
    "        new_items = self.items.copy()\n",
    "        new_items.append(other)\n",
    "        return Cart(new_items)\n",
    "    \n",
    "    # += \n",
    "    def __iadd__(self, other):\n",
    "        self.items.append(other)\n",
    "        return self\n",
    "    \n",
    "    # []\n",
    "    def __getitem__(self, key):\n",
    "        return self.items[key]"
   ]
  },
  {
   "cell_type": "code",
   "execution_count": null,
   "metadata": {
    "ExecuteTime": {
     "end_time": "2019-10-21T17:13:45.344879Z",
     "start_time": "2019-10-21T17:13:45.338210Z"
    }
   },
   "outputs": [],
   "source": [
    "cart = Cart([Item(\"Iphone\", 90000.), Item(\"Noski\", 100.)])"
   ]
  },
  {
   "cell_type": "code",
   "execution_count": null,
   "metadata": {
    "ExecuteTime": {
     "end_time": "2019-10-21T17:13:50.908865Z",
     "start_time": "2019-10-21T17:13:50.899707Z"
    }
   },
   "outputs": [],
   "source": [
    "print (cart[1])"
   ]
  },
  {
   "cell_type": "markdown",
   "metadata": {},
   "source": [
    "На самом деле, на вход к функции \\_\\_getitem\\_\\_ может прийти:\n",
    "\n",
    " - integer (например, индекс или ключ словаря)\n",
    " - string (например, ключ словаря)\n",
    " - slice"
   ]
  },
  {
   "cell_type": "markdown",
   "metadata": {
    "ExecuteTime": {
     "end_time": "2019-10-21T17:17:36.816464Z",
     "start_time": "2019-10-21T17:17:36.808068Z"
    }
   },
   "source": [
    "Также есть \\_\\_setitem\\_\\_, который отвечает за поведение присваивания: x[a] = b"
   ]
  },
  {
   "cell_type": "code",
   "execution_count": null,
   "metadata": {
    "ExecuteTime": {
     "end_time": "2019-10-21T17:18:32.718195Z",
     "start_time": "2019-10-21T17:18:32.704915Z"
    }
   },
   "outputs": [],
   "source": [
    "class Cart():\n",
    "    def __init__(self, items):\n",
    "        self.items = items\n",
    "        \n",
    "    def __len__(self):\n",
    "        return len(self.items)\n",
    "    \n",
    "    def __bool__(self):\n",
    "        return len(self.items) > 0\n",
    "    \n",
    "    def __str__(self):\n",
    "        return \"Cart: \\n\"+ \"\\n\".join([str(i) for i in self.items])\n",
    "    \n",
    "    # +\n",
    "    def __add__(self, other):\n",
    "        new_items = self.items.copy()\n",
    "        new_items.append(other)\n",
    "        return Cart(new_items)\n",
    "    \n",
    "    # += \n",
    "    def __iadd__(self, other):\n",
    "        self.items.append(other)\n",
    "        return self\n",
    "    \n",
    "    # []\n",
    "    def __getitem__(self, key):\n",
    "        return self.items[key]\n",
    "    \n",
    "    # []=\n",
    "    def __setitem__(self, key, value):\n",
    "        self.items[key] = value"
   ]
  },
  {
   "cell_type": "code",
   "execution_count": null,
   "metadata": {
    "ExecuteTime": {
     "end_time": "2019-10-21T17:18:44.959517Z",
     "start_time": "2019-10-21T17:18:44.951368Z"
    }
   },
   "outputs": [],
   "source": [
    "cart = Cart([Item(\"Iphone\", 90000.), Item(\"Noski\", 100.)])\n",
    "\n",
    "print (cart)"
   ]
  },
  {
   "cell_type": "code",
   "execution_count": null,
   "metadata": {
    "ExecuteTime": {
     "end_time": "2019-10-21T17:19:10.875376Z",
     "start_time": "2019-10-21T17:19:10.867652Z"
    }
   },
   "outputs": [],
   "source": [
    "cart[0] = Item('Pylesos', 15999.99)\n",
    "\n",
    "print (cart)"
   ]
  },
  {
   "cell_type": "markdown",
   "metadata": {},
   "source": [
    "#### ==/ !="
   ]
  },
  {
   "cell_type": "code",
   "execution_count": null,
   "metadata": {
    "ExecuteTime": {
     "end_time": "2019-10-21T17:23:22.644990Z",
     "start_time": "2019-10-21T17:23:22.639248Z"
    }
   },
   "outputs": [],
   "source": [
    "class Item:\n",
    "    def __init__(self, name, price):\n",
    "        self.name = name\n",
    "        self.price = price\n",
    "        \n",
    "    def __str__(self):\n",
    "        return (f\"Product name: '{self.name}', price: {self.price}\")"
   ]
  },
  {
   "cell_type": "code",
   "execution_count": null,
   "metadata": {
    "ExecuteTime": {
     "end_time": "2019-10-21T17:23:55.521023Z",
     "start_time": "2019-10-21T17:23:55.513613Z"
    }
   },
   "outputs": [],
   "source": [
    "iphone = Item(\"Iphone\", 90000.)\n",
    "noski = Item(\"Noski\", 100.)\n",
    "noski2 = Item(\"Noski\", 100.)"
   ]
  },
  {
   "cell_type": "code",
   "execution_count": null,
   "metadata": {
    "ExecuteTime": {
     "end_time": "2019-10-21T17:24:01.419552Z",
     "start_time": "2019-10-21T17:24:01.410774Z"
    }
   },
   "outputs": [],
   "source": [
    "print (iphone == noski)\n",
    "\n",
    "print (noski2 == noski)"
   ]
  },
  {
   "cell_type": "code",
   "execution_count": null,
   "metadata": {
    "ExecuteTime": {
     "end_time": "2019-10-21T17:24:41.899101Z",
     "start_time": "2019-10-21T17:24:41.890245Z"
    }
   },
   "outputs": [],
   "source": [
    "class Item:\n",
    "    def __init__(self, name, price):\n",
    "        self.name = name\n",
    "        self.price = price\n",
    "        \n",
    "    def __str__(self):\n",
    "        return (f\"Product name: '{self.name}', price: {self.price}\")\n",
    "    \n",
    "    def __eq__(self, other):\n",
    "        return (self.name == other.name) and (self.price == other.price)"
   ]
  },
  {
   "cell_type": "code",
   "execution_count": null,
   "metadata": {
    "ExecuteTime": {
     "end_time": "2019-10-21T17:24:47.447215Z",
     "start_time": "2019-10-21T17:24:47.440251Z"
    }
   },
   "outputs": [],
   "source": [
    "iphone = Item(\"Iphone\", 90000.)\n",
    "noski = Item(\"Noski\", 100.)\n",
    "noski2 = Item(\"Noski\", 100.)"
   ]
  },
  {
   "cell_type": "code",
   "execution_count": null,
   "metadata": {
    "ExecuteTime": {
     "end_time": "2019-10-21T17:24:50.281998Z",
     "start_time": "2019-10-21T17:24:50.274059Z"
    }
   },
   "outputs": [],
   "source": [
    "print (iphone == noski)\n",
    "\n",
    "print (noski2 == noski)"
   ]
  },
  {
   "cell_type": "markdown",
   "metadata": {},
   "source": [
    "## Статические методы"
   ]
  },
  {
   "cell_type": "markdown",
   "metadata": {},
   "source": [
    "Внутри класса можно написать метод, который будет доступен без создания экземпляра класса."
   ]
  },
  {
   "cell_type": "code",
   "execution_count": null,
   "metadata": {
    "ExecuteTime": {
     "end_time": "2019-10-22T15:57:21.468645Z",
     "start_time": "2019-10-22T15:57:21.458532Z"
    }
   },
   "outputs": [],
   "source": [
    "class Calculator:\n",
    "    @staticmethod\n",
    "    def summa(x, y):\n",
    "        return x+y\n",
    "    \n",
    "    def difference(self, x, y):\n",
    "        return x-y"
   ]
  },
  {
   "cell_type": "code",
   "execution_count": null,
   "metadata": {
    "ExecuteTime": {
     "end_time": "2019-10-22T15:56:56.803440Z",
     "start_time": "2019-10-22T15:56:56.792772Z"
    }
   },
   "outputs": [],
   "source": [
    "Calculator.summa(10, 2.)"
   ]
  },
  {
   "cell_type": "code",
   "execution_count": null,
   "metadata": {
    "ExecuteTime": {
     "end_time": "2019-10-22T15:57:28.915508Z",
     "start_time": "2019-10-22T15:57:28.894768Z"
    }
   },
   "outputs": [],
   "source": [
    "Calculator.difference(11, 1)"
   ]
  },
  {
   "cell_type": "markdown",
   "metadata": {
    "ExecuteTime": {
     "end_time": "2019-10-22T15:58:04.840545Z",
     "start_time": "2019-10-22T15:58:04.828065Z"
    }
   },
   "source": [
    "Что обозначает эта ошибка?"
   ]
  },
  {
   "cell_type": "markdown",
   "metadata": {},
   "source": [
    "Внутри статического метода нет доступа к атрибутам и методам экземпляра класса."
   ]
  },
  {
   "cell_type": "markdown",
   "metadata": {},
   "source": [
    "## Абстрактные классы и методы"
   ]
  },
  {
   "cell_type": "markdown",
   "metadata": {},
   "source": [
    "Абстрактные классы - классы, которые содержат абстрактные методы.\n",
    "\n",
    "Абстрактные методы - объявленные методы, которые не содержат в себе реализации."
   ]
  },
  {
   "cell_type": "code",
   "execution_count": null,
   "metadata": {
    "ExecuteTime": {
     "end_time": "2019-10-22T16:06:43.253584Z",
     "start_time": "2019-10-22T16:06:43.243843Z"
    }
   },
   "outputs": [],
   "source": [
    "class Figure:\n",
    "    # атрибуты класса\n",
    "    dimension = 2\n",
    "    \n",
    "    # Инициализатор/ атрибуты инстанса\n",
    "    def __init__(self, x, y):\n",
    "        self.x = x\n",
    "        self.y = y\n",
    "        \n",
    "    def area():\n",
    "        pass\n",
    "    \n",
    "    \n",
    "class Circle(Figure):\n",
    "    def __init__(self, x, y, r):\n",
    "        self.x = x\n",
    "        self.y = y\n",
    "        self.r  = r"
   ]
  },
  {
   "cell_type": "code",
   "execution_count": null,
   "metadata": {
    "ExecuteTime": {
     "end_time": "2019-10-22T16:06:54.023545Z",
     "start_time": "2019-10-22T16:06:54.017584Z"
    }
   },
   "outputs": [],
   "source": [
    "circle = Circle(0, 0, 1)"
   ]
  },
  {
   "cell_type": "markdown",
   "metadata": {},
   "source": [
    "Создать объект класса получилось и это не то, что мы хотели :("
   ]
  },
  {
   "cell_type": "code",
   "execution_count": null,
   "metadata": {
    "ExecuteTime": {
     "end_time": "2019-10-22T16:07:56.956173Z",
     "start_time": "2019-10-22T16:07:56.949877Z"
    }
   },
   "outputs": [],
   "source": [
    "from abc import ABC, abstractmethod"
   ]
  },
  {
   "cell_type": "code",
   "execution_count": null,
   "metadata": {
    "ExecuteTime": {
     "end_time": "2019-10-22T16:08:39.232507Z",
     "start_time": "2019-10-22T16:08:39.222147Z"
    }
   },
   "outputs": [],
   "source": [
    "class Figure(ABC):\n",
    "    # атрибуты класса\n",
    "    dimension = 2\n",
    "    \n",
    "    # Инициализатор/ атрибуты инстанса\n",
    "    def __init__(self, x, y):\n",
    "        self.x = x\n",
    "        self.y = y\n",
    "    \n",
    "    @abstractmethod\n",
    "    def area(self):\n",
    "        pass\n",
    "    \n",
    "    \n",
    "class Circle(Figure):\n",
    "    def __init__(self, x, y, r):\n",
    "        self.x = x\n",
    "        self.y = y\n",
    "        self.r  = r"
   ]
  },
  {
   "cell_type": "code",
   "execution_count": null,
   "metadata": {
    "ExecuteTime": {
     "end_time": "2019-10-22T16:08:45.386588Z",
     "start_time": "2019-10-22T16:08:45.368301Z"
    }
   },
   "outputs": [],
   "source": [
    "circle = Circle(0, 0, 1)"
   ]
  },
  {
   "cell_type": "code",
   "execution_count": null,
   "metadata": {
    "ExecuteTime": {
     "end_time": "2019-10-22T16:09:46.829207Z",
     "start_time": "2019-10-22T16:09:46.819442Z"
    }
   },
   "outputs": [],
   "source": [
    "# квадрат\n",
    "class Circle(Figure):\n",
    "    def __init__(self, x, y, r):\n",
    "        self.x = x\n",
    "        self.y = y\n",
    "        self.r  = r\n",
    "        \n",
    "    def area(self):\n",
    "        import math\n",
    "        return math.pi * self.r**2"
   ]
  },
  {
   "cell_type": "code",
   "execution_count": null,
   "metadata": {},
   "outputs": [],
   "source": []
  }
 ],
 "metadata": {
  "kernelspec": {
   "display_name": "Python 3",
   "language": "python",
   "name": "python3"
  },
  "language_info": {
   "codemirror_mode": {
    "name": "ipython",
    "version": 3
   },
   "file_extension": ".py",
   "mimetype": "text/x-python",
   "name": "python",
   "nbconvert_exporter": "python",
   "pygments_lexer": "ipython3",
   "version": "3.7.3"
  },
  "toc": {
   "base_numbering": 1,
   "nav_menu": {},
   "number_sections": true,
   "sideBar": true,
   "skip_h1_title": true,
   "title_cell": "План лекции",
   "title_sidebar": "План лекции",
   "toc_cell": true,
   "toc_position": {
    "height": "calc(100% - 180px)",
    "left": "10px",
    "top": "150px",
    "width": "234px"
   },
   "toc_section_display": true,
   "toc_window_display": true
  }
 },
 "nbformat": 4,
 "nbformat_minor": 2
}
