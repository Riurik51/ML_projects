{
 "cells": [
  {
   "cell_type": "markdown",
   "metadata": {},
   "source": [
    "# Добрый вечерочек!"
   ]
  },
  {
   "cell_type": "markdown",
   "metadata": {
    "toc": true
   },
   "source": [
    "<h1>План лекции<span class=\"tocSkip\"></span></h1>\n",
    "<div class=\"toc\"><ul class=\"toc-item\"><li><span><a href=\"#Кратенько-о-Python\" data-toc-modified-id=\"Кратенько-о-Python-1\"><span class=\"toc-item-num\">1&nbsp;&nbsp;</span>Кратенько о Python</a></span></li><li><span><a href=\"#Кратенько-об-Jupyter-Notebook\" data-toc-modified-id=\"Кратенько-об-Jupyter-Notebook-2\"><span class=\"toc-item-num\">2&nbsp;&nbsp;</span>Кратенько об Jupyter Notebook</a></span></li><li><span><a href=\"#Кратенько-об-Anaconda\" data-toc-modified-id=\"Кратенько-об-Anaconda-3\"><span class=\"toc-item-num\">3&nbsp;&nbsp;</span>Кратенько об Anaconda</a></span><ul class=\"toc-item\"><li><span><a href=\"#Мануал,-как-установить-Anaconda\" data-toc-modified-id=\"Мануал,-как-установить-Anaconda-3.1\"><span class=\"toc-item-num\">3.1&nbsp;&nbsp;</span>Мануал, как установить Anaconda</a></span></li></ul></li><li><span><a href=\"#Теперь-мы-готовы-к-Hello,-world!\" data-toc-modified-id=\"Теперь-мы-готовы-к-Hello,-world!-4\"><span class=\"toc-item-num\">4&nbsp;&nbsp;</span>Теперь мы готовы к Hello, world!</a></span></li><li><span><a href=\"#Базовые-типы-данных\" data-toc-modified-id=\"Базовые-типы-данных-5\"><span class=\"toc-item-num\">5&nbsp;&nbsp;</span>Базовые типы данных</a></span><ul class=\"toc-item\"><li><span><a href=\"#Integers\" data-toc-modified-id=\"Integers-5.1\"><span class=\"toc-item-num\">5.1&nbsp;&nbsp;</span>Integers</a></span></li><li><span><a href=\"#Float\" data-toc-modified-id=\"Float-5.2\"><span class=\"toc-item-num\">5.2&nbsp;&nbsp;</span>Float</a></span></li><li><span><a href=\"#Complex\" data-toc-modified-id=\"Complex-5.3\"><span class=\"toc-item-num\">5.3&nbsp;&nbsp;</span>Complex</a></span></li><li><span><a href=\"#Строки\" data-toc-modified-id=\"Строки-5.4\"><span class=\"toc-item-num\">5.4&nbsp;&nbsp;</span>Строки</a></span></li><li><span><a href=\"#Boolean\" data-toc-modified-id=\"Boolean-5.5\"><span class=\"toc-item-num\">5.5&nbsp;&nbsp;</span>Boolean</a></span></li><li><span><a href=\"#Приведение-типов\" data-toc-modified-id=\"Приведение-типов-5.6\"><span class=\"toc-item-num\">5.6&nbsp;&nbsp;</span>Приведение типов</a></span></li></ul></li><li><span><a href=\"#Переменные\" data-toc-modified-id=\"Переменные-6\"><span class=\"toc-item-num\">6&nbsp;&nbsp;</span>Переменные</a></span><ul class=\"toc-item\"><li><span><a href=\"#Присваивание-значения\" data-toc-modified-id=\"Присваивание-значения-6.1\"><span class=\"toc-item-num\">6.1&nbsp;&nbsp;</span>Присваивание значения</a></span></li><li><span><a href=\"#None\" data-toc-modified-id=\"None-6.2\"><span class=\"toc-item-num\">6.2&nbsp;&nbsp;</span>None</a></span></li><li><span><a href=\"#Чуть-глубже,-что-происходит-при-присваивании\" data-toc-modified-id=\"Чуть-глубже,-что-происходит-при-присваивании-6.3\"><span class=\"toc-item-num\">6.3&nbsp;&nbsp;</span>Чуть глубже, что происходит при присваивании</a></span></li><li><span><a href=\"#Правила-по-называнию-переменных\" data-toc-modified-id=\"Правила-по-называнию-переменных-6.4\"><span class=\"toc-item-num\">6.4&nbsp;&nbsp;</span>Правила по называнию переменных</a></span></li></ul></li><li><span><a href=\"#Операторы-и-выражения-в-Python\" data-toc-modified-id=\"Операторы-и-выражения-в-Python-7\"><span class=\"toc-item-num\">7&nbsp;&nbsp;</span>Операторы и выражения в Python</a></span><ul class=\"toc-item\"><li><span><a href=\"#Арифметические-операторы\" data-toc-modified-id=\"Арифметические-операторы-7.1\"><span class=\"toc-item-num\">7.1&nbsp;&nbsp;</span>Арифметические операторы</a></span><ul class=\"toc-item\"><li><span><a href=\"#Унарные-+,--\" data-toc-modified-id=\"Унарные-+,---7.1.1\"><span class=\"toc-item-num\">7.1.1&nbsp;&nbsp;</span>Унарные +, -</a></span></li><li><span><a href=\"#Бинарные\" data-toc-modified-id=\"Бинарные-7.1.2\"><span class=\"toc-item-num\">7.1.2&nbsp;&nbsp;</span>Бинарные</a></span></li></ul></li><li><span><a href=\"#Операторы-сравнения\" data-toc-modified-id=\"Операторы-сравнения-7.2\"><span class=\"toc-item-num\">7.2&nbsp;&nbsp;</span>Операторы сравнения</a></span></li><li><span><a href=\"#Логические-операторы\" data-toc-modified-id=\"Логические-операторы-7.3\"><span class=\"toc-item-num\">7.3&nbsp;&nbsp;</span>Логические операторы</a></span></li><li><span><a href=\"#Операторы-тождественности-(is,-is-not)\" data-toc-modified-id=\"Операторы-тождественности-(is,-is-not)-7.4\"><span class=\"toc-item-num\">7.4&nbsp;&nbsp;</span>Операторы тождественности (is, is not)</a></span></li></ul></li><li><span><a href=\"#Условный-оператор-ветвления-if\" data-toc-modified-id=\"Условный-оператор-ветвления-if-8\"><span class=\"toc-item-num\">8&nbsp;&nbsp;</span>Условный оператор ветвления if</a></span><ul class=\"toc-item\"><li><span><a href=\"#if\" data-toc-modified-id=\"if-8.1\"><span class=\"toc-item-num\">8.1&nbsp;&nbsp;</span>if</a></span></li><li><span><a href=\"#if---else\" data-toc-modified-id=\"if---else-8.2\"><span class=\"toc-item-num\">8.2&nbsp;&nbsp;</span>if - else</a></span></li><li><span><a href=\"#if---elif---else\" data-toc-modified-id=\"if---elif---else-8.3\"><span class=\"toc-item-num\">8.3&nbsp;&nbsp;</span>if - elif - else</a></span></li><li><span><a href=\"#Тернарное-выражение\" data-toc-modified-id=\"Тернарное-выражение-8.4\"><span class=\"toc-item-num\">8.4&nbsp;&nbsp;</span>Тернарное выражение</a></span></li></ul></li><li><span><a href=\"#Оператор-While\" data-toc-modified-id=\"Оператор-While-9\"><span class=\"toc-item-num\">9&nbsp;&nbsp;</span>Оператор While</a></span><ul class=\"toc-item\"><li><span><a href=\"#Конструкция-while\" data-toc-modified-id=\"Конструкция-while-9.1\"><span class=\"toc-item-num\">9.1&nbsp;&nbsp;</span>Конструкция while</a></span></li><li><span><a href=\"#break\" data-toc-modified-id=\"break-9.2\"><span class=\"toc-item-num\">9.2&nbsp;&nbsp;</span>break</a></span></li><li><span><a href=\"#continue\" data-toc-modified-id=\"continue-9.3\"><span class=\"toc-item-num\">9.3&nbsp;&nbsp;</span>continue</a></span></li><li><span><a href=\"#else\" data-toc-modified-id=\"else-9.4\"><span class=\"toc-item-num\">9.4&nbsp;&nbsp;</span>else</a></span></li></ul></li></ul></div>"
   ]
  },
  {
   "cell_type": "markdown",
   "metadata": {},
   "source": [
    "## Кратенько о Python"
   ]
  },
  {
   "cell_type": "markdown",
   "metadata": {},
   "source": [
    " **Быстрая историческая справка**\n",
    " - первая версия в 1990-х\n",
    " - версия 2.0  в 2000\n",
    " - версия 3.0 в 2008 (отсутствует обратная совместимость!)\n",
    " \n",
    " Мы изучаем Python 3, так как официальный End Of Time для Python 2 - 1 января 2020 года."
   ]
  },
  {
   "cell_type": "markdown",
   "metadata": {
    "ExecuteTime": {
     "end_time": "2019-08-01T13:49:36.644252Z",
     "start_time": "2019-08-01T13:49:36.636815Z"
    }
   },
   "source": [
    "**Почему Python?**\n",
    "\n",
    "- он популярный! (есть комьюнити, много крутых библиотек)\n",
    "- он популярный среди DS! (есть много крутых библиотек для DS)\n",
    "- он интерпретируемый(почти)! (не надо ничего компилировать в машинный код; это медленнее, но нам не критично)\n",
    "- он бесплатный!\n",
    "- ну еще он простой и даже есть ООП "
   ]
  },
  {
   "cell_type": "markdown",
   "metadata": {},
   "source": [
    "А вот в целом туториал: https://docs.python.org/3.6/tutorial/index.html"
   ]
  },
  {
   "cell_type": "markdown",
   "metadata": {},
   "source": [
    "Стайл-гайд https://www.python.org/dev/peps/pep-0008/"
   ]
  },
  {
   "cell_type": "markdown",
   "metadata": {},
   "source": [
    "## Кратенько об Jupyter Notebook"
   ]
  },
  {
   "cell_type": "markdown",
   "metadata": {},
   "source": [
    "Вы сейчас читаете эту лекцию как раз из Jupyter Notebook. \n",
    "Просто это очень удобно!\n",
    "\n",
    "Обычно питоновские ноутбуки используются саентистами для ресерча."
   ]
  },
  {
   "cell_type": "markdown",
   "metadata": {},
   "source": [
    "## Кратенько об Anaconda"
   ]
  },
  {
   "cell_type": "markdown",
   "metadata": {
    "ExecuteTime": {
     "end_time": "2019-08-01T13:49:36.649240Z",
     "start_time": "2019-08-01T10:13:19.166Z"
    }
   },
   "source": [
    "Во-первых: https://www.anaconda.com/distribution/"
   ]
  },
  {
   "cell_type": "markdown",
   "metadata": {
    "ExecuteTime": {
     "end_time": "2019-08-01T13:49:36.650489Z",
     "start_time": "2019-08-01T10:16:05.206Z"
    }
   },
   "source": [
    "Сейчас просто скажу, что это удобный менеджер пакетов, который решает проблемы совместимости разных версий пакетов между собой. \n",
    "\n",
    "А еще - позволяет за один присест установить все, что нужно для того, чтобы погружаться в мир программирования на Python и Data Science.\n",
    "\n",
    "Подробнее о том, как это установить разберем на семинаре, если у кого-то не получилось сделать это по мануалу."
   ]
  },
  {
   "cell_type": "markdown",
   "metadata": {},
   "source": [
    "### Мануал, как установить Anaconda"
   ]
  },
  {
   "cell_type": "markdown",
   "metadata": {
    "ExecuteTime": {
     "end_time": "2019-09-09T13:08:33.775994Z",
     "start_time": "2019-09-09T13:08:33.765763Z"
    },
    "collapsed": true
   },
   "source": [
    "https://docs.anaconda.com/anaconda/install/"
   ]
  },
  {
   "cell_type": "markdown",
   "metadata": {},
   "source": [
    "## Теперь мы готовы к Hello, world!"
   ]
  },
  {
   "cell_type": "code",
   "execution_count": 1,
   "metadata": {
    "ExecuteTime": {
     "end_time": "2019-09-12T07:57:02.417677Z",
     "start_time": "2019-09-12T07:57:02.409950Z"
    }
   },
   "outputs": [
    {
     "ename": "SyntaxError",
     "evalue": "Missing parentheses in call to 'print'. Did you mean print('Hello, World!' # Python 2 style, раньше print был оператором)? (<ipython-input-1-afd3ed31d049>, line 1)",
     "output_type": "error",
     "traceback": [
      "\u001b[0;36m  File \u001b[0;32m\"<ipython-input-1-afd3ed31d049>\"\u001b[0;36m, line \u001b[0;32m1\u001b[0m\n\u001b[0;31m    print 'Hello, World!' # Python 2 style, раньше print был оператором\u001b[0m\n\u001b[0m                        ^\u001b[0m\n\u001b[0;31mSyntaxError\u001b[0m\u001b[0;31m:\u001b[0m Missing parentheses in call to 'print'. Did you mean print('Hello, World!' # Python 2 style, раньше print был оператором)?\n"
     ]
    }
   ],
   "source": [
    "print 'Hello, World!' # Python 2 style, раньше print был оператором"
   ]
  },
  {
   "cell_type": "code",
   "execution_count": 2,
   "metadata": {
    "ExecuteTime": {
     "end_time": "2019-09-12T07:57:07.735442Z",
     "start_time": "2019-09-12T07:57:07.726357Z"
    }
   },
   "outputs": [
    {
     "name": "stdout",
     "output_type": "stream",
     "text": [
      "Hello, World!\n"
     ]
    }
   ],
   "source": [
    "print ('Hello, World!') # а теперь - функция"
   ]
  },
  {
   "cell_type": "markdown",
   "metadata": {},
   "source": [
    "Все формальности соблюдены!\n",
    "\n",
    "\n",
    "Теперь мы официально готовы переходить к изучению особенностей языка Python"
   ]
  },
  {
   "cell_type": "markdown",
   "metadata": {},
   "source": [
    "## Базовые типы данных"
   ]
  },
  {
   "cell_type": "markdown",
   "metadata": {},
   "source": [
    "### Integers"
   ]
  },
  {
   "cell_type": "markdown",
   "metadata": {},
   "source": [
    "Это представление используется для целых чисел"
   ]
  },
  {
   "cell_type": "code",
   "execution_count": 3,
   "metadata": {
    "ExecuteTime": {
     "end_time": "2019-09-12T07:57:07.752879Z",
     "start_time": "2019-09-12T07:57:07.739046Z"
    }
   },
   "outputs": [
    {
     "data": {
      "text/plain": [
       "int"
      ]
     },
     "execution_count": 3,
     "metadata": {},
     "output_type": "execute_result"
    }
   ],
   "source": [
    "type(123)"
   ]
  },
  {
   "cell_type": "markdown",
   "metadata": {},
   "source": [
    " В Питоне 3 нет ограничений (кроме оперативной памяти) на длину integer:"
   ]
  },
  {
   "cell_type": "code",
   "execution_count": 4,
   "metadata": {
    "ExecuteTime": {
     "end_time": "2019-09-12T07:57:07.762381Z",
     "start_time": "2019-09-12T07:57:07.756977Z"
    }
   },
   "outputs": [
    {
     "name": "stdout",
     "output_type": "stream",
     "text": [
      "-11111232342356734587873538374539750918084760198456742592382089862096124162538712680561924\n"
     ]
    }
   ],
   "source": [
    "print (-11111232342356734587873538374539750918084760198456742592382089862096124162538712680561923 - 1)"
   ]
  },
  {
   "cell_type": "code",
   "execution_count": 5,
   "metadata": {
    "ExecuteTime": {
     "end_time": "2019-09-12T07:57:07.770946Z",
     "start_time": "2019-09-12T07:57:07.765924Z"
    }
   },
   "outputs": [
    {
     "name": "stdout",
     "output_type": "stream",
     "text": [
      "11111232342356734587873538374539750918084760198456742592382089862096124162538712680561924\n"
     ]
    }
   ],
   "source": [
    "print (11111232342356734587873538374539750918084760198456742592382089862096124162538712680561923 + 1)"
   ]
  },
  {
   "cell_type": "markdown",
   "metadata": {},
   "source": [
    "Еще можно писать в разных системах счисления:"
   ]
  },
  {
   "cell_type": "code",
   "execution_count": 6,
   "metadata": {
    "ExecuteTime": {
     "end_time": "2019-09-12T07:57:07.778168Z",
     "start_time": "2019-09-12T07:57:07.773677Z"
    }
   },
   "outputs": [
    {
     "name": "stdout",
     "output_type": "stream",
     "text": [
      "10\n"
     ]
    }
   ],
   "source": [
    "#десятичная\n",
    "print (10)"
   ]
  },
  {
   "cell_type": "code",
   "execution_count": 7,
   "metadata": {
    "ExecuteTime": {
     "end_time": "2019-09-12T07:57:07.785455Z",
     "start_time": "2019-09-12T07:57:07.780812Z"
    }
   },
   "outputs": [
    {
     "name": "stdout",
     "output_type": "stream",
     "text": [
      "2\n"
     ]
    }
   ],
   "source": [
    "#двоичная\n",
    "print (0b10)"
   ]
  },
  {
   "cell_type": "code",
   "execution_count": 8,
   "metadata": {
    "ExecuteTime": {
     "end_time": "2019-09-12T07:57:07.793223Z",
     "start_time": "2019-09-12T07:57:07.788246Z"
    }
   },
   "outputs": [
    {
     "name": "stdout",
     "output_type": "stream",
     "text": [
      "8\n"
     ]
    }
   ],
   "source": [
    "#восмеричная\n",
    "print (0o10)"
   ]
  },
  {
   "cell_type": "code",
   "execution_count": 9,
   "metadata": {
    "ExecuteTime": {
     "end_time": "2019-09-12T07:57:07.802582Z",
     "start_time": "2019-09-12T07:57:07.798173Z"
    }
   },
   "outputs": [
    {
     "name": "stdout",
     "output_type": "stream",
     "text": [
      "16\n"
     ]
    }
   ],
   "source": [
    "#шестнадцатеричная\n",
    "print (0x10)"
   ]
  },
  {
   "cell_type": "markdown",
   "metadata": {},
   "source": [
    "### Float"
   ]
  },
  {
   "cell_type": "markdown",
   "metadata": {},
   "source": [
    "Это представление используется для вещественных чисел"
   ]
  },
  {
   "cell_type": "code",
   "execution_count": 10,
   "metadata": {
    "ExecuteTime": {
     "end_time": "2019-09-12T07:57:07.811809Z",
     "start_time": "2019-09-12T07:57:07.806206Z"
    }
   },
   "outputs": [
    {
     "data": {
      "text/plain": [
       "float"
      ]
     },
     "execution_count": 10,
     "metadata": {},
     "output_type": "execute_result"
    }
   ],
   "source": [
    "type(1.1)"
   ]
  },
  {
   "cell_type": "code",
   "execution_count": 11,
   "metadata": {
    "ExecuteTime": {
     "end_time": "2019-09-12T07:57:07.819621Z",
     "start_time": "2019-09-12T07:57:07.814574Z"
    }
   },
   "outputs": [
    {
     "name": "stdout",
     "output_type": "stream",
     "text": [
      "2.8\n"
     ]
    }
   ],
   "source": [
    "print (2.8)"
   ]
  },
  {
   "cell_type": "code",
   "execution_count": 12,
   "metadata": {
    "ExecuteTime": {
     "end_time": "2019-09-12T07:57:07.827124Z",
     "start_time": "2019-09-12T07:57:07.822439Z"
    }
   },
   "outputs": [
    {
     "name": "stdout",
     "output_type": "stream",
     "text": [
      "2.0\n"
     ]
    }
   ],
   "source": [
    "print (2.)"
   ]
  },
  {
   "cell_type": "code",
   "execution_count": 13,
   "metadata": {
    "ExecuteTime": {
     "end_time": "2019-09-12T07:57:07.834820Z",
     "start_time": "2019-09-12T07:57:07.829889Z"
    }
   },
   "outputs": [
    {
     "name": "stdout",
     "output_type": "stream",
     "text": [
      "0.31\n"
     ]
    }
   ],
   "source": [
    "print (3.1e-1)"
   ]
  },
  {
   "cell_type": "code",
   "execution_count": 14,
   "metadata": {
    "ExecuteTime": {
     "end_time": "2019-09-12T07:57:07.842527Z",
     "start_time": "2019-09-12T07:57:07.837738Z"
    }
   },
   "outputs": [
    {
     "name": "stdout",
     "output_type": "stream",
     "text": [
      "0.01\n"
     ]
    }
   ],
   "source": [
    "print (.1e-1)"
   ]
  },
  {
   "cell_type": "markdown",
   "metadata": {},
   "source": [
    "Максимальное значение: $1.8 * 10^{308}$\n",
    "\n",
    "Минимальное положительное значение:  $5.0 * 10^{-324}$\n",
    "\n",
    "Минимальное значение: $-1.8 * 10^{308}$"
   ]
  },
  {
   "cell_type": "code",
   "execution_count": 15,
   "metadata": {
    "ExecuteTime": {
     "end_time": "2019-09-12T07:57:07.849753Z",
     "start_time": "2019-09-12T07:57:07.845051Z"
    }
   },
   "outputs": [
    {
     "name": "stdout",
     "output_type": "stream",
     "text": [
      "1.79e+308\n",
      "inf\n"
     ]
    }
   ],
   "source": [
    "# максимальное\n",
    "print (1.79e308)\n",
    "\n",
    "print (1.8e308)"
   ]
  },
  {
   "cell_type": "code",
   "execution_count": 16,
   "metadata": {
    "ExecuteTime": {
     "end_time": "2019-09-12T07:57:07.857799Z",
     "start_time": "2019-09-12T07:57:07.852329Z"
    }
   },
   "outputs": [
    {
     "name": "stdout",
     "output_type": "stream",
     "text": [
      "5e-324\n",
      "0.0\n"
     ]
    }
   ],
   "source": [
    "# минимальное положительное\n",
    "\n",
    "print (5e-324)\n",
    "\n",
    "print (5e-325)"
   ]
  },
  {
   "cell_type": "code",
   "execution_count": 17,
   "metadata": {
    "ExecuteTime": {
     "end_time": "2019-09-12T07:57:07.864938Z",
     "start_time": "2019-09-12T07:57:07.860278Z"
    }
   },
   "outputs": [
    {
     "name": "stdout",
     "output_type": "stream",
     "text": [
      "-1.79e+308\n",
      "-inf\n"
     ]
    }
   ],
   "source": [
    "# минимальное\n",
    "print (-1.79e308)\n",
    "\n",
    "print (-1.8e308)"
   ]
  },
  {
   "cell_type": "markdown",
   "metadata": {},
   "source": [
    "По факту флоат хранится в виде наиболее \"близкого\" бинарного числа, т.е. происходит некоторая апроксимация"
   ]
  },
  {
   "cell_type": "markdown",
   "metadata": {},
   "source": [
    "Так, десятичное число 0.1 в бинарном виде выглядит как бесконечная периодическая дробь: 0.0001100110011001100110011001100110011001100110011...\n",
    "\n",
    "А ближайшее бинарное значение - как для десятичного числа 0.1000000000000000055511151231257827021181583404541015625\n",
    "\n",
    "Но при выводе информации, Питон округляет данные, отбрасывая назначимую часть"
   ]
  },
  {
   "cell_type": "code",
   "execution_count": 18,
   "metadata": {
    "ExecuteTime": {
     "end_time": "2019-09-12T07:57:07.872071Z",
     "start_time": "2019-09-12T07:57:07.867385Z"
    }
   },
   "outputs": [
    {
     "name": "stdout",
     "output_type": "stream",
     "text": [
      "0.1\n",
      "0.1\n"
     ]
    }
   ],
   "source": [
    "print (0.1)\n",
    "print (0.1000000000000000055511151231257827021181583404541015625)"
   ]
  },
  {
   "cell_type": "code",
   "execution_count": 19,
   "metadata": {
    "ExecuteTime": {
     "end_time": "2019-09-12T07:57:07.879699Z",
     "start_time": "2019-09-12T07:57:07.874438Z"
    }
   },
   "outputs": [
    {
     "name": "stdout",
     "output_type": "stream",
     "text": [
      "True\n",
      "False\n"
     ]
    }
   ],
   "source": [
    "print (0.1000000000000000055511151231257827021181583404541015625 == 0.1)\n",
    "print (0.1000000000000000055511151231257827021181583404541015625 > 0.1)"
   ]
  },
  {
   "cell_type": "markdown",
   "metadata": {},
   "source": [
    "Отсюда следующая история: так как 0.1 - это не совсем 1/10, то получаем любопытный эффект:"
   ]
  },
  {
   "cell_type": "code",
   "execution_count": 20,
   "metadata": {
    "ExecuteTime": {
     "end_time": "2019-09-12T07:57:07.886684Z",
     "start_time": "2019-09-12T07:57:07.882245Z"
    }
   },
   "outputs": [
    {
     "name": "stdout",
     "output_type": "stream",
     "text": [
      "False\n",
      "True\n"
     ]
    }
   ],
   "source": [
    "print (.1 + .1 + .1 == .3)\n",
    "print (.1 + .1 + .1 > .3)"
   ]
  },
  {
   "cell_type": "code",
   "execution_count": 21,
   "metadata": {
    "ExecuteTime": {
     "end_time": "2019-09-12T07:57:07.895357Z",
     "start_time": "2019-09-12T07:57:07.889165Z"
    }
   },
   "outputs": [
    {
     "data": {
      "text/plain": [
       "False"
      ]
     },
     "execution_count": 21,
     "metadata": {},
     "output_type": "execute_result"
    }
   ],
   "source": [
    "# это не спасет\n",
    "round(.1, 1) + round(.1, 1) + round(.1, 1) == round(.3, 1)"
   ]
  },
  {
   "cell_type": "code",
   "execution_count": 22,
   "metadata": {
    "ExecuteTime": {
     "end_time": "2019-09-12T07:57:07.903841Z",
     "start_time": "2019-09-12T07:57:07.897820Z"
    }
   },
   "outputs": [
    {
     "data": {
      "text/plain": [
       "True"
      ]
     },
     "execution_count": 22,
     "metadata": {},
     "output_type": "execute_result"
    }
   ],
   "source": [
    "# это спасет\n",
    "round(.1 + .1 + .1, 10) == round(.3, 10)"
   ]
  },
  {
   "cell_type": "markdown",
   "metadata": {},
   "source": [
    "Вывод: не нужно использовать \"точные\" равенства с float.\n",
    "Можно использовать неравенства с заданной точностью:"
   ]
  },
  {
   "cell_type": "code",
   "execution_count": 23,
   "metadata": {
    "ExecuteTime": {
     "end_time": "2019-09-12T07:57:07.911625Z",
     "start_time": "2019-09-12T07:57:07.906215Z"
    }
   },
   "outputs": [
    {
     "name": "stdout",
     "output_type": "stream",
     "text": [
      "False\n",
      "True\n"
     ]
    }
   ],
   "source": [
    "print (.1 + .1 + .1 <= .3)\n",
    "\n",
    "print (.1 + .1 + .1 <= .3 + 0.0000000000001)"
   ]
  },
  {
   "cell_type": "markdown",
   "metadata": {
    "ExecuteTime": {
     "end_time": "2019-08-01T14:40:18.988663Z",
     "start_time": "2019-08-01T14:40:18.980316Z"
    }
   },
   "source": [
    "Подробнее об этом тут:\n",
    "\n",
    "https://docs.python.org/3.6/tutorial/floatingpoint.html"
   ]
  },
  {
   "cell_type": "markdown",
   "metadata": {},
   "source": [
    "### Complex"
   ]
  },
  {
   "cell_type": "markdown",
   "metadata": {},
   "source": [
    "Это представление используется для комплексных чисел\n",
    "\n",
    "В Питоне 3 представляются как: <действительная часть> + <мнимая часть> j"
   ]
  },
  {
   "cell_type": "code",
   "execution_count": 24,
   "metadata": {
    "ExecuteTime": {
     "end_time": "2019-09-12T07:57:07.924006Z",
     "start_time": "2019-09-12T07:57:07.918283Z"
    }
   },
   "outputs": [
    {
     "data": {
      "text/plain": [
       "complex"
      ]
     },
     "execution_count": 24,
     "metadata": {},
     "output_type": "execute_result"
    }
   ],
   "source": [
    "type(11 + 3j)"
   ]
  },
  {
   "cell_type": "markdown",
   "metadata": {},
   "source": [
    "### Строки"
   ]
  },
  {
   "cell_type": "code",
   "execution_count": 25,
   "metadata": {
    "ExecuteTime": {
     "end_time": "2019-09-12T07:57:07.933926Z",
     "start_time": "2019-09-12T07:57:07.927982Z"
    }
   },
   "outputs": [
    {
     "data": {
      "text/plain": [
       "str"
      ]
     },
     "execution_count": 25,
     "metadata": {},
     "output_type": "execute_result"
    }
   ],
   "source": [
    "type(\"some string\")"
   ]
  },
  {
   "cell_type": "code",
   "execution_count": 26,
   "metadata": {
    "ExecuteTime": {
     "end_time": "2019-09-12T07:57:07.942134Z",
     "start_time": "2019-09-12T07:57:07.936463Z"
    }
   },
   "outputs": [
    {
     "data": {
      "text/plain": [
       "str"
      ]
     },
     "execution_count": 26,
     "metadata": {},
     "output_type": "execute_result"
    }
   ],
   "source": [
    "type(\"какая-то строка\")"
   ]
  },
  {
   "cell_type": "code",
   "execution_count": 27,
   "metadata": {
    "ExecuteTime": {
     "end_time": "2019-09-12T07:57:07.950615Z",
     "start_time": "2019-09-12T07:57:07.944567Z"
    }
   },
   "outputs": [
    {
     "name": "stdout",
     "output_type": "stream",
     "text": [
      "Hello, World!\n",
      "Hello, World!\n",
      "Привет, мир!\n",
      "Привет, мир!\n"
     ]
    }
   ],
   "source": [
    "print (\"Hello, World!\")\n",
    "print ('Hello, World!')\n",
    "print (\"Привет, мир!\")\n",
    "print ('Привет, мир!')"
   ]
  },
  {
   "cell_type": "markdown",
   "metadata": {},
   "source": [
    "### Boolean"
   ]
  },
  {
   "cell_type": "markdown",
   "metadata": {},
   "source": [
    "Тип данных для булевых переменных"
   ]
  },
  {
   "cell_type": "code",
   "execution_count": 28,
   "metadata": {
    "ExecuteTime": {
     "end_time": "2019-09-12T07:57:07.958498Z",
     "start_time": "2019-09-12T07:57:07.952980Z"
    }
   },
   "outputs": [
    {
     "data": {
      "text/plain": [
       "bool"
      ]
     },
     "execution_count": 28,
     "metadata": {},
     "output_type": "execute_result"
    }
   ],
   "source": [
    "type(True)"
   ]
  },
  {
   "cell_type": "code",
   "execution_count": 29,
   "metadata": {
    "ExecuteTime": {
     "end_time": "2019-09-12T07:57:07.966684Z",
     "start_time": "2019-09-12T07:57:07.961323Z"
    }
   },
   "outputs": [
    {
     "data": {
      "text/plain": [
       "bool"
      ]
     },
     "execution_count": 29,
     "metadata": {},
     "output_type": "execute_result"
    }
   ],
   "source": [
    "type(False)"
   ]
  },
  {
   "cell_type": "markdown",
   "metadata": {},
   "source": [
    "Но, вообще говоря, в булевский операциях могут участвовать и не булевские переменные. Это мы увидим позднее."
   ]
  },
  {
   "cell_type": "markdown",
   "metadata": {},
   "source": [
    "### Приведение типов"
   ]
  },
  {
   "cell_type": "markdown",
   "metadata": {},
   "source": [
    "Все очень просто!"
   ]
  },
  {
   "cell_type": "code",
   "execution_count": 30,
   "metadata": {
    "ExecuteTime": {
     "end_time": "2019-09-12T07:57:07.974601Z",
     "start_time": "2019-09-12T07:57:07.969156Z"
    }
   },
   "outputs": [
    {
     "data": {
      "text/plain": [
       "3"
      ]
     },
     "execution_count": 30,
     "metadata": {},
     "output_type": "execute_result"
    }
   ],
   "source": [
    "int(3.8)"
   ]
  },
  {
   "cell_type": "code",
   "execution_count": 31,
   "metadata": {
    "ExecuteTime": {
     "end_time": "2019-09-12T07:57:07.982871Z",
     "start_time": "2019-09-12T07:57:07.977384Z"
    }
   },
   "outputs": [
    {
     "data": {
      "text/plain": [
       "1"
      ]
     },
     "execution_count": 31,
     "metadata": {},
     "output_type": "execute_result"
    }
   ],
   "source": [
    "int(True)"
   ]
  },
  {
   "cell_type": "code",
   "execution_count": 32,
   "metadata": {
    "ExecuteTime": {
     "end_time": "2019-09-12T07:57:07.990556Z",
     "start_time": "2019-09-12T07:57:07.985331Z"
    }
   },
   "outputs": [
    {
     "data": {
      "text/plain": [
       "0"
      ]
     },
     "execution_count": 32,
     "metadata": {},
     "output_type": "execute_result"
    }
   ],
   "source": [
    "int(False)"
   ]
  },
  {
   "cell_type": "code",
   "execution_count": 33,
   "metadata": {
    "ExecuteTime": {
     "end_time": "2019-09-12T07:57:07.998189Z",
     "start_time": "2019-09-12T07:57:07.992879Z"
    }
   },
   "outputs": [
    {
     "data": {
      "text/plain": [
       "3.0"
      ]
     },
     "execution_count": 33,
     "metadata": {},
     "output_type": "execute_result"
    }
   ],
   "source": [
    "float(3)"
   ]
  },
  {
   "cell_type": "code",
   "execution_count": 34,
   "metadata": {
    "ExecuteTime": {
     "end_time": "2019-09-12T07:57:08.005976Z",
     "start_time": "2019-09-12T07:57:08.000574Z"
    }
   },
   "outputs": [
    {
     "data": {
      "text/plain": [
       "1.0"
      ]
     },
     "execution_count": 34,
     "metadata": {},
     "output_type": "execute_result"
    }
   ],
   "source": [
    "float(True)"
   ]
  },
  {
   "cell_type": "code",
   "execution_count": 35,
   "metadata": {
    "ExecuteTime": {
     "end_time": "2019-09-12T07:57:08.013650Z",
     "start_time": "2019-09-12T07:57:08.008373Z"
    }
   },
   "outputs": [
    {
     "data": {
      "text/plain": [
       "True"
      ]
     },
     "execution_count": 35,
     "metadata": {},
     "output_type": "execute_result"
    }
   ],
   "source": [
    "bool(-3.4)"
   ]
  },
  {
   "cell_type": "code",
   "execution_count": 36,
   "metadata": {
    "ExecuteTime": {
     "end_time": "2019-09-12T07:57:08.021431Z",
     "start_time": "2019-09-12T07:57:08.016177Z"
    }
   },
   "outputs": [
    {
     "data": {
      "text/plain": [
       "False"
      ]
     },
     "execution_count": 36,
     "metadata": {},
     "output_type": "execute_result"
    }
   ],
   "source": [
    "bool(0)"
   ]
  },
  {
   "cell_type": "code",
   "execution_count": 37,
   "metadata": {
    "ExecuteTime": {
     "end_time": "2019-09-12T07:57:08.029476Z",
     "start_time": "2019-09-12T07:57:08.023997Z"
    }
   },
   "outputs": [
    {
     "data": {
      "text/plain": [
       "'1'"
      ]
     },
     "execution_count": 37,
     "metadata": {},
     "output_type": "execute_result"
    }
   ],
   "source": [
    "str(1)"
   ]
  },
  {
   "cell_type": "code",
   "execution_count": 38,
   "metadata": {
    "ExecuteTime": {
     "end_time": "2019-09-12T07:57:08.037083Z",
     "start_time": "2019-09-12T07:57:08.031747Z"
    }
   },
   "outputs": [
    {
     "data": {
      "text/plain": [
       "2.0"
      ]
     },
     "execution_count": 38,
     "metadata": {},
     "output_type": "execute_result"
    }
   ],
   "source": [
    "True + 1.0"
   ]
  },
  {
   "cell_type": "markdown",
   "metadata": {},
   "source": [
    "## Переменные"
   ]
  },
  {
   "cell_type": "markdown",
   "metadata": {},
   "source": [
    "До этого момента мы оперировали строковыми значениями и числовыми константами. "
   ]
  },
  {
   "cell_type": "markdown",
   "metadata": {},
   "source": [
    "### Присваивание значения"
   ]
  },
  {
   "cell_type": "markdown",
   "metadata": {},
   "source": [
    "Присваивание может выполняться в любом месте кода, но строго до использования переменной в коде."
   ]
  },
  {
   "cell_type": "code",
   "execution_count": 39,
   "metadata": {
    "ExecuteTime": {
     "end_time": "2019-09-12T07:57:08.043222Z",
     "start_time": "2019-09-12T07:57:08.039448Z"
    }
   },
   "outputs": [],
   "source": [
    "x = 100"
   ]
  },
  {
   "cell_type": "code",
   "execution_count": 40,
   "metadata": {
    "ExecuteTime": {
     "end_time": "2019-09-12T07:57:08.051117Z",
     "start_time": "2019-09-12T07:57:08.045998Z"
    }
   },
   "outputs": [
    {
     "name": "stdout",
     "output_type": "stream",
     "text": [
      "100 <class 'int'>\n"
     ]
    }
   ],
   "source": [
    "print (x, type(x))"
   ]
  },
  {
   "cell_type": "code",
   "execution_count": 41,
   "metadata": {
    "ExecuteTime": {
     "end_time": "2019-09-12T07:57:08.057496Z",
     "start_time": "2019-09-12T07:57:08.053490Z"
    }
   },
   "outputs": [
    {
     "name": "stdout",
     "output_type": "stream",
     "text": [
      "1.8 <class 'float'>\n"
     ]
    }
   ],
   "source": [
    "x = 1.8\n",
    "\n",
    "print (x, type(x))"
   ]
  },
  {
   "cell_type": "markdown",
   "metadata": {},
   "source": [
    "Как можно видеть, в Python используется *динамическая типизация*. \n",
    "\n",
    "Это значит, что тип переменной не строго определен, а определяется в момент присваивания. То есть одна и та же переменная может иметь разный тип в разных участках кода."
   ]
  },
  {
   "cell_type": "markdown",
   "metadata": {},
   "source": [
    "###  None"
   ]
  },
  {
   "cell_type": "markdown",
   "metadata": {},
   "source": [
    "None - \"нейтральное\" (никакое) значение (аналог null в других языках)."
   ]
  },
  {
   "cell_type": "code",
   "execution_count": 42,
   "metadata": {
    "ExecuteTime": {
     "end_time": "2019-09-12T07:57:08.064407Z",
     "start_time": "2019-09-12T07:57:08.060345Z"
    }
   },
   "outputs": [
    {
     "name": "stdout",
     "output_type": "stream",
     "text": [
      "None\n"
     ]
    }
   ],
   "source": [
    "x = None\n",
    "\n",
    "print (x)"
   ]
  },
  {
   "cell_type": "markdown",
   "metadata": {},
   "source": [
    "### Чуть глубже, что происходит при присваивании"
   ]
  },
  {
   "cell_type": "code",
   "execution_count": 43,
   "metadata": {
    "ExecuteTime": {
     "end_time": "2019-09-12T07:57:08.070044Z",
     "start_time": "2019-09-12T07:57:08.066697Z"
    }
   },
   "outputs": [],
   "source": [
    "x = 1000"
   ]
  },
  {
   "cell_type": "markdown",
   "metadata": {},
   "source": [
    "Происходит несколько вещей:\n",
    "\n",
    "1) Создается объект типа int\n",
    "\n",
    "2) Объекту присваивается уникальный идентификатор \n",
    "\n",
    "3) Объекту присваивается значение 1000"
   ]
  },
  {
   "cell_type": "code",
   "execution_count": 44,
   "metadata": {
    "ExecuteTime": {
     "end_time": "2019-09-12T07:57:08.077526Z",
     "start_time": "2019-09-12T07:57:08.072513Z"
    }
   },
   "outputs": [
    {
     "name": "stdout",
     "output_type": "stream",
     "text": [
      "139881531439728 1000\n"
     ]
    }
   ],
   "source": [
    "print (id(x), x)"
   ]
  },
  {
   "cell_type": "markdown",
   "metadata": {},
   "source": [
    "Гарантируется, что два разных объекта всегда будут иметь разные идентификаторы, в те периоды времени, когда оба объекта существуют."
   ]
  },
  {
   "cell_type": "markdown",
   "metadata": {},
   "source": [
    "По сути питоновская переменная - это просто строковое название указателя на объект. Когда объект присвоен некоторой переменной, мы можем обращаться к нему по названию этой переменной."
   ]
  },
  {
   "cell_type": "code",
   "execution_count": 45,
   "metadata": {
    "ExecuteTime": {
     "end_time": "2019-09-12T07:57:08.083419Z",
     "start_time": "2019-09-12T07:57:08.079972Z"
    }
   },
   "outputs": [],
   "source": [
    "y = x"
   ]
  },
  {
   "cell_type": "markdown",
   "metadata": {},
   "source": [
    "Теперь у нас есть два указателя на объект: x и y"
   ]
  },
  {
   "cell_type": "code",
   "execution_count": 46,
   "metadata": {
    "ExecuteTime": {
     "end_time": "2019-09-12T07:57:08.090737Z",
     "start_time": "2019-09-12T07:57:08.085922Z"
    }
   },
   "outputs": [
    {
     "name": "stdout",
     "output_type": "stream",
     "text": [
      "1000 1000\n",
      "139881531439728 139881531439728\n"
     ]
    }
   ],
   "source": [
    "print (x, y)\n",
    "print (id(x), id(y))"
   ]
  },
  {
   "cell_type": "markdown",
   "metadata": {},
   "source": [
    "Переопределим y:"
   ]
  },
  {
   "cell_type": "code",
   "execution_count": 47,
   "metadata": {
    "ExecuteTime": {
     "end_time": "2019-09-12T07:57:08.098442Z",
     "start_time": "2019-09-12T07:57:08.093209Z"
    }
   },
   "outputs": [
    {
     "name": "stdout",
     "output_type": "stream",
     "text": [
      "1000 1000.0\n",
      "139881531439728 139879497450672\n"
     ]
    }
   ],
   "source": [
    "y = 1000.\n",
    "\n",
    "print (x, y)\n",
    "print (id(x), id(y))"
   ]
  },
  {
   "cell_type": "markdown",
   "metadata": {},
   "source": [
    "Переопределим х:"
   ]
  },
  {
   "cell_type": "code",
   "execution_count": 48,
   "metadata": {
    "ExecuteTime": {
     "end_time": "2019-09-12T07:57:08.106633Z",
     "start_time": "2019-09-12T07:57:08.100881Z"
    }
   },
   "outputs": [
    {
     "name": "stdout",
     "output_type": "stream",
     "text": [
      "hello 1000.0\n",
      "139881531391704 139879497450672\n"
     ]
    }
   ],
   "source": [
    "x = 'hello'\n",
    "\n",
    "print (x, y)\n",
    "print (id(x), id(y))"
   ]
  },
  {
   "cell_type": "markdown",
   "metadata": {},
   "source": [
    "В этот момент произошло следующее: нет ни одного указателя на созданный объект int 1000.\n",
    "Этот момент считается концом жизни объекта, поэтому Питон должен освободить занимаемую этим обектом память. Этим занимается garbage collector. \n",
    "\n",
    "В момент уничтожения объекта с помощью garbage collection, высвобождается уникальный идентификатор объекта, который будет использоваться для других объектов."
   ]
  },
  {
   "cell_type": "code",
   "execution_count": 49,
   "metadata": {
    "ExecuteTime": {
     "end_time": "2019-09-12T07:57:08.114847Z",
     "start_time": "2019-09-12T07:57:08.109063Z"
    }
   },
   "outputs": [
    {
     "name": "stdout",
     "output_type": "stream",
     "text": [
      "1000 1000\n",
      "139881531440496 139881531440496\n",
      "\n",
      "1001 1000\n",
      "139881531440592 139881531440496\n"
     ]
    }
   ],
   "source": [
    "x = 1000\n",
    "y = x\n",
    "print (x, y)\n",
    "print (id(x), id(y))\n",
    "print ()\n",
    "\n",
    "x += 1\n",
    "print (x, y)\n",
    "print (id(x), id(y))"
   ]
  },
  {
   "cell_type": "markdown",
   "metadata": {},
   "source": [
    "Для оптимизации интерпретатор создает объекты для int в промежутке [-5, 256] и использует их."
   ]
  },
  {
   "cell_type": "code",
   "execution_count": 50,
   "metadata": {
    "ExecuteTime": {
     "end_time": "2019-09-12T07:57:08.123242Z",
     "start_time": "2019-09-12T07:57:08.117493Z"
    }
   },
   "outputs": [
    {
     "name": "stdout",
     "output_type": "stream",
     "text": [
      "Айдишники совпадают:\n",
      "94905590863168 94905590863168\n",
      "\n",
      "Айдишники не совпадают:\n",
      "139881531439824 139881531439344\n"
     ]
    }
   ],
   "source": [
    "x = 10\n",
    "y = 10 \n",
    "\n",
    "print (\"Айдишники совпадают:\")\n",
    "print (id(x), (id(y)))\n",
    "print ()\n",
    "\n",
    "\n",
    "x = 1000\n",
    "y = 1000\n",
    "\n",
    "print (\"Айдишники не совпадают:\")\n",
    "print (id(x), (id(y)))"
   ]
  },
  {
   "cell_type": "code",
   "execution_count": 51,
   "metadata": {
    "ExecuteTime": {
     "end_time": "2019-09-12T07:57:08.129660Z",
     "start_time": "2019-09-12T07:57:08.125402Z"
    }
   },
   "outputs": [
    {
     "name": "stdout",
     "output_type": "stream",
     "text": [
      "Айдишники совпадают:\n",
      "94905590726896 94905590726896\n"
     ]
    }
   ],
   "source": [
    "x = None\n",
    "\n",
    "print (\"Айдишники совпадают:\")\n",
    "print (id(x), (id(None)))"
   ]
  },
  {
   "cell_type": "markdown",
   "metadata": {},
   "source": [
    "### Правила по называнию переменных"
   ]
  },
  {
   "cell_type": "markdown",
   "metadata": {},
   "source": [
    "1. Может быть любой длины\n",
    "2. Может состоять из маленьких и больших букв латинского алфавита (A-Z, a-z)\n",
    "3. Может состоять из цифр (0-9)\n",
    "4. А также из символа  \\_\n",
    "5. Первый элемент названия не может быть цифрой\n",
    "6. Регистр важен!"
   ]
  },
  {
   "cell_type": "markdown",
   "metadata": {},
   "source": [
    "Желательно, чтобы названия переменных были осмысленными"
   ]
  },
  {
   "cell_type": "code",
   "execution_count": 52,
   "metadata": {
    "ExecuteTime": {
     "end_time": "2019-09-12T07:57:08.134879Z",
     "start_time": "2019-09-12T07:57:08.131914Z"
    }
   },
   "outputs": [],
   "source": [
    "file_name = '1.txt'\n",
    "_FILE_NAME_ = '2.txt'"
   ]
  },
  {
   "cell_type": "code",
   "execution_count": 53,
   "metadata": {
    "ExecuteTime": {
     "end_time": "2019-09-12T07:57:08.141817Z",
     "start_time": "2019-09-12T07:57:08.137106Z"
    }
   },
   "outputs": [
    {
     "ename": "SyntaxError",
     "evalue": "invalid token (<ipython-input-53-49b9d4a5f12d>, line 3)",
     "output_type": "error",
     "traceback": [
      "\u001b[0;36m  File \u001b[0;32m\"<ipython-input-53-49b9d4a5f12d>\"\u001b[0;36m, line \u001b[0;32m3\u001b[0m\n\u001b[0;31m    1_file_name = '1.txt'\u001b[0m\n\u001b[0m     ^\u001b[0m\n\u001b[0;31mSyntaxError\u001b[0m\u001b[0;31m:\u001b[0m invalid token\n"
     ]
    }
   ],
   "source": [
    "#неправильное название переменной\n",
    "\n",
    "1_file_name = '1.txt'"
   ]
  },
  {
   "cell_type": "markdown",
   "metadata": {},
   "source": [
    "Для составления \"сложных\" имен есть несколько способов:\n",
    "\n",
    " - Camel Case (вторые и последующие слова начинаются с большой буквы): numberOfKittens\n",
    " - Pascal Case (аналогично Camel Case, только первая буква тоже большая): NumberOfKittens\n",
    " - Snake Case (слова разделены нижним подчеркиванием): number_of_kittens"
   ]
  },
  {
   "cell_type": "markdown",
   "metadata": {},
   "source": [
    "Для Питона есть гайд по стилю написания кода, известный как PEP 8 (https://www.python.org/dev/peps/pep-0008/)\n",
    "\n",
    "Для названия объектов в нем следующие рекомендации:\n",
    "\n",
    "- Snake Case для названий переменных/функций\n",
    "- Pascal Case для названий классов"
   ]
  },
  {
   "cell_type": "markdown",
   "metadata": {},
   "source": [
    "## Операторы и выражения в Python"
   ]
  },
  {
   "cell_type": "markdown",
   "metadata": {},
   "source": [
    "### Арифметические операторы"
   ]
  },
  {
   "cell_type": "markdown",
   "metadata": {},
   "source": [
    "#### Унарные +, -"
   ]
  },
  {
   "cell_type": "code",
   "execution_count": 54,
   "metadata": {
    "ExecuteTime": {
     "end_time": "2019-09-12T07:57:24.521891Z",
     "start_time": "2019-09-12T07:57:24.513909Z"
    }
   },
   "outputs": [
    {
     "name": "stdout",
     "output_type": "stream",
     "text": [
      "1\n"
     ]
    }
   ],
   "source": [
    "x = 1\n",
    "print (x)"
   ]
  },
  {
   "cell_type": "code",
   "execution_count": 55,
   "metadata": {
    "ExecuteTime": {
     "end_time": "2019-09-12T07:57:24.532100Z",
     "start_time": "2019-09-12T07:57:24.526277Z"
    }
   },
   "outputs": [
    {
     "data": {
      "text/plain": [
       "1"
      ]
     },
     "execution_count": 55,
     "metadata": {},
     "output_type": "execute_result"
    }
   ],
   "source": [
    "+x"
   ]
  },
  {
   "cell_type": "code",
   "execution_count": 56,
   "metadata": {
    "ExecuteTime": {
     "end_time": "2019-09-12T07:57:24.541598Z",
     "start_time": "2019-09-12T07:57:24.536016Z"
    }
   },
   "outputs": [
    {
     "data": {
      "text/plain": [
       "-1"
      ]
     },
     "execution_count": 56,
     "metadata": {},
     "output_type": "execute_result"
    }
   ],
   "source": [
    "-x"
   ]
  },
  {
   "cell_type": "markdown",
   "metadata": {},
   "source": [
    "#### Бинарные"
   ]
  },
  {
   "cell_type": "code",
   "execution_count": 57,
   "metadata": {
    "ExecuteTime": {
     "end_time": "2019-09-12T07:57:24.548591Z",
     "start_time": "2019-09-12T07:57:24.544862Z"
    }
   },
   "outputs": [],
   "source": [
    "x = 5\n",
    "y = 3"
   ]
  },
  {
   "cell_type": "code",
   "execution_count": 58,
   "metadata": {
    "ExecuteTime": {
     "end_time": "2019-09-12T07:57:24.557288Z",
     "start_time": "2019-09-12T07:57:24.551587Z"
    }
   },
   "outputs": [
    {
     "data": {
      "text/plain": [
       "8"
      ]
     },
     "execution_count": 58,
     "metadata": {},
     "output_type": "execute_result"
    }
   ],
   "source": [
    "x + y"
   ]
  },
  {
   "cell_type": "code",
   "execution_count": 59,
   "metadata": {
    "ExecuteTime": {
     "end_time": "2019-09-12T07:57:24.565772Z",
     "start_time": "2019-09-12T07:57:24.560021Z"
    }
   },
   "outputs": [
    {
     "data": {
      "text/plain": [
       "2"
      ]
     },
     "execution_count": 59,
     "metadata": {},
     "output_type": "execute_result"
    }
   ],
   "source": [
    "x - y"
   ]
  },
  {
   "cell_type": "code",
   "execution_count": 60,
   "metadata": {
    "ExecuteTime": {
     "end_time": "2019-09-12T07:57:24.573953Z",
     "start_time": "2019-09-12T07:57:24.568560Z"
    }
   },
   "outputs": [
    {
     "data": {
      "text/plain": [
       "15"
      ]
     },
     "execution_count": 60,
     "metadata": {},
     "output_type": "execute_result"
    }
   ],
   "source": [
    "x * y"
   ]
  },
  {
   "cell_type": "code",
   "execution_count": 61,
   "metadata": {
    "ExecuteTime": {
     "end_time": "2019-09-12T07:57:24.582270Z",
     "start_time": "2019-09-12T07:57:24.576559Z"
    }
   },
   "outputs": [
    {
     "data": {
      "text/plain": [
       "1.6666666666666667"
      ]
     },
     "execution_count": 61,
     "metadata": {},
     "output_type": "execute_result"
    }
   ],
   "source": [
    "x / y # результат - всегда типа float"
   ]
  },
  {
   "cell_type": "code",
   "execution_count": 62,
   "metadata": {
    "ExecuteTime": {
     "end_time": "2019-09-12T07:57:24.593163Z",
     "start_time": "2019-09-12T07:57:24.587852Z"
    }
   },
   "outputs": [
    {
     "data": {
      "text/plain": [
       "2"
      ]
     },
     "execution_count": 62,
     "metadata": {},
     "output_type": "execute_result"
    }
   ],
   "source": [
    "x % y #остаток от деления"
   ]
  },
  {
   "cell_type": "code",
   "execution_count": 63,
   "metadata": {
    "ExecuteTime": {
     "end_time": "2019-09-12T07:57:24.602514Z",
     "start_time": "2019-09-12T07:57:24.596947Z"
    }
   },
   "outputs": [
    {
     "data": {
      "text/plain": [
       "1"
      ]
     },
     "execution_count": 63,
     "metadata": {},
     "output_type": "execute_result"
    }
   ],
   "source": [
    "x // y #целочисленное деление"
   ]
  },
  {
   "cell_type": "code",
   "execution_count": 64,
   "metadata": {
    "ExecuteTime": {
     "end_time": "2019-09-12T07:57:24.611169Z",
     "start_time": "2019-09-12T07:57:24.605290Z"
    }
   },
   "outputs": [
    {
     "data": {
      "text/plain": [
       "125"
      ]
     },
     "execution_count": 64,
     "metadata": {},
     "output_type": "execute_result"
    }
   ],
   "source": [
    "x ** y #возведение в степень"
   ]
  },
  {
   "cell_type": "markdown",
   "metadata": {},
   "source": [
    "Обновление значения переменной можно в некоторых случаях заменить одним оператором:"
   ]
  },
  {
   "cell_type": "code",
   "execution_count": 65,
   "metadata": {
    "ExecuteTime": {
     "end_time": "2019-09-12T07:57:24.618922Z",
     "start_time": "2019-09-12T07:57:24.613936Z"
    }
   },
   "outputs": [
    {
     "name": "stdout",
     "output_type": "stream",
     "text": [
      "2\n"
     ]
    }
   ],
   "source": [
    "x = 1\n",
    "x = x + 1\n",
    "\n",
    "print (x)"
   ]
  },
  {
   "cell_type": "code",
   "execution_count": 66,
   "metadata": {
    "ExecuteTime": {
     "end_time": "2019-09-12T07:57:24.627367Z",
     "start_time": "2019-09-12T07:57:24.621810Z"
    }
   },
   "outputs": [
    {
     "name": "stdout",
     "output_type": "stream",
     "text": [
      "2\n"
     ]
    }
   ],
   "source": [
    "x = 1\n",
    "x += 1\n",
    "\n",
    "print (x)"
   ]
  },
  {
   "cell_type": "markdown",
   "metadata": {},
   "source": [
    "Это работает для всех перечисленных выше операций:"
   ]
  },
  {
   "cell_type": "code",
   "execution_count": 67,
   "metadata": {
    "ExecuteTime": {
     "end_time": "2019-09-12T07:57:24.635489Z",
     "start_time": "2019-09-12T07:57:24.630151Z"
    }
   },
   "outputs": [
    {
     "name": "stdout",
     "output_type": "stream",
     "text": [
      "3\n"
     ]
    }
   ],
   "source": [
    "x = 10\n",
    "\n",
    "x //= 3\n",
    "\n",
    "print (x)"
   ]
  },
  {
   "cell_type": "markdown",
   "metadata": {},
   "source": [
    "### Операторы сравнения"
   ]
  },
  {
   "cell_type": "markdown",
   "metadata": {},
   "source": [
    "Операторы сравнения возвращают булевское значение"
   ]
  },
  {
   "cell_type": "code",
   "execution_count": 68,
   "metadata": {
    "ExecuteTime": {
     "end_time": "2019-09-12T07:57:24.641960Z",
     "start_time": "2019-09-12T07:57:24.638335Z"
    }
   },
   "outputs": [],
   "source": [
    "a = 1\n",
    "b = 1\n",
    "c = 3"
   ]
  },
  {
   "cell_type": "code",
   "execution_count": 69,
   "metadata": {
    "ExecuteTime": {
     "end_time": "2019-09-12T07:57:24.649661Z",
     "start_time": "2019-09-12T07:57:24.644754Z"
    }
   },
   "outputs": [
    {
     "name": "stdout",
     "output_type": "stream",
     "text": [
      "True\n",
      "False\n"
     ]
    }
   ],
   "source": [
    "# равенство\n",
    "\n",
    "print (a == b)\n",
    "print (a == c)"
   ]
  },
  {
   "cell_type": "code",
   "execution_count": 70,
   "metadata": {
    "ExecuteTime": {
     "end_time": "2019-09-12T07:57:24.658927Z",
     "start_time": "2019-09-12T07:57:24.652403Z"
    }
   },
   "outputs": [
    {
     "name": "stdout",
     "output_type": "stream",
     "text": [
      "False\n",
      "True\n"
     ]
    }
   ],
   "source": [
    "# неравенство\n",
    "\n",
    "print (a != b)\n",
    "print (a != c)"
   ]
  },
  {
   "cell_type": "code",
   "execution_count": 71,
   "metadata": {
    "ExecuteTime": {
     "end_time": "2019-09-12T07:57:24.667051Z",
     "start_time": "2019-09-12T07:57:24.661746Z"
    }
   },
   "outputs": [
    {
     "name": "stdout",
     "output_type": "stream",
     "text": [
      "False\n",
      "True\n"
     ]
    }
   ],
   "source": [
    "# меньше\n",
    "\n",
    "print (a < b)\n",
    "print (a < c)"
   ]
  },
  {
   "cell_type": "code",
   "execution_count": 72,
   "metadata": {
    "ExecuteTime": {
     "end_time": "2019-09-12T07:57:24.675098Z",
     "start_time": "2019-09-12T07:57:24.669926Z"
    }
   },
   "outputs": [
    {
     "data": {
      "text/plain": [
       "True"
      ]
     },
     "execution_count": 72,
     "metadata": {},
     "output_type": "execute_result"
    }
   ],
   "source": [
    "# нестрогое меньше\n",
    "\n",
    "a <= b"
   ]
  },
  {
   "cell_type": "code",
   "execution_count": 73,
   "metadata": {
    "ExecuteTime": {
     "end_time": "2019-09-12T07:57:24.683720Z",
     "start_time": "2019-09-12T07:57:24.677831Z"
    }
   },
   "outputs": [
    {
     "name": "stdout",
     "output_type": "stream",
     "text": [
      "False\n",
      "True\n"
     ]
    }
   ],
   "source": [
    "# больше\n",
    "\n",
    "print (a > b)\n",
    "print (c > a)"
   ]
  },
  {
   "cell_type": "code",
   "execution_count": 74,
   "metadata": {
    "ExecuteTime": {
     "end_time": "2019-09-12T07:57:24.691065Z",
     "start_time": "2019-09-12T07:57:24.686364Z"
    }
   },
   "outputs": [
    {
     "data": {
      "text/plain": [
       "True"
      ]
     },
     "execution_count": 74,
     "metadata": {},
     "output_type": "execute_result"
    }
   ],
   "source": [
    "# нестрогое больше\n",
    "a >= b"
   ]
  },
  {
   "cell_type": "markdown",
   "metadata": {},
   "source": [
    "Помните про сравнение float!"
   ]
  },
  {
   "cell_type": "code",
   "execution_count": 75,
   "metadata": {
    "ExecuteTime": {
     "end_time": "2019-09-12T07:57:24.697896Z",
     "start_time": "2019-09-12T07:57:24.693219Z"
    }
   },
   "outputs": [
    {
     "data": {
      "text/plain": [
       "False"
      ]
     },
     "execution_count": 75,
     "metadata": {},
     "output_type": "execute_result"
    }
   ],
   "source": [
    "x = 1.1 + 2.2\n",
    "\n",
    "x == 3.3"
   ]
  },
  {
   "cell_type": "code",
   "execution_count": 76,
   "metadata": {
    "ExecuteTime": {
     "end_time": "2019-09-12T07:57:24.705338Z",
     "start_time": "2019-09-12T07:57:24.700091Z"
    }
   },
   "outputs": [
    {
     "data": {
      "text/plain": [
       "True"
      ]
     },
     "execution_count": 76,
     "metadata": {},
     "output_type": "execute_result"
    }
   ],
   "source": [
    "#abs - функция, которая возвращает модуль числа\n",
    "\n",
    "abs (x - 3.3) < 0.0001"
   ]
  },
  {
   "cell_type": "markdown",
   "metadata": {},
   "source": [
    "### Логические операторы"
   ]
  },
  {
   "cell_type": "markdown",
   "metadata": {},
   "source": [
    "Тоже возвращают булевское значение."
   ]
  },
  {
   "cell_type": "markdown",
   "metadata": {},
   "source": [
    "Есть отрицание, сложение и вычитание"
   ]
  },
  {
   "cell_type": "code",
   "execution_count": 77,
   "metadata": {
    "ExecuteTime": {
     "end_time": "2019-09-12T07:57:24.713098Z",
     "start_time": "2019-09-12T07:57:24.707816Z"
    }
   },
   "outputs": [
    {
     "data": {
      "text/plain": [
       "False"
      ]
     },
     "execution_count": 77,
     "metadata": {},
     "output_type": "execute_result"
    }
   ],
   "source": [
    "not True"
   ]
  },
  {
   "cell_type": "code",
   "execution_count": 78,
   "metadata": {
    "ExecuteTime": {
     "end_time": "2019-09-12T07:57:24.720557Z",
     "start_time": "2019-09-12T07:57:24.715654Z"
    }
   },
   "outputs": [
    {
     "data": {
      "text/plain": [
       "True"
      ]
     },
     "execution_count": 78,
     "metadata": {},
     "output_type": "execute_result"
    }
   ],
   "source": [
    "not False"
   ]
  },
  {
   "cell_type": "code",
   "execution_count": 79,
   "metadata": {
    "ExecuteTime": {
     "end_time": "2019-09-12T07:57:24.727619Z",
     "start_time": "2019-09-12T07:57:24.722787Z"
    }
   },
   "outputs": [
    {
     "data": {
      "text/plain": [
       "True"
      ]
     },
     "execution_count": 79,
     "metadata": {},
     "output_type": "execute_result"
    }
   ],
   "source": [
    "True or False"
   ]
  },
  {
   "cell_type": "code",
   "execution_count": 80,
   "metadata": {
    "ExecuteTime": {
     "end_time": "2019-09-12T07:57:24.737761Z",
     "start_time": "2019-09-12T07:57:24.733173Z"
    }
   },
   "outputs": [
    {
     "data": {
      "text/plain": [
       "False"
      ]
     },
     "execution_count": 80,
     "metadata": {},
     "output_type": "execute_result"
    }
   ],
   "source": [
    "False or False"
   ]
  },
  {
   "cell_type": "code",
   "execution_count": 81,
   "metadata": {
    "ExecuteTime": {
     "end_time": "2019-09-12T07:57:24.745825Z",
     "start_time": "2019-09-12T07:57:24.740843Z"
    }
   },
   "outputs": [
    {
     "data": {
      "text/plain": [
       "False"
      ]
     },
     "execution_count": 81,
     "metadata": {},
     "output_type": "execute_result"
    }
   ],
   "source": [
    "True and False"
   ]
  },
  {
   "cell_type": "code",
   "execution_count": 82,
   "metadata": {
    "ExecuteTime": {
     "end_time": "2019-09-12T07:57:24.753461Z",
     "start_time": "2019-09-12T07:57:24.748181Z"
    }
   },
   "outputs": [
    {
     "data": {
      "text/plain": [
       "True"
      ]
     },
     "execution_count": 82,
     "metadata": {},
     "output_type": "execute_result"
    }
   ],
   "source": [
    "True and True"
   ]
  },
  {
   "cell_type": "markdown",
   "metadata": {},
   "source": [
    "Про ленивые проверки:"
   ]
  },
  {
   "cell_type": "markdown",
   "metadata": {},
   "source": [
    "Сейчас вы увидите функцию. Не пугайтесь. Я не придумала, как по-другому продемонстрировать ленивые проверки, поэтому просто примите тот факт, что дальше идет функция."
   ]
  },
  {
   "cell_type": "code",
   "execution_count": 83,
   "metadata": {
    "ExecuteTime": {
     "end_time": "2019-09-12T07:57:24.759572Z",
     "start_time": "2019-09-12T07:57:24.755839Z"
    }
   },
   "outputs": [],
   "source": [
    "def f(x):\n",
    "    print (\"Вызов функции со значением:\", x)\n",
    "    return x == 1"
   ]
  },
  {
   "cell_type": "code",
   "execution_count": 84,
   "metadata": {
    "ExecuteTime": {
     "end_time": "2019-09-12T07:57:24.768257Z",
     "start_time": "2019-09-12T07:57:24.762218Z"
    }
   },
   "outputs": [
    {
     "name": "stdout",
     "output_type": "stream",
     "text": [
      "Вызов функции со значением: 2\n",
      "Вызов функции со значением: 1\n"
     ]
    },
    {
     "data": {
      "text/plain": [
       "True"
      ]
     },
     "execution_count": 84,
     "metadata": {},
     "output_type": "execute_result"
    }
   ],
   "source": [
    "f(2) or f(1) or f(0)"
   ]
  },
  {
   "cell_type": "code",
   "execution_count": 85,
   "metadata": {
    "ExecuteTime": {
     "end_time": "2019-09-12T07:57:24.777304Z",
     "start_time": "2019-09-12T07:57:24.770718Z"
    }
   },
   "outputs": [
    {
     "name": "stdout",
     "output_type": "stream",
     "text": [
      "Вызов функции со значением: 1\n",
      "Вызов функции со значением: 1\n",
      "Вызов функции со значением: 2\n"
     ]
    },
    {
     "data": {
      "text/plain": [
       "False"
      ]
     },
     "execution_count": 85,
     "metadata": {},
     "output_type": "execute_result"
    }
   ],
   "source": [
    "f(1) and f(1) and f(2) and f(3)"
   ]
  },
  {
   "cell_type": "markdown",
   "metadata": {},
   "source": [
    "В булевских операциях могут участвовать и небулевские объекты!\n",
    "\n",
    "В качестве False рассматриваются:\n",
    "    - собственно, False\n",
    "    - ноль (0, 0.0, 0.0+0.0j)\n",
    "    - пустая строка\n",
    "    - пустые списки, словари и тд\n",
    "    - None"
   ]
  },
  {
   "cell_type": "code",
   "execution_count": 86,
   "metadata": {
    "ExecuteTime": {
     "end_time": "2019-09-12T07:57:24.783698Z",
     "start_time": "2019-09-12T07:57:24.779565Z"
    }
   },
   "outputs": [
    {
     "name": "stdout",
     "output_type": "stream",
     "text": [
      "False\n",
      "True\n"
     ]
    }
   ],
   "source": [
    "print (bool(0))\n",
    "print (bool(-1.))"
   ]
  },
  {
   "cell_type": "code",
   "execution_count": 87,
   "metadata": {
    "ExecuteTime": {
     "end_time": "2019-09-12T07:57:24.790405Z",
     "start_time": "2019-09-12T07:57:24.785951Z"
    }
   },
   "outputs": [
    {
     "name": "stdout",
     "output_type": "stream",
     "text": [
      "False\n",
      "True\n"
     ]
    }
   ],
   "source": [
    "print (bool(\"\"))\n",
    "print (bool(\"1\"))"
   ]
  },
  {
   "cell_type": "code",
   "execution_count": 88,
   "metadata": {
    "ExecuteTime": {
     "end_time": "2019-09-12T07:57:24.797269Z",
     "start_time": "2019-09-12T07:57:24.792700Z"
    }
   },
   "outputs": [
    {
     "data": {
      "text/plain": [
       "False"
      ]
     },
     "execution_count": 88,
     "metadata": {},
     "output_type": "execute_result"
    }
   ],
   "source": [
    "bool(None)"
   ]
  },
  {
   "cell_type": "markdown",
   "metadata": {},
   "source": [
    "### Операторы тождественности (is, is not)"
   ]
  },
  {
   "cell_type": "markdown",
   "metadata": {},
   "source": [
    "is и is not, определяют, ссылаются ли операнды на один и тот же объект"
   ]
  },
  {
   "cell_type": "code",
   "execution_count": 89,
   "metadata": {
    "ExecuteTime": {
     "end_time": "2019-09-12T07:57:24.802703Z",
     "start_time": "2019-09-12T07:57:24.799481Z"
    }
   },
   "outputs": [],
   "source": [
    "x = 1000\n",
    "y = 1000\n",
    "z = x"
   ]
  },
  {
   "cell_type": "code",
   "execution_count": 90,
   "metadata": {
    "ExecuteTime": {
     "end_time": "2019-09-12T07:57:24.809691Z",
     "start_time": "2019-09-12T07:57:24.804949Z"
    }
   },
   "outputs": [
    {
     "data": {
      "text/plain": [
       "True"
      ]
     },
     "execution_count": 90,
     "metadata": {},
     "output_type": "execute_result"
    }
   ],
   "source": [
    "x == y"
   ]
  },
  {
   "cell_type": "code",
   "execution_count": 91,
   "metadata": {
    "ExecuteTime": {
     "end_time": "2019-09-12T07:57:24.817161Z",
     "start_time": "2019-09-12T07:57:24.812062Z"
    }
   },
   "outputs": [
    {
     "data": {
      "text/plain": [
       "False"
      ]
     },
     "execution_count": 91,
     "metadata": {},
     "output_type": "execute_result"
    }
   ],
   "source": [
    "x is y"
   ]
  },
  {
   "cell_type": "code",
   "execution_count": 92,
   "metadata": {
    "ExecuteTime": {
     "end_time": "2019-09-12T07:57:24.825174Z",
     "start_time": "2019-09-12T07:57:24.819600Z"
    }
   },
   "outputs": [
    {
     "data": {
      "text/plain": [
       "True"
      ]
     },
     "execution_count": 92,
     "metadata": {},
     "output_type": "execute_result"
    }
   ],
   "source": [
    "x is z"
   ]
  },
  {
   "cell_type": "code",
   "execution_count": 93,
   "metadata": {
    "ExecuteTime": {
     "end_time": "2019-09-12T07:57:24.832093Z",
     "start_time": "2019-09-12T07:57:24.827419Z"
    }
   },
   "outputs": [
    {
     "data": {
      "text/plain": [
       "True"
      ]
     },
     "execution_count": 93,
     "metadata": {},
     "output_type": "execute_result"
    }
   ],
   "source": [
    "x is not y"
   ]
  },
  {
   "cell_type": "code",
   "execution_count": 94,
   "metadata": {
    "ExecuteTime": {
     "end_time": "2019-09-12T07:57:24.839037Z",
     "start_time": "2019-09-12T07:57:24.834319Z"
    }
   },
   "outputs": [
    {
     "data": {
      "text/plain": [
       "False"
      ]
     },
     "execution_count": 94,
     "metadata": {},
     "output_type": "execute_result"
    }
   ],
   "source": [
    "x += 1\n",
    "\n",
    "x is z"
   ]
  },
  {
   "cell_type": "markdown",
   "metadata": {},
   "source": [
    "## Условный оператор ветвления if"
   ]
  },
  {
   "cell_type": "markdown",
   "metadata": {},
   "source": [
    "### if"
   ]
  },
  {
   "cell_type": "code",
   "execution_count": 95,
   "metadata": {
    "ExecuteTime": {
     "end_time": "2019-09-12T07:57:24.845566Z",
     "start_time": "2019-09-12T07:57:24.841170Z"
    }
   },
   "outputs": [
    {
     "name": "stdout",
     "output_type": "stream",
     "text": [
      "Yes\n"
     ]
    }
   ],
   "source": [
    "x = 1\n",
    "\n",
    "if x == 1:\n",
    "    print (\"Yes\")"
   ]
  },
  {
   "cell_type": "markdown",
   "metadata": {
    "ExecuteTime": {
     "end_time": "2019-09-10T16:04:55.795949Z",
     "start_time": "2019-09-10T16:04:55.787984Z"
    }
   },
   "source": [
    "В питоне вложенные инструкции объединяются в блоки по величине отступов. Отступы могут быть любыми, но желательно использовать 4 пробела или знак табуляции."
   ]
  },
  {
   "cell_type": "code",
   "execution_count": 96,
   "metadata": {
    "ExecuteTime": {
     "end_time": "2019-09-12T07:57:24.852013Z",
     "start_time": "2019-09-12T07:57:24.847816Z"
    }
   },
   "outputs": [
    {
     "ename": "IndentationError",
     "evalue": "unexpected indent (<ipython-input-96-b4ba2e3b97e9>, line 2)",
     "output_type": "error",
     "traceback": [
      "\u001b[0;36m  File \u001b[0;32m\"<ipython-input-96-b4ba2e3b97e9>\"\u001b[0;36m, line \u001b[0;32m2\u001b[0m\n\u001b[0;31m    y = 4\u001b[0m\n\u001b[0m    ^\u001b[0m\n\u001b[0;31mIndentationError\u001b[0m\u001b[0;31m:\u001b[0m unexpected indent\n"
     ]
    }
   ],
   "source": [
    "x = 2\n",
    "    y = 4"
   ]
  },
  {
   "cell_type": "markdown",
   "metadata": {},
   "source": [
    "### if - else"
   ]
  },
  {
   "cell_type": "code",
   "execution_count": 97,
   "metadata": {
    "ExecuteTime": {
     "end_time": "2019-09-12T07:57:37.695470Z",
     "start_time": "2019-09-12T07:57:37.685908Z"
    }
   },
   "outputs": [
    {
     "name": "stdout",
     "output_type": "stream",
     "text": [
      "No\n"
     ]
    }
   ],
   "source": [
    "x = 1\n",
    "\n",
    "if x == 2:\n",
    "    print (\"Yes\")\n",
    "else:\n",
    "    print (\"No\")"
   ]
  },
  {
   "cell_type": "markdown",
   "metadata": {},
   "source": [
    "### if - elif - else"
   ]
  },
  {
   "cell_type": "code",
   "execution_count": 98,
   "metadata": {
    "ExecuteTime": {
     "end_time": "2019-09-12T07:57:37.704377Z",
     "start_time": "2019-09-12T07:57:37.698846Z"
    }
   },
   "outputs": [
    {
     "name": "stdout",
     "output_type": "stream",
     "text": [
      "Yes 2\n"
     ]
    }
   ],
   "source": [
    "x = 1\n",
    "\n",
    "if x == 3:\n",
    "    print (\"Yes 1\")\n",
    "elif x == 1:\n",
    "    print (\"Yes 2\")\n",
    "else:\n",
    "    print (\"No\")"
   ]
  },
  {
   "cell_type": "markdown",
   "metadata": {},
   "source": [
    "Всегда пойдет только в одну ветку!"
   ]
  },
  {
   "cell_type": "code",
   "execution_count": 99,
   "metadata": {
    "ExecuteTime": {
     "end_time": "2019-09-12T07:57:37.713805Z",
     "start_time": "2019-09-12T07:57:37.707967Z"
    }
   },
   "outputs": [
    {
     "name": "stdout",
     "output_type": "stream",
     "text": [
      "Yes 1\n"
     ]
    }
   ],
   "source": [
    "x = 3\n",
    "\n",
    "if x == 3:\n",
    "    print (\"Yes 1\")\n",
    "elif x >= 1:\n",
    "    print (\"Yes 2\")\n",
    "else:\n",
    "    print (\"No\")"
   ]
  },
  {
   "cell_type": "markdown",
   "metadata": {},
   "source": [
    "### Тернарное выражение"
   ]
  },
  {
   "cell_type": "markdown",
   "metadata": {},
   "source": [
    "А можно все это в одну строчку!"
   ]
  },
  {
   "cell_type": "code",
   "execution_count": 100,
   "metadata": {
    "ExecuteTime": {
     "end_time": "2019-09-12T07:57:37.720916Z",
     "start_time": "2019-09-12T07:57:37.716959Z"
    }
   },
   "outputs": [],
   "source": [
    "if x == 1: print ('Yes')"
   ]
  },
  {
   "cell_type": "markdown",
   "metadata": {},
   "source": [
    "Но не все так очевидно:"
   ]
  },
  {
   "cell_type": "code",
   "execution_count": 101,
   "metadata": {
    "ExecuteTime": {
     "end_time": "2019-09-12T07:57:37.729372Z",
     "start_time": "2019-09-12T07:57:37.723840Z"
    }
   },
   "outputs": [
    {
     "ename": "SyntaxError",
     "evalue": "invalid syntax (<ipython-input-101-ab731b6386eb>, line 1)",
     "output_type": "error",
     "traceback": [
      "\u001b[0;36m  File \u001b[0;32m\"<ipython-input-101-ab731b6386eb>\"\u001b[0;36m, line \u001b[0;32m1\u001b[0m\n\u001b[0;31m    if x == 1: print ('Yes') else: print (\"No\")\u001b[0m\n\u001b[0m                                ^\u001b[0m\n\u001b[0;31mSyntaxError\u001b[0m\u001b[0;31m:\u001b[0m invalid syntax\n"
     ]
    }
   ],
   "source": [
    "if x == 1: print ('Yes') else: print (\"No\")"
   ]
  },
  {
   "cell_type": "code",
   "execution_count": 103,
   "metadata": {
    "ExecuteTime": {
     "end_time": "2019-09-12T07:57:45.440942Z",
     "start_time": "2019-09-12T07:57:45.432001Z"
    }
   },
   "outputs": [
    {
     "name": "stdout",
     "output_type": "stream",
     "text": [
      "No 1\n",
      "No 2\n"
     ]
    }
   ],
   "source": [
    "print ('Yes') if x == 1 else print (\"No 1\"); print ('No 2')"
   ]
  },
  {
   "cell_type": "code",
   "execution_count": 104,
   "metadata": {
    "ExecuteTime": {
     "end_time": "2019-09-12T07:57:45.451076Z",
     "start_time": "2019-09-12T07:57:45.444517Z"
    }
   },
   "outputs": [
    {
     "data": {
      "text/plain": [
       "'No'"
      ]
     },
     "execution_count": 104,
     "metadata": {},
     "output_type": "execute_result"
    }
   ],
   "source": [
    "'Yes' if x == 1 else \"No\""
   ]
  },
  {
   "cell_type": "markdown",
   "metadata": {},
   "source": [
    "## Оператор While"
   ]
  },
  {
   "cell_type": "markdown",
   "metadata": {},
   "source": [
    "### Конструкция while"
   ]
  },
  {
   "cell_type": "markdown",
   "metadata": {
    "ExecuteTime": {
     "end_time": "2019-09-10T15:59:21.006530Z",
     "start_time": "2019-09-10T15:59:20.998342Z"
    }
   },
   "source": [
    "Цикл выполняется до тех пор, пока условие цикла истинно"
   ]
  },
  {
   "cell_type": "code",
   "execution_count": 105,
   "metadata": {
    "ExecuteTime": {
     "end_time": "2019-09-12T07:57:45.459986Z",
     "start_time": "2019-09-12T07:57:45.454717Z"
    }
   },
   "outputs": [
    {
     "name": "stdout",
     "output_type": "stream",
     "text": [
      "3\n",
      "2\n",
      "1\n",
      "0\n"
     ]
    }
   ],
   "source": [
    "n = 4\n",
    "\n",
    "while n > 0:\n",
    "    n -= 1\n",
    "    print (n)"
   ]
  },
  {
   "cell_type": "markdown",
   "metadata": {},
   "source": [
    "### break"
   ]
  },
  {
   "cell_type": "code",
   "execution_count": 106,
   "metadata": {
    "ExecuteTime": {
     "end_time": "2019-09-12T07:57:45.468102Z",
     "start_time": "2019-09-12T07:57:45.463307Z"
    }
   },
   "outputs": [
    {
     "name": "stdout",
     "output_type": "stream",
     "text": [
      "3\n"
     ]
    }
   ],
   "source": [
    "n = 4\n",
    "\n",
    "while n > 0:\n",
    "    n -= 1    \n",
    "    if n == 2:\n",
    "        break\n",
    "    print (n)"
   ]
  },
  {
   "cell_type": "markdown",
   "metadata": {},
   "source": [
    "### continue"
   ]
  },
  {
   "cell_type": "code",
   "execution_count": 107,
   "metadata": {
    "ExecuteTime": {
     "end_time": "2019-09-12T07:57:45.476218Z",
     "start_time": "2019-09-12T07:57:45.470985Z"
    }
   },
   "outputs": [
    {
     "name": "stdout",
     "output_type": "stream",
     "text": [
      "3\n",
      "1\n",
      "0\n"
     ]
    }
   ],
   "source": [
    "n = 4\n",
    "\n",
    "while n > 0:\n",
    "    n -= 1    \n",
    "    if n == 2:\n",
    "        continue\n",
    "    print (n)"
   ]
  },
  {
   "cell_type": "markdown",
   "metadata": {},
   "source": [
    "### else"
   ]
  },
  {
   "cell_type": "code",
   "execution_count": 108,
   "metadata": {
    "ExecuteTime": {
     "end_time": "2019-09-12T07:57:45.484662Z",
     "start_time": "2019-09-12T07:57:45.479083Z"
    }
   },
   "outputs": [
    {
     "name": "stdout",
     "output_type": "stream",
     "text": [
      "3\n",
      "2\n",
      "1\n",
      "0\n",
      "Finish!\n"
     ]
    }
   ],
   "source": [
    "n = 4\n",
    "\n",
    "while n > 0:\n",
    "    n -= 1\n",
    "    print (n)\n",
    "else:\n",
    "    print (\"Finish!\")"
   ]
  },
  {
   "cell_type": "code",
   "execution_count": 109,
   "metadata": {
    "ExecuteTime": {
     "end_time": "2019-09-12T07:57:45.492835Z",
     "start_time": "2019-09-12T07:57:45.487272Z"
    }
   },
   "outputs": [
    {
     "name": "stdout",
     "output_type": "stream",
     "text": [
      "3\n"
     ]
    }
   ],
   "source": [
    "n = 4\n",
    "\n",
    "while n > 0:\n",
    "    n -= 1    \n",
    "    if n == 2:\n",
    "        break\n",
    "    print (n)\n",
    "else:\n",
    "    print (\"Finish!\")"
   ]
  },
  {
   "cell_type": "code",
   "execution_count": 110,
   "metadata": {
    "ExecuteTime": {
     "end_time": "2019-09-12T07:57:45.501995Z",
     "start_time": "2019-09-12T07:57:45.496560Z"
    }
   },
   "outputs": [
    {
     "name": "stdout",
     "output_type": "stream",
     "text": [
      "3\n",
      "Finish!\n"
     ]
    }
   ],
   "source": [
    "n = 4\n",
    "\n",
    "while n > 0:\n",
    "    n -= 1    \n",
    "    if n == 2:\n",
    "        break\n",
    "    print (n)\n",
    "\n",
    "print (\"Finish!\")"
   ]
  },
  {
   "cell_type": "markdown",
   "metadata": {},
   "source": [
    "В одну строчку!"
   ]
  },
  {
   "cell_type": "code",
   "execution_count": 111,
   "metadata": {
    "ExecuteTime": {
     "end_time": "2019-09-12T07:57:45.509980Z",
     "start_time": "2019-09-12T07:57:45.504815Z"
    }
   },
   "outputs": [
    {
     "name": "stdout",
     "output_type": "stream",
     "text": [
      "3\n",
      "2\n",
      "1\n",
      "0\n"
     ]
    }
   ],
   "source": [
    "n = 4\n",
    "while n > 0: n -= 1; print(n)"
   ]
  },
  {
   "cell_type": "markdown",
   "metadata": {},
   "source": [
    "# Всем спасибо!"
   ]
  }
 ],
 "metadata": {
  "kernelspec": {
   "display_name": "Python 3",
   "language": "python",
   "name": "python3"
  },
  "language_info": {
   "codemirror_mode": {
    "name": "ipython",
    "version": 3
   },
   "file_extension": ".py",
   "mimetype": "text/x-python",
   "name": "python",
   "nbconvert_exporter": "python",
   "pygments_lexer": "ipython3",
   "version": "3.7.3"
  },
  "toc": {
   "base_numbering": "1",
   "nav_menu": {},
   "number_sections": true,
   "sideBar": true,
   "skip_h1_title": true,
   "title_cell": "План лекции",
   "title_sidebar": "Contents",
   "toc_cell": true,
   "toc_position": {
    "height": "83px",
    "left": "10px",
    "top": "150px",
    "width": "288.72283411026px"
   },
   "toc_section_display": false,
   "toc_window_display": true
  }
 },
 "nbformat": 4,
 "nbformat_minor": 2
}
