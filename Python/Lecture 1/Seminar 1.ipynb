{
 "cells": [
  {
   "cell_type": "markdown",
   "metadata": {},
   "source": [
    "# Conda\n",
    "\n"
   ]
  },
  {
   "cell_type": "markdown",
   "metadata": {},
   "source": [
    "Для работы мы будем пользоваться удобным менеджером пакетов conda. Мы не будем устанавливать anaconda (уже собранное scientific-окружение), а поставим минималистичную версию miniconda, а остальные пакеты будем ставить сами.\n",
    "\n",
    "https://docs.conda.io/en/latest/miniconda.html <------------ следуем инструкции."
   ]
  },
  {
   "cell_type": "markdown",
   "metadata": {},
   "source": [
    "**Базовые команды conda**\n",
    "\n",
    "conda install pkg - устанавливаем пакет\n",
    "\n",
    "conda update pkg - обновляем пакет\n",
    "\n",
    "conda list - список установленных пакетов\n",
    "\n",
    "conda create --name myenv - создать окружение\n",
    "\n",
    "conda activate myenv - активировать окружение\n",
    "\n",
    "Подробнее: https://docs.conda.io/projects/conda/en/latest/index.html\n",
    "\n",
    "На данный момент нужно лишь установить ноутбуки (conda install jupyter)"
   ]
  },
  {
   "cell_type": "markdown",
   "metadata": {},
   "source": [
    "# Интерактивный ввод"
   ]
  },
  {
   "cell_type": "markdown",
   "metadata": {},
   "source": [
    "Функция для пользовательского ввода в python - input."
   ]
  },
  {
   "cell_type": "code",
   "execution_count": 1,
   "metadata": {
    "scrolled": true
   },
   "outputs": [
    {
     "name": "stdout",
     "output_type": "stream",
     "text": [
      "Hello world!\n"
     ]
    }
   ],
   "source": [
    "a = input() # Вводим \"Hello world!\""
   ]
  },
  {
   "cell_type": "code",
   "execution_count": 2,
   "metadata": {
    "scrolled": true
   },
   "outputs": [
    {
     "name": "stdout",
     "output_type": "stream",
     "text": [
      "Hello world!\n"
     ]
    }
   ],
   "source": [
    "print(a)"
   ]
  },
  {
   "cell_type": "markdown",
   "metadata": {},
   "source": [
    "В Python 3 (с ним мы и работаем), пользовательский ввод всегда представляется в виде строки."
   ]
  },
  {
   "cell_type": "code",
   "execution_count": 3,
   "metadata": {
    "scrolled": true
   },
   "outputs": [
    {
     "name": "stdout",
     "output_type": "stream",
     "text": [
      "42\n",
      "42 <class 'str'>\n"
     ]
    }
   ],
   "source": [
    "a = input()\n",
    "print(a, type(a))"
   ]
  },
  {
   "cell_type": "markdown",
   "metadata": {},
   "source": [
    "# NBEXTENSIONS"
   ]
  },
  {
   "cell_type": "code",
   "execution_count": 4,
   "metadata": {
    "scrolled": true
   },
   "outputs": [
    {
     "name": "stdout",
     "output_type": "stream",
     "text": [
      "3.14\n",
      "3.14 <class 'str'>\n"
     ]
    }
   ],
   "source": [
    "a = input()\n",
    "print(a, type(a))"
   ]
  },
  {
   "cell_type": "markdown",
   "metadata": {},
   "source": [
    "Для того чтобы сделать введеное значение числовым, необходимо воспользоваться приведением типов."
   ]
  },
  {
   "cell_type": "code",
   "execution_count": 6,
   "metadata": {
    "scrolled": true
   },
   "outputs": [
    {
     "name": "stdout",
     "output_type": "stream",
     "text": [
      "3.14\n",
      "3.14 <class 'float'>\n"
     ]
    }
   ],
   "source": [
    "a = float(input())\n",
    "print(a, type(a))"
   ]
  },
  {
   "cell_type": "markdown",
   "metadata": {},
   "source": [
    "Можно добавить к вводу подсказку"
   ]
  },
  {
   "cell_type": "code",
   "execution_count": 8,
   "metadata": {
    "scrolled": false
   },
   "outputs": [
    {
     "name": "stdout",
     "output_type": "stream",
     "text": [
      "Please enter some number 42\n"
     ]
    }
   ],
   "source": [
    "number = input('Please enter some number ')"
   ]
  },
  {
   "cell_type": "code",
   "execution_count": 9,
   "metadata": {
    "scrolled": true
   },
   "outputs": [],
   "source": [
    "import math"
   ]
  },
  {
   "cell_type": "code",
   "execution_count": 10,
   "metadata": {
    "scrolled": true
   },
   "outputs": [
    {
     "data": {
      "text/plain": [
       "3.141592653589793"
      ]
     },
     "execution_count": 10,
     "metadata": {},
     "output_type": "execute_result"
    }
   ],
   "source": [
    "math.pi"
   ]
  },
  {
   "cell_type": "markdown",
   "metadata": {},
   "source": [
    "# Задача 1\n",
    "Введите радиус окружности, выведите ее площадь и периметр."
   ]
  },
  {
   "cell_type": "code",
   "execution_count": 14,
   "metadata": {
    "ExecuteTime": {
     "end_time": "2019-09-11T16:55:37.589417Z",
     "start_time": "2019-09-11T16:55:35.921461Z"
    }
   },
   "outputs": [
    {
     "name": "stdout",
     "output_type": "stream",
     "text": [
      "4\n",
      "50.26548245743669 25.132741228718345\n"
     ]
    }
   ],
   "source": [
    "from math import pi\n",
    "\n",
    "r = float(input())\n",
    "print(pi*r**2, 2*pi*r)"
   ]
  },
  {
   "cell_type": "markdown",
   "metadata": {},
   "source": [
    "# Задача 2\n",
    "Считайте два числа, выведите их произведение, если оно больше 1000, вместо этого выведите их сумму."
   ]
  },
  {
   "cell_type": "markdown",
   "metadata": {},
   "source": [
    "# Задача 3\n",
    "Напишите программу, которая на входит принимает число N, а выводит первые N чисел Фиббоначчи"
   ]
  },
  {
   "cell_type": "code",
   "execution_count": 47,
   "metadata": {
    "ExecuteTime": {
     "end_time": "2019-09-11T17:14:27.926599Z",
     "start_time": "2019-09-11T17:14:25.070380Z"
    }
   },
   "outputs": [
    {
     "name": "stdout",
     "output_type": "stream",
     "text": [
      "10\n",
      "0\n",
      "1\n",
      "1\n",
      "2\n",
      "3\n",
      "5\n",
      "8\n",
      "13\n",
      "21\n",
      "34\n"
     ]
    }
   ],
   "source": [
    "N = int(input())\n",
    "elem1 = 0\n",
    "elem2 = 1\n",
    "print(elem1)\n",
    "print(elem2)\n",
    "\n",
    "n = 2\n",
    "while n < N:\n",
    "    elem3 = elem1 + elem2\n",
    "    print(elem3)\n",
    "    n += 1\n",
    "    elem1 = elem2\n",
    "    elem2 = elem3"
   ]
  },
  {
   "cell_type": "markdown",
   "metadata": {},
   "source": [
    "# Задача 4\n",
    "Напишите программу, которая на вход принимает число и выводит список всех его делителей. Если число простое, то необходимо вывести эту информацию."
   ]
  },
  {
   "cell_type": "markdown",
   "metadata": {},
   "source": [
    "# Задача 5\n",
    "Напишите игру \"камень-ножницы-бумага\" для двух игроков. Каждый игрок по очереди вводит одно из трех значений ('rock', 'paper', 'scissors'), программа должна сказать кто выиграл. Игра продолжается до тех пор, пока кто-то из игроков не сдастся ('I give up!'). В конце игры выводится итоговый счет."
   ]
  },
  {
   "cell_type": "code",
   "execution_count": 52,
   "metadata": {
    "ExecuteTime": {
     "end_time": "2019-09-11T17:16:58.590124Z",
     "start_time": "2019-09-11T17:16:58.581657Z"
    }
   },
   "outputs": [
    {
     "data": {
      "text/plain": [
       "'ножницы'"
      ]
     },
     "execution_count": 52,
     "metadata": {},
     "output_type": "execute_result"
    }
   ],
   "source": [
    "import random\n",
    "random.choice(['камень', 'ножницы', 'бумага'])"
   ]
  },
  {
   "cell_type": "code",
   "execution_count": 90,
   "metadata": {
    "ExecuteTime": {
     "end_time": "2019-09-11T17:54:52.399784Z",
     "start_time": "2019-09-11T17:54:52.385037Z"
    }
   },
   "outputs": [
    {
     "name": "stdout",
     "output_type": "stream",
     "text": [
      "Score is 1 - 0\n"
     ]
    }
   ],
   "source": [
    "score_a = 0\n",
    "score_b = 0\n",
    "\n",
    "while True:\n",
    "    input_a = random.choice(['камень', 'ножницы', 'бумага', 'enough'])\n",
    "    input_b = random.choice(['камень', 'ножницы', 'бумага', 'enough'])\n",
    "    if (input_a == 'enough') or (input_b == 'enough'):\n",
    "        break\n",
    "    if ((input_a == 'камень' and input_b == 'ножницы') or\n",
    "        (input_a == 'ножницы' and input_b == 'бумага') or\n",
    "        (input_a == 'бумага' and input_b == 'камень')):\n",
    "        score_a += 1\n",
    "    elif input_a == input_b:\n",
    "        continue\n",
    "    else:\n",
    "        score_b += 1\n",
    "        \n",
    "print(f'Score is {score_a} - {score_b}')"
   ]
  }
 ],
 "metadata": {
  "kernelspec": {
   "display_name": "Python 3",
   "language": "python",
   "name": "python3"
  },
  "language_info": {
   "codemirror_mode": {
    "name": "ipython",
    "version": 3
   },
   "file_extension": ".py",
   "mimetype": "text/x-python",
   "name": "python",
   "nbconvert_exporter": "python",
   "pygments_lexer": "ipython3",
   "version": "3.7.3"
  },
  "toc": {
   "base_numbering": 1,
   "nav_menu": {},
   "number_sections": false,
   "sideBar": false,
   "skip_h1_title": false,
   "title_cell": "Table of Contents",
   "title_sidebar": "Contents",
   "toc_cell": false,
   "toc_position": {},
   "toc_section_display": false,
   "toc_window_display": false
  }
 },
 "nbformat": 4,
 "nbformat_minor": 2
}
