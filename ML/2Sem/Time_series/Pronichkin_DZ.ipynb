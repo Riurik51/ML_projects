{
  "nbformat": 4,
  "nbformat_minor": 0,
  "metadata": {
    "kernelspec": {
      "display_name": "Python 3",
      "language": "python",
      "name": "python3"
    },
    "language_info": {
      "codemirror_mode": {
        "name": "ipython",
        "version": 3
      },
      "file_extension": ".py",
      "mimetype": "text/x-python",
      "name": "python",
      "nbconvert_exporter": "python",
      "pygments_lexer": "ipython3",
      "version": "3.6.10"
    },
    "colab": {
      "name": "Pronichkin_DZ.ipynb",
      "provenance": [],
      "collapsed_sections": [],
      "toc_visible": true,
      "machine_shape": "hm"
    }
  },
  "cells": [
    {
      "cell_type": "markdown",
      "metadata": {
        "id": "ZmHS3Tp6cXm_"
      },
      "source": [
        "# Практическое задание: построение модели предсказания продаж в торговой сети\n",
        "\n",
        "В этом практическом задании вам нужно будет построить модель, делающую долгосрочный прогноз продаж товаров в торговой сети.\n",
        "Задание основано на контесте: https://www.kaggle.com/c/m5-forecasting-accuracy. \n",
        "\n",
        "В данном задании вы не только построите модель, но и спроектируете небольшую архитектуру, позволяющую эффективно пересчитывать предсказания модели на новых данных. \n",
        "\n",
        "**Внимание**. Любые скрипты, параметры запуска и т.п. можно редактировать в разумных пределах."
      ]
    },
    {
      "cell_type": "markdown",
      "metadata": {
        "id": "yOnqBjrzcXnD"
      },
      "source": [
        "## Этап 1: Фильтрация дней \n",
        "\n",
        "Напомним, что в данной задаче вам нужно предсказать на 28 дней вперёд продажи 3049 товаров в 10 магазинах.\n",
        "\n",
        "Скорее всего для обучения хорошей модели не потребуется информация за всю историю продаж продуктов, более того информация по достаточно давним продажам может даже вредить.\n",
        "Для экономии памяти лучше всего  сразу избавиться от дней, которые не будут входить в обучение.\n",
        "На этапе объединения всех табличных данных в одну, необходимо оставить только необходимое для обучения количество дней. \n",
        "\n",
        "Для того, чтобы сгенерировать такой массив, вам достаточно запустить скрипт `generate_melted_df`, аргумент `min_train_day` отвечает за первый день, который будет добавлен в выборку. "
      ]
    },
    {
      "cell_type": "code",
      "metadata": {
        "id": "UirEHgvZU3-K",
        "colab": {
          "base_uri": "https://localhost:8080/",
          "height": 129
        },
        "outputId": "da5c6bf1-4ea6-48c0-c645-b0e2241972af"
      },
      "source": [
        "from google.colab import drive\n",
        "drive.mount('/content/drive')"
      ],
      "execution_count": null,
      "outputs": [
        {
          "output_type": "stream",
          "text": [
            "Go to this URL in a browser: https://accounts.google.com/o/oauth2/auth?client_id=947318989803-6bn6qk8qdgf4n4g3pfee6491hc0brc4i.apps.googleusercontent.com&redirect_uri=urn%3aietf%3awg%3aoauth%3a2.0%3aoob&response_type=code&scope=email%20https%3a%2f%2fwww.googleapis.com%2fauth%2fdocs.test%20https%3a%2f%2fwww.googleapis.com%2fauth%2fdrive%20https%3a%2f%2fwww.googleapis.com%2fauth%2fdrive.photos.readonly%20https%3a%2f%2fwww.googleapis.com%2fauth%2fpeopleapi.readonly\n",
            "\n",
            "Enter your authorization code:\n",
            "··········\n",
            "Mounted at /content/drive\n"
          ],
          "name": "stdout"
        }
      ]
    },
    {
      "cell_type": "code",
      "metadata": {
        "id": "773l6hQkcXnH",
        "colab": {
          "base_uri": "https://localhost:8080/",
          "height": 55
        },
        "outputId": "6a147695-cd1c-4fb2-e6c8-ea6a223b7f33"
      },
      "source": [
        "! python feature_generation/generate_melted_df.py --min_train_day=1540"
      ],
      "execution_count": null,
      "outputs": [
        {
          "output_type": "stream",
          "text": [
            "tcmalloc: large alloc 3314147328 bytes == 0x17e954000 @  0x7f8e74c33001 0x7f8e72585765 0x7f8e725e9bb0 0x7f8e725e9f37 0x7f8e72681f28 0x50a635 0x50cd96 0x509758 0x50a48d 0x50bfb4 0x509758 0x50a48d 0x50bfb4 0x509758 0x50a48d 0x50bfb4 0x509758 0x50a48d 0x50bfb4 0x507d64 0x509a90 0x50a48d 0x50cd96 0x507d64 0x509a90 0x50a48d 0x50cd96 0x507d64 0x509042 0x594931 0x549e5f\n"
          ],
          "name": "stdout"
        }
      ]
    },
    {
      "cell_type": "markdown",
      "metadata": {
        "id": "hqs1M0UZzrs8"
      },
      "source": [
        ""
      ]
    },
    {
      "cell_type": "markdown",
      "metadata": {
        "id": "k3M8Kf8_pgfZ"
      },
      "source": [
        ""
      ]
    },
    {
      "cell_type": "markdown",
      "metadata": {
        "id": "O48nGMy2cXnd"
      },
      "source": [
        "## Этап 2: Генерация признаков (3 балла)\n",
        "\n",
        "Для обучения модели понадобится сгенерировать признаки, содержащие информацию о прошлых продажах товара.\n",
        "Пусть $y_i$ — количество продаж каждого отдельного ряда в момент времени i.\n",
        "Для удобства изложения, введём для каждого признака обозначение через результат выполнения некоторой функции.\n",
        "\n",
        "#### Признаки, которые необходимо добавить в модель\n",
        "\n",
        "* Количество продаж $i$ дней назад (shift_i):\n",
        "\n",
        "    $$\n",
        "    {\n",
        "    f(t, i, 1, 1) = y_{t-i} \n",
        "    }\n",
        "    $$\n",
        "\n",
        "\n",
        "* Среднее число продаж за $j$ дней на момент времени $i$ дней назад (mean_i_j): \n",
        "    \n",
        "    $$\n",
        "    {\n",
        "    f(t, i, j, 1) = \\frac{1}{j}\\sum_{k=0}^{j-1} y_{t-i-k} \n",
        "    }\n",
        "    $$\n",
        "\n",
        "* Среднее число продаж за $j$ последних дней с периодом $d$ на момент времени $i$ дней назад (mean_i_j_period_d):\n",
        "    \n",
        "    $$ \n",
        "    {\n",
        "    f(t, i, j, d) = \\frac{1}{j}\\sum_{k=0}^{j-1} y_{t-i-k * d} \n",
        "    }\n",
        "    $$\n",
        "\n",
        "\n",
        "* Экспоненциальное скользящее среднее (c коэффициентом $\\beta$) числа продаж на момент времени $i$ дней назад (exp_mean_i_beta):\n",
        "\n",
        "    $$\n",
        "    {\n",
        "    g(t, i, \\beta, 1) = \\frac{\\sum\\limits_{k=0}^{t - i} y_{t-i-k} \\beta^k}{\\sum\\limits_{k=0}^{t - i} \\beta^k}\n",
        "    }\n",
        "    $$\n",
        "    \n",
        "    \n",
        "* Экспоненциальное скользящее среднее (c коэффициентом $\\beta$) числа продаж с периодом $d$ на момент времени $i$ дней назад (exp_mean_i_beta_period_d):\n",
        "    \n",
        "    $$ \n",
        "    {\n",
        "    g(t, i, \\beta, d) = \\frac{\\sum\\limits_{k=0}^{[(t-i)/d]} y_{t-i-k * d} \\beta^{k}}{\\sum\\limits_{k=0}^{[(t-i)/d]} \\beta^k}\n",
        "    }\n",
        "    $$\n",
        "\n",
        "Обратите внимание, что некоторые признаки являются частными случаями других признаков. Однако, возможно, функцию для их вычисления следует написать отдельно, для оптимизации времени выполнения.\n",
        "\n",
        "Реализацию генерации признаков необходимо выполнить в модуле `generate_past_demand_features`. После реализации признаки можно сгенерировать запустив скрипт из командной строки (посмотреть пример сопоставления параметров признакм можно внутри модуля)."
      ]
    },
    {
      "cell_type": "markdown",
      "metadata": {
        "id": "BvMw_wkycXnh"
      },
      "source": [
        "#### Пример"
      ]
    },
    {
      "cell_type": "code",
      "metadata": {
        "id": "fI07nPL1cXnj"
      },
      "source": [
        "import json\n",
        "import re\n",
        "\n",
        "\n",
        "config = json.dumps({\n",
        "    'shift_parameters': [7, 28],\n",
        "    'mean_parameters': [(7, 7), (28, 7)],\n",
        "    'mean_period_parameters': [(7, 7, 7), (28, 7, 7)],\n",
        "    'exp_mean_parameters': [(7, 0.5)],\n",
        "    'exp_mean_period_parameters': [(7, 0.5, 7)],\n",
        "})\n",
        "\n",
        "config = re.sub('\"', '%', config)"
      ],
      "execution_count": null,
      "outputs": []
    },
    {
      "cell_type": "code",
      "metadata": {
        "id": "BJXt1uuQcXnu",
        "colab": {
          "base_uri": "https://localhost:8080/",
          "height": 164
        },
        "outputId": "fb24db45-037a-49d7-c663-c737b612fc97"
      },
      "source": [
        "! python feature_generation/generate_past_demand_features.py -c=\"$config\""
      ],
      "execution_count": null,
      "outputs": [
        {
          "output_type": "stream",
          "text": [
            "shift 7\n",
            "shift 28\n",
            "mean 7 7\n",
            "mean 28 7\n",
            "mean period 7 7 7\n",
            "mean period 28 7 7\n",
            "exp  7 0.5\n",
            "exp period 7 0.5 7\n"
          ],
          "name": "stdout"
        }
      ]
    },
    {
      "cell_type": "markdown",
      "metadata": {
        "id": "KYOF5ct7cXn4"
      },
      "source": [
        "## Этап 3: Разделение данных на обучение и контроль\n",
        "\n",
        "Для обучения данных необходимо разбить данные на обучение, валидацию (для подбора гиперпараметров) и тест (для финальной оценки качества модели).\n",
        "В качестве теста логично брать последние несколько дней, для валидации - несколько дней непосредственно перед тестом, и все остальное - для обучения.\n",
        "\n",
        "Однако, данные отложенные для тестирования и валидации являются самыми ценными, т.к. идут непосредственно перед пресказываемыми данными. Поэтому, настроив гиперпараметры на валидации, необходимо расширить обучающие данные за счет валидации и обучить финальную модель с известными гиперпараметрами на расширенных данных. Это необходимо будет сделать перед засылкой результата модели в соревнование.\n",
        "\n",
        "В модуле `convert_csv_to_numpy` реализовано два типа разбиения данных: train/validation/test и train/test для настройки гиперпараметров модели и для обучения финальной модели соответственно. Запустите модуль из командной строки, чтобы получить разбиения."
      ]
    },
    {
      "cell_type": "code",
      "metadata": {
        "id": "XaldSJYucXn6",
        "colab": {
          "base_uri": "https://localhost:8080/",
          "height": 92
        },
        "outputId": "18940015-1942-446f-c7f1-49c7b0721b38"
      },
      "source": [
        "! python feature_generation/convert_csv_to_numpy.py"
      ],
      "execution_count": null,
      "outputs": [
        {
          "output_type": "stream",
          "text": [
            "tcmalloc: large alloc 2541993984 bytes == 0x26dc6000 @  0x7fd2ca2ce001 0x7fd2c7e34765 0x7fd2c7e97070 0x7fd2c7e98f0f 0x7fd2c7f2f508 0x50a635 0x50bfb4 0x509758 0x50a48d 0x50bfb4 0x507d64 0x50ae13 0x634c82 0x634d37 0x6384ef 0x639091 0x4b0d00 0x7fd2c9ec9b97 0x5b250a\n",
            "tcmalloc: large alloc 2009276416 bytes == 0xbe602000 @  0x7fd2ca2cc1e7 0x7fd2c7e345e1 0x7fd2c7e97138 0x7fd2c7e97253 0x7fd2c7f22396 0x7fd2c7f227f8 0x50c29e 0x507d64 0x50ae13 0x634c82 0x634d37 0x6384ef 0x639091 0x4b0d00 0x7fd2c9ec9b97 0x5b250a\n",
            "tcmalloc: large alloc 2364424192 bytes == 0xc8f5c000 @  0x7fd2ca2cc1e7 0x7fd2c7e345e1 0x7fd2c7e97138 0x7fd2c7e97253 0x7fd2c7f22396 0x7fd2c7f227f8 0x50c29e 0x507d64 0x50ae13 0x634c82 0x634d37 0x6384ef 0x639091 0x4b0d00 0x7fd2c9ec9b97 0x5b250a\n"
          ],
          "name": "stdout"
        }
      ]
    },
    {
      "cell_type": "markdown",
      "metadata": {
        "id": "Uq9QNcdBcXoE"
      },
      "source": [
        "## Этап 4: Пересчёт значений признаков (6 балла)\n",
        "\n",
        "При вычислении предсказания на тестовые 28 дней вперёд возникает ситуация, когда значения некоторых признаков оказываются неизвестными. В этом случае, эти значения необходимо заполнять с помощью предсказаний модели, полученных для меньшего горизонта прогнозирования. Например, признак количество продаж один день назад, будет вычисляться как предсказание модели в предыдущий день.\n",
        "\n",
        "В этой части для каждого из признаков необходимо реализовать функцию пересчёта значений признака с учётом поступивших новых предсказаний модели. Заметим, что некоторые признаки можно легко пересчитать только имея информацию о других признаках.\n",
        "\n",
        "**Задача 1**. Дано значение признака $f(t,i,j, d)$ в моменты времени от $\\tau$ до $\\tau + k$. Какие признаки необходимо иметь в модели, чтобы за $O(1)$ можно было пересчитать $f(\\tau+k+1,i,j,d)$? Приведите формулу пересчёта ниже.\n",
        "\n",
        "**Задача 2**. Дано значение признака $g(t,i,\\beta, d)$ в моменты времени от $\\tau$ до $\\tau + k$. Какие признаки необходимо иметь в модели, чтобы за $O(1)$ можно было пересчитать $g(\\tau+k+1,i,\\beta,d)$? Приведите формулу пересчёта ниже.\n",
        "\n",
        "**Внимание**. Не забудьте учесть случаи разных $k$!"
      ]
    },
    {
      "cell_type": "markdown",
      "metadata": {
        "id": "p1XQMgItgq2i"
      },
      "source": [
        "## Решение"
      ]
    },
    {
      "cell_type": "markdown",
      "metadata": {
        "id": "XXUj1ntXbhWc"
      },
      "source": [
        "Есть два случая - когда есть $f(t,i,j,d)$ в предыдущий период, т.е. $f(\\tau+k+1 - d,i,j,d + i)$, т.е. $ k \\geq d$, тогда достаточно знать $y_{\\tau + k + 1 - i - (j + 1) * d}$ - первый член суммы $f(\\tau+ k + 1 - d,i,j,d)$ и если в модели есть признак $f(t,m,1,1)$ , тогда достаточно чтобы $ k \\geq (j + 1) * d + m + i$, и формула будет выглядеть так:\n",
        "$$f(\\tau+k+1,i,j,d) = (f(\\tau+k+1 - d,i,j,d) * j - y_{\\tau + k + 1 - (j + 1) * d} + y_{\\tau + k + 1 - i}) / j$$\n",
        "\n",
        "т.е. еще нужно знать $y_{\\tau + k + 1 - i}$\n",
        "\n",
        "если же $ k \\leq d + i$ - тогда  таким способом быстро пересчитать не получится и нужно иметь явно еще и признак $f(\\tau+k+1 - d,i,j,d)$"
      ]
    },
    {
      "cell_type": "markdown",
      "metadata": {
        "id": "1fGlz2bygvOo"
      },
      "source": [
        "Аналогично предыдущему при $k \\leq d + i$\n",
        "нужно иметь $g(\\tau + k + 1 - d, i, \\beta, d)$, при $k \\geq d$ у нас есть $ g(\\tau + k + 1 - d, i, \\beta, d)$ и формула такая:\n",
        "$$ g(\\tau + k + 1, i, \\beta, d) =( g(\\tau + k + 1 - d, i, \\beta, d) * (\\sum_{l = 0}^{[\\frac{\\tau + k + 1 -d - i}{d}]} \\beta^l) * beta + y_{\\tau + k + 1 - i}  ) / (\\sum_{l = 0}^{[\\frac{\\tau + k + 1 - i}{d}]} \\beta^l) $$ т.е. нужно знать $y_{\\tau + k + 1 - i}$ и количество дней за которые считалось экспоненциальное среднее, поэтому в класс пересчета я добавил первый день истории для каждого товара."
      ]
    },
    {
      "cell_type": "markdown",
      "metadata": {
        "id": "oDJQQcrzcXoS"
      },
      "source": [
        "Реализацию пересчёта признаков необходимо выполнить в модуле `feature_recalculation`. Категориальные признаки в этом модуле пересчитывать не нужно."
      ]
    },
    {
      "cell_type": "markdown",
      "metadata": {
        "id": "lv388WbecXoU"
      },
      "source": [
        "## Этап 5: Построение и валидация модели"
      ]
    },
    {
      "cell_type": "markdown",
      "metadata": {
        "id": "rJWhzrgOcXoV"
      },
      "source": [
        "В качестве основной метрики задачи испольузется функционал WRMSSE (подробнее о нём можно узнать из соответствующей презентации к семинару). Логично, при обучении модели настраиваться именно на конкретный функционал. \n",
        "\n",
        "Чтобы не тратить каждый раз память на подготовку данных для подсчёта функционала по метрике, выполните скрипт `utils/generate_evaluators` и сохраните данные для эвалюаторов на диск."
      ]
    },
    {
      "cell_type": "code",
      "metadata": {
        "id": "9y0RiU74cXoW",
        "colab": {
          "base_uri": "https://localhost:8080/",
          "height": 54
        },
        "outputId": "acf2dfc8-521f-4761-e6a2-ebce536e4b75"
      },
      "source": [
        "! python utils/generate_evaluators.py"
      ],
      "execution_count": null,
      "outputs": [
        {
          "output_type": "stream",
          "text": [
            "100% 42840/42840 [00:07<00:00, 5895.60it/s]\n",
            "100% 42840/42840 [00:07<00:00, 5955.41it/s]\n"
          ],
          "name": "stdout"
        }
      ]
    },
    {
      "cell_type": "markdown",
      "metadata": {
        "id": "w3pIi-1hcXoe"
      },
      "source": [
        "В качестве основной модели построения предсказаний вам предлагается использовать градиентный бустинг (рекомендуем использовать lightgbm для быстроты проведения экспериментов). \n",
        "\n",
        "Для сравнения результатов моделей вам необходимо использовать следующую схему:\n",
        "\n",
        "1. Обучение бустинга на train выборке на функционал MSE, валидация на val выборке по функционалу WRMSE.\n",
        "2. Получение предсказаний на test выборке, с использованием рекурсивного пересчёта признаков\n",
        "\n",
        "Обратите внимание, что на шаге 1 использовать рекурсивный пересчёт не нужно, т.к. это сильно замедлит обучение (более того, для ускорения обучения рекомендуется измерять значения функционала на валидации лишь раз в $n$ итераций). Однако, на тестовых данных всё должно быть максимально приближенно к реальности, поэтому признаки необходимо пересчитывать на ходу.\n",
        "\n",
        "**Совет**. Чтобы точно получить правильный результат на тесте, можно после считывания данных специально занулить \"неизвестные\" значения признаков."
      ]
    },
    {
      "cell_type": "markdown",
      "metadata": {
        "id": "UF42TTL-cXog"
      },
      "source": [
        "## Этап 6: Эксперименты (5)"
      ]
    },
    {
      "cell_type": "markdown",
      "metadata": {
        "id": "zpYS4lcjcXoi"
      },
      "source": [
        "### 1 Эксперимент\n",
        "\n",
        "Сравните по указанной выше схеме результаты две модели.\n",
        "\n",
        "1. Модель с двумя вещественными признаками:\n",
        "\n",
        "    $f(t, i, 1, 1), i \\in \\{7, 28\\}$\n",
        "\n",
        "\n",
        "2. Модель с восемью вещественными признаками:\n",
        "\n",
        "    $ f(t, i, 1, 1)$, $i \\in [1, 7] \\cup \\{28\\}$\n",
        "\n",
        "Сделайте выводы о качестве работы моделей на валидации и отложенной выборке и заполните таблицу ниже:\n",
        "\n",
        "| WRMSSE        | val без пересчёта | test без пересчёта | test с пересчётом |\n",
        "|---------------|-------------------|--------------------|-------------------|\n",
        "| Первая модель |  0.956918               |0.851172                   |1.06971                   |\n",
        "| Вторая модель | 0.8951                  |1.417138                    |1.41713                  |"
      ]
    },
    {
      "cell_type": "markdown",
      "metadata": {
        "id": "BTUcTpKccXok"
      },
      "source": [
        "Ниже пример запуска экспериментов:  "
      ]
    },
    {
      "cell_type": "code",
      "metadata": {
        "id": "1z1XNXU-cXol"
      },
      "source": [
        "## ваш код для подсчёта нужных признаков\n",
        "\n",
        "import json\n",
        "import re\n",
        "\n",
        "\n",
        "config = json.dumps({\n",
        "    'shift_parameters': [1, 2, 3, 4, 5, 6, 7, 14, 21, 28, 35, 42, 7 * 7],\n",
        "    'mean_parameters': [],\n",
        "    'mean_period_parameters': [(7, 7, 7)],\n",
        "    'exp_mean_parameters': [],\n",
        "    'exp_mean_period_parameters': [(7, 0.5, 7)],\n",
        "})\n",
        "\n",
        "config = re.sub('\"', '%', config)"
      ],
      "execution_count": null,
      "outputs": []
    },
    {
      "cell_type": "code",
      "metadata": {
        "id": "ygNZfDkuWpw_",
        "colab": {
          "base_uri": "https://localhost:8080/",
          "height": 478
        },
        "outputId": "fe62ed7b-d043-4072-a4dd-4ac5a094b08a"
      },
      "source": [
        "! python feature_generation/generate_past_demand_features.py -c=\"$config\""
      ],
      "execution_count": null,
      "outputs": [
        {
          "output_type": "stream",
          "text": [
            "shift 1\n",
            "shift 2\n",
            "shift 3\n",
            "shift 4\n",
            "shift 5\n",
            "tcmalloc: large alloc 1089634304 bytes == 0xe9dc0000 @  0x7fb57061f1e7 0x7fb56e1855e1 0x7fb56e1e9c78 0x7fb56e1e9d93 0x7fb56e287ea8 0x7fb56e288704 0x7fb56e288852 0x566d63 0x59fc4e 0x7fb56e1d54ed 0x50a2bf 0x50bfb4 0x507d64 0x509a90 0x50a48d 0x50bfb4 0x507d64 0x588d41 0x59fc4e 0x7fb56e1d54ed 0x50a2bf 0x50bfb4 0x507d64 0x509a90 0x50a48d 0x50bfb4 0x507d64 0x509a90 0x50a48d 0x50cd96 0x509758\n",
            "shift 6\n",
            "tcmalloc: large alloc 1271242752 bytes == 0x7d366000 @  0x7fb57061f1e7 0x7fb56e1855e1 0x7fb56e1e9c78 0x7fb56e1e9d93 0x7fb56e287ea8 0x7fb56e288704 0x7fb56e288852 0x566d63 0x59fc4e 0x7fb56e1d54ed 0x50a2bf 0x50bfb4 0x507d64 0x509a90 0x50a48d 0x50bfb4 0x507d64 0x588d41 0x59fc4e 0x7fb56e1d54ed 0x50a2bf 0x50bfb4 0x507d64 0x509a90 0x50a48d 0x50bfb4 0x507d64 0x509a90 0x50a48d 0x50cd96 0x509758\n",
            "shift 7\n",
            "tcmalloc: large alloc 1452843008 bytes == 0x114c1a000 @  0x7fb57061f1e7 0x7fb56e1855e1 0x7fb56e1e9c78 0x7fb56e1e9d93 0x7fb56e287ea8 0x7fb56e288704 0x7fb56e288852 0x566d63 0x59fc4e 0x7fb56e1d54ed 0x50a2bf 0x50bfb4 0x507d64 0x509a90 0x50a48d 0x50bfb4 0x507d64 0x588d41 0x59fc4e 0x7fb56e1d54ed 0x50a2bf 0x50bfb4 0x507d64 0x509a90 0x50a48d 0x50bfb4 0x507d64 0x509a90 0x50a48d 0x50cd96 0x509758\n",
            "shift 14\n",
            "tcmalloc: large alloc 1634451456 bytes == 0x7d366000 @  0x7fb57061f1e7 0x7fb56e1855e1 0x7fb56e1e9c78 0x7fb56e1e9d93 0x7fb56e287ea8 0x7fb56e288704 0x7fb56e288852 0x566d63 0x59fc4e 0x7fb56e1d54ed 0x50a2bf 0x50bfb4 0x507d64 0x509a90 0x50a48d 0x50bfb4 0x507d64 0x588d41 0x59fc4e 0x7fb56e1d54ed 0x50a2bf 0x50bfb4 0x507d64 0x509a90 0x50a48d 0x50bfb4 0x507d64 0x509a90 0x50a48d 0x50cd96 0x509758\n",
            "shift 21\n",
            "tcmalloc: large alloc 1816059904 bytes == 0x1cdc8a000 @  0x7fb57061f1e7 0x7fb56e1855e1 0x7fb56e1e9c78 0x7fb56e1e9d93 0x7fb56e287ea8 0x7fb56e288704 0x7fb56e288852 0x566d63 0x59fc4e 0x7fb56e1d54ed 0x50a2bf 0x50bfb4 0x507d64 0x509a90 0x50a48d 0x50bfb4 0x507d64 0x588d41 0x59fc4e 0x7fb56e1d54ed 0x50a2bf 0x50bfb4 0x507d64 0x509a90 0x50a48d 0x50bfb4 0x507d64 0x509a90 0x50a48d 0x50cd96 0x509758\n",
            "shift 28\n",
            "tcmalloc: large alloc 1997660160 bytes == 0x7d366000 @  0x7fb57061f1e7 0x7fb56e1855e1 0x7fb56e1e9c78 0x7fb56e1e9d93 0x7fb56e287ea8 0x7fb56e288704 0x7fb56e288852 0x566d63 0x59fc4e 0x7fb56e1d54ed 0x50a2bf 0x50bfb4 0x507d64 0x509a90 0x50a48d 0x50bfb4 0x507d64 0x588d41 0x59fc4e 0x7fb56e1d54ed 0x50a2bf 0x50bfb4 0x507d64 0x509a90 0x50a48d 0x50bfb4 0x507d64 0x509a90 0x50a48d 0x50cd96 0x509758\n",
            "shift 35\n",
            "tcmalloc: large alloc 2179268608 bytes == 0x1cdc8a000 @  0x7fb57061f1e7 0x7fb56e1855e1 0x7fb56e1e9c78 0x7fb56e1e9d93 0x7fb56e287ea8 0x7fb56e288704 0x7fb56e288852 0x566d63 0x59fc4e 0x7fb56e1d54ed 0x50a2bf 0x50bfb4 0x507d64 0x509a90 0x50a48d 0x50bfb4 0x507d64 0x588d41 0x59fc4e 0x7fb56e1d54ed 0x50a2bf 0x50bfb4 0x507d64 0x509a90 0x50a48d 0x50bfb4 0x507d64 0x509a90 0x50a48d 0x50cd96 0x509758\n",
            "shift 42\n",
            "shift 49\n",
            "tcmalloc: large alloc 2542477312 bytes == 0x7d366000 @  0x7fb57061f1e7 0x7fb56e1855e1 0x7fb56e1e9c78 0x7fb56e1e9d93 0x7fb56e287ea8 0x7fb56e288704 0x7fb56e288852 0x566d63 0x59fc4e 0x7fb56e1d54ed 0x50a2bf 0x50bfb4 0x507d64 0x509a90 0x50a48d 0x50bfb4 0x507d64 0x588d41 0x59fc4e 0x7fb56e1d54ed 0x50a2bf 0x50bfb4 0x507d64 0x509a90 0x50a48d 0x50bfb4 0x507d64 0x509a90 0x50a48d 0x50cd96 0x509758\n",
            "mean period 7 7 7\n",
            "exp period 7 0.5 7\n",
            "tcmalloc: large alloc 2905686016 bytes == 0x7d366000 @  0x7fb57061f1e7 0x7fb56e1855e1 0x7fb56e1e9c78 0x7fb56e1e9d93 0x7fb56e287ea8 0x7fb56e288704 0x7fb56e288852 0x566d63 0x59fc4e 0x7fb56e1d54ed 0x50a2bf 0x50bfb4 0x507d64 0x509a90 0x50a48d 0x50bfb4 0x507d64 0x588d41 0x59fc4e 0x7fb56e1d54ed 0x50a2bf 0x50bfb4 0x507d64 0x509a90 0x50a48d 0x50bfb4 0x507d64 0x509a90 0x50a48d 0x50cd96 0x509758\n"
          ],
          "name": "stdout"
        }
      ]
    },
    {
      "cell_type": "code",
      "metadata": {
        "id": "HpuzmLscWqYL",
        "colab": {
          "base_uri": "https://localhost:8080/",
          "height": 92
        },
        "outputId": "49b56782-0363-4210-c0e7-7956fb199870"
      },
      "source": [
        "! python feature_generation/convert_csv_to_numpy.py"
      ],
      "execution_count": null,
      "outputs": [
        {
          "output_type": "stream",
          "text": [
            "tcmalloc: large alloc 5992980480 bytes == 0x1f0ac000 @  0x7f42083fc001 0x7f4205f60765 0x7f4205fc4bb0 0x7f4205fc6a4f 0x7f420605d048 0x50a635 0x50bfb4 0x509758 0x50a48d 0x50bfb4 0x507d64 0x50ae13 0x634c82 0x634d37 0x6384ef 0x639091 0x4b0d00 0x7f4207ff7b97 0x5b250a\n",
            "tcmalloc: large alloc 5096153088 bytes == 0x1c3b24000 @  0x7f42083fa1e7 0x7f4205f605e1 0x7f4205fc4c78 0x7f4205fc4d93 0x7f420604fed6 0x7f4206050338 0x50c29e 0x507d64 0x50ae13 0x634c82 0x634d37 0x6384ef 0x639091 0x4b0d00 0x7f4207ff7b97 0x5b250a\n",
            "tcmalloc: large alloc 5546917888 bytes == 0x1c3b24000 @  0x7f42083fa1e7 0x7f4205f605e1 0x7f4205fc4c78 0x7f4205fc4d93 0x7f420604fed6 0x7f4206050338 0x50c29e 0x507d64 0x50ae13 0x634c82 0x634d37 0x6384ef 0x639091 0x4b0d00 0x7f4207ff7b97 0x5b250a\n"
          ],
          "name": "stdout"
        }
      ]
    },
    {
      "cell_type": "code",
      "metadata": {
        "id": "lxWZIohHWyL4",
        "colab": {
          "base_uri": "https://localhost:8080/",
          "height": 54
        },
        "outputId": "339e8b54-ca62-4fc5-a174-ae6d84dc0465"
      },
      "source": [
        "! python utils/generate_evaluators.py"
      ],
      "execution_count": null,
      "outputs": [
        {
          "output_type": "stream",
          "text": [
            "100% 42840/42840 [00:07<00:00, 6044.05it/s]\n",
            "100% 42840/42840 [00:07<00:00, 6050.50it/s]\n"
          ],
          "name": "stdout"
        }
      ]
    },
    {
      "cell_type": "code",
      "metadata": {
        "id": "yY-snkZ8eFbO"
      },
      "source": [
        "import numpy as np"
      ],
      "execution_count": null,
      "outputs": []
    },
    {
      "cell_type": "code",
      "metadata": {
        "id": "KHoXhUSocXov"
      },
      "source": [
        "# здесь хранится соответствие колонок признакам\n",
        "with open('data/final_feature_header.json') as f:\n",
        "    header = json.load(f)\n",
        "\n",
        "target_column = header.index('demand')\n",
        "day_column = header.index('day_as_int')\n",
        "\n",
        "X = {}\n",
        "y = {}\n",
        "\n",
        "for val_type in ['train', 'val', 'test']:\n",
        "    X[val_type] = np.load(f'data/X_{val_type}_validation.npy')\n",
        "    y[val_type] = np.copy(X[val_type][:, target_column])"
      ],
      "execution_count": null,
      "outputs": []
    },
    {
      "cell_type": "code",
      "metadata": {
        "id": "7JoJ544seSQv"
      },
      "source": [
        "import pickle"
      ],
      "execution_count": null,
      "outputs": []
    },
    {
      "cell_type": "code",
      "metadata": {
        "id": "skPt1kOpeuxe"
      },
      "source": [
        "from utils.metric_calculation import WRMSSEEvaluator"
      ],
      "execution_count": null,
      "outputs": []
    },
    {
      "cell_type": "code",
      "metadata": {
        "id": "80gsqor2cXo3"
      },
      "source": [
        "# загрузка вспомогательных сущностей\n",
        "\n",
        "# соответствие категориальных фичей их кодам\n",
        "with open('data/label_codes_dict.json', 'rb') as f:\n",
        "    label_codes_dict = json.load(f)\n",
        "\n",
        "# эвалюаторы\n",
        "with open('evaluators/valid_evaluator.pkl', 'rb') as f:\n",
        "    val_evaluator = pickle.load(f)\n",
        "    \n",
        "with open('evaluators/test_evaluator.pkl', 'rb') as f:\n",
        "    test_evaluator = pickle.load(f)"
      ],
      "execution_count": null,
      "outputs": []
    },
    {
      "cell_type": "markdown",
      "metadata": {
        "id": "jBun9MEWcXpC"
      },
      "source": [
        "Напишите класс для подачи в интерфейс LighGBM, позволяющий вычислять значение метрики, используя готовый evaluator. Не забудьте предусмотреть вычисление лишь раз в $n$ итераций."
      ]
    },
    {
      "cell_type": "code",
      "metadata": {
        "id": "aZthYWpScXpD"
      },
      "source": [
        "class WRMSSEEvalMetric:\n",
        "    def __init__(self, evaluator, ids, verbose_step=5):\n",
        "        self.evaluator = evaluator\n",
        "        self.verbose_step = verbose_step\n",
        "        self.current_step = 0\n",
        "        self.current_answer = 0\n",
        "        self.ids = ids\n",
        "    \n",
        "    def __call__(self, y_true, y_pred):\n",
        "        if self.current_step == 0:\n",
        "            self.current_answer = self.evaluator.score(y_pred.reshape(-1, 28)[ids])\n",
        "            self.current_step += 1\n",
        "        else:\n",
        "            if self.current_step == self.verbose_step - 1:\n",
        "                self.current_step = 0\n",
        "            else:\n",
        "                self.current_step +=1\n",
        "        return 'WRMSSE', self.current_answer, False"
      ],
      "execution_count": null,
      "outputs": []
    },
    {
      "cell_type": "code",
      "metadata": {
        "id": "sOOFXA68fkvJ"
      },
      "source": [
        "import pandas as pd\n",
        "ids = pd.read_csv('data/sales_train_validation.csv')['id'].map(label_codes_dict['id']).values"
      ],
      "execution_count": null,
      "outputs": []
    },
    {
      "cell_type": "code",
      "metadata": {
        "id": "WHdU6frIfGUr"
      },
      "source": [
        "from lightgbm import LGBMRegressor"
      ],
      "execution_count": null,
      "outputs": []
    },
    {
      "cell_type": "code",
      "metadata": {
        "id": "X-ygI-6-cXpN"
      },
      "source": [
        "regressor = LGBMRegressor(\n",
        "    n_estimators=500,\n",
        "    learning_rate=0.1,\n",
        "    objective='mse',\n",
        "    metric=\"None\"\n",
        ")\n",
        "wrmsse_val_eval_metric = WRMSSEEvalMetric(\n",
        "    val_evaluator,\n",
        "    ids,\n",
        "    verbose_step=10\n",
        ")"
      ],
      "execution_count": null,
      "outputs": []
    },
    {
      "cell_type": "code",
      "metadata": {
        "id": "NQKnW9yqavT-"
      },
      "source": [
        "# Берем нужные признаки\n",
        "features = ['shift_7', 'shift_28']\n",
        "feature_index = []\n",
        "for feature in features:\n",
        "    feature_index.append(header.index(feature))"
      ],
      "execution_count": null,
      "outputs": []
    },
    {
      "cell_type": "code",
      "metadata": {
        "id": "LCrqX-r7cXpV",
        "colab": {
          "base_uri": "https://localhost:8080/",
          "height": 623
        },
        "outputId": "f0e217a0-b2dc-4ad0-f000-015da1de974c"
      },
      "source": [
        "regressor.fit(\n",
        "   X['train'][:, feature_index], y['train'],\n",
        "   eval_set=[(X['val'][:, feature_index], y['val'])],\n",
        "   eval_metric=wrmsse_val_eval_metric,\n",
        "   early_stopping_rounds=20,\n",
        "   verbose=10,\n",
        ")"
      ],
      "execution_count": null,
      "outputs": [
        {
          "output_type": "stream",
          "text": [
            "Training until validation scores don't improve for 20 rounds.\n",
            "[10]\tvalid_0's WRMSSE: 2.15321\n",
            "[20]\tvalid_0's WRMSSE: 1.32993\n",
            "[30]\tvalid_0's WRMSSE: 1.07926\n",
            "[40]\tvalid_0's WRMSSE: 1.00029\n",
            "[50]\tvalid_0's WRMSSE: 0.973825\n",
            "[60]\tvalid_0's WRMSSE: 0.964485\n",
            "[70]\tvalid_0's WRMSSE: 0.960798\n",
            "[80]\tvalid_0's WRMSSE: 0.959521\n",
            "[90]\tvalid_0's WRMSSE: 0.958747\n",
            "[100]\tvalid_0's WRMSSE: 0.958302\n",
            "[110]\tvalid_0's WRMSSE: 0.957989\n",
            "[120]\tvalid_0's WRMSSE: 0.95779\n",
            "[130]\tvalid_0's WRMSSE: 0.95769\n",
            "[140]\tvalid_0's WRMSSE: 0.95757\n",
            "[150]\tvalid_0's WRMSSE: 0.957541\n",
            "[160]\tvalid_0's WRMSSE: 0.957411\n",
            "[170]\tvalid_0's WRMSSE: 0.957364\n",
            "[180]\tvalid_0's WRMSSE: 0.957281\n",
            "[190]\tvalid_0's WRMSSE: 0.957071\n",
            "[200]\tvalid_0's WRMSSE: 0.957018\n",
            "[210]\tvalid_0's WRMSSE: 0.957003\n",
            "[220]\tvalid_0's WRMSSE: 0.956918\n",
            "[230]\tvalid_0's WRMSSE: 0.956931\n",
            "Early stopping, best iteration is:\n",
            "[211]\tvalid_0's WRMSSE: 0.956918\n"
          ],
          "name": "stdout"
        },
        {
          "output_type": "execute_result",
          "data": {
            "text/plain": [
              "LGBMRegressor(boosting_type='gbdt', class_weight=None, colsample_bytree=1.0,\n",
              "              importance_type='split', learning_rate=0.1, max_depth=-1,\n",
              "              metric='None', min_child_samples=20, min_child_weight=0.001,\n",
              "              min_split_gain=0.0, n_estimators=500, n_jobs=-1, num_leaves=31,\n",
              "              objective='mse', random_state=None, reg_alpha=0.0, reg_lambda=0.0,\n",
              "              silent=True, subsample=1.0, subsample_for_bin=200000,\n",
              "              subsample_freq=0)"
            ]
          },
          "metadata": {
            "tags": []
          },
          "execution_count": 21
        }
      ]
    },
    {
      "cell_type": "code",
      "metadata": {
        "id": "yXFYkvU2mNo0"
      },
      "source": [
        "from feature_generation.feature_recalculation import RecursivePredictor"
      ],
      "execution_count": null,
      "outputs": []
    },
    {
      "cell_type": "code",
      "metadata": {
        "id": "wyHqx6wS5ITL"
      },
      "source": [
        "y_pred = regressor.predict(X['test'][:, feature_index])"
      ],
      "execution_count": null,
      "outputs": []
    },
    {
      "cell_type": "code",
      "metadata": {
        "id": "NHpHpffr5Yin"
      },
      "source": [
        "wrmsse_test_eval_metric = WRMSSEEvalMetric(\n",
        "    test_evaluator,\n",
        "    ids,\n",
        "    verbose_step=10\n",
        ")"
      ],
      "execution_count": null,
      "outputs": []
    },
    {
      "cell_type": "code",
      "metadata": {
        "id": "VjEyvp3X5wVZ",
        "colab": {
          "base_uri": "https://localhost:8080/",
          "height": 35
        },
        "outputId": "912ea1ad-8a4b-4c0f-9ddc-111a1a9cdc89"
      },
      "source": [
        "wrmsse_test_eval_metric(0, y_pred)"
      ],
      "execution_count": null,
      "outputs": [
        {
          "output_type": "execute_result",
          "data": {
            "text/plain": [
              "('WRMSSE', 0.8511726630590583, False)"
            ]
          },
          "metadata": {
            "tags": []
          },
          "execution_count": 25
        }
      ]
    },
    {
      "cell_type": "code",
      "metadata": {
        "id": "sMsRHdNnD6nV"
      },
      "source": [
        "rp = RecursivePredictor(header, regressor, label_codes_dict, 1180, feature_index)"
      ],
      "execution_count": null,
      "outputs": []
    },
    {
      "cell_type": "code",
      "metadata": {
        "id": "CD55EABcEIxK"
      },
      "source": [
        "y_pred = rp.get_recursive_prediction(X['test'])"
      ],
      "execution_count": null,
      "outputs": []
    },
    {
      "cell_type": "code",
      "metadata": {
        "id": "gVTXoU7iTYLo"
      },
      "source": [
        "wrmsse_test_eval_metric = WRMSSEEvalMetric(\n",
        "    test_evaluator,\n",
        "    label_codes_dict,\n",
        "    verbose_step=10\n",
        ")"
      ],
      "execution_count": null,
      "outputs": []
    },
    {
      "cell_type": "code",
      "metadata": {
        "id": "hyCOA0BFTSKH",
        "colab": {
          "base_uri": "https://localhost:8080/",
          "height": 35
        },
        "outputId": "5fb012b7-f044-4797-a94c-02f666ed77c9"
      },
      "source": [
        "wrmsse_test_eval_metric(0, y_pred)"
      ],
      "execution_count": null,
      "outputs": [
        {
          "output_type": "execute_result",
          "data": {
            "text/plain": [
              "('WRMSSE', 1.0697105858277571, False)"
            ]
          },
          "metadata": {
            "tags": []
          },
          "execution_count": 29
        }
      ]
    },
    {
      "cell_type": "code",
      "metadata": {
        "id": "z-8aM8PITeNs"
      },
      "source": [
        "# Берем нужные признаки\n",
        "features = ['shift_1', 'shift_2', 'shift_3', 'shift_4', 'shift_5', 'shift_6', 'shift_7', 'shift_28']\n",
        "feature_index = []\n",
        "for feature in features:\n",
        "    feature_index.append(header.index(feature))"
      ],
      "execution_count": null,
      "outputs": []
    },
    {
      "cell_type": "code",
      "metadata": {
        "id": "-mZHSQVfT9HV",
        "colab": {
          "base_uri": "https://localhost:8080/",
          "height": 1000
        },
        "outputId": "8df4d6e2-2a4e-4fc9-88eb-797953204ba9"
      },
      "source": [
        "regressor = LGBMRegressor(\n",
        "    n_estimators=500,\n",
        "    learning_rate=0.1,\n",
        "    objective='mse',\n",
        "    metric=\"None\"\n",
        ")\n",
        "wrmsse_val_eval_metric = WRMSSEEvalMetric(\n",
        "    val_evaluator,\n",
        "    ids,\n",
        "    verbose_step=10\n",
        ")\n",
        "regressor.fit(\n",
        "   X['train'][:, feature_index], y['train'],\n",
        "   eval_set=[(X['val'][:, feature_index], y['val'])],\n",
        "   eval_metric=wrmsse_val_eval_metric,\n",
        "   early_stopping_rounds=10,\n",
        "   verbose=10,\n",
        ")"
      ],
      "execution_count": null,
      "outputs": [
        {
          "output_type": "stream",
          "text": [
            "Training until validation scores don't improve for 10 rounds.\n",
            "[2]\tvalid_0's WRMSSE: 2.15006\n",
            "[4]\tvalid_0's WRMSSE: 2.15006\n",
            "[6]\tvalid_0's WRMSSE: 2.15006\n",
            "[8]\tvalid_0's WRMSSE: 2.15006\n",
            "[10]\tvalid_0's WRMSSE: 2.15006\n",
            "[12]\tvalid_0's WRMSSE: 1.29013\n",
            "[14]\tvalid_0's WRMSSE: 1.29013\n",
            "[16]\tvalid_0's WRMSSE: 1.29013\n",
            "[18]\tvalid_0's WRMSSE: 1.29013\n",
            "[20]\tvalid_0's WRMSSE: 1.29013\n",
            "[22]\tvalid_0's WRMSSE: 1.02422\n",
            "[24]\tvalid_0's WRMSSE: 1.02422\n",
            "[26]\tvalid_0's WRMSSE: 1.02422\n",
            "[28]\tvalid_0's WRMSSE: 1.02422\n",
            "[30]\tvalid_0's WRMSSE: 1.02422\n",
            "[32]\tvalid_0's WRMSSE: 0.943125\n",
            "[34]\tvalid_0's WRMSSE: 0.943125\n",
            "[36]\tvalid_0's WRMSSE: 0.943125\n",
            "[38]\tvalid_0's WRMSSE: 0.943125\n",
            "[40]\tvalid_0's WRMSSE: 0.943125\n",
            "[42]\tvalid_0's WRMSSE: 0.916399\n",
            "[44]\tvalid_0's WRMSSE: 0.916399\n",
            "[46]\tvalid_0's WRMSSE: 0.916399\n",
            "[48]\tvalid_0's WRMSSE: 0.916399\n",
            "[50]\tvalid_0's WRMSSE: 0.916399\n",
            "[52]\tvalid_0's WRMSSE: 0.907416\n",
            "[54]\tvalid_0's WRMSSE: 0.907416\n",
            "[56]\tvalid_0's WRMSSE: 0.907416\n",
            "[58]\tvalid_0's WRMSSE: 0.907416\n",
            "[60]\tvalid_0's WRMSSE: 0.907416\n",
            "[62]\tvalid_0's WRMSSE: 0.904155\n",
            "[64]\tvalid_0's WRMSSE: 0.904155\n",
            "[66]\tvalid_0's WRMSSE: 0.904155\n",
            "[68]\tvalid_0's WRMSSE: 0.904155\n",
            "[70]\tvalid_0's WRMSSE: 0.904155\n",
            "[72]\tvalid_0's WRMSSE: 0.90204\n",
            "[74]\tvalid_0's WRMSSE: 0.90204\n",
            "[76]\tvalid_0's WRMSSE: 0.90204\n",
            "[78]\tvalid_0's WRMSSE: 0.90204\n",
            "[80]\tvalid_0's WRMSSE: 0.90204\n",
            "[82]\tvalid_0's WRMSSE: 0.900887\n",
            "[84]\tvalid_0's WRMSSE: 0.900887\n",
            "[86]\tvalid_0's WRMSSE: 0.900887\n",
            "[88]\tvalid_0's WRMSSE: 0.900887\n",
            "[90]\tvalid_0's WRMSSE: 0.900887\n",
            "[92]\tvalid_0's WRMSSE: 0.900038\n",
            "[94]\tvalid_0's WRMSSE: 0.900038\n",
            "[96]\tvalid_0's WRMSSE: 0.900038\n",
            "[98]\tvalid_0's WRMSSE: 0.900038\n",
            "[100]\tvalid_0's WRMSSE: 0.900038\n",
            "[102]\tvalid_0's WRMSSE: 0.899561\n",
            "[104]\tvalid_0's WRMSSE: 0.899561\n",
            "[106]\tvalid_0's WRMSSE: 0.899561\n",
            "[108]\tvalid_0's WRMSSE: 0.899561\n",
            "[110]\tvalid_0's WRMSSE: 0.899561\n",
            "[112]\tvalid_0's WRMSSE: 0.898932\n",
            "[114]\tvalid_0's WRMSSE: 0.898932\n",
            "[116]\tvalid_0's WRMSSE: 0.898932\n",
            "[118]\tvalid_0's WRMSSE: 0.898932\n",
            "[120]\tvalid_0's WRMSSE: 0.898932\n",
            "[122]\tvalid_0's WRMSSE: 0.898657\n",
            "[124]\tvalid_0's WRMSSE: 0.898657\n",
            "[126]\tvalid_0's WRMSSE: 0.898657\n",
            "[128]\tvalid_0's WRMSSE: 0.898657\n",
            "[130]\tvalid_0's WRMSSE: 0.898657\n",
            "[132]\tvalid_0's WRMSSE: 0.898398\n",
            "[134]\tvalid_0's WRMSSE: 0.898398\n",
            "[136]\tvalid_0's WRMSSE: 0.898398\n",
            "[138]\tvalid_0's WRMSSE: 0.898398\n",
            "[140]\tvalid_0's WRMSSE: 0.898398\n",
            "[142]\tvalid_0's WRMSSE: 0.897784\n",
            "[144]\tvalid_0's WRMSSE: 0.897784\n",
            "[146]\tvalid_0's WRMSSE: 0.897784\n",
            "[148]\tvalid_0's WRMSSE: 0.897784\n",
            "[150]\tvalid_0's WRMSSE: 0.897784\n",
            "[152]\tvalid_0's WRMSSE: 0.897747\n",
            "[154]\tvalid_0's WRMSSE: 0.897747\n",
            "[156]\tvalid_0's WRMSSE: 0.897747\n",
            "[158]\tvalid_0's WRMSSE: 0.897747\n",
            "[160]\tvalid_0's WRMSSE: 0.897747\n",
            "[162]\tvalid_0's WRMSSE: 0.897642\n",
            "[164]\tvalid_0's WRMSSE: 0.897642\n",
            "[166]\tvalid_0's WRMSSE: 0.897642\n",
            "[168]\tvalid_0's WRMSSE: 0.897642\n",
            "[170]\tvalid_0's WRMSSE: 0.897642\n",
            "[172]\tvalid_0's WRMSSE: 0.897263\n",
            "[174]\tvalid_0's WRMSSE: 0.897263\n",
            "[176]\tvalid_0's WRMSSE: 0.897263\n",
            "[178]\tvalid_0's WRMSSE: 0.897263\n",
            "[180]\tvalid_0's WRMSSE: 0.897263\n",
            "[182]\tvalid_0's WRMSSE: 0.896923\n",
            "[184]\tvalid_0's WRMSSE: 0.896923\n",
            "[186]\tvalid_0's WRMSSE: 0.896923\n",
            "[188]\tvalid_0's WRMSSE: 0.896923\n",
            "[190]\tvalid_0's WRMSSE: 0.896923\n",
            "[192]\tvalid_0's WRMSSE: 0.896851\n",
            "[194]\tvalid_0's WRMSSE: 0.896851\n",
            "[196]\tvalid_0's WRMSSE: 0.896851\n",
            "[198]\tvalid_0's WRMSSE: 0.896851\n",
            "[200]\tvalid_0's WRMSSE: 0.896851\n",
            "[202]\tvalid_0's WRMSSE: 0.896691\n",
            "[204]\tvalid_0's WRMSSE: 0.896691\n",
            "[206]\tvalid_0's WRMSSE: 0.896691\n",
            "[208]\tvalid_0's WRMSSE: 0.896691\n",
            "[210]\tvalid_0's WRMSSE: 0.896691\n",
            "[212]\tvalid_0's WRMSSE: 0.896385\n",
            "[214]\tvalid_0's WRMSSE: 0.896385\n",
            "[216]\tvalid_0's WRMSSE: 0.896385\n",
            "[218]\tvalid_0's WRMSSE: 0.896385\n",
            "[220]\tvalid_0's WRMSSE: 0.896385\n",
            "[222]\tvalid_0's WRMSSE: 0.896324\n",
            "[224]\tvalid_0's WRMSSE: 0.896324\n",
            "[226]\tvalid_0's WRMSSE: 0.896324\n",
            "[228]\tvalid_0's WRMSSE: 0.896324\n",
            "[230]\tvalid_0's WRMSSE: 0.896324\n",
            "[232]\tvalid_0's WRMSSE: 0.896291\n",
            "[234]\tvalid_0's WRMSSE: 0.896291\n",
            "[236]\tvalid_0's WRMSSE: 0.896291\n",
            "[238]\tvalid_0's WRMSSE: 0.896291\n",
            "[240]\tvalid_0's WRMSSE: 0.896291\n",
            "[242]\tvalid_0's WRMSSE: 0.896129\n",
            "[244]\tvalid_0's WRMSSE: 0.896129\n",
            "[246]\tvalid_0's WRMSSE: 0.896129\n",
            "[248]\tvalid_0's WRMSSE: 0.896129\n",
            "[250]\tvalid_0's WRMSSE: 0.896129\n",
            "[252]\tvalid_0's WRMSSE: 0.896027\n",
            "[254]\tvalid_0's WRMSSE: 0.896027\n",
            "[256]\tvalid_0's WRMSSE: 0.896027\n",
            "[258]\tvalid_0's WRMSSE: 0.896027\n",
            "[260]\tvalid_0's WRMSSE: 0.896027\n",
            "[262]\tvalid_0's WRMSSE: 0.895953\n",
            "[264]\tvalid_0's WRMSSE: 0.895953\n",
            "[266]\tvalid_0's WRMSSE: 0.895953\n",
            "[268]\tvalid_0's WRMSSE: 0.895953\n",
            "[270]\tvalid_0's WRMSSE: 0.895953\n",
            "[272]\tvalid_0's WRMSSE: 0.895749\n",
            "[274]\tvalid_0's WRMSSE: 0.895749\n",
            "[276]\tvalid_0's WRMSSE: 0.895749\n",
            "[278]\tvalid_0's WRMSSE: 0.895749\n",
            "[280]\tvalid_0's WRMSSE: 0.895749\n",
            "[282]\tvalid_0's WRMSSE: 0.895522\n",
            "[284]\tvalid_0's WRMSSE: 0.895522\n",
            "[286]\tvalid_0's WRMSSE: 0.895522\n",
            "[288]\tvalid_0's WRMSSE: 0.895522\n",
            "[290]\tvalid_0's WRMSSE: 0.895522\n",
            "[292]\tvalid_0's WRMSSE: 0.895337\n",
            "[294]\tvalid_0's WRMSSE: 0.895337\n",
            "[296]\tvalid_0's WRMSSE: 0.895337\n",
            "[298]\tvalid_0's WRMSSE: 0.895337\n",
            "[300]\tvalid_0's WRMSSE: 0.895337\n",
            "[302]\tvalid_0's WRMSSE: 0.895187\n",
            "[304]\tvalid_0's WRMSSE: 0.895187\n",
            "[306]\tvalid_0's WRMSSE: 0.895187\n",
            "[308]\tvalid_0's WRMSSE: 0.895187\n",
            "[310]\tvalid_0's WRMSSE: 0.895187\n",
            "Early stopping, best iteration is:\n",
            "[301]\tvalid_0's WRMSSE: 0.895187\n"
          ],
          "name": "stdout"
        },
        {
          "output_type": "execute_result",
          "data": {
            "text/plain": [
              "LGBMRegressor(boosting_type='gbdt', class_weight=None, colsample_bytree=1.0,\n",
              "              importance_type='split', learning_rate=0.1, max_depth=-1,\n",
              "              metric='None', min_child_samples=20, min_child_weight=0.001,\n",
              "              min_split_gain=0.0, n_estimators=500, n_jobs=-1, num_leaves=31,\n",
              "              objective='mse', random_state=None, reg_alpha=0.0, reg_lambda=0.0,\n",
              "              silent=True, subsample=1.0, subsample_for_bin=200000,\n",
              "              subsample_freq=0)"
            ]
          },
          "metadata": {
            "tags": []
          },
          "execution_count": 31
        }
      ]
    },
    {
      "cell_type": "code",
      "metadata": {
        "id": "t-zZeW1SbndD",
        "colab": {
          "base_uri": "https://localhost:8080/",
          "height": 35
        },
        "outputId": "989559d8-4290-46df-b529-9320d4d06de1"
      },
      "source": [
        "y_pred = regressor.predict(X['test'][:, feature_index])\n",
        "wrmsse_test_eval_metric = WRMSSEEvalMetric(\n",
        "    test_evaluator,\n",
        "    ids,\n",
        "    verbose_step=10\n",
        ")\n",
        "wrmsse_test_eval_metric(0, y_pred)"
      ],
      "execution_count": null,
      "outputs": [
        {
          "output_type": "execute_result",
          "data": {
            "text/plain": [
              "('WRMSSE', 1.4171387573513932, False)"
            ]
          },
          "metadata": {
            "tags": []
          },
          "execution_count": 36
        }
      ]
    },
    {
      "cell_type": "code",
      "metadata": {
        "id": "psByw8_tb554",
        "colab": {
          "base_uri": "https://localhost:8080/",
          "height": 35
        },
        "outputId": "2109c4bb-4dc5-42b8-8cd7-7cf8784eeeed"
      },
      "source": [
        "rp = RecursivePredictor(header, regressor, label_codes_dict, 1180, feature_index)\n",
        "y_pred = rp.get_recursive_prediction(X['test'])\n",
        "wrmsse_test_eval_metric = WRMSSEEvalMetric(\n",
        "    test_evaluator,\n",
        "    ids,\n",
        "    verbose_step=10\n",
        ")\n",
        "wrmsse_test_eval_metric(0, y_pred)"
      ],
      "execution_count": null,
      "outputs": [
        {
          "output_type": "execute_result",
          "data": {
            "text/plain": [
              "('WRMSSE', 1.4171387573513932, False)"
            ]
          },
          "metadata": {
            "tags": []
          },
          "execution_count": 37
        }
      ]
    },
    {
      "cell_type": "markdown",
      "metadata": {
        "id": "_lhF5uxTcXpd"
      },
      "source": [
        "### 2 Эксперимент\n",
        "\n",
        "Сравните по указанной выше схеме результаты двух моделей:\n",
        "\n",
        "1. Модель с признаками:\n",
        "\n",
        "    $f(t, i, 1, 1)$, $i \\in \\{7, 14, 21, 28, 35, 42, 49\\}$\n",
        "    \n",
        "    \n",
        "2. Модель с признаками:\n",
        "\n",
        "    $f(t, 7, 7, 7)$, $g(t, 7, 0.5, 7)$\n",
        "    \n",
        "Сделайте выводы о качестве работы моделей на валидации и отложенной выборке и заполните таблицу ниже:\n",
        "\n",
        "| WRMSSE        | val без пересчёта | test без пересчёта | test с пересчётом |\n",
        "|---------------|-------------------|--------------------|-------------------|\n",
        "| Первая модель | 0.795869                  |  0.9408849                  | 0.9133               |\n",
        "| Вторая модель |  0.79997                 |  1.202                  |1.2228                   |"
      ]
    },
    {
      "cell_type": "code",
      "metadata": {
        "id": "iaBtX6oCccJS"
      },
      "source": [
        "# Берем нужные признаки\n",
        "features = ['shift_7', 'shift_14', 'shift_21', 'shift_28', 'shift_35', 'shift_42', 'shift_49']\n",
        "feature_index = []\n",
        "for feature in features:\n",
        "    feature_index.append(header.index(feature))"
      ],
      "execution_count": null,
      "outputs": []
    },
    {
      "cell_type": "code",
      "metadata": {
        "id": "8-NgxJfuckNv",
        "colab": {
          "base_uri": "https://localhost:8080/",
          "height": 880
        },
        "outputId": "1862afdc-1a31-4d9d-f290-54c2e7ba2fcf"
      },
      "source": [
        "regressor = LGBMRegressor(\n",
        "    n_estimators=500,\n",
        "    learning_rate=0.1,\n",
        "    objective='mse',\n",
        "    metric=\"None\"\n",
        ")\n",
        "wrmsse_val_eval_metric = WRMSSEEvalMetric(\n",
        "    val_evaluator,\n",
        "    ids,\n",
        "    verbose_step=10\n",
        ")\n",
        "regressor.fit(\n",
        "   X['train'][:, feature_index], y['train'],\n",
        "   eval_set=[(X['val'][:, feature_index], y['val'])],\n",
        "   eval_metric=wrmsse_val_eval_metric,\n",
        "   early_stopping_rounds=20,\n",
        "   verbose=10,\n",
        ")"
      ],
      "execution_count": null,
      "outputs": [
        {
          "output_type": "stream",
          "text": [
            "Training until validation scores don't improve for 20 rounds.\n",
            "[10]\tvalid_0's WRMSSE: 2.14499\n",
            "[20]\tvalid_0's WRMSSE: 1.23828\n",
            "[30]\tvalid_0's WRMSSE: 0.948937\n",
            "[40]\tvalid_0's WRMSSE: 0.85514\n",
            "[50]\tvalid_0's WRMSSE: 0.822154\n",
            "[60]\tvalid_0's WRMSSE: 0.809538\n",
            "[70]\tvalid_0's WRMSSE: 0.805742\n",
            "[80]\tvalid_0's WRMSSE: 0.802733\n",
            "[90]\tvalid_0's WRMSSE: 0.801287\n",
            "[100]\tvalid_0's WRMSSE: 0.80037\n",
            "[110]\tvalid_0's WRMSSE: 0.799352\n",
            "[120]\tvalid_0's WRMSSE: 0.799088\n",
            "[130]\tvalid_0's WRMSSE: 0.798766\n",
            "[140]\tvalid_0's WRMSSE: 0.798257\n",
            "[150]\tvalid_0's WRMSSE: 0.798137\n",
            "[160]\tvalid_0's WRMSSE: 0.797755\n",
            "[170]\tvalid_0's WRMSSE: 0.797789\n",
            "[180]\tvalid_0's WRMSSE: 0.797743\n",
            "[190]\tvalid_0's WRMSSE: 0.797594\n",
            "[200]\tvalid_0's WRMSSE: 0.797306\n",
            "[210]\tvalid_0's WRMSSE: 0.797293\n",
            "[220]\tvalid_0's WRMSSE: 0.797208\n",
            "[230]\tvalid_0's WRMSSE: 0.79696\n",
            "[240]\tvalid_0's WRMSSE: 0.7969\n",
            "[250]\tvalid_0's WRMSSE: 0.796856\n",
            "[260]\tvalid_0's WRMSSE: 0.796713\n",
            "[270]\tvalid_0's WRMSSE: 0.796501\n",
            "[280]\tvalid_0's WRMSSE: 0.796262\n",
            "[290]\tvalid_0's WRMSSE: 0.796027\n",
            "[300]\tvalid_0's WRMSSE: 0.796051\n",
            "[310]\tvalid_0's WRMSSE: 0.79597\n",
            "[320]\tvalid_0's WRMSSE: 0.795992\n",
            "[330]\tvalid_0's WRMSSE: 0.795949\n",
            "[340]\tvalid_0's WRMSSE: 0.795964\n",
            "[350]\tvalid_0's WRMSSE: 0.795924\n",
            "[360]\tvalid_0's WRMSSE: 0.795869\n",
            "[370]\tvalid_0's WRMSSE: 0.795935\n",
            "Early stopping, best iteration is:\n",
            "[351]\tvalid_0's WRMSSE: 0.795869\n"
          ],
          "name": "stdout"
        },
        {
          "output_type": "execute_result",
          "data": {
            "text/plain": [
              "LGBMRegressor(boosting_type='gbdt', class_weight=None, colsample_bytree=1.0,\n",
              "              importance_type='split', learning_rate=0.1, max_depth=-1,\n",
              "              metric='None', min_child_samples=20, min_child_weight=0.001,\n",
              "              min_split_gain=0.0, n_estimators=500, n_jobs=-1, num_leaves=31,\n",
              "              objective='mse', random_state=None, reg_alpha=0.0, reg_lambda=0.0,\n",
              "              silent=True, subsample=1.0, subsample_for_bin=200000,\n",
              "              subsample_freq=0)"
            ]
          },
          "metadata": {
            "tags": []
          },
          "execution_count": 39
        }
      ]
    },
    {
      "cell_type": "code",
      "metadata": {
        "id": "Lt9YqGAMcvUq",
        "colab": {
          "base_uri": "https://localhost:8080/",
          "height": 35
        },
        "outputId": "f9e22f4e-c9e2-4261-9a1e-399df9e6dfae"
      },
      "source": [
        "y_pred = regressor.predict(X['test'][:, feature_index])\n",
        "wrmsse_test_eval_metric = WRMSSEEvalMetric(\n",
        "    test_evaluator,\n",
        "    ids,\n",
        "    verbose_step=10\n",
        ")\n",
        "wrmsse_test_eval_metric(0, y_pred)"
      ],
      "execution_count": null,
      "outputs": [
        {
          "output_type": "execute_result",
          "data": {
            "text/plain": [
              "('WRMSSE', 0.9408849642822643, False)"
            ]
          },
          "metadata": {
            "tags": []
          },
          "execution_count": 40
        }
      ]
    },
    {
      "cell_type": "code",
      "metadata": {
        "id": "MuYD36YDcxnr",
        "colab": {
          "base_uri": "https://localhost:8080/",
          "height": 35
        },
        "outputId": "513e7236-450c-4c42-82bc-9555a6a39d43"
      },
      "source": [
        "rp = RecursivePredictor(header, regressor, label_codes_dict, 1180, feature_index)\n",
        "y_pred = rp.get_recursive_prediction(X['test'])\n",
        "wrmsse_test_eval_metric = WRMSSEEvalMetric(\n",
        "    test_evaluator,\n",
        "    ids,\n",
        "    verbose_step=10\n",
        ")\n",
        "wrmsse_test_eval_metric(0, y_pred)"
      ],
      "execution_count": null,
      "outputs": [
        {
          "output_type": "execute_result",
          "data": {
            "text/plain": [
              "('WRMSSE', 0.9133989611191552, False)"
            ]
          },
          "metadata": {
            "tags": []
          },
          "execution_count": 41
        }
      ]
    },
    {
      "cell_type": "code",
      "metadata": {
        "id": "c4WmKqHudtE6"
      },
      "source": [
        "# Берем нужные признаки\n",
        "features = ['mean_7_7_period_7', 'mean_7_0.500_period_7']\n",
        "feature_index = []\n",
        "for feature in features:\n",
        "    feature_index.append(header.index(feature))"
      ],
      "execution_count": null,
      "outputs": []
    },
    {
      "cell_type": "code",
      "metadata": {
        "id": "yAIY4-Qhd8kl",
        "colab": {
          "base_uri": "https://localhost:8080/",
          "height": 715
        },
        "outputId": "0c274263-2050-448e-9f90-d3f14fc7767d"
      },
      "source": [
        "regressor = LGBMRegressor(\n",
        "    n_estimators=500,\n",
        "    learning_rate=0.1,\n",
        "    objective='mse',\n",
        "    metric=\"None\"\n",
        ")\n",
        "wrmsse_val_eval_metric = WRMSSEEvalMetric(\n",
        "    val_evaluator,\n",
        "    ids,\n",
        "    verbose_step=10\n",
        ")\n",
        "regressor.fit(\n",
        "   X['train'][:, feature_index], y['train'],\n",
        "   eval_set=[(X['val'][:, feature_index], y['val'])],\n",
        "   eval_metric=wrmsse_val_eval_metric,\n",
        "   early_stopping_rounds=10,\n",
        "   verbose=10,\n",
        ")"
      ],
      "execution_count": null,
      "outputs": [
        {
          "output_type": "stream",
          "text": [
            "Training until validation scores don't improve for 10 rounds.\n",
            "[10]\tvalid_0's WRMSSE: 2.12933\n",
            "[20]\tvalid_0's WRMSSE: 1.18961\n",
            "[30]\tvalid_0's WRMSSE: 0.91975\n",
            "[40]\tvalid_0's WRMSSE: 0.842103\n",
            "[50]\tvalid_0's WRMSSE: 0.818209\n",
            "[60]\tvalid_0's WRMSSE: 0.810097\n",
            "[70]\tvalid_0's WRMSSE: 0.80685\n",
            "[80]\tvalid_0's WRMSSE: 0.805288\n",
            "[90]\tvalid_0's WRMSSE: 0.803528\n",
            "[100]\tvalid_0's WRMSSE: 0.802434\n",
            "[110]\tvalid_0's WRMSSE: 0.801941\n",
            "[120]\tvalid_0's WRMSSE: 0.801644\n",
            "[130]\tvalid_0's WRMSSE: 0.801403\n",
            "[140]\tvalid_0's WRMSSE: 0.801291\n",
            "[150]\tvalid_0's WRMSSE: 0.801217\n",
            "[160]\tvalid_0's WRMSSE: 0.801105\n",
            "[170]\tvalid_0's WRMSSE: 0.801061\n",
            "[180]\tvalid_0's WRMSSE: 0.800818\n",
            "[190]\tvalid_0's WRMSSE: 0.800752\n",
            "[200]\tvalid_0's WRMSSE: 0.800604\n",
            "[210]\tvalid_0's WRMSSE: 0.800572\n",
            "[220]\tvalid_0's WRMSSE: 0.800482\n",
            "[230]\tvalid_0's WRMSSE: 0.800292\n",
            "[240]\tvalid_0's WRMSSE: 0.800205\n",
            "[250]\tvalid_0's WRMSSE: 0.800185\n",
            "[260]\tvalid_0's WRMSSE: 0.800162\n",
            "[270]\tvalid_0's WRMSSE: 0.800112\n",
            "[280]\tvalid_0's WRMSSE: 0.79997\n",
            "Early stopping, best iteration is:\n",
            "[271]\tvalid_0's WRMSSE: 0.79997\n"
          ],
          "name": "stdout"
        },
        {
          "output_type": "execute_result",
          "data": {
            "text/plain": [
              "LGBMRegressor(boosting_type='gbdt', class_weight=None, colsample_bytree=1.0,\n",
              "              importance_type='split', learning_rate=0.1, max_depth=-1,\n",
              "              metric='None', min_child_samples=20, min_child_weight=0.001,\n",
              "              min_split_gain=0.0, n_estimators=500, n_jobs=-1, num_leaves=31,\n",
              "              objective='mse', random_state=None, reg_alpha=0.0, reg_lambda=0.0,\n",
              "              silent=True, subsample=1.0, subsample_for_bin=200000,\n",
              "              subsample_freq=0)"
            ]
          },
          "metadata": {
            "tags": []
          },
          "execution_count": 46
        }
      ]
    },
    {
      "cell_type": "code",
      "metadata": {
        "id": "r97ZhtSfeAmC",
        "colab": {
          "base_uri": "https://localhost:8080/",
          "height": 35
        },
        "outputId": "255b93c3-d902-4b56-f0ab-e4ead8681b05"
      },
      "source": [
        "y_pred = regressor.predict(X['test'][:, feature_index])\n",
        "wrmsse_test_eval_metric = WRMSSEEvalMetric(\n",
        "    test_evaluator,\n",
        "    label_codes_dict,\n",
        "    verbose_step=10\n",
        ")\n",
        "wrmsse_test_eval_metric(0, y_pred)"
      ],
      "execution_count": null,
      "outputs": [
        {
          "output_type": "execute_result",
          "data": {
            "text/plain": [
              "('WRMSSE', 1.202094902155587, False)"
            ]
          },
          "metadata": {
            "tags": []
          },
          "execution_count": 47
        }
      ]
    },
    {
      "cell_type": "code",
      "metadata": {
        "id": "OjB0K-nlezpl",
        "colab": {
          "base_uri": "https://localhost:8080/",
          "height": 35
        },
        "outputId": "4e461a4d-b3c8-4007-a5b5-65f1c3f170c0"
      },
      "source": [
        "rp = RecursivePredictor(header, regressor, label_codes_dict, 1180, feature_index)\n",
        "y_pred = rp.get_recursive_prediction(X['test'])\n",
        "wrmsse_test_eval_metric = WRMSSEEvalMetric(\n",
        "    test_evaluator,\n",
        "    label_codes_dict,\n",
        "    verbose_step=10\n",
        ")\n",
        "wrmsse_test_eval_metric(0, y_pred)"
      ],
      "execution_count": null,
      "outputs": [
        {
          "output_type": "execute_result",
          "data": {
            "text/plain": [
              "('WRMSSE', 1.2228506684707083, False)"
            ]
          },
          "metadata": {
            "tags": []
          },
          "execution_count": 49
        }
      ]
    },
    {
      "cell_type": "markdown",
      "metadata": {
        "id": "jDyBOHiLcXpf"
      },
      "source": [
        "## Этап 7. Получение результата для засылки в контест (1 балл)\n",
        "\n",
        "Пришло время заслать своё решение в соревнование.\n",
        "Ваше решение должно преодолеть скор бейзлайна 0.565.\n",
        "\n",
        "Преодолевшие скор бейзлайна могут получить бонусные баллы.\n",
        "Ваш бонусный балл вычисляется по следующей функции:\n",
        "\n",
        "`\n",
        "int(np.linspace(5, 0, n_students)[your_place])\n",
        "`\n",
        "\n",
        "где `n_students` — количество студентов, преодолевших бейзлайн, `your_place` — ваше место среди студентов OzonMasters."
      ]
    },
    {
      "cell_type": "code",
      "metadata": {
        "id": "0Qif__N2ft3p"
      },
      "source": [
        "## ваш код для подсчёта нужных признаков\n",
        "\n",
        "import json\n",
        "import re\n",
        "\n",
        "\n",
        "config = json.dumps({\n",
        "    'shift_parameters': [1, 7, 14, 21, 28, 35, 42, 49, 56, 63, 70, 77, 84, 91, 98, 140, 280],\n",
        "    'mean_parameters': [(1, 7), (8, 7), (14, 7), (28, 7), (14, 14), (14, 28)],\n",
        "    'mean_period_parameters': [(7, 7, 7)],\n",
        "    'exp_mean_parameters': [(1, 0.5), (1, 0.7), (1, 0.85), (14, 0.5), (14, 0.7), (14, 0.85)],\n",
        "    'exp_mean_period_parameters': [(7, 0.5, 7)],\n",
        "})\n",
        "\n",
        "config = re.sub('\"', '%', config)"
      ],
      "execution_count": null,
      "outputs": []
    },
    {
      "cell_type": "code",
      "metadata": {
        "id": "fLHWQTJkgnJI",
        "colab": {
          "base_uri": "https://localhost:8080/",
          "height": 790
        },
        "outputId": "1bb91e17-6c1d-47bd-e7b4-dd08d5120c0e"
      },
      "source": [
        "! python feature_generation/generate_past_demand_features.py -c=\"$config\""
      ],
      "execution_count": null,
      "outputs": [
        {
          "output_type": "stream",
          "text": [
            "shift 1\n",
            "shift 7\n",
            "shift 14\n",
            "shift 21\n",
            "shift 28\n",
            "shift 35\n",
            "shift 42\n",
            "shift 49\n",
            "shift 56\n",
            "shift 63\n",
            "shift 70\n",
            "shift 77\n",
            "shift 84\n",
            "shift 91\n",
            "shift 98\n",
            "shift 140\n",
            "shift 280\n",
            "mean 1 7\n",
            "mean 8 7\n",
            "mean 14 7\n",
            "mean 28 7\n",
            "mean 14 14\n",
            "mean 14 28\n",
            "mean period 7 7 7\n",
            "tcmalloc: large alloc 2444222464 bytes == 0xa5244000 @  0x7f5b083611e7 0x7f5b05ec75e1 0x7f5b05f2bc78 0x7f5b05f2bd93 0x7f5b05fc9ea8 0x7f5b05fca704 0x7f5b05fca852 0x566d63 0x59fc4e 0x7f5b05f174ed 0x50a2bf 0x50bfb4 0x507d64 0x509a90 0x50a48d 0x50bfb4 0x507d64 0x588d41 0x59fc4e 0x7f5b05f174ed 0x50a2bf 0x50bfb4 0x507d64 0x509a90 0x50a48d 0x50bfb4 0x507d64 0x509a90 0x50a48d 0x50cd96 0x509758\n",
            "tcmalloc: large alloc 2444222464 bytes == 0x136d42000 @  0x7f5b083611e7 0x7f5b05ec75e1 0x7f5b05f2bc78 0x7f5b05f2bd93 0x7f5b05fb6ed6 0x7f5b05fb7338 0x50c29e 0x507d64 0x509a90 0x50a48d 0x50cd96 0x509758 0x50a48d 0x50bfb4 0x509758 0x50a48d 0x50bfb4 0x509758 0x50a48d 0x50bfb4 0x507d64 0x509a90 0x50a48d 0x50bfb4 0x509758 0x50a48d 0x50bfb4 0x507d64 0x509a90 0x50a48d 0x50bfb4\n",
            "tcmalloc: large alloc 2444222464 bytes == 0x20902000 @  0x7f5b083611e7 0x7f5b05ec75e1 0x7f5b05f2bc78 0x7f5b05f2bf37 0x7f5b05fc3f28 0x50a635 0x50cd96 0x507d64 0x509a90 0x50a48d 0x50cd96 0x507d64 0x509a90 0x50a48d 0x50cd96 0x507d64 0x509a90 0x50a48d 0x50bfb4 0x507d64 0x509a90 0x50a48d 0x50cd96 0x507d64 0x509a90 0x50a48d 0x50cd96 0x507d64 0x509a90 0x50a48d 0x50cd96\n",
            "tcmalloc: large alloc 2444222464 bytes == 0x1cf926000 @  0x7f5b083611e7 0x7f5b05ec75e1 0x7f5b05f2bc78 0x7f5b05f2bf37 0x7f5b05fc3f28 0x50a635 0x50cd96 0x507d64 0x509a90 0x50a48d 0x50cd96 0x507d64 0x509a90 0x50a48d 0x50cd96 0x507d64 0x509a90 0x50a48d 0x50bfb4 0x507d64 0x509a90 0x50a48d 0x50cd96 0x507d64 0x509a90 0x50a48d 0x50cd96 0x507d64 0x509a90 0x50a48d 0x50cd96\n",
            "exp  1 0.5\n",
            "tcmalloc: large alloc 2541993984 bytes == 0x19474000 @  0x7f5b083611e7 0x7f5b05ec75e1 0x7f5b05f2bc78 0x7f5b05f2bd93 0x7f5b05fc9ea8 0x7f5b05fca704 0x7f5b05fca852 0x566d63 0x59fc4e 0x7f5b05f174ed 0x50a2bf 0x50bfb4 0x507d64 0x509a90 0x50a48d 0x50bfb4 0x507d64 0x588d41 0x59fc4e 0x7f5b05f174ed 0x50a2bf 0x50bfb4 0x507d64 0x509a90 0x50a48d 0x50bfb4 0x507d64 0x509a90 0x50a48d 0x50cd96 0x509758\n",
            "tcmalloc: large alloc 2541993984 bytes == 0x1da2d6000 @  0x7f5b083611e7 0x7f5b05ec75e1 0x7f5b05f2bc78 0x7f5b05f2bd93 0x7f5b05fb6ed6 0x7f5b05fb7338 0x50c29e 0x507d64 0x509a90 0x50a48d 0x50cd96 0x509758 0x50a48d 0x50bfb4 0x509758 0x50a48d 0x50bfb4 0x509758 0x50a48d 0x50bfb4 0x507d64 0x509a90 0x50a48d 0x50bfb4 0x509758 0x50a48d 0x50bfb4 0x507d64 0x509a90 0x50a48d 0x50bfb4\n",
            "tcmalloc: large alloc 2541993984 bytes == 0x19474000 @  0x7f5b083611e7 0x7f5b05ec75e1 0x7f5b05f2bc78 0x7f5b05f2bf37 0x7f5b05fc3f28 0x50a635 0x50cd96 0x507d64 0x509a90 0x50a48d 0x50cd96 0x507d64 0x509a90 0x50a48d 0x50cd96 0x507d64 0x509a90 0x50a48d 0x50bfb4 0x507d64 0x509a90 0x50a48d 0x50cd96 0x507d64 0x509a90 0x50a48d 0x50cd96 0x507d64 0x509a90 0x50a48d 0x50cd96\n",
            "tcmalloc: large alloc 2541993984 bytes == 0xb0cb0000 @  0x7f5b083611e7 0x7f5b05ec75e1 0x7f5b05f2bc78 0x7f5b05f2bf37 0x7f5b05fc3f28 0x50a635 0x50cd96 0x507d64 0x509a90 0x50a48d 0x50cd96 0x507d64 0x509a90 0x50a48d 0x50cd96 0x507d64 0x509a90 0x50a48d 0x50bfb4 0x507d64 0x509a90 0x50a48d 0x50cd96 0x507d64 0x509a90 0x50a48d 0x50cd96 0x507d64 0x509a90 0x50a48d 0x50cd96\n",
            "exp  1 0.7\n",
            "exp  1 0.85\n",
            "exp  14 0.5\n",
            "tcmalloc: large alloc 2835300352 bytes == 0x19474000 @  0x7f5b083611e7 0x7f5b05ec75e1 0x7f5b05f2bc78 0x7f5b05f2bd93 0x7f5b05fc9ea8 0x7f5b05fca704 0x7f5b05fca852 0x566d63 0x59fc4e 0x7f5b05f174ed 0x50a2bf 0x50bfb4 0x507d64 0x509a90 0x50a48d 0x50bfb4 0x507d64 0x588d41 0x59fc4e 0x7f5b05f174ed 0x50a2bf 0x50bfb4 0x507d64 0x509a90 0x50a48d 0x50bfb4 0x507d64 0x509a90 0x50a48d 0x50cd96 0x509758\n",
            "exp  14 0.7\n",
            "exp  14 0.85\n",
            "exp period 7 0.5 7\n",
            "tcmalloc: large alloc 3128606720 bytes == 0x1da2b2000 @  0x7f5b083611e7 0x7f5b05ec75e1 0x7f5b05f2bc78 0x7f5b05f2bd93 0x7f5b05fc9ea8 0x7f5b05fca704 0x7f5b05fca852 0x566d63 0x59fc4e 0x7f5b05f174ed 0x50a2bf 0x50bfb4 0x507d64 0x509a90 0x50a48d 0x50bfb4 0x507d64 0x588d41 0x59fc4e 0x7f5b05f174ed 0x50a2bf 0x50bfb4 0x507d64 0x509a90 0x50a48d 0x50bfb4 0x507d64 0x509a90 0x50a48d 0x50cd96 0x509758\n"
          ],
          "name": "stdout"
        }
      ]
    },
    {
      "cell_type": "code",
      "metadata": {
        "id": "WaH0e8f7hX6K",
        "colab": {
          "base_uri": "https://localhost:8080/",
          "height": 92
        },
        "outputId": "35236812-c940-4a28-d2e3-286eef811fbc"
      },
      "source": [
        "! python feature_generation/convert_csv_to_numpy.py"
      ],
      "execution_count": null,
      "outputs": [
        {
          "output_type": "stream",
          "text": [
            "tcmalloc: large alloc 4790673408 bytes == 0x49d2a000 @  0x7f134f302001 0x7f134ce66765 0x7f134cecabb0 0x7f134cecca4f 0x7f134cf63048 0x50a635 0x50bfb4 0x509758 0x50a48d 0x50bfb4 0x507d64 0x50ae13 0x634c82 0x634d37 0x6384ef 0x639091 0x4b0d00 0x7f134eefdb97 0x5b250a\n",
            "tcmalloc: large alloc 3786702848 bytes == 0x1675e8000 @  0x7f134f3001e7 0x7f134ce665e1 0x7f134cecac78 0x7f134cecad93 0x7f134cf55ed6 0x7f134cf56338 0x50c29e 0x507d64 0x50ae13 0x634c82 0x634d37 0x6384ef 0x639091 0x4b0d00 0x7f134eefdb97 0x5b250a\n",
            "tcmalloc: large alloc 4456022016 bytes == 0x1675e8000 @  0x7f134f3001e7 0x7f134ce665e1 0x7f134cecac78 0x7f134cecad93 0x7f134cf55ed6 0x7f134cf56338 0x50c29e 0x507d64 0x50ae13 0x634c82 0x634d37 0x6384ef 0x639091 0x4b0d00 0x7f134eefdb97 0x5b250a\n"
          ],
          "name": "stdout"
        }
      ]
    },
    {
      "cell_type": "code",
      "metadata": {
        "id": "l7XJFPZKbdRx"
      },
      "source": [
        "import numpy as np"
      ],
      "execution_count": null,
      "outputs": []
    },
    {
      "cell_type": "code",
      "metadata": {
        "id": "hEQIYrr1fXGu"
      },
      "source": [
        "import pickle"
      ],
      "execution_count": null,
      "outputs": []
    },
    {
      "cell_type": "code",
      "metadata": {
        "id": "P_xfDQ1kffbT"
      },
      "source": [
        "from utils.metric_calculation import WRMSSEEvaluator"
      ],
      "execution_count": null,
      "outputs": []
    },
    {
      "cell_type": "code",
      "metadata": {
        "id": "d9GZnJAWhRnh"
      },
      "source": [
        "# здесь хранится соответствие колонок признакам\n",
        "with open('data/final_feature_header.json') as f:\n",
        "    header = json.load(f)\n",
        "\n",
        "target_column = header.index('demand')\n",
        "day_column = header.index('day_as_int')\n",
        "\n",
        "X = {}\n",
        "y = {}\n",
        "\n",
        "for val_type in ['train', 'val', 'test']:\n",
        "    X[val_type] = np.load(f'data/X_{val_type}_validation.npy')\n",
        "    y[val_type] = np.copy(X[val_type][:, target_column])"
      ],
      "execution_count": null,
      "outputs": []
    },
    {
      "cell_type": "code",
      "metadata": {
        "id": "DepOpU6zhWcZ"
      },
      "source": [
        "# загрузка вспомогательных сущностей\n",
        "\n",
        "# соответствие категориальных фичей их кодам\n",
        "with open('data/label_codes_dict.json', 'rb') as f:\n",
        "    label_codes_dict = json.load(f)\n",
        "\n",
        "# эвалюаторы\n",
        "with open('evaluators/valid_evaluator.pkl', 'rb') as f:\n",
        "    val_evaluator = pickle.load(f)\n",
        "    \n",
        "with open('evaluators/test_evaluator.pkl', 'rb') as f:\n",
        "    test_evaluator = pickle.load(f)"
      ],
      "execution_count": null,
      "outputs": []
    },
    {
      "cell_type": "code",
      "metadata": {
        "id": "zwk8NZVMfLai"
      },
      "source": [
        "feature_index = list(range(5)) + list(range(7, 18)) + list(range(20, len(header)))"
      ],
      "execution_count": null,
      "outputs": []
    },
    {
      "cell_type": "code",
      "metadata": {
        "id": "r4SnRY-xf_Ui"
      },
      "source": [
        "from lightgbm import LGBMRegressor"
      ],
      "execution_count": null,
      "outputs": []
    },
    {
      "cell_type": "code",
      "metadata": {
        "id": "iwo2fKwPkFBM",
        "colab": {
          "base_uri": "https://localhost:8080/",
          "height": 1000
        },
        "outputId": "f74462e5-e95c-4ffa-b02a-d68bbb98c89c"
      },
      "source": [
        "regressor = LGBMRegressor(\n",
        "    n_estimators=500,\n",
        "    learning_rate=0.1,\n",
        "    num_leaves=19,\n",
        "    objective='mse',\n",
        "    metric=\"None\"\n",
        ")\n",
        "wrmsse_val_eval_metric = WRMSSEEvalMetric(\n",
        "    val_evaluator,\n",
        "    ids,\n",
        "    verbose_step=10\n",
        ")\n",
        "regressor.fit(\n",
        "   X['train'][:, feature_index], y['train'],\n",
        "   eval_set=[(X['val'][:, feature_index], y['val'])],\n",
        "   eval_metric=wrmsse_val_eval_metric,\n",
        "   early_stopping_rounds=50,\n",
        "   verbose=10,\n",
        ")"
      ],
      "execution_count": null,
      "outputs": [
        {
          "output_type": "stream",
          "text": [
            "Training until validation scores don't improve for 50 rounds.\n",
            "[10]\tvalid_0's WRMSSE: 2.14457\n",
            "[20]\tvalid_0's WRMSSE: 1.23637\n",
            "[30]\tvalid_0's WRMSSE: 0.92745\n",
            "[40]\tvalid_0's WRMSSE: 0.796905\n",
            "[50]\tvalid_0's WRMSSE: 0.738645\n",
            "[60]\tvalid_0's WRMSSE: 0.705954\n",
            "[70]\tvalid_0's WRMSSE: 0.672542\n",
            "[80]\tvalid_0's WRMSSE: 0.658003\n",
            "[90]\tvalid_0's WRMSSE: 0.651263\n",
            "[100]\tvalid_0's WRMSSE: 0.645419\n",
            "[110]\tvalid_0's WRMSSE: 0.64389\n",
            "[120]\tvalid_0's WRMSSE: 0.641796\n",
            "[130]\tvalid_0's WRMSSE: 0.639633\n",
            "[140]\tvalid_0's WRMSSE: 0.638194\n",
            "[150]\tvalid_0's WRMSSE: 0.634799\n",
            "[160]\tvalid_0's WRMSSE: 0.631466\n",
            "[170]\tvalid_0's WRMSSE: 0.629713\n",
            "[180]\tvalid_0's WRMSSE: 0.628007\n",
            "[190]\tvalid_0's WRMSSE: 0.627192\n",
            "[200]\tvalid_0's WRMSSE: 0.62594\n",
            "[210]\tvalid_0's WRMSSE: 0.62499\n",
            "[220]\tvalid_0's WRMSSE: 0.624935\n",
            "[230]\tvalid_0's WRMSSE: 0.624303\n",
            "[240]\tvalid_0's WRMSSE: 0.624247\n",
            "[250]\tvalid_0's WRMSSE: 0.623831\n",
            "[260]\tvalid_0's WRMSSE: 0.6238\n",
            "[270]\tvalid_0's WRMSSE: 0.623123\n",
            "[280]\tvalid_0's WRMSSE: 0.623807\n",
            "[290]\tvalid_0's WRMSSE: 0.623052\n",
            "[300]\tvalid_0's WRMSSE: 0.622503\n",
            "[310]\tvalid_0's WRMSSE: 0.621627\n",
            "[320]\tvalid_0's WRMSSE: 0.621687\n",
            "[330]\tvalid_0's WRMSSE: 0.62104\n",
            "[340]\tvalid_0's WRMSSE: 0.62114\n",
            "[350]\tvalid_0's WRMSSE: 0.621504\n",
            "[360]\tvalid_0's WRMSSE: 0.621324\n",
            "[370]\tvalid_0's WRMSSE: 0.620271\n",
            "[380]\tvalid_0's WRMSSE: 0.618615\n",
            "[390]\tvalid_0's WRMSSE: 0.618043\n",
            "[400]\tvalid_0's WRMSSE: 0.617912\n",
            "[410]\tvalid_0's WRMSSE: 0.617885\n",
            "[420]\tvalid_0's WRMSSE: 0.617842\n",
            "[430]\tvalid_0's WRMSSE: 0.617461\n",
            "[440]\tvalid_0's WRMSSE: 0.617413\n",
            "[450]\tvalid_0's WRMSSE: 0.617267\n",
            "[460]\tvalid_0's WRMSSE: 0.616761\n",
            "[470]\tvalid_0's WRMSSE: 0.616383\n",
            "[480]\tvalid_0's WRMSSE: 0.616391\n",
            "[490]\tvalid_0's WRMSSE: 0.616246\n",
            "[500]\tvalid_0's WRMSSE: 0.615897\n",
            "Did not meet early stopping. Best iteration is:\n",
            "[491]\tvalid_0's WRMSSE: 0.615897\n"
          ],
          "name": "stdout"
        },
        {
          "output_type": "execute_result",
          "data": {
            "text/plain": [
              "LGBMRegressor(boosting_type='gbdt', class_weight=None, colsample_bytree=1.0,\n",
              "              importance_type='split', learning_rate=0.1, max_depth=-1,\n",
              "              metric='None', min_child_samples=20, min_child_weight=0.001,\n",
              "              min_split_gain=0.0, n_estimators=500, n_jobs=-1, num_leaves=19,\n",
              "              objective='mse', random_state=None, reg_alpha=0.0, reg_lambda=0.0,\n",
              "              silent=True, subsample=1.0, subsample_for_bin=200000,\n",
              "              subsample_freq=0)"
            ]
          },
          "metadata": {
            "tags": []
          },
          "execution_count": 69
        }
      ]
    },
    {
      "cell_type": "code",
      "metadata": {
        "id": "-jDpmymmY30v"
      },
      "source": [
        "wrmsse_test_eval_metric = WRMSSEEvalMetric(\n",
        "    test_evaluator,\n",
        "    ids,\n",
        "    verbose_step=10\n",
        ")"
      ],
      "execution_count": null,
      "outputs": []
    },
    {
      "cell_type": "code",
      "metadata": {
        "id": "kzVuqDfj3peA",
        "colab": {
          "base_uri": "https://localhost:8080/",
          "height": 35
        },
        "outputId": "0fb52dd2-7703-4967-c4f3-d0982388a977"
      },
      "source": [
        "y_pred = regressor.predict(X['test'][:, feature_index])\n",
        "wrmsse_test_eval_metric(0, y_pred)"
      ],
      "execution_count": null,
      "outputs": [
        {
          "output_type": "execute_result",
          "data": {
            "text/plain": [
              "('WRMSSE', 0.525254585889248, False)"
            ]
          },
          "metadata": {
            "tags": []
          },
          "execution_count": 71
        }
      ]
    },
    {
      "cell_type": "code",
      "metadata": {
        "id": "IJ43xziX44ur",
        "colab": {
          "base_uri": "https://localhost:8080/",
          "height": 35
        },
        "outputId": "47939ba6-800c-4e4d-85b6-126cb28a719a"
      },
      "source": [
        "rp = RecursivePredictor(header, regressor, label_codes_dict, 1540, feature_index)\n",
        "y_pred = rp.get_recursive_prediction(X['test'])\n",
        "wrmsse_test_eval_metric = WRMSSEEvalMetric(\n",
        "    test_evaluator,\n",
        "    label_codes_dict,\n",
        "    verbose_step=10\n",
        ")\n",
        "wrmsse_test_eval_metric(0, y_pred)"
      ],
      "execution_count": null,
      "outputs": [
        {
          "output_type": "execute_result",
          "data": {
            "text/plain": [
              "('WRMSSE', 0.6144906504492261, False)"
            ]
          },
          "metadata": {
            "tags": []
          },
          "execution_count": 72
        }
      ]
    },
    {
      "cell_type": "code",
      "metadata": {
        "id": "gyfOoLl9kQKE"
      },
      "source": [
        "X_train = np.load(f'data/X_train_evaluation.npy')"
      ],
      "execution_count": null,
      "outputs": []
    },
    {
      "cell_type": "code",
      "metadata": {
        "id": "Sd5LtMwK-B_m"
      },
      "source": [
        "X_test = np.load(f'data/X_test_evaluation.npy')"
      ],
      "execution_count": null,
      "outputs": []
    },
    {
      "cell_type": "code",
      "metadata": {
        "id": "Hwm5xKB3-eY4"
      },
      "source": [
        "y = X_train[:, 5]"
      ],
      "execution_count": null,
      "outputs": []
    },
    {
      "cell_type": "code",
      "metadata": {
        "id": "KnDMVO3h-p_p"
      },
      "source": [
        "regressor = LGBMRegressor(\n",
        "    n_estimators=500,\n",
        "    learning_rate=0.1,\n",
        "    num_leaves=19,\n",
        "    objective='mse',\n",
        "    metric=\"None\"\n",
        ")"
      ],
      "execution_count": null,
      "outputs": []
    },
    {
      "cell_type": "code",
      "metadata": {
        "id": "G0QTrlzy-t4j",
        "colab": {
          "base_uri": "https://localhost:8080/",
          "height": 146
        },
        "outputId": "0a892fe7-b972-4b4a-bae2-b7f55c46f7bb"
      },
      "source": [
        "regressor.fit(\n",
        "   X_train[:, feature_index], y\n",
        ")"
      ],
      "execution_count": null,
      "outputs": [
        {
          "output_type": "execute_result",
          "data": {
            "text/plain": [
              "LGBMRegressor(boosting_type='gbdt', class_weight=None, colsample_bytree=1.0,\n",
              "              importance_type='split', learning_rate=0.1, max_depth=-1,\n",
              "              metric='None', min_child_samples=20, min_child_weight=0.001,\n",
              "              min_split_gain=0.0, n_estimators=500, n_jobs=-1, num_leaves=19,\n",
              "              objective='mse', random_state=None, reg_alpha=0.0, reg_lambda=0.0,\n",
              "              silent=True, subsample=1.0, subsample_for_bin=200000,\n",
              "              subsample_freq=0)"
            ]
          },
          "metadata": {
            "tags": []
          },
          "execution_count": 80
        }
      ]
    },
    {
      "cell_type": "code",
      "metadata": {
        "id": "m7_iyZhp-29I"
      },
      "source": [
        "rp = RecursivePredictor(header, regressor, label_codes_dict, 1540, feature_index)"
      ],
      "execution_count": null,
      "outputs": []
    },
    {
      "cell_type": "code",
      "metadata": {
        "id": "1zTxeWYk-62c"
      },
      "source": [
        "y_pred = rp.get_recursive_prediction(X_test)"
      ],
      "execution_count": null,
      "outputs": []
    },
    {
      "cell_type": "code",
      "metadata": {
        "id": "HxHEjHQLBGZ6"
      },
      "source": [
        "import pandas as pd"
      ],
      "execution_count": null,
      "outputs": []
    },
    {
      "cell_type": "code",
      "metadata": {
        "id": "GLmxAyrvBLMZ"
      },
      "source": [
        "submit = pd.read_csv('sample_submission.csv')"
      ],
      "execution_count": null,
      "outputs": []
    },
    {
      "cell_type": "code",
      "metadata": {
        "id": "dfp_FAIQBXqt"
      },
      "source": [
        "submit.iloc[:30490, 1:29] = y_pred.reshape(-1, 28)[ids]"
      ],
      "execution_count": null,
      "outputs": []
    },
    {
      "cell_type": "code",
      "metadata": {
        "id": "5Mah6x1OCrwO"
      },
      "source": [
        "submit.to_csv('submit.csv')"
      ],
      "execution_count": null,
      "outputs": []
    }
  ]
}