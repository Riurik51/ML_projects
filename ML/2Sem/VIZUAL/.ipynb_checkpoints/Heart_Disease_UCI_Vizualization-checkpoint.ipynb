{
 "cells": [
  {
   "cell_type": "markdown",
   "metadata": {},
   "source": [
    "# Некоторые визуализации по следам лекций Александра Геннадьевича Дьяконова в Ozon Masters"
   ]
  },
  {
   "cell_type": "code",
   "execution_count": 2,
   "metadata": {},
   "outputs": [],
   "source": [
    "from scipy.sparse.linalg import svds\n",
    "import pandas as pd\n",
    "import numpy as np\n",
    "from scipy.stats import gaussian_kde\n",
    "from matplotlib.cm import ScalarMappable"
   ]
  },
  {
   "cell_type": "markdown",
   "metadata": {},
   "source": [
    "Рассмотрим визуализации на прмере датасета Heart Disease UCI https://www.kaggle.com/ronitf/heart-disease-uci"
   ]
  },
  {
   "cell_type": "code",
   "execution_count": 3,
   "metadata": {},
   "outputs": [],
   "source": [
    "df = pd.read_csv('heart.csv')"
   ]
  },
  {
   "cell_type": "code",
   "execution_count": 4,
   "metadata": {},
   "outputs": [],
   "source": [
    "import matplotlib.pyplot as plt\n",
    "%matplotlib inline"
   ]
  },
  {
   "cell_type": "markdown",
   "metadata": {},
   "source": [
    "Далее несколько функций, которые помогут нам в визуализации."
   ]
  },
  {
   "cell_type": "code",
   "execution_count": 25,
   "metadata": {},
   "outputs": [],
   "source": [
    "def make_clips(data, name):\n",
    "    return (data[name].clip(lower=data[name].quantile(0.01),\n",
    "upper=data[name].quantile(0.99)).values)\n",
    "\n",
    "def drow_hist(df, feature, bins=None, title='bar_hist', width=0.7, x_labels=None, density=True, clip=False):\n",
    "    '''\n",
    "    x - data\n",
    "    '''\n",
    "    if clip:\n",
    "        x = make_clips(df, feature)[feature]\n",
    "    else:\n",
    "        x = df[feature]\n",
    "    fig, ax = plt.subplots(figsize=(9, 6))\n",
    "    y = np.unique(x, return_counts=True)\n",
    "    if y[0].shape[0] < 20:\n",
    "        ax.bar(y[0], y[1], width, color='b')\n",
    "        ax.set_xticks(y[0])\n",
    "        for i in range(y[0].shape[0]):\n",
    "            ax.annotate('{}'.format(y[1][i]),\n",
    "                        xy=(y[0][i], y[1][i]),\n",
    "                        xytext=(0, 3),  \n",
    "                        textcoords=\"offset points\",\n",
    "                        ha='center', va='bottom')\n",
    "        if x_labels:\n",
    "            ax.set_xticklabels(x_labels)\n",
    "    else:\n",
    "        if not bins:\n",
    "            bins = int(x.shape[0] / 10)\n",
    "        if density:\n",
    "            ax.hist(x, bins, density=True)\n",
    "            density = gaussian_kde(x)\n",
    "            xs = np.linspace(x.min(), x.max(), 200)\n",
    "            density.covariance_factor = lambda : .25\n",
    "            density._compute_covariance()\n",
    "            plt.plot(xs,density(xs))\n",
    "        else:\n",
    "            ax.hist(x, bins)\n",
    "    ax.set_xlabel(feature)\n",
    "    ax.set_title(title)\n",
    "    fig.tight_layout()\n",
    "    plt.show()"
   ]
  },
  {
   "cell_type": "code",
   "execution_count": 6,
   "metadata": {},
   "outputs": [],
   "source": [
    "def drow_hist_with_target(df, feature, target, title='bar', width=0.7, x_labels=None, clip=False):\n",
    "    '''\n",
    "    For 0, 1 target\n",
    "    feature, target - columns names\n",
    "    '''\n",
    "    if clip:\n",
    "        df = make_clips(df, feature)\n",
    "    x = np.unique(df[feature], return_counts=True)\n",
    "    y = df[[feature, target]].groupby([feature]).sum()[target]\n",
    "    fig, ax = plt.subplots(figsize=(9, 6))\n",
    "    ax.bar(x[0], x[1], width, label='0', color='b')\n",
    "    ax.bar(x[0], y, width, label='1', color='m')\n",
    "    ax.set_xticks(x[0])\n",
    "    for i in range(x[0].shape[0]):\n",
    "        ax.annotate('{}'.format(x[1][i]),\n",
    "                    xy=(x[0][i], x[1][i]),\n",
    "                    xytext=(0, 3),  \n",
    "                    textcoords=\"offset points\",\n",
    "                    ha='center', va='bottom')\n",
    "\n",
    "    if x_labels:\n",
    "        ax.set_xticklabels(x_labels)\n",
    "    ax.set_title(title)\n",
    "    ax.legend()\n",
    "    fig.tight_layout()\n",
    "    plt.show()"
   ]
  },
  {
   "cell_type": "code",
   "execution_count": 7,
   "metadata": {},
   "outputs": [],
   "source": [
    "def drow_train_test_density(df_train, df_test, feature):\n",
    "    fig, ax = plt.subplots(figsize=(9, 6))\n",
    "    x_train = df_train[feature]\n",
    "    density = gaussian_kde(x_train)\n",
    "    xs = np.linspace(x_train.min(), x_train.max(), 200)\n",
    "    density.covariance_factor = lambda : .25\n",
    "    density._compute_covariance()\n",
    "    ax.plot(xs, density(xs), label='train', color='b')\n",
    "    x_test = df_test[feature]\n",
    "    density = gaussian_kde(x_test)\n",
    "    xs = np.linspace(x_test.min(), x_test.max(), 200)\n",
    "    density.covariance_factor = lambda : .25\n",
    "    density._compute_covariance()\n",
    "    ax.plot(xs, density(xs), label='test', color='r')\n",
    "    ax.legend()\n",
    "    fig.tight_layout()\n",
    "    plt.show()"
   ]
  },
  {
   "cell_type": "code",
   "execution_count": 8,
   "metadata": {},
   "outputs": [],
   "source": [
    "def drow_feature_statistic(df, statistic='mean', size=50):\n",
    "    '''\n",
    "    for df with numeric features\n",
    "    '''\n",
    "    fig, ax = plt.subplots(figsize=(9, 6))\n",
    "    x = np.arange(df.shape[1])\n",
    "    if statistic == 'mean':\n",
    "        y = np.nanmean(df, axis=0)\n",
    "        ax.set_ylabel('mean')\n",
    "    if statistic == 'std':\n",
    "        y = np.nanstd(df, axis=0)\n",
    "        ax.set_ylabel('std')\n",
    "    if statistic == 'median':\n",
    "        y = np.nanmedian(df, axis=0)\n",
    "        ax.set_ylabel('median')\n",
    "    if statistic == 'var':\n",
    "        y = np.nanvar(df, axis=0)\n",
    "        ax.set_ylabel('std')\n",
    "    ax.scatter(x, y, size)\n",
    "    ax.set_xlabel('Num of feauter')\n",
    "    fig.tight_layout()\n",
    "    plt.show()"
   ]
  },
  {
   "cell_type": "code",
   "execution_count": 9,
   "metadata": {},
   "outputs": [],
   "source": [
    "def drow_targets_by_features(df, feature_1, feature_2, target, size=50, shum_1=0, shum_2=0):\n",
    "    fig, ax = plt.subplots(figsize=(9, 6))\n",
    "    color_dic = {\n",
    "        0: 'r',\n",
    "        1: 'b'}\n",
    "    classes = df[target].unique()\n",
    "    for cl in classes:\n",
    "        df_class = df[df[target] == cl]\n",
    "        ax.scatter(df_class[feature_1] +\n",
    "                       np.random.rand(df_class.shape[0]) *\n",
    "                       (max(df_class[feature_1]) - min(df_class[feature_1])) *\n",
    "                       shum_1,\n",
    "                   df_class[feature_2] +\n",
    "                       np.random.rand(df_class.shape[0]) * \n",
    "                       (max(df_class[feature_2]) - min(df_class[feature_2])) *\n",
    "                       shum_2,\n",
    "                   s=size,\n",
    "                   c=color_dic[cl],\n",
    "                   label=f'{cl}')\n",
    "    ax.set_xlabel(feature_1)\n",
    "    ax.set_ylabel(feature_2)\n",
    "    ax.legend()\n",
    "    fig.tight_layout()\n",
    "    plt.show()"
   ]
  },
  {
   "cell_type": "code",
   "execution_count": 10,
   "metadata": {},
   "outputs": [],
   "source": [
    "def drow_correlations(df):\n",
    "    fig, ax = plt.subplots(figsize=(9, 6))\n",
    "    cr = df.corr()\n",
    "    ii, _, _ = svds(cr, k=1)\n",
    "    ii = np.argsort(ii[:,0])\n",
    "    ax.imshow(cr.iloc[ii, ii], interpolation='none')\n",
    "    ax.set_xticks(np.arange(cr.shape[0]))\n",
    "    ax.set_yticks(np.arange(cr.shape[1]))\n",
    "    ax.set_xticklabels(df.columns[ii])\n",
    "    ax.set_yticklabels(df.columns[ii])\n",
    "    plt.setp(ax.get_xticklabels(), rotation=45, ha=\"right\",\n",
    "         rotation_mode=\"anchor\")\n",
    "    fig.colorbar(ScalarMappable(), ax=ax)\n",
    "    fig.tight_layout()\n",
    "    plt.show()"
   ]
  },
  {
   "cell_type": "code",
   "execution_count": 11,
   "metadata": {},
   "outputs": [
    {
     "data": {
      "text/plain": [
       "Index(['age', 'sex', 'cp', 'trestbps', 'chol', 'fbs', 'restecg', 'thalach',\n",
       "       'exang', 'oldpeak', 'slope', 'ca', 'thal', 'target'],\n",
       "      dtype='object')"
      ]
     },
     "execution_count": 11,
     "metadata": {},
     "output_type": "execute_result"
    }
   ],
   "source": [
    "df.columns"
   ]
  },
  {
   "cell_type": "code",
   "execution_count": 23,
   "metadata": {},
   "outputs": [
    {
     "data": {
      "image/png": "[encoded data removed]",
      "text/plain": [
       "<Figure size 648x432 with 1 Axes>"
      ]
     },
     "metadata": {
      "needs_background": "light"
     },
     "output_type": "display_data"
    }
   ],
   "source": [
    "drow_hist(df, 'age', title='Распределение возраста', density=True)"
   ]
  },
  {
   "cell_type": "code",
   "execution_count": 31,
   "metadata": {},
   "outputs": [
    {
     "data": {
      "image/png": "[encoded data removed]",
      "text/plain": [
       "<Figure size 648x432 with 1 Axes>"
      ]
     },
     "metadata": {
      "needs_background": "light"
     },
     "output_type": "display_data"
    }
   ],
   "source": [
    "drow_hist(df, 'trestbps', bins=100, title='Кровяное Давление')"
   ]
  },
  {
   "cell_type": "markdown",
   "metadata": {},
   "source": [
    "На этой диаграмме заметны преобладание круглых чисел - 100, 120, 140 - скорее всего замеры делали врачи, округляющие значения, возможно получится использовать эту информацию =)"
   ]
  },
  {
   "cell_type": "markdown",
   "metadata": {},
   "source": [
    "Следующие диаграммы категориальных признаков показывают что они сами неплохо разделяют таргет."
   ]
  },
  {
   "cell_type": "code",
   "execution_count": 52,
   "metadata": {},
   "outputs": [
    {
     "ename": "SyntaxError",
     "evalue": "positional argument follows keyword argument (<ipython-input-52-fb4933cd0fd4>, line 1)",
     "output_type": "error",
     "traceback": [
      "\u001b[0;36m  File \u001b[0;32m\"<ipython-input-52-fb4933cd0fd4>\"\u001b[0;36m, line \u001b[0;32m1\u001b[0m\n\u001b[0;31m    drow_hist_with_target(df, title='стенокардия, вызванная физической нагрузкой', 'exang', 'target')\u001b[0m\n\u001b[0m                                                                                                     \n^\u001b[0m\n\u001b[0;31mSyntaxError\u001b[0m\u001b[0;31m:\u001b[0m positional argument follows keyword argument\n"
     ]
    }
   ],
   "source": [
    "drow_hist_with_target(df, title='стенокардия, вызванная физической нагрузкой', 'exang', 'target')"
   ]
  },
  {
   "cell_type": "code",
   "execution_count": 50,
   "metadata": {},
   "outputs": [
    {
     "data": {
      "image/png": "[encoded data removed]",
      "text/plain": [
       "<Figure size 648x432 with 1 Axes>"
      ]
     },
     "metadata": {
      "needs_background": "light"
     },
     "output_type": "display_data"
    }
   ],
   "source": [
    "drow_hist_with_target(df, 'slope', 'target')"
   ]
  },
  {
   "cell_type": "code",
   "execution_count": 51,
   "metadata": {},
   "outputs": [
    {
     "data": {
      "image/png": "[encoded data removed]",
      "text/plain": [
       "<Figure size 648x432 with 1 Axes>"
      ]
     },
     "metadata": {
      "needs_background": "light"
     },
     "output_type": "display_data"
    }
   ],
   "source": [
    "drow_hist_with_target(df, 'ca', 'target')"
   ]
  },
  {
   "cell_type": "code",
   "execution_count": null,
   "metadata": {},
   "outputs": [],
   "source": []
  }
 ],
 "metadata": {
  "kernelspec": {
   "display_name": "Python 3",
   "language": "python",
   "name": "python3"
  },
  "language_info": {
   "codemirror_mode": {
    "name": "ipython",
    "version": 3
   },
   "file_extension": ".py",
   "mimetype": "text/x-python",
   "name": "python",
   "nbconvert_exporter": "python",
   "pygments_lexer": "ipython3",
   "version": "3.7.3"
  }
 },
 "nbformat": 4,
 "nbformat_minor": 2
}
