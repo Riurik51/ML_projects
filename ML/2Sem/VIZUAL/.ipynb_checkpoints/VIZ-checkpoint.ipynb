{
 "cells": [
  {
   "cell_type": "code",
   "execution_count": 90,
   "metadata": {},
   "outputs": [],
   "source": [
    "import pandas as pd\n",
    "import numpy as np\n",
    "from scipy.stats import gaussian_kde"
   ]
  },
  {
   "cell_type": "code",
   "execution_count": 5,
   "metadata": {},
   "outputs": [],
   "source": [
    "df = pd.read_csv('heart.csv')"
   ]
  },
  {
   "cell_type": "code",
   "execution_count": 6,
   "metadata": {
    "scrolled": true
   },
   "outputs": [
    {
     "data": {
      "text/html": [
       "<div>\n",
       "<style scoped>\n",
       "    .dataframe tbody tr th:only-of-type {\n",
       "        vertical-align: middle;\n",
       "    }\n",
       "\n",
       "    .dataframe tbody tr th {\n",
       "        vertical-align: top;\n",
       "    }\n",
       "\n",
       "    .dataframe thead th {\n",
       "        text-align: right;\n",
       "    }\n",
       "</style>\n",
       "<table border=\"1\" class=\"dataframe\">\n",
       "  <thead>\n",
       "    <tr style=\"text-align: right;\">\n",
       "      <th></th>\n",
       "      <th>age</th>\n",
       "      <th>sex</th>\n",
       "      <th>cp</th>\n",
       "      <th>trestbps</th>\n",
       "      <th>chol</th>\n",
       "      <th>fbs</th>\n",
       "      <th>restecg</th>\n",
       "      <th>thalach</th>\n",
       "      <th>exang</th>\n",
       "      <th>oldpeak</th>\n",
       "      <th>slope</th>\n",
       "      <th>ca</th>\n",
       "      <th>thal</th>\n",
       "      <th>target</th>\n",
       "    </tr>\n",
       "  </thead>\n",
       "  <tbody>\n",
       "    <tr>\n",
       "      <th>0</th>\n",
       "      <td>63</td>\n",
       "      <td>1</td>\n",
       "      <td>3</td>\n",
       "      <td>145</td>\n",
       "      <td>233</td>\n",
       "      <td>1</td>\n",
       "      <td>0</td>\n",
       "      <td>150</td>\n",
       "      <td>0</td>\n",
       "      <td>2.3</td>\n",
       "      <td>0</td>\n",
       "      <td>0</td>\n",
       "      <td>1</td>\n",
       "      <td>1</td>\n",
       "    </tr>\n",
       "    <tr>\n",
       "      <th>1</th>\n",
       "      <td>37</td>\n",
       "      <td>1</td>\n",
       "      <td>2</td>\n",
       "      <td>130</td>\n",
       "      <td>250</td>\n",
       "      <td>0</td>\n",
       "      <td>1</td>\n",
       "      <td>187</td>\n",
       "      <td>0</td>\n",
       "      <td>3.5</td>\n",
       "      <td>0</td>\n",
       "      <td>0</td>\n",
       "      <td>2</td>\n",
       "      <td>1</td>\n",
       "    </tr>\n",
       "    <tr>\n",
       "      <th>2</th>\n",
       "      <td>41</td>\n",
       "      <td>0</td>\n",
       "      <td>1</td>\n",
       "      <td>130</td>\n",
       "      <td>204</td>\n",
       "      <td>0</td>\n",
       "      <td>0</td>\n",
       "      <td>172</td>\n",
       "      <td>0</td>\n",
       "      <td>1.4</td>\n",
       "      <td>2</td>\n",
       "      <td>0</td>\n",
       "      <td>2</td>\n",
       "      <td>1</td>\n",
       "    </tr>\n",
       "    <tr>\n",
       "      <th>3</th>\n",
       "      <td>56</td>\n",
       "      <td>1</td>\n",
       "      <td>1</td>\n",
       "      <td>120</td>\n",
       "      <td>236</td>\n",
       "      <td>0</td>\n",
       "      <td>1</td>\n",
       "      <td>178</td>\n",
       "      <td>0</td>\n",
       "      <td>0.8</td>\n",
       "      <td>2</td>\n",
       "      <td>0</td>\n",
       "      <td>2</td>\n",
       "      <td>1</td>\n",
       "    </tr>\n",
       "    <tr>\n",
       "      <th>4</th>\n",
       "      <td>57</td>\n",
       "      <td>0</td>\n",
       "      <td>0</td>\n",
       "      <td>120</td>\n",
       "      <td>354</td>\n",
       "      <td>0</td>\n",
       "      <td>1</td>\n",
       "      <td>163</td>\n",
       "      <td>1</td>\n",
       "      <td>0.6</td>\n",
       "      <td>2</td>\n",
       "      <td>0</td>\n",
       "      <td>2</td>\n",
       "      <td>1</td>\n",
       "    </tr>\n",
       "  </tbody>\n",
       "</table>\n",
       "</div>"
      ],
      "text/plain": [
       "   age  sex  cp  trestbps  chol  fbs  restecg  thalach  exang  oldpeak  slope  \\\n",
       "0   63    1   3       145   233    1        0      150      0      2.3      0   \n",
       "1   37    1   2       130   250    0        1      187      0      3.5      0   \n",
       "2   41    0   1       130   204    0        0      172      0      1.4      2   \n",
       "3   56    1   1       120   236    0        1      178      0      0.8      2   \n",
       "4   57    0   0       120   354    0        1      163      1      0.6      2   \n",
       "\n",
       "   ca  thal  target  \n",
       "0   0     1       1  \n",
       "1   0     2       1  \n",
       "2   0     2       1  \n",
       "3   0     2       1  \n",
       "4   0     2       1  "
      ]
     },
     "execution_count": 6,
     "metadata": {},
     "output_type": "execute_result"
    }
   ],
   "source": [
    "df.head()"
   ]
  },
  {
   "cell_type": "code",
   "execution_count": 55,
   "metadata": {},
   "outputs": [
    {
     "name": "stdout",
     "output_type": "stream",
     "text": [
      "<class 'pandas.core.frame.DataFrame'>\n",
      "RangeIndex: 303 entries, 0 to 302\n",
      "Data columns (total 14 columns):\n",
      "age         303 non-null int64\n",
      "sex         303 non-null int64\n",
      "cp          303 non-null int64\n",
      "trestbps    303 non-null int64\n",
      "chol        303 non-null int64\n",
      "fbs         303 non-null int64\n",
      "restecg     303 non-null int64\n",
      "thalach     303 non-null int64\n",
      "exang       303 non-null int64\n",
      "oldpeak     303 non-null float64\n",
      "slope       303 non-null int64\n",
      "ca          303 non-null int64\n",
      "thal        303 non-null int64\n",
      "target      303 non-null int64\n",
      "dtypes: float64(1), int64(13)\n",
      "memory usage: 33.3 KB\n"
     ]
    }
   ],
   "source": [
    "df.info()"
   ]
  },
  {
   "cell_type": "code",
   "execution_count": 7,
   "metadata": {},
   "outputs": [],
   "source": [
    "import matplotlib.pyplot as plt\n",
    "%matplotlib inline"
   ]
  },
  {
   "cell_type": "code",
   "execution_count": 154,
   "metadata": {},
   "outputs": [],
   "source": [
    "def make_clips(data, name):\n",
    "    return (data[name].clip(lower=data[name].quantile(0.01),\n",
    "upper=data[name].quantile(0.99)).values)\n",
    "\n",
    "def drow_hist(df, feature, bins=None, title='bar_hist', width=0.7, x_labels=None, density=True, clip=False):\n",
    "    '''\n",
    "    x - data\n",
    "    '''\n",
    "    if clip:\n",
    "        x = make_clips(df, feature)[feature]\n",
    "    else:\n",
    "        x = df[feature]\n",
    "    fig, ax = plt.subplots(figsize=(9, 6))\n",
    "    y = np.unique(x, return_counts=True)\n",
    "    if y[0].shape[0] < 20:\n",
    "        ax.bar(y[0], y[1], width, color='r')\n",
    "        ax.set_xticks(y[0])\n",
    "        for i in range(y[0].shape[0]):\n",
    "            ax.annotate('{}'.format(y[1][i]),\n",
    "                        xy=(y[0][i], y[1][i]),\n",
    "                        xytext=(0, 3),  \n",
    "                        textcoords=\"offset points\",\n",
    "                        ha='center', va='bottom')\n",
    "        if x_labels:\n",
    "            ax.set_xticklabels(x_labels)\n",
    "    else:\n",
    "        if not bins:\n",
    "            bins = int(x.shape[0] / 3)\n",
    "        if density:\n",
    "            ax.hist(x, bins, density=True)\n",
    "            density = gaussian_kde(x)\n",
    "            xs = np.linspace(x.min(), x.max(), 200)\n",
    "            density.covariance_factor = lambda : .25\n",
    "            density._compute_covariance()\n",
    "            plt.plot(xs,density(xs))\n",
    "        else:\n",
    "            ax.hist(x, bins)\n",
    "    ax.set_title(title)\n",
    "    fig.tight_layout()\n",
    "    plt.show()"
   ]
  },
  {
   "cell_type": "code",
   "execution_count": 155,
   "metadata": {},
   "outputs": [],
   "source": [
    "def drow_hist_with_target(df, feature, target, title='bar', width=0.7, x_labels=None, clip=False):\n",
    "    '''\n",
    "    For 0, 1 target\n",
    "    feature, target - columns names\n",
    "    '''\n",
    "    if clip:\n",
    "        df = make_clips(df, feature)\n",
    "    x = np.unique(df[feature], return_counts=True)\n",
    "    y = df[[feature, target]].groupby([feature]).sum()[target]\n",
    "    fig, ax = plt.subplots(figsize=(9, 6))\n",
    "    ax.bar(x[0], x[1], width, label='0', color='b')\n",
    "    ax.bar(x[0], y, width, label='1', color='m')\n",
    "    ax.set_xticks(x[0])\n",
    "    for i in range(x[0].shape[0]):\n",
    "        ax.annotate('{}'.format(x[1][i]),\n",
    "                    xy=(x[0][i], x[1][i]),\n",
    "                    xytext=(0, 3),  \n",
    "                    textcoords=\"offset points\",\n",
    "                    ha='center', va='bottom')\n",
    "\n",
    "    if x_labels:\n",
    "        ax.set_xticklabels(x_labels)\n",
    "    ax.legend()\n",
    "    fig.tight_layout()\n",
    "    plt.show()"
   ]
  },
  {
   "cell_type": "code",
   "execution_count": 113,
   "metadata": {},
   "outputs": [],
   "source": [
    "def drow_train_test_density(df_train, df_test, feature):\n",
    "    fig, ax = plt.subplots(figsize=(9, 6))\n",
    "    x_train = df_train[feature]\n",
    "    density = gaussian_kde(x_train)\n",
    "    xs = np.linspace(x_train.min(), x_train.max(), 200)\n",
    "    density.covariance_factor = lambda : .25\n",
    "    density._compute_covariance()\n",
    "    ax.plot(xs, density(xs), label='train', color='b')\n",
    "    x_test = df_test[feature]\n",
    "    density = gaussian_kde(x_test)\n",
    "    xs = np.linspace(x_test.min(), x_test.max(), 200)\n",
    "    density.covariance_factor = lambda : .25\n",
    "    density._compute_covariance()\n",
    "    ax.plot(xs, density(xs), label='test', color='r')\n",
    "    ax.legend()\n",
    "    fig.tight_layout()\n",
    "    plt.show()"
   ]
  },
  {
   "cell_type": "code",
   "execution_count": 152,
   "metadata": {},
   "outputs": [],
   "source": [
    "def drow_feature_statistic(df, statistic='mean', size=50):\n",
    "    '''\n",
    "    for df with numeric features\n",
    "    '''\n",
    "    fig, ax = plt.subplots(figsize=(9, 6))\n",
    "    x = np.arange(df.shape[1])\n",
    "    if statistic == 'mean':\n",
    "        y = np.nanmean(df, axis=0)\n",
    "        ax.set_ylabel('mean')\n",
    "    if statistic == 'std':\n",
    "        y = np.nanstd(df, axis=0)\n",
    "        ax.set_ylabel('std')\n",
    "    if statistic == 'median':\n",
    "        y = np.nanmedian(df, axis=0)\n",
    "        ax.set_ylabel('median')\n",
    "    if statistic == 'var':\n",
    "        y = np.nanvar(df, axis=0)\n",
    "        ax.set_ylabel('std')\n",
    "    ax.scatter(x, y, size)\n",
    "    ax.set_xlabel('Num of feauter')\n",
    "    fig.tight_layout()\n",
    "    plt.show()"
   ]
  },
  {
   "cell_type": "code",
   "execution_count": 188,
   "metadata": {},
   "outputs": [],
   "source": [
    "def drow_targets_by_features(df, feature_1, feature_2, target, size=50):\n",
    "    fig, ax = plt.subplots(figsize=(9, 6))\n",
    "    color_dic = {\n",
    "        0: 'r',\n",
    "        1: 'b'}\n",
    "    classes = df[target].unique()\n",
    "    for cl in classes:\n",
    "        df_class = df[df[target] == cl]\n",
    "        ax.scatter(df_class[feature_1].astype(float), df_class[feature_2].astype(float), c=color_dic[cl], label=f'{cl}')\n",
    "    ax.set_xlabel(feature_1)\n",
    "    ax.set_ylabel(feature_2)\n",
    "    ax.legend()\n",
    "    fig.tight_layout()\n",
    "    plt.show()"
   ]
  },
  {
   "cell_type": "code",
   "execution_count": 189,
   "metadata": {},
   "outputs": [
    {
     "data": {
      "image/png": "[encoded data removed]",
      "text/plain": [
       "<Figure size 648x432 with 1 Axes>"
      ]
     },
     "metadata": {
      "needs_background": "light"
     },
     "output_type": "display_data"
    }
   ],
   "source": [
    "drow_targets_by_features(df, 'thalach', 'oldpeak', 'target', size=50)"
   ]
  },
  {
   "cell_type": "code",
   "execution_count": null,
   "metadata": {
    "collapsed": true
   },
   "outputs": [],
   "source": []
  }
 ],
 "metadata": {
  "kernelspec": {
   "display_name": "Python 3",
   "language": "python",
   "name": "python3"
  },
  "language_info": {
   "codemirror_mode": {
    "name": "ipython",
    "version": 3
   },
   "file_extension": ".py",
   "mimetype": "text/x-python",
   "name": "python",
   "nbconvert_exporter": "python",
   "pygments_lexer": "ipython3",
   "version": "3.7.3"
  }
 },
 "nbformat": 4,
 "nbformat_minor": 2
}
