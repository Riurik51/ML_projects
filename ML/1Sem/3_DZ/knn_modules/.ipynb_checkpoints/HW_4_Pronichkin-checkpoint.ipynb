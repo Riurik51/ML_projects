{
 "cells": [
  {
   "cell_type": "code",
   "execution_count": 45,
   "metadata": {},
   "outputs": [],
   "source": [
    "from nearest_neighbors import KNNClassifier\n",
    "from cross_validation import knn_cross_val_score\n",
    "import matplotlib.pyplot as plt\n",
    "from sklearn.model_selection import KFold\n",
    "from sklearn.metrics import confusion_matrix\n",
    "import numpy as np\n",
    "import time\n",
    "%matplotlib inline"
   ]
  },
  {
   "cell_type": "markdown",
   "metadata": {},
   "source": [
    "# Проничкин Юрий"
   ]
  },
  {
   "cell_type": "code",
   "execution_count": 2,
   "metadata": {},
   "outputs": [],
   "source": [
    "import idx2numpy"
   ]
  },
  {
   "cell_type": "markdown",
   "metadata": {},
   "source": [
    "# Загружаем тренировочную и тестовую выборки с помощью idx2numpy"
   ]
  },
  {
   "cell_type": "code",
   "execution_count": 3,
   "metadata": {},
   "outputs": [],
   "source": [
    "X_train = idx2numpy.convert_from_file('train-images.idx3-ubyte')"
   ]
  },
  {
   "cell_type": "code",
   "execution_count": 4,
   "metadata": {},
   "outputs": [],
   "source": [
    "y_train = idx2numpy.convert_from_file('train-labels.idx1-ubyte')"
   ]
  },
  {
   "cell_type": "code",
   "execution_count": 5,
   "metadata": {},
   "outputs": [],
   "source": [
    "X_test = idx2numpy.convert_from_file('t10k-images.idx3-ubyte')"
   ]
  },
  {
   "cell_type": "code",
   "execution_count": 6,
   "metadata": {},
   "outputs": [],
   "source": [
    "y_test = idx2numpy.convert_from_file('t10k-labels.idx1-ubyte')"
   ]
  },
  {
   "cell_type": "markdown",
   "metadata": {},
   "source": [
    "# Тест времени"
   ]
  },
  {
   "cell_type": "markdown",
   "metadata": {},
   "source": [
    "Создаем словарь алгоритмов и в цикле по размеру вектора признаков и словарю получаем нужные времена"
   ]
  },
  {
   "cell_type": "code",
   "execution_count": 72,
   "metadata": {
    "scrolled": true
   },
   "outputs": [
    {
     "name": "stderr",
     "output_type": "stream",
     "text": [
      "/home/riurik/PROGS_FOR_OZON/ML/3_DZ/knn_modules/nearest_neighbors.py:16: RuntimeWarning: invalid value encountered in sqrt\n",
      "  Neibors_norm)\n",
      "/home/riurik/PROGS_FOR_OZON/ML/3_DZ/knn_modules/nearest_neighbors.py:16: RuntimeWarning: invalid value encountered in sqrt\n",
      "  Neibors_norm)\n"
     ]
    }
   ],
   "source": [
    "dict_of_algs = { 1 : 'my_own', 2: 'brute', 3: 'kd_tree', 4: 'ball_tree'}\n",
    "dict_of_times = { 1 : [], 2 : [], 3 : [], 4 : []}\n",
    "for n in [10, 20, 100]:\n",
    "    features = np.random.choice(28 * 28, n, False)\n",
    "    for alg in range(1, 5):\n",
    "        knn = KNNClassifier(5, dict_of_algs[alg], 'euclidean', False, 100)\n",
    "        knn.fit(X_train.reshape(-1, 784)[:, features], y_train)\n",
    "        curr_time = time.time()\n",
    "        knn.predict(X_test.reshape(-1, 784)[:, features])\n",
    "        dict_of_times[alg].append(time.time() - curr_time)"
   ]
  },
  {
   "cell_type": "code",
   "execution_count": 73,
   "metadata": {},
   "outputs": [
    {
     "data": {
      "text/plain": [
       "{1: [75.4424901008606, 81.38876008987427, 153.56450176239014],\n",
       " 2: [21.38561511039734, 24.880481481552124, 29.16017484664917],\n",
       " 3: [2.401068925857544, 11.230978727340698, 132.80559301376343],\n",
       " 4: [5.417897462844849, 27.041287899017334, 113.9559051990509]}"
      ]
     },
     "execution_count": 73,
     "metadata": {},
     "output_type": "execute_result"
    }
   ],
   "source": [
    "dict_of_times"
   ]
  },
  {
   "cell_type": "markdown",
   "metadata": {},
   "source": [
    "Итак : $$  $$\n",
    "Собственная реализация: $$ 75.44 \\quad 81.38 \\quad 153.56$$\n",
    "brute:                $$21.38 \\quad 24.88 \\quad 29.16$$\n",
    "kd tree:               $$  2.40 \\quad 11.23 \\quad 132.80$$\n",
    "ball tree:            $$  5.41 \\quad 27.04  \\quad 113.95$$"
   ]
  },
  {
   "cell_type": "markdown",
   "metadata": {},
   "source": [
    "Здесь очевидно 'проклятье размерности' - на большом количестве признаков kd tree и ball tree начинают работать намного дольше простого brute, который работает не сильно дольше, при этом на маленьких размерностях лучше использовать kd tree и ball tree"
   ]
  },
  {
   "cell_type": "markdown",
   "metadata": {},
   "source": [
    "# Генерируем фолды и список k числа соседей"
   ]
  },
  {
   "cell_type": "code",
   "execution_count": 7,
   "metadata": {},
   "outputs": [],
   "source": [
    "def gen_folds(X, y, n):\n",
    "    list_of_folds = []\n",
    "    kfold = KFold(n)\n",
    "    for i in kfold.split(X,y):\n",
    "        list_of_folds.append(i)\n",
    "    return list_of_folds"
   ]
  },
  {
   "cell_type": "code",
   "execution_count": 8,
   "metadata": {},
   "outputs": [],
   "source": [
    "Folds = gen_folds(X_train, y_train, 3)"
   ]
  },
  {
   "cell_type": "code",
   "execution_count": 9,
   "metadata": {},
   "outputs": [],
   "source": [
    "k_list = [i for i in range(1, 11)]"
   ]
  },
  {
   "cell_type": "markdown",
   "metadata": {},
   "source": [
    "# Тестируем на евклидовой метрике"
   ]
  },
  {
   "cell_type": "code",
   "execution_count": 10,
   "metadata": {},
   "outputs": [],
   "source": [
    "curr_time = time.time()\n",
    "score_dict_euclidean_mo = knn_cross_val_score(X_train.reshape(-1, 784), y_train, k_list, 'accuracy', Folds, strategy='brute', metric='euclidean',weights=False)\n",
    "time_euclidean_mo = time.time() - curr_time"
   ]
  },
  {
   "cell_type": "markdown",
   "metadata": {},
   "source": [
    "# Время работы"
   ]
  },
  {
   "cell_type": "code",
   "execution_count": 19,
   "metadata": {},
   "outputs": [
    {
     "name": "stdout",
     "output_type": "stream",
     "text": [
      "Brute euclidean time 317.6748502254486\n"
     ]
    }
   ],
   "source": [
    "print(\"Brute euclidean time\", time_euclidean_mo)"
   ]
  },
  {
   "cell_type": "markdown",
   "metadata": {},
   "source": [
    "# Результат"
   ]
  },
  {
   "cell_type": "code",
   "execution_count": 21,
   "metadata": {},
   "outputs": [
    {
     "data": {
      "text/plain": [
       "{1: [0.96895, 0.96675, 0.9667],\n",
       " 2: [0.9603, 0.95995, 0.96125],\n",
       " 3: [0.96955, 0.96825, 0.96715],\n",
       " 4: [0.96705, 0.9667, 0.9671],\n",
       " 5: [0.9681, 0.9673, 0.9672],\n",
       " 6: [0.96555, 0.96495, 0.9657],\n",
       " 7: [0.9652, 0.965, 0.9656],\n",
       " 8: [0.96415, 0.9639, 0.96525],\n",
       " 9: [0.9637, 0.9632, 0.96455],\n",
       " 10: [0.96245, 0.9622, 0.9637]}"
      ]
     },
     "execution_count": 21,
     "metadata": {},
     "output_type": "execute_result"
    }
   ],
   "source": [
    "score_dict_euclidean_mo"
   ]
  },
  {
   "cell_type": "markdown",
   "metadata": {},
   "source": [
    "# То же для  косинусовой"
   ]
  },
  {
   "cell_type": "code",
   "execution_count": 13,
   "metadata": {},
   "outputs": [],
   "source": [
    "curr_time = time.time()\n",
    "score_dict_cosine_mo = knn_cross_val_score(X_train.reshape(-1, 784), y_train, k_list, 'accuracy', Folds, strategy='brute', metric='cosine',weights=False)\n",
    "time_coseine_mo = time.time() - curr_time"
   ]
  },
  {
   "cell_type": "markdown",
   "metadata": {},
   "source": [
    "# Время"
   ]
  },
  {
   "cell_type": "code",
   "execution_count": 23,
   "metadata": {
    "scrolled": true
   },
   "outputs": [
    {
     "name": "stdout",
     "output_type": "stream",
     "text": [
      "Brute euclidean time 485.5541579723358\n"
     ]
    }
   ],
   "source": [
    "print(\"Brute euclidean time\", time_coseine_mo)"
   ]
  },
  {
   "cell_type": "markdown",
   "metadata": {},
   "source": [
    "# Точность"
   ]
  },
  {
   "cell_type": "code",
   "execution_count": 22,
   "metadata": {},
   "outputs": [
    {
     "data": {
      "text/plain": [
       "{1: [0.9733, 0.9708, 0.97045],\n",
       " 2: [0.96895, 0.9664, 0.96775],\n",
       " 3: [0.97365, 0.97155, 0.9709],\n",
       " 4: [0.9725, 0.97095, 0.9722],\n",
       " 5: [0.97275, 0.97015, 0.9716],\n",
       " 6: [0.97195, 0.9697, 0.97215],\n",
       " 7: [0.97125, 0.96815, 0.97075],\n",
       " 8: [0.97125, 0.96835, 0.97155],\n",
       " 9: [0.97005, 0.967, 0.9707],\n",
       " 10: [0.96935, 0.96615, 0.9707]}"
      ]
     },
     "execution_count": 22,
     "metadata": {},
     "output_type": "execute_result"
    }
   ],
   "source": [
    "score_dict_cosine_mo"
   ]
  },
  {
   "cell_type": "markdown",
   "metadata": {},
   "source": [
    "Из результатов видно что косинусное растояние считается в целом дольше, но и дает лучшие результаты длявсех k"
   ]
  },
  {
   "cell_type": "markdown",
   "metadata": {},
   "source": [
    "# Теперь с весами"
   ]
  },
  {
   "cell_type": "code",
   "execution_count": 14,
   "metadata": {},
   "outputs": [],
   "source": [
    "score_dict_euclidean_mo_weighted = knn_cross_val_score(X_train.reshape(-1, 784), y_train, k_list, 'accuracy', Folds, strategy='brute', metric='euclidean',weights=True)"
   ]
  },
  {
   "cell_type": "code",
   "execution_count": 15,
   "metadata": {},
   "outputs": [],
   "source": [
    "score_dict_cosine_mo_weighted = knn_cross_val_score(X_train.reshape(-1, 784), y_train, k_list, 'accuracy', Folds, strategy='brute', metric='cosine',weights=True)"
   ]
  },
  {
   "cell_type": "markdown",
   "metadata": {},
   "source": [
    "# Результат евклидовой ..."
   ]
  },
  {
   "cell_type": "code",
   "execution_count": 17,
   "metadata": {},
   "outputs": [
    {
     "data": {
      "text/plain": [
       "{1: [0.96895, 0.96675, 0.9667],\n",
       " 2: [0.96895, 0.96675, 0.9667],\n",
       " 3: [0.97075, 0.9691, 0.96825],\n",
       " 4: [0.9713, 0.9698, 0.9701],\n",
       " 5: [0.96925, 0.96825, 0.96875],\n",
       " 6: [0.9704, 0.96845, 0.96945],\n",
       " 7: [0.96735, 0.96595, 0.967],\n",
       " 8: [0.9676, 0.96665, 0.9678],\n",
       " 9: [0.9651, 0.9643, 0.9657],\n",
       " 10: [0.9647, 0.96465, 0.9657]}"
      ]
     },
     "execution_count": 17,
     "metadata": {},
     "output_type": "execute_result"
    }
   ],
   "source": [
    "score_dict_euclidean_mo_weighted "
   ]
  },
  {
   "cell_type": "markdown",
   "metadata": {},
   "source": [
    "# ... и косинусной метрик"
   ]
  },
  {
   "cell_type": "code",
   "execution_count": 25,
   "metadata": {},
   "outputs": [
    {
     "data": {
      "text/plain": [
       "{1: [0.9733, 0.9708, 0.97045],\n",
       " 2: [0.9733, 0.9708, 0.97045],\n",
       " 3: [0.97495, 0.9725, 0.97175],\n",
       " 4: [0.97545, 0.9732, 0.97365],\n",
       " 5: [0.974, 0.97095, 0.973],\n",
       " 6: [0.97465, 0.9714, 0.97305],\n",
       " 7: [0.9726, 0.9693, 0.97195],\n",
       " 8: [0.97295, 0.97045, 0.9722],\n",
       " 9: [0.97165, 0.96865, 0.97145],\n",
       " 10: [0.97145, 0.96855, 0.9714]}"
      ]
     },
     "execution_count": 25,
     "metadata": {},
     "output_type": "execute_result"
    }
   ],
   "source": [
    "score_dict_cosine_mo_weighted"
   ]
  },
  {
   "cell_type": "markdown",
   "metadata": {},
   "source": [
    "Из результатов видно что косинусная метрика в целом лучше классифицирует, при этом взвешенный алгоритм работет лучше в обоих случаях. От туда же примерно лучшие параметры: косинусная метрика, 4 соседа, взвешенно."
   ]
  },
  {
   "cell_type": "markdown",
   "metadata": {},
   "source": [
    "#  Обучаем с полученными параметрами"
   ]
  },
  {
   "cell_type": "code",
   "execution_count": 26,
   "metadata": {},
   "outputs": [],
   "source": [
    "knn = KNNClassifier(4, 'brute', 'cosine', True, 100)"
   ]
  },
  {
   "cell_type": "code",
   "execution_count": 29,
   "metadata": {},
   "outputs": [],
   "source": [
    "knn.fit(X_train.reshape(-1,784), y_train)"
   ]
  },
  {
   "cell_type": "markdown",
   "metadata": {},
   "source": [
    "# Предсказания на тестовой выборке"
   ]
  },
  {
   "cell_type": "code",
   "execution_count": 30,
   "metadata": {},
   "outputs": [],
   "source": [
    "y_predict = knn.predict(X_test.reshape(-1,784))"
   ]
  },
  {
   "cell_type": "code",
   "execution_count": 31,
   "metadata": {},
   "outputs": [],
   "source": [
    "score = (y_predict == y_test).sum() / len(y_predict)"
   ]
  },
  {
   "cell_type": "markdown",
   "metadata": {},
   "source": [
    "# Результат"
   ]
  },
  {
   "cell_type": "code",
   "execution_count": 32,
   "metadata": {},
   "outputs": [
    {
     "data": {
      "text/plain": [
       "0.9752"
      ]
     },
     "execution_count": 32,
     "metadata": {},
     "output_type": "execute_result"
    }
   ],
   "source": [
    "score"
   ]
  },
  {
   "cell_type": "markdown",
   "metadata": {},
   "source": [
    "Резульаты даже выше чем на крос-валидации. Но википедия https://ru.wikipedia.org/wiki/MNIST_(%D0%B1%D0%B0%D0%B7%D0%B0_%D0%B4%D0%B0%D0%BD%D0%BD%D1%8B%D1%85) говорит что метод knn может работать с еще большей точность - 0.9948"
   ]
  },
  {
   "cell_type": "markdown",
   "metadata": {},
   "source": [
    "# Матрица ошибок"
   ]
  },
  {
   "cell_type": "code",
   "execution_count": 47,
   "metadata": {
    "scrolled": true
   },
   "outputs": [],
   "source": [
    "cm = confusion_matrix(y_test, y_predict)"
   ]
  },
  {
   "cell_type": "code",
   "execution_count": 48,
   "metadata": {
    "scrolled": true
   },
   "outputs": [
    {
     "data": {
      "text/plain": [
       "array([[ 977,    1,    0,    0,    0,    0,    1,    1,    0,    0],\n",
       "       [   0, 1129,    3,    1,    0,    0,    2,    0,    0,    0],\n",
       "       [   8,    0, 1009,    1,    1,    0,    0,    8,    5,    0],\n",
       "       [   0,    1,    3,  976,    1,   12,    0,    4,    9,    4],\n",
       "       [   2,    1,    0,    0,  946,    0,    6,    2,    0,   25],\n",
       "       [   4,    0,    0,    9,    1,  863,    7,    1,    4,    3],\n",
       "       [   3,    3,    0,    0,    1,    3,  948,    0,    0,    0],\n",
       "       [   2,   10,    4,    0,    1,    0,    0,  998,    0,   13],\n",
       "       [   7,    1,    2,    9,    3,    3,    5,    4,  936,    4],\n",
       "       [   7,    7,    2,    5,    7,    3,    1,    4,    3,  970]])"
      ]
     },
     "execution_count": 48,
     "metadata": {},
     "output_type": "execute_result"
    }
   ],
   "source": [
    "cm "
   ]
  },
  {
   "cell_type": "markdown",
   "metadata": {},
   "source": [
    "Из нее видно что больше всего ошибок на 4-ах распознанных как 9ки и 7-ах распзнанных как 9-ки"
   ]
  },
  {
   "cell_type": "markdown",
   "metadata": {},
   "source": [
    "# Несколько плохо распознаных цифр"
   ]
  },
  {
   "cell_type": "code",
   "execution_count": 40,
   "metadata": {},
   "outputs": [],
   "source": [
    "indexes = np.where(mask == False)"
   ]
  },
  {
   "cell_type": "code",
   "execution_count": 43,
   "metadata": {
    "scrolled": true
   },
   "outputs": [
    {
     "data": {
      "image/png": "[encoded data removed]",
      "text/plain": [
       "<Figure size 2016x2016 with 4 Axes>"
      ]
     },
     "metadata": {
      "needs_background": "light"
     },
     "output_type": "display_data"
    }
   ],
   "source": [
    "fig, (ax1, ax2, ax3, ax4) = plt.subplots(1, 4, figsize=(28,28))\n",
    "ax1.imshow(X_test[indexes][0], cmap='gray')\n",
    "ax2.imshow(X_test[indexes][1], cmap='gray')\n",
    "ax3.imshow(X_test[indexes][2], cmap='gray')\n",
    "ax4.imshow(X_test[indexes][3], cmap='gray')\n",
    "plt.show()"
   ]
  },
  {
   "cell_type": "markdown",
   "metadata": {},
   "source": [
    "Здесь 4ка достаточно похожа на 3ку, 9ка почти как 8, а последние 2 цифры вообще не понятны."
   ]
  }
 ],
 "metadata": {
  "kernelspec": {
   "display_name": "Python 3",
   "language": "python",
   "name": "python3"
  },
  "language_info": {
   "codemirror_mode": {
    "name": "ipython",
    "version": 3
   },
   "file_extension": ".py",
   "mimetype": "text/x-python",
   "name": "python",
   "nbconvert_exporter": "python",
   "pygments_lexer": "ipython3",
   "version": "3.7.3"
  }
 },
 "nbformat": 4,
 "nbformat_minor": 2
}
