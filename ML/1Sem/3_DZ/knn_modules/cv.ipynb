{
 "cells": [
  {
   "cell_type": "code",
   "execution_count": 776,
   "metadata": {},
   "outputs": [],
   "source": [
    "import numpy as np\n",
    "from sklearn.model_selection import KFold\n",
    "from sklearn.model_selection import StratifiedKFold\n",
    "from sklearn.neighbors import NearestNeighbors\n",
    "EPS = 1e-5\n",
    "\n",
    "\n",
    "def euclidean_distance(x, y, Neibors_norm=None):\n",
    "    if Neibors_norm is None:\n",
    "        return np.sqrt(- 2 * np.inner(x, y) +\n",
    "                       np.sum(x ** 2, axis=1)[:, None] +\n",
    "                       np.sum(y ** 2, axis=1))\n",
    "    else:\n",
    "        return np.sqrt(- 2 * np.inner(x, y) +\n",
    "                       np.sum(x ** 2, axis=1)[:, None] +\n",
    "                       Neibors_norm)\n",
    "\n",
    "\n",
    "def cosine_distance(x, y, Neibors_norm=None):\n",
    "    if Neibors_norm is None:\n",
    "        return ((- np.inner(x, y) / np.linalg.norm(x, axis=1)[:, np.newaxis]) /\n",
    "                np.linalg.norm(y, axis=1) + 1)\n",
    "    else:\n",
    "        return ((- np.inner(x, y) / np.linalg.norm(x, axis=1)[:, np.newaxis]) /\n",
    "                Neibors_norm + 1)\n",
    "\n",
    "\n",
    "def cos_vector(x, y):\n",
    "    return 1 - np.dot(x, y) / (np.linalg.norm(x) * np.linalg.norm(y))\n",
    "\n",
    "\n",
    "class KNNClassifier:\n",
    "    def __init__(\n",
    "            self,\n",
    "            k,\n",
    "            strategy='brute',\n",
    "            metric='euclidean',\n",
    "            weights=False,\n",
    "            test_block_size=20):\n",
    "        self.k = k\n",
    "        self.strategy = strategy\n",
    "        self.metric = metric\n",
    "        self.weights = weights\n",
    "        self.test_block_size = test_block_size\n",
    "        if strategy != 'my_own':\n",
    "            if metric == 'euclidean':\n",
    "                self.NearestNeighborsClass = NearestNeighbors(\n",
    "                    k, algorithm=strategy, metric='euclidean')\n",
    "            else:\n",
    "                self.NearestNeighborsClass = NearestNeighbors(\n",
    "                    k, algorithm=strategy, metric='cosine')\n",
    "\n",
    "    def fit(self, X, y):\n",
    "        if self.strategy == 'my_own':\n",
    "            self.Neibors_coord = X\n",
    "            self.Neibors_label = y\n",
    "            if self.metric == 'euclidean':\n",
    "                self.Neibors_norm = np.sum(X ** 2, axis=1)\n",
    "            else:\n",
    "                self.Neibors_norm = np.linalg.norm(X, axis=1)\n",
    "        else:\n",
    "            self.NearestNeighborsClass.fit(X, y)\n",
    "            self.Neibors_label = y\n",
    "\n",
    "    def find_kneighbors(self, X, return_distance):\n",
    "        if self.strategy == 'my_own':\n",
    "            if self.metric == 'euclidean':\n",
    "                if return_distance is True:\n",
    "                    rows = np.zeros((self.test_block_size, self.k), dtype=int)\n",
    "                    rows[:, :] = \\\n",
    "                        np.array(\n",
    "                            np.arange(self.test_block_size)\n",
    "                        ).reshape(self.test_block_size, 1)\n",
    "                    distance = np.zeros((X.shape[0], self.k))\n",
    "                    positions = np.zeros((X.shape[0], self.k), dtype=int)\n",
    "                    for i in range(0, X.shape[0], self.test_block_size):\n",
    "                        Distance_matrix = euclidean_distance(\n",
    "                            X[i:i + self.test_block_size],\n",
    "                            self.Neibors_coord,\n",
    "                            self.Neibors_norm)\n",
    "                        positions[i:i + self.test_block_size] = \\\n",
    "                            np.argsort(Distance_matrix)[:, :self.k]\n",
    "                        distance[i:i + self.test_block_size] = \\\n",
    "                            Distance_matrix[\n",
    "                                rows[:Distance_matrix.shape[0]],\n",
    "                                positions[i:i + self.test_block_size]\n",
    "                                ]\n",
    "                    return (distance, positions)\n",
    "                else:\n",
    "                    positions = np.zeros((X.shape[0], self.k), dtype=int)\n",
    "                    for i in range(0, X.shape[0], self.test_block_size):\n",
    "                        Distance_matrix = euclidean_distance(\n",
    "                            X[i:i + self.test_block_size],\n",
    "                            self.Neibors_coord,\n",
    "                            self.Neibors_norm)\n",
    "                        positions[i:i + self.test_block_size] = \\\n",
    "                            np.argsort(Distance_matrix)[:, :self.k]\n",
    "                    return positions\n",
    "            if self.metric == 'cosine':\n",
    "                if return_distance is True:\n",
    "                    rows = np.zeros((self.test_block_size, self.k), dtype=int)\n",
    "                    rows[:, :] = \\\n",
    "                        np.array(\n",
    "                            np.arange(self.test_block_size)\n",
    "                        ).reshape(self.test_block_size, 1)\n",
    "                    distance = np.zeros((X.shape[0], self.k))\n",
    "                    positions = np.zeros((X.shape[0], self.k), dtype=int)\n",
    "                    for i in range(0, X.shape[0], self.test_block_size):\n",
    "                        Distance_matrix = cosine_distance(\n",
    "                            X[i:i + self.test_block_size],\n",
    "                            self.Neibors_coord)\n",
    "                        positions[i:i + self.test_block_size] = \\\n",
    "                            np.argsort(Distance_matrix)[:, :self.k]\n",
    "                        distance[i:i + self.test_block_size] = \\\n",
    "                            Distance_matrix[\n",
    "                                rows[:Distance_matrix.shape[0]],\n",
    "                                positions[i:i + self.test_block_size]\n",
    "                                ]\n",
    "                    return (distance, positions)\n",
    "                else:\n",
    "                    positions = np.zeros((X.shape[0], self.k), dtype=int)\n",
    "                    for i in range(0, X.shape[0], self.test_block_size):\n",
    "                        Distance_matrix = cosine_distance(\n",
    "                            X[i:i + self.test_block_size],\n",
    "                            self.Neibors_coord)\n",
    "                        positions[i:i + self.test_block_size] = \\\n",
    "                            np.argsort(Distance_matrix)[:, :self.k]\n",
    "                    return positions\n",
    "        else:\n",
    "            distance = np.zeros((X.shape[0], self.k))\n",
    "            positions = np.zeros((X.shape[0], self.k), dtype=int)\n",
    "            if return_distance is True:\n",
    "                for i in range(0, X.shape[0], self.test_block_size):\n",
    "                    distance[i:i + self.test_block_size], \\\n",
    "                        positions[i:i + self.test_block_size] = \\\n",
    "                        self.NearestNeighborsClass.kneighbors(\n",
    "                        X[i:i + self.test_block_size])\n",
    "                return (distance, positions)\n",
    "            else:\n",
    "                for i in range(0, X.shape[0], self.test_block_size):\n",
    "                    positions[i:i + self.test_block_size] = \\\n",
    "                        self.NearestNeighborsClass.kneighbors(\n",
    "                            X[i:i + self.test_block_size],\n",
    "                            return_distance=False)\n",
    "                return positions\n",
    "\n",
    "    def predict(self, X):\n",
    "        classes = np.max(self.Neibors_label) + 1\n",
    "        if self.weights is False:\n",
    "            nearest_neighbors = self.find_kneighbors(X, return_distance=False)\n",
    "            nearest_neighbors = self.Neibors_label[nearest_neighbors]\n",
    "            answers = np.zeros(X.shape[0], dtype=int)\n",
    "            answers = np.argmax(np.sum(\n",
    "                (nearest_neighbors[:, :, np.newaxis] ==\n",
    "                    np.arange(classes)[\n",
    "                        np.newaxis,\n",
    "                        np.newaxis, :]).astype(int), axis=1), axis=1)\n",
    "            return answers\n",
    "        else:\n",
    "            answers = np.zeros(X.shape[0], dtype=int)\n",
    "            nearest_dist, nearest_neighbors = self.find_kneighbors(\n",
    "                X,\n",
    "                return_distance=True)\n",
    "            nearest_neighbors = self.Neibors_label[nearest_neighbors]\n",
    "            nearest_dist = np.vectorize(\n",
    "                lambda x: 1. /\n",
    "                (x + EPS))(nearest_dist)\n",
    "            answers = np.argmax(\n",
    "                np.sum(\n",
    "                    (nearest_neighbors[:, :, np.newaxis] ==\n",
    "                        np.arange(classes)[\n",
    "                            np.newaxis,\n",
    "                            np.newaxis,\n",
    "                            :]).astype(int) *\n",
    "                    nearest_dist[:, :, np.newaxis], axis=1),\n",
    "                axis=1)\n",
    "            return answers\n",
    "\n",
    "\n",
    "\n",
    "def knn_cross_val_score(X, y, k_list, score, cv=None, **kwargs):\n",
    "    if cv is None:\n",
    "        cv = []\n",
    "        kfold = StratifiedKFold()\n",
    "        for i in kfold.split(X, y):\n",
    "            cv.append(i)\n",
    "    classes = np.max(y) + 1\n",
    "    dict_of_answers = {}\n",
    "    for k in k_list:\n",
    "        dict_of_answers[k] = []\n",
    "    knn = KNNClassifier(k_list[-1], **kwargs)\n",
    "    for ar in cv:\n",
    "        if score == 'accuracy':\n",
    "            if kwargs['weights'] is True:\n",
    "                knn.fit(X[ar[0]], y[ar[0]])\n",
    "                nearest_dist, nearest_neighbors = knn.find_kneighbors(\n",
    "                    X[ar[1]],\n",
    "                    return_distance=True)\n",
    "                nearest_dist = np.vectorize(\n",
    "                    lambda x: 1. /\n",
    "                    (x + EPS))(nearest_dist)\n",
    "                nearest_neighbors = \\\n",
    "                    y[ar[0]][nearest_neighbors]\n",
    "                for k in k_list:\n",
    "                    answers = np.zeros(X[ar[1]].shape[0], dtype=int)\n",
    "                    answers = np.argmax(\n",
    "                        np.sum(\n",
    "                            (nearest_neighbors[:,:k][:,:,np.newaxis] ==\n",
    "                             np.arange(classes)[\n",
    "                                 np.newaxis,\n",
    "                                 np.newaxis,\n",
    "                                 :]).astype(int) *\n",
    "                            nearest_dist[:,:k][:,:,np.newaxis], axis=1),\n",
    "                        axis=1)\n",
    "                    scor = np.sum(answers == y[ar[1]]) / len(answers)\n",
    "                    dict_of_answers[k].append(scor)\n",
    "            else:\n",
    "                knn.fit(X[ar[0]], y[ar[0]])\n",
    "                nearest_neighbors = knn.find_kneighbors(\n",
    "                    X[ar[1]],\n",
    "                    return_distance=False)\n",
    "                nearest_neighbors = \\\n",
    "                    y[ar[0]][nearest_neighbors]\n",
    "                for k in k_list:\n",
    "                    answers = np.zeros(X[ar[1]].shape[0], dtype=int)\n",
    "                    answers = np.argmax(\n",
    "                        np.sum(\n",
    "                            (nearest_neighbors[:,:k][:,:,np.newaxis] ==\n",
    "                             np.arange(classes)[\n",
    "                                 np.newaxis,\n",
    "                                 np.newaxis,\n",
    "                                 :]).astype(int),\n",
    "                            axis=1),\n",
    "                        axis=1)\n",
    "                    scor = np.sum(answers == y[ar[1]]) / len(answers)\n",
    "                    dict_of_answers[k].append(scor)\n",
    "        else:\n",
    "            return None\n",
    "    return dict_of_answers\n"
   ]
  },
  {
   "cell_type": "code",
   "execution_count": 707,
   "metadata": {},
   "outputs": [],
   "source": [
    "X = np.random.rand(110,2)"
   ]
  },
  {
   "cell_type": "code",
   "execution_count": 708,
   "metadata": {},
   "outputs": [],
   "source": [
    "y = np.random.randint(0, 2, 110)"
   ]
  },
  {
   "cell_type": "code",
   "execution_count": 709,
   "metadata": {},
   "outputs": [],
   "source": [
    "def gen_folds(X, y, n):\n",
    "    list_of_folds = []\n",
    "    kfold = KFold(n)\n",
    "    for i in kfold.split(X,y):\n",
    "        list_of_folds.append(i)\n",
    "    return list_of_folds"
   ]
  },
  {
   "cell_type": "code",
   "execution_count": 710,
   "metadata": {
    "scrolled": true
   },
   "outputs": [],
   "source": [
    "A = gen_folds(X, y, 3)\n",
    "k_list = [1, 2, 3, 4]"
   ]
  },
  {
   "cell_type": "code",
   "execution_count": 747,
   "metadata": {
    "scrolled": true
   },
   "outputs": [],
   "source": [
    "dict_1 = knn_cross_val_score(X, y, k_list, 'accuracy', A, strategy='my_own', metric='euclidean', weights=False, test_block_size=10)"
   ]
  },
  {
   "cell_type": "code",
   "execution_count": 748,
   "metadata": {},
   "outputs": [
    {
     "name": "stdout",
     "output_type": "stream",
     "text": [
      "{1: [0.43243243243243246, 0.5405405405405406, 0.5277777777777778], 2: [0.5405405405405406, 0.5135135135135135, 0.6111111111111112], 3: [0.6216216216216216, 0.4864864864864865, 0.5833333333333334], 4: [0.5945945945945946, 0.4864864864864865, 0.6111111111111112]}\n"
     ]
    }
   ],
   "source": [
    "print(dict_1)"
   ]
  },
  {
   "cell_type": "code",
   "execution_count": 749,
   "metadata": {},
   "outputs": [],
   "source": [
    "from sklearn.model_selection import cross_val_score\n",
    "from sklearn.neighbors import KNeighborsClassifier"
   ]
  },
  {
   "cell_type": "code",
   "execution_count": 750,
   "metadata": {},
   "outputs": [],
   "source": [
    "def dist_aplly(a):\n",
    "    return np.apply_along_axis(lambda x: 1. / (x + EPS),axis=0,arr=a)"
   ]
  },
  {
   "cell_type": "code",
   "execution_count": 751,
   "metadata": {
    "scrolled": true
   },
   "outputs": [
    {
     "name": "stdout",
     "output_type": "stream",
     "text": [
      "[0.43243243 0.54054054 0.52777778]\n",
      "[0.54054054 0.51351351 0.61111111]\n",
      "[0.62162162 0.48648649 0.58333333]\n",
      "[0.59459459 0.48648649 0.61111111]\n"
     ]
    }
   ],
   "source": [
    "for i in k_list:\n",
    "    print(cross_val_score(KNeighborsClassifier(n_neighbors=i, algorithm='brute', metric='euclidean'), X, y,cv=A))"
   ]
  },
  {
   "cell_type": "code",
   "execution_count": 789,
   "metadata": {},
   "outputs": [],
   "source": [
    "cl = KNeighborsClassifier(n_neighbors=2, algorithm='brute', metric='euclidean',weights=dist_aplly)"
   ]
  },
  {
   "cell_type": "code",
   "execution_count": 790,
   "metadata": {
    "scrolled": false
   },
   "outputs": [
    {
     "data": {
      "text/plain": [
       "KNeighborsClassifier(algorithm='brute', leaf_size=30, metric='euclidean',\n",
       "                     metric_params=None, n_jobs=None, n_neighbors=2, p=2,\n",
       "                     weights=<function dist_aplly at 0x7fdec77a4620>)"
      ]
     },
     "execution_count": 790,
     "metadata": {},
     "output_type": "execute_result"
    }
   ],
   "source": [
    "cl.fit(X[A[0][0]], y[A[0][0]])"
   ]
  },
  {
   "cell_type": "code",
   "execution_count": 791,
   "metadata": {
    "scrolled": true
   },
   "outputs": [
    {
     "data": {
      "text/plain": [
       "array([1, 1, 1, 1, 1, 0, 0, 0, 1, 0, 1, 1, 0, 0, 1, 1, 1, 0, 1, 0, 1, 1,\n",
       "       1, 1, 1, 1, 0, 0, 0, 1, 1, 0, 1, 0, 0, 1, 1])"
      ]
     },
     "execution_count": 791,
     "metadata": {},
     "output_type": "execute_result"
    }
   ],
   "source": [
    "cl.predict(X[A[0][1]])"
   ]
  },
  {
   "cell_type": "code",
   "execution_count": 792,
   "metadata": {},
   "outputs": [],
   "source": [
    "A1 = cl.kneighbors(X[A[0][1]])[0]"
   ]
  },
  {
   "cell_type": "code",
   "execution_count": 793,
   "metadata": {},
   "outputs": [],
   "source": [
    "knn = KNNClassifier(2, 'my_own', 'euclidean', weights=True)"
   ]
  },
  {
   "cell_type": "code",
   "execution_count": 794,
   "metadata": {},
   "outputs": [],
   "source": [
    "knn.fit(X[A[0][0]], y[A[0][0]])"
   ]
  },
  {
   "cell_type": "code",
   "execution_count": 795,
   "metadata": {},
   "outputs": [],
   "source": [
    "A2 = knn.find_kneighbors(X[A[0][1]], True)[0]"
   ]
  },
  {
   "cell_type": "code",
   "execution_count": 796,
   "metadata": {
    "scrolled": true
   },
   "outputs": [
    {
     "data": {
      "text/plain": [
       "array([1, 1, 1, 1, 1, 0, 0, 0, 1, 0, 1, 1, 0, 0, 1, 1, 1, 0, 1, 0, 1, 1,\n",
       "       1, 1, 1, 1, 0, 0, 0, 1, 1, 0, 1, 0, 0, 1, 1])"
      ]
     },
     "execution_count": 796,
     "metadata": {},
     "output_type": "execute_result"
    }
   ],
   "source": [
    "knn.predict(X[A[0][1]])"
   ]
  },
  {
   "cell_type": "code",
   "execution_count": 199,
   "metadata": {},
   "outputs": [],
   "source": [
    "a = np.array([1, 2, 3, 4])"
   ]
  },
  {
   "cell_type": "code",
   "execution_count": 200,
   "metadata": {
    "scrolled": true
   },
   "outputs": [
    {
     "data": {
      "text/plain": [
       "array([0.99999   , 0.4999975 , 0.33333222, 0.24999938])"
      ]
     },
     "execution_count": 200,
     "metadata": {},
     "output_type": "execute_result"
    }
   ],
   "source": [
    "np.apply_along_axis(lambda x: 1. / (x + EPS), axis=0, arr=a)"
   ]
  },
  {
   "cell_type": "code",
   "execution_count": 491,
   "metadata": {},
   "outputs": [],
   "source": [
    "rows = np.zeros((10, 10), dtype=int)"
   ]
  },
  {
   "cell_type": "code",
   "execution_count": 492,
   "metadata": {},
   "outputs": [],
   "source": [
    "rows[:, :] = np.array(np.arange(10)).reshape(10, 1)"
   ]
  },
  {
   "cell_type": "code",
   "execution_count": 493,
   "metadata": {},
   "outputs": [
    {
     "data": {
      "text/plain": [
       "array([[0, 0, 0, 0, 0, 0, 0, 0, 0, 0],\n",
       "       [1, 1, 1, 1, 1, 1, 1, 1, 1, 1],\n",
       "       [2, 2, 2, 2, 2, 2, 2, 2, 2, 2],\n",
       "       [3, 3, 3, 3, 3, 3, 3, 3, 3, 3],\n",
       "       [4, 4, 4, 4, 4, 4, 4, 4, 4, 4],\n",
       "       [5, 5, 5, 5, 5, 5, 5, 5, 5, 5],\n",
       "       [6, 6, 6, 6, 6, 6, 6, 6, 6, 6],\n",
       "       [7, 7, 7, 7, 7, 7, 7, 7, 7, 7],\n",
       "       [8, 8, 8, 8, 8, 8, 8, 8, 8, 8],\n",
       "       [9, 9, 9, 9, 9, 9, 9, 9, 9, 9]])"
      ]
     },
     "execution_count": 493,
     "metadata": {},
     "output_type": "execute_result"
    }
   ],
   "source": [
    "rows"
   ]
  },
  {
   "cell_type": "code",
   "execution_count": 623,
   "metadata": {},
   "outputs": [],
   "source": [
    "C = np.array([\n",
    "    [0, 2, 1],\n",
    "    [1, 3, 1],\n",
    "    [0, 0, 0],\n",
    "    [2, 2, 1]])"
   ]
  },
  {
   "cell_type": "code",
   "execution_count": 624,
   "metadata": {},
   "outputs": [],
   "source": [
    "D = np.array([\n",
    "    [0.2, 0.3, 0.4],\n",
    "    [0.1, 0.35, 0.18],\n",
    "    [0.5, 0.6, 0.9],\n",
    "    [2.1, 3.2, 3.1]\n",
    "])"
   ]
  },
  {
   "cell_type": "code",
   "execution_count": 625,
   "metadata": {},
   "outputs": [
    {
     "data": {
      "text/plain": [
       "array([1, 3, 0, 2])"
      ]
     },
     "execution_count": 625,
     "metadata": {},
     "output_type": "execute_result"
    }
   ],
   "source": [
    "np.argmax(np.sum((C[:,:,np.newaxis] == np.arange(4)[np.newaxis, np.newaxis, :]).astype(int) * D[:,:,np.newaxis], axis=1), axis=1)"
   ]
  },
  {
   "cell_type": "code",
   "execution_count": 572,
   "metadata": {},
   "outputs": [],
   "source": [
    "y = np.array([1, 0, 1, 1, 0, 2, 2, 1])"
   ]
  },
  {
   "cell_type": "code",
   "execution_count": 573,
   "metadata": {},
   "outputs": [],
   "source": [
    "neibors = np.array([[3, 2],\n",
    "                    [4, 6],\n",
    "                    [7, 0],\n",
    "                    [1, 5]])"
   ]
  },
  {
   "cell_type": "code",
   "execution_count": 574,
   "metadata": {},
   "outputs": [
    {
     "data": {
      "text/plain": [
       "array([[1, 1],\n",
       "       [0, 2],\n",
       "       [1, 1],\n",
       "       [0, 2]])"
      ]
     },
     "execution_count": 574,
     "metadata": {},
     "output_type": "execute_result"
    }
   ],
   "source": [
    "y[neibors]"
   ]
  },
  {
   "cell_type": "code",
   "execution_count": null,
   "metadata": {},
   "outputs": [],
   "source": []
  }
 ],
 "metadata": {
  "kernelspec": {
   "display_name": "Python 3",
   "language": "python",
   "name": "python3"
  },
  "language_info": {
   "codemirror_mode": {
    "name": "ipython",
    "version": 3
   },
   "file_extension": ".py",
   "mimetype": "text/x-python",
   "name": "python",
   "nbconvert_exporter": "python",
   "pygments_lexer": "ipython3",
   "version": "3.7.3"
  }
 },
 "nbformat": 4,
 "nbformat_minor": 2
}
