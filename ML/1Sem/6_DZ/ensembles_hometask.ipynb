{
 "cells": [
  {
   "cell_type": "markdown",
   "metadata": {},
   "source": [
    "# Ансамбли\n",
    "\n",
    "### OzonMasters, \"Машинное обучение 1\"\n",
    "\n",
    "В этом ноутбуке вам предлагается реализовать алгоритмы бустинга и бэггинга."
   ]
  },
  {
   "cell_type": "code",
   "execution_count": 1,
   "metadata": {},
   "outputs": [],
   "source": [
    "import numpy as np\n",
    "import numpy.testing as npt\n",
    "from sklearn.tree import DecisionTreeClassifier, DecisionTreeRegressor\n",
    "from sklearn.datasets import make_classification"
   ]
  },
  {
   "cell_type": "markdown",
   "metadata": {},
   "source": [
    "## 1. Сэмплирование случайных объектов и признаков\n",
    "\n",
    "Во многих ансамблевых алгоритмах используется прием, заключающийся в обучении на случайной подвыборке объектов или на случайном подмножестве признаков.\n",
    "\n",
    "Так что для начала реализуем класс, который будет упрощать семплирование различных подмассивов данных\n",
    "\n",
    "В классе `ObjectSampler` надо реализовать метод `sample`, который возвращает случайную подвыборку объектов обучения и ответы для них"
   ]
  },
  {
   "cell_type": "code",
   "execution_count": 2,
   "metadata": {},
   "outputs": [],
   "source": [
    "class BaseSampler:\n",
    "    def __init__(self, max_samples=1.0, bootstrap=False):\n",
    "        \"\"\"\n",
    "        Parameters\n",
    "        ----------\n",
    "        bootstrap : Boolean\n",
    "            if True then use bootstrap sampling\n",
    "        max_samples : float in [0;1]\n",
    "            proportion of sampled examples\n",
    "        \"\"\"\n",
    "        self.bootstrap = bootstrap\n",
    "        self.max_samples = max_samples\n",
    "    \n",
    "    def sample(self, x):\n",
    "        raise NotImplementedError\n",
    "\n",
    "class ObjectSampler(BaseSampler):\n",
    "    def __init__(self, axis=0, max_samples=1.0, bootstrap=True):\n",
    "        \"\"\"\n",
    "        Parameters\n",
    "        ----------\n",
    "        axis : int\n",
    "            which axis use to sample\n",
    "        \"\"\"\n",
    "        self.axis = axis\n",
    "        super().__init__(max_samples=max_samples, bootstrap=bootstrap)\n",
    "    \n",
    "    def sample(self, x, y):\n",
    "        \"\"\"\n",
    "        Parameters\n",
    "        ----------\n",
    "        x : numpy ndarray of shape (n_objects, n_features)\n",
    "        y : numpy ndarray of shape (n_objects,)\n",
    "        \n",
    "        Returns\n",
    "        -------\n",
    "        x_sampled, y_sampled : numpy ndarrays of shape (n_samples, n_features) and (n_samples,)\n",
    "            n_samples = x_sampled.shape[0] * self.max_samples\n",
    "        \"\"\"\n",
    "        idx = np.random.choice(x.shape[0], int(x.shape[0] * self.max_samples), self.bootstrap)\n",
    "        x_sampled = x[idx]\n",
    "        y_sampled = y[idx]\n",
    "        return x_sampled, y_sampled"
   ]
  },
  {
   "cell_type": "markdown",
   "metadata": {},
   "source": [
    "В классе `FeaturesSampler` надо реализовать метод `sample`, который возвращает случайную подвыборку индексов признаков, по которым будет производится обучение"
   ]
  },
  {
   "cell_type": "code",
   "execution_count": 3,
   "metadata": {},
   "outputs": [],
   "source": [
    "class FeaturesSampler(BaseSampler):\n",
    "    def __init__(self, axis=1, max_samples=1.0, bootstrap=False):\n",
    "        self.axis = axis\n",
    "        super().__init__(max_samples=max_samples, bootstrap=bootstrap)\n",
    "        \n",
    "    def sample(self, x):\n",
    "        \"\"\"\n",
    "        Parameters\n",
    "        ----------\n",
    "        x : numpy ndarray of shape (n_objects, n_features)\n",
    "        \n",
    "        Returns\n",
    "        -------\n",
    "        indices : numpy ndarrays of shape (n_features_sampled)\n",
    "        \"\"\"\n",
    "        indices = np.random.choice(x.shape[1], int(x.shape[1] * self.max_samples), self.bootstrap)\n",
    "        return indices"
   ]
  },
  {
   "cell_type": "code",
   "execution_count": 4,
   "metadata": {},
   "outputs": [],
   "source": [
    "some_X = np.array([[0, 1, 2], [0.3, 1, 3], [0.5, 1, 3], [1, 2, 1]])\n",
    "some_y = np.array([1, 5, 3, 1])\n",
    "\n",
    "object_sampler = ObjectSampler(max_samples=0.7)\n",
    "feature_sampler = FeaturesSampler(max_samples=0.7)\n",
    "\n",
    "assert object_sampler.sample(some_X, some_y)[0].shape == (int(0.7*some_X.shape[0]), some_X.shape[1])\n",
    "assert object_sampler.sample(some_X, some_y)[1].shape == (int(0.7*some_y.shape[0]),)\n",
    "\n",
    "sample_X, sample_y = object_sampler.sample(some_X, some_y)\n",
    "\n",
    "for sub_x, sub_y in zip(sample_X, sample_y):\n",
    "    assert sub_x.tolist() in some_X.tolist()\n",
    "    assert sub_y in sample_y\n",
    "\n",
    "assert feature_sampler.sample(some_X).shape == (int(0.7*some_X.shape[1]),)"
   ]
  },
  {
   "cell_type": "markdown",
   "metadata": {},
   "source": [
    "## 2. Бэггинг\n",
    "\n",
    "Суть бэггинга заключается в обучении нескольких 'слабых' базовых моделей и объединении их в одну модель, обладающую бОльшей обобщающей способностью. Каждая базовая модель обучается на случайно выбранном подмножестве объектов и на случайно выбранном подмножестве признаков для этих объектов.\n",
    "\n",
    "Ниже вам предлагается реализовать несколько методов класса `Bagger`:\n",
    "* `fit` - обучение базовых моделей\n",
    "* `predict_proba` - вычисление вероятностей ответов\n",
    "* `predict` - вычисление ответов"
   ]
  },
  {
   "cell_type": "code",
   "execution_count": 5,
   "metadata": {},
   "outputs": [],
   "source": [
    "class Bagger:\n",
    "    def __init__(\n",
    "        self, base_estimator,\n",
    "        object_sampler, feature_sampler,\n",
    "        n_estimators=10, **params\n",
    "    ):\n",
    "        \"\"\"\n",
    "        n_estimators : int\n",
    "            number of base estimators\n",
    "        base_estimator : class\n",
    "            class for base_estimator with fit(), predict() and predict_proba() methods\n",
    "        feature_sampler : instance of FeaturesSampler\n",
    "        object_sampler : instance of ObjectSampler\n",
    "        estimators : list\n",
    "            list for containing base_estimator instances\n",
    "        indices : list\n",
    "            list for containing feature indices for each estimator\n",
    "        params : kwargs\n",
    "            params for base_estimator initialization\n",
    "        \"\"\"\n",
    "        self.n_estimators = n_estimators\n",
    "        self.base_estimator = base_estimator\n",
    "        self.feature_sampler = feature_sampler\n",
    "        self.object_sampler = object_sampler\n",
    "        self.estimators = []\n",
    "        self.indices = []\n",
    "        self.params = params\n",
    "    \n",
    "    def fit(self, X, y):\n",
    "        \"\"\"\n",
    "        for i in range(self.n_estimators):\n",
    "            1) select random indices of features for current estimator\n",
    "            2) select random objects and answers for train\n",
    "            3) fit base_estimator (don't forget to remain only selected features)\n",
    "            4) save base_estimator (self.estimators) and feature indices (self.indices)\n",
    "        \n",
    "        NOTE that self.base_estimator is class and you should init it with\n",
    "        self.base_estimator(**self.params) before fitting\n",
    "        \"\"\"\n",
    "        for i in range(self.n_estimators):\n",
    "            features = self.feature_sampler.sample(X)\n",
    "            X_samples, y_samples = self.object_sampler.sample(X, y)\n",
    "            estimator = self.base_estimator(**self.params)\n",
    "            estimator.fit(X_samples[:, features], y_samples)\n",
    "            self.estimators.append(estimator)\n",
    "            self.indices.append(features)\n",
    "    \n",
    "    def predict_proba(self, X):\n",
    "        \"\"\"\n",
    "        Returns\n",
    "        -------\n",
    "        probas : numpy ndarrays of shape (n_objects, n_classes)\n",
    "        \n",
    "        Calculate mean value of all probas from base_estimators\n",
    "        Don't forget, that each estimator has its own feature indices for prediction\n",
    "        \"\"\"\n",
    "        probas = self.estimators[0].predict_proba(X[:, self.indices[0]])\n",
    "        for i in range(1, self.n_estimators):\n",
    "            probas += self.estimators[i].predict_proba(X[:, self.indices[i]])\n",
    "        return np.array(probas) / self.n_estimators\n",
    "    \n",
    "    def predict(self, X):\n",
    "        \"\"\"\n",
    "        Returns\n",
    "        -------\n",
    "        predictions : numpy ndarrays of shape (n_objects, )\n",
    "        \n",
    "        \"\"\"\n",
    "        predictions = np.argmax(self.predict_proba(X), axis=1)\n",
    "        return predictions"
   ]
  },
  {
   "cell_type": "markdown",
   "metadata": {},
   "source": [
    "Для проверки, обучим бэггинг над решающими деревьями (случайный лес)"
   ]
  },
  {
   "cell_type": "code",
   "execution_count": 6,
   "metadata": {},
   "outputs": [],
   "source": [
    "class RandomForestClassifier(Bagger):\n",
    "    def __init__(self, n_estimators=30, max_depth=None, min_samples_leaf=1):\n",
    "        base_estimator = DecisionTreeClassifier\n",
    "        objects_sampler = ObjectSampler(max_samples=0.9)\n",
    "        features_sampler = FeaturesSampler(max_samples=0.8)\n",
    "        \n",
    "        super().__init__(\n",
    "            base_estimator=base_estimator,\n",
    "            object_sampler=object_sampler,\n",
    "            feature_sampler=feature_sampler,\n",
    "            n_estimators=n_estimators,\n",
    "            max_depth=max_depth,\n",
    "            min_samples_leaf=min_samples_leaf\n",
    "        )"
   ]
  },
  {
   "cell_type": "code",
   "execution_count": 7,
   "metadata": {},
   "outputs": [],
   "source": [
    "some_random_forest = RandomForestClassifier()\n",
    "\n",
    "some_X, some_y = make_classification(n_samples=30, n_features=50,\n",
    "                                     n_informative=50, n_redundant=0,\n",
    "                                     random_state=0, shuffle=False)\n",
    "\n",
    "some_random_forest.fit(some_X, some_y)\n",
    "predictions = some_random_forest.predict(some_X)\n",
    "assert isinstance(predictions, type(np.zeros(0)))\n",
    "npt.assert_equal(predictions, some_y)"
   ]
  },
  {
   "cell_type": "markdown",
   "metadata": {},
   "source": [
    "## 3. Градиентный бустинг\n",
    "\n",
    "Бустинг последовательно обучает набор базовых моделей таким образом, что каждая следующая модель пытается исправить ошибки работы предыдущей модели. Логика того, как учитываются ошибки предыдущей модели может быть разной. В алгоритме градиентного бустинга каждая следующая модель обучается на \"невязках\" предыдущей модели, минимизируя итоговую функцию потерь. У каждого следующего алгоритма вычисляется вес $\\alpha$, с которым он входит в ансамбль. Также есть параметр скорости обучения (learning rate), который не позволяет алгоритму переобучитсья. Вес $\\alpha$ можно находить, используя одномерную оптимизацию. Можно записать процедуру обучения по шагам (будем рассматривать случай бинарной классификации c метками классов {0,1}, чтобы не усложнять жизнь):\n",
    "1. Настройка базового алгоритма $b_0$.\n",
    "    \n",
    "    Алгоритм настраиваются на $y$ с помощью функции MSE.\n",
    "    \n",
    "    \n",
    "2. Будем обозначать текущий небазовый алгоритм - $a$:\n",
    "    \n",
    "    $$a_i(x) = \\sum_{j=0}^i \\alpha_j b_j(x) $$\n",
    "    \n",
    "3. Настройка базового алгоритма $b_i$ (обычно это регрессионное дерево):\n",
    "    \n",
    "    $$b_i = \\arg \\min_b \\sum_{j=1}^l (b(x_j) + \\nabla L(a_{i-1}(x_j), y))^2,$$\n",
    "    т.е. выход очередного базового алгоритма подстраивается под антиградиент функции потерь\n",
    "    \n",
    "4. Настройка веса базового алгоритма $\\alpha_i$:\n",
    "    \n",
    "    $$\\alpha_i = \\min_{\\alpha > 0} \\sum_{j=1}^l L(a_{i-1} + \\alpha b_i(x_j), y) $$\n",
    "    \n",
    "В случае классфикации будем использовать логистическую функцию потерь. Немного упростим ее:\n",
    "\n",
    "$$L = -y\\log\\sigma(a) - (1-y)\\log(1 - \\sigma(a)) = -\\log(1 - \\sigma(a)) - y \\log \\frac{\\sigma(a)}{1 - \\sigma(a)},$$\n",
    "где $\\sigma$ - функция сигмоиды. Ответ после очередного базового алгоритма надо прогонять через сигмоиду, т.к. не гарантируется, что ответы будут лежать на [0,1] - в этом особенность базового алгоритма (который является регрессионным).\n",
    "\n",
    "Преобразуем:\n",
    "$$\\log (1 - \\sigma(a)) = \\log \\frac{1}{1 + \\exp(a)} = -\\log(1 + \\exp(a)) $$\n",
    "\n",
    "$$\\log (\\frac{\\sigma(a)}{1 - \\sigma(a)}) = \\log(\\exp(a)) = a $$\n",
    " \n",
    "Таким образом:\n",
    "\n",
    "$$L = -ya + \\log(1 + \\exp(a))$$\n",
    "\n",
    "Тогда будем вычислять градиент как:\n",
    " \n",
    "$$\\nabla L = - y + \\sigma(a)$$\n",
    "\n",
    "Ниже вам предлагается реализовать стратегию обучения базовых классификаторов для `GradientBoostingClassifier`:\n",
    "* `_fit_first_estimator` - обучение первой базовой модели\n",
    "* `_fit_base_estimator` - обучение базовой модели\n",
    "* `log_loss_gradient` - расчет градиента функции ошибки\n",
    "* `log_loss` - расчет функции ошибки (для одномерной оптимизации)\n",
    "\n",
    "А также метод `predict_proba` для класса `BoosterClassifier`."
   ]
  },
  {
   "cell_type": "code",
   "execution_count": 8,
   "metadata": {},
   "outputs": [],
   "source": [
    "from scipy.special import expit\n",
    "from sklearn.tree import DecisionTreeRegressor\n",
    "from scipy.optimize import shgo"
   ]
  },
  {
   "cell_type": "code",
   "execution_count": 44,
   "metadata": {},
   "outputs": [],
   "source": [
    "class BoosterClassifier:\n",
    "    last_indices = []\n",
    "    last_estimators = []\n",
    "    last_weights = []\n",
    "\n",
    "    def __init__(\n",
    "        self, base_estimator, feature_sampler,\n",
    "        n_estimators=10, warm_start=False, lr=.5, **params\n",
    "    ):\n",
    "        \"\"\"\n",
    "        n_estimators : int\n",
    "            number of base estimators\n",
    "        base_estimator : class\n",
    "            class for base_estimator with fit(), predict() and predict_proba() methods\n",
    "        feature_sampler : instance of FeaturesSampler\n",
    "        estimators : list\n",
    "            list for containing base_estimator instances\n",
    "        indices : list\n",
    "            list for containing feature indices for each estimator\n",
    "        weights : list\n",
    "            list for containing estimators weights\n",
    "        lr : float\n",
    "            learning rate for estimators\n",
    "        params : kwargs\n",
    "            kwargs for base_estimator init\n",
    "        \"\"\"\n",
    "        self.n_estimators = n_estimators\n",
    "        self.base_estimator = base_estimator\n",
    "        self.feature_sampler = feature_sampler\n",
    "        self.estimators = []\n",
    "        self.indices = []\n",
    "        self.lr = lr\n",
    "        self.params = params\n",
    "        self.weights = []\n",
    "        self.warm_start = warm_start\n",
    "\n",
    "    @classmethod\n",
    "    def update_all(cls, indices, estimators, weights):\n",
    "        cls.last_indices = indices\n",
    "        cls.last_estimators = estimators\n",
    "        cls.last_weights = weights\n",
    "    \n",
    "    def _fit_first_estimator(self, X, y):\n",
    "        raise NotImplementedError\n",
    "        \n",
    "    def _fit_base_estimator(self, X, y):\n",
    "        raise NotImplementedError\n",
    "    \n",
    "    def fit(self, X, y):\n",
    "        \"\"\"\n",
    "        X : X : numpy ndarray of shape (n_objects, n_features)\n",
    "        y : numpy ndarray of shape (n_objects, )\n",
    "        -------\n",
    "        iteratively fits base models\n",
    "        \"\"\"\n",
    "        if self.warm_start is False or len(self.last_indices) == 0:\n",
    "            self._fit_first_estimator(X, y)\n",
    "            predictions_base = self.estimators[-1].predict(np.take(X, self.indices[-1], axis=1)) * self.weights[0]\n",
    "            for i in range(self.n_estimators - 1):\n",
    "                predictions_base = self._fit_base_estimator(X, y, predictions_base)\n",
    "        else:\n",
    "            self.estimators = self.last_estimators\n",
    "            self.indices = self.last_indices\n",
    "            self.weights = self.last_weights\n",
    "            predictions_base = self.estimators[0].predict(X[:, self.indices[0]]) * self.weights[0]\n",
    "            k = len(self.estimators)\n",
    "            for i in range(1, k):\n",
    "                predictions_base += self.estimators[i].predict(X[:, self.indices[i]]) * self.weights[i]\n",
    "            for i in range(k, self.n_estimators):\n",
    "                predictions_base = self._fit_base_estimator(X, y, predictions_base)\n",
    "        self.update_all(self.indices, self.estimators, self.weights)\n",
    "\n",
    "    def predict_proba(self, X):\n",
    "        \"\"\"\n",
    "        Returns\n",
    "        -------\n",
    "        probas : numpy ndarray of shape (n_objects, )\n",
    "            predictions for one class\n",
    "        -------\n",
    "        1) get predictions by first model (self.estimators[0])\n",
    "        2) for each estimator in self.estimators[1:] (and its indicies and weights):\n",
    "            update predictions\n",
    "        3) turn into probability distribution with sigmoid function\n",
    "        \"\"\"\n",
    "        probas = self.estimators[0].predict(X[:, self.indices[0]]) * self.weights[0]\n",
    "        for i in range(1, self.n_estimators):\n",
    "            probas += self.estimators[i].predict(X[:, self.indices[i]]) * self.weights[i]\n",
    "        probas = expit(probas)\n",
    "        return probas\n",
    "    \n",
    "    def predict(self, X):\n",
    "        probas = self.predict_proba(X)\n",
    "        return (probas > 0.5).astype(int)"
   ]
  },
  {
   "cell_type": "code",
   "execution_count": 45,
   "metadata": {},
   "outputs": [],
   "source": [
    "class GradientBoostingClassifier(BoosterClassifier):\n",
    "    def __init__(self, n_estimators=30, lr=0.5, max_depth=2, min_samples_leaf=1, warm_start=False):\n",
    "        \"\"\"\n",
    "        n_estimators : int\n",
    "            number of base estimators\n",
    "        base_estimator : class\n",
    "            class for base_estimator with fit(), predict() and predict_proba() methods\n",
    "        feature_sampler : instance of FeaturesSampler\n",
    "        estimators : list\n",
    "            list for containing base_estimator instances\n",
    "        indices : list\n",
    "            list for containing feature indices for each estimator\n",
    "        lr : float\n",
    "            learning rate for estimators\n",
    "        params : kwargs\n",
    "            kwargs for base_estimator init\n",
    "        \"\"\"\n",
    "        \n",
    "        base_estimator = DecisionTreeRegressor\n",
    "        feature_sampler = FeaturesSampler(max_samples=0.8)\n",
    "        super().__init__(\n",
    "            base_estimator=base_estimator,\n",
    "            feature_sampler=feature_sampler,\n",
    "            n_estimators=n_estimators,\n",
    "            lr=lr,\n",
    "            max_depth=max_depth,\n",
    "            min_samples_leaf=min_samples_leaf,\n",
    "            warm_start=warm_start\n",
    "        )\n",
    "\n",
    "    def log_loss_gradient(self, y, pred):\n",
    "        \"\"\"\n",
    "        Returns\n",
    "        -------\n",
    "        gradient : numpy ndarrays of shape (n_objects, )\n",
    "        \"\"\"\n",
    "        gradient = y - expit(pred)\n",
    "        return gradient\n",
    "    \n",
    "    def log_loss(self, y, pred):\n",
    "        \"\"\"\n",
    "        Returns\n",
    "        -------\n",
    "        loss : log loss for inputs\n",
    "        \"\"\"\n",
    "        loss = np.logaddexp(0, pred) - (y * pred)\n",
    "        return loss\n",
    "    \n",
    "    def function_to_optimize(self, y, prediction_pred, prediction_est, alpha):\n",
    "        return self.log_loss(y, prediction_pred + alpha * prediction_est).sum()\n",
    "    \n",
    "    def _fit_first_estimator(self, X, y):\n",
    "        \"\"\"\n",
    "        1) select random indices of features for first estimator\n",
    "        2) fit base_estimator (don't forget to remain only selected features)\n",
    "        3) calculate optimal weight for estimator by optimization\n",
    "        4) save base_estimator (self.estimators), feature indices (self.indices) and weight (self.weights)\n",
    "        \n",
    "        NOTE that self.base_estimator is class and you should init it with\n",
    "        self.base_estimator(**self.params) before fitting\n",
    "        \"\"\"\n",
    "        feature_indices = self.feature_sampler.sample(X)\n",
    "        self.indices.append(feature_indices)\n",
    "        first_estimator = self.base_estimator(**self.params).fit(X[:, feature_indices], y)\n",
    "        self.estimators.append(first_estimator)\n",
    "        prediction = first_estimator.predict(X[:, feature_indices])\n",
    "        alpha = shgo(self.function_to_optimize,\n",
    "                      [(0.0, 1.0)],\n",
    "                      (y, 0, prediction)\n",
    "                     ).x\n",
    "        self.weights.append(alpha)\n",
    "    \n",
    "    def _fit_base_estimator(self, X, y, predictions_base):\n",
    "        \"\"\"\n",
    "        X : numpy ndarrays of shape (n_objects, n_features)\n",
    "        y : numpy ndarrays of shape (n_objects, )\n",
    "        predictions_base : numpy ndarrays of shape (n_objects, n_classes)\n",
    "            updated predictions from previous step\n",
    "        -------\n",
    "        Returns\n",
    "        -------\n",
    "        y_updated : numpy ndarrays of shape (n_objects, n_classes)\n",
    "            updated predictions\n",
    "        -------\n",
    "        \n",
    "        1) calculate gradient\n",
    "        2) select random indices of features for current estimator\n",
    "        3) fit estimator with predictions_base as target\n",
    "        4) calculate optimal weight for estimator by optimization\n",
    "        5) calculate y_updated\n",
    "        6) save estimator, indicies and weights\n",
    "        \n",
    "        NOTE that self.base_estimator is class and you should init it with\n",
    "        self.base_estimator(**self.params) before fitting\n",
    "        \"\"\"\n",
    "        grad = self.log_loss_gradient(y, predictions_base)\n",
    "        feature_indices = self.feature_sampler.sample(X)\n",
    "        estimator = self.base_estimator(**self.params).fit(X[:, feature_indices], grad)\n",
    "        prediction = estimator.predict(X[:, feature_indices])\n",
    "        alpha = shgo(self.function_to_optimize,\n",
    "                      [(0.0, 1.0)],\n",
    "                      (y, predictions_base, prediction)\n",
    "                     ).x\n",
    "        y_updated = predictions_base + alpha * prediction\n",
    "        self.indices.append(feature_indices)\n",
    "        self.estimators.append(estimator)\n",
    "        self.weights.append(alpha)\n",
    "        return y_updated"
   ]
  },
  {
   "cell_type": "code",
   "execution_count": 41,
   "metadata": {},
   "outputs": [],
   "source": [
    "some_gradient_classifier = GradientBoostingClassifier()\n",
    "some_gradient_classifier.fit(some_X, some_y)\n",
    "predictions = some_gradient_classifier.predict(some_X)\n",
    "assert isinstance(predictions, type(np.zeros(0)))\n",
    "npt.assert_equal(predictions, some_y)"
   ]
  },
  {
   "cell_type": "markdown",
   "metadata": {},
   "source": [
    "## Эксперименты\n",
    "\n",
    "Скачайте датасейт для экспериментов: https://www.kaggle.com/jsphyg/weather-dataset-rattle-package\n",
    "\n",
    "Колонка с ответами - RainTommorow."
   ]
  },
  {
   "cell_type": "code",
   "execution_count": 12,
   "metadata": {},
   "outputs": [],
   "source": [
    "import pandas as pd"
   ]
  },
  {
   "cell_type": "code",
   "execution_count": 13,
   "metadata": {},
   "outputs": [],
   "source": [
    "data = pd.read_csv('weatherAUS.csv')"
   ]
  },
  {
   "cell_type": "code",
   "execution_count": 14,
   "metadata": {},
   "outputs": [],
   "source": [
    "data['Date'] = pd.to_datetime(data['Date'])"
   ]
  },
  {
   "cell_type": "markdown",
   "metadata": {},
   "source": [
    "Выделите признаки год/месяц/день:"
   ]
  },
  {
   "cell_type": "code",
   "execution_count": 15,
   "metadata": {},
   "outputs": [],
   "source": [
    "data['year'] = data['Date'].map(lambda x: x.year)\n",
    "data['month'] = data['Date'].map(lambda x: x.month)\n",
    "data['day'] = data['Date'].map(lambda x: x.day)"
   ]
  },
  {
   "cell_type": "markdown",
   "metadata": {},
   "source": [
    "Посмотрим какие года есть в выборке:"
   ]
  },
  {
   "cell_type": "code",
   "execution_count": 16,
   "metadata": {
    "scrolled": true
   },
   "outputs": [
    {
     "data": {
      "text/plain": [
       "2016    17508\n",
       "2014    17400\n",
       "2015    17231\n",
       "2009    16595\n",
       "2010    16419\n",
       "2013    16097\n",
       "2011    15126\n",
       "2012    15044\n",
       "2017     8466\n",
       "2008     2246\n",
       "2007       61\n",
       "Name: year, dtype: int64"
      ]
     },
     "execution_count": 16,
     "metadata": {},
     "output_type": "execute_result"
    }
   ],
   "source": [
    "data['year'].value_counts()"
   ]
  },
  {
   "cell_type": "markdown",
   "metadata": {},
   "source": [
    "Разделите выборку на три части (train, val и test) по временному принципу:\n",
    "    \n",
    "* train - 2007-2014\n",
    "* val - 2015\n",
    "* test - 2016-2017"
   ]
  },
  {
   "cell_type": "code",
   "execution_count": 17,
   "metadata": {},
   "outputs": [],
   "source": [
    "data['year'] = data['year'].astype(int)\n",
    "\n",
    "indexes = {\n",
    "    'train': np.array(data.loc[data['year'] < 2015].index),\n",
    "    'val': np.array(data.loc[data['year'] == 2015].index),\n",
    "    'test': np.array(data.loc[data['year'] > 2015].index)\n",
    "}"
   ]
  },
  {
   "cell_type": "markdown",
   "metadata": {},
   "source": [
    "Здесь вы можете делать всевозможные преобразования признаков. \n",
    "\n",
    "Для того, чтобы получить качество, необходимое для преодоления бейзлайна, вам достаточно закодировать все категориальные признаки с помощью LabelEncoder, а также разумно обработать пропущенные значения."
   ]
  },
  {
   "cell_type": "code",
   "execution_count": 18,
   "metadata": {},
   "outputs": [],
   "source": [
    "data.drop(['Date'], axis=1, inplace=True)"
   ]
  },
  {
   "cell_type": "markdown",
   "metadata": {},
   "source": [
    "Ваш таргет - RainTommorow. Удалите его из обучающих данных, также удалите признак RISK_MM."
   ]
  },
  {
   "cell_type": "code",
   "execution_count": 19,
   "metadata": {},
   "outputs": [],
   "source": [
    "target_data = data['RainTomorrow']\n",
    "data.drop(['RainTomorrow', 'RISK_MM'], axis=1, inplace=True)"
   ]
  },
  {
   "cell_type": "markdown",
   "metadata": {},
   "source": [
    "Для каждого из алгоритмов достигнутое качество должно быть: \n",
    "* RandomForest > 0.84\n",
    "* GradientBoosting > 0.845\n",
    "\n",
    "Для алгоритма AdaBoost, который предлагается реализовать в бонусной части, качество должно быть:\n",
    "* AdaBoost > 0.83\n",
    "\n",
    "Обучите каждый из алгоритмов до нужного качества, используйте валидационную выборку, чтобы подбирать гиперпараметры. Получите качество (accuracy) выше необходимого и на validation, и на test."
   ]
  },
  {
   "cell_type": "code",
   "execution_count": 20,
   "metadata": {
    "scrolled": true
   },
   "outputs": [
    {
     "data": {
      "text/html": [
       "<div>\n",
       "<style scoped>\n",
       "    .dataframe tbody tr th:only-of-type {\n",
       "        vertical-align: middle;\n",
       "    }\n",
       "\n",
       "    .dataframe tbody tr th {\n",
       "        vertical-align: top;\n",
       "    }\n",
       "\n",
       "    .dataframe thead th {\n",
       "        text-align: right;\n",
       "    }\n",
       "</style>\n",
       "<table border=\"1\" class=\"dataframe\">\n",
       "  <thead>\n",
       "    <tr style=\"text-align: right;\">\n",
       "      <th></th>\n",
       "      <th>Location</th>\n",
       "      <th>MinTemp</th>\n",
       "      <th>MaxTemp</th>\n",
       "      <th>Rainfall</th>\n",
       "      <th>Evaporation</th>\n",
       "      <th>Sunshine</th>\n",
       "      <th>WindGustDir</th>\n",
       "      <th>WindGustSpeed</th>\n",
       "      <th>WindDir9am</th>\n",
       "      <th>WindDir3pm</th>\n",
       "      <th>...</th>\n",
       "      <th>Pressure9am</th>\n",
       "      <th>Pressure3pm</th>\n",
       "      <th>Cloud9am</th>\n",
       "      <th>Cloud3pm</th>\n",
       "      <th>Temp9am</th>\n",
       "      <th>Temp3pm</th>\n",
       "      <th>RainToday</th>\n",
       "      <th>year</th>\n",
       "      <th>month</th>\n",
       "      <th>day</th>\n",
       "    </tr>\n",
       "  </thead>\n",
       "  <tbody>\n",
       "    <tr>\n",
       "      <th>0</th>\n",
       "      <td>Albury</td>\n",
       "      <td>13.4</td>\n",
       "      <td>22.9</td>\n",
       "      <td>0.6</td>\n",
       "      <td>NaN</td>\n",
       "      <td>NaN</td>\n",
       "      <td>W</td>\n",
       "      <td>44.0</td>\n",
       "      <td>W</td>\n",
       "      <td>WNW</td>\n",
       "      <td>...</td>\n",
       "      <td>1007.7</td>\n",
       "      <td>1007.1</td>\n",
       "      <td>8.0</td>\n",
       "      <td>NaN</td>\n",
       "      <td>16.9</td>\n",
       "      <td>21.8</td>\n",
       "      <td>No</td>\n",
       "      <td>2008</td>\n",
       "      <td>12</td>\n",
       "      <td>1</td>\n",
       "    </tr>\n",
       "    <tr>\n",
       "      <th>1</th>\n",
       "      <td>Albury</td>\n",
       "      <td>7.4</td>\n",
       "      <td>25.1</td>\n",
       "      <td>0.0</td>\n",
       "      <td>NaN</td>\n",
       "      <td>NaN</td>\n",
       "      <td>WNW</td>\n",
       "      <td>44.0</td>\n",
       "      <td>NNW</td>\n",
       "      <td>WSW</td>\n",
       "      <td>...</td>\n",
       "      <td>1010.6</td>\n",
       "      <td>1007.8</td>\n",
       "      <td>NaN</td>\n",
       "      <td>NaN</td>\n",
       "      <td>17.2</td>\n",
       "      <td>24.3</td>\n",
       "      <td>No</td>\n",
       "      <td>2008</td>\n",
       "      <td>12</td>\n",
       "      <td>2</td>\n",
       "    </tr>\n",
       "    <tr>\n",
       "      <th>2</th>\n",
       "      <td>Albury</td>\n",
       "      <td>12.9</td>\n",
       "      <td>25.7</td>\n",
       "      <td>0.0</td>\n",
       "      <td>NaN</td>\n",
       "      <td>NaN</td>\n",
       "      <td>WSW</td>\n",
       "      <td>46.0</td>\n",
       "      <td>W</td>\n",
       "      <td>WSW</td>\n",
       "      <td>...</td>\n",
       "      <td>1007.6</td>\n",
       "      <td>1008.7</td>\n",
       "      <td>NaN</td>\n",
       "      <td>2.0</td>\n",
       "      <td>21.0</td>\n",
       "      <td>23.2</td>\n",
       "      <td>No</td>\n",
       "      <td>2008</td>\n",
       "      <td>12</td>\n",
       "      <td>3</td>\n",
       "    </tr>\n",
       "    <tr>\n",
       "      <th>3</th>\n",
       "      <td>Albury</td>\n",
       "      <td>9.2</td>\n",
       "      <td>28.0</td>\n",
       "      <td>0.0</td>\n",
       "      <td>NaN</td>\n",
       "      <td>NaN</td>\n",
       "      <td>NE</td>\n",
       "      <td>24.0</td>\n",
       "      <td>SE</td>\n",
       "      <td>E</td>\n",
       "      <td>...</td>\n",
       "      <td>1017.6</td>\n",
       "      <td>1012.8</td>\n",
       "      <td>NaN</td>\n",
       "      <td>NaN</td>\n",
       "      <td>18.1</td>\n",
       "      <td>26.5</td>\n",
       "      <td>No</td>\n",
       "      <td>2008</td>\n",
       "      <td>12</td>\n",
       "      <td>4</td>\n",
       "    </tr>\n",
       "    <tr>\n",
       "      <th>4</th>\n",
       "      <td>Albury</td>\n",
       "      <td>17.5</td>\n",
       "      <td>32.3</td>\n",
       "      <td>1.0</td>\n",
       "      <td>NaN</td>\n",
       "      <td>NaN</td>\n",
       "      <td>W</td>\n",
       "      <td>41.0</td>\n",
       "      <td>ENE</td>\n",
       "      <td>NW</td>\n",
       "      <td>...</td>\n",
       "      <td>1010.8</td>\n",
       "      <td>1006.0</td>\n",
       "      <td>7.0</td>\n",
       "      <td>8.0</td>\n",
       "      <td>17.8</td>\n",
       "      <td>29.7</td>\n",
       "      <td>No</td>\n",
       "      <td>2008</td>\n",
       "      <td>12</td>\n",
       "      <td>5</td>\n",
       "    </tr>\n",
       "    <tr>\n",
       "      <th>...</th>\n",
       "      <td>...</td>\n",
       "      <td>...</td>\n",
       "      <td>...</td>\n",
       "      <td>...</td>\n",
       "      <td>...</td>\n",
       "      <td>...</td>\n",
       "      <td>...</td>\n",
       "      <td>...</td>\n",
       "      <td>...</td>\n",
       "      <td>...</td>\n",
       "      <td>...</td>\n",
       "      <td>...</td>\n",
       "      <td>...</td>\n",
       "      <td>...</td>\n",
       "      <td>...</td>\n",
       "      <td>...</td>\n",
       "      <td>...</td>\n",
       "      <td>...</td>\n",
       "      <td>...</td>\n",
       "      <td>...</td>\n",
       "      <td>...</td>\n",
       "    </tr>\n",
       "    <tr>\n",
       "      <th>142188</th>\n",
       "      <td>Uluru</td>\n",
       "      <td>3.5</td>\n",
       "      <td>21.8</td>\n",
       "      <td>0.0</td>\n",
       "      <td>NaN</td>\n",
       "      <td>NaN</td>\n",
       "      <td>E</td>\n",
       "      <td>31.0</td>\n",
       "      <td>ESE</td>\n",
       "      <td>E</td>\n",
       "      <td>...</td>\n",
       "      <td>1024.7</td>\n",
       "      <td>1021.2</td>\n",
       "      <td>NaN</td>\n",
       "      <td>NaN</td>\n",
       "      <td>9.4</td>\n",
       "      <td>20.9</td>\n",
       "      <td>No</td>\n",
       "      <td>2017</td>\n",
       "      <td>6</td>\n",
       "      <td>20</td>\n",
       "    </tr>\n",
       "    <tr>\n",
       "      <th>142189</th>\n",
       "      <td>Uluru</td>\n",
       "      <td>2.8</td>\n",
       "      <td>23.4</td>\n",
       "      <td>0.0</td>\n",
       "      <td>NaN</td>\n",
       "      <td>NaN</td>\n",
       "      <td>E</td>\n",
       "      <td>31.0</td>\n",
       "      <td>SE</td>\n",
       "      <td>ENE</td>\n",
       "      <td>...</td>\n",
       "      <td>1024.6</td>\n",
       "      <td>1020.3</td>\n",
       "      <td>NaN</td>\n",
       "      <td>NaN</td>\n",
       "      <td>10.1</td>\n",
       "      <td>22.4</td>\n",
       "      <td>No</td>\n",
       "      <td>2017</td>\n",
       "      <td>6</td>\n",
       "      <td>21</td>\n",
       "    </tr>\n",
       "    <tr>\n",
       "      <th>142190</th>\n",
       "      <td>Uluru</td>\n",
       "      <td>3.6</td>\n",
       "      <td>25.3</td>\n",
       "      <td>0.0</td>\n",
       "      <td>NaN</td>\n",
       "      <td>NaN</td>\n",
       "      <td>NNW</td>\n",
       "      <td>22.0</td>\n",
       "      <td>SE</td>\n",
       "      <td>N</td>\n",
       "      <td>...</td>\n",
       "      <td>1023.5</td>\n",
       "      <td>1019.1</td>\n",
       "      <td>NaN</td>\n",
       "      <td>NaN</td>\n",
       "      <td>10.9</td>\n",
       "      <td>24.5</td>\n",
       "      <td>No</td>\n",
       "      <td>2017</td>\n",
       "      <td>6</td>\n",
       "      <td>22</td>\n",
       "    </tr>\n",
       "    <tr>\n",
       "      <th>142191</th>\n",
       "      <td>Uluru</td>\n",
       "      <td>5.4</td>\n",
       "      <td>26.9</td>\n",
       "      <td>0.0</td>\n",
       "      <td>NaN</td>\n",
       "      <td>NaN</td>\n",
       "      <td>N</td>\n",
       "      <td>37.0</td>\n",
       "      <td>SE</td>\n",
       "      <td>WNW</td>\n",
       "      <td>...</td>\n",
       "      <td>1021.0</td>\n",
       "      <td>1016.8</td>\n",
       "      <td>NaN</td>\n",
       "      <td>NaN</td>\n",
       "      <td>12.5</td>\n",
       "      <td>26.1</td>\n",
       "      <td>No</td>\n",
       "      <td>2017</td>\n",
       "      <td>6</td>\n",
       "      <td>23</td>\n",
       "    </tr>\n",
       "    <tr>\n",
       "      <th>142192</th>\n",
       "      <td>Uluru</td>\n",
       "      <td>7.8</td>\n",
       "      <td>27.0</td>\n",
       "      <td>0.0</td>\n",
       "      <td>NaN</td>\n",
       "      <td>NaN</td>\n",
       "      <td>SE</td>\n",
       "      <td>28.0</td>\n",
       "      <td>SSE</td>\n",
       "      <td>N</td>\n",
       "      <td>...</td>\n",
       "      <td>1019.4</td>\n",
       "      <td>1016.5</td>\n",
       "      <td>3.0</td>\n",
       "      <td>2.0</td>\n",
       "      <td>15.1</td>\n",
       "      <td>26.0</td>\n",
       "      <td>No</td>\n",
       "      <td>2017</td>\n",
       "      <td>6</td>\n",
       "      <td>24</td>\n",
       "    </tr>\n",
       "  </tbody>\n",
       "</table>\n",
       "<p>142193 rows × 24 columns</p>\n",
       "</div>"
      ],
      "text/plain": [
       "       Location  MinTemp  MaxTemp  Rainfall  Evaporation  Sunshine  \\\n",
       "0        Albury     13.4     22.9       0.6          NaN       NaN   \n",
       "1        Albury      7.4     25.1       0.0          NaN       NaN   \n",
       "2        Albury     12.9     25.7       0.0          NaN       NaN   \n",
       "3        Albury      9.2     28.0       0.0          NaN       NaN   \n",
       "4        Albury     17.5     32.3       1.0          NaN       NaN   \n",
       "...         ...      ...      ...       ...          ...       ...   \n",
       "142188    Uluru      3.5     21.8       0.0          NaN       NaN   \n",
       "142189    Uluru      2.8     23.4       0.0          NaN       NaN   \n",
       "142190    Uluru      3.6     25.3       0.0          NaN       NaN   \n",
       "142191    Uluru      5.4     26.9       0.0          NaN       NaN   \n",
       "142192    Uluru      7.8     27.0       0.0          NaN       NaN   \n",
       "\n",
       "       WindGustDir  WindGustSpeed WindDir9am WindDir3pm  ...  Pressure9am  \\\n",
       "0                W           44.0          W        WNW  ...       1007.7   \n",
       "1              WNW           44.0        NNW        WSW  ...       1010.6   \n",
       "2              WSW           46.0          W        WSW  ...       1007.6   \n",
       "3               NE           24.0         SE          E  ...       1017.6   \n",
       "4                W           41.0        ENE         NW  ...       1010.8   \n",
       "...            ...            ...        ...        ...  ...          ...   \n",
       "142188           E           31.0        ESE          E  ...       1024.7   \n",
       "142189           E           31.0         SE        ENE  ...       1024.6   \n",
       "142190         NNW           22.0         SE          N  ...       1023.5   \n",
       "142191           N           37.0         SE        WNW  ...       1021.0   \n",
       "142192          SE           28.0        SSE          N  ...       1019.4   \n",
       "\n",
       "        Pressure3pm  Cloud9am  Cloud3pm  Temp9am  Temp3pm  RainToday  year  \\\n",
       "0            1007.1       8.0       NaN     16.9     21.8         No  2008   \n",
       "1            1007.8       NaN       NaN     17.2     24.3         No  2008   \n",
       "2            1008.7       NaN       2.0     21.0     23.2         No  2008   \n",
       "3            1012.8       NaN       NaN     18.1     26.5         No  2008   \n",
       "4            1006.0       7.0       8.0     17.8     29.7         No  2008   \n",
       "...             ...       ...       ...      ...      ...        ...   ...   \n",
       "142188       1021.2       NaN       NaN      9.4     20.9         No  2017   \n",
       "142189       1020.3       NaN       NaN     10.1     22.4         No  2017   \n",
       "142190       1019.1       NaN       NaN     10.9     24.5         No  2017   \n",
       "142191       1016.8       NaN       NaN     12.5     26.1         No  2017   \n",
       "142192       1016.5       3.0       2.0     15.1     26.0         No  2017   \n",
       "\n",
       "        month  day  \n",
       "0          12    1  \n",
       "1          12    2  \n",
       "2          12    3  \n",
       "3          12    4  \n",
       "4          12    5  \n",
       "...       ...  ...  \n",
       "142188      6   20  \n",
       "142189      6   21  \n",
       "142190      6   22  \n",
       "142191      6   23  \n",
       "142192      6   24  \n",
       "\n",
       "[142193 rows x 24 columns]"
      ]
     },
     "execution_count": 20,
     "metadata": {},
     "output_type": "execute_result"
    }
   ],
   "source": [
    "data"
   ]
  },
  {
   "cell_type": "code",
   "execution_count": 21,
   "metadata": {
    "scrolled": true
   },
   "outputs": [
    {
     "name": "stdout",
     "output_type": "stream",
     "text": [
      "<class 'pandas.core.frame.DataFrame'>\n",
      "RangeIndex: 142193 entries, 0 to 142192\n",
      "Data columns (total 24 columns):\n",
      "Location         142193 non-null object\n",
      "MinTemp          141556 non-null float64\n",
      "MaxTemp          141871 non-null float64\n",
      "Rainfall         140787 non-null float64\n",
      "Evaporation      81350 non-null float64\n",
      "Sunshine         74377 non-null float64\n",
      "WindGustDir      132863 non-null object\n",
      "WindGustSpeed    132923 non-null float64\n",
      "WindDir9am       132180 non-null object\n",
      "WindDir3pm       138415 non-null object\n",
      "WindSpeed9am     140845 non-null float64\n",
      "WindSpeed3pm     139563 non-null float64\n",
      "Humidity9am      140419 non-null float64\n",
      "Humidity3pm      138583 non-null float64\n",
      "Pressure9am      128179 non-null float64\n",
      "Pressure3pm      128212 non-null float64\n",
      "Cloud9am         88536 non-null float64\n",
      "Cloud3pm         85099 non-null float64\n",
      "Temp9am          141289 non-null float64\n",
      "Temp3pm          139467 non-null float64\n",
      "RainToday        140787 non-null object\n",
      "year             142193 non-null int64\n",
      "month            142193 non-null int64\n",
      "day              142193 non-null int64\n",
      "dtypes: float64(16), int64(3), object(5)\n",
      "memory usage: 26.0+ MB\n"
     ]
    }
   ],
   "source": [
    "data.info()"
   ]
  },
  {
   "cell_type": "code",
   "execution_count": 22,
   "metadata": {},
   "outputs": [],
   "source": [
    "numeral_features = data.select_dtypes('float64').columns\n",
    "categorial_features = data.select_dtypes('object').columns"
   ]
  },
  {
   "cell_type": "markdown",
   "metadata": {},
   "source": [
    "Заполним вещественные признаки средним"
   ]
  },
  {
   "cell_type": "code",
   "execution_count": 23,
   "metadata": {},
   "outputs": [],
   "source": [
    "for column in numeral_features:\n",
    "    data[column].fillna(data[column].mean(), inplace=True)"
   ]
  },
  {
   "cell_type": "markdown",
   "metadata": {},
   "source": [
    "Категориальные модой"
   ]
  },
  {
   "cell_type": "code",
   "execution_count": 24,
   "metadata": {},
   "outputs": [],
   "source": [
    "for column in categorial_features:\n",
    "    data[column].fillna(data[column].mode()[0], inplace=True)"
   ]
  },
  {
   "cell_type": "code",
   "execution_count": 25,
   "metadata": {},
   "outputs": [
    {
     "name": "stdout",
     "output_type": "stream",
     "text": [
      "<class 'pandas.core.frame.DataFrame'>\n",
      "RangeIndex: 142193 entries, 0 to 142192\n",
      "Data columns (total 24 columns):\n",
      "Location         142193 non-null object\n",
      "MinTemp          142193 non-null float64\n",
      "MaxTemp          142193 non-null float64\n",
      "Rainfall         142193 non-null float64\n",
      "Evaporation      142193 non-null float64\n",
      "Sunshine         142193 non-null float64\n",
      "WindGustDir      142193 non-null object\n",
      "WindGustSpeed    142193 non-null float64\n",
      "WindDir9am       142193 non-null object\n",
      "WindDir3pm       142193 non-null object\n",
      "WindSpeed9am     142193 non-null float64\n",
      "WindSpeed3pm     142193 non-null float64\n",
      "Humidity9am      142193 non-null float64\n",
      "Humidity3pm      142193 non-null float64\n",
      "Pressure9am      142193 non-null float64\n",
      "Pressure3pm      142193 non-null float64\n",
      "Cloud9am         142193 non-null float64\n",
      "Cloud3pm         142193 non-null float64\n",
      "Temp9am          142193 non-null float64\n",
      "Temp3pm          142193 non-null float64\n",
      "RainToday        142193 non-null object\n",
      "year             142193 non-null int64\n",
      "month            142193 non-null int64\n",
      "day              142193 non-null int64\n",
      "dtypes: float64(16), int64(3), object(5)\n",
      "memory usage: 26.0+ MB\n"
     ]
    }
   ],
   "source": [
    "data.info()"
   ]
  },
  {
   "cell_type": "code",
   "execution_count": 26,
   "metadata": {},
   "outputs": [],
   "source": [
    "for column in categorial_features:\n",
    "    categories = pd.get_dummies(data[column])\n",
    "    categories.columns = [column + c for c in categories.columns]\n",
    "    data = pd.concat([data, categories], axis=1, sort=False)"
   ]
  },
  {
   "cell_type": "code",
   "execution_count": 27,
   "metadata": {},
   "outputs": [],
   "source": [
    "for column in categorial_features:\n",
    "    data.drop([column], axis=1, inplace=True)"
   ]
  },
  {
   "cell_type": "code",
   "execution_count": 28,
   "metadata": {},
   "outputs": [],
   "source": [
    "X = np.array(data)"
   ]
  },
  {
   "cell_type": "code",
   "execution_count": 29,
   "metadata": {},
   "outputs": [],
   "source": [
    "X_train = X[indexes['train']]\n",
    "X_val = X[indexes['val']]\n",
    "X_test = X[indexes['test']]"
   ]
  },
  {
   "cell_type": "code",
   "execution_count": 30,
   "metadata": {},
   "outputs": [],
   "source": [
    "y = np.array(target_data == 'Yes', dtype=float)"
   ]
  },
  {
   "cell_type": "code",
   "execution_count": 31,
   "metadata": {},
   "outputs": [],
   "source": [
    "y_train = y[indexes['train']]\n",
    "y_val = y[indexes['val']]\n",
    "y_test = y[indexes['test']]"
   ]
  },
  {
   "cell_type": "code",
   "execution_count": 32,
   "metadata": {},
   "outputs": [],
   "source": [
    "def accuracy(y_true, y_pred):\n",
    "    assert y_true.shape[0] == y_pred.shape[0]\n",
    "    return (y_true == y_pred).sum() / y_true.shape[0]"
   ]
  },
  {
   "cell_type": "code",
   "execution_count": 135,
   "metadata": {},
   "outputs": [],
   "source": [
    "rf = RandomForestClassifier(n_estimators=100)"
   ]
  },
  {
   "cell_type": "code",
   "execution_count": 136,
   "metadata": {},
   "outputs": [],
   "source": [
    "rf.fit(X_train, y_train)"
   ]
  },
  {
   "cell_type": "code",
   "execution_count": 140,
   "metadata": {},
   "outputs": [
    {
     "data": {
      "text/plain": [
       "0.8564796007196332"
      ]
     },
     "execution_count": 140,
     "metadata": {},
     "output_type": "execute_result"
    }
   ],
   "source": [
    "accuracy(rf.predict(X_val), y_val)"
   ]
  },
  {
   "cell_type": "code",
   "execution_count": 139,
   "metadata": {},
   "outputs": [
    {
     "data": {
      "text/plain": [
       "0.8443058443058443"
      ]
     },
     "execution_count": 139,
     "metadata": {},
     "output_type": "execute_result"
    }
   ],
   "source": [
    "accuracy(rf.predict(X_test), y_test)"
   ]
  },
  {
   "cell_type": "markdown",
   "metadata": {},
   "source": [
    "Baseline пройден с первой попытки)"
   ]
  },
  {
   "cell_type": "code",
   "execution_count": 141,
   "metadata": {},
   "outputs": [],
   "source": [
    "gb = GradientBoostingClassifier(n_estimators=10)"
   ]
  },
  {
   "cell_type": "code",
   "execution_count": 142,
   "metadata": {},
   "outputs": [],
   "source": [
    "gb.fit(X_train, y_train)"
   ]
  },
  {
   "cell_type": "code",
   "execution_count": 143,
   "metadata": {},
   "outputs": [
    {
     "data": {
      "text/plain": [
       "0.8405199930358076"
      ]
     },
     "execution_count": 143,
     "metadata": {},
     "output_type": "execute_result"
    }
   ],
   "source": [
    "accuracy(gb.predict(X_val), y_val)"
   ]
  },
  {
   "cell_type": "code",
   "execution_count": 144,
   "metadata": {},
   "outputs": [
    {
     "data": {
      "text/plain": [
       "0.8295603295603295"
      ]
     },
     "execution_count": 144,
     "metadata": {},
     "output_type": "execute_result"
    }
   ],
   "source": [
    "accuracy(gb.predict(X_test), y_test)"
   ]
  },
  {
   "cell_type": "markdown",
   "metadata": {},
   "source": [
    "Подбираем n_estimators"
   ]
  },
  {
   "cell_type": "code",
   "execution_count": 148,
   "metadata": {},
   "outputs": [],
   "source": [
    "import matplotlib.pyplot as plt\n",
    "%matplotlib inline"
   ]
  },
  {
   "cell_type": "code",
   "execution_count": 160,
   "metadata": {},
   "outputs": [],
   "source": [
    "answer = {}\n",
    "answer['n'] = []\n",
    "answer['acc'] = []\n",
    "n_esters = range(50, 1000, 50)"
   ]
  },
  {
   "cell_type": "code",
   "execution_count": 168,
   "metadata": {},
   "outputs": [],
   "source": [
    "for k in n_esters:\n",
    "    gb = GradientBoostingClassifier(n_estimators=k, warm_start=True)\n",
    "    gb.fit(X_train, y_train)\n",
    "    answer['n'].append(k)\n",
    "    answer['acc'].append(accuracy(gb.predict(X_val), y_val))"
   ]
  },
  {
   "cell_type": "code",
   "execution_count": 169,
   "metadata": {},
   "outputs": [
    {
     "name": "stderr",
     "output_type": "stream",
     "text": [
      "No handles with labels found to put in legend.\n"
     ]
    },
    {
     "data": {
      "image/png": "[encoded data removed]",
      "text/plain": [
       "<Figure size 675x450 with 1 Axes>"
      ]
     },
     "metadata": {
      "needs_background": "light"
     },
     "output_type": "display_data"
    }
   ],
   "source": [
    "plt.figure(figsize=(9,6), dpi=75)\n",
    "plt.plot(answer['n'], answer['acc'])\n",
    "plt.xlabel('N_estimators')\n",
    "plt.ylabel('Accuracy')\n",
    "plt.legend()\n",
    "plt.show()"
   ]
  },
  {
   "cell_type": "code",
   "execution_count": 170,
   "metadata": {},
   "outputs": [
    {
     "data": {
      "text/plain": [
       "0.8574661946491788"
      ]
     },
     "execution_count": 170,
     "metadata": {},
     "output_type": "execute_result"
    }
   ],
   "source": [
    "accuracy(gb.predict(X_val), y_val)"
   ]
  },
  {
   "cell_type": "code",
   "execution_count": 171,
   "metadata": {
    "scrolled": true
   },
   "outputs": [
    {
     "data": {
      "text/plain": [
       "0.8479248479248479"
      ]
     },
     "execution_count": 171,
     "metadata": {},
     "output_type": "execute_result"
    }
   ],
   "source": [
    "accuracy(gb.predict(X_test), y_test)"
   ]
  },
  {
   "cell_type": "code",
   "execution_count": null,
   "metadata": {},
   "outputs": [],
   "source": []
  }
 ],
 "metadata": {
  "kernelspec": {
   "display_name": "Python 3",
   "language": "python",
   "name": "python3"
  },
  "language_info": {
   "codemirror_mode": {
    "name": "ipython",
    "version": 3
   },
   "file_extension": ".py",
   "mimetype": "text/x-python",
   "name": "python",
   "nbconvert_exporter": "python",
   "pygments_lexer": "ipython3",
   "version": "3.7.3"
  }
 },
 "nbformat": 4,
 "nbformat_minor": 2
}
